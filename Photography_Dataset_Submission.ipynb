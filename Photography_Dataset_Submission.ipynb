{
  "nbformat": 4,
  "nbformat_minor": 0,
  "metadata": {
    "colab": {
      "name": "Photography_Dataset_Submission.ipynb",
      "provenance": [],
      "collapsed_sections": [],
      "include_colab_link": true
    },
    "kernelspec": {
      "name": "python3",
      "display_name": "Python 3"
    }
  },
  "cells": [
    {
      "cell_type": "markdown",
      "metadata": {
        "id": "view-in-github",
        "colab_type": "text"
      },
      "source": [
        "<a href=\"https://colab.research.google.com/github/ilEnzio/Sexy_In_The_City/blob/master/Photography_Dataset_Submission.ipynb\" target=\"_parent\"><img src=\"https://colab.research.google.com/assets/colab-badge.svg\" alt=\"Open In Colab\"/></a>"
      ]
    },
    {
      "cell_type": "code",
      "metadata": {
        "id": "J6d2MFGvqbQT",
        "colab_type": "code",
        "colab": {}
      },
      "source": [
        "import numpy as np\n",
        "import pandas as pd\n",
        "import matplotlib.pyplot as plt"
      ],
      "execution_count": 321,
      "outputs": []
    },
    {
      "cell_type": "code",
      "metadata": {
        "id": "IvGrjFl9xS1R",
        "colab_type": "code",
        "colab": {}
      },
      "source": [
        "# parse_dates=[\"datetime\"]\n",
        "dates = [\"Date_of_PreShoot\", \"DOB\"]"
      ],
      "execution_count": 322,
      "outputs": []
    },
    {
      "cell_type": "code",
      "metadata": {
        "id": "BJoSCvk9QKd-",
        "colab_type": "code",
        "colab": {}
      },
      "source": [
        "dnd_df = pd.read_csv(\"https://raw.githubusercontent.com/ilEnzio/Sexy_In_The_City/master/DND%20data_3.csv\", parse_dates=dates)"
      ],
      "execution_count": 323,
      "outputs": []
    },
    {
      "cell_type": "code",
      "metadata": {
        "id": "NCRQR6wL2rUh",
        "colab_type": "code",
        "colab": {
          "base_uri": "https://localhost:8080/",
          "height": 269
        },
        "outputId": "d9aa7578-0f58-4217-cb51-240a63c090c4"
      },
      "source": [
        "dnd_df.info()"
      ],
      "execution_count": 324,
      "outputs": [
        {
          "output_type": "stream",
          "text": [
            "<class 'pandas.core.frame.DataFrame'>\n",
            "RangeIndex: 424 entries, 0 to 423\n",
            "Data columns (total 8 columns):\n",
            " #   Column            Non-Null Count  Dtype         \n",
            "---  ------            --------------  -----         \n",
            " 0   Date_of_PreShoot  422 non-null    datetime64[ns]\n",
            " 1   Session_Fee       422 non-null    object        \n",
            " 2   Hair              422 non-null    object        \n",
            " 3   DOB               424 non-null    object        \n",
            " 4   zip_code          422 non-null    object        \n",
            " 5   Sales_total       326 non-null    object        \n",
            " 6   Model Release     324 non-null    object        \n",
            " 7   Favorite          218 non-null    object        \n",
            "dtypes: datetime64[ns](1), object(7)\n",
            "memory usage: 26.6+ KB\n"
          ],
          "name": "stdout"
        }
      ]
    },
    {
      "cell_type": "code",
      "metadata": {
        "id": "J_4LAydk2tWP",
        "colab_type": "code",
        "colab": {}
      },
      "source": [
        ""
      ],
      "execution_count": 324,
      "outputs": []
    },
    {
      "cell_type": "code",
      "metadata": {
        "id": "zLtXhlRzrJQM",
        "colab_type": "code",
        "colab": {
          "base_uri": "https://localhost:8080/",
          "height": 34
        },
        "outputId": "32ea8bab-d870-4b53-9ef2-aac84dfbc3e5"
      },
      "source": [
        "\n",
        "dnd_df.shape"
      ],
      "execution_count": 325,
      "outputs": [
        {
          "output_type": "execute_result",
          "data": {
            "text/plain": [
              "(424, 8)"
            ]
          },
          "metadata": {
            "tags": []
          },
          "execution_count": 325
        }
      ]
    },
    {
      "cell_type": "code",
      "metadata": {
        "id": "uLtiHWjvsAWj",
        "colab_type": "code",
        "colab": {
          "base_uri": "https://localhost:8080/",
          "height": 195
        },
        "outputId": "eec6e897-0f37-4366-9fd1-147f163a5103"
      },
      "source": [
        "dnd_df.head()"
      ],
      "execution_count": 326,
      "outputs": [
        {
          "output_type": "execute_result",
          "data": {
            "text/html": [
              "<div>\n",
              "<style scoped>\n",
              "    .dataframe tbody tr th:only-of-type {\n",
              "        vertical-align: middle;\n",
              "    }\n",
              "\n",
              "    .dataframe tbody tr th {\n",
              "        vertical-align: top;\n",
              "    }\n",
              "\n",
              "    .dataframe thead th {\n",
              "        text-align: right;\n",
              "    }\n",
              "</style>\n",
              "<table border=\"1\" class=\"dataframe\">\n",
              "  <thead>\n",
              "    <tr style=\"text-align: right;\">\n",
              "      <th></th>\n",
              "      <th>Date_of_PreShoot</th>\n",
              "      <th>Session_Fee</th>\n",
              "      <th>Hair</th>\n",
              "      <th>DOB</th>\n",
              "      <th>zip_code</th>\n",
              "      <th>Sales_total</th>\n",
              "      <th>Model Release</th>\n",
              "      <th>Favorite</th>\n",
              "    </tr>\n",
              "  </thead>\n",
              "  <tbody>\n",
              "    <tr>\n",
              "      <th>0</th>\n",
              "      <td>2017-01-05</td>\n",
              "      <td>99</td>\n",
              "      <td>yes</td>\n",
              "      <td>5/5/1976</td>\n",
              "      <td>32208</td>\n",
              "      <td>600</td>\n",
              "      <td>yes</td>\n",
              "      <td>butt</td>\n",
              "    </tr>\n",
              "    <tr>\n",
              "      <th>1</th>\n",
              "      <td>2017-11-02</td>\n",
              "      <td>99</td>\n",
              "      <td>yes</td>\n",
              "      <td>10/16/1984</td>\n",
              "      <td>32082</td>\n",
              "      <td>400</td>\n",
              "      <td>no</td>\n",
              "      <td>butt, eyes</td>\n",
              "    </tr>\n",
              "    <tr>\n",
              "      <th>2</th>\n",
              "      <td>2017-06-29</td>\n",
              "      <td>99</td>\n",
              "      <td>yes</td>\n",
              "      <td>7/22/1989</td>\n",
              "      <td>32080</td>\n",
              "      <td>320</td>\n",
              "      <td>no</td>\n",
              "      <td>eyes, hair, legs</td>\n",
              "    </tr>\n",
              "    <tr>\n",
              "      <th>3</th>\n",
              "      <td>2017-01-23</td>\n",
              "      <td>99</td>\n",
              "      <td>no</td>\n",
              "      <td>1/23/1971</td>\n",
              "      <td>32208</td>\n",
              "      <td>720</td>\n",
              "      <td>yes</td>\n",
              "      <td>boobs</td>\n",
              "    </tr>\n",
              "    <tr>\n",
              "      <th>4</th>\n",
              "      <td>2014-04-25</td>\n",
              "      <td>99</td>\n",
              "      <td>yes</td>\n",
              "      <td>6/6/1994</td>\n",
              "      <td>32034</td>\n",
              "      <td>NaN</td>\n",
              "      <td>NaN</td>\n",
              "      <td>NaN</td>\n",
              "    </tr>\n",
              "  </tbody>\n",
              "</table>\n",
              "</div>"
            ],
            "text/plain": [
              "  Date_of_PreShoot Session_Fee Hair  ... Sales_total Model Release          Favorite\n",
              "0       2017-01-05          99  yes  ...         600           yes              butt\n",
              "1       2017-11-02          99  yes  ...         400            no        butt, eyes\n",
              "2       2017-06-29          99  yes  ...         320            no  eyes, hair, legs\n",
              "3       2017-01-23          99   no  ...         720           yes             boobs\n",
              "4       2014-04-25          99  yes  ...         NaN           NaN               NaN\n",
              "\n",
              "[5 rows x 8 columns]"
            ]
          },
          "metadata": {
            "tags": []
          },
          "execution_count": 326
        }
      ]
    },
    {
      "cell_type": "code",
      "metadata": {
        "id": "JYgQXk2etRsj",
        "colab_type": "code",
        "colab": {
          "base_uri": "https://localhost:8080/",
          "height": 225
        },
        "outputId": "9a8fa222-f0ef-4e11-ddb5-f34537d1eae3"
      },
      "source": [
        "dnd_df.describe()"
      ],
      "execution_count": 327,
      "outputs": [
        {
          "output_type": "execute_result",
          "data": {
            "text/html": [
              "<div>\n",
              "<style scoped>\n",
              "    .dataframe tbody tr th:only-of-type {\n",
              "        vertical-align: middle;\n",
              "    }\n",
              "\n",
              "    .dataframe tbody tr th {\n",
              "        vertical-align: top;\n",
              "    }\n",
              "\n",
              "    .dataframe thead th {\n",
              "        text-align: right;\n",
              "    }\n",
              "</style>\n",
              "<table border=\"1\" class=\"dataframe\">\n",
              "  <thead>\n",
              "    <tr style=\"text-align: right;\">\n",
              "      <th></th>\n",
              "      <th>Date_of_PreShoot</th>\n",
              "      <th>Session_Fee</th>\n",
              "      <th>Hair</th>\n",
              "      <th>DOB</th>\n",
              "      <th>zip_code</th>\n",
              "      <th>Sales_total</th>\n",
              "      <th>Model Release</th>\n",
              "      <th>Favorite</th>\n",
              "    </tr>\n",
              "  </thead>\n",
              "  <tbody>\n",
              "    <tr>\n",
              "      <th>count</th>\n",
              "      <td>422</td>\n",
              "      <td>422</td>\n",
              "      <td>422</td>\n",
              "      <td>424</td>\n",
              "      <td>422</td>\n",
              "      <td>326</td>\n",
              "      <td>324</td>\n",
              "      <td>218</td>\n",
              "    </tr>\n",
              "    <tr>\n",
              "      <th>unique</th>\n",
              "      <td>321</td>\n",
              "      <td>10</td>\n",
              "      <td>4</td>\n",
              "      <td>413</td>\n",
              "      <td>82</td>\n",
              "      <td>69</td>\n",
              "      <td>5</td>\n",
              "      <td>65</td>\n",
              "    </tr>\n",
              "    <tr>\n",
              "      <th>top</th>\n",
              "      <td>2013-12-04 00:00:00</td>\n",
              "      <td>99</td>\n",
              "      <td>no</td>\n",
              "      <td>3/27/1986</td>\n",
              "      <td>32218</td>\n",
              "      <td>600</td>\n",
              "      <td>yes</td>\n",
              "      <td>butt</td>\n",
              "    </tr>\n",
              "    <tr>\n",
              "      <th>freq</th>\n",
              "      <td>4</td>\n",
              "      <td>289</td>\n",
              "      <td>302</td>\n",
              "      <td>2</td>\n",
              "      <td>27</td>\n",
              "      <td>83</td>\n",
              "      <td>211</td>\n",
              "      <td>77</td>\n",
              "    </tr>\n",
              "    <tr>\n",
              "      <th>first</th>\n",
              "      <td>1988-12-28 00:00:00</td>\n",
              "      <td>NaN</td>\n",
              "      <td>NaN</td>\n",
              "      <td>NaN</td>\n",
              "      <td>NaN</td>\n",
              "      <td>NaN</td>\n",
              "      <td>NaN</td>\n",
              "      <td>NaN</td>\n",
              "    </tr>\n",
              "    <tr>\n",
              "      <th>last</th>\n",
              "      <td>2020-11-13 00:00:00</td>\n",
              "      <td>NaN</td>\n",
              "      <td>NaN</td>\n",
              "      <td>NaN</td>\n",
              "      <td>NaN</td>\n",
              "      <td>NaN</td>\n",
              "      <td>NaN</td>\n",
              "      <td>NaN</td>\n",
              "    </tr>\n",
              "  </tbody>\n",
              "</table>\n",
              "</div>"
            ],
            "text/plain": [
              "           Date_of_PreShoot Session_Fee Hair  ... Sales_total Model Release Favorite\n",
              "count                   422         422  422  ...         326           324      218\n",
              "unique                  321          10    4  ...          69             5       65\n",
              "top     2013-12-04 00:00:00          99   no  ...         600           yes     butt\n",
              "freq                      4         289  302  ...          83           211       77\n",
              "first   1988-12-28 00:00:00         NaN  NaN  ...         NaN           NaN      NaN\n",
              "last    2020-11-13 00:00:00         NaN  NaN  ...         NaN           NaN      NaN\n",
              "\n",
              "[6 rows x 8 columns]"
            ]
          },
          "metadata": {
            "tags": []
          },
          "execution_count": 327
        }
      ]
    },
    {
      "cell_type": "code",
      "metadata": {
        "id": "lw7nzAactkB6",
        "colab_type": "code",
        "colab": {
          "base_uri": "https://localhost:8080/",
          "height": 225
        },
        "outputId": "dd61d67f-f97e-480a-cc41-7f7300f78da7"
      },
      "source": [
        "dnd_df.describe(exclude=\"number\")"
      ],
      "execution_count": 328,
      "outputs": [
        {
          "output_type": "execute_result",
          "data": {
            "text/html": [
              "<div>\n",
              "<style scoped>\n",
              "    .dataframe tbody tr th:only-of-type {\n",
              "        vertical-align: middle;\n",
              "    }\n",
              "\n",
              "    .dataframe tbody tr th {\n",
              "        vertical-align: top;\n",
              "    }\n",
              "\n",
              "    .dataframe thead th {\n",
              "        text-align: right;\n",
              "    }\n",
              "</style>\n",
              "<table border=\"1\" class=\"dataframe\">\n",
              "  <thead>\n",
              "    <tr style=\"text-align: right;\">\n",
              "      <th></th>\n",
              "      <th>Date_of_PreShoot</th>\n",
              "      <th>Session_Fee</th>\n",
              "      <th>Hair</th>\n",
              "      <th>DOB</th>\n",
              "      <th>zip_code</th>\n",
              "      <th>Sales_total</th>\n",
              "      <th>Model Release</th>\n",
              "      <th>Favorite</th>\n",
              "    </tr>\n",
              "  </thead>\n",
              "  <tbody>\n",
              "    <tr>\n",
              "      <th>count</th>\n",
              "      <td>422</td>\n",
              "      <td>422</td>\n",
              "      <td>422</td>\n",
              "      <td>424</td>\n",
              "      <td>422</td>\n",
              "      <td>326</td>\n",
              "      <td>324</td>\n",
              "      <td>218</td>\n",
              "    </tr>\n",
              "    <tr>\n",
              "      <th>unique</th>\n",
              "      <td>321</td>\n",
              "      <td>10</td>\n",
              "      <td>4</td>\n",
              "      <td>413</td>\n",
              "      <td>82</td>\n",
              "      <td>69</td>\n",
              "      <td>5</td>\n",
              "      <td>65</td>\n",
              "    </tr>\n",
              "    <tr>\n",
              "      <th>top</th>\n",
              "      <td>2013-12-04 00:00:00</td>\n",
              "      <td>99</td>\n",
              "      <td>no</td>\n",
              "      <td>3/27/1986</td>\n",
              "      <td>32218</td>\n",
              "      <td>600</td>\n",
              "      <td>yes</td>\n",
              "      <td>butt</td>\n",
              "    </tr>\n",
              "    <tr>\n",
              "      <th>freq</th>\n",
              "      <td>4</td>\n",
              "      <td>289</td>\n",
              "      <td>302</td>\n",
              "      <td>2</td>\n",
              "      <td>27</td>\n",
              "      <td>83</td>\n",
              "      <td>211</td>\n",
              "      <td>77</td>\n",
              "    </tr>\n",
              "    <tr>\n",
              "      <th>first</th>\n",
              "      <td>1988-12-28 00:00:00</td>\n",
              "      <td>NaN</td>\n",
              "      <td>NaN</td>\n",
              "      <td>NaN</td>\n",
              "      <td>NaN</td>\n",
              "      <td>NaN</td>\n",
              "      <td>NaN</td>\n",
              "      <td>NaN</td>\n",
              "    </tr>\n",
              "    <tr>\n",
              "      <th>last</th>\n",
              "      <td>2020-11-13 00:00:00</td>\n",
              "      <td>NaN</td>\n",
              "      <td>NaN</td>\n",
              "      <td>NaN</td>\n",
              "      <td>NaN</td>\n",
              "      <td>NaN</td>\n",
              "      <td>NaN</td>\n",
              "      <td>NaN</td>\n",
              "    </tr>\n",
              "  </tbody>\n",
              "</table>\n",
              "</div>"
            ],
            "text/plain": [
              "           Date_of_PreShoot Session_Fee Hair  ... Sales_total Model Release Favorite\n",
              "count                   422         422  422  ...         326           324      218\n",
              "unique                  321          10    4  ...          69             5       65\n",
              "top     2013-12-04 00:00:00          99   no  ...         600           yes     butt\n",
              "freq                      4         289  302  ...          83           211       77\n",
              "first   1988-12-28 00:00:00         NaN  NaN  ...         NaN           NaN      NaN\n",
              "last    2020-11-13 00:00:00         NaN  NaN  ...         NaN           NaN      NaN\n",
              "\n",
              "[6 rows x 8 columns]"
            ]
          },
          "metadata": {
            "tags": []
          },
          "execution_count": 328
        }
      ]
    },
    {
      "cell_type": "code",
      "metadata": {
        "id": "9-zV9mNYtrhS",
        "colab_type": "code",
        "colab": {
          "base_uri": "https://localhost:8080/",
          "height": 67
        },
        "outputId": "37d5c193-2805-4592-efaa-3374c23aed04"
      },
      "source": [
        "dnd_df.columns"
      ],
      "execution_count": 329,
      "outputs": [
        {
          "output_type": "execute_result",
          "data": {
            "text/plain": [
              "Index(['Date_of_PreShoot', 'Session_Fee', 'Hair', 'DOB', 'zip_code',\n",
              "       'Sales_total', 'Model Release', 'Favorite'],\n",
              "      dtype='object')"
            ]
          },
          "metadata": {
            "tags": []
          },
          "execution_count": 329
        }
      ]
    },
    {
      "cell_type": "code",
      "metadata": {
        "id": "MbbVpJvGt3r_",
        "colab_type": "code",
        "colab": {
          "base_uri": "https://localhost:8080/",
          "height": 168
        },
        "outputId": "3b12ea5d-32f2-453d-b485-fff41641145b"
      },
      "source": [
        "dnd_df.isnull().sum()"
      ],
      "execution_count": 330,
      "outputs": [
        {
          "output_type": "execute_result",
          "data": {
            "text/plain": [
              "Date_of_PreShoot      2\n",
              "Session_Fee           2\n",
              "Hair                  2\n",
              "DOB                   0\n",
              "zip_code              2\n",
              "Sales_total          98\n",
              "Model Release       100\n",
              "Favorite            206\n",
              "dtype: int64"
            ]
          },
          "metadata": {
            "tags": []
          },
          "execution_count": 330
        }
      ]
    },
    {
      "cell_type": "code",
      "metadata": {
        "id": "alxbAUeGSKFU",
        "colab_type": "code",
        "colab": {
          "base_uri": "https://localhost:8080/",
          "height": 218
        },
        "outputId": "39d4368f-71d1-4aa4-dfde-2dca98c8a456"
      },
      "source": [
        "# lets check out the Favorite feature\n",
        "dnd_df[\"Favorite\"].value_counts()"
      ],
      "execution_count": 331,
      "outputs": [
        {
          "output_type": "execute_result",
          "data": {
            "text/plain": [
              "butt                77\n",
              "boobs               37\n",
              "legs                12\n",
              "eyes                 9\n",
              "butt, eyes           8\n",
              "                    ..\n",
              "boob                 1\n",
              "butt, eyes, legs     1\n",
              "boobs, curves        1\n",
              "back, eyes           1\n",
              "arms, muscles        1\n",
              "Name: Favorite, Length: 65, dtype: int64"
            ]
          },
          "metadata": {
            "tags": []
          },
          "execution_count": 331
        }
      ]
    },
    {
      "cell_type": "code",
      "metadata": {
        "id": "lWVDWEtdVpAX",
        "colab_type": "code",
        "colab": {}
      },
      "source": [
        "dnd_df.loc[:, \"Favorite\"] = dnd_df.loc[:,\"Favorite\"].replace(to_replace=np.NaN, value=\"no preference\")"
      ],
      "execution_count": 332,
      "outputs": []
    },
    {
      "cell_type": "code",
      "metadata": {
        "id": "yg0nphbtrY70",
        "colab_type": "code",
        "colab": {}
      },
      "source": [
        "#list to fix boob; boob, legs; boob, smile; butt , legs; eyes,  legs"
      ],
      "execution_count": 333,
      "outputs": []
    },
    {
      "cell_type": "code",
      "metadata": {
        "id": "DmvCHF1CqyoW",
        "colab_type": "code",
        "colab": {}
      },
      "source": [
        "dnd_df.loc[:, \"Favorite\"] = dnd_df.loc[:,\"Favorite\"].replace(to_replace=\"boob\", value=\"boobs\")"
      ],
      "execution_count": 334,
      "outputs": []
    },
    {
      "cell_type": "code",
      "metadata": {
        "id": "BfE7t1svrhhE",
        "colab_type": "code",
        "colab": {}
      },
      "source": [
        "dnd_df.loc[:, \"Favorite\"] = dnd_df.loc[:,\"Favorite\"].replace(to_replace=\"boob, legs\", value=\"boobs, legs\")"
      ],
      "execution_count": 335,
      "outputs": []
    },
    {
      "cell_type": "code",
      "metadata": {
        "id": "C2b4uQmuryqq",
        "colab_type": "code",
        "colab": {}
      },
      "source": [
        "dnd_df.loc[:, \"Favorite\"] = dnd_df.loc[:,\"Favorite\"].replace(to_replace=\"boob, smile\", value=\"boobs, smile\")"
      ],
      "execution_count": 336,
      "outputs": []
    },
    {
      "cell_type": "code",
      "metadata": {
        "id": "bHt1jOMir8mi",
        "colab_type": "code",
        "colab": {}
      },
      "source": [
        "dnd_df.loc[:, \"Favorite\"] = dnd_df.loc[:,\"Favorite\"].replace(to_replace=\"butt , legs\", value=\"butt, legs\")"
      ],
      "execution_count": 337,
      "outputs": []
    },
    {
      "cell_type": "code",
      "metadata": {
        "id": "D7vzmbhUsGfp",
        "colab_type": "code",
        "colab": {}
      },
      "source": [
        "dnd_df.loc[:, \"Favorite\"] = dnd_df.loc[:,\"Favorite\"].replace(to_replace=\"eyes,  legs\", value=\"eyes, legs\")"
      ],
      "execution_count": 338,
      "outputs": []
    },
    {
      "cell_type": "code",
      "metadata": {
        "id": "DnAV3BWtsQPH",
        "colab_type": "code",
        "colab": {
          "base_uri": "https://localhost:8080/",
          "height": 34
        },
        "outputId": "10dd2c34-cbb4-497c-d570-23bbdf84e5c6"
      },
      "source": [
        "dnd_df[\"Favorite\"].nunique()"
      ],
      "execution_count": 339,
      "outputs": [
        {
          "output_type": "execute_result",
          "data": {
            "text/plain": [
              "62"
            ]
          },
          "metadata": {
            "tags": []
          },
          "execution_count": 339
        }
      ]
    },
    {
      "cell_type": "code",
      "metadata": {
        "id": "02THH1VtskTV",
        "colab_type": "code",
        "colab": {}
      },
      "source": [
        ""
      ],
      "execution_count": 339,
      "outputs": []
    },
    {
      "cell_type": "code",
      "metadata": {
        "id": "ppg9iJlFWesE",
        "colab_type": "code",
        "colab": {
          "base_uri": "https://localhost:8080/",
          "height": 168
        },
        "outputId": "0c81655a-c38c-467d-9dc4-a4dbb4ccabf8"
      },
      "source": [
        "dnd_df.isnull().sum()"
      ],
      "execution_count": 340,
      "outputs": [
        {
          "output_type": "execute_result",
          "data": {
            "text/plain": [
              "Date_of_PreShoot      2\n",
              "Session_Fee           2\n",
              "Hair                  2\n",
              "DOB                   0\n",
              "zip_code              2\n",
              "Sales_total          98\n",
              "Model Release       100\n",
              "Favorite              0\n",
              "dtype: int64"
            ]
          },
          "metadata": {
            "tags": []
          },
          "execution_count": 340
        }
      ]
    },
    {
      "cell_type": "code",
      "metadata": {
        "id": "LM8GOoPiW2x4",
        "colab_type": "code",
        "colab": {}
      },
      "source": [
        "# drop the rows where sale is Nan\n",
        "# create a condition where sales is nan \n",
        "# drop those rows\n",
        "\n",
        "# no_sales_condition = dnd_df[\"Sales_total\"][:] == np.NaN"
      ],
      "execution_count": 341,
      "outputs": []
    },
    {
      "cell_type": "code",
      "metadata": {
        "id": "CBpLnt5dhRoP",
        "colab_type": "code",
        "colab": {}
      },
      "source": [
        "dnd_sales_df =dnd_df.dropna(subset=[\"Sales_total\"])"
      ],
      "execution_count": 342,
      "outputs": []
    },
    {
      "cell_type": "code",
      "metadata": {
        "id": "RxykuyiFp7Pj",
        "colab_type": "code",
        "colab": {}
      },
      "source": [
        ""
      ],
      "execution_count": 342,
      "outputs": []
    },
    {
      "cell_type": "code",
      "metadata": {
        "id": "E6twtxhkgwHA",
        "colab_type": "code",
        "colab": {
          "base_uri": "https://localhost:8080/",
          "height": 34
        },
        "outputId": "fa53dac3-b421-4375-c506-df8bd446220f"
      },
      "source": [
        "dnd_df.shape"
      ],
      "execution_count": 343,
      "outputs": [
        {
          "output_type": "execute_result",
          "data": {
            "text/plain": [
              "(424, 8)"
            ]
          },
          "metadata": {
            "tags": []
          },
          "execution_count": 343
        }
      ]
    },
    {
      "cell_type": "code",
      "metadata": {
        "id": "FznZmhRXha37",
        "colab_type": "code",
        "colab": {
          "base_uri": "https://localhost:8080/",
          "height": 34
        },
        "outputId": "530bd224-d01c-4915-9b3b-5866573c66da"
      },
      "source": [
        "dnd_sales_df.shape"
      ],
      "execution_count": 344,
      "outputs": [
        {
          "output_type": "execute_result",
          "data": {
            "text/plain": [
              "(326, 8)"
            ]
          },
          "metadata": {
            "tags": []
          },
          "execution_count": 344
        }
      ]
    },
    {
      "cell_type": "code",
      "metadata": {
        "id": "xHzOF3aJp-uY",
        "colab_type": "code",
        "colab": {
          "base_uri": "https://localhost:8080/",
          "height": 168
        },
        "outputId": "9e344f4c-031f-4b4d-ccb2-5062f0ba7a97"
      },
      "source": [
        "dnd_sales_df.isnull().sum()"
      ],
      "execution_count": 345,
      "outputs": [
        {
          "output_type": "execute_result",
          "data": {
            "text/plain": [
              "Date_of_PreShoot    2\n",
              "Session_Fee         2\n",
              "Hair                2\n",
              "DOB                 0\n",
              "zip_code            0\n",
              "Sales_total         0\n",
              "Model Release       8\n",
              "Favorite            0\n",
              "dtype: int64"
            ]
          },
          "metadata": {
            "tags": []
          },
          "execution_count": 345
        }
      ]
    },
    {
      "cell_type": "code",
      "metadata": {
        "id": "GP-R0MhnqC7A",
        "colab_type": "code",
        "colab": {
          "base_uri": "https://localhost:8080/",
          "height": 269
        },
        "outputId": "dcfe954a-5252-4ae7-9d46-9c9925681214"
      },
      "source": [
        "dnd_sales_df.info()"
      ],
      "execution_count": 346,
      "outputs": [
        {
          "output_type": "stream",
          "text": [
            "<class 'pandas.core.frame.DataFrame'>\n",
            "Int64Index: 326 entries, 0 to 423\n",
            "Data columns (total 8 columns):\n",
            " #   Column            Non-Null Count  Dtype         \n",
            "---  ------            --------------  -----         \n",
            " 0   Date_of_PreShoot  324 non-null    datetime64[ns]\n",
            " 1   Session_Fee       324 non-null    object        \n",
            " 2   Hair              324 non-null    object        \n",
            " 3   DOB               326 non-null    object        \n",
            " 4   zip_code          326 non-null    object        \n",
            " 5   Sales_total       326 non-null    object        \n",
            " 6   Model Release     318 non-null    object        \n",
            " 7   Favorite          326 non-null    object        \n",
            "dtypes: datetime64[ns](1), object(7)\n",
            "memory usage: 22.9+ KB\n"
          ],
          "name": "stdout"
        }
      ]
    },
    {
      "cell_type": "code",
      "metadata": {
        "id": "AsXL4QKBtiwO",
        "colab_type": "code",
        "colab": {
          "base_uri": "https://localhost:8080/",
          "height": 343
        },
        "outputId": "7d7d42cb-9147-4835-94e6-5d5eb5121849"
      },
      "source": [
        "dnd_sales_df.head(10)"
      ],
      "execution_count": 347,
      "outputs": [
        {
          "output_type": "execute_result",
          "data": {
            "text/html": [
              "<div>\n",
              "<style scoped>\n",
              "    .dataframe tbody tr th:only-of-type {\n",
              "        vertical-align: middle;\n",
              "    }\n",
              "\n",
              "    .dataframe tbody tr th {\n",
              "        vertical-align: top;\n",
              "    }\n",
              "\n",
              "    .dataframe thead th {\n",
              "        text-align: right;\n",
              "    }\n",
              "</style>\n",
              "<table border=\"1\" class=\"dataframe\">\n",
              "  <thead>\n",
              "    <tr style=\"text-align: right;\">\n",
              "      <th></th>\n",
              "      <th>Date_of_PreShoot</th>\n",
              "      <th>Session_Fee</th>\n",
              "      <th>Hair</th>\n",
              "      <th>DOB</th>\n",
              "      <th>zip_code</th>\n",
              "      <th>Sales_total</th>\n",
              "      <th>Model Release</th>\n",
              "      <th>Favorite</th>\n",
              "    </tr>\n",
              "  </thead>\n",
              "  <tbody>\n",
              "    <tr>\n",
              "      <th>0</th>\n",
              "      <td>2017-01-05</td>\n",
              "      <td>99</td>\n",
              "      <td>yes</td>\n",
              "      <td>5/5/1976</td>\n",
              "      <td>32208</td>\n",
              "      <td>600</td>\n",
              "      <td>yes</td>\n",
              "      <td>butt</td>\n",
              "    </tr>\n",
              "    <tr>\n",
              "      <th>1</th>\n",
              "      <td>2017-11-02</td>\n",
              "      <td>99</td>\n",
              "      <td>yes</td>\n",
              "      <td>10/16/1984</td>\n",
              "      <td>32082</td>\n",
              "      <td>400</td>\n",
              "      <td>no</td>\n",
              "      <td>butt, eyes</td>\n",
              "    </tr>\n",
              "    <tr>\n",
              "      <th>2</th>\n",
              "      <td>2017-06-29</td>\n",
              "      <td>99</td>\n",
              "      <td>yes</td>\n",
              "      <td>7/22/1989</td>\n",
              "      <td>32080</td>\n",
              "      <td>320</td>\n",
              "      <td>no</td>\n",
              "      <td>eyes, hair, legs</td>\n",
              "    </tr>\n",
              "    <tr>\n",
              "      <th>3</th>\n",
              "      <td>2017-01-23</td>\n",
              "      <td>99</td>\n",
              "      <td>no</td>\n",
              "      <td>1/23/1971</td>\n",
              "      <td>32208</td>\n",
              "      <td>720</td>\n",
              "      <td>yes</td>\n",
              "      <td>boobs</td>\n",
              "    </tr>\n",
              "    <tr>\n",
              "      <th>5</th>\n",
              "      <td>2014-09-14</td>\n",
              "      <td>99</td>\n",
              "      <td>yes</td>\n",
              "      <td>11/3/1982</td>\n",
              "      <td>32257</td>\n",
              "      <td>1320</td>\n",
              "      <td>no</td>\n",
              "      <td>butt</td>\n",
              "    </tr>\n",
              "    <tr>\n",
              "      <th>6</th>\n",
              "      <td>2017-09-05</td>\n",
              "      <td>99</td>\n",
              "      <td>no</td>\n",
              "      <td>1/24/1996</td>\n",
              "      <td>32246</td>\n",
              "      <td>0</td>\n",
              "      <td>yes</td>\n",
              "      <td>eyes</td>\n",
              "    </tr>\n",
              "    <tr>\n",
              "      <th>7</th>\n",
              "      <td>2015-08-14</td>\n",
              "      <td>179</td>\n",
              "      <td>no</td>\n",
              "      <td>8/29/1977</td>\n",
              "      <td>32221</td>\n",
              "      <td>240</td>\n",
              "      <td>no</td>\n",
              "      <td>no preference</td>\n",
              "    </tr>\n",
              "    <tr>\n",
              "      <th>9</th>\n",
              "      <td>2015-03-05</td>\n",
              "      <td>99</td>\n",
              "      <td>yes</td>\n",
              "      <td>9/7/1979</td>\n",
              "      <td>32277</td>\n",
              "      <td>720</td>\n",
              "      <td>yes</td>\n",
              "      <td>boobs</td>\n",
              "    </tr>\n",
              "    <tr>\n",
              "      <th>10</th>\n",
              "      <td>2015-01-21</td>\n",
              "      <td>99</td>\n",
              "      <td>yes</td>\n",
              "      <td>8/4/1988</td>\n",
              "      <td>32258</td>\n",
              "      <td>680</td>\n",
              "      <td>yes</td>\n",
              "      <td>eyes</td>\n",
              "    </tr>\n",
              "    <tr>\n",
              "      <th>12</th>\n",
              "      <td>2014-09-27</td>\n",
              "      <td>99</td>\n",
              "      <td>no</td>\n",
              "      <td>11/10/1969</td>\n",
              "      <td>32216</td>\n",
              "      <td>600</td>\n",
              "      <td>yes</td>\n",
              "      <td>no preference</td>\n",
              "    </tr>\n",
              "  </tbody>\n",
              "</table>\n",
              "</div>"
            ],
            "text/plain": [
              "   Date_of_PreShoot Session_Fee  ... Model Release          Favorite\n",
              "0        2017-01-05          99  ...           yes              butt\n",
              "1        2017-11-02          99  ...            no        butt, eyes\n",
              "2        2017-06-29          99  ...            no  eyes, hair, legs\n",
              "3        2017-01-23          99  ...           yes             boobs\n",
              "5        2014-09-14          99  ...            no              butt\n",
              "6        2017-09-05          99  ...           yes              eyes\n",
              "7        2015-08-14         179  ...            no     no preference\n",
              "9        2015-03-05          99  ...           yes             boobs\n",
              "10       2015-01-21          99  ...           yes              eyes\n",
              "12       2014-09-27          99  ...           yes     no preference\n",
              "\n",
              "[10 rows x 8 columns]"
            ]
          },
          "metadata": {
            "tags": []
          },
          "execution_count": 347
        }
      ]
    },
    {
      "cell_type": "code",
      "metadata": {
        "id": "IgTqJkc8CPjJ",
        "colab_type": "code",
        "colab": {
          "base_uri": "https://localhost:8080/",
          "height": 34
        },
        "outputId": "2c961df4-633c-4744-ea1d-a9aa66b89b6c"
      },
      "source": [
        "dnd_sales_df[\"Sales_total\"].nunique()"
      ],
      "execution_count": 348,
      "outputs": [
        {
          "output_type": "execute_result",
          "data": {
            "text/plain": [
              "69"
            ]
          },
          "metadata": {
            "tags": []
          },
          "execution_count": 348
        }
      ]
    },
    {
      "cell_type": "code",
      "metadata": {
        "id": "-Sy_4pWvCXsw",
        "colab_type": "code",
        "colab": {}
      },
      "source": [
        ""
      ],
      "execution_count": 348,
      "outputs": []
    },
    {
      "cell_type": "code",
      "metadata": {
        "id": "5sURDSi4tk9x",
        "colab_type": "code",
        "colab": {}
      },
      "source": [
        "# try converting to str, then to int\n",
        "# test= dnd_sales_df[\"Sales_total\"].astype(str).astype(int)\n",
        "# test"
      ],
      "execution_count": 349,
      "outputs": []
    },
    {
      "cell_type": "code",
      "metadata": {
        "id": "cLlMf_0nujJj",
        "colab_type": "code",
        "colab": {}
      },
      "source": [
        "# find this 866.7...\n",
        "cond = dnd_sales_df[\"Sales_total\"] == \"866.7\""
      ],
      "execution_count": 350,
      "outputs": []
    },
    {
      "cell_type": "code",
      "metadata": {
        "id": "xf5tiO2X77ak",
        "colab_type": "code",
        "colab": {
          "base_uri": "https://localhost:8080/",
          "height": 77
        },
        "outputId": "01876221-c350-4f1d-a05e-cbe22e2da0b2"
      },
      "source": [
        "temp_df = dnd_sales_df[cond]\n",
        "temp_df"
      ],
      "execution_count": 351,
      "outputs": [
        {
          "output_type": "execute_result",
          "data": {
            "text/html": [
              "<div>\n",
              "<style scoped>\n",
              "    .dataframe tbody tr th:only-of-type {\n",
              "        vertical-align: middle;\n",
              "    }\n",
              "\n",
              "    .dataframe tbody tr th {\n",
              "        vertical-align: top;\n",
              "    }\n",
              "\n",
              "    .dataframe thead th {\n",
              "        text-align: right;\n",
              "    }\n",
              "</style>\n",
              "<table border=\"1\" class=\"dataframe\">\n",
              "  <thead>\n",
              "    <tr style=\"text-align: right;\">\n",
              "      <th></th>\n",
              "      <th>Date_of_PreShoot</th>\n",
              "      <th>Session_Fee</th>\n",
              "      <th>Hair</th>\n",
              "      <th>DOB</th>\n",
              "      <th>zip_code</th>\n",
              "      <th>Sales_total</th>\n",
              "      <th>Model Release</th>\n",
              "      <th>Favorite</th>\n",
              "    </tr>\n",
              "  </thead>\n",
              "  <tbody>\n",
              "    <tr>\n",
              "      <th>133</th>\n",
              "      <td>2013-08-02</td>\n",
              "      <td>99</td>\n",
              "      <td>no</td>\n",
              "      <td>10/5/1980</td>\n",
              "      <td>32218</td>\n",
              "      <td>866.7</td>\n",
              "      <td>yes</td>\n",
              "      <td>no preference</td>\n",
              "    </tr>\n",
              "  </tbody>\n",
              "</table>\n",
              "</div>"
            ],
            "text/plain": [
              "    Date_of_PreShoot Session_Fee Hair  ... Sales_total Model Release       Favorite\n",
              "133       2013-08-02          99   no  ...       866.7           yes  no preference\n",
              "\n",
              "[1 rows x 8 columns]"
            ]
          },
          "metadata": {
            "tags": []
          },
          "execution_count": 351
        }
      ]
    },
    {
      "cell_type": "code",
      "metadata": {
        "id": "Ho8JPn8I8BXn",
        "colab_type": "code",
        "colab": {
          "base_uri": "https://localhost:8080/",
          "height": 154
        },
        "outputId": "4965e928-5896-4282-96bc-a8569b5d3784"
      },
      "source": [
        "dnd_sales_df.loc[133, \"Sales_total\"] = 860\n",
        "dnd_sales_df.loc[133, \"Sales_total\"] "
      ],
      "execution_count": 352,
      "outputs": [
        {
          "output_type": "stream",
          "text": [
            "/usr/local/lib/python3.6/dist-packages/pandas/core/indexing.py:966: SettingWithCopyWarning: \n",
            "A value is trying to be set on a copy of a slice from a DataFrame.\n",
            "Try using .loc[row_indexer,col_indexer] = value instead\n",
            "\n",
            "See the caveats in the documentation: https://pandas.pydata.org/pandas-docs/stable/user_guide/indexing.html#returning-a-view-versus-a-copy\n",
            "  self.obj[item] = s\n"
          ],
          "name": "stderr"
        },
        {
          "output_type": "execute_result",
          "data": {
            "text/plain": [
              "860"
            ]
          },
          "metadata": {
            "tags": []
          },
          "execution_count": 352
        }
      ]
    },
    {
      "cell_type": "code",
      "metadata": {
        "id": "fxl0sfMT8vkz",
        "colab_type": "code",
        "colab": {}
      },
      "source": [
        "# try again now that I got rid of decimal \n",
        "# test= dnd_sales_df[\"Sales_total\"].astype(str).astype(int)\n",
        "# test\n"
      ],
      "execution_count": 353,
      "outputs": []
    },
    {
      "cell_type": "code",
      "metadata": {
        "id": "D1sLEHoo9vuJ",
        "colab_type": "code",
        "colab": {
          "base_uri": "https://localhost:8080/",
          "height": 77
        },
        "outputId": "42022e23-9542-4677-e243-07693523079d"
      },
      "source": [
        "# so now maybe there is a space?\n",
        "cond2 = dnd_sales_df[\"Sales_total\"] == \" \"\n",
        "dnd_sales_df[cond2]"
      ],
      "execution_count": 354,
      "outputs": [
        {
          "output_type": "execute_result",
          "data": {
            "text/html": [
              "<div>\n",
              "<style scoped>\n",
              "    .dataframe tbody tr th:only-of-type {\n",
              "        vertical-align: middle;\n",
              "    }\n",
              "\n",
              "    .dataframe tbody tr th {\n",
              "        vertical-align: top;\n",
              "    }\n",
              "\n",
              "    .dataframe thead th {\n",
              "        text-align: right;\n",
              "    }\n",
              "</style>\n",
              "<table border=\"1\" class=\"dataframe\">\n",
              "  <thead>\n",
              "    <tr style=\"text-align: right;\">\n",
              "      <th></th>\n",
              "      <th>Date_of_PreShoot</th>\n",
              "      <th>Session_Fee</th>\n",
              "      <th>Hair</th>\n",
              "      <th>DOB</th>\n",
              "      <th>zip_code</th>\n",
              "      <th>Sales_total</th>\n",
              "      <th>Model Release</th>\n",
              "      <th>Favorite</th>\n",
              "    </tr>\n",
              "  </thead>\n",
              "  <tbody>\n",
              "    <tr>\n",
              "      <th>222</th>\n",
              "      <td>2014-10-21</td>\n",
              "      <td>99</td>\n",
              "      <td>yes</td>\n",
              "      <td>11/29/1969</td>\n",
              "      <td>32073</td>\n",
              "      <td></td>\n",
              "      <td></td>\n",
              "      <td>no preference</td>\n",
              "    </tr>\n",
              "  </tbody>\n",
              "</table>\n",
              "</div>"
            ],
            "text/plain": [
              "    Date_of_PreShoot Session_Fee Hair  ... Sales_total Model Release       Favorite\n",
              "222       2014-10-21          99  yes  ...                            no preference\n",
              "\n",
              "[1 rows x 8 columns]"
            ]
          },
          "metadata": {
            "tags": []
          },
          "execution_count": 354
        }
      ]
    },
    {
      "cell_type": "code",
      "metadata": {
        "id": "9ESZGywE94HB",
        "colab_type": "code",
        "colab": {}
      },
      "source": [
        "# lets drop this row...\n",
        "\n",
        "dnd_sales_df = dnd_sales_df.drop(labels=222)\n"
      ],
      "execution_count": 355,
      "outputs": []
    },
    {
      "cell_type": "code",
      "metadata": {
        "id": "Tlyx5UJRASm3",
        "colab_type": "code",
        "colab": {
          "base_uri": "https://localhost:8080/",
          "height": 101
        },
        "outputId": "16c67b92-695b-4fc6-9fe2-f35f18a60a82"
      },
      "source": [
        "# see if 222 is there\n",
        "dnd_sales_df[cond2]"
      ],
      "execution_count": 356,
      "outputs": [
        {
          "output_type": "stream",
          "text": [
            "/usr/local/lib/python3.6/dist-packages/ipykernel_launcher.py:2: UserWarning: Boolean Series key will be reindexed to match DataFrame index.\n",
            "  \n"
          ],
          "name": "stderr"
        },
        {
          "output_type": "execute_result",
          "data": {
            "text/html": [
              "<div>\n",
              "<style scoped>\n",
              "    .dataframe tbody tr th:only-of-type {\n",
              "        vertical-align: middle;\n",
              "    }\n",
              "\n",
              "    .dataframe tbody tr th {\n",
              "        vertical-align: top;\n",
              "    }\n",
              "\n",
              "    .dataframe thead th {\n",
              "        text-align: right;\n",
              "    }\n",
              "</style>\n",
              "<table border=\"1\" class=\"dataframe\">\n",
              "  <thead>\n",
              "    <tr style=\"text-align: right;\">\n",
              "      <th></th>\n",
              "      <th>Date_of_PreShoot</th>\n",
              "      <th>Session_Fee</th>\n",
              "      <th>Hair</th>\n",
              "      <th>DOB</th>\n",
              "      <th>zip_code</th>\n",
              "      <th>Sales_total</th>\n",
              "      <th>Model Release</th>\n",
              "      <th>Favorite</th>\n",
              "    </tr>\n",
              "  </thead>\n",
              "  <tbody>\n",
              "  </tbody>\n",
              "</table>\n",
              "</div>"
            ],
            "text/plain": [
              "Empty DataFrame\n",
              "Columns: [Date_of_PreShoot, Session_Fee, Hair, DOB, zip_code, Sales_total, Model Release, Favorite]\n",
              "Index: []"
            ]
          },
          "metadata": {
            "tags": []
          },
          "execution_count": 356
        }
      ]
    },
    {
      "cell_type": "code",
      "metadata": {
        "id": "3569nW9YAnmY",
        "colab_type": "code",
        "colab": {
          "base_uri": "https://localhost:8080/",
          "height": 284
        },
        "outputId": "c25671e1-acae-4adc-927a-c53588ee7437"
      },
      "source": [
        "#perfect so far; try to convert one more time \n",
        "dnd_sales_df[\"Sales_total\"]= dnd_sales_df[\"Sales_total\"].astype(str).astype(int)\n",
        "dnd_sales_df.describe()"
      ],
      "execution_count": 357,
      "outputs": [
        {
          "output_type": "execute_result",
          "data": {
            "text/html": [
              "<div>\n",
              "<style scoped>\n",
              "    .dataframe tbody tr th:only-of-type {\n",
              "        vertical-align: middle;\n",
              "    }\n",
              "\n",
              "    .dataframe tbody tr th {\n",
              "        vertical-align: top;\n",
              "    }\n",
              "\n",
              "    .dataframe thead th {\n",
              "        text-align: right;\n",
              "    }\n",
              "</style>\n",
              "<table border=\"1\" class=\"dataframe\">\n",
              "  <thead>\n",
              "    <tr style=\"text-align: right;\">\n",
              "      <th></th>\n",
              "      <th>Sales_total</th>\n",
              "    </tr>\n",
              "  </thead>\n",
              "  <tbody>\n",
              "    <tr>\n",
              "      <th>count</th>\n",
              "      <td>325.000000</td>\n",
              "    </tr>\n",
              "    <tr>\n",
              "      <th>mean</th>\n",
              "      <td>738.095385</td>\n",
              "    </tr>\n",
              "    <tr>\n",
              "      <th>std</th>\n",
              "      <td>475.472871</td>\n",
              "    </tr>\n",
              "    <tr>\n",
              "      <th>min</th>\n",
              "      <td>0.000000</td>\n",
              "    </tr>\n",
              "    <tr>\n",
              "      <th>25%</th>\n",
              "      <td>580.000000</td>\n",
              "    </tr>\n",
              "    <tr>\n",
              "      <th>50%</th>\n",
              "      <td>600.000000</td>\n",
              "    </tr>\n",
              "    <tr>\n",
              "      <th>75%</th>\n",
              "      <td>950.000000</td>\n",
              "    </tr>\n",
              "    <tr>\n",
              "      <th>max</th>\n",
              "      <td>3000.000000</td>\n",
              "    </tr>\n",
              "  </tbody>\n",
              "</table>\n",
              "</div>"
            ],
            "text/plain": [
              "       Sales_total\n",
              "count   325.000000\n",
              "mean    738.095385\n",
              "std     475.472871\n",
              "min       0.000000\n",
              "25%     580.000000\n",
              "50%     600.000000\n",
              "75%     950.000000\n",
              "max    3000.000000"
            ]
          },
          "metadata": {
            "tags": []
          },
          "execution_count": 357
        }
      ]
    },
    {
      "cell_type": "code",
      "metadata": {
        "id": "vxodQWi4BK6r",
        "colab_type": "code",
        "colab": {
          "base_uri": "https://localhost:8080/",
          "height": 195
        },
        "outputId": "e8e58d79-054c-4bb3-e6eb-a4c1fb6f73af"
      },
      "source": [
        "dnd_sales_df.head()"
      ],
      "execution_count": 358,
      "outputs": [
        {
          "output_type": "execute_result",
          "data": {
            "text/html": [
              "<div>\n",
              "<style scoped>\n",
              "    .dataframe tbody tr th:only-of-type {\n",
              "        vertical-align: middle;\n",
              "    }\n",
              "\n",
              "    .dataframe tbody tr th {\n",
              "        vertical-align: top;\n",
              "    }\n",
              "\n",
              "    .dataframe thead th {\n",
              "        text-align: right;\n",
              "    }\n",
              "</style>\n",
              "<table border=\"1\" class=\"dataframe\">\n",
              "  <thead>\n",
              "    <tr style=\"text-align: right;\">\n",
              "      <th></th>\n",
              "      <th>Date_of_PreShoot</th>\n",
              "      <th>Session_Fee</th>\n",
              "      <th>Hair</th>\n",
              "      <th>DOB</th>\n",
              "      <th>zip_code</th>\n",
              "      <th>Sales_total</th>\n",
              "      <th>Model Release</th>\n",
              "      <th>Favorite</th>\n",
              "    </tr>\n",
              "  </thead>\n",
              "  <tbody>\n",
              "    <tr>\n",
              "      <th>0</th>\n",
              "      <td>2017-01-05</td>\n",
              "      <td>99</td>\n",
              "      <td>yes</td>\n",
              "      <td>5/5/1976</td>\n",
              "      <td>32208</td>\n",
              "      <td>600</td>\n",
              "      <td>yes</td>\n",
              "      <td>butt</td>\n",
              "    </tr>\n",
              "    <tr>\n",
              "      <th>1</th>\n",
              "      <td>2017-11-02</td>\n",
              "      <td>99</td>\n",
              "      <td>yes</td>\n",
              "      <td>10/16/1984</td>\n",
              "      <td>32082</td>\n",
              "      <td>400</td>\n",
              "      <td>no</td>\n",
              "      <td>butt, eyes</td>\n",
              "    </tr>\n",
              "    <tr>\n",
              "      <th>2</th>\n",
              "      <td>2017-06-29</td>\n",
              "      <td>99</td>\n",
              "      <td>yes</td>\n",
              "      <td>7/22/1989</td>\n",
              "      <td>32080</td>\n",
              "      <td>320</td>\n",
              "      <td>no</td>\n",
              "      <td>eyes, hair, legs</td>\n",
              "    </tr>\n",
              "    <tr>\n",
              "      <th>3</th>\n",
              "      <td>2017-01-23</td>\n",
              "      <td>99</td>\n",
              "      <td>no</td>\n",
              "      <td>1/23/1971</td>\n",
              "      <td>32208</td>\n",
              "      <td>720</td>\n",
              "      <td>yes</td>\n",
              "      <td>boobs</td>\n",
              "    </tr>\n",
              "    <tr>\n",
              "      <th>5</th>\n",
              "      <td>2014-09-14</td>\n",
              "      <td>99</td>\n",
              "      <td>yes</td>\n",
              "      <td>11/3/1982</td>\n",
              "      <td>32257</td>\n",
              "      <td>1320</td>\n",
              "      <td>no</td>\n",
              "      <td>butt</td>\n",
              "    </tr>\n",
              "  </tbody>\n",
              "</table>\n",
              "</div>"
            ],
            "text/plain": [
              "  Date_of_PreShoot Session_Fee  ... Model Release          Favorite\n",
              "0       2017-01-05          99  ...           yes              butt\n",
              "1       2017-11-02          99  ...            no        butt, eyes\n",
              "2       2017-06-29          99  ...            no  eyes, hair, legs\n",
              "3       2017-01-23          99  ...           yes             boobs\n",
              "5       2014-09-14          99  ...            no              butt\n",
              "\n",
              "[5 rows x 8 columns]"
            ]
          },
          "metadata": {
            "tags": []
          },
          "execution_count": 358
        }
      ]
    },
    {
      "cell_type": "code",
      "metadata": {
        "id": "E_4GUK8SBzU2",
        "colab_type": "code",
        "colab": {}
      },
      "source": [
        ""
      ],
      "execution_count": 358,
      "outputs": []
    },
    {
      "cell_type": "code",
      "metadata": {
        "id": "gn0UPSilEYw7",
        "colab_type": "code",
        "colab": {
          "base_uri": "https://localhost:8080/",
          "height": 34
        },
        "outputId": "e0b79449-e58c-4700-aeca-8ede19abf047"
      },
      "source": [
        "dnd_sales_df[\"Session_Fee\"].nunique()"
      ],
      "execution_count": 359,
      "outputs": [
        {
          "output_type": "execute_result",
          "data": {
            "text/plain": [
              "8"
            ]
          },
          "metadata": {
            "tags": []
          },
          "execution_count": 359
        }
      ]
    },
    {
      "cell_type": "code",
      "metadata": {
        "id": "JtLM8GxXEfZV",
        "colab_type": "code",
        "colab": {
          "base_uri": "https://localhost:8080/",
          "height": 168
        },
        "outputId": "abbabeef-d624-495a-f014-6434348091ec"
      },
      "source": [
        "dnd_sales_df[\"Session_Fee\"].value_counts()"
      ],
      "execution_count": 360,
      "outputs": [
        {
          "output_type": "execute_result",
          "data": {
            "text/plain": [
              "99             230\n",
              "25              51\n",
              "179             33\n",
              "249              4\n",
              "0                2\n",
              "100              1\n",
              "amazon gift      1\n",
              "89               1\n",
              "Name: Session_Fee, dtype: int64"
            ]
          },
          "metadata": {
            "tags": []
          },
          "execution_count": 360
        }
      ]
    },
    {
      "cell_type": "code",
      "metadata": {
        "id": "h7pXanOkEnzM",
        "colab_type": "code",
        "colab": {}
      },
      "source": [
        "#ok lets change that amazon gift to 0\n",
        "cond_gift = dnd_sales_df[\"Session_Fee\"].str.strip() == \"amazon gift\""
      ],
      "execution_count": 361,
      "outputs": []
    },
    {
      "cell_type": "code",
      "metadata": {
        "id": "M9-0koJpFIoQ",
        "colab_type": "code",
        "colab": {
          "base_uri": "https://localhost:8080/",
          "height": 77
        },
        "outputId": "0c69eae3-623e-438c-f578-a5cefdcb2bc0"
      },
      "source": [
        "dnd_sales_df[cond_gift]"
      ],
      "execution_count": 362,
      "outputs": [
        {
          "output_type": "execute_result",
          "data": {
            "text/html": [
              "<div>\n",
              "<style scoped>\n",
              "    .dataframe tbody tr th:only-of-type {\n",
              "        vertical-align: middle;\n",
              "    }\n",
              "\n",
              "    .dataframe tbody tr th {\n",
              "        vertical-align: top;\n",
              "    }\n",
              "\n",
              "    .dataframe thead th {\n",
              "        text-align: right;\n",
              "    }\n",
              "</style>\n",
              "<table border=\"1\" class=\"dataframe\">\n",
              "  <thead>\n",
              "    <tr style=\"text-align: right;\">\n",
              "      <th></th>\n",
              "      <th>Date_of_PreShoot</th>\n",
              "      <th>Session_Fee</th>\n",
              "      <th>Hair</th>\n",
              "      <th>DOB</th>\n",
              "      <th>zip_code</th>\n",
              "      <th>Sales_total</th>\n",
              "      <th>Model Release</th>\n",
              "      <th>Favorite</th>\n",
              "    </tr>\n",
              "  </thead>\n",
              "  <tbody>\n",
              "    <tr>\n",
              "      <th>160</th>\n",
              "      <td>2014-04-02</td>\n",
              "      <td>amazon gift</td>\n",
              "      <td>yes</td>\n",
              "      <td>12/17/1980</td>\n",
              "      <td>32164</td>\n",
              "      <td>600</td>\n",
              "      <td>yes</td>\n",
              "      <td>butt</td>\n",
              "    </tr>\n",
              "  </tbody>\n",
              "</table>\n",
              "</div>"
            ],
            "text/plain": [
              "    Date_of_PreShoot  Session_Fee Hair  ... Sales_total Model Release  Favorite\n",
              "160       2014-04-02  amazon gift  yes  ...         600           yes      butt\n",
              "\n",
              "[1 rows x 8 columns]"
            ]
          },
          "metadata": {
            "tags": []
          },
          "execution_count": 362
        }
      ]
    },
    {
      "cell_type": "code",
      "metadata": {
        "id": "y3Vn-kDkHGPH",
        "colab_type": "code",
        "colab": {}
      },
      "source": [
        "dnd_sales_df.loc[160, \"Session_Fee\"] =dnd_sales_df.loc[160, \"Session_Fee\"].strip()\n"
      ],
      "execution_count": 363,
      "outputs": []
    },
    {
      "cell_type": "code",
      "metadata": {
        "id": "JQgJ3J-oFNS3",
        "colab_type": "code",
        "colab": {}
      },
      "source": [
        "# replace \"amazon gift\" with 0 \n",
        "dnd_sales_df.loc[:, \"Session_Fee\"] = dnd_sales_df.loc[:,\"Session_Fee\"].replace(to_replace=\"amazon gift\", value=\"0\")"
      ],
      "execution_count": 364,
      "outputs": []
    },
    {
      "cell_type": "code",
      "metadata": {
        "id": "m6AyDiqOGBWW",
        "colab_type": "code",
        "colab": {
          "base_uri": "https://localhost:8080/",
          "height": 77
        },
        "outputId": "c944e193-7f58-44ef-9036-2ba3986899f7"
      },
      "source": [
        "# check to see if its gone\n",
        "dnd_sales_df[cond_gift]"
      ],
      "execution_count": 365,
      "outputs": [
        {
          "output_type": "execute_result",
          "data": {
            "text/html": [
              "<div>\n",
              "<style scoped>\n",
              "    .dataframe tbody tr th:only-of-type {\n",
              "        vertical-align: middle;\n",
              "    }\n",
              "\n",
              "    .dataframe tbody tr th {\n",
              "        vertical-align: top;\n",
              "    }\n",
              "\n",
              "    .dataframe thead th {\n",
              "        text-align: right;\n",
              "    }\n",
              "</style>\n",
              "<table border=\"1\" class=\"dataframe\">\n",
              "  <thead>\n",
              "    <tr style=\"text-align: right;\">\n",
              "      <th></th>\n",
              "      <th>Date_of_PreShoot</th>\n",
              "      <th>Session_Fee</th>\n",
              "      <th>Hair</th>\n",
              "      <th>DOB</th>\n",
              "      <th>zip_code</th>\n",
              "      <th>Sales_total</th>\n",
              "      <th>Model Release</th>\n",
              "      <th>Favorite</th>\n",
              "    </tr>\n",
              "  </thead>\n",
              "  <tbody>\n",
              "    <tr>\n",
              "      <th>160</th>\n",
              "      <td>2014-04-02</td>\n",
              "      <td>0</td>\n",
              "      <td>yes</td>\n",
              "      <td>12/17/1980</td>\n",
              "      <td>32164</td>\n",
              "      <td>600</td>\n",
              "      <td>yes</td>\n",
              "      <td>butt</td>\n",
              "    </tr>\n",
              "  </tbody>\n",
              "</table>\n",
              "</div>"
            ],
            "text/plain": [
              "    Date_of_PreShoot Session_Fee Hair  ... Sales_total Model Release  Favorite\n",
              "160       2014-04-02           0  yes  ...         600           yes      butt\n",
              "\n",
              "[1 rows x 8 columns]"
            ]
          },
          "metadata": {
            "tags": []
          },
          "execution_count": 365
        }
      ]
    },
    {
      "cell_type": "code",
      "metadata": {
        "id": "9TWQHdudGJmf",
        "colab_type": "code",
        "colab": {
          "base_uri": "https://localhost:8080/",
          "height": 151
        },
        "outputId": "fc5ed751-e8a7-4b9a-80cb-bd60746c5ef5"
      },
      "source": [
        "dnd_sales_df[\"Session_Fee\"].value_counts()"
      ],
      "execution_count": 366,
      "outputs": [
        {
          "output_type": "execute_result",
          "data": {
            "text/plain": [
              "99     230\n",
              "25      51\n",
              "179     33\n",
              "249      4\n",
              "0        3\n",
              "100      1\n",
              "89       1\n",
              "Name: Session_Fee, dtype: int64"
            ]
          },
          "metadata": {
            "tags": []
          },
          "execution_count": 366
        }
      ]
    },
    {
      "cell_type": "code",
      "metadata": {
        "id": "dLlofDwxIkY5",
        "colab_type": "code",
        "colab": {
          "base_uri": "https://localhost:8080/",
          "height": 34
        },
        "outputId": "8c893fec-4fb7-49cb-d871-8e85a98ea6d8"
      },
      "source": [
        "dnd_sales_df[\"Session_Fee\"].isnull().sum()\n"
      ],
      "execution_count": 367,
      "outputs": [
        {
          "output_type": "execute_result",
          "data": {
            "text/plain": [
              "2"
            ]
          },
          "metadata": {
            "tags": []
          },
          "execution_count": 367
        }
      ]
    },
    {
      "cell_type": "code",
      "metadata": {
        "id": "iWgedVkLIws3",
        "colab_type": "code",
        "colab": {
          "base_uri": "https://localhost:8080/",
          "height": 106
        },
        "outputId": "ee66da12-3398-4e3e-d2e8-f3850084ba7a"
      },
      "source": [
        "# These were repeat clients where a second preshoot wasn't necessary \n",
        "# or a purchase of additional photos... So i have to manually update it \n",
        "# will export a \"clean\" csv later\n",
        "cond_nan = dnd_sales_df[\"Session_Fee\"].isnull() == True\n",
        "dnd_sales_df[cond_nan]"
      ],
      "execution_count": 368,
      "outputs": [
        {
          "output_type": "execute_result",
          "data": {
            "text/html": [
              "<div>\n",
              "<style scoped>\n",
              "    .dataframe tbody tr th:only-of-type {\n",
              "        vertical-align: middle;\n",
              "    }\n",
              "\n",
              "    .dataframe tbody tr th {\n",
              "        vertical-align: top;\n",
              "    }\n",
              "\n",
              "    .dataframe thead th {\n",
              "        text-align: right;\n",
              "    }\n",
              "</style>\n",
              "<table border=\"1\" class=\"dataframe\">\n",
              "  <thead>\n",
              "    <tr style=\"text-align: right;\">\n",
              "      <th></th>\n",
              "      <th>Date_of_PreShoot</th>\n",
              "      <th>Session_Fee</th>\n",
              "      <th>Hair</th>\n",
              "      <th>DOB</th>\n",
              "      <th>zip_code</th>\n",
              "      <th>Sales_total</th>\n",
              "      <th>Model Release</th>\n",
              "      <th>Favorite</th>\n",
              "    </tr>\n",
              "  </thead>\n",
              "  <tbody>\n",
              "    <tr>\n",
              "      <th>33</th>\n",
              "      <td>NaT</td>\n",
              "      <td>NaN</td>\n",
              "      <td>NaN</td>\n",
              "      <td>2/8/1983</td>\n",
              "      <td>32211</td>\n",
              "      <td>1200</td>\n",
              "      <td>yes</td>\n",
              "      <td>no preference</td>\n",
              "    </tr>\n",
              "    <tr>\n",
              "      <th>51</th>\n",
              "      <td>NaT</td>\n",
              "      <td>NaN</td>\n",
              "      <td>NaN</td>\n",
              "      <td>8/24/1979</td>\n",
              "      <td>32225</td>\n",
              "      <td>600</td>\n",
              "      <td>yes</td>\n",
              "      <td>boobs</td>\n",
              "    </tr>\n",
              "  </tbody>\n",
              "</table>\n",
              "</div>"
            ],
            "text/plain": [
              "   Date_of_PreShoot Session_Fee Hair  ... Sales_total Model Release       Favorite\n",
              "33              NaT         NaN  NaN  ...        1200           yes  no preference\n",
              "51              NaT         NaN  NaN  ...         600           yes          boobs\n",
              "\n",
              "[2 rows x 8 columns]"
            ]
          },
          "metadata": {
            "tags": []
          },
          "execution_count": 368
        }
      ]
    },
    {
      "cell_type": "code",
      "metadata": {
        "id": "JkBJVZ5uJWEy",
        "colab_type": "code",
        "colab": {
          "base_uri": "https://localhost:8080/",
          "height": 106
        },
        "outputId": "7ae48a75-6c8b-4e41-a1f7-5c5528db69a6"
      },
      "source": [
        "dnd_sales_df.loc[33, \"Session_Fee\"] = \"179\"\n",
        "dnd_sales_df[cond_nan]"
      ],
      "execution_count": 369,
      "outputs": [
        {
          "output_type": "execute_result",
          "data": {
            "text/html": [
              "<div>\n",
              "<style scoped>\n",
              "    .dataframe tbody tr th:only-of-type {\n",
              "        vertical-align: middle;\n",
              "    }\n",
              "\n",
              "    .dataframe tbody tr th {\n",
              "        vertical-align: top;\n",
              "    }\n",
              "\n",
              "    .dataframe thead th {\n",
              "        text-align: right;\n",
              "    }\n",
              "</style>\n",
              "<table border=\"1\" class=\"dataframe\">\n",
              "  <thead>\n",
              "    <tr style=\"text-align: right;\">\n",
              "      <th></th>\n",
              "      <th>Date_of_PreShoot</th>\n",
              "      <th>Session_Fee</th>\n",
              "      <th>Hair</th>\n",
              "      <th>DOB</th>\n",
              "      <th>zip_code</th>\n",
              "      <th>Sales_total</th>\n",
              "      <th>Model Release</th>\n",
              "      <th>Favorite</th>\n",
              "    </tr>\n",
              "  </thead>\n",
              "  <tbody>\n",
              "    <tr>\n",
              "      <th>33</th>\n",
              "      <td>NaT</td>\n",
              "      <td>179</td>\n",
              "      <td>NaN</td>\n",
              "      <td>2/8/1983</td>\n",
              "      <td>32211</td>\n",
              "      <td>1200</td>\n",
              "      <td>yes</td>\n",
              "      <td>no preference</td>\n",
              "    </tr>\n",
              "    <tr>\n",
              "      <th>51</th>\n",
              "      <td>NaT</td>\n",
              "      <td>NaN</td>\n",
              "      <td>NaN</td>\n",
              "      <td>8/24/1979</td>\n",
              "      <td>32225</td>\n",
              "      <td>600</td>\n",
              "      <td>yes</td>\n",
              "      <td>boobs</td>\n",
              "    </tr>\n",
              "  </tbody>\n",
              "</table>\n",
              "</div>"
            ],
            "text/plain": [
              "   Date_of_PreShoot Session_Fee Hair  ... Sales_total Model Release       Favorite\n",
              "33              NaT         179  NaN  ...        1200           yes  no preference\n",
              "51              NaT         NaN  NaN  ...         600           yes          boobs\n",
              "\n",
              "[2 rows x 8 columns]"
            ]
          },
          "metadata": {
            "tags": []
          },
          "execution_count": 369
        }
      ]
    },
    {
      "cell_type": "code",
      "metadata": {
        "id": "NiQuY1MvLavh",
        "colab_type": "code",
        "colab": {
          "base_uri": "https://localhost:8080/",
          "height": 106
        },
        "outputId": "a7a8ad38-2ddb-4c20-97a9-ac18568759e6"
      },
      "source": [
        "dnd_sales_df.loc[51, \"Session_Fee\"] = \"99\"\n",
        "dnd_sales_df[cond_nan]"
      ],
      "execution_count": 370,
      "outputs": [
        {
          "output_type": "execute_result",
          "data": {
            "text/html": [
              "<div>\n",
              "<style scoped>\n",
              "    .dataframe tbody tr th:only-of-type {\n",
              "        vertical-align: middle;\n",
              "    }\n",
              "\n",
              "    .dataframe tbody tr th {\n",
              "        vertical-align: top;\n",
              "    }\n",
              "\n",
              "    .dataframe thead th {\n",
              "        text-align: right;\n",
              "    }\n",
              "</style>\n",
              "<table border=\"1\" class=\"dataframe\">\n",
              "  <thead>\n",
              "    <tr style=\"text-align: right;\">\n",
              "      <th></th>\n",
              "      <th>Date_of_PreShoot</th>\n",
              "      <th>Session_Fee</th>\n",
              "      <th>Hair</th>\n",
              "      <th>DOB</th>\n",
              "      <th>zip_code</th>\n",
              "      <th>Sales_total</th>\n",
              "      <th>Model Release</th>\n",
              "      <th>Favorite</th>\n",
              "    </tr>\n",
              "  </thead>\n",
              "  <tbody>\n",
              "    <tr>\n",
              "      <th>33</th>\n",
              "      <td>NaT</td>\n",
              "      <td>179</td>\n",
              "      <td>NaN</td>\n",
              "      <td>2/8/1983</td>\n",
              "      <td>32211</td>\n",
              "      <td>1200</td>\n",
              "      <td>yes</td>\n",
              "      <td>no preference</td>\n",
              "    </tr>\n",
              "    <tr>\n",
              "      <th>51</th>\n",
              "      <td>NaT</td>\n",
              "      <td>99</td>\n",
              "      <td>NaN</td>\n",
              "      <td>8/24/1979</td>\n",
              "      <td>32225</td>\n",
              "      <td>600</td>\n",
              "      <td>yes</td>\n",
              "      <td>boobs</td>\n",
              "    </tr>\n",
              "  </tbody>\n",
              "</table>\n",
              "</div>"
            ],
            "text/plain": [
              "   Date_of_PreShoot Session_Fee Hair  ... Sales_total Model Release       Favorite\n",
              "33              NaT         179  NaN  ...        1200           yes  no preference\n",
              "51              NaT          99  NaN  ...         600           yes          boobs\n",
              "\n",
              "[2 rows x 8 columns]"
            ]
          },
          "metadata": {
            "tags": []
          },
          "execution_count": 370
        }
      ]
    },
    {
      "cell_type": "code",
      "metadata": {
        "id": "wDd2awgAOSum",
        "colab_type": "code",
        "colab": {}
      },
      "source": [
        ""
      ],
      "execution_count": 370,
      "outputs": []
    },
    {
      "cell_type": "code",
      "metadata": {
        "id": "6CY8AmblLlK_",
        "colab_type": "code",
        "colab": {
          "base_uri": "https://localhost:8080/",
          "height": 106
        },
        "outputId": "65aa3955-deda-4835-8cae-fc5ede9191ee"
      },
      "source": [
        "dnd_sales_df.loc[:, \"Hair\"] = dnd_sales_df.loc[:, \"Hair\"].replace(to_replace=np.NaN, value=\"no\")\n",
        "dnd_sales_df[cond_nan]"
      ],
      "execution_count": 371,
      "outputs": [
        {
          "output_type": "execute_result",
          "data": {
            "text/html": [
              "<div>\n",
              "<style scoped>\n",
              "    .dataframe tbody tr th:only-of-type {\n",
              "        vertical-align: middle;\n",
              "    }\n",
              "\n",
              "    .dataframe tbody tr th {\n",
              "        vertical-align: top;\n",
              "    }\n",
              "\n",
              "    .dataframe thead th {\n",
              "        text-align: right;\n",
              "    }\n",
              "</style>\n",
              "<table border=\"1\" class=\"dataframe\">\n",
              "  <thead>\n",
              "    <tr style=\"text-align: right;\">\n",
              "      <th></th>\n",
              "      <th>Date_of_PreShoot</th>\n",
              "      <th>Session_Fee</th>\n",
              "      <th>Hair</th>\n",
              "      <th>DOB</th>\n",
              "      <th>zip_code</th>\n",
              "      <th>Sales_total</th>\n",
              "      <th>Model Release</th>\n",
              "      <th>Favorite</th>\n",
              "    </tr>\n",
              "  </thead>\n",
              "  <tbody>\n",
              "    <tr>\n",
              "      <th>33</th>\n",
              "      <td>NaT</td>\n",
              "      <td>179</td>\n",
              "      <td>no</td>\n",
              "      <td>2/8/1983</td>\n",
              "      <td>32211</td>\n",
              "      <td>1200</td>\n",
              "      <td>yes</td>\n",
              "      <td>no preference</td>\n",
              "    </tr>\n",
              "    <tr>\n",
              "      <th>51</th>\n",
              "      <td>NaT</td>\n",
              "      <td>99</td>\n",
              "      <td>no</td>\n",
              "      <td>8/24/1979</td>\n",
              "      <td>32225</td>\n",
              "      <td>600</td>\n",
              "      <td>yes</td>\n",
              "      <td>boobs</td>\n",
              "    </tr>\n",
              "  </tbody>\n",
              "</table>\n",
              "</div>"
            ],
            "text/plain": [
              "   Date_of_PreShoot Session_Fee Hair  ... Sales_total Model Release       Favorite\n",
              "33              NaT         179   no  ...        1200           yes  no preference\n",
              "51              NaT          99   no  ...         600           yes          boobs\n",
              "\n",
              "[2 rows x 8 columns]"
            ]
          },
          "metadata": {
            "tags": []
          },
          "execution_count": 371
        }
      ]
    },
    {
      "cell_type": "code",
      "metadata": {
        "id": "uMjL23W7MU3s",
        "colab_type": "code",
        "colab": {
          "base_uri": "https://localhost:8080/",
          "height": 106
        },
        "outputId": "0ea8d1a9-3a88-4e1b-97ed-b72d5c19dd80"
      },
      "source": [
        "dnd_sales_df.loc[33, \"Date_of_PreShoot\"] = pd.to_datetime(\"3/22/2017\")\n",
        "dnd_sales_df.loc[51, \"Date_of_PreShoot\"] = pd.to_datetime(\"1/30/2016\")\n",
        "dnd_sales_df[cond_nan]"
      ],
      "execution_count": 372,
      "outputs": [
        {
          "output_type": "execute_result",
          "data": {
            "text/html": [
              "<div>\n",
              "<style scoped>\n",
              "    .dataframe tbody tr th:only-of-type {\n",
              "        vertical-align: middle;\n",
              "    }\n",
              "\n",
              "    .dataframe tbody tr th {\n",
              "        vertical-align: top;\n",
              "    }\n",
              "\n",
              "    .dataframe thead th {\n",
              "        text-align: right;\n",
              "    }\n",
              "</style>\n",
              "<table border=\"1\" class=\"dataframe\">\n",
              "  <thead>\n",
              "    <tr style=\"text-align: right;\">\n",
              "      <th></th>\n",
              "      <th>Date_of_PreShoot</th>\n",
              "      <th>Session_Fee</th>\n",
              "      <th>Hair</th>\n",
              "      <th>DOB</th>\n",
              "      <th>zip_code</th>\n",
              "      <th>Sales_total</th>\n",
              "      <th>Model Release</th>\n",
              "      <th>Favorite</th>\n",
              "    </tr>\n",
              "  </thead>\n",
              "  <tbody>\n",
              "    <tr>\n",
              "      <th>33</th>\n",
              "      <td>2017-03-22</td>\n",
              "      <td>179</td>\n",
              "      <td>no</td>\n",
              "      <td>2/8/1983</td>\n",
              "      <td>32211</td>\n",
              "      <td>1200</td>\n",
              "      <td>yes</td>\n",
              "      <td>no preference</td>\n",
              "    </tr>\n",
              "    <tr>\n",
              "      <th>51</th>\n",
              "      <td>2016-01-30</td>\n",
              "      <td>99</td>\n",
              "      <td>no</td>\n",
              "      <td>8/24/1979</td>\n",
              "      <td>32225</td>\n",
              "      <td>600</td>\n",
              "      <td>yes</td>\n",
              "      <td>boobs</td>\n",
              "    </tr>\n",
              "  </tbody>\n",
              "</table>\n",
              "</div>"
            ],
            "text/plain": [
              "   Date_of_PreShoot Session_Fee Hair  ... Sales_total Model Release       Favorite\n",
              "33       2017-03-22         179   no  ...        1200           yes  no preference\n",
              "51       2016-01-30          99   no  ...         600           yes          boobs\n",
              "\n",
              "[2 rows x 8 columns]"
            ]
          },
          "metadata": {
            "tags": []
          },
          "execution_count": 372
        }
      ]
    },
    {
      "cell_type": "code",
      "metadata": {
        "id": "ZXDeOYCDJE2V",
        "colab_type": "code",
        "colab": {
          "base_uri": "https://localhost:8080/",
          "height": 47
        },
        "outputId": "b9ea67bc-0e5f-48bf-e7af-be5366b19a03"
      },
      "source": [
        "cond_nan = dnd_sales_df[\"DOB\"].isnull() == True\n",
        "dnd_sales_df[cond_nan]"
      ],
      "execution_count": 373,
      "outputs": [
        {
          "output_type": "execute_result",
          "data": {
            "text/html": [
              "<div>\n",
              "<style scoped>\n",
              "    .dataframe tbody tr th:only-of-type {\n",
              "        vertical-align: middle;\n",
              "    }\n",
              "\n",
              "    .dataframe tbody tr th {\n",
              "        vertical-align: top;\n",
              "    }\n",
              "\n",
              "    .dataframe thead th {\n",
              "        text-align: right;\n",
              "    }\n",
              "</style>\n",
              "<table border=\"1\" class=\"dataframe\">\n",
              "  <thead>\n",
              "    <tr style=\"text-align: right;\">\n",
              "      <th></th>\n",
              "      <th>Date_of_PreShoot</th>\n",
              "      <th>Session_Fee</th>\n",
              "      <th>Hair</th>\n",
              "      <th>DOB</th>\n",
              "      <th>zip_code</th>\n",
              "      <th>Sales_total</th>\n",
              "      <th>Model Release</th>\n",
              "      <th>Favorite</th>\n",
              "    </tr>\n",
              "  </thead>\n",
              "  <tbody>\n",
              "  </tbody>\n",
              "</table>\n",
              "</div>"
            ],
            "text/plain": [
              "Empty DataFrame\n",
              "Columns: [Date_of_PreShoot, Session_Fee, Hair, DOB, zip_code, Sales_total, Model Release, Favorite]\n",
              "Index: []"
            ]
          },
          "metadata": {
            "tags": []
          },
          "execution_count": 373
        }
      ]
    },
    {
      "cell_type": "code",
      "metadata": {
        "id": "Phu61VhVzzKy",
        "colab_type": "code",
        "colab": {
          "base_uri": "https://localhost:8080/",
          "height": 47
        },
        "outputId": "f2d699de-5f45-485e-b1df-b1ec2bcdd247"
      },
      "source": [
        "dnd_sales_df.loc[233, \"DOB\"] = pd.to_datetime(\"4/15/1962\")\n",
        "dnd_sales_df[cond_nan]"
      ],
      "execution_count": 374,
      "outputs": [
        {
          "output_type": "execute_result",
          "data": {
            "text/html": [
              "<div>\n",
              "<style scoped>\n",
              "    .dataframe tbody tr th:only-of-type {\n",
              "        vertical-align: middle;\n",
              "    }\n",
              "\n",
              "    .dataframe tbody tr th {\n",
              "        vertical-align: top;\n",
              "    }\n",
              "\n",
              "    .dataframe thead th {\n",
              "        text-align: right;\n",
              "    }\n",
              "</style>\n",
              "<table border=\"1\" class=\"dataframe\">\n",
              "  <thead>\n",
              "    <tr style=\"text-align: right;\">\n",
              "      <th></th>\n",
              "      <th>Date_of_PreShoot</th>\n",
              "      <th>Session_Fee</th>\n",
              "      <th>Hair</th>\n",
              "      <th>DOB</th>\n",
              "      <th>zip_code</th>\n",
              "      <th>Sales_total</th>\n",
              "      <th>Model Release</th>\n",
              "      <th>Favorite</th>\n",
              "    </tr>\n",
              "  </thead>\n",
              "  <tbody>\n",
              "  </tbody>\n",
              "</table>\n",
              "</div>"
            ],
            "text/plain": [
              "Empty DataFrame\n",
              "Columns: [Date_of_PreShoot, Session_Fee, Hair, DOB, zip_code, Sales_total, Model Release, Favorite]\n",
              "Index: []"
            ]
          },
          "metadata": {
            "tags": []
          },
          "execution_count": 374
        }
      ]
    },
    {
      "cell_type": "code",
      "metadata": {
        "id": "m7mC2hcs0MMV",
        "colab_type": "code",
        "colab": {
          "base_uri": "https://localhost:8080/",
          "height": 34
        },
        "outputId": "95daf95a-ff2d-4bf2-8b6c-b1da517dca6c"
      },
      "source": [
        "dnd_sales_df[\"DOB\"].isnull().sum()"
      ],
      "execution_count": 375,
      "outputs": [
        {
          "output_type": "execute_result",
          "data": {
            "text/plain": [
              "0"
            ]
          },
          "metadata": {
            "tags": []
          },
          "execution_count": 375
        }
      ]
    },
    {
      "cell_type": "code",
      "metadata": {
        "id": "5YHqR4-32cDL",
        "colab_type": "code",
        "colab": {
          "base_uri": "https://localhost:8080/",
          "height": 106
        },
        "outputId": "9655a464-5165-4f83-f0a9-5cb57b4610ca"
      },
      "source": [
        "dnd_sales_df.head(2)"
      ],
      "execution_count": 376,
      "outputs": [
        {
          "output_type": "execute_result",
          "data": {
            "text/html": [
              "<div>\n",
              "<style scoped>\n",
              "    .dataframe tbody tr th:only-of-type {\n",
              "        vertical-align: middle;\n",
              "    }\n",
              "\n",
              "    .dataframe tbody tr th {\n",
              "        vertical-align: top;\n",
              "    }\n",
              "\n",
              "    .dataframe thead th {\n",
              "        text-align: right;\n",
              "    }\n",
              "</style>\n",
              "<table border=\"1\" class=\"dataframe\">\n",
              "  <thead>\n",
              "    <tr style=\"text-align: right;\">\n",
              "      <th></th>\n",
              "      <th>Date_of_PreShoot</th>\n",
              "      <th>Session_Fee</th>\n",
              "      <th>Hair</th>\n",
              "      <th>DOB</th>\n",
              "      <th>zip_code</th>\n",
              "      <th>Sales_total</th>\n",
              "      <th>Model Release</th>\n",
              "      <th>Favorite</th>\n",
              "    </tr>\n",
              "  </thead>\n",
              "  <tbody>\n",
              "    <tr>\n",
              "      <th>0</th>\n",
              "      <td>2017-01-05</td>\n",
              "      <td>99</td>\n",
              "      <td>yes</td>\n",
              "      <td>5/5/1976</td>\n",
              "      <td>32208</td>\n",
              "      <td>600</td>\n",
              "      <td>yes</td>\n",
              "      <td>butt</td>\n",
              "    </tr>\n",
              "    <tr>\n",
              "      <th>1</th>\n",
              "      <td>2017-11-02</td>\n",
              "      <td>99</td>\n",
              "      <td>yes</td>\n",
              "      <td>10/16/1984</td>\n",
              "      <td>32082</td>\n",
              "      <td>400</td>\n",
              "      <td>no</td>\n",
              "      <td>butt, eyes</td>\n",
              "    </tr>\n",
              "  </tbody>\n",
              "</table>\n",
              "</div>"
            ],
            "text/plain": [
              "  Date_of_PreShoot Session_Fee Hair  ... Sales_total Model Release    Favorite\n",
              "0       2017-01-05          99  yes  ...         600           yes        butt\n",
              "1       2017-11-02          99  yes  ...         400            no  butt, eyes\n",
              "\n",
              "[2 rows x 8 columns]"
            ]
          },
          "metadata": {
            "tags": []
          },
          "execution_count": 376
        }
      ]
    },
    {
      "cell_type": "code",
      "metadata": {
        "id": "dAn2MQJC2fTi",
        "colab_type": "code",
        "colab": {
          "base_uri": "https://localhost:8080/",
          "height": 218
        },
        "outputId": "0c57349a-20aa-441e-f23a-30d86bb93ae2"
      },
      "source": [
        "# the DOB isn't converted; I believe at this point its clean enough convert\n",
        "dnd_sales_df.loc[:, \"DOB\"] = pd.to_datetime(dnd_sales_df.loc[:, \"DOB\"])\n",
        "dnd_sales_df[\"DOB\"]"
      ],
      "execution_count": 377,
      "outputs": [
        {
          "output_type": "execute_result",
          "data": {
            "text/plain": [
              "0     1976-05-05\n",
              "1     1984-10-16\n",
              "2     1989-07-22\n",
              "3     1971-01-23\n",
              "5     1982-11-03\n",
              "         ...    \n",
              "414   1984-10-24\n",
              "419   1987-03-28\n",
              "421   1989-07-10\n",
              "422   1992-08-05\n",
              "423   1994-06-26\n",
              "Name: DOB, Length: 325, dtype: datetime64[ns]"
            ]
          },
          "metadata": {
            "tags": []
          },
          "execution_count": 377
        }
      ]
    },
    {
      "cell_type": "code",
      "metadata": {
        "id": "S8sZtm99N1G8",
        "colab_type": "code",
        "colab": {
          "base_uri": "https://localhost:8080/",
          "height": 34
        },
        "outputId": "ea7212cb-31ce-4f50-b7ec-f5826d6ec243"
      },
      "source": [
        "dnd_sales_df.loc[77, \"Date_of_PreShoot\"] = pd.to_datetime(\"11/14/2016\")\n",
        "dnd_sales_df.loc[77, \"Date_of_PreShoot\"]"
      ],
      "execution_count": 378,
      "outputs": [
        {
          "output_type": "execute_result",
          "data": {
            "text/plain": [
              "Timestamp('2016-11-14 00:00:00')"
            ]
          },
          "metadata": {
            "tags": []
          },
          "execution_count": 378
        }
      ]
    },
    {
      "cell_type": "code",
      "metadata": {
        "id": "k5QhO2BwM8iG",
        "colab_type": "code",
        "colab": {}
      },
      "source": [
        ""
      ],
      "execution_count": 378,
      "outputs": []
    },
    {
      "cell_type": "code",
      "metadata": {
        "id": "8qdK0X8L3_cM",
        "colab_type": "code",
        "colab": {}
      },
      "source": [
        "# create a new feature \"Age_at_Shoot_Date\"\n",
        "dnd_sales_df[\"Age_at_Shoot_Date\"] = [int(x.days/365) for x in (dnd_sales_df.iloc[:,0] - dnd_sales_df.iloc[:,3])]\n"
      ],
      "execution_count": 379,
      "outputs": []
    },
    {
      "cell_type": "code",
      "metadata": {
        "id": "B9girNJU5D5O",
        "colab_type": "code",
        "colab": {}
      },
      "source": [
        ""
      ],
      "execution_count": 379,
      "outputs": []
    },
    {
      "cell_type": "code",
      "metadata": {
        "id": "x9NaDZXF4w7Q",
        "colab_type": "code",
        "colab": {
          "base_uri": "https://localhost:8080/",
          "height": 106
        },
        "outputId": "4bda3a2d-308b-42be-94e2-1aa6de080658"
      },
      "source": [
        "dnd_sales_df.head(2)"
      ],
      "execution_count": 380,
      "outputs": [
        {
          "output_type": "execute_result",
          "data": {
            "text/html": [
              "<div>\n",
              "<style scoped>\n",
              "    .dataframe tbody tr th:only-of-type {\n",
              "        vertical-align: middle;\n",
              "    }\n",
              "\n",
              "    .dataframe tbody tr th {\n",
              "        vertical-align: top;\n",
              "    }\n",
              "\n",
              "    .dataframe thead th {\n",
              "        text-align: right;\n",
              "    }\n",
              "</style>\n",
              "<table border=\"1\" class=\"dataframe\">\n",
              "  <thead>\n",
              "    <tr style=\"text-align: right;\">\n",
              "      <th></th>\n",
              "      <th>Date_of_PreShoot</th>\n",
              "      <th>Session_Fee</th>\n",
              "      <th>Hair</th>\n",
              "      <th>DOB</th>\n",
              "      <th>zip_code</th>\n",
              "      <th>Sales_total</th>\n",
              "      <th>Model Release</th>\n",
              "      <th>Favorite</th>\n",
              "      <th>Age_at_Shoot_Date</th>\n",
              "    </tr>\n",
              "  </thead>\n",
              "  <tbody>\n",
              "    <tr>\n",
              "      <th>0</th>\n",
              "      <td>2017-01-05</td>\n",
              "      <td>99</td>\n",
              "      <td>yes</td>\n",
              "      <td>1976-05-05</td>\n",
              "      <td>32208</td>\n",
              "      <td>600</td>\n",
              "      <td>yes</td>\n",
              "      <td>butt</td>\n",
              "      <td>40</td>\n",
              "    </tr>\n",
              "    <tr>\n",
              "      <th>1</th>\n",
              "      <td>2017-11-02</td>\n",
              "      <td>99</td>\n",
              "      <td>yes</td>\n",
              "      <td>1984-10-16</td>\n",
              "      <td>32082</td>\n",
              "      <td>400</td>\n",
              "      <td>no</td>\n",
              "      <td>butt, eyes</td>\n",
              "      <td>33</td>\n",
              "    </tr>\n",
              "  </tbody>\n",
              "</table>\n",
              "</div>"
            ],
            "text/plain": [
              "  Date_of_PreShoot Session_Fee  ...    Favorite Age_at_Shoot_Date\n",
              "0       2017-01-05          99  ...        butt                40\n",
              "1       2017-11-02          99  ...  butt, eyes                33\n",
              "\n",
              "[2 rows x 9 columns]"
            ]
          },
          "metadata": {
            "tags": []
          },
          "execution_count": 380
        }
      ]
    },
    {
      "cell_type": "code",
      "metadata": {
        "id": "raYhcSmO44pw",
        "colab_type": "code",
        "colab": {
          "base_uri": "https://localhost:8080/",
          "height": 50
        },
        "outputId": "5ad8d680-77cf-4d4f-c8d4-fdeefe6552a1"
      },
      "source": [
        "dnd_sales_df[\"Age_at_Shoot_Date\"].mode()"
      ],
      "execution_count": 381,
      "outputs": [
        {
          "output_type": "execute_result",
          "data": {
            "text/plain": [
              "0    25\n",
              "dtype: int64"
            ]
          },
          "metadata": {
            "tags": []
          },
          "execution_count": 381
        }
      ]
    },
    {
      "cell_type": "code",
      "metadata": {
        "id": "15SZqpSi6-l9",
        "colab_type": "code",
        "colab": {
          "base_uri": "https://localhost:8080/",
          "height": 806
        },
        "outputId": "20c38c20-ce48-4024-b064-d6bf284653ce"
      },
      "source": [
        "dnd_sales_df[\"Age_at_Shoot_Date\"].value_counts()"
      ],
      "execution_count": 382,
      "outputs": [
        {
          "output_type": "execute_result",
          "data": {
            "text/plain": [
              "25    21\n",
              "26    18\n",
              "33    17\n",
              "35    17\n",
              "27    15\n",
              "28    14\n",
              "23    14\n",
              "32    13\n",
              "38    13\n",
              "34    12\n",
              "31    12\n",
              "30    10\n",
              "36    10\n",
              "29    10\n",
              "24     9\n",
              "39     9\n",
              "41     8\n",
              "40     8\n",
              "22     7\n",
              "50     6\n",
              "21     6\n",
              "44     6\n",
              "37     6\n",
              "20     5\n",
              "42     5\n",
              "43     5\n",
              "46     5\n",
              "48     5\n",
              "52     4\n",
              "45     4\n",
              "56     4\n",
              "54     4\n",
              "58     3\n",
              "51     3\n",
              "19     2\n",
              "49     2\n",
              "53     2\n",
              "59     2\n",
              "65     2\n",
              "66     1\n",
              "47     1\n",
              "57     1\n",
              "60     1\n",
              "61     1\n",
              "63     1\n",
              "72     1\n",
              "Name: Age_at_Shoot_Date, dtype: int64"
            ]
          },
          "metadata": {
            "tags": []
          },
          "execution_count": 382
        }
      ]
    },
    {
      "cell_type": "code",
      "metadata": {
        "id": "1ckSOXss6M1k",
        "colab_type": "code",
        "colab": {
          "base_uri": "https://localhost:8080/",
          "height": 168
        },
        "outputId": "78adcb06-4e81-4f9e-8135-2b75950f117b"
      },
      "source": [
        "dnd_sales_df[\"Age_at_Shoot_Date\"].describe()"
      ],
      "execution_count": 383,
      "outputs": [
        {
          "output_type": "execute_result",
          "data": {
            "text/plain": [
              "count    325.000000\n",
              "mean      34.630769\n",
              "std       10.251120\n",
              "min       19.000000\n",
              "25%       26.000000\n",
              "50%       33.000000\n",
              "75%       40.000000\n",
              "max       72.000000\n",
              "Name: Age_at_Shoot_Date, dtype: float64"
            ]
          },
          "metadata": {
            "tags": []
          },
          "execution_count": 383
        }
      ]
    },
    {
      "cell_type": "code",
      "metadata": {
        "id": "FSz024kKbhzH",
        "colab_type": "code",
        "colab": {}
      },
      "source": [
        ""
      ],
      "execution_count": 383,
      "outputs": []
    },
    {
      "cell_type": "code",
      "metadata": {
        "id": "US5uuAUQ7HRc",
        "colab_type": "code",
        "colab": {}
      },
      "source": [
        "# bin the age into categories\n",
        "cut_labels_10 = [\"18-25\", \"26-30\", \"31-35\", \"36-40\", \"41-45\", \"46-50\", \"51-55\",\n",
        "                \"56-60\", \"61-65\", \"66-72\"]\n",
        "cut_bins = [0, 25, 30, 35, 40, 45, 50, 55, 60, 65, 72]\n",
        "\n",
        "dnd_sales_df[\"Age_Range\"] = pd.cut(dnd_sales_df[\"Age_at_Shoot_Date\"], bins=cut_bins,\n",
        "                                   labels=cut_labels_10)"
      ],
      "execution_count": 384,
      "outputs": []
    },
    {
      "cell_type": "code",
      "metadata": {
        "id": "OAmpve1N4IYz",
        "colab_type": "code",
        "colab": {
          "base_uri": "https://localhost:8080/",
          "height": 157
        },
        "outputId": "4858aa2e-f060-49fe-ebf8-b4470b8f9bb9"
      },
      "source": [
        "dnd_sales_df.head(2)"
      ],
      "execution_count": 385,
      "outputs": [
        {
          "output_type": "execute_result",
          "data": {
            "text/html": [
              "<div>\n",
              "<style scoped>\n",
              "    .dataframe tbody tr th:only-of-type {\n",
              "        vertical-align: middle;\n",
              "    }\n",
              "\n",
              "    .dataframe tbody tr th {\n",
              "        vertical-align: top;\n",
              "    }\n",
              "\n",
              "    .dataframe thead th {\n",
              "        text-align: right;\n",
              "    }\n",
              "</style>\n",
              "<table border=\"1\" class=\"dataframe\">\n",
              "  <thead>\n",
              "    <tr style=\"text-align: right;\">\n",
              "      <th></th>\n",
              "      <th>Date_of_PreShoot</th>\n",
              "      <th>Session_Fee</th>\n",
              "      <th>Hair</th>\n",
              "      <th>DOB</th>\n",
              "      <th>zip_code</th>\n",
              "      <th>Sales_total</th>\n",
              "      <th>Model Release</th>\n",
              "      <th>Favorite</th>\n",
              "      <th>Age_at_Shoot_Date</th>\n",
              "      <th>Age_Range</th>\n",
              "    </tr>\n",
              "  </thead>\n",
              "  <tbody>\n",
              "    <tr>\n",
              "      <th>0</th>\n",
              "      <td>2017-01-05</td>\n",
              "      <td>99</td>\n",
              "      <td>yes</td>\n",
              "      <td>1976-05-05</td>\n",
              "      <td>32208</td>\n",
              "      <td>600</td>\n",
              "      <td>yes</td>\n",
              "      <td>butt</td>\n",
              "      <td>40</td>\n",
              "      <td>36-40</td>\n",
              "    </tr>\n",
              "    <tr>\n",
              "      <th>1</th>\n",
              "      <td>2017-11-02</td>\n",
              "      <td>99</td>\n",
              "      <td>yes</td>\n",
              "      <td>1984-10-16</td>\n",
              "      <td>32082</td>\n",
              "      <td>400</td>\n",
              "      <td>no</td>\n",
              "      <td>butt, eyes</td>\n",
              "      <td>33</td>\n",
              "      <td>31-35</td>\n",
              "    </tr>\n",
              "  </tbody>\n",
              "</table>\n",
              "</div>"
            ],
            "text/plain": [
              "  Date_of_PreShoot Session_Fee Hair  ...    Favorite Age_at_Shoot_Date  Age_Range\n",
              "0       2017-01-05          99  yes  ...        butt                40      36-40\n",
              "1       2017-11-02          99  yes  ...  butt, eyes                33      31-35\n",
              "\n",
              "[2 rows x 10 columns]"
            ]
          },
          "metadata": {
            "tags": []
          },
          "execution_count": 385
        }
      ]
    },
    {
      "cell_type": "code",
      "metadata": {
        "id": "sJvCqJmH0mu5",
        "colab_type": "code",
        "colab": {
          "base_uri": "https://localhost:8080/",
          "height": 202
        },
        "outputId": "7d1cbb2b-c407-4382-f4e5-b7bf437c696d"
      },
      "source": [
        "# just to get a look at the new Age Range feature\n",
        "dnd_sales_df[\"Age_Range\"].value_counts().sort_index()"
      ],
      "execution_count": 386,
      "outputs": [
        {
          "output_type": "execute_result",
          "data": {
            "text/plain": [
              "18-25    64\n",
              "26-30    67\n",
              "31-35    71\n",
              "36-40    46\n",
              "41-45    28\n",
              "46-50    19\n",
              "51-55    13\n",
              "56-60    11\n",
              "61-65     4\n",
              "66-72     2\n",
              "Name: Age_Range, dtype: int64"
            ]
          },
          "metadata": {
            "tags": []
          },
          "execution_count": 386
        }
      ]
    },
    {
      "cell_type": "code",
      "metadata": {
        "id": "eHWVp2lqdh6I",
        "colab_type": "code",
        "colab": {}
      },
      "source": [
        ""
      ],
      "execution_count": 386,
      "outputs": []
    },
    {
      "cell_type": "code",
      "metadata": {
        "id": "6_06SfrSdIc8",
        "colab_type": "code",
        "colab": {}
      },
      "source": [
        ""
      ],
      "execution_count": 386,
      "outputs": []
    },
    {
      "cell_type": "code",
      "metadata": {
        "id": "peVHlFz8A_j9",
        "colab_type": "code",
        "colab": {
          "base_uri": "https://localhost:8080/",
          "height": 284
        },
        "outputId": "82b78fce-5c6e-4eeb-be31-6364f5d9a8fb"
      },
      "source": [
        "# change Session_Fee\n",
        "dnd_sales_df[\"Session_Fee\"]= dnd_sales_df[\"Session_Fee\"].astype(str).astype(int)\n",
        "dnd_sales_df.describe()"
      ],
      "execution_count": 387,
      "outputs": [
        {
          "output_type": "execute_result",
          "data": {
            "text/html": [
              "<div>\n",
              "<style scoped>\n",
              "    .dataframe tbody tr th:only-of-type {\n",
              "        vertical-align: middle;\n",
              "    }\n",
              "\n",
              "    .dataframe tbody tr th {\n",
              "        vertical-align: top;\n",
              "    }\n",
              "\n",
              "    .dataframe thead th {\n",
              "        text-align: right;\n",
              "    }\n",
              "</style>\n",
              "<table border=\"1\" class=\"dataframe\">\n",
              "  <thead>\n",
              "    <tr style=\"text-align: right;\">\n",
              "      <th></th>\n",
              "      <th>Session_Fee</th>\n",
              "      <th>Sales_total</th>\n",
              "      <th>Age_at_Shoot_Date</th>\n",
              "    </tr>\n",
              "  </thead>\n",
              "  <tbody>\n",
              "    <tr>\n",
              "      <th>count</th>\n",
              "      <td>325.000000</td>\n",
              "      <td>325.000000</td>\n",
              "      <td>325.000000</td>\n",
              "    </tr>\n",
              "    <tr>\n",
              "      <th>mean</th>\n",
              "      <td>96.661538</td>\n",
              "      <td>738.095385</td>\n",
              "      <td>34.630769</td>\n",
              "    </tr>\n",
              "    <tr>\n",
              "      <th>std</th>\n",
              "      <td>43.553670</td>\n",
              "      <td>475.472871</td>\n",
              "      <td>10.251120</td>\n",
              "    </tr>\n",
              "    <tr>\n",
              "      <th>min</th>\n",
              "      <td>0.000000</td>\n",
              "      <td>0.000000</td>\n",
              "      <td>19.000000</td>\n",
              "    </tr>\n",
              "    <tr>\n",
              "      <th>25%</th>\n",
              "      <td>99.000000</td>\n",
              "      <td>580.000000</td>\n",
              "      <td>26.000000</td>\n",
              "    </tr>\n",
              "    <tr>\n",
              "      <th>50%</th>\n",
              "      <td>99.000000</td>\n",
              "      <td>600.000000</td>\n",
              "      <td>33.000000</td>\n",
              "    </tr>\n",
              "    <tr>\n",
              "      <th>75%</th>\n",
              "      <td>99.000000</td>\n",
              "      <td>950.000000</td>\n",
              "      <td>40.000000</td>\n",
              "    </tr>\n",
              "    <tr>\n",
              "      <th>max</th>\n",
              "      <td>249.000000</td>\n",
              "      <td>3000.000000</td>\n",
              "      <td>72.000000</td>\n",
              "    </tr>\n",
              "  </tbody>\n",
              "</table>\n",
              "</div>"
            ],
            "text/plain": [
              "       Session_Fee  Sales_total  Age_at_Shoot_Date\n",
              "count   325.000000   325.000000         325.000000\n",
              "mean     96.661538   738.095385          34.630769\n",
              "std      43.553670   475.472871          10.251120\n",
              "min       0.000000     0.000000          19.000000\n",
              "25%      99.000000   580.000000          26.000000\n",
              "50%      99.000000   600.000000          33.000000\n",
              "75%      99.000000   950.000000          40.000000\n",
              "max     249.000000  3000.000000          72.000000"
            ]
          },
          "metadata": {
            "tags": []
          },
          "execution_count": 387
        }
      ]
    },
    {
      "cell_type": "code",
      "metadata": {
        "id": "WSJi8UqhEUmy",
        "colab_type": "code",
        "colab": {
          "base_uri": "https://localhost:8080/",
          "height": 34
        },
        "outputId": "f73abf42-c4b7-482b-ccc4-5f33e6c03ae2"
      },
      "source": [
        "dnd_sales_df[\"Session_Fee\"].nunique()"
      ],
      "execution_count": 388,
      "outputs": [
        {
          "output_type": "execute_result",
          "data": {
            "text/plain": [
              "7"
            ]
          },
          "metadata": {
            "tags": []
          },
          "execution_count": 388
        }
      ]
    },
    {
      "cell_type": "code",
      "metadata": {
        "id": "qZL2CGf9Aeii",
        "colab_type": "code",
        "colab": {
          "base_uri": "https://localhost:8080/",
          "height": 151
        },
        "outputId": "151fed73-83b0-43fb-a7cf-85ba3ee664c1"
      },
      "source": [
        "dnd_sales_df[\"Session_Fee\"].value_counts()"
      ],
      "execution_count": 389,
      "outputs": [
        {
          "output_type": "execute_result",
          "data": {
            "text/plain": [
              "99     231\n",
              "25      51\n",
              "179     34\n",
              "249      4\n",
              "0        3\n",
              "100      1\n",
              "89       1\n",
              "Name: Session_Fee, dtype: int64"
            ]
          },
          "metadata": {
            "tags": []
          },
          "execution_count": 389
        }
      ]
    },
    {
      "cell_type": "code",
      "metadata": {
        "id": "Aa6acLjcMx52",
        "colab_type": "code",
        "colab": {}
      },
      "source": [
        ""
      ],
      "execution_count": 389,
      "outputs": []
    },
    {
      "cell_type": "code",
      "metadata": {
        "id": "F14_V_4dPACq",
        "colab_type": "code",
        "colab": {
          "base_uri": "https://localhost:8080/",
          "height": 34
        },
        "outputId": "c5acbe63-fa96-49be-e69b-64983288295d"
      },
      "source": [
        "# check the preshoot column\n",
        "dnd_sales_df[\"Date_of_PreShoot\"].nunique()"
      ],
      "execution_count": 390,
      "outputs": [
        {
          "output_type": "execute_result",
          "data": {
            "text/plain": [
              "266"
            ]
          },
          "metadata": {
            "tags": []
          },
          "execution_count": 390
        }
      ]
    },
    {
      "cell_type": "code",
      "metadata": {
        "id": "ffjmuL_pPuvt",
        "colab_type": "code",
        "colab": {
          "base_uri": "https://localhost:8080/",
          "height": 34
        },
        "outputId": "7f07d403-9950-4d47-87da-d1358dfc5373"
      },
      "source": [
        "dnd_sales_df[\"Date_of_PreShoot\"].isnull().sum()"
      ],
      "execution_count": 391,
      "outputs": [
        {
          "output_type": "execute_result",
          "data": {
            "text/plain": [
              "0"
            ]
          },
          "metadata": {
            "tags": []
          },
          "execution_count": 391
        }
      ]
    },
    {
      "cell_type": "code",
      "metadata": {
        "id": "iPLbfwH5RM5_",
        "colab_type": "code",
        "colab": {
          "base_uri": "https://localhost:8080/",
          "height": 302
        },
        "outputId": "7d2038f6-6533-4a31-de21-b0b13ae6721a"
      },
      "source": [
        "dnd_sales_df.info()"
      ],
      "execution_count": 392,
      "outputs": [
        {
          "output_type": "stream",
          "text": [
            "<class 'pandas.core.frame.DataFrame'>\n",
            "Int64Index: 325 entries, 0 to 423\n",
            "Data columns (total 10 columns):\n",
            " #   Column             Non-Null Count  Dtype         \n",
            "---  ------             --------------  -----         \n",
            " 0   Date_of_PreShoot   325 non-null    datetime64[ns]\n",
            " 1   Session_Fee        325 non-null    int64         \n",
            " 2   Hair               325 non-null    object        \n",
            " 3   DOB                325 non-null    datetime64[ns]\n",
            " 4   zip_code           325 non-null    object        \n",
            " 5   Sales_total        325 non-null    int64         \n",
            " 6   Model Release      317 non-null    object        \n",
            " 7   Favorite           325 non-null    object        \n",
            " 8   Age_at_Shoot_Date  325 non-null    int64         \n",
            " 9   Age_Range          325 non-null    category      \n",
            "dtypes: category(1), datetime64[ns](2), int64(3), object(4)\n",
            "memory usage: 36.1+ KB\n"
          ],
          "name": "stdout"
        }
      ]
    },
    {
      "cell_type": "code",
      "metadata": {
        "id": "aSg8CHtCRics",
        "colab_type": "code",
        "colab": {
          "base_uri": "https://localhost:8080/",
          "height": 296
        },
        "outputId": "20ab088c-abce-48ed-916c-d123807554d7"
      },
      "source": [
        "dnd_sales_df.head()"
      ],
      "execution_count": 393,
      "outputs": [
        {
          "output_type": "execute_result",
          "data": {
            "text/html": [
              "<div>\n",
              "<style scoped>\n",
              "    .dataframe tbody tr th:only-of-type {\n",
              "        vertical-align: middle;\n",
              "    }\n",
              "\n",
              "    .dataframe tbody tr th {\n",
              "        vertical-align: top;\n",
              "    }\n",
              "\n",
              "    .dataframe thead th {\n",
              "        text-align: right;\n",
              "    }\n",
              "</style>\n",
              "<table border=\"1\" class=\"dataframe\">\n",
              "  <thead>\n",
              "    <tr style=\"text-align: right;\">\n",
              "      <th></th>\n",
              "      <th>Date_of_PreShoot</th>\n",
              "      <th>Session_Fee</th>\n",
              "      <th>Hair</th>\n",
              "      <th>DOB</th>\n",
              "      <th>zip_code</th>\n",
              "      <th>Sales_total</th>\n",
              "      <th>Model Release</th>\n",
              "      <th>Favorite</th>\n",
              "      <th>Age_at_Shoot_Date</th>\n",
              "      <th>Age_Range</th>\n",
              "    </tr>\n",
              "  </thead>\n",
              "  <tbody>\n",
              "    <tr>\n",
              "      <th>0</th>\n",
              "      <td>2017-01-05</td>\n",
              "      <td>99</td>\n",
              "      <td>yes</td>\n",
              "      <td>1976-05-05</td>\n",
              "      <td>32208</td>\n",
              "      <td>600</td>\n",
              "      <td>yes</td>\n",
              "      <td>butt</td>\n",
              "      <td>40</td>\n",
              "      <td>36-40</td>\n",
              "    </tr>\n",
              "    <tr>\n",
              "      <th>1</th>\n",
              "      <td>2017-11-02</td>\n",
              "      <td>99</td>\n",
              "      <td>yes</td>\n",
              "      <td>1984-10-16</td>\n",
              "      <td>32082</td>\n",
              "      <td>400</td>\n",
              "      <td>no</td>\n",
              "      <td>butt, eyes</td>\n",
              "      <td>33</td>\n",
              "      <td>31-35</td>\n",
              "    </tr>\n",
              "    <tr>\n",
              "      <th>2</th>\n",
              "      <td>2017-06-29</td>\n",
              "      <td>99</td>\n",
              "      <td>yes</td>\n",
              "      <td>1989-07-22</td>\n",
              "      <td>32080</td>\n",
              "      <td>320</td>\n",
              "      <td>no</td>\n",
              "      <td>eyes, hair, legs</td>\n",
              "      <td>27</td>\n",
              "      <td>26-30</td>\n",
              "    </tr>\n",
              "    <tr>\n",
              "      <th>3</th>\n",
              "      <td>2017-01-23</td>\n",
              "      <td>99</td>\n",
              "      <td>no</td>\n",
              "      <td>1971-01-23</td>\n",
              "      <td>32208</td>\n",
              "      <td>720</td>\n",
              "      <td>yes</td>\n",
              "      <td>boobs</td>\n",
              "      <td>46</td>\n",
              "      <td>46-50</td>\n",
              "    </tr>\n",
              "    <tr>\n",
              "      <th>5</th>\n",
              "      <td>2014-09-14</td>\n",
              "      <td>99</td>\n",
              "      <td>yes</td>\n",
              "      <td>1982-11-03</td>\n",
              "      <td>32257</td>\n",
              "      <td>1320</td>\n",
              "      <td>no</td>\n",
              "      <td>butt</td>\n",
              "      <td>31</td>\n",
              "      <td>31-35</td>\n",
              "    </tr>\n",
              "  </tbody>\n",
              "</table>\n",
              "</div>"
            ],
            "text/plain": [
              "  Date_of_PreShoot  Session_Fee  ... Age_at_Shoot_Date Age_Range\n",
              "0       2017-01-05           99  ...                40     36-40\n",
              "1       2017-11-02           99  ...                33     31-35\n",
              "2       2017-06-29           99  ...                27     26-30\n",
              "3       2017-01-23           99  ...                46     46-50\n",
              "5       2014-09-14           99  ...                31     31-35\n",
              "\n",
              "[5 rows x 10 columns]"
            ]
          },
          "metadata": {
            "tags": []
          },
          "execution_count": 393
        }
      ]
    },
    {
      "cell_type": "code",
      "metadata": {
        "id": "vEAI4y4ye-Ea",
        "colab_type": "code",
        "colab": {
          "base_uri": "https://localhost:8080/",
          "height": 195
        },
        "outputId": "20ec09d5-9868-41aa-d26a-0e8d6fdf59be"
      },
      "source": [
        "# drop Model Release Feature\n",
        "dnd_sales_df = dnd_sales_df.drop(labels=\"Model Release\",axis=1)\n",
        "dnd_sales_df.head()"
      ],
      "execution_count": 394,
      "outputs": [
        {
          "output_type": "execute_result",
          "data": {
            "text/html": [
              "<div>\n",
              "<style scoped>\n",
              "    .dataframe tbody tr th:only-of-type {\n",
              "        vertical-align: middle;\n",
              "    }\n",
              "\n",
              "    .dataframe tbody tr th {\n",
              "        vertical-align: top;\n",
              "    }\n",
              "\n",
              "    .dataframe thead th {\n",
              "        text-align: right;\n",
              "    }\n",
              "</style>\n",
              "<table border=\"1\" class=\"dataframe\">\n",
              "  <thead>\n",
              "    <tr style=\"text-align: right;\">\n",
              "      <th></th>\n",
              "      <th>Date_of_PreShoot</th>\n",
              "      <th>Session_Fee</th>\n",
              "      <th>Hair</th>\n",
              "      <th>DOB</th>\n",
              "      <th>zip_code</th>\n",
              "      <th>Sales_total</th>\n",
              "      <th>Favorite</th>\n",
              "      <th>Age_at_Shoot_Date</th>\n",
              "      <th>Age_Range</th>\n",
              "    </tr>\n",
              "  </thead>\n",
              "  <tbody>\n",
              "    <tr>\n",
              "      <th>0</th>\n",
              "      <td>2017-01-05</td>\n",
              "      <td>99</td>\n",
              "      <td>yes</td>\n",
              "      <td>1976-05-05</td>\n",
              "      <td>32208</td>\n",
              "      <td>600</td>\n",
              "      <td>butt</td>\n",
              "      <td>40</td>\n",
              "      <td>36-40</td>\n",
              "    </tr>\n",
              "    <tr>\n",
              "      <th>1</th>\n",
              "      <td>2017-11-02</td>\n",
              "      <td>99</td>\n",
              "      <td>yes</td>\n",
              "      <td>1984-10-16</td>\n",
              "      <td>32082</td>\n",
              "      <td>400</td>\n",
              "      <td>butt, eyes</td>\n",
              "      <td>33</td>\n",
              "      <td>31-35</td>\n",
              "    </tr>\n",
              "    <tr>\n",
              "      <th>2</th>\n",
              "      <td>2017-06-29</td>\n",
              "      <td>99</td>\n",
              "      <td>yes</td>\n",
              "      <td>1989-07-22</td>\n",
              "      <td>32080</td>\n",
              "      <td>320</td>\n",
              "      <td>eyes, hair, legs</td>\n",
              "      <td>27</td>\n",
              "      <td>26-30</td>\n",
              "    </tr>\n",
              "    <tr>\n",
              "      <th>3</th>\n",
              "      <td>2017-01-23</td>\n",
              "      <td>99</td>\n",
              "      <td>no</td>\n",
              "      <td>1971-01-23</td>\n",
              "      <td>32208</td>\n",
              "      <td>720</td>\n",
              "      <td>boobs</td>\n",
              "      <td>46</td>\n",
              "      <td>46-50</td>\n",
              "    </tr>\n",
              "    <tr>\n",
              "      <th>5</th>\n",
              "      <td>2014-09-14</td>\n",
              "      <td>99</td>\n",
              "      <td>yes</td>\n",
              "      <td>1982-11-03</td>\n",
              "      <td>32257</td>\n",
              "      <td>1320</td>\n",
              "      <td>butt</td>\n",
              "      <td>31</td>\n",
              "      <td>31-35</td>\n",
              "    </tr>\n",
              "  </tbody>\n",
              "</table>\n",
              "</div>"
            ],
            "text/plain": [
              "  Date_of_PreShoot  Session_Fee  ... Age_at_Shoot_Date Age_Range\n",
              "0       2017-01-05           99  ...                40     36-40\n",
              "1       2017-11-02           99  ...                33     31-35\n",
              "2       2017-06-29           99  ...                27     26-30\n",
              "3       2017-01-23           99  ...                46     46-50\n",
              "5       2014-09-14           99  ...                31     31-35\n",
              "\n",
              "[5 rows x 9 columns]"
            ]
          },
          "metadata": {
            "tags": []
          },
          "execution_count": 394
        }
      ]
    },
    {
      "cell_type": "code",
      "metadata": {
        "id": "lwKJcb9hR-uZ",
        "colab_type": "code",
        "colab": {
          "base_uri": "https://localhost:8080/",
          "height": 218
        },
        "outputId": "d08c4999-02c0-4ae0-eb91-e7b447a19ec1"
      },
      "source": [
        "dnd_sales_df[\"zip_code\"].value_counts()"
      ],
      "execution_count": 395,
      "outputs": [
        {
          "output_type": "execute_result",
          "data": {
            "text/plain": [
              "32218    19\n",
              "32258    15\n",
              "32246    15\n",
              "32256    15\n",
              "32216    14\n",
              "         ..\n",
              "33605     1\n",
              "31169     1\n",
              "32033     1\n",
              "32046     1\n",
              "31525     1\n",
              "Name: zip_code, Length: 76, dtype: int64"
            ]
          },
          "metadata": {
            "tags": []
          },
          "execution_count": 395
        }
      ]
    },
    {
      "cell_type": "code",
      "metadata": {
        "id": "rtd6_tJNSPM2",
        "colab_type": "code",
        "colab": {
          "base_uri": "https://localhost:8080/",
          "height": 34
        },
        "outputId": "8b7d2d42-1c09-48b9-a5f3-8fc44faf07e3"
      },
      "source": [
        "dnd_sales_df[\"zip_code\"].isnull().sum()"
      ],
      "execution_count": 396,
      "outputs": [
        {
          "output_type": "execute_result",
          "data": {
            "text/plain": [
              "0"
            ]
          },
          "metadata": {
            "tags": []
          },
          "execution_count": 396
        }
      ]
    },
    {
      "cell_type": "code",
      "metadata": {
        "id": "XHwYW153Ms2m",
        "colab_type": "code",
        "colab": {}
      },
      "source": [
        ""
      ],
      "execution_count": 396,
      "outputs": []
    },
    {
      "cell_type": "code",
      "metadata": {
        "id": "C7Osf18dqULv",
        "colab_type": "code",
        "colab": {}
      },
      "source": [
        "# num_cols = [dnd_sales_df.columns[0], dnd_sales_df.columns[1], dnd_sales_df.columns[5]]"
      ],
      "execution_count": 397,
      "outputs": []
    },
    {
      "cell_type": "code",
      "metadata": {
        "id": "HgwWVpFiqyLR",
        "colab_type": "code",
        "colab": {}
      },
      "source": [
        "# try to convert columns to \"category\" data type\n",
        "# dnd_sales_df[num_cols] = dnd_sales_df[num_cols].astype(\"category\")"
      ],
      "execution_count": 398,
      "outputs": []
    },
    {
      "cell_type": "code",
      "metadata": {
        "id": "ONuCv9oOsGMH",
        "colab_type": "code",
        "colab": {
          "base_uri": "https://localhost:8080/",
          "height": 185
        },
        "outputId": "1ccd262b-3c32-49e1-fe4c-bb2df78c2f2e"
      },
      "source": [
        "dnd_sales_df.dtypes"
      ],
      "execution_count": 399,
      "outputs": [
        {
          "output_type": "execute_result",
          "data": {
            "text/plain": [
              "Date_of_PreShoot     datetime64[ns]\n",
              "Session_Fee                   int64\n",
              "Hair                         object\n",
              "DOB                  datetime64[ns]\n",
              "zip_code                     object\n",
              "Sales_total                   int64\n",
              "Favorite                     object\n",
              "Age_at_Shoot_Date             int64\n",
              "Age_Range                  category\n",
              "dtype: object"
            ]
          },
          "metadata": {
            "tags": []
          },
          "execution_count": 399
        }
      ]
    },
    {
      "cell_type": "code",
      "metadata": {
        "id": "OWyKNKjmsMUk",
        "colab_type": "code",
        "colab": {}
      },
      "source": [
        "# for col in num_cols:\n",
        "#   dnd_sales_df[col] = dnd_sales_df[col].cat.codes\n",
        "\n",
        "# print(dnd_sales_df.shape)\n",
        "# dnd_sales_df.head"
      ],
      "execution_count": 400,
      "outputs": []
    },
    {
      "cell_type": "code",
      "metadata": {
        "id": "bQ5nFWQ3swK_",
        "colab_type": "code",
        "colab": {
          "base_uri": "https://localhost:8080/",
          "height": 284
        },
        "outputId": "ba7f5131-fb3e-4c70-ca40-5cefc76dce92"
      },
      "source": [
        "dnd_sales_df.describe()"
      ],
      "execution_count": 401,
      "outputs": [
        {
          "output_type": "execute_result",
          "data": {
            "text/html": [
              "<div>\n",
              "<style scoped>\n",
              "    .dataframe tbody tr th:only-of-type {\n",
              "        vertical-align: middle;\n",
              "    }\n",
              "\n",
              "    .dataframe tbody tr th {\n",
              "        vertical-align: top;\n",
              "    }\n",
              "\n",
              "    .dataframe thead th {\n",
              "        text-align: right;\n",
              "    }\n",
              "</style>\n",
              "<table border=\"1\" class=\"dataframe\">\n",
              "  <thead>\n",
              "    <tr style=\"text-align: right;\">\n",
              "      <th></th>\n",
              "      <th>Session_Fee</th>\n",
              "      <th>Sales_total</th>\n",
              "      <th>Age_at_Shoot_Date</th>\n",
              "    </tr>\n",
              "  </thead>\n",
              "  <tbody>\n",
              "    <tr>\n",
              "      <th>count</th>\n",
              "      <td>325.000000</td>\n",
              "      <td>325.000000</td>\n",
              "      <td>325.000000</td>\n",
              "    </tr>\n",
              "    <tr>\n",
              "      <th>mean</th>\n",
              "      <td>96.661538</td>\n",
              "      <td>738.095385</td>\n",
              "      <td>34.630769</td>\n",
              "    </tr>\n",
              "    <tr>\n",
              "      <th>std</th>\n",
              "      <td>43.553670</td>\n",
              "      <td>475.472871</td>\n",
              "      <td>10.251120</td>\n",
              "    </tr>\n",
              "    <tr>\n",
              "      <th>min</th>\n",
              "      <td>0.000000</td>\n",
              "      <td>0.000000</td>\n",
              "      <td>19.000000</td>\n",
              "    </tr>\n",
              "    <tr>\n",
              "      <th>25%</th>\n",
              "      <td>99.000000</td>\n",
              "      <td>580.000000</td>\n",
              "      <td>26.000000</td>\n",
              "    </tr>\n",
              "    <tr>\n",
              "      <th>50%</th>\n",
              "      <td>99.000000</td>\n",
              "      <td>600.000000</td>\n",
              "      <td>33.000000</td>\n",
              "    </tr>\n",
              "    <tr>\n",
              "      <th>75%</th>\n",
              "      <td>99.000000</td>\n",
              "      <td>950.000000</td>\n",
              "      <td>40.000000</td>\n",
              "    </tr>\n",
              "    <tr>\n",
              "      <th>max</th>\n",
              "      <td>249.000000</td>\n",
              "      <td>3000.000000</td>\n",
              "      <td>72.000000</td>\n",
              "    </tr>\n",
              "  </tbody>\n",
              "</table>\n",
              "</div>"
            ],
            "text/plain": [
              "       Session_Fee  Sales_total  Age_at_Shoot_Date\n",
              "count   325.000000   325.000000         325.000000\n",
              "mean     96.661538   738.095385          34.630769\n",
              "std      43.553670   475.472871          10.251120\n",
              "min       0.000000     0.000000          19.000000\n",
              "25%      99.000000   580.000000          26.000000\n",
              "50%      99.000000   600.000000          33.000000\n",
              "75%      99.000000   950.000000          40.000000\n",
              "max     249.000000  3000.000000          72.000000"
            ]
          },
          "metadata": {
            "tags": []
          },
          "execution_count": 401
        }
      ]
    },
    {
      "cell_type": "code",
      "metadata": {
        "id": "z5EgjfM1s5bW",
        "colab_type": "code",
        "colab": {
          "base_uri": "https://localhost:8080/",
          "height": 343
        },
        "outputId": "884ae540-b31a-4d02-9755-5ac220844094"
      },
      "source": [
        "dnd_sales_df.head(10)"
      ],
      "execution_count": 402,
      "outputs": [
        {
          "output_type": "execute_result",
          "data": {
            "text/html": [
              "<div>\n",
              "<style scoped>\n",
              "    .dataframe tbody tr th:only-of-type {\n",
              "        vertical-align: middle;\n",
              "    }\n",
              "\n",
              "    .dataframe tbody tr th {\n",
              "        vertical-align: top;\n",
              "    }\n",
              "\n",
              "    .dataframe thead th {\n",
              "        text-align: right;\n",
              "    }\n",
              "</style>\n",
              "<table border=\"1\" class=\"dataframe\">\n",
              "  <thead>\n",
              "    <tr style=\"text-align: right;\">\n",
              "      <th></th>\n",
              "      <th>Date_of_PreShoot</th>\n",
              "      <th>Session_Fee</th>\n",
              "      <th>Hair</th>\n",
              "      <th>DOB</th>\n",
              "      <th>zip_code</th>\n",
              "      <th>Sales_total</th>\n",
              "      <th>Favorite</th>\n",
              "      <th>Age_at_Shoot_Date</th>\n",
              "      <th>Age_Range</th>\n",
              "    </tr>\n",
              "  </thead>\n",
              "  <tbody>\n",
              "    <tr>\n",
              "      <th>0</th>\n",
              "      <td>2017-01-05</td>\n",
              "      <td>99</td>\n",
              "      <td>yes</td>\n",
              "      <td>1976-05-05</td>\n",
              "      <td>32208</td>\n",
              "      <td>600</td>\n",
              "      <td>butt</td>\n",
              "      <td>40</td>\n",
              "      <td>36-40</td>\n",
              "    </tr>\n",
              "    <tr>\n",
              "      <th>1</th>\n",
              "      <td>2017-11-02</td>\n",
              "      <td>99</td>\n",
              "      <td>yes</td>\n",
              "      <td>1984-10-16</td>\n",
              "      <td>32082</td>\n",
              "      <td>400</td>\n",
              "      <td>butt, eyes</td>\n",
              "      <td>33</td>\n",
              "      <td>31-35</td>\n",
              "    </tr>\n",
              "    <tr>\n",
              "      <th>2</th>\n",
              "      <td>2017-06-29</td>\n",
              "      <td>99</td>\n",
              "      <td>yes</td>\n",
              "      <td>1989-07-22</td>\n",
              "      <td>32080</td>\n",
              "      <td>320</td>\n",
              "      <td>eyes, hair, legs</td>\n",
              "      <td>27</td>\n",
              "      <td>26-30</td>\n",
              "    </tr>\n",
              "    <tr>\n",
              "      <th>3</th>\n",
              "      <td>2017-01-23</td>\n",
              "      <td>99</td>\n",
              "      <td>no</td>\n",
              "      <td>1971-01-23</td>\n",
              "      <td>32208</td>\n",
              "      <td>720</td>\n",
              "      <td>boobs</td>\n",
              "      <td>46</td>\n",
              "      <td>46-50</td>\n",
              "    </tr>\n",
              "    <tr>\n",
              "      <th>5</th>\n",
              "      <td>2014-09-14</td>\n",
              "      <td>99</td>\n",
              "      <td>yes</td>\n",
              "      <td>1982-11-03</td>\n",
              "      <td>32257</td>\n",
              "      <td>1320</td>\n",
              "      <td>butt</td>\n",
              "      <td>31</td>\n",
              "      <td>31-35</td>\n",
              "    </tr>\n",
              "    <tr>\n",
              "      <th>6</th>\n",
              "      <td>2017-09-05</td>\n",
              "      <td>99</td>\n",
              "      <td>no</td>\n",
              "      <td>1996-01-24</td>\n",
              "      <td>32246</td>\n",
              "      <td>0</td>\n",
              "      <td>eyes</td>\n",
              "      <td>21</td>\n",
              "      <td>18-25</td>\n",
              "    </tr>\n",
              "    <tr>\n",
              "      <th>7</th>\n",
              "      <td>2015-08-14</td>\n",
              "      <td>179</td>\n",
              "      <td>no</td>\n",
              "      <td>1977-08-29</td>\n",
              "      <td>32221</td>\n",
              "      <td>240</td>\n",
              "      <td>no preference</td>\n",
              "      <td>37</td>\n",
              "      <td>36-40</td>\n",
              "    </tr>\n",
              "    <tr>\n",
              "      <th>9</th>\n",
              "      <td>2015-03-05</td>\n",
              "      <td>99</td>\n",
              "      <td>yes</td>\n",
              "      <td>1979-09-07</td>\n",
              "      <td>32277</td>\n",
              "      <td>720</td>\n",
              "      <td>boobs</td>\n",
              "      <td>35</td>\n",
              "      <td>31-35</td>\n",
              "    </tr>\n",
              "    <tr>\n",
              "      <th>10</th>\n",
              "      <td>2015-01-21</td>\n",
              "      <td>99</td>\n",
              "      <td>yes</td>\n",
              "      <td>1988-08-04</td>\n",
              "      <td>32258</td>\n",
              "      <td>680</td>\n",
              "      <td>eyes</td>\n",
              "      <td>26</td>\n",
              "      <td>26-30</td>\n",
              "    </tr>\n",
              "    <tr>\n",
              "      <th>12</th>\n",
              "      <td>2014-09-27</td>\n",
              "      <td>99</td>\n",
              "      <td>no</td>\n",
              "      <td>1969-11-10</td>\n",
              "      <td>32216</td>\n",
              "      <td>600</td>\n",
              "      <td>no preference</td>\n",
              "      <td>44</td>\n",
              "      <td>41-45</td>\n",
              "    </tr>\n",
              "  </tbody>\n",
              "</table>\n",
              "</div>"
            ],
            "text/plain": [
              "   Date_of_PreShoot  Session_Fee  ... Age_at_Shoot_Date Age_Range\n",
              "0        2017-01-05           99  ...                40     36-40\n",
              "1        2017-11-02           99  ...                33     31-35\n",
              "2        2017-06-29           99  ...                27     26-30\n",
              "3        2017-01-23           99  ...                46     46-50\n",
              "5        2014-09-14           99  ...                31     31-35\n",
              "6        2017-09-05           99  ...                21     18-25\n",
              "7        2015-08-14          179  ...                37     36-40\n",
              "9        2015-03-05           99  ...                35     31-35\n",
              "10       2015-01-21           99  ...                26     26-30\n",
              "12       2014-09-27           99  ...                44     41-45\n",
              "\n",
              "[10 rows x 9 columns]"
            ]
          },
          "metadata": {
            "tags": []
          },
          "execution_count": 402
        }
      ]
    },
    {
      "cell_type": "code",
      "metadata": {
        "id": "WIjjQ2rNh74d",
        "colab_type": "code",
        "colab": {
          "base_uri": "https://localhost:8080/",
          "height": 101
        },
        "outputId": "b5e12885-a76f-4fa1-f9d3-4c8571f53905"
      },
      "source": [
        "#fix the Hair column by string white space if needed\n",
        "dnd_sales_df[\"Hair\"].value_counts()\n"
      ],
      "execution_count": 403,
      "outputs": [
        {
          "output_type": "execute_result",
          "data": {
            "text/plain": [
              "no     229\n",
              "yes     94\n",
              " no      1\n",
              "no       1\n",
              "Name: Hair, dtype: int64"
            ]
          },
          "metadata": {
            "tags": []
          },
          "execution_count": 403
        }
      ]
    },
    {
      "cell_type": "code",
      "metadata": {
        "id": "xiWuWfghiTGb",
        "colab_type": "code",
        "colab": {}
      },
      "source": [
        "dnd_sales_df[\"Hair\"] = dnd_sales_df.loc[:, \"Hair\"].str.strip()"
      ],
      "execution_count": 404,
      "outputs": []
    },
    {
      "cell_type": "code",
      "metadata": {
        "id": "0ndhuo4xihNb",
        "colab_type": "code",
        "colab": {
          "base_uri": "https://localhost:8080/",
          "height": 67
        },
        "outputId": "a1f5d12d-d741-41ef-c5fc-4b28390fdc00"
      },
      "source": [
        "# check to see if it worked\n",
        "dnd_sales_df[\"Hair\"].value_counts()"
      ],
      "execution_count": 405,
      "outputs": [
        {
          "output_type": "execute_result",
          "data": {
            "text/plain": [
              "no     231\n",
              "yes     94\n",
              "Name: Hair, dtype: int64"
            ]
          },
          "metadata": {
            "tags": []
          },
          "execution_count": 405
        }
      ]
    },
    {
      "cell_type": "code",
      "metadata": {
        "id": "94NtWgnnispx",
        "colab_type": "code",
        "colab": {
          "base_uri": "https://localhost:8080/",
          "height": 185
        },
        "outputId": "fffbd1cd-dd59-4b3a-f102-0db54171f1bc"
      },
      "source": [
        "dnd_sales_df.dtypes"
      ],
      "execution_count": 406,
      "outputs": [
        {
          "output_type": "execute_result",
          "data": {
            "text/plain": [
              "Date_of_PreShoot     datetime64[ns]\n",
              "Session_Fee                   int64\n",
              "Hair                         object\n",
              "DOB                  datetime64[ns]\n",
              "zip_code                     object\n",
              "Sales_total                   int64\n",
              "Favorite                     object\n",
              "Age_at_Shoot_Date             int64\n",
              "Age_Range                  category\n",
              "dtype: object"
            ]
          },
          "metadata": {
            "tags": []
          },
          "execution_count": 406
        }
      ]
    },
    {
      "cell_type": "code",
      "metadata": {
        "id": "8cQtwDLmVCYu",
        "colab_type": "code",
        "colab": {}
      },
      "source": [
        "# change Hair to category\n",
        "dnd_sales_df[\"Hair\"] = dnd_sales_df[\"Hair\"].astype(\"category\")\n",
        "dnd_sales_df[\"zip_code\"] = dnd_sales_df[\"zip_code\"].astype(\"category\")"
      ],
      "execution_count": 407,
      "outputs": []
    },
    {
      "cell_type": "code",
      "metadata": {
        "id": "asJGg2PZkeAK",
        "colab_type": "code",
        "colab": {
          "base_uri": "https://localhost:8080/",
          "height": 185
        },
        "outputId": "1d780aad-0ef1-47fe-b0d6-dfc407275ba4"
      },
      "source": [
        "dnd_sales_df.dtypes"
      ],
      "execution_count": 408,
      "outputs": [
        {
          "output_type": "execute_result",
          "data": {
            "text/plain": [
              "Date_of_PreShoot     datetime64[ns]\n",
              "Session_Fee                   int64\n",
              "Hair                       category\n",
              "DOB                  datetime64[ns]\n",
              "zip_code                   category\n",
              "Sales_total                   int64\n",
              "Favorite                     object\n",
              "Age_at_Shoot_Date             int64\n",
              "Age_Range                  category\n",
              "dtype: object"
            ]
          },
          "metadata": {
            "tags": []
          },
          "execution_count": 408
        }
      ]
    },
    {
      "cell_type": "code",
      "metadata": {
        "id": "zTKNI3m2mVuG",
        "colab_type": "code",
        "colab": {}
      },
      "source": [
        ""
      ],
      "execution_count": 408,
      "outputs": []
    },
    {
      "cell_type": "code",
      "metadata": {
        "id": "CF4-qH9Wklmr",
        "colab_type": "code",
        "colab": {}
      },
      "source": [
        ""
      ],
      "execution_count": 408,
      "outputs": []
    },
    {
      "cell_type": "code",
      "metadata": {
        "id": "pxYEjsPvWL2F",
        "colab_type": "code",
        "colab": {
          "base_uri": "https://localhost:8080/",
          "height": 50
        },
        "outputId": "e7ee4f0c-99b6-46f6-c6b2-4002e3d64296"
      },
      "source": [
        "# creat a condition that give zip codes that are above the mode\n",
        "dnd_sales_df[\"Sales_total\"].mode()"
      ],
      "execution_count": 409,
      "outputs": [
        {
          "output_type": "execute_result",
          "data": {
            "text/plain": [
              "0    600\n",
              "dtype: int64"
            ]
          },
          "metadata": {
            "tags": []
          },
          "execution_count": 409
        }
      ]
    },
    {
      "cell_type": "code",
      "metadata": {
        "id": "DXAWzE-urZZB",
        "colab_type": "code",
        "colab": {}
      },
      "source": [
        ""
      ],
      "execution_count": 409,
      "outputs": []
    },
    {
      "cell_type": "code",
      "metadata": {
        "id": "BQ1oN0BarsQh",
        "colab_type": "code",
        "colab": {
          "base_uri": "https://localhost:8080/",
          "height": 218
        },
        "outputId": "e6913bb8-744e-44eb-e7b2-43c3754793f8"
      },
      "source": [
        "# zip code needs to be checked I think it might have spaces and stuff.\n",
        "dnd_sales_df[\"zip_code\"].value_counts()"
      ],
      "execution_count": 410,
      "outputs": [
        {
          "output_type": "execute_result",
          "data": {
            "text/plain": [
              "32218    19\n",
              "32258    15\n",
              "32256    15\n",
              "32246    15\n",
              "32216    14\n",
              "         ..\n",
              "32098     1\n",
              "32095     1\n",
              "32083     1\n",
              "32063     1\n",
              "30354     1\n",
              "Name: zip_code, Length: 76, dtype: int64"
            ]
          },
          "metadata": {
            "tags": []
          },
          "execution_count": 410
        }
      ]
    },
    {
      "cell_type": "code",
      "metadata": {
        "id": "R-fDSNnahH9y",
        "colab_type": "code",
        "colab": {}
      },
      "source": [
        "dnd_sales_df[\"zip_code\"] = dnd_sales_df[\"zip_code\"].str.strip()"
      ],
      "execution_count": 411,
      "outputs": []
    },
    {
      "cell_type": "code",
      "metadata": {
        "id": "VFt2Kh-Przhm",
        "colab_type": "code",
        "colab": {}
      },
      "source": [
        "dnd_sales_df[\"zip_code\"] = dnd_sales_df[\"zip_code\"].astype(\"category\")"
      ],
      "execution_count": 412,
      "outputs": []
    },
    {
      "cell_type": "code",
      "metadata": {
        "id": "XOKjn-fOr7qV",
        "colab_type": "code",
        "colab": {
          "base_uri": "https://localhost:8080/",
          "height": 286
        },
        "outputId": "7466947b-54ec-477d-8234-bc59fac48ae4"
      },
      "source": [
        "dnd_sales_df.info()"
      ],
      "execution_count": 413,
      "outputs": [
        {
          "output_type": "stream",
          "text": [
            "<class 'pandas.core.frame.DataFrame'>\n",
            "Int64Index: 325 entries, 0 to 423\n",
            "Data columns (total 9 columns):\n",
            " #   Column             Non-Null Count  Dtype         \n",
            "---  ------             --------------  -----         \n",
            " 0   Date_of_PreShoot   325 non-null    datetime64[ns]\n",
            " 1   Session_Fee        325 non-null    int64         \n",
            " 2   Hair               325 non-null    category      \n",
            " 3   DOB                325 non-null    datetime64[ns]\n",
            " 4   zip_code           325 non-null    category      \n",
            " 5   Sales_total        325 non-null    int64         \n",
            " 6   Favorite           325 non-null    object        \n",
            " 7   Age_at_Shoot_Date  325 non-null    int64         \n",
            " 8   Age_Range          325 non-null    category      \n",
            "dtypes: category(3), datetime64[ns](2), int64(3), object(1)\n",
            "memory usage: 32.3+ KB\n"
          ],
          "name": "stdout"
        }
      ]
    },
    {
      "cell_type": "code",
      "metadata": {
        "id": "MiqfgHBjiTF2",
        "colab_type": "code",
        "colab": {
          "base_uri": "https://localhost:8080/",
          "height": 840
        },
        "outputId": "3e366552-d95f-43d3-f4e4-206257b9a753"
      },
      "source": [
        "dnd_sales_df[\"Favorite\"].value_counts()\n"
      ],
      "execution_count": 414,
      "outputs": [
        {
          "output_type": "execute_result",
          "data": {
            "text/plain": [
              "no preference               158\n",
              "butt                         59\n",
              "boobs                        33\n",
              "legs                          9\n",
              "eyes                          7\n",
              "butt, eyes                    7\n",
              "boobs, legs                   6\n",
              "butt, legs                    3\n",
              "boobs, eyes                   2\n",
              "butt                          2\n",
              "eyes, legs                    2\n",
              "hips                          1\n",
              "chest, eyes, neck             1\n",
              "smile                         1\n",
              "legs, pale_skin               1\n",
              "butt, hair, legs              1\n",
              "legs, shoulder, smile         1\n",
              "cheek_bones, eyes, lips       1\n",
              "thighs                        1\n",
              "butt, decoletage              1\n",
              "butt, eyes, hair              1\n",
              "eyes, hair, legs              1\n",
              "abs, butt                     1\n",
              "eyes, smile                   1\n",
              "waist                         1\n",
              "back, tattoo                  1\n",
              "boobs, shoulder               1\n",
              "butt, hair, legs,             1\n",
              "legs, feet                    1\n",
              "boobs, butt                   1\n",
              "butt, hips, legs              1\n",
              "back, butt, legs              1\n",
              "butt, curves                  1\n",
              "butt, decoletage, legs        1\n",
              "boobs, eyes, legs             1\n",
              "freckles, smile               1\n",
              "boobs, smile                  1\n",
              "hair                          1\n",
              "back, eyes, neck              1\n",
              "boobs, butt, eyes, smile      1\n",
              "butt, legs, neck              1\n",
              "butt, back                    1\n",
              "back, eyes                    1\n",
              "back, butt                    1\n",
              "silouette                     1\n",
              "boobs, curves                 1\n",
              "butt, curves, face            1\n",
              "arms, muscles                 1\n",
              "Name: Favorite, dtype: int64"
            ]
          },
          "metadata": {
            "tags": []
          },
          "execution_count": 414
        }
      ]
    },
    {
      "cell_type": "code",
      "metadata": {
        "id": "zML7Y2kRobn9",
        "colab_type": "code",
        "colab": {
          "base_uri": "https://localhost:8080/",
          "height": 34
        },
        "outputId": "5bf66dbc-8c16-452a-dbc8-36355172080c"
      },
      "source": [
        "dnd_sales_df[\"Favorite\"].nunique()"
      ],
      "execution_count": 415,
      "outputs": [
        {
          "output_type": "execute_result",
          "data": {
            "text/plain": [
              "48"
            ]
          },
          "metadata": {
            "tags": []
          },
          "execution_count": 415
        }
      ]
    },
    {
      "cell_type": "code",
      "metadata": {
        "id": "2f3FdlZLiy65",
        "colab_type": "code",
        "colab": {
          "base_uri": "https://localhost:8080/",
          "height": 823
        },
        "outputId": "89518057-8d00-427e-d9c8-d9c07ad16c17"
      },
      "source": [
        "# lets' see what happens if I strip it\n",
        "dnd_sales_df[\"Favorite\"]=dnd_sales_df[\"Favorite\"].str.strip()\n",
        "dnd_sales_df[\"Favorite\"].value_counts().sort_index()\n"
      ],
      "execution_count": 416,
      "outputs": [
        {
          "output_type": "execute_result",
          "data": {
            "text/plain": [
              "abs, butt                     1\n",
              "arms, muscles                 1\n",
              "back, butt                    1\n",
              "back, butt, legs              1\n",
              "back, eyes                    1\n",
              "back, eyes, neck              1\n",
              "back, tattoo                  1\n",
              "boobs                        33\n",
              "boobs, butt                   1\n",
              "boobs, butt, eyes, smile      1\n",
              "boobs, curves                 1\n",
              "boobs, eyes                   2\n",
              "boobs, eyes, legs             1\n",
              "boobs, legs                   6\n",
              "boobs, shoulder               1\n",
              "boobs, smile                  1\n",
              "butt                         61\n",
              "butt, back                    1\n",
              "butt, curves                  1\n",
              "butt, curves, face            1\n",
              "butt, decoletage              1\n",
              "butt, decoletage, legs        1\n",
              "butt, eyes                    7\n",
              "butt, eyes, hair              1\n",
              "butt, hair, legs              1\n",
              "butt, hair, legs,             1\n",
              "butt, hips, legs              1\n",
              "butt, legs                    3\n",
              "butt, legs, neck              1\n",
              "cheek_bones, eyes, lips       1\n",
              "chest, eyes, neck             1\n",
              "eyes                          7\n",
              "eyes, hair, legs              1\n",
              "eyes, legs                    2\n",
              "eyes, smile                   1\n",
              "freckles, smile               1\n",
              "hair                          1\n",
              "hips                          1\n",
              "legs                          9\n",
              "legs, feet                    1\n",
              "legs, pale_skin               1\n",
              "legs, shoulder, smile         1\n",
              "no preference               158\n",
              "silouette                     1\n",
              "smile                         1\n",
              "thighs                        1\n",
              "waist                         1\n",
              "Name: Favorite, dtype: int64"
            ]
          },
          "metadata": {
            "tags": []
          },
          "execution_count": 416
        }
      ]
    },
    {
      "cell_type": "code",
      "metadata": {
        "id": "b8g1RMMTugZm",
        "colab_type": "code",
        "colab": {
          "base_uri": "https://localhost:8080/",
          "height": 286
        },
        "outputId": "122ed513-1ca7-4516-9bc9-4d2a14457ac1"
      },
      "source": [
        "dnd_sales_df.info()"
      ],
      "execution_count": 417,
      "outputs": [
        {
          "output_type": "stream",
          "text": [
            "<class 'pandas.core.frame.DataFrame'>\n",
            "Int64Index: 325 entries, 0 to 423\n",
            "Data columns (total 9 columns):\n",
            " #   Column             Non-Null Count  Dtype         \n",
            "---  ------             --------------  -----         \n",
            " 0   Date_of_PreShoot   325 non-null    datetime64[ns]\n",
            " 1   Session_Fee        325 non-null    int64         \n",
            " 2   Hair               325 non-null    category      \n",
            " 3   DOB                325 non-null    datetime64[ns]\n",
            " 4   zip_code           325 non-null    category      \n",
            " 5   Sales_total        325 non-null    int64         \n",
            " 6   Favorite           325 non-null    object        \n",
            " 7   Age_at_Shoot_Date  325 non-null    int64         \n",
            " 8   Age_Range          325 non-null    category      \n",
            "dtypes: category(3), datetime64[ns](2), int64(3), object(1)\n",
            "memory usage: 32.3+ KB\n"
          ],
          "name": "stdout"
        }
      ]
    },
    {
      "cell_type": "markdown",
      "metadata": {
        "id": "_H5d_EOSqU1d",
        "colab_type": "text"
      },
      "source": [
        "# **this is the point at which to export the csv** of clean data!!!"
      ]
    },
    {
      "cell_type": "code",
      "metadata": {
        "id": "qrFEpIhYrCxs",
        "colab_type": "code",
        "colab": {}
      },
      "source": [
        "# dt.to_csv('C:/Users/abc/Desktop/file_name.csv')\n",
        "dnd_sales_df.to_csv(\"DND_clean_data.csv\", na_rep='Unknown')\n",
        "# /Users/kellycho/Documents/DND data_3.csv"
      ],
      "execution_count": 418,
      "outputs": []
    },
    {
      "cell_type": "code",
      "metadata": {
        "id": "HAw_iIogvbKp",
        "colab_type": "code",
        "colab": {
          "base_uri": "https://localhost:8080/",
          "height": 106
        },
        "outputId": "682dc6a7-5904-41ad-fa00-b67b202463ec"
      },
      "source": [
        "# this is the point at which to export the csv\n",
        "dnd_sales_df.head(2)"
      ],
      "execution_count": 419,
      "outputs": [
        {
          "output_type": "execute_result",
          "data": {
            "text/html": [
              "<div>\n",
              "<style scoped>\n",
              "    .dataframe tbody tr th:only-of-type {\n",
              "        vertical-align: middle;\n",
              "    }\n",
              "\n",
              "    .dataframe tbody tr th {\n",
              "        vertical-align: top;\n",
              "    }\n",
              "\n",
              "    .dataframe thead th {\n",
              "        text-align: right;\n",
              "    }\n",
              "</style>\n",
              "<table border=\"1\" class=\"dataframe\">\n",
              "  <thead>\n",
              "    <tr style=\"text-align: right;\">\n",
              "      <th></th>\n",
              "      <th>Date_of_PreShoot</th>\n",
              "      <th>Session_Fee</th>\n",
              "      <th>Hair</th>\n",
              "      <th>DOB</th>\n",
              "      <th>zip_code</th>\n",
              "      <th>Sales_total</th>\n",
              "      <th>Favorite</th>\n",
              "      <th>Age_at_Shoot_Date</th>\n",
              "      <th>Age_Range</th>\n",
              "    </tr>\n",
              "  </thead>\n",
              "  <tbody>\n",
              "    <tr>\n",
              "      <th>0</th>\n",
              "      <td>2017-01-05</td>\n",
              "      <td>99</td>\n",
              "      <td>yes</td>\n",
              "      <td>1976-05-05</td>\n",
              "      <td>32208</td>\n",
              "      <td>600</td>\n",
              "      <td>butt</td>\n",
              "      <td>40</td>\n",
              "      <td>36-40</td>\n",
              "    </tr>\n",
              "    <tr>\n",
              "      <th>1</th>\n",
              "      <td>2017-11-02</td>\n",
              "      <td>99</td>\n",
              "      <td>yes</td>\n",
              "      <td>1984-10-16</td>\n",
              "      <td>32082</td>\n",
              "      <td>400</td>\n",
              "      <td>butt, eyes</td>\n",
              "      <td>33</td>\n",
              "      <td>31-35</td>\n",
              "    </tr>\n",
              "  </tbody>\n",
              "</table>\n",
              "</div>"
            ],
            "text/plain": [
              "  Date_of_PreShoot  Session_Fee Hair  ...    Favorite Age_at_Shoot_Date  Age_Range\n",
              "0       2017-01-05           99  yes  ...        butt                40      36-40\n",
              "1       2017-11-02           99  yes  ...  butt, eyes                33      31-35\n",
              "\n",
              "[2 rows x 9 columns]"
            ]
          },
          "metadata": {
            "tags": []
          },
          "execution_count": 419
        }
      ]
    },
    {
      "cell_type": "code",
      "metadata": {
        "id": "ICgdLM2VvdvX",
        "colab_type": "code",
        "colab": {
          "base_uri": "https://localhost:8080/",
          "height": 34
        },
        "outputId": "dc807e22-40e7-4a66-9339-cafda7764298"
      },
      "source": [
        "# create a subset df - zip code, Sales_Total then melt and or pivot\n",
        "zcode_sales_df = pd.DataFrame({\"zip_code\": dnd_sales_df[\"zip_code\"], \"sales_total\": dnd_sales_df[\"Sales_total\"]})\n",
        "zcode_sales_df.shape"
      ],
      "execution_count": 420,
      "outputs": [
        {
          "output_type": "execute_result",
          "data": {
            "text/plain": [
              "(325, 2)"
            ]
          },
          "metadata": {
            "tags": []
          },
          "execution_count": 420
        }
      ]
    },
    {
      "cell_type": "code",
      "metadata": {
        "id": "PllQ35v8sVAp",
        "colab_type": "code",
        "colab": {
          "base_uri": "https://localhost:8080/",
          "height": 195
        },
        "outputId": "45877218-d6fe-434b-d878-590adeb30bce"
      },
      "source": [
        "zcode_sales_df.head()"
      ],
      "execution_count": 421,
      "outputs": [
        {
          "output_type": "execute_result",
          "data": {
            "text/html": [
              "<div>\n",
              "<style scoped>\n",
              "    .dataframe tbody tr th:only-of-type {\n",
              "        vertical-align: middle;\n",
              "    }\n",
              "\n",
              "    .dataframe tbody tr th {\n",
              "        vertical-align: top;\n",
              "    }\n",
              "\n",
              "    .dataframe thead th {\n",
              "        text-align: right;\n",
              "    }\n",
              "</style>\n",
              "<table border=\"1\" class=\"dataframe\">\n",
              "  <thead>\n",
              "    <tr style=\"text-align: right;\">\n",
              "      <th></th>\n",
              "      <th>zip_code</th>\n",
              "      <th>sales_total</th>\n",
              "    </tr>\n",
              "  </thead>\n",
              "  <tbody>\n",
              "    <tr>\n",
              "      <th>0</th>\n",
              "      <td>32208</td>\n",
              "      <td>600</td>\n",
              "    </tr>\n",
              "    <tr>\n",
              "      <th>1</th>\n",
              "      <td>32082</td>\n",
              "      <td>400</td>\n",
              "    </tr>\n",
              "    <tr>\n",
              "      <th>2</th>\n",
              "      <td>32080</td>\n",
              "      <td>320</td>\n",
              "    </tr>\n",
              "    <tr>\n",
              "      <th>3</th>\n",
              "      <td>32208</td>\n",
              "      <td>720</td>\n",
              "    </tr>\n",
              "    <tr>\n",
              "      <th>5</th>\n",
              "      <td>32257</td>\n",
              "      <td>1320</td>\n",
              "    </tr>\n",
              "  </tbody>\n",
              "</table>\n",
              "</div>"
            ],
            "text/plain": [
              "  zip_code  sales_total\n",
              "0    32208          600\n",
              "1    32082          400\n",
              "2    32080          320\n",
              "3    32208          720\n",
              "5    32257         1320"
            ]
          },
          "metadata": {
            "tags": []
          },
          "execution_count": 421
        }
      ]
    },
    {
      "cell_type": "code",
      "metadata": {
        "id": "MHcq76eWshQW",
        "colab_type": "code",
        "colab": {}
      },
      "source": [
        "# heres where I think I should melt??\n",
        "# molten_zcode_sales_df = zcode_sales_df.melt(value_vars=[\"sales_total\"])\n"
      ],
      "execution_count": 422,
      "outputs": []
    },
    {
      "cell_type": "code",
      "metadata": {
        "id": "Nr40AEXp3Qi1",
        "colab_type": "code",
        "colab": {}
      },
      "source": [
        ""
      ],
      "execution_count": 422,
      "outputs": []
    },
    {
      "cell_type": "code",
      "metadata": {
        "id": "BVpGmTlwjOJV",
        "colab_type": "code",
        "colab": {
          "base_uri": "https://localhost:8080/",
          "height": 34
        },
        "outputId": "45697b0e-8785-4685-b610-86f214cf6945"
      },
      "source": [
        "dnd_sales_df.loc[:, \"Sales_total\"].sum()/6"
      ],
      "execution_count": 423,
      "outputs": [
        {
          "output_type": "execute_result",
          "data": {
            "text/plain": [
              "39980.166666666664"
            ]
          },
          "metadata": {
            "tags": []
          },
          "execution_count": 423
        }
      ]
    },
    {
      "cell_type": "code",
      "metadata": {
        "id": "vpZvct9rl-K1",
        "colab_type": "code",
        "colab": {
          "base_uri": "https://localhost:8080/",
          "height": 34
        },
        "outputId": "3a935feb-b3cb-4ad7-8f95-8d6a5ac32bf9"
      },
      "source": [
        "dnd_sales_df.loc[:, \"Sales_total\"].mean()/9"
      ],
      "execution_count": 424,
      "outputs": [
        {
          "output_type": "execute_result",
          "data": {
            "text/plain": [
              "82.0105982905983"
            ]
          },
          "metadata": {
            "tags": []
          },
          "execution_count": 424
        }
      ]
    },
    {
      "cell_type": "code",
      "metadata": {
        "id": "X-AvOEEApoIF",
        "colab_type": "code",
        "colab": {}
      },
      "source": [
        ""
      ],
      "execution_count": 424,
      "outputs": []
    },
    {
      "cell_type": "code",
      "metadata": {
        "id": "EKE10-SrpiPg",
        "colab_type": "code",
        "colab": {}
      },
      "source": [
        ""
      ],
      "execution_count": 424,
      "outputs": []
    },
    {
      "cell_type": "code",
      "metadata": {
        "id": "ClPfljjMWetv",
        "colab_type": "code",
        "colab": {
          "base_uri": "https://localhost:8080/",
          "height": 67
        },
        "outputId": "c0a03b65-d521-4eb6-edda-e1a8dbf5e5e3"
      },
      "source": [
        "hi_sales = dnd_sales_df[\"Sales_total\"] >= 1200 \n",
        "hi_sales.value_counts()"
      ],
      "execution_count": 425,
      "outputs": [
        {
          "output_type": "execute_result",
          "data": {
            "text/plain": [
              "False    260\n",
              "True      65\n",
              "Name: Sales_total, dtype: int64"
            ]
          },
          "metadata": {
            "tags": []
          },
          "execution_count": 425
        }
      ]
    },
    {
      "cell_type": "code",
      "metadata": {
        "id": "lg-f5YvbW6B8",
        "colab_type": "code",
        "colab": {
          "base_uri": "https://localhost:8080/",
          "height": 34
        },
        "outputId": "f8585344-b557-4731-e943-ed6cd340f67a"
      },
      "source": [
        "# the highest sales \n",
        "\n",
        "dnd_highest_sales_df = dnd_sales_df[hi_sales]\n",
        "dnd_highest_sales_df.shape"
      ],
      "execution_count": 426,
      "outputs": [
        {
          "output_type": "execute_result",
          "data": {
            "text/plain": [
              "(65, 9)"
            ]
          },
          "metadata": {
            "tags": []
          },
          "execution_count": 426
        }
      ]
    },
    {
      "cell_type": "code",
      "metadata": {
        "id": "0dh9HPafXubS",
        "colab_type": "code",
        "colab": {
          "base_uri": "https://localhost:8080/",
          "height": 286
        },
        "outputId": "91e0ad93-a8f9-4688-c7a3-2d78b4428842"
      },
      "source": [
        "dnd_highest_sales_df.info()"
      ],
      "execution_count": 427,
      "outputs": [
        {
          "output_type": "stream",
          "text": [
            "<class 'pandas.core.frame.DataFrame'>\n",
            "Int64Index: 65 entries, 5 to 423\n",
            "Data columns (total 9 columns):\n",
            " #   Column             Non-Null Count  Dtype         \n",
            "---  ------             --------------  -----         \n",
            " 0   Date_of_PreShoot   65 non-null     datetime64[ns]\n",
            " 1   Session_Fee        65 non-null     int64         \n",
            " 2   Hair               65 non-null     category      \n",
            " 3   DOB                65 non-null     datetime64[ns]\n",
            " 4   zip_code           65 non-null     category      \n",
            " 5   Sales_total        65 non-null     int64         \n",
            " 6   Favorite           65 non-null     object        \n",
            " 7   Age_at_Shoot_Date  65 non-null     int64         \n",
            " 8   Age_Range          65 non-null     category      \n",
            "dtypes: category(3), datetime64[ns](2), int64(3), object(1)\n",
            "memory usage: 7.3+ KB\n"
          ],
          "name": "stdout"
        }
      ]
    },
    {
      "cell_type": "code",
      "metadata": {
        "id": "UHV7oc1RXwo3",
        "colab_type": "code",
        "colab": {}
      },
      "source": [
        ""
      ],
      "execution_count": 427,
      "outputs": []
    },
    {
      "cell_type": "code",
      "metadata": {
        "id": "S5jzvX3gsXoL",
        "colab_type": "code",
        "colab": {
          "base_uri": "https://localhost:8080/",
          "height": 67
        },
        "outputId": "8c522e3a-6f37-4418-85d0-554f2b963459"
      },
      "source": [
        "low_sales = dnd_sales_df[\"Sales_total\"] <= 500\n",
        "low_sales.value_counts()"
      ],
      "execution_count": 428,
      "outputs": [
        {
          "output_type": "execute_result",
          "data": {
            "text/plain": [
              "False    253\n",
              "True      72\n",
              "Name: Sales_total, dtype: int64"
            ]
          },
          "metadata": {
            "tags": []
          },
          "execution_count": 428
        }
      ]
    },
    {
      "cell_type": "code",
      "metadata": {
        "id": "V-TjxDtPsqmI",
        "colab_type": "code",
        "colab": {
          "base_uri": "https://localhost:8080/",
          "height": 284
        },
        "outputId": "9c2e0f01-cbbc-47b8-93be-f4a8aaa873ee"
      },
      "source": [
        "# The lowest sales zip codes\n",
        "dnd_lowest_sales_df = dnd_sales_df[low_sales]\n",
        "dnd_lowest_sales_df.describe()"
      ],
      "execution_count": 429,
      "outputs": [
        {
          "output_type": "execute_result",
          "data": {
            "text/html": [
              "<div>\n",
              "<style scoped>\n",
              "    .dataframe tbody tr th:only-of-type {\n",
              "        vertical-align: middle;\n",
              "    }\n",
              "\n",
              "    .dataframe tbody tr th {\n",
              "        vertical-align: top;\n",
              "    }\n",
              "\n",
              "    .dataframe thead th {\n",
              "        text-align: right;\n",
              "    }\n",
              "</style>\n",
              "<table border=\"1\" class=\"dataframe\">\n",
              "  <thead>\n",
              "    <tr style=\"text-align: right;\">\n",
              "      <th></th>\n",
              "      <th>Session_Fee</th>\n",
              "      <th>Sales_total</th>\n",
              "      <th>Age_at_Shoot_Date</th>\n",
              "    </tr>\n",
              "  </thead>\n",
              "  <tbody>\n",
              "    <tr>\n",
              "      <th>count</th>\n",
              "      <td>72.000000</td>\n",
              "      <td>72.000000</td>\n",
              "      <td>72.000000</td>\n",
              "    </tr>\n",
              "    <tr>\n",
              "      <th>mean</th>\n",
              "      <td>86.569444</td>\n",
              "      <td>180.541667</td>\n",
              "      <td>34.111111</td>\n",
              "    </tr>\n",
              "    <tr>\n",
              "      <th>std</th>\n",
              "      <td>36.490333</td>\n",
              "      <td>142.707219</td>\n",
              "      <td>11.249483</td>\n",
              "    </tr>\n",
              "    <tr>\n",
              "      <th>min</th>\n",
              "      <td>0.000000</td>\n",
              "      <td>0.000000</td>\n",
              "      <td>19.000000</td>\n",
              "    </tr>\n",
              "    <tr>\n",
              "      <th>25%</th>\n",
              "      <td>99.000000</td>\n",
              "      <td>60.000000</td>\n",
              "      <td>26.000000</td>\n",
              "    </tr>\n",
              "    <tr>\n",
              "      <th>50%</th>\n",
              "      <td>99.000000</td>\n",
              "      <td>160.000000</td>\n",
              "      <td>31.500000</td>\n",
              "    </tr>\n",
              "    <tr>\n",
              "      <th>75%</th>\n",
              "      <td>99.000000</td>\n",
              "      <td>305.000000</td>\n",
              "      <td>39.000000</td>\n",
              "    </tr>\n",
              "    <tr>\n",
              "      <th>max</th>\n",
              "      <td>179.000000</td>\n",
              "      <td>440.000000</td>\n",
              "      <td>66.000000</td>\n",
              "    </tr>\n",
              "  </tbody>\n",
              "</table>\n",
              "</div>"
            ],
            "text/plain": [
              "       Session_Fee  Sales_total  Age_at_Shoot_Date\n",
              "count    72.000000    72.000000          72.000000\n",
              "mean     86.569444   180.541667          34.111111\n",
              "std      36.490333   142.707219          11.249483\n",
              "min       0.000000     0.000000          19.000000\n",
              "25%      99.000000    60.000000          26.000000\n",
              "50%      99.000000   160.000000          31.500000\n",
              "75%      99.000000   305.000000          39.000000\n",
              "max     179.000000   440.000000          66.000000"
            ]
          },
          "metadata": {
            "tags": []
          },
          "execution_count": 429
        }
      ]
    },
    {
      "cell_type": "code",
      "metadata": {
        "id": "TxL0G1Q_tQbe",
        "colab_type": "code",
        "colab": {
          "base_uri": "https://localhost:8080/",
          "height": 806
        },
        "outputId": "9e6db9ed-46ba-4e25-e9ff-25503edec8c5"
      },
      "source": [
        "dnd_sales_df[\"Age_at_Shoot_Date\"].value_counts()"
      ],
      "execution_count": 430,
      "outputs": [
        {
          "output_type": "execute_result",
          "data": {
            "text/plain": [
              "25    21\n",
              "26    18\n",
              "33    17\n",
              "35    17\n",
              "27    15\n",
              "28    14\n",
              "23    14\n",
              "32    13\n",
              "38    13\n",
              "34    12\n",
              "31    12\n",
              "30    10\n",
              "36    10\n",
              "29    10\n",
              "24     9\n",
              "39     9\n",
              "41     8\n",
              "40     8\n",
              "22     7\n",
              "50     6\n",
              "21     6\n",
              "44     6\n",
              "37     6\n",
              "20     5\n",
              "42     5\n",
              "43     5\n",
              "46     5\n",
              "48     5\n",
              "52     4\n",
              "45     4\n",
              "56     4\n",
              "54     4\n",
              "58     3\n",
              "51     3\n",
              "19     2\n",
              "49     2\n",
              "53     2\n",
              "59     2\n",
              "65     2\n",
              "66     1\n",
              "47     1\n",
              "57     1\n",
              "60     1\n",
              "61     1\n",
              "63     1\n",
              "72     1\n",
              "Name: Age_at_Shoot_Date, dtype: int64"
            ]
          },
          "metadata": {
            "tags": []
          },
          "execution_count": 430
        }
      ]
    },
    {
      "cell_type": "code",
      "metadata": {
        "id": "2vs_hhNHNotm",
        "colab_type": "code",
        "colab": {}
      },
      "source": [
        ""
      ],
      "execution_count": 430,
      "outputs": []
    },
    {
      "cell_type": "code",
      "metadata": {
        "id": "Z5_8q4TDNCCT",
        "colab_type": "code",
        "colab": {}
      },
      "source": [
        ""
      ],
      "execution_count": 430,
      "outputs": []
    },
    {
      "cell_type": "code",
      "metadata": {
        "id": "mJOb--BYtMOd",
        "colab_type": "code",
        "colab": {}
      },
      "source": [
        ""
      ],
      "execution_count": 430,
      "outputs": []
    },
    {
      "cell_type": "code",
      "metadata": {
        "id": "pUfYVK8QXbeX",
        "colab_type": "code",
        "colab": {
          "base_uri": "https://localhost:8080/",
          "height": 284
        },
        "outputId": "128c4ef6-ae12-4f53-93f1-851d06c00b19"
      },
      "source": [
        "# this isn't exactly what I would like it to be\n",
        "dnd_highest_sales_df.describe()"
      ],
      "execution_count": 431,
      "outputs": [
        {
          "output_type": "execute_result",
          "data": {
            "text/html": [
              "<div>\n",
              "<style scoped>\n",
              "    .dataframe tbody tr th:only-of-type {\n",
              "        vertical-align: middle;\n",
              "    }\n",
              "\n",
              "    .dataframe tbody tr th {\n",
              "        vertical-align: top;\n",
              "    }\n",
              "\n",
              "    .dataframe thead th {\n",
              "        text-align: right;\n",
              "    }\n",
              "</style>\n",
              "<table border=\"1\" class=\"dataframe\">\n",
              "  <thead>\n",
              "    <tr style=\"text-align: right;\">\n",
              "      <th></th>\n",
              "      <th>Session_Fee</th>\n",
              "      <th>Sales_total</th>\n",
              "      <th>Age_at_Shoot_Date</th>\n",
              "    </tr>\n",
              "  </thead>\n",
              "  <tbody>\n",
              "    <tr>\n",
              "      <th>count</th>\n",
              "      <td>65.000000</td>\n",
              "      <td>65.000000</td>\n",
              "      <td>65.000000</td>\n",
              "    </tr>\n",
              "    <tr>\n",
              "      <th>mean</th>\n",
              "      <td>110.723077</td>\n",
              "      <td>1467.015385</td>\n",
              "      <td>36.400000</td>\n",
              "    </tr>\n",
              "    <tr>\n",
              "      <th>std</th>\n",
              "      <td>45.380168</td>\n",
              "      <td>403.523369</td>\n",
              "      <td>11.835857</td>\n",
              "    </tr>\n",
              "    <tr>\n",
              "      <th>min</th>\n",
              "      <td>25.000000</td>\n",
              "      <td>1200.000000</td>\n",
              "      <td>19.000000</td>\n",
              "    </tr>\n",
              "    <tr>\n",
              "      <th>25%</th>\n",
              "      <td>99.000000</td>\n",
              "      <td>1200.000000</td>\n",
              "      <td>27.000000</td>\n",
              "    </tr>\n",
              "    <tr>\n",
              "      <th>50%</th>\n",
              "      <td>99.000000</td>\n",
              "      <td>1320.000000</td>\n",
              "      <td>34.000000</td>\n",
              "    </tr>\n",
              "    <tr>\n",
              "      <th>75%</th>\n",
              "      <td>99.000000</td>\n",
              "      <td>1550.000000</td>\n",
              "      <td>43.000000</td>\n",
              "    </tr>\n",
              "    <tr>\n",
              "      <th>max</th>\n",
              "      <td>179.000000</td>\n",
              "      <td>3000.000000</td>\n",
              "      <td>65.000000</td>\n",
              "    </tr>\n",
              "  </tbody>\n",
              "</table>\n",
              "</div>"
            ],
            "text/plain": [
              "       Session_Fee  Sales_total  Age_at_Shoot_Date\n",
              "count    65.000000    65.000000          65.000000\n",
              "mean    110.723077  1467.015385          36.400000\n",
              "std      45.380168   403.523369          11.835857\n",
              "min      25.000000  1200.000000          19.000000\n",
              "25%      99.000000  1200.000000          27.000000\n",
              "50%      99.000000  1320.000000          34.000000\n",
              "75%      99.000000  1550.000000          43.000000\n",
              "max     179.000000  3000.000000          65.000000"
            ]
          },
          "metadata": {
            "tags": []
          },
          "execution_count": 431
        }
      ]
    },
    {
      "cell_type": "code",
      "metadata": {
        "id": "YStWHTMwTIb1",
        "colab_type": "code",
        "colab": {
          "base_uri": "https://localhost:8080/",
          "height": 195
        },
        "outputId": "7c15ef72-0edc-4e7f-fb7f-6bbbb92bf061"
      },
      "source": [
        "dnd_highest_sales_df.tail()"
      ],
      "execution_count": 432,
      "outputs": [
        {
          "output_type": "execute_result",
          "data": {
            "text/html": [
              "<div>\n",
              "<style scoped>\n",
              "    .dataframe tbody tr th:only-of-type {\n",
              "        vertical-align: middle;\n",
              "    }\n",
              "\n",
              "    .dataframe tbody tr th {\n",
              "        vertical-align: top;\n",
              "    }\n",
              "\n",
              "    .dataframe thead th {\n",
              "        text-align: right;\n",
              "    }\n",
              "</style>\n",
              "<table border=\"1\" class=\"dataframe\">\n",
              "  <thead>\n",
              "    <tr style=\"text-align: right;\">\n",
              "      <th></th>\n",
              "      <th>Date_of_PreShoot</th>\n",
              "      <th>Session_Fee</th>\n",
              "      <th>Hair</th>\n",
              "      <th>DOB</th>\n",
              "      <th>zip_code</th>\n",
              "      <th>Sales_total</th>\n",
              "      <th>Favorite</th>\n",
              "      <th>Age_at_Shoot_Date</th>\n",
              "      <th>Age_Range</th>\n",
              "    </tr>\n",
              "  </thead>\n",
              "  <tbody>\n",
              "    <tr>\n",
              "      <th>391</th>\n",
              "      <td>2019-09-24</td>\n",
              "      <td>25</td>\n",
              "      <td>no</td>\n",
              "      <td>1959-11-03</td>\n",
              "      <td>32097</td>\n",
              "      <td>1320</td>\n",
              "      <td>boobs</td>\n",
              "      <td>59</td>\n",
              "      <td>56-60</td>\n",
              "    </tr>\n",
              "    <tr>\n",
              "      <th>394</th>\n",
              "      <td>2020-01-06</td>\n",
              "      <td>25</td>\n",
              "      <td>no</td>\n",
              "      <td>1997-10-01</td>\n",
              "      <td>32046</td>\n",
              "      <td>1320</td>\n",
              "      <td>boobs</td>\n",
              "      <td>22</td>\n",
              "      <td>18-25</td>\n",
              "    </tr>\n",
              "    <tr>\n",
              "      <th>405</th>\n",
              "      <td>2020-01-31</td>\n",
              "      <td>179</td>\n",
              "      <td>yes</td>\n",
              "      <td>1960-04-24</td>\n",
              "      <td>31522</td>\n",
              "      <td>1320</td>\n",
              "      <td>boobs</td>\n",
              "      <td>59</td>\n",
              "      <td>56-60</td>\n",
              "    </tr>\n",
              "    <tr>\n",
              "      <th>407</th>\n",
              "      <td>2020-01-31</td>\n",
              "      <td>25</td>\n",
              "      <td>no</td>\n",
              "      <td>1975-06-20</td>\n",
              "      <td>32258</td>\n",
              "      <td>1320</td>\n",
              "      <td>butt</td>\n",
              "      <td>44</td>\n",
              "      <td>41-45</td>\n",
              "    </tr>\n",
              "    <tr>\n",
              "      <th>423</th>\n",
              "      <td>2018-04-08</td>\n",
              "      <td>99</td>\n",
              "      <td>no</td>\n",
              "      <td>1994-06-26</td>\n",
              "      <td>32244</td>\n",
              "      <td>1200</td>\n",
              "      <td>butt, legs</td>\n",
              "      <td>23</td>\n",
              "      <td>18-25</td>\n",
              "    </tr>\n",
              "  </tbody>\n",
              "</table>\n",
              "</div>"
            ],
            "text/plain": [
              "    Date_of_PreShoot  Session_Fee Hair  ...    Favorite Age_at_Shoot_Date  Age_Range\n",
              "391       2019-09-24           25   no  ...       boobs                59      56-60\n",
              "394       2020-01-06           25   no  ...       boobs                22      18-25\n",
              "405       2020-01-31          179  yes  ...       boobs                59      56-60\n",
              "407       2020-01-31           25   no  ...        butt                44      41-45\n",
              "423       2018-04-08           99   no  ...  butt, legs                23      18-25\n",
              "\n",
              "[5 rows x 9 columns]"
            ]
          },
          "metadata": {
            "tags": []
          },
          "execution_count": 432
        }
      ]
    },
    {
      "cell_type": "code",
      "metadata": {
        "id": "qPz4LxOPVjQJ",
        "colab_type": "code",
        "colab": {}
      },
      "source": [
        ""
      ],
      "execution_count": 432,
      "outputs": []
    },
    {
      "cell_type": "code",
      "metadata": {
        "id": "aqaGStKVXku2",
        "colab_type": "code",
        "colab": {
          "base_uri": "https://localhost:8080/",
          "height": 185
        },
        "outputId": "f16ee6b5-af27-4afe-d40c-a276374a1e0a"
      },
      "source": [
        "dnd_highest_sales_df.nunique()"
      ],
      "execution_count": 433,
      "outputs": [
        {
          "output_type": "execute_result",
          "data": {
            "text/plain": [
              "Date_of_PreShoot     60\n",
              "Session_Fee           3\n",
              "Hair                  2\n",
              "DOB                  64\n",
              "zip_code             37\n",
              "Sales_total          21\n",
              "Favorite             17\n",
              "Age_at_Shoot_Date    34\n",
              "Age_Range             9\n",
              "dtype: int64"
            ]
          },
          "metadata": {
            "tags": []
          },
          "execution_count": 433
        }
      ]
    },
    {
      "cell_type": "code",
      "metadata": {
        "id": "n0iKlHIlSp_S",
        "colab_type": "code",
        "colab": {
          "base_uri": "https://localhost:8080/",
          "height": 34
        },
        "outputId": "b9531f00-4ab5-4708-9fa8-26ae69aaccb0"
      },
      "source": [
        "#something is wrong. Why does this include zipcodes with zero count??\n",
        "print(dnd_highest_sales_df[\"zip_code\"].value_counts().sum())\n"
      ],
      "execution_count": 434,
      "outputs": [
        {
          "output_type": "stream",
          "text": [
            "65\n"
          ],
          "name": "stdout"
        }
      ]
    },
    {
      "cell_type": "code",
      "metadata": {
        "id": "MsdWglX4sAKL",
        "colab_type": "code",
        "colab": {
          "base_uri": "https://localhost:8080/",
          "height": 218
        },
        "outputId": "a34ecc7c-0e33-43c5-ba98-3daa58234ec5"
      },
      "source": [
        "dnd_highest_sales_df[\"zip_code\"].tail(10)"
      ],
      "execution_count": 435,
      "outputs": [
        {
          "output_type": "execute_result",
          "data": {
            "text/plain": [
              "344    32223\n",
              "348    32065\n",
              "358    32218\n",
              "364    32226\n",
              "378    32258\n",
              "391    32097\n",
              "394    32046\n",
              "405    31522\n",
              "407    32258\n",
              "423    32244\n",
              "Name: zip_code, dtype: category\n",
              "Categories (76, object): [30354, 31169, 31520, 31522, ..., 32656, 33605, 37217, 78413]"
            ]
          },
          "metadata": {
            "tags": []
          },
          "execution_count": 435
        }
      ]
    },
    {
      "cell_type": "code",
      "metadata": {
        "id": "DRLS6RKlwFnm",
        "colab_type": "code",
        "colab": {
          "base_uri": "https://localhost:8080/",
          "height": 195
        },
        "outputId": "6ff36f1e-2526-4538-bf10-b07073e74055"
      },
      "source": [
        "dnd_highest_sales_df.tail()"
      ],
      "execution_count": 436,
      "outputs": [
        {
          "output_type": "execute_result",
          "data": {
            "text/html": [
              "<div>\n",
              "<style scoped>\n",
              "    .dataframe tbody tr th:only-of-type {\n",
              "        vertical-align: middle;\n",
              "    }\n",
              "\n",
              "    .dataframe tbody tr th {\n",
              "        vertical-align: top;\n",
              "    }\n",
              "\n",
              "    .dataframe thead th {\n",
              "        text-align: right;\n",
              "    }\n",
              "</style>\n",
              "<table border=\"1\" class=\"dataframe\">\n",
              "  <thead>\n",
              "    <tr style=\"text-align: right;\">\n",
              "      <th></th>\n",
              "      <th>Date_of_PreShoot</th>\n",
              "      <th>Session_Fee</th>\n",
              "      <th>Hair</th>\n",
              "      <th>DOB</th>\n",
              "      <th>zip_code</th>\n",
              "      <th>Sales_total</th>\n",
              "      <th>Favorite</th>\n",
              "      <th>Age_at_Shoot_Date</th>\n",
              "      <th>Age_Range</th>\n",
              "    </tr>\n",
              "  </thead>\n",
              "  <tbody>\n",
              "    <tr>\n",
              "      <th>391</th>\n",
              "      <td>2019-09-24</td>\n",
              "      <td>25</td>\n",
              "      <td>no</td>\n",
              "      <td>1959-11-03</td>\n",
              "      <td>32097</td>\n",
              "      <td>1320</td>\n",
              "      <td>boobs</td>\n",
              "      <td>59</td>\n",
              "      <td>56-60</td>\n",
              "    </tr>\n",
              "    <tr>\n",
              "      <th>394</th>\n",
              "      <td>2020-01-06</td>\n",
              "      <td>25</td>\n",
              "      <td>no</td>\n",
              "      <td>1997-10-01</td>\n",
              "      <td>32046</td>\n",
              "      <td>1320</td>\n",
              "      <td>boobs</td>\n",
              "      <td>22</td>\n",
              "      <td>18-25</td>\n",
              "    </tr>\n",
              "    <tr>\n",
              "      <th>405</th>\n",
              "      <td>2020-01-31</td>\n",
              "      <td>179</td>\n",
              "      <td>yes</td>\n",
              "      <td>1960-04-24</td>\n",
              "      <td>31522</td>\n",
              "      <td>1320</td>\n",
              "      <td>boobs</td>\n",
              "      <td>59</td>\n",
              "      <td>56-60</td>\n",
              "    </tr>\n",
              "    <tr>\n",
              "      <th>407</th>\n",
              "      <td>2020-01-31</td>\n",
              "      <td>25</td>\n",
              "      <td>no</td>\n",
              "      <td>1975-06-20</td>\n",
              "      <td>32258</td>\n",
              "      <td>1320</td>\n",
              "      <td>butt</td>\n",
              "      <td>44</td>\n",
              "      <td>41-45</td>\n",
              "    </tr>\n",
              "    <tr>\n",
              "      <th>423</th>\n",
              "      <td>2018-04-08</td>\n",
              "      <td>99</td>\n",
              "      <td>no</td>\n",
              "      <td>1994-06-26</td>\n",
              "      <td>32244</td>\n",
              "      <td>1200</td>\n",
              "      <td>butt, legs</td>\n",
              "      <td>23</td>\n",
              "      <td>18-25</td>\n",
              "    </tr>\n",
              "  </tbody>\n",
              "</table>\n",
              "</div>"
            ],
            "text/plain": [
              "    Date_of_PreShoot  Session_Fee Hair  ...    Favorite Age_at_Shoot_Date  Age_Range\n",
              "391       2019-09-24           25   no  ...       boobs                59      56-60\n",
              "394       2020-01-06           25   no  ...       boobs                22      18-25\n",
              "405       2020-01-31          179  yes  ...       boobs                59      56-60\n",
              "407       2020-01-31           25   no  ...        butt                44      41-45\n",
              "423       2018-04-08           99   no  ...  butt, legs                23      18-25\n",
              "\n",
              "[5 rows x 9 columns]"
            ]
          },
          "metadata": {
            "tags": []
          },
          "execution_count": 436
        }
      ]
    },
    {
      "cell_type": "code",
      "metadata": {
        "id": "JwqzuWrVv9fP",
        "colab_type": "code",
        "colab": {}
      },
      "source": [
        ""
      ],
      "execution_count": 436,
      "outputs": []
    },
    {
      "cell_type": "code",
      "metadata": {
        "id": "E8tjBkeHr6ix",
        "colab_type": "code",
        "colab": {
          "base_uri": "https://localhost:8080/",
          "height": 218
        },
        "outputId": "220fa36a-b1bf-4968-8c0a-b37d075381c0"
      },
      "source": [
        "dnd_highest_sales_df[\"zip_code\"].value_counts()"
      ],
      "execution_count": 437,
      "outputs": [
        {
          "output_type": "execute_result",
          "data": {
            "text/plain": [
              "32258    8\n",
              "32224    4\n",
              "32218    4\n",
              "32216    3\n",
              "32211    3\n",
              "        ..\n",
              "32092    0\n",
              "32086    0\n",
              "32084    0\n",
              "32083    0\n",
              "30354    0\n",
              "Name: zip_code, Length: 76, dtype: int64"
            ]
          },
          "metadata": {
            "tags": []
          },
          "execution_count": 437
        }
      ]
    },
    {
      "cell_type": "code",
      "metadata": {
        "id": "Gm7vdNJJvX2A",
        "colab_type": "code",
        "colab": {}
      },
      "source": [
        ""
      ],
      "execution_count": 437,
      "outputs": []
    },
    {
      "cell_type": "code",
      "metadata": {
        "id": "chl6wZyul66P",
        "colab_type": "code",
        "colab": {}
      },
      "source": [
        "import operator"
      ],
      "execution_count": 438,
      "outputs": []
    },
    {
      "cell_type": "code",
      "metadata": {
        "id": "RnY7rWoqYdzo",
        "colab_type": "code",
        "colab": {
          "base_uri": "https://localhost:8080/",
          "height": 1000
        },
        "outputId": "a2616d60-5a62-4848-e45e-592fcc7f1060"
      },
      "source": [
        "# cond_fav_butt =  [\"butt\" in x for x in dnd_sales_df[\"Favorite\"]] == True\n",
        "# dnd_sales_df.loc[:,\"Favorite\"]\n",
        "# cond_fav_butt = [operator.contains(x, \"butt\") for x in dnd_sales_df.loc[:,\"Favorite\"]] == True\n",
        "\n",
        "for x in dnd_sales_df.loc[:, \"Favorite\"]:\n",
        "  if operator.contains(x, \"butt\"):\n",
        "    print(operator.contains(x, \"butt\"))"
      ],
      "execution_count": 439,
      "outputs": [
        {
          "output_type": "stream",
          "text": [
            "True\n",
            "True\n",
            "True\n",
            "True\n",
            "True\n",
            "True\n",
            "True\n",
            "True\n",
            "True\n",
            "True\n",
            "True\n",
            "True\n",
            "True\n",
            "True\n",
            "True\n",
            "True\n",
            "True\n",
            "True\n",
            "True\n",
            "True\n",
            "True\n",
            "True\n",
            "True\n",
            "True\n",
            "True\n",
            "True\n",
            "True\n",
            "True\n",
            "True\n",
            "True\n",
            "True\n",
            "True\n",
            "True\n",
            "True\n",
            "True\n",
            "True\n",
            "True\n",
            "True\n",
            "True\n",
            "True\n",
            "True\n",
            "True\n",
            "True\n",
            "True\n",
            "True\n",
            "True\n",
            "True\n",
            "True\n",
            "True\n",
            "True\n",
            "True\n",
            "True\n",
            "True\n",
            "True\n",
            "True\n",
            "True\n",
            "True\n",
            "True\n",
            "True\n",
            "True\n",
            "True\n",
            "True\n",
            "True\n",
            "True\n",
            "True\n",
            "True\n",
            "True\n",
            "True\n",
            "True\n",
            "True\n",
            "True\n",
            "True\n",
            "True\n",
            "True\n",
            "True\n",
            "True\n",
            "True\n",
            "True\n",
            "True\n",
            "True\n",
            "True\n",
            "True\n",
            "True\n",
            "True\n",
            "True\n",
            "True\n"
          ],
          "name": "stdout"
        }
      ]
    },
    {
      "cell_type": "code",
      "metadata": {
        "id": "HzbPpgisoJXP",
        "colab_type": "code",
        "colab": {
          "base_uri": "https://localhost:8080/",
          "height": 34
        },
        "outputId": "56cf81c9-9462-438d-99d0-513b819d1102"
      },
      "source": [
        "print(operator.contains(dnd_sales_df.loc[:,\"Favorite\"], \"butt\"))"
      ],
      "execution_count": 440,
      "outputs": [
        {
          "output_type": "stream",
          "text": [
            "False\n"
          ],
          "name": "stdout"
        }
      ]
    },
    {
      "cell_type": "code",
      "metadata": {
        "id": "tn8zvZp1nfOF",
        "colab_type": "code",
        "colab": {
          "base_uri": "https://localhost:8080/",
          "height": 67
        },
        "outputId": "15172214-28b0-4eda-dfa5-dd344caea93c"
      },
      "source": [
        "# Favorite no preference condition\n",
        "cond_no_preference = dnd_sales_df[\"Favorite\"] == \"no preference\"\n",
        "cond_no_preference.value_counts()"
      ],
      "execution_count": 465,
      "outputs": [
        {
          "output_type": "execute_result",
          "data": {
            "text/plain": [
              "False    167\n",
              "True     158\n",
              "Name: Favorite, dtype: int64"
            ]
          },
          "metadata": {
            "tags": []
          },
          "execution_count": 465
        }
      ]
    },
    {
      "cell_type": "code",
      "metadata": {
        "id": "7agtbomBPps1",
        "colab_type": "code",
        "colab": {}
      },
      "source": [
        ""
      ],
      "execution_count": null,
      "outputs": []
    },
    {
      "cell_type": "code",
      "metadata": {
        "id": "d98BxiQeW2Ps",
        "colab_type": "code",
        "colab": {}
      },
      "source": [
        "# dnd_sales_df[cond_fav_butt]"
      ],
      "execution_count": 441,
      "outputs": []
    },
    {
      "cell_type": "code",
      "metadata": {
        "id": "U4aeIx7XVQ2A",
        "colab_type": "code",
        "colab": {}
      },
      "source": [
        ""
      ],
      "execution_count": null,
      "outputs": []
    },
    {
      "cell_type": "code",
      "metadata": {
        "id": "Wf_eiuyKkzA6",
        "colab_type": "code",
        "colab": {}
      },
      "source": [
        ""
      ],
      "execution_count": 441,
      "outputs": []
    },
    {
      "cell_type": "code",
      "metadata": {
        "id": "18tkxqqbWrnu",
        "colab_type": "code",
        "colab": {
          "base_uri": "https://localhost:8080/",
          "height": 118
        },
        "outputId": "35bc9e1d-64d9-4c8e-84d1-98ba9e669374"
      },
      "source": [
        "dnd_sales_df[\"Favorite\"].head()"
      ],
      "execution_count": 442,
      "outputs": [
        {
          "output_type": "execute_result",
          "data": {
            "text/plain": [
              "0                butt\n",
              "1          butt, eyes\n",
              "2    eyes, hair, legs\n",
              "3               boobs\n",
              "5                butt\n",
              "Name: Favorite, dtype: object"
            ]
          },
          "metadata": {
            "tags": []
          },
          "execution_count": 442
        }
      ]
    },
    {
      "cell_type": "code",
      "metadata": {
        "id": "ANiNBD8Wkd3e",
        "colab_type": "code",
        "colab": {}
      },
      "source": [
        ""
      ],
      "execution_count": 442,
      "outputs": []
    },
    {
      "cell_type": "code",
      "metadata": {
        "id": "JDW5wGWTXxhE",
        "colab_type": "code",
        "colab": {
          "base_uri": "https://localhost:8080/",
          "height": 185
        },
        "outputId": "c47fa668-c09d-4755-f0ae-2eeb414d7072"
      },
      "source": [
        "dnd_sales_df.nunique()"
      ],
      "execution_count": 443,
      "outputs": [
        {
          "output_type": "execute_result",
          "data": {
            "text/plain": [
              "Date_of_PreShoot     266\n",
              "Session_Fee            7\n",
              "Hair                   2\n",
              "DOB                  316\n",
              "zip_code              76\n",
              "Sales_total           68\n",
              "Favorite              47\n",
              "Age_at_Shoot_Date     46\n",
              "Age_Range             10\n",
              "dtype: int64"
            ]
          },
          "metadata": {
            "tags": []
          },
          "execution_count": 443
        }
      ]
    },
    {
      "cell_type": "code",
      "metadata": {
        "id": "DN7k3FAXiD9o",
        "colab_type": "code",
        "colab": {
          "base_uri": "https://localhost:8080/",
          "height": 106
        },
        "outputId": "86bf682d-284f-43ac-c694-f14fce865dd0"
      },
      "source": [
        "dnd_sales_df.head(2)"
      ],
      "execution_count": 444,
      "outputs": [
        {
          "output_type": "execute_result",
          "data": {
            "text/html": [
              "<div>\n",
              "<style scoped>\n",
              "    .dataframe tbody tr th:only-of-type {\n",
              "        vertical-align: middle;\n",
              "    }\n",
              "\n",
              "    .dataframe tbody tr th {\n",
              "        vertical-align: top;\n",
              "    }\n",
              "\n",
              "    .dataframe thead th {\n",
              "        text-align: right;\n",
              "    }\n",
              "</style>\n",
              "<table border=\"1\" class=\"dataframe\">\n",
              "  <thead>\n",
              "    <tr style=\"text-align: right;\">\n",
              "      <th></th>\n",
              "      <th>Date_of_PreShoot</th>\n",
              "      <th>Session_Fee</th>\n",
              "      <th>Hair</th>\n",
              "      <th>DOB</th>\n",
              "      <th>zip_code</th>\n",
              "      <th>Sales_total</th>\n",
              "      <th>Favorite</th>\n",
              "      <th>Age_at_Shoot_Date</th>\n",
              "      <th>Age_Range</th>\n",
              "    </tr>\n",
              "  </thead>\n",
              "  <tbody>\n",
              "    <tr>\n",
              "      <th>0</th>\n",
              "      <td>2017-01-05</td>\n",
              "      <td>99</td>\n",
              "      <td>yes</td>\n",
              "      <td>1976-05-05</td>\n",
              "      <td>32208</td>\n",
              "      <td>600</td>\n",
              "      <td>butt</td>\n",
              "      <td>40</td>\n",
              "      <td>36-40</td>\n",
              "    </tr>\n",
              "    <tr>\n",
              "      <th>1</th>\n",
              "      <td>2017-11-02</td>\n",
              "      <td>99</td>\n",
              "      <td>yes</td>\n",
              "      <td>1984-10-16</td>\n",
              "      <td>32082</td>\n",
              "      <td>400</td>\n",
              "      <td>butt, eyes</td>\n",
              "      <td>33</td>\n",
              "      <td>31-35</td>\n",
              "    </tr>\n",
              "  </tbody>\n",
              "</table>\n",
              "</div>"
            ],
            "text/plain": [
              "  Date_of_PreShoot  Session_Fee Hair  ...    Favorite Age_at_Shoot_Date  Age_Range\n",
              "0       2017-01-05           99  yes  ...        butt                40      36-40\n",
              "1       2017-11-02           99  yes  ...  butt, eyes                33      31-35\n",
              "\n",
              "[2 rows x 9 columns]"
            ]
          },
          "metadata": {
            "tags": []
          },
          "execution_count": 444
        }
      ]
    },
    {
      "cell_type": "code",
      "metadata": {
        "id": "xgfHvh36iHeQ",
        "colab_type": "code",
        "colab": {}
      },
      "source": [
        ""
      ],
      "execution_count": 444,
      "outputs": []
    },
    {
      "cell_type": "code",
      "metadata": {
        "id": "6LUEYjYdX5G0",
        "colab_type": "code",
        "colab": {
          "base_uri": "https://localhost:8080/",
          "height": 265
        },
        "outputId": "b17842d1-38e1-4446-8906-77bf0127a774"
      },
      "source": [
        "# plot age at histogram\n",
        "\n",
        "plt.hist(dnd_sales_df[\"Age_at_Shoot_Date\"], bins=50)\n",
        "plt.show()"
      ],
      "execution_count": 445,
      "outputs": [
        {
          "output_type": "display_data",
          "data": {
            "image/png": "[encoded data removed]",
            "text/plain": [
              "<Figure size 432x288 with 1 Axes>"
            ]
          },
          "metadata": {
            "tags": [],
            "needs_background": "light"
          }
        }
      ]
    },
    {
      "cell_type": "code",
      "metadata": {
        "id": "099cfB6uf7gU",
        "colab_type": "code",
        "colab": {
          "base_uri": "https://localhost:8080/",
          "height": 301
        },
        "outputId": "e6f90028-9d05-46d7-87d4-d440cf2e6ced"
      },
      "source": [
        "# lets try bar here\n",
        "dnd_sales_df[\"Age_Range\"].value_counts(sort=False).plot.bar()\n"
      ],
      "execution_count": 446,
      "outputs": [
        {
          "output_type": "execute_result",
          "data": {
            "text/plain": [
              "<matplotlib.axes._subplots.AxesSubplot at 0x7f6121884438>"
            ]
          },
          "metadata": {
            "tags": []
          },
          "execution_count": 446
        },
        {
          "output_type": "display_data",
          "data": {
            "image/png": "[encoded data removed]",
            "text/plain": [
              "<Figure size 432x288 with 1 Axes>"
            ]
          },
          "metadata": {
            "tags": [],
            "needs_background": "light"
          }
        }
      ]
    },
    {
      "cell_type": "code",
      "metadata": {
        "id": "Zb3AdraJtD1l",
        "colab_type": "code",
        "colab": {
          "base_uri": "https://localhost:8080/",
          "height": 265
        },
        "outputId": "923ca8b8-60de-4d66-c768-3ad6aedd7e8e"
      },
      "source": [
        "plt.hist(dnd_sales_df[\"Sales_total\"], bins=40)\n",
        "plt.show()"
      ],
      "execution_count": 447,
      "outputs": [
        {
          "output_type": "display_data",
          "data": {
            "image/png": "[encoded data removed]",
            "text/plain": [
              "<Figure size 432x288 with 1 Axes>"
            ]
          },
          "metadata": {
            "tags": [],
            "needs_background": "light"
          }
        }
      ]
    },
    {
      "cell_type": "code",
      "metadata": {
        "id": "RHzukuLeSIyq",
        "colab_type": "code",
        "colab": {
          "base_uri": "https://localhost:8080/",
          "height": 179
        },
        "outputId": "d11aabf9-270f-46c9-de45-9b83530e3044"
      },
      "source": [
        "plt.hist(dnd_highest_codes_df[\"Sales_total\"], bins=40)\n",
        "plt.show()"
      ],
      "execution_count": 448,
      "outputs": [
        {
          "output_type": "error",
          "ename": "NameError",
          "evalue": "ignored",
          "traceback": [
            "\u001b[0;31m---------------------------------------------------------------------------\u001b[0m",
            "\u001b[0;31mNameError\u001b[0m                                 Traceback (most recent call last)",
            "\u001b[0;32m<ipython-input-448-5568cb122782>\u001b[0m in \u001b[0;36m<module>\u001b[0;34m()\u001b[0m\n\u001b[0;32m----> 1\u001b[0;31m \u001b[0mplt\u001b[0m\u001b[0;34m.\u001b[0m\u001b[0mhist\u001b[0m\u001b[0;34m(\u001b[0m\u001b[0mdnd_highest_codes_df\u001b[0m\u001b[0;34m[\u001b[0m\u001b[0;34m\"Sales_total\"\u001b[0m\u001b[0;34m]\u001b[0m\u001b[0;34m,\u001b[0m \u001b[0mbins\u001b[0m\u001b[0;34m=\u001b[0m\u001b[0;36m40\u001b[0m\u001b[0;34m)\u001b[0m\u001b[0;34m\u001b[0m\u001b[0;34m\u001b[0m\u001b[0m\n\u001b[0m\u001b[1;32m      2\u001b[0m \u001b[0mplt\u001b[0m\u001b[0;34m.\u001b[0m\u001b[0mshow\u001b[0m\u001b[0;34m(\u001b[0m\u001b[0;34m)\u001b[0m\u001b[0;34m\u001b[0m\u001b[0;34m\u001b[0m\u001b[0m\n",
            "\u001b[0;31mNameError\u001b[0m: name 'dnd_highest_codes_df' is not defined"
          ]
        }
      ]
    },
    {
      "cell_type": "code",
      "metadata": {
        "id": "dFBo-L0sSeyW",
        "colab_type": "code",
        "colab": {}
      },
      "source": [
        ""
      ],
      "execution_count": null,
      "outputs": []
    },
    {
      "cell_type": "code",
      "metadata": {
        "id": "a0BiaWoVW20c",
        "colab_type": "code",
        "colab": {
          "base_uri": "https://localhost:8080/",
          "height": 265
        },
        "outputId": "43652081-0781-47ff-bb7c-db54f8125e81"
      },
      "source": [
        "# This graph improved I might be able to use\n",
        "# showing: no real correlation between age and sales total\n",
        "plt.scatter(dnd_sales_df[\"Age_at_Shoot_Date\"],dnd_sales_df[\"Sales_total\"], alpha=.1)\n",
        "plt.show()"
      ],
      "execution_count": 449,
      "outputs": [
        {
          "output_type": "display_data",
          "data": {
            "image/png": "[encoded data removed]",
            "text/plain": [
              "<Figure size 432x288 with 1 Axes>"
            ]
          },
          "metadata": {
            "tags": [],
            "needs_background": "light"
          }
        }
      ]
    },
    {
      "cell_type": "code",
      "metadata": {
        "id": "Ct5FWDNden9V",
        "colab_type": "code",
        "colab": {
          "base_uri": "https://localhost:8080/",
          "height": 265
        },
        "outputId": "7091e5f2-6d6f-4c98-bf79-554342f77642"
      },
      "source": [
        "# This graph is also a maybe, but but I could use a box plot maybe\n",
        "# showing no real correlation - sample size for the latter age group\n",
        "plt.scatter(dnd_sales_df[\"Age_Range\"],dnd_sales_df[\"Sales_total\"], alpha=.1)\n",
        "plt.show()"
      ],
      "execution_count": 450,
      "outputs": [
        {
          "output_type": "display_data",
          "data": {
            "image/png": "[encoded data removed]",
            "text/plain": [
              "<Figure size 432x288 with 1 Axes>"
            ]
          },
          "metadata": {
            "tags": [],
            "needs_background": "light"
          }
        }
      ]
    },
    {
      "cell_type": "code",
      "metadata": {
        "id": "5uPz334JkkWX",
        "colab_type": "code",
        "colab": {
          "base_uri": "https://localhost:8080/",
          "height": 297
        },
        "outputId": "5fca9ded-123b-42f0-8359-8e87c07d79be"
      },
      "source": [
        "# consistent result across Age Ranges but I need\n",
        "ax = dnd_sales_df.boxplot(by=\"Age_Range\", column=\"Sales_total\")\n",
        "ax.set_xlabel('')\n",
        "ax.set_ylabel(\"Total Sales by Age\")\n",
        "plt.suptitle(\"\")"
      ],
      "execution_count": 504,
      "outputs": [
        {
          "output_type": "execute_result",
          "data": {
            "text/plain": [
              "Text(0.5, 0.98, '')"
            ]
          },
          "metadata": {
            "tags": []
          },
          "execution_count": 504
        },
        {
          "output_type": "display_data",
          "data": {
            "image/png": "[encoded data removed]",
            "text/plain": [
              "<Figure size 432x288 with 1 Axes>"
            ]
          },
          "metadata": {
            "tags": [],
            "needs_background": "light"
          }
        }
      ]
    },
    {
      "cell_type": "code",
      "metadata": {
        "id": "M6xf2fNtfJ2Q",
        "colab_type": "code",
        "colab": {}
      },
      "source": [
        "# so I could take the mean sale, with an error bar to show there isn't much\n",
        "# difference .\n",
        "\n",
        "\n",
        "\n",
        "# bring some of my old functions in.  \n"
      ],
      "execution_count": null,
      "outputs": []
    },
    {
      "cell_type": "code",
      "metadata": {
        "id": "B2BIFH8qUY7q",
        "colab_type": "code",
        "colab": {
          "base_uri": "https://localhost:8080/",
          "height": 265
        },
        "outputId": "55119206-63ba-4a1a-a1c8-c9ea0957c296"
      },
      "source": [
        "plt.scatter(dnd_sales_df[\"zip_code\"],dnd_sales_df[\"Sales_total\"], alpha=.1)\n",
        "plt.show()\n",
        "\n",
        "# I need to find a better way to show this graph.  I like that it splits the \n",
        "# sales data geographically, but the level is granularity is too much"
      ],
      "execution_count": 451,
      "outputs": [
        {
          "output_type": "display_data",
          "data": {
            "image/png": "[encoded data removed]",
            "text/plain": [
              "<Figure size 432x288 with 1 Axes>"
            ]
          },
          "metadata": {
            "tags": [],
            "needs_background": "light"
          }
        }
      ]
    },
    {
      "cell_type": "code",
      "metadata": {
        "id": "PIrVfx1HcWwY",
        "colab_type": "code",
        "colab": {}
      },
      "source": [
        "dnd_highest_codes_df[\"zip_code\"].value_counts()"
      ],
      "execution_count": null,
      "outputs": []
    },
    {
      "cell_type": "code",
      "metadata": {
        "id": "20YvitrEutFl",
        "colab_type": "code",
        "colab": {}
      },
      "source": [
        "dnd_highest_codes_df[\"Hair\"].value_counts()"
      ],
      "execution_count": null,
      "outputs": []
    },
    {
      "cell_type": "code",
      "metadata": {
        "id": "6BUblM1JtgW4",
        "colab_type": "code",
        "colab": {}
      },
      "source": [
        "dnd_lowest_codes_df[\"zip_code\"].value_counts()"
      ],
      "execution_count": null,
      "outputs": []
    },
    {
      "cell_type": "code",
      "metadata": {
        "id": "a7MwQ5MXueMh",
        "colab_type": "code",
        "colab": {}
      },
      "source": [
        "dnd_lowest_codes_df[\"Hair\"].value_counts()"
      ],
      "execution_count": null,
      "outputs": []
    },
    {
      "cell_type": "code",
      "metadata": {
        "id": "afpjiGmWup6a",
        "colab_type": "code",
        "colab": {}
      },
      "source": [
        ""
      ],
      "execution_count": null,
      "outputs": []
    },
    {
      "cell_type": "code",
      "metadata": {
        "id": "K6-CvP7duk9L",
        "colab_type": "code",
        "colab": {}
      },
      "source": [
        ""
      ],
      "execution_count": null,
      "outputs": []
    },
    {
      "cell_type": "code",
      "metadata": {
        "id": "kHacmG9aV_9M",
        "colab_type": "code",
        "colab": {}
      },
      "source": [
        "dnd_highest_codes_df[\"zip_code\"].value_counts().plot()"
      ],
      "execution_count": null,
      "outputs": []
    },
    {
      "cell_type": "code",
      "metadata": {
        "id": "_1YGN1I54U60",
        "colab_type": "code",
        "colab": {}
      },
      "source": [
        ""
      ],
      "execution_count": null,
      "outputs": []
    },
    {
      "cell_type": "code",
      "metadata": {
        "id": "cAOQAaGrcE6u",
        "colab_type": "code",
        "colab": {}
      },
      "source": [
        "# cross tab - I will need to bin /cut the Sales sessions to do an evocative crosstab\n",
        "# but I can try it now, just to see\n",
        "# based on this I need to bin the Sales into maybe 5 categories. \n",
        "# and bin the zip codes into 2/4/8 categories\n",
        "\n",
        "cross=pd.crosstab(dnd_sales_df[\"Sales_total\"], dnd_sales_df[\"Hair\"])\n",
        "cross"
      ],
      "execution_count": null,
      "outputs": []
    },
    {
      "cell_type": "code",
      "metadata": {
        "id": "17CfD3dfT-JH",
        "colab_type": "code",
        "colab": {}
      },
      "source": [
        "cross.plot();"
      ],
      "execution_count": null,
      "outputs": []
    },
    {
      "cell_type": "code",
      "metadata": {
        "id": "Z6YnAW6ffSsw",
        "colab_type": "code",
        "colab": {}
      },
      "source": [
        "# lets check the sales data for the hair and no hair groups\n",
        "cond_mu_only = dnd_sales_df[\"Hair\"] == \"no\"\n",
        "cond_wHair = dnd_sales_df[\"Hair\"] == \"yes\"\n",
        "\n",
        "\n",
        "dnd_makeup_only_df = dnd_sales_df[cond_mu_only]\n",
        "dnd_w_hair_df = dnd_sales_df[cond_wHair]"
      ],
      "execution_count": 452,
      "outputs": []
    },
    {
      "cell_type": "code",
      "metadata": {
        "id": "Z0QYKOUvksD0",
        "colab_type": "code",
        "colab": {
          "base_uri": "https://localhost:8080/",
          "height": 284
        },
        "outputId": "a4460566-3b71-448d-bd78-06d096144523"
      },
      "source": [
        "dnd_makeup_only_df.describe() # "
      ],
      "execution_count": 455,
      "outputs": [
        {
          "output_type": "execute_result",
          "data": {
            "text/html": [
              "<div>\n",
              "<style scoped>\n",
              "    .dataframe tbody tr th:only-of-type {\n",
              "        vertical-align: middle;\n",
              "    }\n",
              "\n",
              "    .dataframe tbody tr th {\n",
              "        vertical-align: top;\n",
              "    }\n",
              "\n",
              "    .dataframe thead th {\n",
              "        text-align: right;\n",
              "    }\n",
              "</style>\n",
              "<table border=\"1\" class=\"dataframe\">\n",
              "  <thead>\n",
              "    <tr style=\"text-align: right;\">\n",
              "      <th></th>\n",
              "      <th>Session_Fee</th>\n",
              "      <th>Sales_total</th>\n",
              "      <th>Age_at_Shoot_Date</th>\n",
              "    </tr>\n",
              "  </thead>\n",
              "  <tbody>\n",
              "    <tr>\n",
              "      <th>count</th>\n",
              "      <td>231.000000</td>\n",
              "      <td>231.000000</td>\n",
              "      <td>231.000000</td>\n",
              "    </tr>\n",
              "    <tr>\n",
              "      <th>mean</th>\n",
              "      <td>92.380952</td>\n",
              "      <td>711.567100</td>\n",
              "      <td>34.662338</td>\n",
              "    </tr>\n",
              "    <tr>\n",
              "      <th>std</th>\n",
              "      <td>42.195223</td>\n",
              "      <td>455.453347</td>\n",
              "      <td>10.877112</td>\n",
              "    </tr>\n",
              "    <tr>\n",
              "      <th>min</th>\n",
              "      <td>0.000000</td>\n",
              "      <td>0.000000</td>\n",
              "      <td>19.000000</td>\n",
              "    </tr>\n",
              "    <tr>\n",
              "      <th>25%</th>\n",
              "      <td>99.000000</td>\n",
              "      <td>515.000000</td>\n",
              "      <td>26.000000</td>\n",
              "    </tr>\n",
              "    <tr>\n",
              "      <th>50%</th>\n",
              "      <td>99.000000</td>\n",
              "      <td>600.000000</td>\n",
              "      <td>33.000000</td>\n",
              "    </tr>\n",
              "    <tr>\n",
              "      <th>75%</th>\n",
              "      <td>99.000000</td>\n",
              "      <td>950.000000</td>\n",
              "      <td>40.000000</td>\n",
              "    </tr>\n",
              "    <tr>\n",
              "      <th>max</th>\n",
              "      <td>249.000000</td>\n",
              "      <td>2730.000000</td>\n",
              "      <td>72.000000</td>\n",
              "    </tr>\n",
              "  </tbody>\n",
              "</table>\n",
              "</div>"
            ],
            "text/plain": [
              "       Session_Fee  Sales_total  Age_at_Shoot_Date\n",
              "count   231.000000   231.000000         231.000000\n",
              "mean     92.380952   711.567100          34.662338\n",
              "std      42.195223   455.453347          10.877112\n",
              "min       0.000000     0.000000          19.000000\n",
              "25%      99.000000   515.000000          26.000000\n",
              "50%      99.000000   600.000000          33.000000\n",
              "75%      99.000000   950.000000          40.000000\n",
              "max     249.000000  2730.000000          72.000000"
            ]
          },
          "metadata": {
            "tags": []
          },
          "execution_count": 455
        }
      ]
    },
    {
      "cell_type": "code",
      "metadata": {
        "id": "ZcZ9yGngkwyL",
        "colab_type": "code",
        "colab": {
          "base_uri": "https://localhost:8080/",
          "height": 284
        },
        "outputId": "9a4b06c8-5969-40df-e8d7-858a63e2c7f6"
      },
      "source": [
        "dnd_w_hair_df.describe() # this result is very interesting.  it implies clients \n",
        "# who get hair done spend and average of $100 more!\n",
        "# plus we work one hour less! and the morale of the team improves because the \n",
        "# stylist gets paid more. \n",
        "\n",
        "# perform a t-test with these two sample / or it might be one sample tests\n",
        "# vs the popuplation.  "
      ],
      "execution_count": 456,
      "outputs": [
        {
          "output_type": "execute_result",
          "data": {
            "text/html": [
              "<div>\n",
              "<style scoped>\n",
              "    .dataframe tbody tr th:only-of-type {\n",
              "        vertical-align: middle;\n",
              "    }\n",
              "\n",
              "    .dataframe tbody tr th {\n",
              "        vertical-align: top;\n",
              "    }\n",
              "\n",
              "    .dataframe thead th {\n",
              "        text-align: right;\n",
              "    }\n",
              "</style>\n",
              "<table border=\"1\" class=\"dataframe\">\n",
              "  <thead>\n",
              "    <tr style=\"text-align: right;\">\n",
              "      <th></th>\n",
              "      <th>Session_Fee</th>\n",
              "      <th>Sales_total</th>\n",
              "      <th>Age_at_Shoot_Date</th>\n",
              "    </tr>\n",
              "  </thead>\n",
              "  <tbody>\n",
              "    <tr>\n",
              "      <th>count</th>\n",
              "      <td>94.000000</td>\n",
              "      <td>94.000000</td>\n",
              "      <td>94.000000</td>\n",
              "    </tr>\n",
              "    <tr>\n",
              "      <th>mean</th>\n",
              "      <td>107.180851</td>\n",
              "      <td>803.287234</td>\n",
              "      <td>34.553191</td>\n",
              "    </tr>\n",
              "    <tr>\n",
              "      <th>std</th>\n",
              "      <td>45.255300</td>\n",
              "      <td>518.220438</td>\n",
              "      <td>8.573047</td>\n",
              "    </tr>\n",
              "    <tr>\n",
              "      <th>min</th>\n",
              "      <td>0.000000</td>\n",
              "      <td>0.000000</td>\n",
              "      <td>22.000000</td>\n",
              "    </tr>\n",
              "    <tr>\n",
              "      <th>25%</th>\n",
              "      <td>99.000000</td>\n",
              "      <td>600.000000</td>\n",
              "      <td>28.000000</td>\n",
              "    </tr>\n",
              "    <tr>\n",
              "      <th>50%</th>\n",
              "      <td>99.000000</td>\n",
              "      <td>679.500000</td>\n",
              "      <td>33.000000</td>\n",
              "    </tr>\n",
              "    <tr>\n",
              "      <th>75%</th>\n",
              "      <td>99.000000</td>\n",
              "      <td>1057.500000</td>\n",
              "      <td>39.750000</td>\n",
              "    </tr>\n",
              "    <tr>\n",
              "      <th>max</th>\n",
              "      <td>249.000000</td>\n",
              "      <td>3000.000000</td>\n",
              "      <td>59.000000</td>\n",
              "    </tr>\n",
              "  </tbody>\n",
              "</table>\n",
              "</div>"
            ],
            "text/plain": [
              "       Session_Fee  Sales_total  Age_at_Shoot_Date\n",
              "count    94.000000    94.000000          94.000000\n",
              "mean    107.180851   803.287234          34.553191\n",
              "std      45.255300   518.220438           8.573047\n",
              "min       0.000000     0.000000          22.000000\n",
              "25%      99.000000   600.000000          28.000000\n",
              "50%      99.000000   679.500000          33.000000\n",
              "75%      99.000000  1057.500000          39.750000\n",
              "max     249.000000  3000.000000          59.000000"
            ]
          },
          "metadata": {
            "tags": []
          },
          "execution_count": 456
        }
      ]
    },
    {
      "cell_type": "code",
      "metadata": {
        "id": "VeMECXclVrcR",
        "colab_type": "code",
        "colab": {
          "base_uri": "https://localhost:8080/",
          "height": 34
        },
        "outputId": "784294dd-5493-4193-b01b-f51da3bc6fc9"
      },
      "source": [
        "dnd_sales_df[\"Hair\"].dtype"
      ],
      "execution_count": 489,
      "outputs": [
        {
          "output_type": "execute_result",
          "data": {
            "text/plain": [
              "CategoricalDtype(categories=['no', 'yes'], ordered=False)"
            ]
          },
          "metadata": {
            "tags": []
          },
          "execution_count": 489
        }
      ]
    },
    {
      "cell_type": "code",
      "metadata": {
        "id": "UdFg0RnyVxYq",
        "colab_type": "code",
        "colab": {}
      },
      "source": [
        ""
      ],
      "execution_count": null,
      "outputs": []
    },
    {
      "cell_type": "code",
      "metadata": {
        "id": "pVnZ_mwYUYpe",
        "colab_type": "code",
        "colab": {}
      },
      "source": [
        "# pie chart of Makeup vs hair \n",
        "# turn into Df first !!!\n",
        "# Hair value df!\n",
        "dnd_hair_df = pd.DataFrame({\"with_hair_stylist\" :dnd_sales_df[\"Hair\"].value_counts()})\n",
        "\n"
      ],
      "execution_count": 494,
      "outputs": []
    },
    {
      "cell_type": "code",
      "metadata": {
        "id": "fP6mV456WyuT",
        "colab_type": "code",
        "colab": {
          "base_uri": "https://localhost:8080/",
          "height": 575
        },
        "outputId": "ddd3a3d2-6e25-4643-8432-d31718f005cd"
      },
      "source": [
        "dnd_hair_df.plot.pie(y=\"with_hair_stylist\", figsize=(10,10))\n",
        "plt.show()"
      ],
      "execution_count": 496,
      "outputs": [
        {
          "output_type": "display_data",
          "data": {
            "image/png": "[encoded data removed]",
            "text/plain": [
              "<Figure size 720x720 with 1 Axes>"
            ]
          },
          "metadata": {
            "tags": []
          }
        }
      ]
    },
    {
      "cell_type": "code",
      "metadata": {
        "id": "aHUASSj8XQLO",
        "colab_type": "code",
        "colab": {}
      },
      "source": [
        "\n",
        "def get_confidence_interval(sample, confidence_level):\n",
        "\n",
        "  # in because we like some np functions \n",
        "  # make a np array for our sample\n",
        "  sample_np_array = np.array(sample)\n",
        "\n",
        "  # variables we need for the calculations are \n",
        "  # std_dev, sample size, t-statistic\n",
        "\n",
        "  std_dev = np.std(sample_np_array, ddof=1)\n",
        "  sample_size = sample_np_array.shape[0]\n",
        "\n",
        "  #here's the new one: from scipy stats \n",
        "  # Percent Point Function (Inverse of CDF)\n",
        "  # this value take ?? percent of data that  as a parameter\n",
        "  # does same thing as university of I. applet\n",
        "  tstat = stats.t.ppf(1 - ((1 - confidence_level) / 2), sample_size-1)\n",
        "\n",
        "  # need the sample mean as x_bar\n",
        "  x_bar = np.mean(sample_np_array)\n",
        "\n",
        "  # I need the standard error =\n",
        "  # standard deviation / squareroot of sample size\n",
        "  std_err = (std_dev/np.sqrt(sample_size))\n",
        "\n",
        "  # now I need the Margin of Error\n",
        "  # which is tstat * standard error\n",
        "  moe = tstat*std_err\n",
        "\n",
        "  # then for info purposes lets return the \n",
        "  # lower and upper bounds\n",
        "\n",
        "  lower_bound = x_bar - moe\n",
        "  upper_bound = x_bar + moe\n",
        "\n",
        "  confidence_int = namedtuple(\"confidence_interval\", [\"lower_bound\", \"xbar\",\"upper_bound\",\"moe\", ])\n",
        "\n",
        "  # return (lower_bound, x_bar, upper_bound, moe)\n",
        "  return confidence_int(lower_bound, x_bar, upper_bound, moe)"
      ],
      "execution_count": 524,
      "outputs": []
    },
    {
      "cell_type": "code",
      "metadata": {
        "id": "rctlFldFsRtV",
        "colab_type": "code",
        "colab": {}
      },
      "source": [
        "mu_sample_values = get_confidence_interval(dnd_makeup_only_df[\"Sales_total\"], .95)\n",
        "hair_sample_values = get_confidence_interval(dnd_w_hair_df[\"Sales_total\"], .95)"
      ],
      "execution_count": 526,
      "outputs": []
    },
    {
      "cell_type": "code",
      "metadata": {
        "id": "zXFV2VjtsMAS",
        "colab_type": "code",
        "colab": {
          "base_uri": "https://localhost:8080/",
          "height": 281
        },
        "outputId": "6edccd95-ee30-480b-bde1-5de96dc58cbc"
      },
      "source": [
        "# this graph I\"m keeping and improving in \n",
        "plt.bar(0, height=mu_sample_values.xbar, yerr=mu_sample_values.moe)\n",
        "plt.bar(1, height=hair_sample_values.xbar, yerr=hair_sample_values.moe)\n",
        "\n",
        "plt.title('Average Sales Session Mu vs Hair')\n",
        "\n",
        "plt.show()"
      ],
      "execution_count": 528,
      "outputs": [
        {
          "output_type": "display_data",
          "data": {
            "image/png": "[encoded data removed]",
            "text/plain": [
              "<Figure size 432x288 with 1 Axes>"
            ]
          },
          "metadata": {
            "tags": [],
            "needs_background": "light"
          }
        }
      ]
    },
    {
      "cell_type": "code",
      "metadata": {
        "id": "tNVDI4W15VyW",
        "colab_type": "code",
        "colab": {}
      },
      "source": [
        "from scipy import stats\n"
      ],
      "execution_count": 453,
      "outputs": []
    },
    {
      "cell_type": "code",
      "metadata": {
        "id": "wE-5sl9noOmT",
        "colab_type": "code",
        "colab": {
          "base_uri": "https://localhost:8080/",
          "height": 34
        },
        "outputId": "80dbc3b6-0a83-453b-9fe5-21249a2d1e8c"
      },
      "source": [
        "stats.ttest_ind(dnd_makeup_only_df[\"Sales_total\"], dnd_w_hair_df[\"Sales_total\"])"
      ],
      "execution_count": 454,
      "outputs": [
        {
          "output_type": "execute_result",
          "data": {
            "text/plain": [
              "Ttest_indResult(statistic=-1.5804058267736067, pvalue=0.11499268514229982)"
            ]
          },
          "metadata": {
            "tags": []
          },
          "execution_count": 454
        }
      ]
    },
    {
      "cell_type": "markdown",
      "metadata": {
        "id": "Z7v_4lKJ-6sf",
        "colab_type": "text"
      },
      "source": [
        "I believe I would interpret these results as:\n",
        "Assuming a 95% confidence level - Based on a tstat of -1.58 and pvalue of approximately .11499,\n",
        "I FAIL to reject the null hypothesis that clients who get make-up only spend the same amount on average as clients who get professional hair and make-up. \n"
      ]
    },
    {
      "cell_type": "code",
      "metadata": {
        "id": "5AkZA65_9TgC",
        "colab_type": "code",
        "colab": {
          "base_uri": "https://localhost:8080/",
          "height": 34
        },
        "outputId": "40c6d3b7-fd28-4ff3-e56b-79ca67490592"
      },
      "source": [
        "# try a one sample ttest\n",
        "dnd_sales_df[\"Sales_total\"].mean()"
      ],
      "execution_count": 457,
      "outputs": [
        {
          "output_type": "execute_result",
          "data": {
            "text/plain": [
              "738.0953846153847"
            ]
          },
          "metadata": {
            "tags": []
          },
          "execution_count": 457
        }
      ]
    },
    {
      "cell_type": "code",
      "metadata": {
        "id": "aLVEZJb_9hsQ",
        "colab_type": "code",
        "colab": {
          "base_uri": "https://localhost:8080/",
          "height": 34
        },
        "outputId": "330e8998-25c2-4e8b-a314-8d8c3de42a18"
      },
      "source": [
        "stats.ttest_1samp(dnd_w_hair_df[\"Sales_total\"], 738)"
      ],
      "execution_count": 458,
      "outputs": [
        {
          "output_type": "execute_result",
          "data": {
            "text/plain": [
              "Ttest_1sampResult(statistic=1.221455529067876, pvalue=0.22500091941150033)"
            ]
          },
          "metadata": {
            "tags": []
          },
          "execution_count": 458
        }
      ]
    },
    {
      "cell_type": "code",
      "metadata": {
        "id": "rQ9J0hRX9zW_",
        "colab_type": "code",
        "colab": {}
      },
      "source": [
        "# bar and pie chart.  Favorites categories maybe top 10.  \n",
        "print(dnd_sales_df[\"Favorite\"].value_counts().sum())\n",
        "dnd_sales_df[\"Favorite\"].value_counts()\n"
      ],
      "execution_count": null,
      "outputs": []
    },
    {
      "cell_type": "code",
      "metadata": {
        "id": "iVRozuGbQ5do",
        "colab_type": "code",
        "colab": {}
      },
      "source": [
        "# df of preference value counts  \n",
        "dnd_preference_df = pd.DataFrame({\"Preference\" :dnd_sales_df[\"Favorite\"].value_counts()})\n",
        "#top 10 preference\n"
      ],
      "execution_count": 472,
      "outputs": []
    },
    {
      "cell_type": "code",
      "metadata": {
        "id": "8t61hFdcZlmg",
        "colab_type": "code",
        "colab": {
          "base_uri": "https://localhost:8080/",
          "height": 352
        },
        "outputId": "33e9a001-61b8-431d-f079-ce2faa2af16c"
      },
      "source": [
        "dnd_preference_df[\"Preference\"].iloc[1:11,].sort_values(ascending=False).plot.bar()\n",
        "#this y axis should be percentages rather can counts"
      ],
      "execution_count": 503,
      "outputs": [
        {
          "output_type": "execute_result",
          "data": {
            "text/plain": [
              "<matplotlib.axes._subplots.AxesSubplot at 0x7f61211b1d68>"
            ]
          },
          "metadata": {
            "tags": []
          },
          "execution_count": 503
        },
        {
          "output_type": "display_data",
          "data": {
            "image/png": "[encoded data removed]",
            "text/plain": [
              "<Figure size 432x288 with 1 Axes>"
            ]
          },
          "metadata": {
            "tags": [],
            "needs_background": "light"
          }
        }
      ]
    },
    {
      "cell_type": "code",
      "metadata": {
        "id": "J60mNB0uUAms",
        "colab_type": "code",
        "colab": {}
      },
      "source": [
        ""
      ],
      "execution_count": null,
      "outputs": []
    },
    {
      "cell_type": "code",
      "metadata": {
        "id": "mnWgpE3tSIRV",
        "colab_type": "code",
        "colab": {}
      },
      "source": [
        ""
      ],
      "execution_count": null,
      "outputs": []
    },
    {
      "cell_type": "code",
      "metadata": {
        "id": "42d2tGl79Zw3",
        "colab_type": "code",
        "colab": {}
      },
      "source": [
        ""
      ],
      "execution_count": null,
      "outputs": []
    },
    {
      "cell_type": "code",
      "metadata": {
        "id": "hdNiPHaGSzhH",
        "colab_type": "code",
        "colab": {
          "base_uri": "https://localhost:8080/",
          "height": 283
        },
        "outputId": "d7f343d7-2b02-4caf-d1ef-706b4ca29444"
      },
      "source": [
        "#lets graph the distribution with a histogram\n",
        "\n",
        "plt.hist(x=dnd_df[\"Favorite\"], bins=70)\n",
        "plt.show"
      ],
      "execution_count": 464,
      "outputs": [
        {
          "output_type": "execute_result",
          "data": {
            "text/plain": [
              "<function matplotlib.pyplot.show>"
            ]
          },
          "metadata": {
            "tags": []
          },
          "execution_count": 464
        },
        {
          "output_type": "display_data",
          "data": {
            "image/png": "[encoded data removed]",
            "text/plain": [
              "<Figure size 432x288 with 1 Axes>"
            ]
          },
          "metadata": {
            "tags": [],
            "needs_background": "light"
          }
        }
      ]
    },
    {
      "cell_type": "code",
      "metadata": {
        "id": "ZJq260z6czxr",
        "colab_type": "code",
        "colab": {}
      },
      "source": [
        ""
      ],
      "execution_count": null,
      "outputs": []
    },
    {
      "cell_type": "code",
      "metadata": {
        "id": "c9AGHMGBcuqc",
        "colab_type": "code",
        "colab": {}
      },
      "source": [
        ""
      ],
      "execution_count": null,
      "outputs": []
    },
    {
      "cell_type": "code",
      "metadata": {
        "id": "SlqgEgmtU4rC",
        "colab_type": "code",
        "colab": {}
      },
      "source": [
        ""
      ],
      "execution_count": null,
      "outputs": []
    },
    {
      "cell_type": "code",
      "metadata": {
        "id": "pIYA4O3mUjpl",
        "colab_type": "code",
        "colab": {}
      },
      "source": [
        ""
      ],
      "execution_count": null,
      "outputs": []
    },
    {
      "cell_type": "code",
      "metadata": {
        "id": "RoOIVfKUUOyc",
        "colab_type": "code",
        "colab": {}
      },
      "source": [
        ""
      ],
      "execution_count": null,
      "outputs": []
    },
    {
      "cell_type": "code",
      "metadata": {
        "id": "PNOSNQS1TOck",
        "colab_type": "code",
        "colab": {}
      },
      "source": [
        ""
      ],
      "execution_count": null,
      "outputs": []
    }
  ]
}