{
  "nbformat": 4,
  "nbformat_minor": 0,
  "metadata": {
    "colab": {
      "name": "Photography_Dataset_Submission.ipynb",
      "provenance": [],
      "collapsed_sections": [],
      "include_colab_link": true
    },
    "kernelspec": {
      "name": "python3",
      "display_name": "Python 3"
    }
  },
  "cells": [
    {
      "cell_type": "markdown",
      "metadata": {
        "id": "view-in-github",
        "colab_type": "text"
      },
      "source": [
        "<a href=\"https://colab.research.google.com/github/ilEnzio/Sexy_In_The_City/blob/master/Photography_Dataset_Submission.ipynb\" target=\"_parent\"><img src=\"https://colab.research.google.com/assets/colab-badge.svg\" alt=\"Open In Colab\"/></a>"
      ]
    },
    {
      "cell_type": "code",
      "metadata": {
        "id": "J6d2MFGvqbQT",
        "colab_type": "code",
        "colab": {}
      },
      "source": [
        "import numpy as np\n",
        "import pandas as pd\n",
        "import matplotlib.pyplot as plt"
      ],
      "execution_count": 1,
      "outputs": []
    },
    {
      "cell_type": "code",
      "metadata": {
        "id": "IvGrjFl9xS1R",
        "colab_type": "code",
        "colab": {}
      },
      "source": [
        "# parse_dates=[\"datetime\"]\n",
        "dates = [\"Date_of_PreShoot\", \"DOB\"]"
      ],
      "execution_count": 2,
      "outputs": []
    },
    {
      "cell_type": "code",
      "metadata": {
        "id": "BJoSCvk9QKd-",
        "colab_type": "code",
        "colab": {}
      },
      "source": [
        "dnd_df = pd.read_csv(\"https://raw.githubusercontent.com/ilEnzio/Sexy_In_The_City/master/DND%20data_3.csv\", parse_dates=dates)"
      ],
      "execution_count": 3,
      "outputs": []
    },
    {
      "cell_type": "code",
      "metadata": {
        "id": "NCRQR6wL2rUh",
        "colab_type": "code",
        "colab": {
          "base_uri": "https://localhost:8080/",
          "height": 269
        },
        "outputId": "9ce9087d-3f10-41e1-fc2c-e09d5c11a90a"
      },
      "source": [
        "dnd_df.info()"
      ],
      "execution_count": 4,
      "outputs": [
        {
          "output_type": "stream",
          "text": [
            "<class 'pandas.core.frame.DataFrame'>\n",
            "RangeIndex: 424 entries, 0 to 423\n",
            "Data columns (total 8 columns):\n",
            " #   Column            Non-Null Count  Dtype         \n",
            "---  ------            --------------  -----         \n",
            " 0   Date_of_PreShoot  422 non-null    datetime64[ns]\n",
            " 1   Session_Fee       422 non-null    object        \n",
            " 2   Hair              422 non-null    object        \n",
            " 3   DOB               424 non-null    object        \n",
            " 4   zip_code          422 non-null    object        \n",
            " 5   Sales_total       326 non-null    object        \n",
            " 6   Model Release     324 non-null    object        \n",
            " 7   Favorite          218 non-null    object        \n",
            "dtypes: datetime64[ns](1), object(7)\n",
            "memory usage: 26.6+ KB\n"
          ],
          "name": "stdout"
        }
      ]
    },
    {
      "cell_type": "code",
      "metadata": {
        "id": "J_4LAydk2tWP",
        "colab_type": "code",
        "colab": {}
      },
      "source": [
        ""
      ],
      "execution_count": 4,
      "outputs": []
    },
    {
      "cell_type": "code",
      "metadata": {
        "id": "zLtXhlRzrJQM",
        "colab_type": "code",
        "colab": {
          "base_uri": "https://localhost:8080/",
          "height": 34
        },
        "outputId": "b84f56c9-553f-4bc1-d0e0-dd720b048380"
      },
      "source": [
        "\n",
        "dnd_df.shape"
      ],
      "execution_count": 5,
      "outputs": [
        {
          "output_type": "execute_result",
          "data": {
            "text/plain": [
              "(424, 8)"
            ]
          },
          "metadata": {
            "tags": []
          },
          "execution_count": 5
        }
      ]
    },
    {
      "cell_type": "code",
      "metadata": {
        "id": "uLtiHWjvsAWj",
        "colab_type": "code",
        "colab": {
          "base_uri": "https://localhost:8080/",
          "height": 195
        },
        "outputId": "f4d82f4d-b300-40aa-c97b-f105f4882125"
      },
      "source": [
        "dnd_df.head()"
      ],
      "execution_count": 6,
      "outputs": [
        {
          "output_type": "execute_result",
          "data": {
            "text/html": [
              "<div>\n",
              "<style scoped>\n",
              "    .dataframe tbody tr th:only-of-type {\n",
              "        vertical-align: middle;\n",
              "    }\n",
              "\n",
              "    .dataframe tbody tr th {\n",
              "        vertical-align: top;\n",
              "    }\n",
              "\n",
              "    .dataframe thead th {\n",
              "        text-align: right;\n",
              "    }\n",
              "</style>\n",
              "<table border=\"1\" class=\"dataframe\">\n",
              "  <thead>\n",
              "    <tr style=\"text-align: right;\">\n",
              "      <th></th>\n",
              "      <th>Date_of_PreShoot</th>\n",
              "      <th>Session_Fee</th>\n",
              "      <th>Hair</th>\n",
              "      <th>DOB</th>\n",
              "      <th>zip_code</th>\n",
              "      <th>Sales_total</th>\n",
              "      <th>Model Release</th>\n",
              "      <th>Favorite</th>\n",
              "    </tr>\n",
              "  </thead>\n",
              "  <tbody>\n",
              "    <tr>\n",
              "      <th>0</th>\n",
              "      <td>2017-01-05</td>\n",
              "      <td>99</td>\n",
              "      <td>yes</td>\n",
              "      <td>5/5/1976</td>\n",
              "      <td>32208</td>\n",
              "      <td>600</td>\n",
              "      <td>yes</td>\n",
              "      <td>butt</td>\n",
              "    </tr>\n",
              "    <tr>\n",
              "      <th>1</th>\n",
              "      <td>2017-11-02</td>\n",
              "      <td>99</td>\n",
              "      <td>yes</td>\n",
              "      <td>10/16/1984</td>\n",
              "      <td>32082</td>\n",
              "      <td>400</td>\n",
              "      <td>no</td>\n",
              "      <td>butt, eyes</td>\n",
              "    </tr>\n",
              "    <tr>\n",
              "      <th>2</th>\n",
              "      <td>2017-06-29</td>\n",
              "      <td>99</td>\n",
              "      <td>yes</td>\n",
              "      <td>7/22/1989</td>\n",
              "      <td>32080</td>\n",
              "      <td>320</td>\n",
              "      <td>no</td>\n",
              "      <td>eyes, hair, legs</td>\n",
              "    </tr>\n",
              "    <tr>\n",
              "      <th>3</th>\n",
              "      <td>2017-01-23</td>\n",
              "      <td>99</td>\n",
              "      <td>no</td>\n",
              "      <td>1/23/1971</td>\n",
              "      <td>32208</td>\n",
              "      <td>720</td>\n",
              "      <td>yes</td>\n",
              "      <td>boobs</td>\n",
              "    </tr>\n",
              "    <tr>\n",
              "      <th>4</th>\n",
              "      <td>2014-04-25</td>\n",
              "      <td>99</td>\n",
              "      <td>yes</td>\n",
              "      <td>6/6/1994</td>\n",
              "      <td>32034</td>\n",
              "      <td>NaN</td>\n",
              "      <td>NaN</td>\n",
              "      <td>NaN</td>\n",
              "    </tr>\n",
              "  </tbody>\n",
              "</table>\n",
              "</div>"
            ],
            "text/plain": [
              "  Date_of_PreShoot Session_Fee Hair  ... Sales_total Model Release          Favorite\n",
              "0       2017-01-05          99  yes  ...         600           yes              butt\n",
              "1       2017-11-02          99  yes  ...         400            no        butt, eyes\n",
              "2       2017-06-29          99  yes  ...         320            no  eyes, hair, legs\n",
              "3       2017-01-23          99   no  ...         720           yes             boobs\n",
              "4       2014-04-25          99  yes  ...         NaN           NaN               NaN\n",
              "\n",
              "[5 rows x 8 columns]"
            ]
          },
          "metadata": {
            "tags": []
          },
          "execution_count": 6
        }
      ]
    },
    {
      "cell_type": "code",
      "metadata": {
        "id": "JYgQXk2etRsj",
        "colab_type": "code",
        "colab": {
          "base_uri": "https://localhost:8080/",
          "height": 225
        },
        "outputId": "a5bafc4f-6a60-48d7-ad16-48053d5327c7"
      },
      "source": [
        "dnd_df.describe()"
      ],
      "execution_count": 7,
      "outputs": [
        {
          "output_type": "execute_result",
          "data": {
            "text/html": [
              "<div>\n",
              "<style scoped>\n",
              "    .dataframe tbody tr th:only-of-type {\n",
              "        vertical-align: middle;\n",
              "    }\n",
              "\n",
              "    .dataframe tbody tr th {\n",
              "        vertical-align: top;\n",
              "    }\n",
              "\n",
              "    .dataframe thead th {\n",
              "        text-align: right;\n",
              "    }\n",
              "</style>\n",
              "<table border=\"1\" class=\"dataframe\">\n",
              "  <thead>\n",
              "    <tr style=\"text-align: right;\">\n",
              "      <th></th>\n",
              "      <th>Date_of_PreShoot</th>\n",
              "      <th>Session_Fee</th>\n",
              "      <th>Hair</th>\n",
              "      <th>DOB</th>\n",
              "      <th>zip_code</th>\n",
              "      <th>Sales_total</th>\n",
              "      <th>Model Release</th>\n",
              "      <th>Favorite</th>\n",
              "    </tr>\n",
              "  </thead>\n",
              "  <tbody>\n",
              "    <tr>\n",
              "      <th>count</th>\n",
              "      <td>422</td>\n",
              "      <td>422</td>\n",
              "      <td>422</td>\n",
              "      <td>424</td>\n",
              "      <td>422</td>\n",
              "      <td>326</td>\n",
              "      <td>324</td>\n",
              "      <td>218</td>\n",
              "    </tr>\n",
              "    <tr>\n",
              "      <th>unique</th>\n",
              "      <td>321</td>\n",
              "      <td>10</td>\n",
              "      <td>4</td>\n",
              "      <td>413</td>\n",
              "      <td>82</td>\n",
              "      <td>69</td>\n",
              "      <td>5</td>\n",
              "      <td>65</td>\n",
              "    </tr>\n",
              "    <tr>\n",
              "      <th>top</th>\n",
              "      <td>2013-12-04 00:00:00</td>\n",
              "      <td>99</td>\n",
              "      <td>no</td>\n",
              "      <td>12/26/1977</td>\n",
              "      <td>32218</td>\n",
              "      <td>600</td>\n",
              "      <td>yes</td>\n",
              "      <td>butt</td>\n",
              "    </tr>\n",
              "    <tr>\n",
              "      <th>freq</th>\n",
              "      <td>4</td>\n",
              "      <td>289</td>\n",
              "      <td>302</td>\n",
              "      <td>2</td>\n",
              "      <td>27</td>\n",
              "      <td>83</td>\n",
              "      <td>211</td>\n",
              "      <td>77</td>\n",
              "    </tr>\n",
              "    <tr>\n",
              "      <th>first</th>\n",
              "      <td>1988-12-28 00:00:00</td>\n",
              "      <td>NaN</td>\n",
              "      <td>NaN</td>\n",
              "      <td>NaN</td>\n",
              "      <td>NaN</td>\n",
              "      <td>NaN</td>\n",
              "      <td>NaN</td>\n",
              "      <td>NaN</td>\n",
              "    </tr>\n",
              "    <tr>\n",
              "      <th>last</th>\n",
              "      <td>2020-11-13 00:00:00</td>\n",
              "      <td>NaN</td>\n",
              "      <td>NaN</td>\n",
              "      <td>NaN</td>\n",
              "      <td>NaN</td>\n",
              "      <td>NaN</td>\n",
              "      <td>NaN</td>\n",
              "      <td>NaN</td>\n",
              "    </tr>\n",
              "  </tbody>\n",
              "</table>\n",
              "</div>"
            ],
            "text/plain": [
              "           Date_of_PreShoot Session_Fee Hair  ... Sales_total Model Release Favorite\n",
              "count                   422         422  422  ...         326           324      218\n",
              "unique                  321          10    4  ...          69             5       65\n",
              "top     2013-12-04 00:00:00          99   no  ...         600           yes     butt\n",
              "freq                      4         289  302  ...          83           211       77\n",
              "first   1988-12-28 00:00:00         NaN  NaN  ...         NaN           NaN      NaN\n",
              "last    2020-11-13 00:00:00         NaN  NaN  ...         NaN           NaN      NaN\n",
              "\n",
              "[6 rows x 8 columns]"
            ]
          },
          "metadata": {
            "tags": []
          },
          "execution_count": 7
        }
      ]
    },
    {
      "cell_type": "code",
      "metadata": {
        "id": "lw7nzAactkB6",
        "colab_type": "code",
        "colab": {
          "base_uri": "https://localhost:8080/",
          "height": 225
        },
        "outputId": "a74e60f3-c1e6-44c9-8acb-340ea4dda2e6"
      },
      "source": [
        "dnd_df.describe(exclude=\"number\")"
      ],
      "execution_count": 8,
      "outputs": [
        {
          "output_type": "execute_result",
          "data": {
            "text/html": [
              "<div>\n",
              "<style scoped>\n",
              "    .dataframe tbody tr th:only-of-type {\n",
              "        vertical-align: middle;\n",
              "    }\n",
              "\n",
              "    .dataframe tbody tr th {\n",
              "        vertical-align: top;\n",
              "    }\n",
              "\n",
              "    .dataframe thead th {\n",
              "        text-align: right;\n",
              "    }\n",
              "</style>\n",
              "<table border=\"1\" class=\"dataframe\">\n",
              "  <thead>\n",
              "    <tr style=\"text-align: right;\">\n",
              "      <th></th>\n",
              "      <th>Date_of_PreShoot</th>\n",
              "      <th>Session_Fee</th>\n",
              "      <th>Hair</th>\n",
              "      <th>DOB</th>\n",
              "      <th>zip_code</th>\n",
              "      <th>Sales_total</th>\n",
              "      <th>Model Release</th>\n",
              "      <th>Favorite</th>\n",
              "    </tr>\n",
              "  </thead>\n",
              "  <tbody>\n",
              "    <tr>\n",
              "      <th>count</th>\n",
              "      <td>422</td>\n",
              "      <td>422</td>\n",
              "      <td>422</td>\n",
              "      <td>424</td>\n",
              "      <td>422</td>\n",
              "      <td>326</td>\n",
              "      <td>324</td>\n",
              "      <td>218</td>\n",
              "    </tr>\n",
              "    <tr>\n",
              "      <th>unique</th>\n",
              "      <td>321</td>\n",
              "      <td>10</td>\n",
              "      <td>4</td>\n",
              "      <td>413</td>\n",
              "      <td>82</td>\n",
              "      <td>69</td>\n",
              "      <td>5</td>\n",
              "      <td>65</td>\n",
              "    </tr>\n",
              "    <tr>\n",
              "      <th>top</th>\n",
              "      <td>2013-12-04 00:00:00</td>\n",
              "      <td>99</td>\n",
              "      <td>no</td>\n",
              "      <td>12/26/1977</td>\n",
              "      <td>32218</td>\n",
              "      <td>600</td>\n",
              "      <td>yes</td>\n",
              "      <td>butt</td>\n",
              "    </tr>\n",
              "    <tr>\n",
              "      <th>freq</th>\n",
              "      <td>4</td>\n",
              "      <td>289</td>\n",
              "      <td>302</td>\n",
              "      <td>2</td>\n",
              "      <td>27</td>\n",
              "      <td>83</td>\n",
              "      <td>211</td>\n",
              "      <td>77</td>\n",
              "    </tr>\n",
              "    <tr>\n",
              "      <th>first</th>\n",
              "      <td>1988-12-28 00:00:00</td>\n",
              "      <td>NaN</td>\n",
              "      <td>NaN</td>\n",
              "      <td>NaN</td>\n",
              "      <td>NaN</td>\n",
              "      <td>NaN</td>\n",
              "      <td>NaN</td>\n",
              "      <td>NaN</td>\n",
              "    </tr>\n",
              "    <tr>\n",
              "      <th>last</th>\n",
              "      <td>2020-11-13 00:00:00</td>\n",
              "      <td>NaN</td>\n",
              "      <td>NaN</td>\n",
              "      <td>NaN</td>\n",
              "      <td>NaN</td>\n",
              "      <td>NaN</td>\n",
              "      <td>NaN</td>\n",
              "      <td>NaN</td>\n",
              "    </tr>\n",
              "  </tbody>\n",
              "</table>\n",
              "</div>"
            ],
            "text/plain": [
              "           Date_of_PreShoot Session_Fee Hair  ... Sales_total Model Release Favorite\n",
              "count                   422         422  422  ...         326           324      218\n",
              "unique                  321          10    4  ...          69             5       65\n",
              "top     2013-12-04 00:00:00          99   no  ...         600           yes     butt\n",
              "freq                      4         289  302  ...          83           211       77\n",
              "first   1988-12-28 00:00:00         NaN  NaN  ...         NaN           NaN      NaN\n",
              "last    2020-11-13 00:00:00         NaN  NaN  ...         NaN           NaN      NaN\n",
              "\n",
              "[6 rows x 8 columns]"
            ]
          },
          "metadata": {
            "tags": []
          },
          "execution_count": 8
        }
      ]
    },
    {
      "cell_type": "code",
      "metadata": {
        "id": "9-zV9mNYtrhS",
        "colab_type": "code",
        "colab": {
          "base_uri": "https://localhost:8080/",
          "height": 67
        },
        "outputId": "aaae5183-1b37-46c2-855f-6c3564d3e053"
      },
      "source": [
        "dnd_df.columns"
      ],
      "execution_count": 9,
      "outputs": [
        {
          "output_type": "execute_result",
          "data": {
            "text/plain": [
              "Index(['Date_of_PreShoot', 'Session_Fee', 'Hair', 'DOB', 'zip_code',\n",
              "       'Sales_total', 'Model Release', 'Favorite'],\n",
              "      dtype='object')"
            ]
          },
          "metadata": {
            "tags": []
          },
          "execution_count": 9
        }
      ]
    },
    {
      "cell_type": "code",
      "metadata": {
        "id": "MbbVpJvGt3r_",
        "colab_type": "code",
        "colab": {
          "base_uri": "https://localhost:8080/",
          "height": 168
        },
        "outputId": "0c0072d7-7009-4e18-e40d-0f2048323638"
      },
      "source": [
        "dnd_df.isnull().sum()"
      ],
      "execution_count": 10,
      "outputs": [
        {
          "output_type": "execute_result",
          "data": {
            "text/plain": [
              "Date_of_PreShoot      2\n",
              "Session_Fee           2\n",
              "Hair                  2\n",
              "DOB                   0\n",
              "zip_code              2\n",
              "Sales_total          98\n",
              "Model Release       100\n",
              "Favorite            206\n",
              "dtype: int64"
            ]
          },
          "metadata": {
            "tags": []
          },
          "execution_count": 10
        }
      ]
    },
    {
      "cell_type": "code",
      "metadata": {
        "id": "alxbAUeGSKFU",
        "colab_type": "code",
        "colab": {
          "base_uri": "https://localhost:8080/",
          "height": 218
        },
        "outputId": "08ea89d7-7122-4ecc-d365-9b557e0bb150"
      },
      "source": [
        "# lets check out the Favorite feature\n",
        "dnd_df[\"Favorite\"].value_counts()"
      ],
      "execution_count": 11,
      "outputs": [
        {
          "output_type": "execute_result",
          "data": {
            "text/plain": [
              "butt                       77\n",
              "boobs                      37\n",
              "legs                       12\n",
              "eyes                        9\n",
              "butt, eyes                  8\n",
              "                           ..\n",
              "butt, curves, face          1\n",
              "butt, eyes, legs            1\n",
              "abs, butt                   1\n",
              "cheek_bones, eyes, lips     1\n",
              "butt, curves                1\n",
              "Name: Favorite, Length: 65, dtype: int64"
            ]
          },
          "metadata": {
            "tags": []
          },
          "execution_count": 11
        }
      ]
    },
    {
      "cell_type": "code",
      "metadata": {
        "id": "lWVDWEtdVpAX",
        "colab_type": "code",
        "colab": {}
      },
      "source": [
        "dnd_df.loc[:, \"Favorite\"] = dnd_df.loc[:,\"Favorite\"].replace(to_replace=np.NaN, value=\"no preference\")"
      ],
      "execution_count": 12,
      "outputs": []
    },
    {
      "cell_type": "code",
      "metadata": {
        "id": "yg0nphbtrY70",
        "colab_type": "code",
        "colab": {}
      },
      "source": [
        "#list to fix boob; boob, legs; boob, smile; butt , legs; eyes,  legs"
      ],
      "execution_count": 13,
      "outputs": []
    },
    {
      "cell_type": "code",
      "metadata": {
        "id": "DmvCHF1CqyoW",
        "colab_type": "code",
        "colab": {}
      },
      "source": [
        "dnd_df.loc[:, \"Favorite\"] = dnd_df.loc[:,\"Favorite\"].replace(to_replace=\"boob\", value=\"boobs\")"
      ],
      "execution_count": 14,
      "outputs": []
    },
    {
      "cell_type": "code",
      "metadata": {
        "id": "BfE7t1svrhhE",
        "colab_type": "code",
        "colab": {}
      },
      "source": [
        "dnd_df.loc[:, \"Favorite\"] = dnd_df.loc[:,\"Favorite\"].replace(to_replace=\"boob, legs\", value=\"boobs, legs\")"
      ],
      "execution_count": 15,
      "outputs": []
    },
    {
      "cell_type": "code",
      "metadata": {
        "id": "C2b4uQmuryqq",
        "colab_type": "code",
        "colab": {}
      },
      "source": [
        "dnd_df.loc[:, \"Favorite\"] = dnd_df.loc[:,\"Favorite\"].replace(to_replace=\"boob, smile\", value=\"boobs, smile\")"
      ],
      "execution_count": 16,
      "outputs": []
    },
    {
      "cell_type": "code",
      "metadata": {
        "id": "bHt1jOMir8mi",
        "colab_type": "code",
        "colab": {}
      },
      "source": [
        "dnd_df.loc[:, \"Favorite\"] = dnd_df.loc[:,\"Favorite\"].replace(to_replace=\"butt , legs\", value=\"butt, legs\")"
      ],
      "execution_count": 17,
      "outputs": []
    },
    {
      "cell_type": "code",
      "metadata": {
        "id": "D7vzmbhUsGfp",
        "colab_type": "code",
        "colab": {}
      },
      "source": [
        "dnd_df.loc[:, \"Favorite\"] = dnd_df.loc[:,\"Favorite\"].replace(to_replace=\"eyes,  legs\", value=\"eyes, legs\")"
      ],
      "execution_count": 18,
      "outputs": []
    },
    {
      "cell_type": "code",
      "metadata": {
        "id": "DnAV3BWtsQPH",
        "colab_type": "code",
        "colab": {
          "base_uri": "https://localhost:8080/",
          "height": 34
        },
        "outputId": "1d2fb8cd-1cc6-4985-8eb2-37aadf26404f"
      },
      "source": [
        "dnd_df[\"Favorite\"].nunique()"
      ],
      "execution_count": 19,
      "outputs": [
        {
          "output_type": "execute_result",
          "data": {
            "text/plain": [
              "62"
            ]
          },
          "metadata": {
            "tags": []
          },
          "execution_count": 19
        }
      ]
    },
    {
      "cell_type": "code",
      "metadata": {
        "id": "02THH1VtskTV",
        "colab_type": "code",
        "colab": {}
      },
      "source": [
        ""
      ],
      "execution_count": 19,
      "outputs": []
    },
    {
      "cell_type": "code",
      "metadata": {
        "id": "ppg9iJlFWesE",
        "colab_type": "code",
        "colab": {
          "base_uri": "https://localhost:8080/",
          "height": 168
        },
        "outputId": "f772263c-aeb4-4b25-c126-a6f59520fa8d"
      },
      "source": [
        "dnd_df.isnull().sum()"
      ],
      "execution_count": 20,
      "outputs": [
        {
          "output_type": "execute_result",
          "data": {
            "text/plain": [
              "Date_of_PreShoot      2\n",
              "Session_Fee           2\n",
              "Hair                  2\n",
              "DOB                   0\n",
              "zip_code              2\n",
              "Sales_total          98\n",
              "Model Release       100\n",
              "Favorite              0\n",
              "dtype: int64"
            ]
          },
          "metadata": {
            "tags": []
          },
          "execution_count": 20
        }
      ]
    },
    {
      "cell_type": "code",
      "metadata": {
        "id": "LM8GOoPiW2x4",
        "colab_type": "code",
        "colab": {}
      },
      "source": [
        "# drop the rows where sale is Nan\n",
        "# create a condition where sales is nan \n",
        "# drop those rows\n",
        "\n",
        "# no_sales_condition = dnd_df[\"Sales_total\"][:] == np.NaN"
      ],
      "execution_count": 21,
      "outputs": []
    },
    {
      "cell_type": "code",
      "metadata": {
        "id": "CBpLnt5dhRoP",
        "colab_type": "code",
        "colab": {}
      },
      "source": [
        "dnd_sales_df =dnd_df.dropna(subset=[\"Sales_total\"])"
      ],
      "execution_count": 22,
      "outputs": []
    },
    {
      "cell_type": "code",
      "metadata": {
        "id": "RxykuyiFp7Pj",
        "colab_type": "code",
        "colab": {}
      },
      "source": [
        ""
      ],
      "execution_count": 22,
      "outputs": []
    },
    {
      "cell_type": "code",
      "metadata": {
        "id": "E6twtxhkgwHA",
        "colab_type": "code",
        "colab": {
          "base_uri": "https://localhost:8080/",
          "height": 34
        },
        "outputId": "9c200475-3ec0-4a15-cc65-8cd5fd15e1fc"
      },
      "source": [
        "dnd_df.shape"
      ],
      "execution_count": 23,
      "outputs": [
        {
          "output_type": "execute_result",
          "data": {
            "text/plain": [
              "(424, 8)"
            ]
          },
          "metadata": {
            "tags": []
          },
          "execution_count": 23
        }
      ]
    },
    {
      "cell_type": "code",
      "metadata": {
        "id": "FznZmhRXha37",
        "colab_type": "code",
        "colab": {
          "base_uri": "https://localhost:8080/",
          "height": 34
        },
        "outputId": "15a4b583-984e-4fdc-b846-8ba9a804fb11"
      },
      "source": [
        "dnd_sales_df.shape"
      ],
      "execution_count": 24,
      "outputs": [
        {
          "output_type": "execute_result",
          "data": {
            "text/plain": [
              "(326, 8)"
            ]
          },
          "metadata": {
            "tags": []
          },
          "execution_count": 24
        }
      ]
    },
    {
      "cell_type": "code",
      "metadata": {
        "id": "xHzOF3aJp-uY",
        "colab_type": "code",
        "colab": {
          "base_uri": "https://localhost:8080/",
          "height": 168
        },
        "outputId": "3ea1ace5-cbec-4c44-9910-e13473b59a33"
      },
      "source": [
        "dnd_sales_df.isnull().sum()"
      ],
      "execution_count": 25,
      "outputs": [
        {
          "output_type": "execute_result",
          "data": {
            "text/plain": [
              "Date_of_PreShoot    2\n",
              "Session_Fee         2\n",
              "Hair                2\n",
              "DOB                 0\n",
              "zip_code            0\n",
              "Sales_total         0\n",
              "Model Release       8\n",
              "Favorite            0\n",
              "dtype: int64"
            ]
          },
          "metadata": {
            "tags": []
          },
          "execution_count": 25
        }
      ]
    },
    {
      "cell_type": "code",
      "metadata": {
        "id": "GP-R0MhnqC7A",
        "colab_type": "code",
        "colab": {
          "base_uri": "https://localhost:8080/",
          "height": 269
        },
        "outputId": "6939e8cb-3988-4284-84bb-85d119ea3f8e"
      },
      "source": [
        "dnd_sales_df.info()"
      ],
      "execution_count": 26,
      "outputs": [
        {
          "output_type": "stream",
          "text": [
            "<class 'pandas.core.frame.DataFrame'>\n",
            "Int64Index: 326 entries, 0 to 423\n",
            "Data columns (total 8 columns):\n",
            " #   Column            Non-Null Count  Dtype         \n",
            "---  ------            --------------  -----         \n",
            " 0   Date_of_PreShoot  324 non-null    datetime64[ns]\n",
            " 1   Session_Fee       324 non-null    object        \n",
            " 2   Hair              324 non-null    object        \n",
            " 3   DOB               326 non-null    object        \n",
            " 4   zip_code          326 non-null    object        \n",
            " 5   Sales_total       326 non-null    object        \n",
            " 6   Model Release     318 non-null    object        \n",
            " 7   Favorite          326 non-null    object        \n",
            "dtypes: datetime64[ns](1), object(7)\n",
            "memory usage: 22.9+ KB\n"
          ],
          "name": "stdout"
        }
      ]
    },
    {
      "cell_type": "code",
      "metadata": {
        "id": "AsXL4QKBtiwO",
        "colab_type": "code",
        "colab": {
          "base_uri": "https://localhost:8080/",
          "height": 343
        },
        "outputId": "05766235-c3ce-40cc-84ae-e29c16463edd"
      },
      "source": [
        "dnd_sales_df.head(10)"
      ],
      "execution_count": 27,
      "outputs": [
        {
          "output_type": "execute_result",
          "data": {
            "text/html": [
              "<div>\n",
              "<style scoped>\n",
              "    .dataframe tbody tr th:only-of-type {\n",
              "        vertical-align: middle;\n",
              "    }\n",
              "\n",
              "    .dataframe tbody tr th {\n",
              "        vertical-align: top;\n",
              "    }\n",
              "\n",
              "    .dataframe thead th {\n",
              "        text-align: right;\n",
              "    }\n",
              "</style>\n",
              "<table border=\"1\" class=\"dataframe\">\n",
              "  <thead>\n",
              "    <tr style=\"text-align: right;\">\n",
              "      <th></th>\n",
              "      <th>Date_of_PreShoot</th>\n",
              "      <th>Session_Fee</th>\n",
              "      <th>Hair</th>\n",
              "      <th>DOB</th>\n",
              "      <th>zip_code</th>\n",
              "      <th>Sales_total</th>\n",
              "      <th>Model Release</th>\n",
              "      <th>Favorite</th>\n",
              "    </tr>\n",
              "  </thead>\n",
              "  <tbody>\n",
              "    <tr>\n",
              "      <th>0</th>\n",
              "      <td>2017-01-05</td>\n",
              "      <td>99</td>\n",
              "      <td>yes</td>\n",
              "      <td>5/5/1976</td>\n",
              "      <td>32208</td>\n",
              "      <td>600</td>\n",
              "      <td>yes</td>\n",
              "      <td>butt</td>\n",
              "    </tr>\n",
              "    <tr>\n",
              "      <th>1</th>\n",
              "      <td>2017-11-02</td>\n",
              "      <td>99</td>\n",
              "      <td>yes</td>\n",
              "      <td>10/16/1984</td>\n",
              "      <td>32082</td>\n",
              "      <td>400</td>\n",
              "      <td>no</td>\n",
              "      <td>butt, eyes</td>\n",
              "    </tr>\n",
              "    <tr>\n",
              "      <th>2</th>\n",
              "      <td>2017-06-29</td>\n",
              "      <td>99</td>\n",
              "      <td>yes</td>\n",
              "      <td>7/22/1989</td>\n",
              "      <td>32080</td>\n",
              "      <td>320</td>\n",
              "      <td>no</td>\n",
              "      <td>eyes, hair, legs</td>\n",
              "    </tr>\n",
              "    <tr>\n",
              "      <th>3</th>\n",
              "      <td>2017-01-23</td>\n",
              "      <td>99</td>\n",
              "      <td>no</td>\n",
              "      <td>1/23/1971</td>\n",
              "      <td>32208</td>\n",
              "      <td>720</td>\n",
              "      <td>yes</td>\n",
              "      <td>boobs</td>\n",
              "    </tr>\n",
              "    <tr>\n",
              "      <th>5</th>\n",
              "      <td>2014-09-14</td>\n",
              "      <td>99</td>\n",
              "      <td>yes</td>\n",
              "      <td>11/3/1982</td>\n",
              "      <td>32257</td>\n",
              "      <td>1320</td>\n",
              "      <td>no</td>\n",
              "      <td>butt</td>\n",
              "    </tr>\n",
              "    <tr>\n",
              "      <th>6</th>\n",
              "      <td>2017-09-05</td>\n",
              "      <td>99</td>\n",
              "      <td>no</td>\n",
              "      <td>1/24/1996</td>\n",
              "      <td>32246</td>\n",
              "      <td>0</td>\n",
              "      <td>yes</td>\n",
              "      <td>eyes</td>\n",
              "    </tr>\n",
              "    <tr>\n",
              "      <th>7</th>\n",
              "      <td>2015-08-14</td>\n",
              "      <td>179</td>\n",
              "      <td>no</td>\n",
              "      <td>8/29/1977</td>\n",
              "      <td>32221</td>\n",
              "      <td>240</td>\n",
              "      <td>no</td>\n",
              "      <td>no preference</td>\n",
              "    </tr>\n",
              "    <tr>\n",
              "      <th>9</th>\n",
              "      <td>2015-03-05</td>\n",
              "      <td>99</td>\n",
              "      <td>yes</td>\n",
              "      <td>9/7/1979</td>\n",
              "      <td>32277</td>\n",
              "      <td>720</td>\n",
              "      <td>yes</td>\n",
              "      <td>boobs</td>\n",
              "    </tr>\n",
              "    <tr>\n",
              "      <th>10</th>\n",
              "      <td>2015-01-21</td>\n",
              "      <td>99</td>\n",
              "      <td>yes</td>\n",
              "      <td>8/4/1988</td>\n",
              "      <td>32258</td>\n",
              "      <td>680</td>\n",
              "      <td>yes</td>\n",
              "      <td>eyes</td>\n",
              "    </tr>\n",
              "    <tr>\n",
              "      <th>12</th>\n",
              "      <td>2014-09-27</td>\n",
              "      <td>99</td>\n",
              "      <td>no</td>\n",
              "      <td>11/10/1969</td>\n",
              "      <td>32216</td>\n",
              "      <td>600</td>\n",
              "      <td>yes</td>\n",
              "      <td>no preference</td>\n",
              "    </tr>\n",
              "  </tbody>\n",
              "</table>\n",
              "</div>"
            ],
            "text/plain": [
              "   Date_of_PreShoot Session_Fee  ... Model Release          Favorite\n",
              "0        2017-01-05          99  ...           yes              butt\n",
              "1        2017-11-02          99  ...            no        butt, eyes\n",
              "2        2017-06-29          99  ...            no  eyes, hair, legs\n",
              "3        2017-01-23          99  ...           yes             boobs\n",
              "5        2014-09-14          99  ...            no              butt\n",
              "6        2017-09-05          99  ...           yes              eyes\n",
              "7        2015-08-14         179  ...            no     no preference\n",
              "9        2015-03-05          99  ...           yes             boobs\n",
              "10       2015-01-21          99  ...           yes              eyes\n",
              "12       2014-09-27          99  ...           yes     no preference\n",
              "\n",
              "[10 rows x 8 columns]"
            ]
          },
          "metadata": {
            "tags": []
          },
          "execution_count": 27
        }
      ]
    },
    {
      "cell_type": "code",
      "metadata": {
        "id": "IgTqJkc8CPjJ",
        "colab_type": "code",
        "colab": {
          "base_uri": "https://localhost:8080/",
          "height": 34
        },
        "outputId": "0dee897f-a3a4-48a1-a8c9-4f58b36f122a"
      },
      "source": [
        "dnd_sales_df[\"Sales_total\"].nunique()"
      ],
      "execution_count": 28,
      "outputs": [
        {
          "output_type": "execute_result",
          "data": {
            "text/plain": [
              "69"
            ]
          },
          "metadata": {
            "tags": []
          },
          "execution_count": 28
        }
      ]
    },
    {
      "cell_type": "code",
      "metadata": {
        "id": "-Sy_4pWvCXsw",
        "colab_type": "code",
        "colab": {}
      },
      "source": [
        ""
      ],
      "execution_count": 28,
      "outputs": []
    },
    {
      "cell_type": "code",
      "metadata": {
        "id": "5sURDSi4tk9x",
        "colab_type": "code",
        "colab": {}
      },
      "source": [
        "# try converting to str, then to int\n",
        "# test= dnd_sales_df[\"Sales_total\"].astype(str).astype(int)\n",
        "# test"
      ],
      "execution_count": 29,
      "outputs": []
    },
    {
      "cell_type": "code",
      "metadata": {
        "id": "cLlMf_0nujJj",
        "colab_type": "code",
        "colab": {}
      },
      "source": [
        "# find this 866.7...\n",
        "cond = dnd_sales_df[\"Sales_total\"] == \"866.7\""
      ],
      "execution_count": 30,
      "outputs": []
    },
    {
      "cell_type": "code",
      "metadata": {
        "id": "xf5tiO2X77ak",
        "colab_type": "code",
        "colab": {
          "base_uri": "https://localhost:8080/",
          "height": 77
        },
        "outputId": "a7ba7ace-93eb-4ef3-8778-cfbd4446cb5a"
      },
      "source": [
        "temp_df = dnd_sales_df[cond]\n",
        "temp_df"
      ],
      "execution_count": 31,
      "outputs": [
        {
          "output_type": "execute_result",
          "data": {
            "text/html": [
              "<div>\n",
              "<style scoped>\n",
              "    .dataframe tbody tr th:only-of-type {\n",
              "        vertical-align: middle;\n",
              "    }\n",
              "\n",
              "    .dataframe tbody tr th {\n",
              "        vertical-align: top;\n",
              "    }\n",
              "\n",
              "    .dataframe thead th {\n",
              "        text-align: right;\n",
              "    }\n",
              "</style>\n",
              "<table border=\"1\" class=\"dataframe\">\n",
              "  <thead>\n",
              "    <tr style=\"text-align: right;\">\n",
              "      <th></th>\n",
              "      <th>Date_of_PreShoot</th>\n",
              "      <th>Session_Fee</th>\n",
              "      <th>Hair</th>\n",
              "      <th>DOB</th>\n",
              "      <th>zip_code</th>\n",
              "      <th>Sales_total</th>\n",
              "      <th>Model Release</th>\n",
              "      <th>Favorite</th>\n",
              "    </tr>\n",
              "  </thead>\n",
              "  <tbody>\n",
              "    <tr>\n",
              "      <th>133</th>\n",
              "      <td>2013-08-02</td>\n",
              "      <td>99</td>\n",
              "      <td>no</td>\n",
              "      <td>10/5/1980</td>\n",
              "      <td>32218</td>\n",
              "      <td>866.7</td>\n",
              "      <td>yes</td>\n",
              "      <td>no preference</td>\n",
              "    </tr>\n",
              "  </tbody>\n",
              "</table>\n",
              "</div>"
            ],
            "text/plain": [
              "    Date_of_PreShoot Session_Fee Hair  ... Sales_total Model Release       Favorite\n",
              "133       2013-08-02          99   no  ...       866.7           yes  no preference\n",
              "\n",
              "[1 rows x 8 columns]"
            ]
          },
          "metadata": {
            "tags": []
          },
          "execution_count": 31
        }
      ]
    },
    {
      "cell_type": "code",
      "metadata": {
        "id": "Ho8JPn8I8BXn",
        "colab_type": "code",
        "colab": {
          "base_uri": "https://localhost:8080/",
          "height": 154
        },
        "outputId": "a1900ea8-9c76-4619-b0fa-27cf8cecea1d"
      },
      "source": [
        "dnd_sales_df.loc[133, \"Sales_total\"] = 860\n",
        "dnd_sales_df.loc[133, \"Sales_total\"] "
      ],
      "execution_count": 32,
      "outputs": [
        {
          "output_type": "stream",
          "text": [
            "/usr/local/lib/python3.6/dist-packages/pandas/core/indexing.py:966: SettingWithCopyWarning: \n",
            "A value is trying to be set on a copy of a slice from a DataFrame.\n",
            "Try using .loc[row_indexer,col_indexer] = value instead\n",
            "\n",
            "See the caveats in the documentation: https://pandas.pydata.org/pandas-docs/stable/user_guide/indexing.html#returning-a-view-versus-a-copy\n",
            "  self.obj[item] = s\n"
          ],
          "name": "stderr"
        },
        {
          "output_type": "execute_result",
          "data": {
            "text/plain": [
              "860"
            ]
          },
          "metadata": {
            "tags": []
          },
          "execution_count": 32
        }
      ]
    },
    {
      "cell_type": "code",
      "metadata": {
        "id": "fxl0sfMT8vkz",
        "colab_type": "code",
        "colab": {}
      },
      "source": [
        "# try again now that I got rid of decimal \n",
        "# test= dnd_sales_df[\"Sales_total\"].astype(str).astype(int)\n",
        "# test\n"
      ],
      "execution_count": 33,
      "outputs": []
    },
    {
      "cell_type": "code",
      "metadata": {
        "id": "D1sLEHoo9vuJ",
        "colab_type": "code",
        "colab": {
          "base_uri": "https://localhost:8080/",
          "height": 77
        },
        "outputId": "b00aca22-29a3-4fb8-8eb7-34822ec6d554"
      },
      "source": [
        "# so now maybe there is a space?\n",
        "cond2 = dnd_sales_df[\"Sales_total\"] == \" \"\n",
        "dnd_sales_df[cond2]"
      ],
      "execution_count": 34,
      "outputs": [
        {
          "output_type": "execute_result",
          "data": {
            "text/html": [
              "<div>\n",
              "<style scoped>\n",
              "    .dataframe tbody tr th:only-of-type {\n",
              "        vertical-align: middle;\n",
              "    }\n",
              "\n",
              "    .dataframe tbody tr th {\n",
              "        vertical-align: top;\n",
              "    }\n",
              "\n",
              "    .dataframe thead th {\n",
              "        text-align: right;\n",
              "    }\n",
              "</style>\n",
              "<table border=\"1\" class=\"dataframe\">\n",
              "  <thead>\n",
              "    <tr style=\"text-align: right;\">\n",
              "      <th></th>\n",
              "      <th>Date_of_PreShoot</th>\n",
              "      <th>Session_Fee</th>\n",
              "      <th>Hair</th>\n",
              "      <th>DOB</th>\n",
              "      <th>zip_code</th>\n",
              "      <th>Sales_total</th>\n",
              "      <th>Model Release</th>\n",
              "      <th>Favorite</th>\n",
              "    </tr>\n",
              "  </thead>\n",
              "  <tbody>\n",
              "    <tr>\n",
              "      <th>222</th>\n",
              "      <td>2014-10-21</td>\n",
              "      <td>99</td>\n",
              "      <td>yes</td>\n",
              "      <td>11/29/1969</td>\n",
              "      <td>32073</td>\n",
              "      <td></td>\n",
              "      <td></td>\n",
              "      <td>no preference</td>\n",
              "    </tr>\n",
              "  </tbody>\n",
              "</table>\n",
              "</div>"
            ],
            "text/plain": [
              "    Date_of_PreShoot Session_Fee Hair  ... Sales_total Model Release       Favorite\n",
              "222       2014-10-21          99  yes  ...                            no preference\n",
              "\n",
              "[1 rows x 8 columns]"
            ]
          },
          "metadata": {
            "tags": []
          },
          "execution_count": 34
        }
      ]
    },
    {
      "cell_type": "code",
      "metadata": {
        "id": "9ESZGywE94HB",
        "colab_type": "code",
        "colab": {}
      },
      "source": [
        "# lets drop this row...\n",
        "\n",
        "dnd_sales_df = dnd_sales_df.drop(labels=222)\n"
      ],
      "execution_count": 35,
      "outputs": []
    },
    {
      "cell_type": "code",
      "metadata": {
        "id": "Tlyx5UJRASm3",
        "colab_type": "code",
        "colab": {
          "base_uri": "https://localhost:8080/",
          "height": 101
        },
        "outputId": "4b67e601-3382-4d0b-9dac-c257e1255874"
      },
      "source": [
        "# see if 222 is there\n",
        "dnd_sales_df[cond2]"
      ],
      "execution_count": 36,
      "outputs": [
        {
          "output_type": "stream",
          "text": [
            "/usr/local/lib/python3.6/dist-packages/ipykernel_launcher.py:2: UserWarning: Boolean Series key will be reindexed to match DataFrame index.\n",
            "  \n"
          ],
          "name": "stderr"
        },
        {
          "output_type": "execute_result",
          "data": {
            "text/html": [
              "<div>\n",
              "<style scoped>\n",
              "    .dataframe tbody tr th:only-of-type {\n",
              "        vertical-align: middle;\n",
              "    }\n",
              "\n",
              "    .dataframe tbody tr th {\n",
              "        vertical-align: top;\n",
              "    }\n",
              "\n",
              "    .dataframe thead th {\n",
              "        text-align: right;\n",
              "    }\n",
              "</style>\n",
              "<table border=\"1\" class=\"dataframe\">\n",
              "  <thead>\n",
              "    <tr style=\"text-align: right;\">\n",
              "      <th></th>\n",
              "      <th>Date_of_PreShoot</th>\n",
              "      <th>Session_Fee</th>\n",
              "      <th>Hair</th>\n",
              "      <th>DOB</th>\n",
              "      <th>zip_code</th>\n",
              "      <th>Sales_total</th>\n",
              "      <th>Model Release</th>\n",
              "      <th>Favorite</th>\n",
              "    </tr>\n",
              "  </thead>\n",
              "  <tbody>\n",
              "  </tbody>\n",
              "</table>\n",
              "</div>"
            ],
            "text/plain": [
              "Empty DataFrame\n",
              "Columns: [Date_of_PreShoot, Session_Fee, Hair, DOB, zip_code, Sales_total, Model Release, Favorite]\n",
              "Index: []"
            ]
          },
          "metadata": {
            "tags": []
          },
          "execution_count": 36
        }
      ]
    },
    {
      "cell_type": "code",
      "metadata": {
        "id": "3569nW9YAnmY",
        "colab_type": "code",
        "colab": {
          "base_uri": "https://localhost:8080/",
          "height": 284
        },
        "outputId": "fb40c6e3-312f-4e8a-ec56-e516789b63fe"
      },
      "source": [
        "#perfect so far; try to convert one more time \n",
        "dnd_sales_df[\"Sales_total\"]= dnd_sales_df[\"Sales_total\"].astype(str).astype(int)\n",
        "dnd_sales_df.describe()"
      ],
      "execution_count": 37,
      "outputs": [
        {
          "output_type": "execute_result",
          "data": {
            "text/html": [
              "<div>\n",
              "<style scoped>\n",
              "    .dataframe tbody tr th:only-of-type {\n",
              "        vertical-align: middle;\n",
              "    }\n",
              "\n",
              "    .dataframe tbody tr th {\n",
              "        vertical-align: top;\n",
              "    }\n",
              "\n",
              "    .dataframe thead th {\n",
              "        text-align: right;\n",
              "    }\n",
              "</style>\n",
              "<table border=\"1\" class=\"dataframe\">\n",
              "  <thead>\n",
              "    <tr style=\"text-align: right;\">\n",
              "      <th></th>\n",
              "      <th>Sales_total</th>\n",
              "    </tr>\n",
              "  </thead>\n",
              "  <tbody>\n",
              "    <tr>\n",
              "      <th>count</th>\n",
              "      <td>325.000000</td>\n",
              "    </tr>\n",
              "    <tr>\n",
              "      <th>mean</th>\n",
              "      <td>738.095385</td>\n",
              "    </tr>\n",
              "    <tr>\n",
              "      <th>std</th>\n",
              "      <td>475.472871</td>\n",
              "    </tr>\n",
              "    <tr>\n",
              "      <th>min</th>\n",
              "      <td>0.000000</td>\n",
              "    </tr>\n",
              "    <tr>\n",
              "      <th>25%</th>\n",
              "      <td>580.000000</td>\n",
              "    </tr>\n",
              "    <tr>\n",
              "      <th>50%</th>\n",
              "      <td>600.000000</td>\n",
              "    </tr>\n",
              "    <tr>\n",
              "      <th>75%</th>\n",
              "      <td>950.000000</td>\n",
              "    </tr>\n",
              "    <tr>\n",
              "      <th>max</th>\n",
              "      <td>3000.000000</td>\n",
              "    </tr>\n",
              "  </tbody>\n",
              "</table>\n",
              "</div>"
            ],
            "text/plain": [
              "       Sales_total\n",
              "count   325.000000\n",
              "mean    738.095385\n",
              "std     475.472871\n",
              "min       0.000000\n",
              "25%     580.000000\n",
              "50%     600.000000\n",
              "75%     950.000000\n",
              "max    3000.000000"
            ]
          },
          "metadata": {
            "tags": []
          },
          "execution_count": 37
        }
      ]
    },
    {
      "cell_type": "code",
      "metadata": {
        "id": "vxodQWi4BK6r",
        "colab_type": "code",
        "colab": {
          "base_uri": "https://localhost:8080/",
          "height": 195
        },
        "outputId": "d65e6f40-163a-47be-efcb-7a6f7e43abed"
      },
      "source": [
        "dnd_sales_df.head()"
      ],
      "execution_count": 38,
      "outputs": [
        {
          "output_type": "execute_result",
          "data": {
            "text/html": [
              "<div>\n",
              "<style scoped>\n",
              "    .dataframe tbody tr th:only-of-type {\n",
              "        vertical-align: middle;\n",
              "    }\n",
              "\n",
              "    .dataframe tbody tr th {\n",
              "        vertical-align: top;\n",
              "    }\n",
              "\n",
              "    .dataframe thead th {\n",
              "        text-align: right;\n",
              "    }\n",
              "</style>\n",
              "<table border=\"1\" class=\"dataframe\">\n",
              "  <thead>\n",
              "    <tr style=\"text-align: right;\">\n",
              "      <th></th>\n",
              "      <th>Date_of_PreShoot</th>\n",
              "      <th>Session_Fee</th>\n",
              "      <th>Hair</th>\n",
              "      <th>DOB</th>\n",
              "      <th>zip_code</th>\n",
              "      <th>Sales_total</th>\n",
              "      <th>Model Release</th>\n",
              "      <th>Favorite</th>\n",
              "    </tr>\n",
              "  </thead>\n",
              "  <tbody>\n",
              "    <tr>\n",
              "      <th>0</th>\n",
              "      <td>2017-01-05</td>\n",
              "      <td>99</td>\n",
              "      <td>yes</td>\n",
              "      <td>5/5/1976</td>\n",
              "      <td>32208</td>\n",
              "      <td>600</td>\n",
              "      <td>yes</td>\n",
              "      <td>butt</td>\n",
              "    </tr>\n",
              "    <tr>\n",
              "      <th>1</th>\n",
              "      <td>2017-11-02</td>\n",
              "      <td>99</td>\n",
              "      <td>yes</td>\n",
              "      <td>10/16/1984</td>\n",
              "      <td>32082</td>\n",
              "      <td>400</td>\n",
              "      <td>no</td>\n",
              "      <td>butt, eyes</td>\n",
              "    </tr>\n",
              "    <tr>\n",
              "      <th>2</th>\n",
              "      <td>2017-06-29</td>\n",
              "      <td>99</td>\n",
              "      <td>yes</td>\n",
              "      <td>7/22/1989</td>\n",
              "      <td>32080</td>\n",
              "      <td>320</td>\n",
              "      <td>no</td>\n",
              "      <td>eyes, hair, legs</td>\n",
              "    </tr>\n",
              "    <tr>\n",
              "      <th>3</th>\n",
              "      <td>2017-01-23</td>\n",
              "      <td>99</td>\n",
              "      <td>no</td>\n",
              "      <td>1/23/1971</td>\n",
              "      <td>32208</td>\n",
              "      <td>720</td>\n",
              "      <td>yes</td>\n",
              "      <td>boobs</td>\n",
              "    </tr>\n",
              "    <tr>\n",
              "      <th>5</th>\n",
              "      <td>2014-09-14</td>\n",
              "      <td>99</td>\n",
              "      <td>yes</td>\n",
              "      <td>11/3/1982</td>\n",
              "      <td>32257</td>\n",
              "      <td>1320</td>\n",
              "      <td>no</td>\n",
              "      <td>butt</td>\n",
              "    </tr>\n",
              "  </tbody>\n",
              "</table>\n",
              "</div>"
            ],
            "text/plain": [
              "  Date_of_PreShoot Session_Fee  ... Model Release          Favorite\n",
              "0       2017-01-05          99  ...           yes              butt\n",
              "1       2017-11-02          99  ...            no        butt, eyes\n",
              "2       2017-06-29          99  ...            no  eyes, hair, legs\n",
              "3       2017-01-23          99  ...           yes             boobs\n",
              "5       2014-09-14          99  ...            no              butt\n",
              "\n",
              "[5 rows x 8 columns]"
            ]
          },
          "metadata": {
            "tags": []
          },
          "execution_count": 38
        }
      ]
    },
    {
      "cell_type": "code",
      "metadata": {
        "id": "E_4GUK8SBzU2",
        "colab_type": "code",
        "colab": {}
      },
      "source": [
        ""
      ],
      "execution_count": 38,
      "outputs": []
    },
    {
      "cell_type": "code",
      "metadata": {
        "id": "gn0UPSilEYw7",
        "colab_type": "code",
        "colab": {
          "base_uri": "https://localhost:8080/",
          "height": 34
        },
        "outputId": "dc4f6565-22f6-4836-abc3-f3c7d0f54750"
      },
      "source": [
        "dnd_sales_df[\"Session_Fee\"].nunique()"
      ],
      "execution_count": 39,
      "outputs": [
        {
          "output_type": "execute_result",
          "data": {
            "text/plain": [
              "8"
            ]
          },
          "metadata": {
            "tags": []
          },
          "execution_count": 39
        }
      ]
    },
    {
      "cell_type": "code",
      "metadata": {
        "id": "JtLM8GxXEfZV",
        "colab_type": "code",
        "colab": {
          "base_uri": "https://localhost:8080/",
          "height": 168
        },
        "outputId": "741572f3-d75d-4dff-a804-5ab3a6ef35fb"
      },
      "source": [
        "dnd_sales_df[\"Session_Fee\"].value_counts()"
      ],
      "execution_count": 40,
      "outputs": [
        {
          "output_type": "execute_result",
          "data": {
            "text/plain": [
              "99             230\n",
              "25              51\n",
              "179             33\n",
              "249              4\n",
              "0                2\n",
              "89               1\n",
              "100              1\n",
              "amazon gift      1\n",
              "Name: Session_Fee, dtype: int64"
            ]
          },
          "metadata": {
            "tags": []
          },
          "execution_count": 40
        }
      ]
    },
    {
      "cell_type": "code",
      "metadata": {
        "id": "h7pXanOkEnzM",
        "colab_type": "code",
        "colab": {}
      },
      "source": [
        "#ok lets change that amazon gift to 0\n",
        "cond_gift = dnd_sales_df[\"Session_Fee\"].str.strip() == \"amazon gift\""
      ],
      "execution_count": 41,
      "outputs": []
    },
    {
      "cell_type": "code",
      "metadata": {
        "id": "M9-0koJpFIoQ",
        "colab_type": "code",
        "colab": {
          "base_uri": "https://localhost:8080/",
          "height": 77
        },
        "outputId": "a0ba3551-f230-4b0f-d2b6-0ddcaa946887"
      },
      "source": [
        "dnd_sales_df[cond_gift]"
      ],
      "execution_count": 42,
      "outputs": [
        {
          "output_type": "execute_result",
          "data": {
            "text/html": [
              "<div>\n",
              "<style scoped>\n",
              "    .dataframe tbody tr th:only-of-type {\n",
              "        vertical-align: middle;\n",
              "    }\n",
              "\n",
              "    .dataframe tbody tr th {\n",
              "        vertical-align: top;\n",
              "    }\n",
              "\n",
              "    .dataframe thead th {\n",
              "        text-align: right;\n",
              "    }\n",
              "</style>\n",
              "<table border=\"1\" class=\"dataframe\">\n",
              "  <thead>\n",
              "    <tr style=\"text-align: right;\">\n",
              "      <th></th>\n",
              "      <th>Date_of_PreShoot</th>\n",
              "      <th>Session_Fee</th>\n",
              "      <th>Hair</th>\n",
              "      <th>DOB</th>\n",
              "      <th>zip_code</th>\n",
              "      <th>Sales_total</th>\n",
              "      <th>Model Release</th>\n",
              "      <th>Favorite</th>\n",
              "    </tr>\n",
              "  </thead>\n",
              "  <tbody>\n",
              "    <tr>\n",
              "      <th>160</th>\n",
              "      <td>2014-04-02</td>\n",
              "      <td>amazon gift</td>\n",
              "      <td>yes</td>\n",
              "      <td>12/17/1980</td>\n",
              "      <td>32164</td>\n",
              "      <td>600</td>\n",
              "      <td>yes</td>\n",
              "      <td>butt</td>\n",
              "    </tr>\n",
              "  </tbody>\n",
              "</table>\n",
              "</div>"
            ],
            "text/plain": [
              "    Date_of_PreShoot  Session_Fee Hair  ... Sales_total Model Release  Favorite\n",
              "160       2014-04-02  amazon gift  yes  ...         600           yes      butt\n",
              "\n",
              "[1 rows x 8 columns]"
            ]
          },
          "metadata": {
            "tags": []
          },
          "execution_count": 42
        }
      ]
    },
    {
      "cell_type": "code",
      "metadata": {
        "id": "y3Vn-kDkHGPH",
        "colab_type": "code",
        "colab": {}
      },
      "source": [
        "dnd_sales_df.loc[160, \"Session_Fee\"] =dnd_sales_df.loc[160, \"Session_Fee\"].strip()\n"
      ],
      "execution_count": 43,
      "outputs": []
    },
    {
      "cell_type": "code",
      "metadata": {
        "id": "JQgJ3J-oFNS3",
        "colab_type": "code",
        "colab": {}
      },
      "source": [
        "# replace \"amazon gift\" with 0 \n",
        "dnd_sales_df.loc[:, \"Session_Fee\"] = dnd_sales_df.loc[:,\"Session_Fee\"].replace(to_replace=\"amazon gift\", value=\"0\")"
      ],
      "execution_count": 44,
      "outputs": []
    },
    {
      "cell_type": "code",
      "metadata": {
        "id": "m6AyDiqOGBWW",
        "colab_type": "code",
        "colab": {
          "base_uri": "https://localhost:8080/",
          "height": 77
        },
        "outputId": "572d96c6-57c3-48d2-9f39-7d48f3b96bfa"
      },
      "source": [
        "# check to see if its gone\n",
        "dnd_sales_df[cond_gift]"
      ],
      "execution_count": 45,
      "outputs": [
        {
          "output_type": "execute_result",
          "data": {
            "text/html": [
              "<div>\n",
              "<style scoped>\n",
              "    .dataframe tbody tr th:only-of-type {\n",
              "        vertical-align: middle;\n",
              "    }\n",
              "\n",
              "    .dataframe tbody tr th {\n",
              "        vertical-align: top;\n",
              "    }\n",
              "\n",
              "    .dataframe thead th {\n",
              "        text-align: right;\n",
              "    }\n",
              "</style>\n",
              "<table border=\"1\" class=\"dataframe\">\n",
              "  <thead>\n",
              "    <tr style=\"text-align: right;\">\n",
              "      <th></th>\n",
              "      <th>Date_of_PreShoot</th>\n",
              "      <th>Session_Fee</th>\n",
              "      <th>Hair</th>\n",
              "      <th>DOB</th>\n",
              "      <th>zip_code</th>\n",
              "      <th>Sales_total</th>\n",
              "      <th>Model Release</th>\n",
              "      <th>Favorite</th>\n",
              "    </tr>\n",
              "  </thead>\n",
              "  <tbody>\n",
              "    <tr>\n",
              "      <th>160</th>\n",
              "      <td>2014-04-02</td>\n",
              "      <td>0</td>\n",
              "      <td>yes</td>\n",
              "      <td>12/17/1980</td>\n",
              "      <td>32164</td>\n",
              "      <td>600</td>\n",
              "      <td>yes</td>\n",
              "      <td>butt</td>\n",
              "    </tr>\n",
              "  </tbody>\n",
              "</table>\n",
              "</div>"
            ],
            "text/plain": [
              "    Date_of_PreShoot Session_Fee Hair  ... Sales_total Model Release  Favorite\n",
              "160       2014-04-02           0  yes  ...         600           yes      butt\n",
              "\n",
              "[1 rows x 8 columns]"
            ]
          },
          "metadata": {
            "tags": []
          },
          "execution_count": 45
        }
      ]
    },
    {
      "cell_type": "code",
      "metadata": {
        "id": "9TWQHdudGJmf",
        "colab_type": "code",
        "colab": {
          "base_uri": "https://localhost:8080/",
          "height": 151
        },
        "outputId": "426e0a6a-11ab-4bac-fc52-1ec59bda8c57"
      },
      "source": [
        "dnd_sales_df[\"Session_Fee\"].value_counts()"
      ],
      "execution_count": 46,
      "outputs": [
        {
          "output_type": "execute_result",
          "data": {
            "text/plain": [
              "99     230\n",
              "25      51\n",
              "179     33\n",
              "249      4\n",
              "0        3\n",
              "89       1\n",
              "100      1\n",
              "Name: Session_Fee, dtype: int64"
            ]
          },
          "metadata": {
            "tags": []
          },
          "execution_count": 46
        }
      ]
    },
    {
      "cell_type": "code",
      "metadata": {
        "id": "dLlofDwxIkY5",
        "colab_type": "code",
        "colab": {
          "base_uri": "https://localhost:8080/",
          "height": 34
        },
        "outputId": "c34cea56-fa6a-4003-ef4e-5a67b884523f"
      },
      "source": [
        "dnd_sales_df[\"Session_Fee\"].isnull().sum()\n"
      ],
      "execution_count": 47,
      "outputs": [
        {
          "output_type": "execute_result",
          "data": {
            "text/plain": [
              "2"
            ]
          },
          "metadata": {
            "tags": []
          },
          "execution_count": 47
        }
      ]
    },
    {
      "cell_type": "code",
      "metadata": {
        "id": "iWgedVkLIws3",
        "colab_type": "code",
        "colab": {
          "base_uri": "https://localhost:8080/",
          "height": 106
        },
        "outputId": "b4fda172-345c-4d8f-e6c3-19265309c496"
      },
      "source": [
        "# These were repeat clients where a second preshoot wasn't necessary \n",
        "# or a purchase of additional photos... So i have to manually update it \n",
        "# will export a \"clean\" csv later\n",
        "cond_nan = dnd_sales_df[\"Session_Fee\"].isnull() == True\n",
        "dnd_sales_df[cond_nan]"
      ],
      "execution_count": 48,
      "outputs": [
        {
          "output_type": "execute_result",
          "data": {
            "text/html": [
              "<div>\n",
              "<style scoped>\n",
              "    .dataframe tbody tr th:only-of-type {\n",
              "        vertical-align: middle;\n",
              "    }\n",
              "\n",
              "    .dataframe tbody tr th {\n",
              "        vertical-align: top;\n",
              "    }\n",
              "\n",
              "    .dataframe thead th {\n",
              "        text-align: right;\n",
              "    }\n",
              "</style>\n",
              "<table border=\"1\" class=\"dataframe\">\n",
              "  <thead>\n",
              "    <tr style=\"text-align: right;\">\n",
              "      <th></th>\n",
              "      <th>Date_of_PreShoot</th>\n",
              "      <th>Session_Fee</th>\n",
              "      <th>Hair</th>\n",
              "      <th>DOB</th>\n",
              "      <th>zip_code</th>\n",
              "      <th>Sales_total</th>\n",
              "      <th>Model Release</th>\n",
              "      <th>Favorite</th>\n",
              "    </tr>\n",
              "  </thead>\n",
              "  <tbody>\n",
              "    <tr>\n",
              "      <th>33</th>\n",
              "      <td>NaT</td>\n",
              "      <td>NaN</td>\n",
              "      <td>NaN</td>\n",
              "      <td>2/8/1983</td>\n",
              "      <td>32211</td>\n",
              "      <td>1200</td>\n",
              "      <td>yes</td>\n",
              "      <td>no preference</td>\n",
              "    </tr>\n",
              "    <tr>\n",
              "      <th>51</th>\n",
              "      <td>NaT</td>\n",
              "      <td>NaN</td>\n",
              "      <td>NaN</td>\n",
              "      <td>8/24/1979</td>\n",
              "      <td>32225</td>\n",
              "      <td>600</td>\n",
              "      <td>yes</td>\n",
              "      <td>boobs</td>\n",
              "    </tr>\n",
              "  </tbody>\n",
              "</table>\n",
              "</div>"
            ],
            "text/plain": [
              "   Date_of_PreShoot Session_Fee Hair  ... Sales_total Model Release       Favorite\n",
              "33              NaT         NaN  NaN  ...        1200           yes  no preference\n",
              "51              NaT         NaN  NaN  ...         600           yes          boobs\n",
              "\n",
              "[2 rows x 8 columns]"
            ]
          },
          "metadata": {
            "tags": []
          },
          "execution_count": 48
        }
      ]
    },
    {
      "cell_type": "code",
      "metadata": {
        "id": "JkBJVZ5uJWEy",
        "colab_type": "code",
        "colab": {
          "base_uri": "https://localhost:8080/",
          "height": 106
        },
        "outputId": "7dba6523-4ae6-496b-e5f3-4d71dda2d1f5"
      },
      "source": [
        "dnd_sales_df.loc[33, \"Session_Fee\"] = \"179\"\n",
        "dnd_sales_df[cond_nan]"
      ],
      "execution_count": 49,
      "outputs": [
        {
          "output_type": "execute_result",
          "data": {
            "text/html": [
              "<div>\n",
              "<style scoped>\n",
              "    .dataframe tbody tr th:only-of-type {\n",
              "        vertical-align: middle;\n",
              "    }\n",
              "\n",
              "    .dataframe tbody tr th {\n",
              "        vertical-align: top;\n",
              "    }\n",
              "\n",
              "    .dataframe thead th {\n",
              "        text-align: right;\n",
              "    }\n",
              "</style>\n",
              "<table border=\"1\" class=\"dataframe\">\n",
              "  <thead>\n",
              "    <tr style=\"text-align: right;\">\n",
              "      <th></th>\n",
              "      <th>Date_of_PreShoot</th>\n",
              "      <th>Session_Fee</th>\n",
              "      <th>Hair</th>\n",
              "      <th>DOB</th>\n",
              "      <th>zip_code</th>\n",
              "      <th>Sales_total</th>\n",
              "      <th>Model Release</th>\n",
              "      <th>Favorite</th>\n",
              "    </tr>\n",
              "  </thead>\n",
              "  <tbody>\n",
              "    <tr>\n",
              "      <th>33</th>\n",
              "      <td>NaT</td>\n",
              "      <td>179</td>\n",
              "      <td>NaN</td>\n",
              "      <td>2/8/1983</td>\n",
              "      <td>32211</td>\n",
              "      <td>1200</td>\n",
              "      <td>yes</td>\n",
              "      <td>no preference</td>\n",
              "    </tr>\n",
              "    <tr>\n",
              "      <th>51</th>\n",
              "      <td>NaT</td>\n",
              "      <td>NaN</td>\n",
              "      <td>NaN</td>\n",
              "      <td>8/24/1979</td>\n",
              "      <td>32225</td>\n",
              "      <td>600</td>\n",
              "      <td>yes</td>\n",
              "      <td>boobs</td>\n",
              "    </tr>\n",
              "  </tbody>\n",
              "</table>\n",
              "</div>"
            ],
            "text/plain": [
              "   Date_of_PreShoot Session_Fee Hair  ... Sales_total Model Release       Favorite\n",
              "33              NaT         179  NaN  ...        1200           yes  no preference\n",
              "51              NaT         NaN  NaN  ...         600           yes          boobs\n",
              "\n",
              "[2 rows x 8 columns]"
            ]
          },
          "metadata": {
            "tags": []
          },
          "execution_count": 49
        }
      ]
    },
    {
      "cell_type": "code",
      "metadata": {
        "id": "NiQuY1MvLavh",
        "colab_type": "code",
        "colab": {
          "base_uri": "https://localhost:8080/",
          "height": 106
        },
        "outputId": "6e0a1a3b-02d0-48ce-950a-3b7c883f81b2"
      },
      "source": [
        "dnd_sales_df.loc[51, \"Session_Fee\"] = \"99\"\n",
        "dnd_sales_df[cond_nan]"
      ],
      "execution_count": 50,
      "outputs": [
        {
          "output_type": "execute_result",
          "data": {
            "text/html": [
              "<div>\n",
              "<style scoped>\n",
              "    .dataframe tbody tr th:only-of-type {\n",
              "        vertical-align: middle;\n",
              "    }\n",
              "\n",
              "    .dataframe tbody tr th {\n",
              "        vertical-align: top;\n",
              "    }\n",
              "\n",
              "    .dataframe thead th {\n",
              "        text-align: right;\n",
              "    }\n",
              "</style>\n",
              "<table border=\"1\" class=\"dataframe\">\n",
              "  <thead>\n",
              "    <tr style=\"text-align: right;\">\n",
              "      <th></th>\n",
              "      <th>Date_of_PreShoot</th>\n",
              "      <th>Session_Fee</th>\n",
              "      <th>Hair</th>\n",
              "      <th>DOB</th>\n",
              "      <th>zip_code</th>\n",
              "      <th>Sales_total</th>\n",
              "      <th>Model Release</th>\n",
              "      <th>Favorite</th>\n",
              "    </tr>\n",
              "  </thead>\n",
              "  <tbody>\n",
              "    <tr>\n",
              "      <th>33</th>\n",
              "      <td>NaT</td>\n",
              "      <td>179</td>\n",
              "      <td>NaN</td>\n",
              "      <td>2/8/1983</td>\n",
              "      <td>32211</td>\n",
              "      <td>1200</td>\n",
              "      <td>yes</td>\n",
              "      <td>no preference</td>\n",
              "    </tr>\n",
              "    <tr>\n",
              "      <th>51</th>\n",
              "      <td>NaT</td>\n",
              "      <td>99</td>\n",
              "      <td>NaN</td>\n",
              "      <td>8/24/1979</td>\n",
              "      <td>32225</td>\n",
              "      <td>600</td>\n",
              "      <td>yes</td>\n",
              "      <td>boobs</td>\n",
              "    </tr>\n",
              "  </tbody>\n",
              "</table>\n",
              "</div>"
            ],
            "text/plain": [
              "   Date_of_PreShoot Session_Fee Hair  ... Sales_total Model Release       Favorite\n",
              "33              NaT         179  NaN  ...        1200           yes  no preference\n",
              "51              NaT          99  NaN  ...         600           yes          boobs\n",
              "\n",
              "[2 rows x 8 columns]"
            ]
          },
          "metadata": {
            "tags": []
          },
          "execution_count": 50
        }
      ]
    },
    {
      "cell_type": "code",
      "metadata": {
        "id": "wDd2awgAOSum",
        "colab_type": "code",
        "colab": {}
      },
      "source": [
        ""
      ],
      "execution_count": 50,
      "outputs": []
    },
    {
      "cell_type": "code",
      "metadata": {
        "id": "6CY8AmblLlK_",
        "colab_type": "code",
        "colab": {
          "base_uri": "https://localhost:8080/",
          "height": 106
        },
        "outputId": "b662fc06-65b6-4fb6-a1be-8d6e003776db"
      },
      "source": [
        "dnd_sales_df.loc[:, \"Hair\"] = dnd_sales_df.loc[:, \"Hair\"].replace(to_replace=np.NaN, value=\"no\")\n",
        "dnd_sales_df[cond_nan]"
      ],
      "execution_count": 51,
      "outputs": [
        {
          "output_type": "execute_result",
          "data": {
            "text/html": [
              "<div>\n",
              "<style scoped>\n",
              "    .dataframe tbody tr th:only-of-type {\n",
              "        vertical-align: middle;\n",
              "    }\n",
              "\n",
              "    .dataframe tbody tr th {\n",
              "        vertical-align: top;\n",
              "    }\n",
              "\n",
              "    .dataframe thead th {\n",
              "        text-align: right;\n",
              "    }\n",
              "</style>\n",
              "<table border=\"1\" class=\"dataframe\">\n",
              "  <thead>\n",
              "    <tr style=\"text-align: right;\">\n",
              "      <th></th>\n",
              "      <th>Date_of_PreShoot</th>\n",
              "      <th>Session_Fee</th>\n",
              "      <th>Hair</th>\n",
              "      <th>DOB</th>\n",
              "      <th>zip_code</th>\n",
              "      <th>Sales_total</th>\n",
              "      <th>Model Release</th>\n",
              "      <th>Favorite</th>\n",
              "    </tr>\n",
              "  </thead>\n",
              "  <tbody>\n",
              "    <tr>\n",
              "      <th>33</th>\n",
              "      <td>NaT</td>\n",
              "      <td>179</td>\n",
              "      <td>no</td>\n",
              "      <td>2/8/1983</td>\n",
              "      <td>32211</td>\n",
              "      <td>1200</td>\n",
              "      <td>yes</td>\n",
              "      <td>no preference</td>\n",
              "    </tr>\n",
              "    <tr>\n",
              "      <th>51</th>\n",
              "      <td>NaT</td>\n",
              "      <td>99</td>\n",
              "      <td>no</td>\n",
              "      <td>8/24/1979</td>\n",
              "      <td>32225</td>\n",
              "      <td>600</td>\n",
              "      <td>yes</td>\n",
              "      <td>boobs</td>\n",
              "    </tr>\n",
              "  </tbody>\n",
              "</table>\n",
              "</div>"
            ],
            "text/plain": [
              "   Date_of_PreShoot Session_Fee Hair  ... Sales_total Model Release       Favorite\n",
              "33              NaT         179   no  ...        1200           yes  no preference\n",
              "51              NaT          99   no  ...         600           yes          boobs\n",
              "\n",
              "[2 rows x 8 columns]"
            ]
          },
          "metadata": {
            "tags": []
          },
          "execution_count": 51
        }
      ]
    },
    {
      "cell_type": "code",
      "metadata": {
        "id": "uMjL23W7MU3s",
        "colab_type": "code",
        "colab": {
          "base_uri": "https://localhost:8080/",
          "height": 106
        },
        "outputId": "c487bb7e-9471-43c1-e14a-2bd8eacafcff"
      },
      "source": [
        "dnd_sales_df.loc[33, \"Date_of_PreShoot\"] = pd.to_datetime(\"3/22/2017\")\n",
        "dnd_sales_df.loc[51, \"Date_of_PreShoot\"] = pd.to_datetime(\"1/30/2016\")\n",
        "dnd_sales_df[cond_nan]"
      ],
      "execution_count": 52,
      "outputs": [
        {
          "output_type": "execute_result",
          "data": {
            "text/html": [
              "<div>\n",
              "<style scoped>\n",
              "    .dataframe tbody tr th:only-of-type {\n",
              "        vertical-align: middle;\n",
              "    }\n",
              "\n",
              "    .dataframe tbody tr th {\n",
              "        vertical-align: top;\n",
              "    }\n",
              "\n",
              "    .dataframe thead th {\n",
              "        text-align: right;\n",
              "    }\n",
              "</style>\n",
              "<table border=\"1\" class=\"dataframe\">\n",
              "  <thead>\n",
              "    <tr style=\"text-align: right;\">\n",
              "      <th></th>\n",
              "      <th>Date_of_PreShoot</th>\n",
              "      <th>Session_Fee</th>\n",
              "      <th>Hair</th>\n",
              "      <th>DOB</th>\n",
              "      <th>zip_code</th>\n",
              "      <th>Sales_total</th>\n",
              "      <th>Model Release</th>\n",
              "      <th>Favorite</th>\n",
              "    </tr>\n",
              "  </thead>\n",
              "  <tbody>\n",
              "    <tr>\n",
              "      <th>33</th>\n",
              "      <td>2017-03-22</td>\n",
              "      <td>179</td>\n",
              "      <td>no</td>\n",
              "      <td>2/8/1983</td>\n",
              "      <td>32211</td>\n",
              "      <td>1200</td>\n",
              "      <td>yes</td>\n",
              "      <td>no preference</td>\n",
              "    </tr>\n",
              "    <tr>\n",
              "      <th>51</th>\n",
              "      <td>2016-01-30</td>\n",
              "      <td>99</td>\n",
              "      <td>no</td>\n",
              "      <td>8/24/1979</td>\n",
              "      <td>32225</td>\n",
              "      <td>600</td>\n",
              "      <td>yes</td>\n",
              "      <td>boobs</td>\n",
              "    </tr>\n",
              "  </tbody>\n",
              "</table>\n",
              "</div>"
            ],
            "text/plain": [
              "   Date_of_PreShoot Session_Fee Hair  ... Sales_total Model Release       Favorite\n",
              "33       2017-03-22         179   no  ...        1200           yes  no preference\n",
              "51       2016-01-30          99   no  ...         600           yes          boobs\n",
              "\n",
              "[2 rows x 8 columns]"
            ]
          },
          "metadata": {
            "tags": []
          },
          "execution_count": 52
        }
      ]
    },
    {
      "cell_type": "code",
      "metadata": {
        "id": "ZXDeOYCDJE2V",
        "colab_type": "code",
        "colab": {
          "base_uri": "https://localhost:8080/",
          "height": 47
        },
        "outputId": "ae2fc357-34dc-466a-b1e6-8dc3638409d1"
      },
      "source": [
        "cond_nan = dnd_sales_df[\"DOB\"].isnull() == True\n",
        "dnd_sales_df[cond_nan]"
      ],
      "execution_count": 53,
      "outputs": [
        {
          "output_type": "execute_result",
          "data": {
            "text/html": [
              "<div>\n",
              "<style scoped>\n",
              "    .dataframe tbody tr th:only-of-type {\n",
              "        vertical-align: middle;\n",
              "    }\n",
              "\n",
              "    .dataframe tbody tr th {\n",
              "        vertical-align: top;\n",
              "    }\n",
              "\n",
              "    .dataframe thead th {\n",
              "        text-align: right;\n",
              "    }\n",
              "</style>\n",
              "<table border=\"1\" class=\"dataframe\">\n",
              "  <thead>\n",
              "    <tr style=\"text-align: right;\">\n",
              "      <th></th>\n",
              "      <th>Date_of_PreShoot</th>\n",
              "      <th>Session_Fee</th>\n",
              "      <th>Hair</th>\n",
              "      <th>DOB</th>\n",
              "      <th>zip_code</th>\n",
              "      <th>Sales_total</th>\n",
              "      <th>Model Release</th>\n",
              "      <th>Favorite</th>\n",
              "    </tr>\n",
              "  </thead>\n",
              "  <tbody>\n",
              "  </tbody>\n",
              "</table>\n",
              "</div>"
            ],
            "text/plain": [
              "Empty DataFrame\n",
              "Columns: [Date_of_PreShoot, Session_Fee, Hair, DOB, zip_code, Sales_total, Model Release, Favorite]\n",
              "Index: []"
            ]
          },
          "metadata": {
            "tags": []
          },
          "execution_count": 53
        }
      ]
    },
    {
      "cell_type": "code",
      "metadata": {
        "id": "Phu61VhVzzKy",
        "colab_type": "code",
        "colab": {
          "base_uri": "https://localhost:8080/",
          "height": 47
        },
        "outputId": "bf05cc60-bd69-4a5e-c30d-b943a4048aeb"
      },
      "source": [
        "dnd_sales_df.loc[233, \"DOB\"] = pd.to_datetime(\"4/15/1962\")\n",
        "dnd_sales_df[cond_nan]"
      ],
      "execution_count": 54,
      "outputs": [
        {
          "output_type": "execute_result",
          "data": {
            "text/html": [
              "<div>\n",
              "<style scoped>\n",
              "    .dataframe tbody tr th:only-of-type {\n",
              "        vertical-align: middle;\n",
              "    }\n",
              "\n",
              "    .dataframe tbody tr th {\n",
              "        vertical-align: top;\n",
              "    }\n",
              "\n",
              "    .dataframe thead th {\n",
              "        text-align: right;\n",
              "    }\n",
              "</style>\n",
              "<table border=\"1\" class=\"dataframe\">\n",
              "  <thead>\n",
              "    <tr style=\"text-align: right;\">\n",
              "      <th></th>\n",
              "      <th>Date_of_PreShoot</th>\n",
              "      <th>Session_Fee</th>\n",
              "      <th>Hair</th>\n",
              "      <th>DOB</th>\n",
              "      <th>zip_code</th>\n",
              "      <th>Sales_total</th>\n",
              "      <th>Model Release</th>\n",
              "      <th>Favorite</th>\n",
              "    </tr>\n",
              "  </thead>\n",
              "  <tbody>\n",
              "  </tbody>\n",
              "</table>\n",
              "</div>"
            ],
            "text/plain": [
              "Empty DataFrame\n",
              "Columns: [Date_of_PreShoot, Session_Fee, Hair, DOB, zip_code, Sales_total, Model Release, Favorite]\n",
              "Index: []"
            ]
          },
          "metadata": {
            "tags": []
          },
          "execution_count": 54
        }
      ]
    },
    {
      "cell_type": "code",
      "metadata": {
        "id": "m7mC2hcs0MMV",
        "colab_type": "code",
        "colab": {
          "base_uri": "https://localhost:8080/",
          "height": 34
        },
        "outputId": "1012c7d8-5806-4f7d-a5e6-426068fb9703"
      },
      "source": [
        "dnd_sales_df[\"DOB\"].isnull().sum()"
      ],
      "execution_count": 55,
      "outputs": [
        {
          "output_type": "execute_result",
          "data": {
            "text/plain": [
              "0"
            ]
          },
          "metadata": {
            "tags": []
          },
          "execution_count": 55
        }
      ]
    },
    {
      "cell_type": "code",
      "metadata": {
        "id": "5YHqR4-32cDL",
        "colab_type": "code",
        "colab": {
          "base_uri": "https://localhost:8080/",
          "height": 106
        },
        "outputId": "ff663d2f-796d-496f-f060-d1467ae8fa12"
      },
      "source": [
        "dnd_sales_df.head(2)"
      ],
      "execution_count": 56,
      "outputs": [
        {
          "output_type": "execute_result",
          "data": {
            "text/html": [
              "<div>\n",
              "<style scoped>\n",
              "    .dataframe tbody tr th:only-of-type {\n",
              "        vertical-align: middle;\n",
              "    }\n",
              "\n",
              "    .dataframe tbody tr th {\n",
              "        vertical-align: top;\n",
              "    }\n",
              "\n",
              "    .dataframe thead th {\n",
              "        text-align: right;\n",
              "    }\n",
              "</style>\n",
              "<table border=\"1\" class=\"dataframe\">\n",
              "  <thead>\n",
              "    <tr style=\"text-align: right;\">\n",
              "      <th></th>\n",
              "      <th>Date_of_PreShoot</th>\n",
              "      <th>Session_Fee</th>\n",
              "      <th>Hair</th>\n",
              "      <th>DOB</th>\n",
              "      <th>zip_code</th>\n",
              "      <th>Sales_total</th>\n",
              "      <th>Model Release</th>\n",
              "      <th>Favorite</th>\n",
              "    </tr>\n",
              "  </thead>\n",
              "  <tbody>\n",
              "    <tr>\n",
              "      <th>0</th>\n",
              "      <td>2017-01-05</td>\n",
              "      <td>99</td>\n",
              "      <td>yes</td>\n",
              "      <td>5/5/1976</td>\n",
              "      <td>32208</td>\n",
              "      <td>600</td>\n",
              "      <td>yes</td>\n",
              "      <td>butt</td>\n",
              "    </tr>\n",
              "    <tr>\n",
              "      <th>1</th>\n",
              "      <td>2017-11-02</td>\n",
              "      <td>99</td>\n",
              "      <td>yes</td>\n",
              "      <td>10/16/1984</td>\n",
              "      <td>32082</td>\n",
              "      <td>400</td>\n",
              "      <td>no</td>\n",
              "      <td>butt, eyes</td>\n",
              "    </tr>\n",
              "  </tbody>\n",
              "</table>\n",
              "</div>"
            ],
            "text/plain": [
              "  Date_of_PreShoot Session_Fee Hair  ... Sales_total Model Release    Favorite\n",
              "0       2017-01-05          99  yes  ...         600           yes        butt\n",
              "1       2017-11-02          99  yes  ...         400            no  butt, eyes\n",
              "\n",
              "[2 rows x 8 columns]"
            ]
          },
          "metadata": {
            "tags": []
          },
          "execution_count": 56
        }
      ]
    },
    {
      "cell_type": "code",
      "metadata": {
        "id": "dAn2MQJC2fTi",
        "colab_type": "code",
        "colab": {
          "base_uri": "https://localhost:8080/",
          "height": 218
        },
        "outputId": "914a1200-a350-4281-e2d3-f7e266e8d0cc"
      },
      "source": [
        "# the DOB isn't converted; I believe at this point its clean enough convert\n",
        "dnd_sales_df.loc[:, \"DOB\"] = pd.to_datetime(dnd_sales_df.loc[:, \"DOB\"])\n",
        "dnd_sales_df[\"DOB\"]"
      ],
      "execution_count": 57,
      "outputs": [
        {
          "output_type": "execute_result",
          "data": {
            "text/plain": [
              "0     1976-05-05\n",
              "1     1984-10-16\n",
              "2     1989-07-22\n",
              "3     1971-01-23\n",
              "5     1982-11-03\n",
              "         ...    \n",
              "414   1984-10-24\n",
              "419   1987-03-28\n",
              "421   1989-07-10\n",
              "422   1992-08-05\n",
              "423   1994-06-26\n",
              "Name: DOB, Length: 325, dtype: datetime64[ns]"
            ]
          },
          "metadata": {
            "tags": []
          },
          "execution_count": 57
        }
      ]
    },
    {
      "cell_type": "code",
      "metadata": {
        "id": "S8sZtm99N1G8",
        "colab_type": "code",
        "colab": {
          "base_uri": "https://localhost:8080/",
          "height": 34
        },
        "outputId": "a637ab06-7cf2-4305-d300-c6c16d2e1353"
      },
      "source": [
        "dnd_sales_df.loc[77, \"Date_of_PreShoot\"] = pd.to_datetime(\"11/14/2016\")\n",
        "dnd_sales_df.loc[77, \"Date_of_PreShoot\"]"
      ],
      "execution_count": 58,
      "outputs": [
        {
          "output_type": "execute_result",
          "data": {
            "text/plain": [
              "Timestamp('2016-11-14 00:00:00')"
            ]
          },
          "metadata": {
            "tags": []
          },
          "execution_count": 58
        }
      ]
    },
    {
      "cell_type": "code",
      "metadata": {
        "id": "k5QhO2BwM8iG",
        "colab_type": "code",
        "colab": {}
      },
      "source": [
        ""
      ],
      "execution_count": 58,
      "outputs": []
    },
    {
      "cell_type": "code",
      "metadata": {
        "id": "8qdK0X8L3_cM",
        "colab_type": "code",
        "colab": {}
      },
      "source": [
        "# create a new feature \"Age_at_Shoot_Date\"\n",
        "dnd_sales_df[\"Age_at_Shoot_Date\"] = [int(x.days/365) for x in (dnd_sales_df.iloc[:,0] - dnd_sales_df.iloc[:,3])]\n"
      ],
      "execution_count": 59,
      "outputs": []
    },
    {
      "cell_type": "code",
      "metadata": {
        "id": "B9girNJU5D5O",
        "colab_type": "code",
        "colab": {}
      },
      "source": [
        ""
      ],
      "execution_count": 59,
      "outputs": []
    },
    {
      "cell_type": "code",
      "metadata": {
        "id": "x9NaDZXF4w7Q",
        "colab_type": "code",
        "colab": {
          "base_uri": "https://localhost:8080/",
          "height": 106
        },
        "outputId": "e50c1fd2-7298-4d70-dd59-06470e01bce9"
      },
      "source": [
        "dnd_sales_df.head(2)"
      ],
      "execution_count": 60,
      "outputs": [
        {
          "output_type": "execute_result",
          "data": {
            "text/html": [
              "<div>\n",
              "<style scoped>\n",
              "    .dataframe tbody tr th:only-of-type {\n",
              "        vertical-align: middle;\n",
              "    }\n",
              "\n",
              "    .dataframe tbody tr th {\n",
              "        vertical-align: top;\n",
              "    }\n",
              "\n",
              "    .dataframe thead th {\n",
              "        text-align: right;\n",
              "    }\n",
              "</style>\n",
              "<table border=\"1\" class=\"dataframe\">\n",
              "  <thead>\n",
              "    <tr style=\"text-align: right;\">\n",
              "      <th></th>\n",
              "      <th>Date_of_PreShoot</th>\n",
              "      <th>Session_Fee</th>\n",
              "      <th>Hair</th>\n",
              "      <th>DOB</th>\n",
              "      <th>zip_code</th>\n",
              "      <th>Sales_total</th>\n",
              "      <th>Model Release</th>\n",
              "      <th>Favorite</th>\n",
              "      <th>Age_at_Shoot_Date</th>\n",
              "    </tr>\n",
              "  </thead>\n",
              "  <tbody>\n",
              "    <tr>\n",
              "      <th>0</th>\n",
              "      <td>2017-01-05</td>\n",
              "      <td>99</td>\n",
              "      <td>yes</td>\n",
              "      <td>1976-05-05</td>\n",
              "      <td>32208</td>\n",
              "      <td>600</td>\n",
              "      <td>yes</td>\n",
              "      <td>butt</td>\n",
              "      <td>40</td>\n",
              "    </tr>\n",
              "    <tr>\n",
              "      <th>1</th>\n",
              "      <td>2017-11-02</td>\n",
              "      <td>99</td>\n",
              "      <td>yes</td>\n",
              "      <td>1984-10-16</td>\n",
              "      <td>32082</td>\n",
              "      <td>400</td>\n",
              "      <td>no</td>\n",
              "      <td>butt, eyes</td>\n",
              "      <td>33</td>\n",
              "    </tr>\n",
              "  </tbody>\n",
              "</table>\n",
              "</div>"
            ],
            "text/plain": [
              "  Date_of_PreShoot Session_Fee  ...    Favorite Age_at_Shoot_Date\n",
              "0       2017-01-05          99  ...        butt                40\n",
              "1       2017-11-02          99  ...  butt, eyes                33\n",
              "\n",
              "[2 rows x 9 columns]"
            ]
          },
          "metadata": {
            "tags": []
          },
          "execution_count": 60
        }
      ]
    },
    {
      "cell_type": "code",
      "metadata": {
        "id": "raYhcSmO44pw",
        "colab_type": "code",
        "colab": {
          "base_uri": "https://localhost:8080/",
          "height": 50
        },
        "outputId": "a2c258f9-6ba1-403c-c9ee-01ae45ec2fc7"
      },
      "source": [
        "dnd_sales_df[\"Age_at_Shoot_Date\"].mode()"
      ],
      "execution_count": 61,
      "outputs": [
        {
          "output_type": "execute_result",
          "data": {
            "text/plain": [
              "0    25\n",
              "dtype: int64"
            ]
          },
          "metadata": {
            "tags": []
          },
          "execution_count": 61
        }
      ]
    },
    {
      "cell_type": "code",
      "metadata": {
        "id": "15SZqpSi6-l9",
        "colab_type": "code",
        "colab": {
          "base_uri": "https://localhost:8080/",
          "height": 806
        },
        "outputId": "a26aa7de-1aa4-46cc-f3ba-964b72d57470"
      },
      "source": [
        "dnd_sales_df[\"Age_at_Shoot_Date\"].value_counts()"
      ],
      "execution_count": 62,
      "outputs": [
        {
          "output_type": "execute_result",
          "data": {
            "text/plain": [
              "25    21\n",
              "26    18\n",
              "33    17\n",
              "35    17\n",
              "27    15\n",
              "28    14\n",
              "23    14\n",
              "32    13\n",
              "38    13\n",
              "34    12\n",
              "31    12\n",
              "30    10\n",
              "36    10\n",
              "29    10\n",
              "24     9\n",
              "39     9\n",
              "41     8\n",
              "40     8\n",
              "22     7\n",
              "50     6\n",
              "21     6\n",
              "44     6\n",
              "37     6\n",
              "20     5\n",
              "42     5\n",
              "43     5\n",
              "46     5\n",
              "48     5\n",
              "52     4\n",
              "45     4\n",
              "56     4\n",
              "54     4\n",
              "58     3\n",
              "51     3\n",
              "19     2\n",
              "49     2\n",
              "53     2\n",
              "59     2\n",
              "65     2\n",
              "66     1\n",
              "47     1\n",
              "57     1\n",
              "60     1\n",
              "61     1\n",
              "63     1\n",
              "72     1\n",
              "Name: Age_at_Shoot_Date, dtype: int64"
            ]
          },
          "metadata": {
            "tags": []
          },
          "execution_count": 62
        }
      ]
    },
    {
      "cell_type": "code",
      "metadata": {
        "id": "1ckSOXss6M1k",
        "colab_type": "code",
        "colab": {
          "base_uri": "https://localhost:8080/",
          "height": 168
        },
        "outputId": "6e457c96-b6d0-4c1a-c254-192165146892"
      },
      "source": [
        "dnd_sales_df[\"Age_at_Shoot_Date\"].describe()"
      ],
      "execution_count": 63,
      "outputs": [
        {
          "output_type": "execute_result",
          "data": {
            "text/plain": [
              "count    325.000000\n",
              "mean      34.630769\n",
              "std       10.251120\n",
              "min       19.000000\n",
              "25%       26.000000\n",
              "50%       33.000000\n",
              "75%       40.000000\n",
              "max       72.000000\n",
              "Name: Age_at_Shoot_Date, dtype: float64"
            ]
          },
          "metadata": {
            "tags": []
          },
          "execution_count": 63
        }
      ]
    },
    {
      "cell_type": "code",
      "metadata": {
        "id": "FSz024kKbhzH",
        "colab_type": "code",
        "colab": {}
      },
      "source": [
        ""
      ],
      "execution_count": 63,
      "outputs": []
    },
    {
      "cell_type": "code",
      "metadata": {
        "id": "US5uuAUQ7HRc",
        "colab_type": "code",
        "colab": {}
      },
      "source": [
        "# bin the age into categories\n",
        "cut_labels_10 = [\"18-25\", \"26-30\", \"31-35\", \"36-40\", \"41-45\", \"46-50\", \"51-55\",\n",
        "                \"56-60\", \"61-65\", \"66-72\"]\n",
        "cut_bins = [0, 25, 30, 35, 40, 45, 50, 55, 60, 65, 72]\n",
        "\n",
        "dnd_sales_df[\"Age_Range\"] = pd.cut(dnd_sales_df[\"Age_at_Shoot_Date\"], bins=cut_bins,\n",
        "                                   labels=cut_labels_10)"
      ],
      "execution_count": 64,
      "outputs": []
    },
    {
      "cell_type": "code",
      "metadata": {
        "id": "OAmpve1N4IYz",
        "colab_type": "code",
        "colab": {
          "base_uri": "https://localhost:8080/",
          "height": 106
        },
        "outputId": "409e0c98-b64f-4d9e-875e-1564e8c073e7"
      },
      "source": [
        "dnd_sales_df.head(2)"
      ],
      "execution_count": 65,
      "outputs": [
        {
          "output_type": "execute_result",
          "data": {
            "text/html": [
              "<div>\n",
              "<style scoped>\n",
              "    .dataframe tbody tr th:only-of-type {\n",
              "        vertical-align: middle;\n",
              "    }\n",
              "\n",
              "    .dataframe tbody tr th {\n",
              "        vertical-align: top;\n",
              "    }\n",
              "\n",
              "    .dataframe thead th {\n",
              "        text-align: right;\n",
              "    }\n",
              "</style>\n",
              "<table border=\"1\" class=\"dataframe\">\n",
              "  <thead>\n",
              "    <tr style=\"text-align: right;\">\n",
              "      <th></th>\n",
              "      <th>Date_of_PreShoot</th>\n",
              "      <th>Session_Fee</th>\n",
              "      <th>Hair</th>\n",
              "      <th>DOB</th>\n",
              "      <th>zip_code</th>\n",
              "      <th>Sales_total</th>\n",
              "      <th>Model Release</th>\n",
              "      <th>Favorite</th>\n",
              "      <th>Age_at_Shoot_Date</th>\n",
              "      <th>Age_Range</th>\n",
              "    </tr>\n",
              "  </thead>\n",
              "  <tbody>\n",
              "    <tr>\n",
              "      <th>0</th>\n",
              "      <td>2017-01-05</td>\n",
              "      <td>99</td>\n",
              "      <td>yes</td>\n",
              "      <td>1976-05-05</td>\n",
              "      <td>32208</td>\n",
              "      <td>600</td>\n",
              "      <td>yes</td>\n",
              "      <td>butt</td>\n",
              "      <td>40</td>\n",
              "      <td>36-40</td>\n",
              "    </tr>\n",
              "    <tr>\n",
              "      <th>1</th>\n",
              "      <td>2017-11-02</td>\n",
              "      <td>99</td>\n",
              "      <td>yes</td>\n",
              "      <td>1984-10-16</td>\n",
              "      <td>32082</td>\n",
              "      <td>400</td>\n",
              "      <td>no</td>\n",
              "      <td>butt, eyes</td>\n",
              "      <td>33</td>\n",
              "      <td>31-35</td>\n",
              "    </tr>\n",
              "  </tbody>\n",
              "</table>\n",
              "</div>"
            ],
            "text/plain": [
              "  Date_of_PreShoot Session_Fee Hair  ...    Favorite Age_at_Shoot_Date  Age_Range\n",
              "0       2017-01-05          99  yes  ...        butt                40      36-40\n",
              "1       2017-11-02          99  yes  ...  butt, eyes                33      31-35\n",
              "\n",
              "[2 rows x 10 columns]"
            ]
          },
          "metadata": {
            "tags": []
          },
          "execution_count": 65
        }
      ]
    },
    {
      "cell_type": "code",
      "metadata": {
        "id": "sJvCqJmH0mu5",
        "colab_type": "code",
        "colab": {
          "base_uri": "https://localhost:8080/",
          "height": 202
        },
        "outputId": "01a96ebe-2333-4c22-d0c0-7983668c7872"
      },
      "source": [
        "# just to get a look at the new Age Range feature\n",
        "dnd_sales_df[\"Age_Range\"].value_counts().sort_index()"
      ],
      "execution_count": 66,
      "outputs": [
        {
          "output_type": "execute_result",
          "data": {
            "text/plain": [
              "18-25    64\n",
              "26-30    67\n",
              "31-35    71\n",
              "36-40    46\n",
              "41-45    28\n",
              "46-50    19\n",
              "51-55    13\n",
              "56-60    11\n",
              "61-65     4\n",
              "66-72     2\n",
              "Name: Age_Range, dtype: int64"
            ]
          },
          "metadata": {
            "tags": []
          },
          "execution_count": 66
        }
      ]
    },
    {
      "cell_type": "code",
      "metadata": {
        "id": "eHWVp2lqdh6I",
        "colab_type": "code",
        "colab": {}
      },
      "source": [
        ""
      ],
      "execution_count": 66,
      "outputs": []
    },
    {
      "cell_type": "code",
      "metadata": {
        "id": "6_06SfrSdIc8",
        "colab_type": "code",
        "colab": {}
      },
      "source": [
        ""
      ],
      "execution_count": 66,
      "outputs": []
    },
    {
      "cell_type": "code",
      "metadata": {
        "id": "peVHlFz8A_j9",
        "colab_type": "code",
        "colab": {
          "base_uri": "https://localhost:8080/",
          "height": 284
        },
        "outputId": "a89a4655-4fa2-43d2-c163-11bd2716104b"
      },
      "source": [
        "# change Session_Fee\n",
        "dnd_sales_df[\"Session_Fee\"]= dnd_sales_df[\"Session_Fee\"].astype(str).astype(int)\n",
        "dnd_sales_df.describe()"
      ],
      "execution_count": 67,
      "outputs": [
        {
          "output_type": "execute_result",
          "data": {
            "text/html": [
              "<div>\n",
              "<style scoped>\n",
              "    .dataframe tbody tr th:only-of-type {\n",
              "        vertical-align: middle;\n",
              "    }\n",
              "\n",
              "    .dataframe tbody tr th {\n",
              "        vertical-align: top;\n",
              "    }\n",
              "\n",
              "    .dataframe thead th {\n",
              "        text-align: right;\n",
              "    }\n",
              "</style>\n",
              "<table border=\"1\" class=\"dataframe\">\n",
              "  <thead>\n",
              "    <tr style=\"text-align: right;\">\n",
              "      <th></th>\n",
              "      <th>Session_Fee</th>\n",
              "      <th>Sales_total</th>\n",
              "      <th>Age_at_Shoot_Date</th>\n",
              "    </tr>\n",
              "  </thead>\n",
              "  <tbody>\n",
              "    <tr>\n",
              "      <th>count</th>\n",
              "      <td>325.000000</td>\n",
              "      <td>325.000000</td>\n",
              "      <td>325.000000</td>\n",
              "    </tr>\n",
              "    <tr>\n",
              "      <th>mean</th>\n",
              "      <td>96.661538</td>\n",
              "      <td>738.095385</td>\n",
              "      <td>34.630769</td>\n",
              "    </tr>\n",
              "    <tr>\n",
              "      <th>std</th>\n",
              "      <td>43.553670</td>\n",
              "      <td>475.472871</td>\n",
              "      <td>10.251120</td>\n",
              "    </tr>\n",
              "    <tr>\n",
              "      <th>min</th>\n",
              "      <td>0.000000</td>\n",
              "      <td>0.000000</td>\n",
              "      <td>19.000000</td>\n",
              "    </tr>\n",
              "    <tr>\n",
              "      <th>25%</th>\n",
              "      <td>99.000000</td>\n",
              "      <td>580.000000</td>\n",
              "      <td>26.000000</td>\n",
              "    </tr>\n",
              "    <tr>\n",
              "      <th>50%</th>\n",
              "      <td>99.000000</td>\n",
              "      <td>600.000000</td>\n",
              "      <td>33.000000</td>\n",
              "    </tr>\n",
              "    <tr>\n",
              "      <th>75%</th>\n",
              "      <td>99.000000</td>\n",
              "      <td>950.000000</td>\n",
              "      <td>40.000000</td>\n",
              "    </tr>\n",
              "    <tr>\n",
              "      <th>max</th>\n",
              "      <td>249.000000</td>\n",
              "      <td>3000.000000</td>\n",
              "      <td>72.000000</td>\n",
              "    </tr>\n",
              "  </tbody>\n",
              "</table>\n",
              "</div>"
            ],
            "text/plain": [
              "       Session_Fee  Sales_total  Age_at_Shoot_Date\n",
              "count   325.000000   325.000000         325.000000\n",
              "mean     96.661538   738.095385          34.630769\n",
              "std      43.553670   475.472871          10.251120\n",
              "min       0.000000     0.000000          19.000000\n",
              "25%      99.000000   580.000000          26.000000\n",
              "50%      99.000000   600.000000          33.000000\n",
              "75%      99.000000   950.000000          40.000000\n",
              "max     249.000000  3000.000000          72.000000"
            ]
          },
          "metadata": {
            "tags": []
          },
          "execution_count": 67
        }
      ]
    },
    {
      "cell_type": "code",
      "metadata": {
        "id": "WSJi8UqhEUmy",
        "colab_type": "code",
        "colab": {
          "base_uri": "https://localhost:8080/",
          "height": 34
        },
        "outputId": "1f7b1d09-fd6d-476f-fedc-aed4bc15bad8"
      },
      "source": [
        "dnd_sales_df[\"Session_Fee\"].nunique()"
      ],
      "execution_count": 68,
      "outputs": [
        {
          "output_type": "execute_result",
          "data": {
            "text/plain": [
              "7"
            ]
          },
          "metadata": {
            "tags": []
          },
          "execution_count": 68
        }
      ]
    },
    {
      "cell_type": "code",
      "metadata": {
        "id": "qZL2CGf9Aeii",
        "colab_type": "code",
        "colab": {
          "base_uri": "https://localhost:8080/",
          "height": 151
        },
        "outputId": "b79d116c-098f-4f8c-dc1a-3ac820709dd8"
      },
      "source": [
        "dnd_sales_df[\"Session_Fee\"].value_counts()"
      ],
      "execution_count": 69,
      "outputs": [
        {
          "output_type": "execute_result",
          "data": {
            "text/plain": [
              "99     231\n",
              "25      51\n",
              "179     34\n",
              "249      4\n",
              "0        3\n",
              "100      1\n",
              "89       1\n",
              "Name: Session_Fee, dtype: int64"
            ]
          },
          "metadata": {
            "tags": []
          },
          "execution_count": 69
        }
      ]
    },
    {
      "cell_type": "code",
      "metadata": {
        "id": "Aa6acLjcMx52",
        "colab_type": "code",
        "colab": {}
      },
      "source": [
        ""
      ],
      "execution_count": 69,
      "outputs": []
    },
    {
      "cell_type": "code",
      "metadata": {
        "id": "F14_V_4dPACq",
        "colab_type": "code",
        "colab": {
          "base_uri": "https://localhost:8080/",
          "height": 34
        },
        "outputId": "0128a5c3-b7be-4ba7-8074-e24bbaca55e4"
      },
      "source": [
        "# check the preshoot column\n",
        "dnd_sales_df[\"Date_of_PreShoot\"].nunique()"
      ],
      "execution_count": 70,
      "outputs": [
        {
          "output_type": "execute_result",
          "data": {
            "text/plain": [
              "266"
            ]
          },
          "metadata": {
            "tags": []
          },
          "execution_count": 70
        }
      ]
    },
    {
      "cell_type": "code",
      "metadata": {
        "id": "ffjmuL_pPuvt",
        "colab_type": "code",
        "colab": {
          "base_uri": "https://localhost:8080/",
          "height": 34
        },
        "outputId": "66f8f52f-1d2a-4930-8f43-c894b6c90bc4"
      },
      "source": [
        "dnd_sales_df[\"Date_of_PreShoot\"].isnull().sum()"
      ],
      "execution_count": 71,
      "outputs": [
        {
          "output_type": "execute_result",
          "data": {
            "text/plain": [
              "0"
            ]
          },
          "metadata": {
            "tags": []
          },
          "execution_count": 71
        }
      ]
    },
    {
      "cell_type": "code",
      "metadata": {
        "id": "iPLbfwH5RM5_",
        "colab_type": "code",
        "colab": {
          "base_uri": "https://localhost:8080/",
          "height": 302
        },
        "outputId": "2f23d3a6-0e85-4d59-e1b1-fc707ae7be21"
      },
      "source": [
        "dnd_sales_df.info()"
      ],
      "execution_count": 72,
      "outputs": [
        {
          "output_type": "stream",
          "text": [
            "<class 'pandas.core.frame.DataFrame'>\n",
            "Int64Index: 325 entries, 0 to 423\n",
            "Data columns (total 10 columns):\n",
            " #   Column             Non-Null Count  Dtype         \n",
            "---  ------             --------------  -----         \n",
            " 0   Date_of_PreShoot   325 non-null    datetime64[ns]\n",
            " 1   Session_Fee        325 non-null    int64         \n",
            " 2   Hair               325 non-null    object        \n",
            " 3   DOB                325 non-null    datetime64[ns]\n",
            " 4   zip_code           325 non-null    object        \n",
            " 5   Sales_total        325 non-null    int64         \n",
            " 6   Model Release      317 non-null    object        \n",
            " 7   Favorite           325 non-null    object        \n",
            " 8   Age_at_Shoot_Date  325 non-null    int64         \n",
            " 9   Age_Range          325 non-null    category      \n",
            "dtypes: category(1), datetime64[ns](2), int64(3), object(4)\n",
            "memory usage: 36.1+ KB\n"
          ],
          "name": "stdout"
        }
      ]
    },
    {
      "cell_type": "code",
      "metadata": {
        "id": "aSg8CHtCRics",
        "colab_type": "code",
        "colab": {
          "base_uri": "https://localhost:8080/",
          "height": 195
        },
        "outputId": "670789d9-29d9-4b31-b0cc-dcf4d621f41a"
      },
      "source": [
        "dnd_sales_df.head()"
      ],
      "execution_count": 73,
      "outputs": [
        {
          "output_type": "execute_result",
          "data": {
            "text/html": [
              "<div>\n",
              "<style scoped>\n",
              "    .dataframe tbody tr th:only-of-type {\n",
              "        vertical-align: middle;\n",
              "    }\n",
              "\n",
              "    .dataframe tbody tr th {\n",
              "        vertical-align: top;\n",
              "    }\n",
              "\n",
              "    .dataframe thead th {\n",
              "        text-align: right;\n",
              "    }\n",
              "</style>\n",
              "<table border=\"1\" class=\"dataframe\">\n",
              "  <thead>\n",
              "    <tr style=\"text-align: right;\">\n",
              "      <th></th>\n",
              "      <th>Date_of_PreShoot</th>\n",
              "      <th>Session_Fee</th>\n",
              "      <th>Hair</th>\n",
              "      <th>DOB</th>\n",
              "      <th>zip_code</th>\n",
              "      <th>Sales_total</th>\n",
              "      <th>Model Release</th>\n",
              "      <th>Favorite</th>\n",
              "      <th>Age_at_Shoot_Date</th>\n",
              "      <th>Age_Range</th>\n",
              "    </tr>\n",
              "  </thead>\n",
              "  <tbody>\n",
              "    <tr>\n",
              "      <th>0</th>\n",
              "      <td>2017-01-05</td>\n",
              "      <td>99</td>\n",
              "      <td>yes</td>\n",
              "      <td>1976-05-05</td>\n",
              "      <td>32208</td>\n",
              "      <td>600</td>\n",
              "      <td>yes</td>\n",
              "      <td>butt</td>\n",
              "      <td>40</td>\n",
              "      <td>36-40</td>\n",
              "    </tr>\n",
              "    <tr>\n",
              "      <th>1</th>\n",
              "      <td>2017-11-02</td>\n",
              "      <td>99</td>\n",
              "      <td>yes</td>\n",
              "      <td>1984-10-16</td>\n",
              "      <td>32082</td>\n",
              "      <td>400</td>\n",
              "      <td>no</td>\n",
              "      <td>butt, eyes</td>\n",
              "      <td>33</td>\n",
              "      <td>31-35</td>\n",
              "    </tr>\n",
              "    <tr>\n",
              "      <th>2</th>\n",
              "      <td>2017-06-29</td>\n",
              "      <td>99</td>\n",
              "      <td>yes</td>\n",
              "      <td>1989-07-22</td>\n",
              "      <td>32080</td>\n",
              "      <td>320</td>\n",
              "      <td>no</td>\n",
              "      <td>eyes, hair, legs</td>\n",
              "      <td>27</td>\n",
              "      <td>26-30</td>\n",
              "    </tr>\n",
              "    <tr>\n",
              "      <th>3</th>\n",
              "      <td>2017-01-23</td>\n",
              "      <td>99</td>\n",
              "      <td>no</td>\n",
              "      <td>1971-01-23</td>\n",
              "      <td>32208</td>\n",
              "      <td>720</td>\n",
              "      <td>yes</td>\n",
              "      <td>boobs</td>\n",
              "      <td>46</td>\n",
              "      <td>46-50</td>\n",
              "    </tr>\n",
              "    <tr>\n",
              "      <th>5</th>\n",
              "      <td>2014-09-14</td>\n",
              "      <td>99</td>\n",
              "      <td>yes</td>\n",
              "      <td>1982-11-03</td>\n",
              "      <td>32257</td>\n",
              "      <td>1320</td>\n",
              "      <td>no</td>\n",
              "      <td>butt</td>\n",
              "      <td>31</td>\n",
              "      <td>31-35</td>\n",
              "    </tr>\n",
              "  </tbody>\n",
              "</table>\n",
              "</div>"
            ],
            "text/plain": [
              "  Date_of_PreShoot  Session_Fee  ... Age_at_Shoot_Date Age_Range\n",
              "0       2017-01-05           99  ...                40     36-40\n",
              "1       2017-11-02           99  ...                33     31-35\n",
              "2       2017-06-29           99  ...                27     26-30\n",
              "3       2017-01-23           99  ...                46     46-50\n",
              "5       2014-09-14           99  ...                31     31-35\n",
              "\n",
              "[5 rows x 10 columns]"
            ]
          },
          "metadata": {
            "tags": []
          },
          "execution_count": 73
        }
      ]
    },
    {
      "cell_type": "code",
      "metadata": {
        "id": "vEAI4y4ye-Ea",
        "colab_type": "code",
        "colab": {
          "base_uri": "https://localhost:8080/",
          "height": 195
        },
        "outputId": "c8a33aed-da0a-4faf-aeff-51e5dc7170bb"
      },
      "source": [
        "# drop Model Release Feature\n",
        "dnd_sales_df = dnd_sales_df.drop(labels=\"Model Release\",axis=1)\n",
        "dnd_sales_df.head()"
      ],
      "execution_count": 74,
      "outputs": [
        {
          "output_type": "execute_result",
          "data": {
            "text/html": [
              "<div>\n",
              "<style scoped>\n",
              "    .dataframe tbody tr th:only-of-type {\n",
              "        vertical-align: middle;\n",
              "    }\n",
              "\n",
              "    .dataframe tbody tr th {\n",
              "        vertical-align: top;\n",
              "    }\n",
              "\n",
              "    .dataframe thead th {\n",
              "        text-align: right;\n",
              "    }\n",
              "</style>\n",
              "<table border=\"1\" class=\"dataframe\">\n",
              "  <thead>\n",
              "    <tr style=\"text-align: right;\">\n",
              "      <th></th>\n",
              "      <th>Date_of_PreShoot</th>\n",
              "      <th>Session_Fee</th>\n",
              "      <th>Hair</th>\n",
              "      <th>DOB</th>\n",
              "      <th>zip_code</th>\n",
              "      <th>Sales_total</th>\n",
              "      <th>Favorite</th>\n",
              "      <th>Age_at_Shoot_Date</th>\n",
              "      <th>Age_Range</th>\n",
              "    </tr>\n",
              "  </thead>\n",
              "  <tbody>\n",
              "    <tr>\n",
              "      <th>0</th>\n",
              "      <td>2017-01-05</td>\n",
              "      <td>99</td>\n",
              "      <td>yes</td>\n",
              "      <td>1976-05-05</td>\n",
              "      <td>32208</td>\n",
              "      <td>600</td>\n",
              "      <td>butt</td>\n",
              "      <td>40</td>\n",
              "      <td>36-40</td>\n",
              "    </tr>\n",
              "    <tr>\n",
              "      <th>1</th>\n",
              "      <td>2017-11-02</td>\n",
              "      <td>99</td>\n",
              "      <td>yes</td>\n",
              "      <td>1984-10-16</td>\n",
              "      <td>32082</td>\n",
              "      <td>400</td>\n",
              "      <td>butt, eyes</td>\n",
              "      <td>33</td>\n",
              "      <td>31-35</td>\n",
              "    </tr>\n",
              "    <tr>\n",
              "      <th>2</th>\n",
              "      <td>2017-06-29</td>\n",
              "      <td>99</td>\n",
              "      <td>yes</td>\n",
              "      <td>1989-07-22</td>\n",
              "      <td>32080</td>\n",
              "      <td>320</td>\n",
              "      <td>eyes, hair, legs</td>\n",
              "      <td>27</td>\n",
              "      <td>26-30</td>\n",
              "    </tr>\n",
              "    <tr>\n",
              "      <th>3</th>\n",
              "      <td>2017-01-23</td>\n",
              "      <td>99</td>\n",
              "      <td>no</td>\n",
              "      <td>1971-01-23</td>\n",
              "      <td>32208</td>\n",
              "      <td>720</td>\n",
              "      <td>boobs</td>\n",
              "      <td>46</td>\n",
              "      <td>46-50</td>\n",
              "    </tr>\n",
              "    <tr>\n",
              "      <th>5</th>\n",
              "      <td>2014-09-14</td>\n",
              "      <td>99</td>\n",
              "      <td>yes</td>\n",
              "      <td>1982-11-03</td>\n",
              "      <td>32257</td>\n",
              "      <td>1320</td>\n",
              "      <td>butt</td>\n",
              "      <td>31</td>\n",
              "      <td>31-35</td>\n",
              "    </tr>\n",
              "  </tbody>\n",
              "</table>\n",
              "</div>"
            ],
            "text/plain": [
              "  Date_of_PreShoot  Session_Fee  ... Age_at_Shoot_Date Age_Range\n",
              "0       2017-01-05           99  ...                40     36-40\n",
              "1       2017-11-02           99  ...                33     31-35\n",
              "2       2017-06-29           99  ...                27     26-30\n",
              "3       2017-01-23           99  ...                46     46-50\n",
              "5       2014-09-14           99  ...                31     31-35\n",
              "\n",
              "[5 rows x 9 columns]"
            ]
          },
          "metadata": {
            "tags": []
          },
          "execution_count": 74
        }
      ]
    },
    {
      "cell_type": "code",
      "metadata": {
        "id": "lwKJcb9hR-uZ",
        "colab_type": "code",
        "colab": {
          "base_uri": "https://localhost:8080/",
          "height": 218
        },
        "outputId": "b98c5094-75e3-41c2-de8e-cffba1ff49e5"
      },
      "source": [
        "dnd_sales_df[\"zip_code\"].value_counts()"
      ],
      "execution_count": 75,
      "outputs": [
        {
          "output_type": "execute_result",
          "data": {
            "text/plain": [
              "32218    19\n",
              "32258    15\n",
              "32256    15\n",
              "32246    15\n",
              "32216    14\n",
              "         ..\n",
              "32046     1\n",
              "31525     1\n",
              "31520     1\n",
              "30354     1\n",
              "32656     1\n",
              "Name: zip_code, Length: 76, dtype: int64"
            ]
          },
          "metadata": {
            "tags": []
          },
          "execution_count": 75
        }
      ]
    },
    {
      "cell_type": "code",
      "metadata": {
        "id": "rtd6_tJNSPM2",
        "colab_type": "code",
        "colab": {
          "base_uri": "https://localhost:8080/",
          "height": 34
        },
        "outputId": "adb61045-ac8e-47c3-ca4a-3782f31815a5"
      },
      "source": [
        "dnd_sales_df[\"zip_code\"].isnull().sum()"
      ],
      "execution_count": 76,
      "outputs": [
        {
          "output_type": "execute_result",
          "data": {
            "text/plain": [
              "0"
            ]
          },
          "metadata": {
            "tags": []
          },
          "execution_count": 76
        }
      ]
    },
    {
      "cell_type": "code",
      "metadata": {
        "id": "XHwYW153Ms2m",
        "colab_type": "code",
        "colab": {}
      },
      "source": [
        ""
      ],
      "execution_count": 76,
      "outputs": []
    },
    {
      "cell_type": "code",
      "metadata": {
        "id": "C7Osf18dqULv",
        "colab_type": "code",
        "colab": {}
      },
      "source": [
        "# num_cols = [dnd_sales_df.columns[0], dnd_sales_df.columns[1], dnd_sales_df.columns[5]]"
      ],
      "execution_count": 77,
      "outputs": []
    },
    {
      "cell_type": "code",
      "metadata": {
        "id": "HgwWVpFiqyLR",
        "colab_type": "code",
        "colab": {}
      },
      "source": [
        "# try to convert columns to \"category\" data type\n",
        "# dnd_sales_df[num_cols] = dnd_sales_df[num_cols].astype(\"category\")"
      ],
      "execution_count": 78,
      "outputs": []
    },
    {
      "cell_type": "code",
      "metadata": {
        "id": "ONuCv9oOsGMH",
        "colab_type": "code",
        "colab": {
          "base_uri": "https://localhost:8080/",
          "height": 185
        },
        "outputId": "ded05b76-e890-481b-aff9-63d494a0097b"
      },
      "source": [
        "dnd_sales_df.dtypes"
      ],
      "execution_count": 79,
      "outputs": [
        {
          "output_type": "execute_result",
          "data": {
            "text/plain": [
              "Date_of_PreShoot     datetime64[ns]\n",
              "Session_Fee                   int64\n",
              "Hair                         object\n",
              "DOB                  datetime64[ns]\n",
              "zip_code                     object\n",
              "Sales_total                   int64\n",
              "Favorite                     object\n",
              "Age_at_Shoot_Date             int64\n",
              "Age_Range                  category\n",
              "dtype: object"
            ]
          },
          "metadata": {
            "tags": []
          },
          "execution_count": 79
        }
      ]
    },
    {
      "cell_type": "code",
      "metadata": {
        "id": "OWyKNKjmsMUk",
        "colab_type": "code",
        "colab": {}
      },
      "source": [
        "# for col in num_cols:\n",
        "#   dnd_sales_df[col] = dnd_sales_df[col].cat.codes\n",
        "\n",
        "# print(dnd_sales_df.shape)\n",
        "# dnd_sales_df.head"
      ],
      "execution_count": 80,
      "outputs": []
    },
    {
      "cell_type": "code",
      "metadata": {
        "id": "bQ5nFWQ3swK_",
        "colab_type": "code",
        "colab": {
          "base_uri": "https://localhost:8080/",
          "height": 284
        },
        "outputId": "f29ec49a-948f-4827-c8ba-157474b4cb80"
      },
      "source": [
        "dnd_sales_df.describe()"
      ],
      "execution_count": 81,
      "outputs": [
        {
          "output_type": "execute_result",
          "data": {
            "text/html": [
              "<div>\n",
              "<style scoped>\n",
              "    .dataframe tbody tr th:only-of-type {\n",
              "        vertical-align: middle;\n",
              "    }\n",
              "\n",
              "    .dataframe tbody tr th {\n",
              "        vertical-align: top;\n",
              "    }\n",
              "\n",
              "    .dataframe thead th {\n",
              "        text-align: right;\n",
              "    }\n",
              "</style>\n",
              "<table border=\"1\" class=\"dataframe\">\n",
              "  <thead>\n",
              "    <tr style=\"text-align: right;\">\n",
              "      <th></th>\n",
              "      <th>Session_Fee</th>\n",
              "      <th>Sales_total</th>\n",
              "      <th>Age_at_Shoot_Date</th>\n",
              "    </tr>\n",
              "  </thead>\n",
              "  <tbody>\n",
              "    <tr>\n",
              "      <th>count</th>\n",
              "      <td>325.000000</td>\n",
              "      <td>325.000000</td>\n",
              "      <td>325.000000</td>\n",
              "    </tr>\n",
              "    <tr>\n",
              "      <th>mean</th>\n",
              "      <td>96.661538</td>\n",
              "      <td>738.095385</td>\n",
              "      <td>34.630769</td>\n",
              "    </tr>\n",
              "    <tr>\n",
              "      <th>std</th>\n",
              "      <td>43.553670</td>\n",
              "      <td>475.472871</td>\n",
              "      <td>10.251120</td>\n",
              "    </tr>\n",
              "    <tr>\n",
              "      <th>min</th>\n",
              "      <td>0.000000</td>\n",
              "      <td>0.000000</td>\n",
              "      <td>19.000000</td>\n",
              "    </tr>\n",
              "    <tr>\n",
              "      <th>25%</th>\n",
              "      <td>99.000000</td>\n",
              "      <td>580.000000</td>\n",
              "      <td>26.000000</td>\n",
              "    </tr>\n",
              "    <tr>\n",
              "      <th>50%</th>\n",
              "      <td>99.000000</td>\n",
              "      <td>600.000000</td>\n",
              "      <td>33.000000</td>\n",
              "    </tr>\n",
              "    <tr>\n",
              "      <th>75%</th>\n",
              "      <td>99.000000</td>\n",
              "      <td>950.000000</td>\n",
              "      <td>40.000000</td>\n",
              "    </tr>\n",
              "    <tr>\n",
              "      <th>max</th>\n",
              "      <td>249.000000</td>\n",
              "      <td>3000.000000</td>\n",
              "      <td>72.000000</td>\n",
              "    </tr>\n",
              "  </tbody>\n",
              "</table>\n",
              "</div>"
            ],
            "text/plain": [
              "       Session_Fee  Sales_total  Age_at_Shoot_Date\n",
              "count   325.000000   325.000000         325.000000\n",
              "mean     96.661538   738.095385          34.630769\n",
              "std      43.553670   475.472871          10.251120\n",
              "min       0.000000     0.000000          19.000000\n",
              "25%      99.000000   580.000000          26.000000\n",
              "50%      99.000000   600.000000          33.000000\n",
              "75%      99.000000   950.000000          40.000000\n",
              "max     249.000000  3000.000000          72.000000"
            ]
          },
          "metadata": {
            "tags": []
          },
          "execution_count": 81
        }
      ]
    },
    {
      "cell_type": "code",
      "metadata": {
        "id": "z5EgjfM1s5bW",
        "colab_type": "code",
        "colab": {
          "base_uri": "https://localhost:8080/",
          "height": 343
        },
        "outputId": "d783a25d-4654-4d36-990a-13ca6f8674b9"
      },
      "source": [
        "dnd_sales_df.head(10)"
      ],
      "execution_count": 82,
      "outputs": [
        {
          "output_type": "execute_result",
          "data": {
            "text/html": [
              "<div>\n",
              "<style scoped>\n",
              "    .dataframe tbody tr th:only-of-type {\n",
              "        vertical-align: middle;\n",
              "    }\n",
              "\n",
              "    .dataframe tbody tr th {\n",
              "        vertical-align: top;\n",
              "    }\n",
              "\n",
              "    .dataframe thead th {\n",
              "        text-align: right;\n",
              "    }\n",
              "</style>\n",
              "<table border=\"1\" class=\"dataframe\">\n",
              "  <thead>\n",
              "    <tr style=\"text-align: right;\">\n",
              "      <th></th>\n",
              "      <th>Date_of_PreShoot</th>\n",
              "      <th>Session_Fee</th>\n",
              "      <th>Hair</th>\n",
              "      <th>DOB</th>\n",
              "      <th>zip_code</th>\n",
              "      <th>Sales_total</th>\n",
              "      <th>Favorite</th>\n",
              "      <th>Age_at_Shoot_Date</th>\n",
              "      <th>Age_Range</th>\n",
              "    </tr>\n",
              "  </thead>\n",
              "  <tbody>\n",
              "    <tr>\n",
              "      <th>0</th>\n",
              "      <td>2017-01-05</td>\n",
              "      <td>99</td>\n",
              "      <td>yes</td>\n",
              "      <td>1976-05-05</td>\n",
              "      <td>32208</td>\n",
              "      <td>600</td>\n",
              "      <td>butt</td>\n",
              "      <td>40</td>\n",
              "      <td>36-40</td>\n",
              "    </tr>\n",
              "    <tr>\n",
              "      <th>1</th>\n",
              "      <td>2017-11-02</td>\n",
              "      <td>99</td>\n",
              "      <td>yes</td>\n",
              "      <td>1984-10-16</td>\n",
              "      <td>32082</td>\n",
              "      <td>400</td>\n",
              "      <td>butt, eyes</td>\n",
              "      <td>33</td>\n",
              "      <td>31-35</td>\n",
              "    </tr>\n",
              "    <tr>\n",
              "      <th>2</th>\n",
              "      <td>2017-06-29</td>\n",
              "      <td>99</td>\n",
              "      <td>yes</td>\n",
              "      <td>1989-07-22</td>\n",
              "      <td>32080</td>\n",
              "      <td>320</td>\n",
              "      <td>eyes, hair, legs</td>\n",
              "      <td>27</td>\n",
              "      <td>26-30</td>\n",
              "    </tr>\n",
              "    <tr>\n",
              "      <th>3</th>\n",
              "      <td>2017-01-23</td>\n",
              "      <td>99</td>\n",
              "      <td>no</td>\n",
              "      <td>1971-01-23</td>\n",
              "      <td>32208</td>\n",
              "      <td>720</td>\n",
              "      <td>boobs</td>\n",
              "      <td>46</td>\n",
              "      <td>46-50</td>\n",
              "    </tr>\n",
              "    <tr>\n",
              "      <th>5</th>\n",
              "      <td>2014-09-14</td>\n",
              "      <td>99</td>\n",
              "      <td>yes</td>\n",
              "      <td>1982-11-03</td>\n",
              "      <td>32257</td>\n",
              "      <td>1320</td>\n",
              "      <td>butt</td>\n",
              "      <td>31</td>\n",
              "      <td>31-35</td>\n",
              "    </tr>\n",
              "    <tr>\n",
              "      <th>6</th>\n",
              "      <td>2017-09-05</td>\n",
              "      <td>99</td>\n",
              "      <td>no</td>\n",
              "      <td>1996-01-24</td>\n",
              "      <td>32246</td>\n",
              "      <td>0</td>\n",
              "      <td>eyes</td>\n",
              "      <td>21</td>\n",
              "      <td>18-25</td>\n",
              "    </tr>\n",
              "    <tr>\n",
              "      <th>7</th>\n",
              "      <td>2015-08-14</td>\n",
              "      <td>179</td>\n",
              "      <td>no</td>\n",
              "      <td>1977-08-29</td>\n",
              "      <td>32221</td>\n",
              "      <td>240</td>\n",
              "      <td>no preference</td>\n",
              "      <td>37</td>\n",
              "      <td>36-40</td>\n",
              "    </tr>\n",
              "    <tr>\n",
              "      <th>9</th>\n",
              "      <td>2015-03-05</td>\n",
              "      <td>99</td>\n",
              "      <td>yes</td>\n",
              "      <td>1979-09-07</td>\n",
              "      <td>32277</td>\n",
              "      <td>720</td>\n",
              "      <td>boobs</td>\n",
              "      <td>35</td>\n",
              "      <td>31-35</td>\n",
              "    </tr>\n",
              "    <tr>\n",
              "      <th>10</th>\n",
              "      <td>2015-01-21</td>\n",
              "      <td>99</td>\n",
              "      <td>yes</td>\n",
              "      <td>1988-08-04</td>\n",
              "      <td>32258</td>\n",
              "      <td>680</td>\n",
              "      <td>eyes</td>\n",
              "      <td>26</td>\n",
              "      <td>26-30</td>\n",
              "    </tr>\n",
              "    <tr>\n",
              "      <th>12</th>\n",
              "      <td>2014-09-27</td>\n",
              "      <td>99</td>\n",
              "      <td>no</td>\n",
              "      <td>1969-11-10</td>\n",
              "      <td>32216</td>\n",
              "      <td>600</td>\n",
              "      <td>no preference</td>\n",
              "      <td>44</td>\n",
              "      <td>41-45</td>\n",
              "    </tr>\n",
              "  </tbody>\n",
              "</table>\n",
              "</div>"
            ],
            "text/plain": [
              "   Date_of_PreShoot  Session_Fee  ... Age_at_Shoot_Date Age_Range\n",
              "0        2017-01-05           99  ...                40     36-40\n",
              "1        2017-11-02           99  ...                33     31-35\n",
              "2        2017-06-29           99  ...                27     26-30\n",
              "3        2017-01-23           99  ...                46     46-50\n",
              "5        2014-09-14           99  ...                31     31-35\n",
              "6        2017-09-05           99  ...                21     18-25\n",
              "7        2015-08-14          179  ...                37     36-40\n",
              "9        2015-03-05           99  ...                35     31-35\n",
              "10       2015-01-21           99  ...                26     26-30\n",
              "12       2014-09-27           99  ...                44     41-45\n",
              "\n",
              "[10 rows x 9 columns]"
            ]
          },
          "metadata": {
            "tags": []
          },
          "execution_count": 82
        }
      ]
    },
    {
      "cell_type": "code",
      "metadata": {
        "id": "WIjjQ2rNh74d",
        "colab_type": "code",
        "colab": {
          "base_uri": "https://localhost:8080/",
          "height": 101
        },
        "outputId": "ed9b5c7e-8b6f-44ad-9bb6-f10163cf2046"
      },
      "source": [
        "#fix the Hair column by string white space if needed\n",
        "dnd_sales_df[\"Hair\"].value_counts()\n"
      ],
      "execution_count": 83,
      "outputs": [
        {
          "output_type": "execute_result",
          "data": {
            "text/plain": [
              "no     229\n",
              "yes     94\n",
              " no      1\n",
              "no       1\n",
              "Name: Hair, dtype: int64"
            ]
          },
          "metadata": {
            "tags": []
          },
          "execution_count": 83
        }
      ]
    },
    {
      "cell_type": "code",
      "metadata": {
        "id": "xiWuWfghiTGb",
        "colab_type": "code",
        "colab": {}
      },
      "source": [
        "dnd_sales_df[\"Hair\"] = dnd_sales_df.loc[:, \"Hair\"].str.strip()"
      ],
      "execution_count": 84,
      "outputs": []
    },
    {
      "cell_type": "code",
      "metadata": {
        "id": "0ndhuo4xihNb",
        "colab_type": "code",
        "colab": {
          "base_uri": "https://localhost:8080/",
          "height": 67
        },
        "outputId": "1e74a895-d9cf-4e4a-b2cb-93fe40b20347"
      },
      "source": [
        "# check to see if it worked\n",
        "dnd_sales_df[\"Hair\"].value_counts()"
      ],
      "execution_count": 85,
      "outputs": [
        {
          "output_type": "execute_result",
          "data": {
            "text/plain": [
              "no     231\n",
              "yes     94\n",
              "Name: Hair, dtype: int64"
            ]
          },
          "metadata": {
            "tags": []
          },
          "execution_count": 85
        }
      ]
    },
    {
      "cell_type": "code",
      "metadata": {
        "id": "94NtWgnnispx",
        "colab_type": "code",
        "colab": {
          "base_uri": "https://localhost:8080/",
          "height": 185
        },
        "outputId": "2571eb2c-bbd4-4a21-98e8-6b87ea7d9089"
      },
      "source": [
        "dnd_sales_df.dtypes"
      ],
      "execution_count": 86,
      "outputs": [
        {
          "output_type": "execute_result",
          "data": {
            "text/plain": [
              "Date_of_PreShoot     datetime64[ns]\n",
              "Session_Fee                   int64\n",
              "Hair                         object\n",
              "DOB                  datetime64[ns]\n",
              "zip_code                     object\n",
              "Sales_total                   int64\n",
              "Favorite                     object\n",
              "Age_at_Shoot_Date             int64\n",
              "Age_Range                  category\n",
              "dtype: object"
            ]
          },
          "metadata": {
            "tags": []
          },
          "execution_count": 86
        }
      ]
    },
    {
      "cell_type": "code",
      "metadata": {
        "id": "8cQtwDLmVCYu",
        "colab_type": "code",
        "colab": {}
      },
      "source": [
        "# change Hair to category\n",
        "dnd_sales_df[\"Hair\"] = dnd_sales_df[\"Hair\"].astype(\"category\")\n",
        "dnd_sales_df[\"zip_code\"] = dnd_sales_df[\"zip_code\"].astype(\"category\")"
      ],
      "execution_count": 87,
      "outputs": []
    },
    {
      "cell_type": "code",
      "metadata": {
        "id": "asJGg2PZkeAK",
        "colab_type": "code",
        "colab": {
          "base_uri": "https://localhost:8080/",
          "height": 185
        },
        "outputId": "c70d63c9-a41d-4ca2-b0ef-2e3f153b36ae"
      },
      "source": [
        "dnd_sales_df.dtypes"
      ],
      "execution_count": 88,
      "outputs": [
        {
          "output_type": "execute_result",
          "data": {
            "text/plain": [
              "Date_of_PreShoot     datetime64[ns]\n",
              "Session_Fee                   int64\n",
              "Hair                       category\n",
              "DOB                  datetime64[ns]\n",
              "zip_code                   category\n",
              "Sales_total                   int64\n",
              "Favorite                     object\n",
              "Age_at_Shoot_Date             int64\n",
              "Age_Range                  category\n",
              "dtype: object"
            ]
          },
          "metadata": {
            "tags": []
          },
          "execution_count": 88
        }
      ]
    },
    {
      "cell_type": "code",
      "metadata": {
        "id": "zTKNI3m2mVuG",
        "colab_type": "code",
        "colab": {}
      },
      "source": [
        ""
      ],
      "execution_count": 88,
      "outputs": []
    },
    {
      "cell_type": "code",
      "metadata": {
        "id": "CF4-qH9Wklmr",
        "colab_type": "code",
        "colab": {}
      },
      "source": [
        ""
      ],
      "execution_count": 88,
      "outputs": []
    },
    {
      "cell_type": "code",
      "metadata": {
        "id": "pxYEjsPvWL2F",
        "colab_type": "code",
        "colab": {
          "base_uri": "https://localhost:8080/",
          "height": 50
        },
        "outputId": "18e8b846-8b81-40a3-caec-eafa7ed29414"
      },
      "source": [
        "# creat a condition that give zip codes that are above the mode\n",
        "dnd_sales_df[\"Sales_total\"].mode()"
      ],
      "execution_count": 89,
      "outputs": [
        {
          "output_type": "execute_result",
          "data": {
            "text/plain": [
              "0    600\n",
              "dtype: int64"
            ]
          },
          "metadata": {
            "tags": []
          },
          "execution_count": 89
        }
      ]
    },
    {
      "cell_type": "code",
      "metadata": {
        "id": "DXAWzE-urZZB",
        "colab_type": "code",
        "colab": {}
      },
      "source": [
        ""
      ],
      "execution_count": 89,
      "outputs": []
    },
    {
      "cell_type": "code",
      "metadata": {
        "id": "BQ1oN0BarsQh",
        "colab_type": "code",
        "colab": {
          "base_uri": "https://localhost:8080/",
          "height": 218
        },
        "outputId": "956a48a3-5760-492c-ede9-abe3c1d23be3"
      },
      "source": [
        "# zip code needs to be checked I think it might have spaces and stuff.\n",
        "dnd_sales_df[\"zip_code\"].value_counts()"
      ],
      "execution_count": 90,
      "outputs": [
        {
          "output_type": "execute_result",
          "data": {
            "text/plain": [
              "32218    19\n",
              "32258    15\n",
              "32256    15\n",
              "32246    15\n",
              "32216    14\n",
              "         ..\n",
              "32098     1\n",
              "32095     1\n",
              "32083     1\n",
              "32063     1\n",
              "30354     1\n",
              "Name: zip_code, Length: 76, dtype: int64"
            ]
          },
          "metadata": {
            "tags": []
          },
          "execution_count": 90
        }
      ]
    },
    {
      "cell_type": "code",
      "metadata": {
        "id": "R-fDSNnahH9y",
        "colab_type": "code",
        "colab": {}
      },
      "source": [
        "dnd_sales_df[\"zip_code\"] = dnd_sales_df[\"zip_code\"].str.strip()"
      ],
      "execution_count": 91,
      "outputs": []
    },
    {
      "cell_type": "code",
      "metadata": {
        "id": "VFt2Kh-Przhm",
        "colab_type": "code",
        "colab": {}
      },
      "source": [
        "dnd_sales_df[\"zip_code\"] = dnd_sales_df[\"zip_code\"].astype(\"category\")"
      ],
      "execution_count": 92,
      "outputs": []
    },
    {
      "cell_type": "code",
      "metadata": {
        "id": "XOKjn-fOr7qV",
        "colab_type": "code",
        "colab": {
          "base_uri": "https://localhost:8080/",
          "height": 286
        },
        "outputId": "2752c069-ad9d-43ac-e54e-eab7b790a591"
      },
      "source": [
        "dnd_sales_df.info()"
      ],
      "execution_count": 93,
      "outputs": [
        {
          "output_type": "stream",
          "text": [
            "<class 'pandas.core.frame.DataFrame'>\n",
            "Int64Index: 325 entries, 0 to 423\n",
            "Data columns (total 9 columns):\n",
            " #   Column             Non-Null Count  Dtype         \n",
            "---  ------             --------------  -----         \n",
            " 0   Date_of_PreShoot   325 non-null    datetime64[ns]\n",
            " 1   Session_Fee        325 non-null    int64         \n",
            " 2   Hair               325 non-null    category      \n",
            " 3   DOB                325 non-null    datetime64[ns]\n",
            " 4   zip_code           325 non-null    category      \n",
            " 5   Sales_total        325 non-null    int64         \n",
            " 6   Favorite           325 non-null    object        \n",
            " 7   Age_at_Shoot_Date  325 non-null    int64         \n",
            " 8   Age_Range          325 non-null    category      \n",
            "dtypes: category(3), datetime64[ns](2), int64(3), object(1)\n",
            "memory usage: 32.3+ KB\n"
          ],
          "name": "stdout"
        }
      ]
    },
    {
      "cell_type": "code",
      "metadata": {
        "id": "MiqfgHBjiTF2",
        "colab_type": "code",
        "colab": {
          "base_uri": "https://localhost:8080/",
          "height": 840
        },
        "outputId": "7f6cac5c-b68f-4430-df27-bcc31e100278"
      },
      "source": [
        "dnd_sales_df[\"Favorite\"].value_counts()\n"
      ],
      "execution_count": 94,
      "outputs": [
        {
          "output_type": "execute_result",
          "data": {
            "text/plain": [
              "no preference               158\n",
              "butt                         59\n",
              "boobs                        33\n",
              "legs                          9\n",
              "eyes                          7\n",
              "butt, eyes                    7\n",
              "boobs, legs                   6\n",
              "butt, legs                    3\n",
              "butt                          2\n",
              "boobs, eyes                   2\n",
              "eyes, legs                    2\n",
              "hips                          1\n",
              "eyes, hair, legs              1\n",
              "back, eyes, neck              1\n",
              "back, eyes                    1\n",
              "back, butt                    1\n",
              "thighs                        1\n",
              "back, butt, legs              1\n",
              "boobs, butt                   1\n",
              "butt, hips, legs              1\n",
              "smile                         1\n",
              "hair                          1\n",
              "legs, shoulder, smile         1\n",
              "butt, legs, neck              1\n",
              "back, tattoo                  1\n",
              "butt, hair, legs              1\n",
              "cheek_bones, eyes, lips       1\n",
              "butt, eyes, hair              1\n",
              "boobs, curves                 1\n",
              "butt, decoletage              1\n",
              "abs, butt                     1\n",
              "boobs, butt, eyes, smile      1\n",
              "boobs, eyes, legs             1\n",
              "legs, feet                    1\n",
              "silouette                     1\n",
              "waist                         1\n",
              "boobs, shoulder               1\n",
              "boobs, smile                  1\n",
              "arms, muscles                 1\n",
              "butt, back                    1\n",
              "butt, decoletage, legs        1\n",
              "legs, pale_skin               1\n",
              "freckles, smile               1\n",
              "eyes, smile                   1\n",
              "butt, hair, legs,             1\n",
              "butt, curves, face            1\n",
              "chest, eyes, neck             1\n",
              "butt, curves                  1\n",
              "Name: Favorite, dtype: int64"
            ]
          },
          "metadata": {
            "tags": []
          },
          "execution_count": 94
        }
      ]
    },
    {
      "cell_type": "code",
      "metadata": {
        "id": "zML7Y2kRobn9",
        "colab_type": "code",
        "colab": {
          "base_uri": "https://localhost:8080/",
          "height": 34
        },
        "outputId": "82991ada-e74f-4a9d-bd96-44453ed6a8a3"
      },
      "source": [
        "dnd_sales_df[\"Favorite\"].nunique()"
      ],
      "execution_count": 95,
      "outputs": [
        {
          "output_type": "execute_result",
          "data": {
            "text/plain": [
              "48"
            ]
          },
          "metadata": {
            "tags": []
          },
          "execution_count": 95
        }
      ]
    },
    {
      "cell_type": "code",
      "metadata": {
        "id": "2f3FdlZLiy65",
        "colab_type": "code",
        "colab": {
          "base_uri": "https://localhost:8080/",
          "height": 823
        },
        "outputId": "600516ff-e768-43a0-d680-b55483f0217b"
      },
      "source": [
        "# lets' see what happens if I strip it\n",
        "dnd_sales_df[\"Favorite\"]=dnd_sales_df[\"Favorite\"].str.strip()\n",
        "dnd_sales_df[\"Favorite\"].value_counts().sort_index()\n"
      ],
      "execution_count": 96,
      "outputs": [
        {
          "output_type": "execute_result",
          "data": {
            "text/plain": [
              "abs, butt                     1\n",
              "arms, muscles                 1\n",
              "back, butt                    1\n",
              "back, butt, legs              1\n",
              "back, eyes                    1\n",
              "back, eyes, neck              1\n",
              "back, tattoo                  1\n",
              "boobs                        33\n",
              "boobs, butt                   1\n",
              "boobs, butt, eyes, smile      1\n",
              "boobs, curves                 1\n",
              "boobs, eyes                   2\n",
              "boobs, eyes, legs             1\n",
              "boobs, legs                   6\n",
              "boobs, shoulder               1\n",
              "boobs, smile                  1\n",
              "butt                         61\n",
              "butt, back                    1\n",
              "butt, curves                  1\n",
              "butt, curves, face            1\n",
              "butt, decoletage              1\n",
              "butt, decoletage, legs        1\n",
              "butt, eyes                    7\n",
              "butt, eyes, hair              1\n",
              "butt, hair, legs              1\n",
              "butt, hair, legs,             1\n",
              "butt, hips, legs              1\n",
              "butt, legs                    3\n",
              "butt, legs, neck              1\n",
              "cheek_bones, eyes, lips       1\n",
              "chest, eyes, neck             1\n",
              "eyes                          7\n",
              "eyes, hair, legs              1\n",
              "eyes, legs                    2\n",
              "eyes, smile                   1\n",
              "freckles, smile               1\n",
              "hair                          1\n",
              "hips                          1\n",
              "legs                          9\n",
              "legs, feet                    1\n",
              "legs, pale_skin               1\n",
              "legs, shoulder, smile         1\n",
              "no preference               158\n",
              "silouette                     1\n",
              "smile                         1\n",
              "thighs                        1\n",
              "waist                         1\n",
              "Name: Favorite, dtype: int64"
            ]
          },
          "metadata": {
            "tags": []
          },
          "execution_count": 96
        }
      ]
    },
    {
      "cell_type": "code",
      "metadata": {
        "id": "b8g1RMMTugZm",
        "colab_type": "code",
        "colab": {
          "base_uri": "https://localhost:8080/",
          "height": 286
        },
        "outputId": "a5cdabb9-9f36-493b-809a-76d0876e2e37"
      },
      "source": [
        "dnd_sales_df.info()"
      ],
      "execution_count": 97,
      "outputs": [
        {
          "output_type": "stream",
          "text": [
            "<class 'pandas.core.frame.DataFrame'>\n",
            "Int64Index: 325 entries, 0 to 423\n",
            "Data columns (total 9 columns):\n",
            " #   Column             Non-Null Count  Dtype         \n",
            "---  ------             --------------  -----         \n",
            " 0   Date_of_PreShoot   325 non-null    datetime64[ns]\n",
            " 1   Session_Fee        325 non-null    int64         \n",
            " 2   Hair               325 non-null    category      \n",
            " 3   DOB                325 non-null    datetime64[ns]\n",
            " 4   zip_code           325 non-null    category      \n",
            " 5   Sales_total        325 non-null    int64         \n",
            " 6   Favorite           325 non-null    object        \n",
            " 7   Age_at_Shoot_Date  325 non-null    int64         \n",
            " 8   Age_Range          325 non-null    category      \n",
            "dtypes: category(3), datetime64[ns](2), int64(3), object(1)\n",
            "memory usage: 32.3+ KB\n"
          ],
          "name": "stdout"
        }
      ]
    },
    {
      "cell_type": "markdown",
      "metadata": {
        "id": "_H5d_EOSqU1d",
        "colab_type": "text"
      },
      "source": [
        "# **this is the point at which to export the csv** of clean data!!!"
      ]
    },
    {
      "cell_type": "code",
      "metadata": {
        "id": "qrFEpIhYrCxs",
        "colab_type": "code",
        "colab": {}
      },
      "source": [
        "# dt.to_csv('C:/Users/abc/Desktop/file_name.csv')\n",
        "dnd_sales_df.to_csv(\"DND_clean_data.csv\", na_rep='Unknown')\n",
        "# /Users/kellycho/Documents/DND data_3.csv"
      ],
      "execution_count": 98,
      "outputs": []
    },
    {
      "cell_type": "code",
      "metadata": {
        "id": "HAw_iIogvbKp",
        "colab_type": "code",
        "colab": {
          "base_uri": "https://localhost:8080/",
          "height": 106
        },
        "outputId": "cf0f383f-ac9f-4737-b69f-dece9f9dfbd6"
      },
      "source": [
        "# this is the point at which to export the csv\n",
        "dnd_sales_df.head(2)"
      ],
      "execution_count": 99,
      "outputs": [
        {
          "output_type": "execute_result",
          "data": {
            "text/html": [
              "<div>\n",
              "<style scoped>\n",
              "    .dataframe tbody tr th:only-of-type {\n",
              "        vertical-align: middle;\n",
              "    }\n",
              "\n",
              "    .dataframe tbody tr th {\n",
              "        vertical-align: top;\n",
              "    }\n",
              "\n",
              "    .dataframe thead th {\n",
              "        text-align: right;\n",
              "    }\n",
              "</style>\n",
              "<table border=\"1\" class=\"dataframe\">\n",
              "  <thead>\n",
              "    <tr style=\"text-align: right;\">\n",
              "      <th></th>\n",
              "      <th>Date_of_PreShoot</th>\n",
              "      <th>Session_Fee</th>\n",
              "      <th>Hair</th>\n",
              "      <th>DOB</th>\n",
              "      <th>zip_code</th>\n",
              "      <th>Sales_total</th>\n",
              "      <th>Favorite</th>\n",
              "      <th>Age_at_Shoot_Date</th>\n",
              "      <th>Age_Range</th>\n",
              "    </tr>\n",
              "  </thead>\n",
              "  <tbody>\n",
              "    <tr>\n",
              "      <th>0</th>\n",
              "      <td>2017-01-05</td>\n",
              "      <td>99</td>\n",
              "      <td>yes</td>\n",
              "      <td>1976-05-05</td>\n",
              "      <td>32208</td>\n",
              "      <td>600</td>\n",
              "      <td>butt</td>\n",
              "      <td>40</td>\n",
              "      <td>36-40</td>\n",
              "    </tr>\n",
              "    <tr>\n",
              "      <th>1</th>\n",
              "      <td>2017-11-02</td>\n",
              "      <td>99</td>\n",
              "      <td>yes</td>\n",
              "      <td>1984-10-16</td>\n",
              "      <td>32082</td>\n",
              "      <td>400</td>\n",
              "      <td>butt, eyes</td>\n",
              "      <td>33</td>\n",
              "      <td>31-35</td>\n",
              "    </tr>\n",
              "  </tbody>\n",
              "</table>\n",
              "</div>"
            ],
            "text/plain": [
              "  Date_of_PreShoot  Session_Fee Hair  ...    Favorite Age_at_Shoot_Date  Age_Range\n",
              "0       2017-01-05           99  yes  ...        butt                40      36-40\n",
              "1       2017-11-02           99  yes  ...  butt, eyes                33      31-35\n",
              "\n",
              "[2 rows x 9 columns]"
            ]
          },
          "metadata": {
            "tags": []
          },
          "execution_count": 99
        }
      ]
    },
    {
      "cell_type": "code",
      "metadata": {
        "id": "ICgdLM2VvdvX",
        "colab_type": "code",
        "colab": {
          "base_uri": "https://localhost:8080/",
          "height": 34
        },
        "outputId": "5ba02d96-2893-4c64-c488-5a65219b15e1"
      },
      "source": [
        "# create a subset df - zip code, Sales_Total then melt and or pivot\n",
        "zcode_sales_df = pd.DataFrame({\"zip_code\": dnd_sales_df[\"zip_code\"], \"sales_total\": dnd_sales_df[\"Sales_total\"]})\n",
        "zcode_sales_df.shape"
      ],
      "execution_count": 100,
      "outputs": [
        {
          "output_type": "execute_result",
          "data": {
            "text/plain": [
              "(325, 2)"
            ]
          },
          "metadata": {
            "tags": []
          },
          "execution_count": 100
        }
      ]
    },
    {
      "cell_type": "code",
      "metadata": {
        "id": "PllQ35v8sVAp",
        "colab_type": "code",
        "colab": {
          "base_uri": "https://localhost:8080/",
          "height": 195
        },
        "outputId": "496e811c-a734-41db-eb74-46b8fe142fb0"
      },
      "source": [
        "zcode_sales_df.head()"
      ],
      "execution_count": 101,
      "outputs": [
        {
          "output_type": "execute_result",
          "data": {
            "text/html": [
              "<div>\n",
              "<style scoped>\n",
              "    .dataframe tbody tr th:only-of-type {\n",
              "        vertical-align: middle;\n",
              "    }\n",
              "\n",
              "    .dataframe tbody tr th {\n",
              "        vertical-align: top;\n",
              "    }\n",
              "\n",
              "    .dataframe thead th {\n",
              "        text-align: right;\n",
              "    }\n",
              "</style>\n",
              "<table border=\"1\" class=\"dataframe\">\n",
              "  <thead>\n",
              "    <tr style=\"text-align: right;\">\n",
              "      <th></th>\n",
              "      <th>zip_code</th>\n",
              "      <th>sales_total</th>\n",
              "    </tr>\n",
              "  </thead>\n",
              "  <tbody>\n",
              "    <tr>\n",
              "      <th>0</th>\n",
              "      <td>32208</td>\n",
              "      <td>600</td>\n",
              "    </tr>\n",
              "    <tr>\n",
              "      <th>1</th>\n",
              "      <td>32082</td>\n",
              "      <td>400</td>\n",
              "    </tr>\n",
              "    <tr>\n",
              "      <th>2</th>\n",
              "      <td>32080</td>\n",
              "      <td>320</td>\n",
              "    </tr>\n",
              "    <tr>\n",
              "      <th>3</th>\n",
              "      <td>32208</td>\n",
              "      <td>720</td>\n",
              "    </tr>\n",
              "    <tr>\n",
              "      <th>5</th>\n",
              "      <td>32257</td>\n",
              "      <td>1320</td>\n",
              "    </tr>\n",
              "  </tbody>\n",
              "</table>\n",
              "</div>"
            ],
            "text/plain": [
              "  zip_code  sales_total\n",
              "0    32208          600\n",
              "1    32082          400\n",
              "2    32080          320\n",
              "3    32208          720\n",
              "5    32257         1320"
            ]
          },
          "metadata": {
            "tags": []
          },
          "execution_count": 101
        }
      ]
    },
    {
      "cell_type": "code",
      "metadata": {
        "id": "MHcq76eWshQW",
        "colab_type": "code",
        "colab": {}
      },
      "source": [
        "# heres where I think I should melt??\n",
        "# molten_zcode_sales_df = zcode_sales_df.melt(value_vars=[\"sales_total\"])\n"
      ],
      "execution_count": 102,
      "outputs": []
    },
    {
      "cell_type": "code",
      "metadata": {
        "id": "Nr40AEXp3Qi1",
        "colab_type": "code",
        "colab": {}
      },
      "source": [
        ""
      ],
      "execution_count": 102,
      "outputs": []
    },
    {
      "cell_type": "code",
      "metadata": {
        "id": "BVpGmTlwjOJV",
        "colab_type": "code",
        "colab": {
          "base_uri": "https://localhost:8080/",
          "height": 34
        },
        "outputId": "d67ff9fe-ff9c-425f-ceea-bb0a900676ed"
      },
      "source": [
        "dnd_sales_df.loc[:, \"Sales_total\"].sum()/6"
      ],
      "execution_count": 103,
      "outputs": [
        {
          "output_type": "execute_result",
          "data": {
            "text/plain": [
              "39980.166666666664"
            ]
          },
          "metadata": {
            "tags": []
          },
          "execution_count": 103
        }
      ]
    },
    {
      "cell_type": "code",
      "metadata": {
        "id": "vpZvct9rl-K1",
        "colab_type": "code",
        "colab": {
          "base_uri": "https://localhost:8080/",
          "height": 34
        },
        "outputId": "ba66df31-7153-4efa-b395-d58bd691d3e9"
      },
      "source": [
        "dnd_sales_df.loc[:, \"Sales_total\"].mean()/9"
      ],
      "execution_count": 104,
      "outputs": [
        {
          "output_type": "execute_result",
          "data": {
            "text/plain": [
              "82.0105982905983"
            ]
          },
          "metadata": {
            "tags": []
          },
          "execution_count": 104
        }
      ]
    },
    {
      "cell_type": "code",
      "metadata": {
        "id": "X-AvOEEApoIF",
        "colab_type": "code",
        "colab": {}
      },
      "source": [
        ""
      ],
      "execution_count": 104,
      "outputs": []
    },
    {
      "cell_type": "code",
      "metadata": {
        "id": "EKE10-SrpiPg",
        "colab_type": "code",
        "colab": {}
      },
      "source": [
        ""
      ],
      "execution_count": 104,
      "outputs": []
    },
    {
      "cell_type": "code",
      "metadata": {
        "id": "ClPfljjMWetv",
        "colab_type": "code",
        "colab": {
          "base_uri": "https://localhost:8080/",
          "height": 67
        },
        "outputId": "734340cf-4441-44ae-a2bc-91aeed64b116"
      },
      "source": [
        "hi_sales = dnd_sales_df[\"Sales_total\"] >= 1200 \n",
        "hi_sales.value_counts()"
      ],
      "execution_count": 105,
      "outputs": [
        {
          "output_type": "execute_result",
          "data": {
            "text/plain": [
              "False    260\n",
              "True      65\n",
              "Name: Sales_total, dtype: int64"
            ]
          },
          "metadata": {
            "tags": []
          },
          "execution_count": 105
        }
      ]
    },
    {
      "cell_type": "code",
      "metadata": {
        "id": "lg-f5YvbW6B8",
        "colab_type": "code",
        "colab": {
          "base_uri": "https://localhost:8080/",
          "height": 34
        },
        "outputId": "8dd30c3d-f652-4210-cf71-7303c4102393"
      },
      "source": [
        "# the highest sales \n",
        "\n",
        "dnd_highest_sales_df = dnd_sales_df[hi_sales]\n",
        "dnd_highest_sales_df.shape"
      ],
      "execution_count": 106,
      "outputs": [
        {
          "output_type": "execute_result",
          "data": {
            "text/plain": [
              "(65, 9)"
            ]
          },
          "metadata": {
            "tags": []
          },
          "execution_count": 106
        }
      ]
    },
    {
      "cell_type": "code",
      "metadata": {
        "id": "0dh9HPafXubS",
        "colab_type": "code",
        "colab": {
          "base_uri": "https://localhost:8080/",
          "height": 286
        },
        "outputId": "7cdea253-772b-449e-d2c9-f15d93b8b381"
      },
      "source": [
        "dnd_highest_sales_df.info()"
      ],
      "execution_count": 107,
      "outputs": [
        {
          "output_type": "stream",
          "text": [
            "<class 'pandas.core.frame.DataFrame'>\n",
            "Int64Index: 65 entries, 5 to 423\n",
            "Data columns (total 9 columns):\n",
            " #   Column             Non-Null Count  Dtype         \n",
            "---  ------             --------------  -----         \n",
            " 0   Date_of_PreShoot   65 non-null     datetime64[ns]\n",
            " 1   Session_Fee        65 non-null     int64         \n",
            " 2   Hair               65 non-null     category      \n",
            " 3   DOB                65 non-null     datetime64[ns]\n",
            " 4   zip_code           65 non-null     category      \n",
            " 5   Sales_total        65 non-null     int64         \n",
            " 6   Favorite           65 non-null     object        \n",
            " 7   Age_at_Shoot_Date  65 non-null     int64         \n",
            " 8   Age_Range          65 non-null     category      \n",
            "dtypes: category(3), datetime64[ns](2), int64(3), object(1)\n",
            "memory usage: 7.3+ KB\n"
          ],
          "name": "stdout"
        }
      ]
    },
    {
      "cell_type": "code",
      "metadata": {
        "id": "UHV7oc1RXwo3",
        "colab_type": "code",
        "colab": {}
      },
      "source": [
        ""
      ],
      "execution_count": 107,
      "outputs": []
    },
    {
      "cell_type": "code",
      "metadata": {
        "id": "S5jzvX3gsXoL",
        "colab_type": "code",
        "colab": {
          "base_uri": "https://localhost:8080/",
          "height": 67
        },
        "outputId": "32851aff-8afb-4128-f047-48095cabe428"
      },
      "source": [
        "low_sales = dnd_sales_df[\"Sales_total\"] <= 500\n",
        "low_sales.value_counts()"
      ],
      "execution_count": 108,
      "outputs": [
        {
          "output_type": "execute_result",
          "data": {
            "text/plain": [
              "False    253\n",
              "True      72\n",
              "Name: Sales_total, dtype: int64"
            ]
          },
          "metadata": {
            "tags": []
          },
          "execution_count": 108
        }
      ]
    },
    {
      "cell_type": "code",
      "metadata": {
        "id": "V-TjxDtPsqmI",
        "colab_type": "code",
        "colab": {
          "base_uri": "https://localhost:8080/",
          "height": 284
        },
        "outputId": "a807debf-3fd1-4665-a922-1b77b6982632"
      },
      "source": [
        "# The lowest sales zip codes\n",
        "dnd_lowest_sales_df = dnd_sales_df[low_sales]\n",
        "dnd_lowest_sales_df.describe()"
      ],
      "execution_count": 109,
      "outputs": [
        {
          "output_type": "execute_result",
          "data": {
            "text/html": [
              "<div>\n",
              "<style scoped>\n",
              "    .dataframe tbody tr th:only-of-type {\n",
              "        vertical-align: middle;\n",
              "    }\n",
              "\n",
              "    .dataframe tbody tr th {\n",
              "        vertical-align: top;\n",
              "    }\n",
              "\n",
              "    .dataframe thead th {\n",
              "        text-align: right;\n",
              "    }\n",
              "</style>\n",
              "<table border=\"1\" class=\"dataframe\">\n",
              "  <thead>\n",
              "    <tr style=\"text-align: right;\">\n",
              "      <th></th>\n",
              "      <th>Session_Fee</th>\n",
              "      <th>Sales_total</th>\n",
              "      <th>Age_at_Shoot_Date</th>\n",
              "    </tr>\n",
              "  </thead>\n",
              "  <tbody>\n",
              "    <tr>\n",
              "      <th>count</th>\n",
              "      <td>72.000000</td>\n",
              "      <td>72.000000</td>\n",
              "      <td>72.000000</td>\n",
              "    </tr>\n",
              "    <tr>\n",
              "      <th>mean</th>\n",
              "      <td>86.569444</td>\n",
              "      <td>180.541667</td>\n",
              "      <td>34.111111</td>\n",
              "    </tr>\n",
              "    <tr>\n",
              "      <th>std</th>\n",
              "      <td>36.490333</td>\n",
              "      <td>142.707219</td>\n",
              "      <td>11.249483</td>\n",
              "    </tr>\n",
              "    <tr>\n",
              "      <th>min</th>\n",
              "      <td>0.000000</td>\n",
              "      <td>0.000000</td>\n",
              "      <td>19.000000</td>\n",
              "    </tr>\n",
              "    <tr>\n",
              "      <th>25%</th>\n",
              "      <td>99.000000</td>\n",
              "      <td>60.000000</td>\n",
              "      <td>26.000000</td>\n",
              "    </tr>\n",
              "    <tr>\n",
              "      <th>50%</th>\n",
              "      <td>99.000000</td>\n",
              "      <td>160.000000</td>\n",
              "      <td>31.500000</td>\n",
              "    </tr>\n",
              "    <tr>\n",
              "      <th>75%</th>\n",
              "      <td>99.000000</td>\n",
              "      <td>305.000000</td>\n",
              "      <td>39.000000</td>\n",
              "    </tr>\n",
              "    <tr>\n",
              "      <th>max</th>\n",
              "      <td>179.000000</td>\n",
              "      <td>440.000000</td>\n",
              "      <td>66.000000</td>\n",
              "    </tr>\n",
              "  </tbody>\n",
              "</table>\n",
              "</div>"
            ],
            "text/plain": [
              "       Session_Fee  Sales_total  Age_at_Shoot_Date\n",
              "count    72.000000    72.000000          72.000000\n",
              "mean     86.569444   180.541667          34.111111\n",
              "std      36.490333   142.707219          11.249483\n",
              "min       0.000000     0.000000          19.000000\n",
              "25%      99.000000    60.000000          26.000000\n",
              "50%      99.000000   160.000000          31.500000\n",
              "75%      99.000000   305.000000          39.000000\n",
              "max     179.000000   440.000000          66.000000"
            ]
          },
          "metadata": {
            "tags": []
          },
          "execution_count": 109
        }
      ]
    },
    {
      "cell_type": "code",
      "metadata": {
        "id": "TxL0G1Q_tQbe",
        "colab_type": "code",
        "colab": {
          "base_uri": "https://localhost:8080/",
          "height": 806
        },
        "outputId": "861d07d8-7ed5-41a6-c1cf-5e2a069c2081"
      },
      "source": [
        "dnd_sales_df[\"Age_at_Shoot_Date\"].value_counts()"
      ],
      "execution_count": 110,
      "outputs": [
        {
          "output_type": "execute_result",
          "data": {
            "text/plain": [
              "25    21\n",
              "26    18\n",
              "33    17\n",
              "35    17\n",
              "27    15\n",
              "28    14\n",
              "23    14\n",
              "32    13\n",
              "38    13\n",
              "34    12\n",
              "31    12\n",
              "30    10\n",
              "36    10\n",
              "29    10\n",
              "24     9\n",
              "39     9\n",
              "41     8\n",
              "40     8\n",
              "22     7\n",
              "50     6\n",
              "21     6\n",
              "44     6\n",
              "37     6\n",
              "20     5\n",
              "42     5\n",
              "43     5\n",
              "46     5\n",
              "48     5\n",
              "52     4\n",
              "45     4\n",
              "56     4\n",
              "54     4\n",
              "58     3\n",
              "51     3\n",
              "19     2\n",
              "49     2\n",
              "53     2\n",
              "59     2\n",
              "65     2\n",
              "66     1\n",
              "47     1\n",
              "57     1\n",
              "60     1\n",
              "61     1\n",
              "63     1\n",
              "72     1\n",
              "Name: Age_at_Shoot_Date, dtype: int64"
            ]
          },
          "metadata": {
            "tags": []
          },
          "execution_count": 110
        }
      ]
    },
    {
      "cell_type": "code",
      "metadata": {
        "id": "2vs_hhNHNotm",
        "colab_type": "code",
        "colab": {}
      },
      "source": [
        ""
      ],
      "execution_count": 110,
      "outputs": []
    },
    {
      "cell_type": "code",
      "metadata": {
        "id": "Z5_8q4TDNCCT",
        "colab_type": "code",
        "colab": {}
      },
      "source": [
        ""
      ],
      "execution_count": 110,
      "outputs": []
    },
    {
      "cell_type": "code",
      "metadata": {
        "id": "mJOb--BYtMOd",
        "colab_type": "code",
        "colab": {}
      },
      "source": [
        ""
      ],
      "execution_count": 110,
      "outputs": []
    },
    {
      "cell_type": "code",
      "metadata": {
        "id": "pUfYVK8QXbeX",
        "colab_type": "code",
        "colab": {
          "base_uri": "https://localhost:8080/",
          "height": 284
        },
        "outputId": "5fe63dee-832b-4b0a-a9be-a457cc1c9957"
      },
      "source": [
        "# this isn't exactly what I would like it to be\n",
        "dnd_highest_sales_df.describe()"
      ],
      "execution_count": 111,
      "outputs": [
        {
          "output_type": "execute_result",
          "data": {
            "text/html": [
              "<div>\n",
              "<style scoped>\n",
              "    .dataframe tbody tr th:only-of-type {\n",
              "        vertical-align: middle;\n",
              "    }\n",
              "\n",
              "    .dataframe tbody tr th {\n",
              "        vertical-align: top;\n",
              "    }\n",
              "\n",
              "    .dataframe thead th {\n",
              "        text-align: right;\n",
              "    }\n",
              "</style>\n",
              "<table border=\"1\" class=\"dataframe\">\n",
              "  <thead>\n",
              "    <tr style=\"text-align: right;\">\n",
              "      <th></th>\n",
              "      <th>Session_Fee</th>\n",
              "      <th>Sales_total</th>\n",
              "      <th>Age_at_Shoot_Date</th>\n",
              "    </tr>\n",
              "  </thead>\n",
              "  <tbody>\n",
              "    <tr>\n",
              "      <th>count</th>\n",
              "      <td>65.000000</td>\n",
              "      <td>65.000000</td>\n",
              "      <td>65.000000</td>\n",
              "    </tr>\n",
              "    <tr>\n",
              "      <th>mean</th>\n",
              "      <td>110.723077</td>\n",
              "      <td>1467.015385</td>\n",
              "      <td>36.400000</td>\n",
              "    </tr>\n",
              "    <tr>\n",
              "      <th>std</th>\n",
              "      <td>45.380168</td>\n",
              "      <td>403.523369</td>\n",
              "      <td>11.835857</td>\n",
              "    </tr>\n",
              "    <tr>\n",
              "      <th>min</th>\n",
              "      <td>25.000000</td>\n",
              "      <td>1200.000000</td>\n",
              "      <td>19.000000</td>\n",
              "    </tr>\n",
              "    <tr>\n",
              "      <th>25%</th>\n",
              "      <td>99.000000</td>\n",
              "      <td>1200.000000</td>\n",
              "      <td>27.000000</td>\n",
              "    </tr>\n",
              "    <tr>\n",
              "      <th>50%</th>\n",
              "      <td>99.000000</td>\n",
              "      <td>1320.000000</td>\n",
              "      <td>34.000000</td>\n",
              "    </tr>\n",
              "    <tr>\n",
              "      <th>75%</th>\n",
              "      <td>99.000000</td>\n",
              "      <td>1550.000000</td>\n",
              "      <td>43.000000</td>\n",
              "    </tr>\n",
              "    <tr>\n",
              "      <th>max</th>\n",
              "      <td>179.000000</td>\n",
              "      <td>3000.000000</td>\n",
              "      <td>65.000000</td>\n",
              "    </tr>\n",
              "  </tbody>\n",
              "</table>\n",
              "</div>"
            ],
            "text/plain": [
              "       Session_Fee  Sales_total  Age_at_Shoot_Date\n",
              "count    65.000000    65.000000          65.000000\n",
              "mean    110.723077  1467.015385          36.400000\n",
              "std      45.380168   403.523369          11.835857\n",
              "min      25.000000  1200.000000          19.000000\n",
              "25%      99.000000  1200.000000          27.000000\n",
              "50%      99.000000  1320.000000          34.000000\n",
              "75%      99.000000  1550.000000          43.000000\n",
              "max     179.000000  3000.000000          65.000000"
            ]
          },
          "metadata": {
            "tags": []
          },
          "execution_count": 111
        }
      ]
    },
    {
      "cell_type": "code",
      "metadata": {
        "id": "YStWHTMwTIb1",
        "colab_type": "code",
        "colab": {
          "base_uri": "https://localhost:8080/",
          "height": 195
        },
        "outputId": "b8f93827-96f7-4137-b9c1-f4608ecfdacd"
      },
      "source": [
        "dnd_highest_sales_df.tail()"
      ],
      "execution_count": 112,
      "outputs": [
        {
          "output_type": "execute_result",
          "data": {
            "text/html": [
              "<div>\n",
              "<style scoped>\n",
              "    .dataframe tbody tr th:only-of-type {\n",
              "        vertical-align: middle;\n",
              "    }\n",
              "\n",
              "    .dataframe tbody tr th {\n",
              "        vertical-align: top;\n",
              "    }\n",
              "\n",
              "    .dataframe thead th {\n",
              "        text-align: right;\n",
              "    }\n",
              "</style>\n",
              "<table border=\"1\" class=\"dataframe\">\n",
              "  <thead>\n",
              "    <tr style=\"text-align: right;\">\n",
              "      <th></th>\n",
              "      <th>Date_of_PreShoot</th>\n",
              "      <th>Session_Fee</th>\n",
              "      <th>Hair</th>\n",
              "      <th>DOB</th>\n",
              "      <th>zip_code</th>\n",
              "      <th>Sales_total</th>\n",
              "      <th>Favorite</th>\n",
              "      <th>Age_at_Shoot_Date</th>\n",
              "      <th>Age_Range</th>\n",
              "    </tr>\n",
              "  </thead>\n",
              "  <tbody>\n",
              "    <tr>\n",
              "      <th>391</th>\n",
              "      <td>2019-09-24</td>\n",
              "      <td>25</td>\n",
              "      <td>no</td>\n",
              "      <td>1959-11-03</td>\n",
              "      <td>32097</td>\n",
              "      <td>1320</td>\n",
              "      <td>boobs</td>\n",
              "      <td>59</td>\n",
              "      <td>56-60</td>\n",
              "    </tr>\n",
              "    <tr>\n",
              "      <th>394</th>\n",
              "      <td>2020-01-06</td>\n",
              "      <td>25</td>\n",
              "      <td>no</td>\n",
              "      <td>1997-10-01</td>\n",
              "      <td>32046</td>\n",
              "      <td>1320</td>\n",
              "      <td>boobs</td>\n",
              "      <td>22</td>\n",
              "      <td>18-25</td>\n",
              "    </tr>\n",
              "    <tr>\n",
              "      <th>405</th>\n",
              "      <td>2020-01-31</td>\n",
              "      <td>179</td>\n",
              "      <td>yes</td>\n",
              "      <td>1960-04-24</td>\n",
              "      <td>31522</td>\n",
              "      <td>1320</td>\n",
              "      <td>boobs</td>\n",
              "      <td>59</td>\n",
              "      <td>56-60</td>\n",
              "    </tr>\n",
              "    <tr>\n",
              "      <th>407</th>\n",
              "      <td>2020-01-31</td>\n",
              "      <td>25</td>\n",
              "      <td>no</td>\n",
              "      <td>1975-06-20</td>\n",
              "      <td>32258</td>\n",
              "      <td>1320</td>\n",
              "      <td>butt</td>\n",
              "      <td>44</td>\n",
              "      <td>41-45</td>\n",
              "    </tr>\n",
              "    <tr>\n",
              "      <th>423</th>\n",
              "      <td>2018-04-08</td>\n",
              "      <td>99</td>\n",
              "      <td>no</td>\n",
              "      <td>1994-06-26</td>\n",
              "      <td>32244</td>\n",
              "      <td>1200</td>\n",
              "      <td>butt, legs</td>\n",
              "      <td>23</td>\n",
              "      <td>18-25</td>\n",
              "    </tr>\n",
              "  </tbody>\n",
              "</table>\n",
              "</div>"
            ],
            "text/plain": [
              "    Date_of_PreShoot  Session_Fee Hair  ...    Favorite Age_at_Shoot_Date  Age_Range\n",
              "391       2019-09-24           25   no  ...       boobs                59      56-60\n",
              "394       2020-01-06           25   no  ...       boobs                22      18-25\n",
              "405       2020-01-31          179  yes  ...       boobs                59      56-60\n",
              "407       2020-01-31           25   no  ...        butt                44      41-45\n",
              "423       2018-04-08           99   no  ...  butt, legs                23      18-25\n",
              "\n",
              "[5 rows x 9 columns]"
            ]
          },
          "metadata": {
            "tags": []
          },
          "execution_count": 112
        }
      ]
    },
    {
      "cell_type": "code",
      "metadata": {
        "id": "qPz4LxOPVjQJ",
        "colab_type": "code",
        "colab": {}
      },
      "source": [
        ""
      ],
      "execution_count": 112,
      "outputs": []
    },
    {
      "cell_type": "code",
      "metadata": {
        "id": "aqaGStKVXku2",
        "colab_type": "code",
        "colab": {
          "base_uri": "https://localhost:8080/",
          "height": 185
        },
        "outputId": "5e57d34f-454f-4924-a841-9ad9088585ba"
      },
      "source": [
        "dnd_highest_sales_df.nunique()"
      ],
      "execution_count": 113,
      "outputs": [
        {
          "output_type": "execute_result",
          "data": {
            "text/plain": [
              "Date_of_PreShoot     60\n",
              "Session_Fee           3\n",
              "Hair                  2\n",
              "DOB                  64\n",
              "zip_code             37\n",
              "Sales_total          21\n",
              "Favorite             17\n",
              "Age_at_Shoot_Date    34\n",
              "Age_Range             9\n",
              "dtype: int64"
            ]
          },
          "metadata": {
            "tags": []
          },
          "execution_count": 113
        }
      ]
    },
    {
      "cell_type": "code",
      "metadata": {
        "id": "n0iKlHIlSp_S",
        "colab_type": "code",
        "colab": {
          "base_uri": "https://localhost:8080/",
          "height": 34
        },
        "outputId": "9b514377-5d7f-4cd3-94a3-25316101acb9"
      },
      "source": [
        "#something is wrong. Why does this include zipcodes with zero count??\n",
        "print(dnd_highest_sales_df[\"zip_code\"].value_counts().sum())\n"
      ],
      "execution_count": 114,
      "outputs": [
        {
          "output_type": "stream",
          "text": [
            "65\n"
          ],
          "name": "stdout"
        }
      ]
    },
    {
      "cell_type": "code",
      "metadata": {
        "id": "MsdWglX4sAKL",
        "colab_type": "code",
        "colab": {
          "base_uri": "https://localhost:8080/",
          "height": 218
        },
        "outputId": "b833c9bc-c21f-4de6-d9ad-b06f65ea2434"
      },
      "source": [
        "dnd_highest_sales_df[\"zip_code\"].tail(10)"
      ],
      "execution_count": 115,
      "outputs": [
        {
          "output_type": "execute_result",
          "data": {
            "text/plain": [
              "344    32223\n",
              "348    32065\n",
              "358    32218\n",
              "364    32226\n",
              "378    32258\n",
              "391    32097\n",
              "394    32046\n",
              "405    31522\n",
              "407    32258\n",
              "423    32244\n",
              "Name: zip_code, dtype: category\n",
              "Categories (76, object): [30354, 31169, 31520, 31522, ..., 32656, 33605, 37217, 78413]"
            ]
          },
          "metadata": {
            "tags": []
          },
          "execution_count": 115
        }
      ]
    },
    {
      "cell_type": "code",
      "metadata": {
        "id": "DRLS6RKlwFnm",
        "colab_type": "code",
        "colab": {
          "base_uri": "https://localhost:8080/",
          "height": 195
        },
        "outputId": "d54e2b22-0b3c-4776-92c8-d5f309a80dab"
      },
      "source": [
        "dnd_highest_sales_df.tail()"
      ],
      "execution_count": 116,
      "outputs": [
        {
          "output_type": "execute_result",
          "data": {
            "text/html": [
              "<div>\n",
              "<style scoped>\n",
              "    .dataframe tbody tr th:only-of-type {\n",
              "        vertical-align: middle;\n",
              "    }\n",
              "\n",
              "    .dataframe tbody tr th {\n",
              "        vertical-align: top;\n",
              "    }\n",
              "\n",
              "    .dataframe thead th {\n",
              "        text-align: right;\n",
              "    }\n",
              "</style>\n",
              "<table border=\"1\" class=\"dataframe\">\n",
              "  <thead>\n",
              "    <tr style=\"text-align: right;\">\n",
              "      <th></th>\n",
              "      <th>Date_of_PreShoot</th>\n",
              "      <th>Session_Fee</th>\n",
              "      <th>Hair</th>\n",
              "      <th>DOB</th>\n",
              "      <th>zip_code</th>\n",
              "      <th>Sales_total</th>\n",
              "      <th>Favorite</th>\n",
              "      <th>Age_at_Shoot_Date</th>\n",
              "      <th>Age_Range</th>\n",
              "    </tr>\n",
              "  </thead>\n",
              "  <tbody>\n",
              "    <tr>\n",
              "      <th>391</th>\n",
              "      <td>2019-09-24</td>\n",
              "      <td>25</td>\n",
              "      <td>no</td>\n",
              "      <td>1959-11-03</td>\n",
              "      <td>32097</td>\n",
              "      <td>1320</td>\n",
              "      <td>boobs</td>\n",
              "      <td>59</td>\n",
              "      <td>56-60</td>\n",
              "    </tr>\n",
              "    <tr>\n",
              "      <th>394</th>\n",
              "      <td>2020-01-06</td>\n",
              "      <td>25</td>\n",
              "      <td>no</td>\n",
              "      <td>1997-10-01</td>\n",
              "      <td>32046</td>\n",
              "      <td>1320</td>\n",
              "      <td>boobs</td>\n",
              "      <td>22</td>\n",
              "      <td>18-25</td>\n",
              "    </tr>\n",
              "    <tr>\n",
              "      <th>405</th>\n",
              "      <td>2020-01-31</td>\n",
              "      <td>179</td>\n",
              "      <td>yes</td>\n",
              "      <td>1960-04-24</td>\n",
              "      <td>31522</td>\n",
              "      <td>1320</td>\n",
              "      <td>boobs</td>\n",
              "      <td>59</td>\n",
              "      <td>56-60</td>\n",
              "    </tr>\n",
              "    <tr>\n",
              "      <th>407</th>\n",
              "      <td>2020-01-31</td>\n",
              "      <td>25</td>\n",
              "      <td>no</td>\n",
              "      <td>1975-06-20</td>\n",
              "      <td>32258</td>\n",
              "      <td>1320</td>\n",
              "      <td>butt</td>\n",
              "      <td>44</td>\n",
              "      <td>41-45</td>\n",
              "    </tr>\n",
              "    <tr>\n",
              "      <th>423</th>\n",
              "      <td>2018-04-08</td>\n",
              "      <td>99</td>\n",
              "      <td>no</td>\n",
              "      <td>1994-06-26</td>\n",
              "      <td>32244</td>\n",
              "      <td>1200</td>\n",
              "      <td>butt, legs</td>\n",
              "      <td>23</td>\n",
              "      <td>18-25</td>\n",
              "    </tr>\n",
              "  </tbody>\n",
              "</table>\n",
              "</div>"
            ],
            "text/plain": [
              "    Date_of_PreShoot  Session_Fee Hair  ...    Favorite Age_at_Shoot_Date  Age_Range\n",
              "391       2019-09-24           25   no  ...       boobs                59      56-60\n",
              "394       2020-01-06           25   no  ...       boobs                22      18-25\n",
              "405       2020-01-31          179  yes  ...       boobs                59      56-60\n",
              "407       2020-01-31           25   no  ...        butt                44      41-45\n",
              "423       2018-04-08           99   no  ...  butt, legs                23      18-25\n",
              "\n",
              "[5 rows x 9 columns]"
            ]
          },
          "metadata": {
            "tags": []
          },
          "execution_count": 116
        }
      ]
    },
    {
      "cell_type": "code",
      "metadata": {
        "id": "JwqzuWrVv9fP",
        "colab_type": "code",
        "colab": {}
      },
      "source": [
        ""
      ],
      "execution_count": 116,
      "outputs": []
    },
    {
      "cell_type": "code",
      "metadata": {
        "id": "E8tjBkeHr6ix",
        "colab_type": "code",
        "colab": {
          "base_uri": "https://localhost:8080/",
          "height": 218
        },
        "outputId": "0ac9056b-6c9a-4568-a754-7cf61fdfa58e"
      },
      "source": [
        "dnd_highest_sales_df[\"zip_code\"].value_counts()"
      ],
      "execution_count": 117,
      "outputs": [
        {
          "output_type": "execute_result",
          "data": {
            "text/plain": [
              "32258    8\n",
              "32224    4\n",
              "32218    4\n",
              "32216    3\n",
              "32211    3\n",
              "        ..\n",
              "32092    0\n",
              "32086    0\n",
              "32084    0\n",
              "32083    0\n",
              "30354    0\n",
              "Name: zip_code, Length: 76, dtype: int64"
            ]
          },
          "metadata": {
            "tags": []
          },
          "execution_count": 117
        }
      ]
    },
    {
      "cell_type": "code",
      "metadata": {
        "id": "Gm7vdNJJvX2A",
        "colab_type": "code",
        "colab": {}
      },
      "source": [
        ""
      ],
      "execution_count": 117,
      "outputs": []
    },
    {
      "cell_type": "code",
      "metadata": {
        "id": "chl6wZyul66P",
        "colab_type": "code",
        "colab": {}
      },
      "source": [
        "import operator"
      ],
      "execution_count": 118,
      "outputs": []
    },
    {
      "cell_type": "code",
      "metadata": {
        "id": "RnY7rWoqYdzo",
        "colab_type": "code",
        "colab": {
          "base_uri": "https://localhost:8080/",
          "height": 1000
        },
        "outputId": "69cc4bda-f472-4531-fc75-cd3233dbe30f"
      },
      "source": [
        "# cond_fav_butt =  [\"butt\" in x for x in dnd_sales_df[\"Favorite\"]] == True\n",
        "# dnd_sales_df.loc[:,\"Favorite\"]\n",
        "# cond_fav_butt = [operator.contains(x, \"butt\") for x in dnd_sales_df.loc[:,\"Favorite\"]] == True\n",
        "\n",
        "for x in dnd_sales_df.loc[:, \"Favorite\"]:\n",
        "  if operator.contains(x, \"butt\"):\n",
        "    print(operator.contains(x, \"butt\"))"
      ],
      "execution_count": 119,
      "outputs": [
        {
          "output_type": "stream",
          "text": [
            "True\n",
            "True\n",
            "True\n",
            "True\n",
            "True\n",
            "True\n",
            "True\n",
            "True\n",
            "True\n",
            "True\n",
            "True\n",
            "True\n",
            "True\n",
            "True\n",
            "True\n",
            "True\n",
            "True\n",
            "True\n",
            "True\n",
            "True\n",
            "True\n",
            "True\n",
            "True\n",
            "True\n",
            "True\n",
            "True\n",
            "True\n",
            "True\n",
            "True\n",
            "True\n",
            "True\n",
            "True\n",
            "True\n",
            "True\n",
            "True\n",
            "True\n",
            "True\n",
            "True\n",
            "True\n",
            "True\n",
            "True\n",
            "True\n",
            "True\n",
            "True\n",
            "True\n",
            "True\n",
            "True\n",
            "True\n",
            "True\n",
            "True\n",
            "True\n",
            "True\n",
            "True\n",
            "True\n",
            "True\n",
            "True\n",
            "True\n",
            "True\n",
            "True\n",
            "True\n",
            "True\n",
            "True\n",
            "True\n",
            "True\n",
            "True\n",
            "True\n",
            "True\n",
            "True\n",
            "True\n",
            "True\n",
            "True\n",
            "True\n",
            "True\n",
            "True\n",
            "True\n",
            "True\n",
            "True\n",
            "True\n",
            "True\n",
            "True\n",
            "True\n",
            "True\n",
            "True\n",
            "True\n",
            "True\n",
            "True\n"
          ],
          "name": "stdout"
        }
      ]
    },
    {
      "cell_type": "code",
      "metadata": {
        "id": "HzbPpgisoJXP",
        "colab_type": "code",
        "colab": {
          "base_uri": "https://localhost:8080/",
          "height": 34
        },
        "outputId": "001ebf69-4194-4833-8e0a-21bc844db65c"
      },
      "source": [
        "print(operator.contains(dnd_sales_df.loc[:,\"Favorite\"], \"butt\"))"
      ],
      "execution_count": 120,
      "outputs": [
        {
          "output_type": "stream",
          "text": [
            "False\n"
          ],
          "name": "stdout"
        }
      ]
    },
    {
      "cell_type": "code",
      "metadata": {
        "id": "tn8zvZp1nfOF",
        "colab_type": "code",
        "colab": {
          "base_uri": "https://localhost:8080/",
          "height": 67
        },
        "outputId": "7c7472cd-8a82-4daf-8860-94ac5928dc83"
      },
      "source": [
        "# Favorite no preference condition\n",
        "cond_no_preference = dnd_sales_df[\"Favorite\"] == \"no preference\"\n",
        "cond_no_preference.value_counts()"
      ],
      "execution_count": 121,
      "outputs": [
        {
          "output_type": "execute_result",
          "data": {
            "text/plain": [
              "False    167\n",
              "True     158\n",
              "Name: Favorite, dtype: int64"
            ]
          },
          "metadata": {
            "tags": []
          },
          "execution_count": 121
        }
      ]
    },
    {
      "cell_type": "code",
      "metadata": {
        "id": "7agtbomBPps1",
        "colab_type": "code",
        "colab": {}
      },
      "source": [
        ""
      ],
      "execution_count": 121,
      "outputs": []
    },
    {
      "cell_type": "code",
      "metadata": {
        "id": "d98BxiQeW2Ps",
        "colab_type": "code",
        "colab": {}
      },
      "source": [
        "# dnd_sales_df[cond_fav_butt]"
      ],
      "execution_count": 122,
      "outputs": []
    },
    {
      "cell_type": "code",
      "metadata": {
        "id": "U4aeIx7XVQ2A",
        "colab_type": "code",
        "colab": {}
      },
      "source": [
        ""
      ],
      "execution_count": 122,
      "outputs": []
    },
    {
      "cell_type": "code",
      "metadata": {
        "id": "Wf_eiuyKkzA6",
        "colab_type": "code",
        "colab": {}
      },
      "source": [
        ""
      ],
      "execution_count": 122,
      "outputs": []
    },
    {
      "cell_type": "code",
      "metadata": {
        "id": "18tkxqqbWrnu",
        "colab_type": "code",
        "colab": {
          "base_uri": "https://localhost:8080/",
          "height": 118
        },
        "outputId": "98a8015c-85c9-41f7-864d-a823fbb701a4"
      },
      "source": [
        "dnd_sales_df[\"Favorite\"].head()"
      ],
      "execution_count": 123,
      "outputs": [
        {
          "output_type": "execute_result",
          "data": {
            "text/plain": [
              "0                butt\n",
              "1          butt, eyes\n",
              "2    eyes, hair, legs\n",
              "3               boobs\n",
              "5                butt\n",
              "Name: Favorite, dtype: object"
            ]
          },
          "metadata": {
            "tags": []
          },
          "execution_count": 123
        }
      ]
    },
    {
      "cell_type": "code",
      "metadata": {
        "id": "ANiNBD8Wkd3e",
        "colab_type": "code",
        "colab": {}
      },
      "source": [
        ""
      ],
      "execution_count": 123,
      "outputs": []
    },
    {
      "cell_type": "code",
      "metadata": {
        "id": "JDW5wGWTXxhE",
        "colab_type": "code",
        "colab": {
          "base_uri": "https://localhost:8080/",
          "height": 185
        },
        "outputId": "ccc188c1-091d-404a-896f-4a621e7e9195"
      },
      "source": [
        "dnd_sales_df.nunique()"
      ],
      "execution_count": 124,
      "outputs": [
        {
          "output_type": "execute_result",
          "data": {
            "text/plain": [
              "Date_of_PreShoot     266\n",
              "Session_Fee            7\n",
              "Hair                   2\n",
              "DOB                  316\n",
              "zip_code              76\n",
              "Sales_total           68\n",
              "Favorite              47\n",
              "Age_at_Shoot_Date     46\n",
              "Age_Range             10\n",
              "dtype: int64"
            ]
          },
          "metadata": {
            "tags": []
          },
          "execution_count": 124
        }
      ]
    },
    {
      "cell_type": "code",
      "metadata": {
        "id": "DN7k3FAXiD9o",
        "colab_type": "code",
        "colab": {
          "base_uri": "https://localhost:8080/",
          "height": 106
        },
        "outputId": "00e9ff6b-4cab-4926-a752-820102becffc"
      },
      "source": [
        "dnd_sales_df.head(2)"
      ],
      "execution_count": 125,
      "outputs": [
        {
          "output_type": "execute_result",
          "data": {
            "text/html": [
              "<div>\n",
              "<style scoped>\n",
              "    .dataframe tbody tr th:only-of-type {\n",
              "        vertical-align: middle;\n",
              "    }\n",
              "\n",
              "    .dataframe tbody tr th {\n",
              "        vertical-align: top;\n",
              "    }\n",
              "\n",
              "    .dataframe thead th {\n",
              "        text-align: right;\n",
              "    }\n",
              "</style>\n",
              "<table border=\"1\" class=\"dataframe\">\n",
              "  <thead>\n",
              "    <tr style=\"text-align: right;\">\n",
              "      <th></th>\n",
              "      <th>Date_of_PreShoot</th>\n",
              "      <th>Session_Fee</th>\n",
              "      <th>Hair</th>\n",
              "      <th>DOB</th>\n",
              "      <th>zip_code</th>\n",
              "      <th>Sales_total</th>\n",
              "      <th>Favorite</th>\n",
              "      <th>Age_at_Shoot_Date</th>\n",
              "      <th>Age_Range</th>\n",
              "    </tr>\n",
              "  </thead>\n",
              "  <tbody>\n",
              "    <tr>\n",
              "      <th>0</th>\n",
              "      <td>2017-01-05</td>\n",
              "      <td>99</td>\n",
              "      <td>yes</td>\n",
              "      <td>1976-05-05</td>\n",
              "      <td>32208</td>\n",
              "      <td>600</td>\n",
              "      <td>butt</td>\n",
              "      <td>40</td>\n",
              "      <td>36-40</td>\n",
              "    </tr>\n",
              "    <tr>\n",
              "      <th>1</th>\n",
              "      <td>2017-11-02</td>\n",
              "      <td>99</td>\n",
              "      <td>yes</td>\n",
              "      <td>1984-10-16</td>\n",
              "      <td>32082</td>\n",
              "      <td>400</td>\n",
              "      <td>butt, eyes</td>\n",
              "      <td>33</td>\n",
              "      <td>31-35</td>\n",
              "    </tr>\n",
              "  </tbody>\n",
              "</table>\n",
              "</div>"
            ],
            "text/plain": [
              "  Date_of_PreShoot  Session_Fee Hair  ...    Favorite Age_at_Shoot_Date  Age_Range\n",
              "0       2017-01-05           99  yes  ...        butt                40      36-40\n",
              "1       2017-11-02           99  yes  ...  butt, eyes                33      31-35\n",
              "\n",
              "[2 rows x 9 columns]"
            ]
          },
          "metadata": {
            "tags": []
          },
          "execution_count": 125
        }
      ]
    },
    {
      "cell_type": "code",
      "metadata": {
        "id": "xgfHvh36iHeQ",
        "colab_type": "code",
        "colab": {}
      },
      "source": [
        ""
      ],
      "execution_count": 125,
      "outputs": []
    },
    {
      "cell_type": "code",
      "metadata": {
        "id": "6LUEYjYdX5G0",
        "colab_type": "code",
        "colab": {
          "base_uri": "https://localhost:8080/",
          "height": 265
        },
        "outputId": "51699090-6c7c-4b5b-ebe0-40b1a6fb4a34"
      },
      "source": [
        "# plot age at histogram\n",
        "\n",
        "plt.hist(dnd_sales_df[\"Age_at_Shoot_Date\"], bins=50)\n",
        "plt.show()"
      ],
      "execution_count": 126,
      "outputs": [
        {
          "output_type": "display_data",
          "data": {
            "image/png": "[encoded data removed]",
            "text/plain": [
              "<Figure size 432x288 with 1 Axes>"
            ]
          },
          "metadata": {
            "tags": [],
            "needs_background": "light"
          }
        }
      ]
    },
    {
      "cell_type": "code",
      "metadata": {
        "id": "099cfB6uf7gU",
        "colab_type": "code",
        "colab": {
          "base_uri": "https://localhost:8080/",
          "height": 301
        },
        "outputId": "54a7404a-e9d0-4add-ec78-0b3a424630d0"
      },
      "source": [
        "# lets try bar here\n",
        "dnd_sales_df[\"Age_Range\"].value_counts(sort=False).plot.bar()\n"
      ],
      "execution_count": 127,
      "outputs": [
        {
          "output_type": "execute_result",
          "data": {
            "text/plain": [
              "<matplotlib.axes._subplots.AxesSubplot at 0x7f8f34ddb780>"
            ]
          },
          "metadata": {
            "tags": []
          },
          "execution_count": 127
        },
        {
          "output_type": "display_data",
          "data": {
            "image/png": "[encoded data removed]",
            "text/plain": [
              "<Figure size 432x288 with 1 Axes>"
            ]
          },
          "metadata": {
            "tags": [],
            "needs_background": "light"
          }
        }
      ]
    },
    {
      "cell_type": "code",
      "metadata": {
        "id": "Zb3AdraJtD1l",
        "colab_type": "code",
        "colab": {
          "base_uri": "https://localhost:8080/",
          "height": 265
        },
        "outputId": "2c972f62-ef71-4402-9106-6204d095e5f9"
      },
      "source": [
        "plt.hist(dnd_sales_df[\"Sales_total\"], bins=40)\n",
        "plt.show()"
      ],
      "execution_count": 128,
      "outputs": [
        {
          "output_type": "display_data",
          "data": {
            "image/png": "[encoded data removed]",
            "text/plain": [
              "<Figure size 432x288 with 1 Axes>"
            ]
          },
          "metadata": {
            "tags": [],
            "needs_background": "light"
          }
        }
      ]
    },
    {
      "cell_type": "code",
      "metadata": {
        "id": "RHzukuLeSIyq",
        "colab_type": "code",
        "colab": {
          "base_uri": "https://localhost:8080/",
          "height": 179
        },
        "outputId": "3bc2fb47-2cb5-4b2d-dd5a-225ab71efbc7"
      },
      "source": [
        "plt.hist(dnd_highest_codes_df[\"Sales_total\"], bins=40)\n",
        "plt.show()"
      ],
      "execution_count": 129,
      "outputs": [
        {
          "output_type": "error",
          "ename": "NameError",
          "evalue": "ignored",
          "traceback": [
            "\u001b[0;31m---------------------------------------------------------------------------\u001b[0m",
            "\u001b[0;31mNameError\u001b[0m                                 Traceback (most recent call last)",
            "\u001b[0;32m<ipython-input-129-5568cb122782>\u001b[0m in \u001b[0;36m<module>\u001b[0;34m()\u001b[0m\n\u001b[0;32m----> 1\u001b[0;31m \u001b[0mplt\u001b[0m\u001b[0;34m.\u001b[0m\u001b[0mhist\u001b[0m\u001b[0;34m(\u001b[0m\u001b[0mdnd_highest_codes_df\u001b[0m\u001b[0;34m[\u001b[0m\u001b[0;34m\"Sales_total\"\u001b[0m\u001b[0;34m]\u001b[0m\u001b[0;34m,\u001b[0m \u001b[0mbins\u001b[0m\u001b[0;34m=\u001b[0m\u001b[0;36m40\u001b[0m\u001b[0;34m)\u001b[0m\u001b[0;34m\u001b[0m\u001b[0;34m\u001b[0m\u001b[0m\n\u001b[0m\u001b[1;32m      2\u001b[0m \u001b[0mplt\u001b[0m\u001b[0;34m.\u001b[0m\u001b[0mshow\u001b[0m\u001b[0;34m(\u001b[0m\u001b[0;34m)\u001b[0m\u001b[0;34m\u001b[0m\u001b[0;34m\u001b[0m\u001b[0m\n",
            "\u001b[0;31mNameError\u001b[0m: name 'dnd_highest_codes_df' is not defined"
          ]
        }
      ]
    },
    {
      "cell_type": "code",
      "metadata": {
        "id": "dFBo-L0sSeyW",
        "colab_type": "code",
        "colab": {}
      },
      "source": [
        ""
      ],
      "execution_count": null,
      "outputs": []
    },
    {
      "cell_type": "code",
      "metadata": {
        "id": "a0BiaWoVW20c",
        "colab_type": "code",
        "colab": {
          "base_uri": "https://localhost:8080/",
          "height": 265
        },
        "outputId": "c2305b3c-effd-4f4f-d0cd-301b06a29fad"
      },
      "source": [
        "# This graph improved I might be able to use\n",
        "# showing: no real correlation between age and sales total\n",
        "plt.scatter(dnd_sales_df[\"Age_at_Shoot_Date\"],dnd_sales_df[\"Sales_total\"], alpha=.3)\n",
        "plt.show()"
      ],
      "execution_count": 134,
      "outputs": [
        {
          "output_type": "display_data",
          "data": {
            "image/png": "[encoded data removed]",
            "text/plain": [
              "<Figure size 432x288 with 1 Axes>"
            ]
          },
          "metadata": {
            "tags": [],
            "needs_background": "light"
          }
        }
      ]
    },
    {
      "cell_type": "code",
      "metadata": {
        "id": "Ct5FWDNden9V",
        "colab_type": "code",
        "colab": {}
      },
      "source": [
        "# This graph is also a maybe, but but I could use a box plot maybe\n",
        "# showing no real correlation - sample size for the latter age group\n",
        "plt.scatter(dnd_sales_df[\"Age_Range\"],dnd_sales_df[\"Sales_total\"], alpha=.1)\n",
        "plt.show()"
      ],
      "execution_count": null,
      "outputs": []
    },
    {
      "cell_type": "code",
      "metadata": {
        "id": "5uPz334JkkWX",
        "colab_type": "code",
        "colab": {
          "base_uri": "https://localhost:8080/",
          "height": 297
        },
        "outputId": "c2e72790-a56f-4e78-931d-593322651be1"
      },
      "source": [
        "# consistent result across Age Ranges but I need\n",
        "ax = dnd_sales_df.boxplot(by=\"Age_Range\", column=\"Sales_total\")\n",
        "ax.set_xlabel('')\n",
        "ax.set_ylabel(\"Total Sales by Age\")\n",
        "plt.suptitle(\"\")"
      ],
      "execution_count": 135,
      "outputs": [
        {
          "output_type": "execute_result",
          "data": {
            "text/plain": [
              "Text(0.5, 0.98, '')"
            ]
          },
          "metadata": {
            "tags": []
          },
          "execution_count": 135
        },
        {
          "output_type": "display_data",
          "data": {
            "image/png": "[encoded data removed]",
            "text/plain": [
              "<Figure size 432x288 with 1 Axes>"
            ]
          },
          "metadata": {
            "tags": [],
            "needs_background": "light"
          }
        }
      ]
    },
    {
      "cell_type": "code",
      "metadata": {
        "id": "M6xf2fNtfJ2Q",
        "colab_type": "code",
        "colab": {}
      },
      "source": [
        "# so I could take the mean sale, with an error bar to show there isn't much\n",
        "# difference .\n",
        "\n",
        "\n",
        "\n",
        "# bring some of my old functions in.  \n"
      ],
      "execution_count": null,
      "outputs": []
    },
    {
      "cell_type": "code",
      "metadata": {
        "id": "B2BIFH8qUY7q",
        "colab_type": "code",
        "colab": {
          "base_uri": "https://localhost:8080/",
          "height": 265
        },
        "outputId": "146ce47b-ccd9-46a8-9ef8-d716d7ab7d90"
      },
      "source": [
        "plt.scatter(dnd_sales_df[\"zip_code\"],dnd_sales_df[\"Sales_total\"], alpha=.3)\n",
        "plt.show()\n",
        "\n",
        "# I need to find a better way to show this graph.  I like that it splits the \n",
        "# sales data geographically, but the level is granularity is too much\n",
        "# change graph of zip code so that codes are vertical\n"
      ],
      "execution_count": 133,
      "outputs": [
        {
          "output_type": "display_data",
          "data": {
            "image/png": "[encoded data removed]",
            "text/plain": [
              "<Figure size 432x288 with 1 Axes>"
            ]
          },
          "metadata": {
            "tags": [],
            "needs_background": "light"
          }
        }
      ]
    },
    {
      "cell_type": "code",
      "metadata": {
        "id": "PIrVfx1HcWwY",
        "colab_type": "code",
        "colab": {}
      },
      "source": [
        "dnd_highest_codes_df[\"zip_code\"].value_counts()"
      ],
      "execution_count": null,
      "outputs": []
    },
    {
      "cell_type": "code",
      "metadata": {
        "id": "20YvitrEutFl",
        "colab_type": "code",
        "colab": {}
      },
      "source": [
        "dnd_highest_codes_df[\"Hair\"].value_counts()"
      ],
      "execution_count": null,
      "outputs": []
    },
    {
      "cell_type": "code",
      "metadata": {
        "id": "6BUblM1JtgW4",
        "colab_type": "code",
        "colab": {}
      },
      "source": [
        "dnd_lowest_codes_df[\"zip_code\"].value_counts()"
      ],
      "execution_count": null,
      "outputs": []
    },
    {
      "cell_type": "code",
      "metadata": {
        "id": "a7MwQ5MXueMh",
        "colab_type": "code",
        "colab": {}
      },
      "source": [
        "dnd_lowest_codes_df[\"Hair\"].value_counts()"
      ],
      "execution_count": null,
      "outputs": []
    },
    {
      "cell_type": "code",
      "metadata": {
        "id": "afpjiGmWup6a",
        "colab_type": "code",
        "colab": {}
      },
      "source": [
        ""
      ],
      "execution_count": null,
      "outputs": []
    },
    {
      "cell_type": "code",
      "metadata": {
        "id": "K6-CvP7duk9L",
        "colab_type": "code",
        "colab": {}
      },
      "source": [
        ""
      ],
      "execution_count": null,
      "outputs": []
    },
    {
      "cell_type": "code",
      "metadata": {
        "id": "kHacmG9aV_9M",
        "colab_type": "code",
        "colab": {}
      },
      "source": [
        "dnd_highest_codes_df[\"zip_code\"].value_counts().plot()"
      ],
      "execution_count": null,
      "outputs": []
    },
    {
      "cell_type": "code",
      "metadata": {
        "id": "_1YGN1I54U60",
        "colab_type": "code",
        "colab": {}
      },
      "source": [
        ""
      ],
      "execution_count": null,
      "outputs": []
    },
    {
      "cell_type": "code",
      "metadata": {
        "id": "cAOQAaGrcE6u",
        "colab_type": "code",
        "colab": {}
      },
      "source": [
        "# cross tab - I will need to bin /cut the Sales sessions to do an evocative crosstab\n",
        "# but I can try it now, just to see\n",
        "# based on this I need to bin the Sales into maybe 5 categories. \n",
        "# and bin the zip codes into 2/4/8 categories\n",
        "\n",
        "cross=pd.crosstab(dnd_sales_df[\"Sales_total\"], dnd_sales_df[\"Hair\"])\n",
        "cross"
      ],
      "execution_count": null,
      "outputs": []
    },
    {
      "cell_type": "code",
      "metadata": {
        "id": "17CfD3dfT-JH",
        "colab_type": "code",
        "colab": {}
      },
      "source": [
        "cross.plot();"
      ],
      "execution_count": null,
      "outputs": []
    },
    {
      "cell_type": "code",
      "metadata": {
        "id": "Z6YnAW6ffSsw",
        "colab_type": "code",
        "colab": {}
      },
      "source": [
        "# lets check the sales data for the hair and no hair groups\n",
        "cond_mu_only = dnd_sales_df[\"Hair\"] == \"no\"\n",
        "cond_wHair = dnd_sales_df[\"Hair\"] == \"yes\"\n",
        "\n",
        "\n",
        "dnd_makeup_only_df = dnd_sales_df[cond_mu_only]\n",
        "dnd_w_hair_df = dnd_sales_df[cond_wHair]"
      ],
      "execution_count": null,
      "outputs": []
    },
    {
      "cell_type": "code",
      "metadata": {
        "id": "Z0QYKOUvksD0",
        "colab_type": "code",
        "colab": {
          "base_uri": "https://localhost:8080/",
          "height": 284
        },
        "outputId": "a4460566-3b71-448d-bd78-06d096144523"
      },
      "source": [
        "dnd_makeup_only_df.describe() # "
      ],
      "execution_count": null,
      "outputs": [
        {
          "output_type": "execute_result",
          "data": {
            "text/html": [
              "<div>\n",
              "<style scoped>\n",
              "    .dataframe tbody tr th:only-of-type {\n",
              "        vertical-align: middle;\n",
              "    }\n",
              "\n",
              "    .dataframe tbody tr th {\n",
              "        vertical-align: top;\n",
              "    }\n",
              "\n",
              "    .dataframe thead th {\n",
              "        text-align: right;\n",
              "    }\n",
              "</style>\n",
              "<table border=\"1\" class=\"dataframe\">\n",
              "  <thead>\n",
              "    <tr style=\"text-align: right;\">\n",
              "      <th></th>\n",
              "      <th>Session_Fee</th>\n",
              "      <th>Sales_total</th>\n",
              "      <th>Age_at_Shoot_Date</th>\n",
              "    </tr>\n",
              "  </thead>\n",
              "  <tbody>\n",
              "    <tr>\n",
              "      <th>count</th>\n",
              "      <td>231.000000</td>\n",
              "      <td>231.000000</td>\n",
              "      <td>231.000000</td>\n",
              "    </tr>\n",
              "    <tr>\n",
              "      <th>mean</th>\n",
              "      <td>92.380952</td>\n",
              "      <td>711.567100</td>\n",
              "      <td>34.662338</td>\n",
              "    </tr>\n",
              "    <tr>\n",
              "      <th>std</th>\n",
              "      <td>42.195223</td>\n",
              "      <td>455.453347</td>\n",
              "      <td>10.877112</td>\n",
              "    </tr>\n",
              "    <tr>\n",
              "      <th>min</th>\n",
              "      <td>0.000000</td>\n",
              "      <td>0.000000</td>\n",
              "      <td>19.000000</td>\n",
              "    </tr>\n",
              "    <tr>\n",
              "      <th>25%</th>\n",
              "      <td>99.000000</td>\n",
              "      <td>515.000000</td>\n",
              "      <td>26.000000</td>\n",
              "    </tr>\n",
              "    <tr>\n",
              "      <th>50%</th>\n",
              "      <td>99.000000</td>\n",
              "      <td>600.000000</td>\n",
              "      <td>33.000000</td>\n",
              "    </tr>\n",
              "    <tr>\n",
              "      <th>75%</th>\n",
              "      <td>99.000000</td>\n",
              "      <td>950.000000</td>\n",
              "      <td>40.000000</td>\n",
              "    </tr>\n",
              "    <tr>\n",
              "      <th>max</th>\n",
              "      <td>249.000000</td>\n",
              "      <td>2730.000000</td>\n",
              "      <td>72.000000</td>\n",
              "    </tr>\n",
              "  </tbody>\n",
              "</table>\n",
              "</div>"
            ],
            "text/plain": [
              "       Session_Fee  Sales_total  Age_at_Shoot_Date\n",
              "count   231.000000   231.000000         231.000000\n",
              "mean     92.380952   711.567100          34.662338\n",
              "std      42.195223   455.453347          10.877112\n",
              "min       0.000000     0.000000          19.000000\n",
              "25%      99.000000   515.000000          26.000000\n",
              "50%      99.000000   600.000000          33.000000\n",
              "75%      99.000000   950.000000          40.000000\n",
              "max     249.000000  2730.000000          72.000000"
            ]
          },
          "metadata": {
            "tags": []
          },
          "execution_count": 455
        }
      ]
    },
    {
      "cell_type": "code",
      "metadata": {
        "id": "ZcZ9yGngkwyL",
        "colab_type": "code",
        "colab": {
          "base_uri": "https://localhost:8080/",
          "height": 284
        },
        "outputId": "9a4b06c8-5969-40df-e8d7-858a63e2c7f6"
      },
      "source": [
        "dnd_w_hair_df.describe() # this result is very interesting.  it implies clients \n",
        "# who get hair done spend and average of $100 more!\n",
        "# plus we work one hour less! and the morale of the team improves because the \n",
        "# stylist gets paid more. \n",
        "\n",
        "# perform a t-test with these two sample / or it might be one sample tests\n",
        "# vs the popuplation.  "
      ],
      "execution_count": null,
      "outputs": [
        {
          "output_type": "execute_result",
          "data": {
            "text/html": [
              "<div>\n",
              "<style scoped>\n",
              "    .dataframe tbody tr th:only-of-type {\n",
              "        vertical-align: middle;\n",
              "    }\n",
              "\n",
              "    .dataframe tbody tr th {\n",
              "        vertical-align: top;\n",
              "    }\n",
              "\n",
              "    .dataframe thead th {\n",
              "        text-align: right;\n",
              "    }\n",
              "</style>\n",
              "<table border=\"1\" class=\"dataframe\">\n",
              "  <thead>\n",
              "    <tr style=\"text-align: right;\">\n",
              "      <th></th>\n",
              "      <th>Session_Fee</th>\n",
              "      <th>Sales_total</th>\n",
              "      <th>Age_at_Shoot_Date</th>\n",
              "    </tr>\n",
              "  </thead>\n",
              "  <tbody>\n",
              "    <tr>\n",
              "      <th>count</th>\n",
              "      <td>94.000000</td>\n",
              "      <td>94.000000</td>\n",
              "      <td>94.000000</td>\n",
              "    </tr>\n",
              "    <tr>\n",
              "      <th>mean</th>\n",
              "      <td>107.180851</td>\n",
              "      <td>803.287234</td>\n",
              "      <td>34.553191</td>\n",
              "    </tr>\n",
              "    <tr>\n",
              "      <th>std</th>\n",
              "      <td>45.255300</td>\n",
              "      <td>518.220438</td>\n",
              "      <td>8.573047</td>\n",
              "    </tr>\n",
              "    <tr>\n",
              "      <th>min</th>\n",
              "      <td>0.000000</td>\n",
              "      <td>0.000000</td>\n",
              "      <td>22.000000</td>\n",
              "    </tr>\n",
              "    <tr>\n",
              "      <th>25%</th>\n",
              "      <td>99.000000</td>\n",
              "      <td>600.000000</td>\n",
              "      <td>28.000000</td>\n",
              "    </tr>\n",
              "    <tr>\n",
              "      <th>50%</th>\n",
              "      <td>99.000000</td>\n",
              "      <td>679.500000</td>\n",
              "      <td>33.000000</td>\n",
              "    </tr>\n",
              "    <tr>\n",
              "      <th>75%</th>\n",
              "      <td>99.000000</td>\n",
              "      <td>1057.500000</td>\n",
              "      <td>39.750000</td>\n",
              "    </tr>\n",
              "    <tr>\n",
              "      <th>max</th>\n",
              "      <td>249.000000</td>\n",
              "      <td>3000.000000</td>\n",
              "      <td>59.000000</td>\n",
              "    </tr>\n",
              "  </tbody>\n",
              "</table>\n",
              "</div>"
            ],
            "text/plain": [
              "       Session_Fee  Sales_total  Age_at_Shoot_Date\n",
              "count    94.000000    94.000000          94.000000\n",
              "mean    107.180851   803.287234          34.553191\n",
              "std      45.255300   518.220438           8.573047\n",
              "min       0.000000     0.000000          22.000000\n",
              "25%      99.000000   600.000000          28.000000\n",
              "50%      99.000000   679.500000          33.000000\n",
              "75%      99.000000  1057.500000          39.750000\n",
              "max     249.000000  3000.000000          59.000000"
            ]
          },
          "metadata": {
            "tags": []
          },
          "execution_count": 456
        }
      ]
    },
    {
      "cell_type": "code",
      "metadata": {
        "id": "VeMECXclVrcR",
        "colab_type": "code",
        "colab": {
          "base_uri": "https://localhost:8080/",
          "height": 34
        },
        "outputId": "784294dd-5493-4193-b01b-f51da3bc6fc9"
      },
      "source": [
        "dnd_sales_df[\"Hair\"].dtype"
      ],
      "execution_count": null,
      "outputs": [
        {
          "output_type": "execute_result",
          "data": {
            "text/plain": [
              "CategoricalDtype(categories=['no', 'yes'], ordered=False)"
            ]
          },
          "metadata": {
            "tags": []
          },
          "execution_count": 489
        }
      ]
    },
    {
      "cell_type": "code",
      "metadata": {
        "id": "UdFg0RnyVxYq",
        "colab_type": "code",
        "colab": {}
      },
      "source": [
        ""
      ],
      "execution_count": null,
      "outputs": []
    },
    {
      "cell_type": "code",
      "metadata": {
        "id": "pVnZ_mwYUYpe",
        "colab_type": "code",
        "colab": {}
      },
      "source": [
        "# pie chart of Makeup vs hair \n",
        "# turn into Df first !!!\n",
        "# Hair value df!\n",
        "dnd_hair_df = pd.DataFrame({\"with_hair_stylist\" :dnd_sales_df[\"Hair\"].value_counts()})\n",
        "\n"
      ],
      "execution_count": null,
      "outputs": []
    },
    {
      "cell_type": "code",
      "metadata": {
        "id": "fP6mV456WyuT",
        "colab_type": "code",
        "colab": {
          "base_uri": "https://localhost:8080/",
          "height": 575
        },
        "outputId": "ddd3a3d2-6e25-4643-8432-d31718f005cd"
      },
      "source": [
        "dnd_hair_df.plot.pie(y=\"with_hair_stylist\", figsize=(10,10))\n",
        "plt.show()"
      ],
      "execution_count": null,
      "outputs": [
        {
          "output_type": "display_data",
          "data": {
            "image/png": "[encoded data removed]",
            "text/plain": [
              "<Figure size 720x720 with 1 Axes>"
            ]
          },
          "metadata": {
            "tags": []
          }
        }
      ]
    },
    {
      "cell_type": "code",
      "metadata": {
        "id": "aHUASSj8XQLO",
        "colab_type": "code",
        "colab": {}
      },
      "source": [
        "\n",
        "def get_confidence_interval(sample, confidence_level):\n",
        "\n",
        "  # in because we like some np functions \n",
        "  # make a np array for our sample\n",
        "  sample_np_array = np.array(sample)\n",
        "\n",
        "  # variables we need for the calculations are \n",
        "  # std_dev, sample size, t-statistic\n",
        "\n",
        "  std_dev = np.std(sample_np_array, ddof=1)\n",
        "  sample_size = sample_np_array.shape[0]\n",
        "\n",
        "  #here's the new one: from scipy stats \n",
        "  # Percent Point Function (Inverse of CDF)\n",
        "  # this value take ?? percent of data that  as a parameter\n",
        "  # does same thing as university of I. applet\n",
        "  tstat = stats.t.ppf(1 - ((1 - confidence_level) / 2), sample_size-1)\n",
        "\n",
        "  # need the sample mean as x_bar\n",
        "  x_bar = np.mean(sample_np_array)\n",
        "\n",
        "  # I need the standard error =\n",
        "  # standard deviation / squareroot of sample size\n",
        "  std_err = (std_dev/np.sqrt(sample_size))\n",
        "\n",
        "  # now I need the Margin of Error\n",
        "  # which is tstat * standard error\n",
        "  moe = tstat*std_err\n",
        "\n",
        "  # then for info purposes lets return the \n",
        "  # lower and upper bounds\n",
        "\n",
        "  lower_bound = x_bar - moe\n",
        "  upper_bound = x_bar + moe\n",
        "\n",
        "  confidence_int = namedtuple(\"confidence_interval\", [\"lower_bound\", \"xbar\",\"upper_bound\",\"moe\", ])\n",
        "\n",
        "  # return (lower_bound, x_bar, upper_bound, moe)\n",
        "  return confidence_int(lower_bound, x_bar, upper_bound, moe)"
      ],
      "execution_count": null,
      "outputs": []
    },
    {
      "cell_type": "code",
      "metadata": {
        "id": "rctlFldFsRtV",
        "colab_type": "code",
        "colab": {}
      },
      "source": [
        "mu_sample_values = get_confidence_interval(dnd_makeup_only_df[\"Sales_total\"], .95)\n",
        "hair_sample_values = get_confidence_interval(dnd_w_hair_df[\"Sales_total\"], .95)"
      ],
      "execution_count": null,
      "outputs": []
    },
    {
      "cell_type": "code",
      "metadata": {
        "id": "zXFV2VjtsMAS",
        "colab_type": "code",
        "colab": {
          "base_uri": "https://localhost:8080/",
          "height": 281
        },
        "outputId": "6edccd95-ee30-480b-bde1-5de96dc58cbc"
      },
      "source": [
        "# this graph I\"m keeping and improving in \n",
        "plt.bar(0, height=mu_sample_values.xbar, yerr=mu_sample_values.moe)\n",
        "plt.bar(1, height=hair_sample_values.xbar, yerr=hair_sample_values.moe)\n",
        "\n",
        "plt.title('Average Sales Session Mu vs Hair')\n",
        "\n",
        "plt.show()"
      ],
      "execution_count": null,
      "outputs": [
        {
          "output_type": "display_data",
          "data": {
            "image/png": "[encoded data removed]",
            "text/plain": [
              "<Figure size 432x288 with 1 Axes>"
            ]
          },
          "metadata": {
            "tags": [],
            "needs_background": "light"
          }
        }
      ]
    },
    {
      "cell_type": "code",
      "metadata": {
        "id": "tNVDI4W15VyW",
        "colab_type": "code",
        "colab": {}
      },
      "source": [
        "from scipy import stats\n"
      ],
      "execution_count": null,
      "outputs": []
    },
    {
      "cell_type": "code",
      "metadata": {
        "id": "wE-5sl9noOmT",
        "colab_type": "code",
        "colab": {
          "base_uri": "https://localhost:8080/",
          "height": 34
        },
        "outputId": "80dbc3b6-0a83-453b-9fe5-21249a2d1e8c"
      },
      "source": [
        "stats.ttest_ind(dnd_makeup_only_df[\"Sales_total\"], dnd_w_hair_df[\"Sales_total\"])"
      ],
      "execution_count": null,
      "outputs": [
        {
          "output_type": "execute_result",
          "data": {
            "text/plain": [
              "Ttest_indResult(statistic=-1.5804058267736067, pvalue=0.11499268514229982)"
            ]
          },
          "metadata": {
            "tags": []
          },
          "execution_count": 454
        }
      ]
    },
    {
      "cell_type": "markdown",
      "metadata": {
        "id": "Z7v_4lKJ-6sf",
        "colab_type": "text"
      },
      "source": [
        "I believe I would interpret these results as:\n",
        "Assuming a 95% confidence level - Based on a tstat of -1.58 and pvalue of approximately .11499,\n",
        "I FAIL to reject the null hypothesis that clients who get make-up only spend the same amount on average as clients who get professional hair and make-up. \n"
      ]
    },
    {
      "cell_type": "code",
      "metadata": {
        "id": "5AkZA65_9TgC",
        "colab_type": "code",
        "colab": {
          "base_uri": "https://localhost:8080/",
          "height": 34
        },
        "outputId": "40c6d3b7-fd28-4ff3-e56b-79ca67490592"
      },
      "source": [
        "# try a one sample ttest\n",
        "dnd_sales_df[\"Sales_total\"].mean()"
      ],
      "execution_count": null,
      "outputs": [
        {
          "output_type": "execute_result",
          "data": {
            "text/plain": [
              "738.0953846153847"
            ]
          },
          "metadata": {
            "tags": []
          },
          "execution_count": 457
        }
      ]
    },
    {
      "cell_type": "code",
      "metadata": {
        "id": "aLVEZJb_9hsQ",
        "colab_type": "code",
        "colab": {
          "base_uri": "https://localhost:8080/",
          "height": 34
        },
        "outputId": "330e8998-25c2-4e8b-a314-8d8c3de42a18"
      },
      "source": [
        "stats.ttest_1samp(dnd_w_hair_df[\"Sales_total\"], 738)"
      ],
      "execution_count": null,
      "outputs": [
        {
          "output_type": "execute_result",
          "data": {
            "text/plain": [
              "Ttest_1sampResult(statistic=1.221455529067876, pvalue=0.22500091941150033)"
            ]
          },
          "metadata": {
            "tags": []
          },
          "execution_count": 458
        }
      ]
    },
    {
      "cell_type": "code",
      "metadata": {
        "id": "rQ9J0hRX9zW_",
        "colab_type": "code",
        "colab": {}
      },
      "source": [
        "# bar and pie chart.  Favorites categories maybe top 10.  \n",
        "print(dnd_sales_df[\"Favorite\"].value_counts().sum())\n",
        "dnd_sales_df[\"Favorite\"].value_counts()\n"
      ],
      "execution_count": null,
      "outputs": []
    },
    {
      "cell_type": "code",
      "metadata": {
        "id": "iVRozuGbQ5do",
        "colab_type": "code",
        "colab": {}
      },
      "source": [
        "# df of preference value counts  \n",
        "dnd_preference_df = pd.DataFrame({\"Preference\" :dnd_sales_df[\"Favorite\"].value_counts()})\n",
        "#top 10 preference\n"
      ],
      "execution_count": null,
      "outputs": []
    },
    {
      "cell_type": "code",
      "metadata": {
        "id": "8t61hFdcZlmg",
        "colab_type": "code",
        "colab": {
          "base_uri": "https://localhost:8080/",
          "height": 352
        },
        "outputId": "33e9a001-61b8-431d-f079-ce2faa2af16c"
      },
      "source": [
        "dnd_preference_df[\"Preference\"].iloc[1:11,].sort_values(ascending=False).plot.bar()\n",
        "#this y axis should be percentages rather can counts"
      ],
      "execution_count": null,
      "outputs": [
        {
          "output_type": "execute_result",
          "data": {
            "text/plain": [
              "<matplotlib.axes._subplots.AxesSubplot at 0x7f61211b1d68>"
            ]
          },
          "metadata": {
            "tags": []
          },
          "execution_count": 503
        },
        {
          "output_type": "display_data",
          "data": {
            "image/png": "[encoded data removed]",
            "text/plain": [
              "<Figure size 432x288 with 1 Axes>"
            ]
          },
          "metadata": {
            "tags": [],
            "needs_background": "light"
          }
        }
      ]
    },
    {
      "cell_type": "code",
      "metadata": {
        "id": "J60mNB0uUAms",
        "colab_type": "code",
        "colab": {}
      },
      "source": [
        ""
      ],
      "execution_count": null,
      "outputs": []
    },
    {
      "cell_type": "code",
      "metadata": {
        "id": "mnWgpE3tSIRV",
        "colab_type": "code",
        "colab": {}
      },
      "source": [
        ""
      ],
      "execution_count": null,
      "outputs": []
    },
    {
      "cell_type": "code",
      "metadata": {
        "id": "42d2tGl79Zw3",
        "colab_type": "code",
        "colab": {}
      },
      "source": [
        ""
      ],
      "execution_count": null,
      "outputs": []
    },
    {
      "cell_type": "code",
      "metadata": {
        "id": "hdNiPHaGSzhH",
        "colab_type": "code",
        "colab": {
          "base_uri": "https://localhost:8080/",
          "height": 283
        },
        "outputId": "d7f343d7-2b02-4caf-d1ef-706b4ca29444"
      },
      "source": [
        "#lets graph the distribution with a histogram\n",
        "\n",
        "plt.hist(x=dnd_df[\"Favorite\"], bins=70)\n",
        "plt.show"
      ],
      "execution_count": null,
      "outputs": [
        {
          "output_type": "execute_result",
          "data": {
            "text/plain": [
              "<function matplotlib.pyplot.show>"
            ]
          },
          "metadata": {
            "tags": []
          },
          "execution_count": 464
        },
        {
          "output_type": "display_data",
          "data": {
            "image/png": "[encoded data removed]",
            "text/plain": [
              "<Figure size 432x288 with 1 Axes>"
            ]
          },
          "metadata": {
            "tags": [],
            "needs_background": "light"
          }
        }
      ]
    },
    {
      "cell_type": "code",
      "metadata": {
        "id": "ZJq260z6czxr",
        "colab_type": "code",
        "colab": {}
      },
      "source": [
        ""
      ],
      "execution_count": null,
      "outputs": []
    },
    {
      "cell_type": "code",
      "metadata": {
        "id": "c9AGHMGBcuqc",
        "colab_type": "code",
        "colab": {}
      },
      "source": [
        ""
      ],
      "execution_count": null,
      "outputs": []
    },
    {
      "cell_type": "code",
      "metadata": {
        "id": "SlqgEgmtU4rC",
        "colab_type": "code",
        "colab": {}
      },
      "source": [
        ""
      ],
      "execution_count": null,
      "outputs": []
    },
    {
      "cell_type": "code",
      "metadata": {
        "id": "pIYA4O3mUjpl",
        "colab_type": "code",
        "colab": {}
      },
      "source": [
        ""
      ],
      "execution_count": null,
      "outputs": []
    },
    {
      "cell_type": "code",
      "metadata": {
        "id": "RoOIVfKUUOyc",
        "colab_type": "code",
        "colab": {}
      },
      "source": [
        ""
      ],
      "execution_count": null,
      "outputs": []
    },
    {
      "cell_type": "code",
      "metadata": {
        "id": "PNOSNQS1TOck",
        "colab_type": "code",
        "colab": {}
      },
      "source": [
        ""
      ],
      "execution_count": null,
      "outputs": []
    },
    {
      "cell_type": "markdown",
      "metadata": {
        "id": "s6zscxAnW_Aa",
        "colab_type": "text"
      },
      "source": [
        "# **Sexy in the City**\n",
        "### Or Can data driven analysis help you stop worrying and increase your hourly wage by $35 while photographing people in undies?\n",
        "\n",
        "  With the rise of social media and cellphones it’s safe to say anyone can consider themselves to be an accomplished amateur photographer.  But while the amateur and hobbyist can point and shoot indiscriminately,  in order to earn a living creating images, the professional must be discerning about what they capture  - and thus the various genre’s of professional photography arrise.  Parsing the topic even further, if your metric is gross income, all photographic genres are not created equal.  Which brings us to the subject of our exploration - a relatively obscure but potentially lucrative niche genre of photography, called Intimate Portraiture, or more commonly known as Boudoir Photography.   If photography studios were restaurant’s, think of the boudoir photo studio as the equivalent of a restaurant that’s only open for lunch or breakfast…in bed. \n",
        "\n",
        "  For this project I was able to source data from the most successful boudoir photography studio in Northeast Florida - a little mom-and-pop shop called Diamonds and Desire Boudoir Photography.    (Link) To put the success of this two person operation in context, the nation wide average hourly wage for professional photography according to ZipRecruiter as of July 20, 2020 was \\$21\\/hour, while the average for northeast florida was \\$19\\/hour.   However D&D Photography averages $80\\/man-hour.  \n",
        "\n",
        "**Chart comparing average hourly.**\n",
        "\n",
        "Although the business had been in operation for over 10 years,  and the studio did have other sources of income(other genres of photography, studio equipment rentals, etc), the data set I was able to source amounted to gross sales totaling a little less than a quarter of a million dollars over a 6 year period.  With that said, the goal of the project was to give 3 data driven, actionable insights, based on an anatomy of the specific business model of Diamonds and Desire.   That business model anatomy was comprised of: Preshoot Consultation(Booking the client), Photoshoot (executing the service),  and Sales Sessions.\n",
        "\n",
        "### Delectable Data left on the table\n",
        "\n",
        "Let’s begin with insight relevant to the Preshoot consultation as this grants further context into the domain in general.  The data for the project was compiled from records of the consultations and records of sales.  So while it does include features like booking date, date of birth, zip code, session fee, and sales total, etc. There were other variables that were almost always revealed due to the nature of the consultation, but not recorded with the proper nuance or consistency: Occasion of shoot( anniversary, birthday, father’s day, valentine’s day, x-mas, or perhaps no occasion!). Being located in a navy town, many of the clients were in the military, or military spouses, but this was not consistently recorded.  Ethnicity and gender, were also not recorded with enough nuance to be useful. From the sales information, the sales total and product quantity/type was documented, but the type of photograph was not categorized in the sales data with enough nuance.  Were the photographs close up, wide shots, black and white, color, high key, or low key?   These are all metrics which could affect the businesses marketing decision and perhaps shooting practices. And once again this is data that was collected and available, but just not recorded suitably.  Therefore I would recommend adding these to the variables recorded going forward.  \n",
        "\n",
        "### “Hmm! I like my …” - anonymous client reaction\n",
        "\n",
        "As for insight regarding the second facet of the business, the actual photoshoot, there was a particular feature extremely relevant to service execution and general success of the business. The “Favorite” variable was defined as which body part the client was most interested in highlighting or having exceptional photographs of.  So it follows that the Favorite feature revealed what most clients expect a boudoir photographer to be good at shooting.  In contrast, while a family photographer would be expected to deliver solid group shots - relying on skill at herding and staging people, a succesful wedding photographer might develop skill at recognizing or staging beautiful moments, a headshot specialist might gather an arsenal of corny jokes.  But in boudoir photography, the data shows, that among clients that have a preference,  the expectation by an almost two to one margin is for exceptional shots of… the booty. \n",
        "\n",
        "**Chart of Favorite values counts**\n",
        "\n",
        " To thrive one must cultivate an appreciation of the booty, in all sizes and shapes - the right wardrobe and posing for the booty, the right angle and lens for the booty.  The bottom line… your corny jokes aren’t going to help, because if you’re going to meet client expectations, it’s literally your job to present the booty in it’s best light.\n",
        "\n",
        "### Too Sexy for my Zip Code?\n",
        "\n",
        "Now it’s time to get to, dare I say, the sexist feature in the data set: Sales Total.  Ideally we’d be able to gather from the data which other feature correlates most closely with a high sales total.  Although there’s a common tendency to be seduced by the notion of wealth and zip code tracking closely,  our data does not support this.  In this business domain zip code does not correlate with a higher sales. \n",
        "\n",
        "Chart of Zip code vs Sales Total\n",
        "\n",
        "Even when we examine the age of the clients and sales records there is still no obvious correlation.  All age ranges tend toward the same mean sales total.\n",
        "\n",
        "**Chart of Age Range vs Sales Total**\n",
        "\n",
        "These were disappointing results as they could have been exploited via marketing.      The quest for the elusive highly correlated feature-pair seemed lost, until we examined one innocuous variable: “Hair.”  This feature was simply a record of whether the photographer was to schedule a professional hairstylist on the day of the shoot.  (Professional make up artist services were included with every shoot.)  The distribution of make-up only clients vs those who chose to pay an additional fee for professional hair styling is illustrated below:\n",
        "\n",
        "**Pie chart Make-up only  vs Hair and Make-up**\n",
        "\n",
        "### Hair Love\n",
        "\n",
        "Surprisingly, when compare to each other the average sales total for a client who opted for a hair stylist was nearly \\$100 more than clients who only received professional makeup.  That is an 11% increase in sales at no expense to the business!  So, clients who had already spent additional money for the service went on to spend even more.  \n",
        "\n",
        "**Chart of Make-up only vs Hair and Make-up mean sales**\n",
        "\n",
        "But the most starling consequence of this discovery was yet to come.  It turns out that since professional hair service takes about 1 hour of the photoshoot time, that is time that the photographer is free to do other things, be it book clients and administrative tasks, or pursue leisure.  In addition, the amount of photos taking during the shoot are a factor of the time spent shooting.  Thus one hour less photos taken reduce the post processing workload and time.  So, where as a shoot with make-up only, may take 9 hours (1 consult, 3 hour shoot, 4 hours post, 1 hour sales) and result in an average sale of \\$711 or \\\\$79\\/hour.  A shoot with make up and professional hair styling will only take 7 hours (1 consult, 2 hour shoot, 3 hours post, 1 hours sales)  and result in an average sale of \\\\\\$803 or \\\\\\$114\\/hour!  An increase of 35  hour! \\*\n",
        "\n",
        "### Conclusion: \n",
        "\n",
        "In summary, this project shows that even a “mom-and-pop shop” small business can gain valuable insights across all aspects their business domain through data analysis.  These insights can  be specific and revelvant to a particular business model and positively effect the bottom line.\n",
        "\n",
        "\\*  A two sample TTest was conducted with the following results: Assuming a 95% confidence level - Based on a tstat of -1.58 and pvalue of approximately .11499, I FAIL to reject the null hypothesis that clients who get make-up only spend the same amount on average as clients who get professional hair and make-up.\n"
      ]
    }
  ]
}