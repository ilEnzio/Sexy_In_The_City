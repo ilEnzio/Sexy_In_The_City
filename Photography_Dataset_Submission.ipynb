{
  "nbformat": 4,
  "nbformat_minor": 0,
  "metadata": {
    "colab": {
      "name": "Photography_Dataset_Submission.ipynb",
      "provenance": [],
      "collapsed_sections": [],
      "include_colab_link": true
    },
    "kernelspec": {
      "name": "python3",
      "display_name": "Python 3"
    }
  },
  "cells": [
    {
      "cell_type": "markdown",
      "metadata": {
        "id": "view-in-github",
        "colab_type": "text"
      },
      "source": [
        "<a href=\"https://colab.research.google.com/github/ilEnzio/Sexy_In_The_City/blob/master/Photography_Dataset_Submission.ipynb\" target=\"_parent\"><img src=\"https://colab.research.google.com/assets/colab-badge.svg\" alt=\"Open In Colab\"/></a>"
      ]
    },
    {
      "cell_type": "code",
      "metadata": {
        "id": "J6d2MFGvqbQT",
        "colab_type": "code",
        "colab": {}
      },
      "source": [
        "import numpy as np\n",
        "import pandas as pd\n",
        "import matplotlib.pyplot as plt"
      ],
      "execution_count": 1,
      "outputs": []
    },
    {
      "cell_type": "code",
      "metadata": {
        "id": "BJoSCvk9QKd-",
        "colab_type": "code",
        "colab": {}
      },
      "source": [
        "dnd_df = pd.read_csv(\"https://raw.githubusercontent.com/ilEnzio/Sexy_In_The_City/master/DND%20data_3.csv\")"
      ],
      "execution_count": 2,
      "outputs": []
    },
    {
      "cell_type": "code",
      "metadata": {
        "id": "zLtXhlRzrJQM",
        "colab_type": "code",
        "colab": {
          "base_uri": "https://localhost:8080/",
          "height": 34
        },
        "outputId": "b7011f3a-bcec-48b6-8b0f-58970474203c"
      },
      "source": [
        "\n",
        "dnd_df.shape"
      ],
      "execution_count": 3,
      "outputs": [
        {
          "output_type": "execute_result",
          "data": {
            "text/plain": [
              "(424, 8)"
            ]
          },
          "metadata": {
            "tags": []
          },
          "execution_count": 3
        }
      ]
    },
    {
      "cell_type": "code",
      "metadata": {
        "id": "uLtiHWjvsAWj",
        "colab_type": "code",
        "colab": {
          "base_uri": "https://localhost:8080/",
          "height": 204
        },
        "outputId": "aaa6658d-970b-45db-e8db-edec21e2b24d"
      },
      "source": [
        "dnd_df.head()"
      ],
      "execution_count": 4,
      "outputs": [
        {
          "output_type": "execute_result",
          "data": {
            "text/html": [
              "<div>\n",
              "<style scoped>\n",
              "    .dataframe tbody tr th:only-of-type {\n",
              "        vertical-align: middle;\n",
              "    }\n",
              "\n",
              "    .dataframe tbody tr th {\n",
              "        vertical-align: top;\n",
              "    }\n",
              "\n",
              "    .dataframe thead th {\n",
              "        text-align: right;\n",
              "    }\n",
              "</style>\n",
              "<table border=\"1\" class=\"dataframe\">\n",
              "  <thead>\n",
              "    <tr style=\"text-align: right;\">\n",
              "      <th></th>\n",
              "      <th>Date_of_PreShoot</th>\n",
              "      <th>Session_Fee</th>\n",
              "      <th>Hair</th>\n",
              "      <th>DOB</th>\n",
              "      <th>zip_code</th>\n",
              "      <th>Sales_total</th>\n",
              "      <th>Model Release</th>\n",
              "      <th>Favorite</th>\n",
              "    </tr>\n",
              "  </thead>\n",
              "  <tbody>\n",
              "    <tr>\n",
              "      <th>0</th>\n",
              "      <td>1/5/2017</td>\n",
              "      <td>99</td>\n",
              "      <td>yes</td>\n",
              "      <td>5/5/1976</td>\n",
              "      <td>32208</td>\n",
              "      <td>600</td>\n",
              "      <td>yes</td>\n",
              "      <td>butt</td>\n",
              "    </tr>\n",
              "    <tr>\n",
              "      <th>1</th>\n",
              "      <td>11/2/2017</td>\n",
              "      <td>99</td>\n",
              "      <td>yes</td>\n",
              "      <td>10/16/1984</td>\n",
              "      <td>32082</td>\n",
              "      <td>400</td>\n",
              "      <td>no</td>\n",
              "      <td>butt, eyes</td>\n",
              "    </tr>\n",
              "    <tr>\n",
              "      <th>2</th>\n",
              "      <td>6/29/2017</td>\n",
              "      <td>99</td>\n",
              "      <td>yes</td>\n",
              "      <td>7/22/1989</td>\n",
              "      <td>32080</td>\n",
              "      <td>320</td>\n",
              "      <td>no</td>\n",
              "      <td>eyes, hair, legs</td>\n",
              "    </tr>\n",
              "    <tr>\n",
              "      <th>3</th>\n",
              "      <td>1/23/2017</td>\n",
              "      <td>99</td>\n",
              "      <td>no</td>\n",
              "      <td>1/23/1971</td>\n",
              "      <td>32208</td>\n",
              "      <td>720</td>\n",
              "      <td>yes</td>\n",
              "      <td>boobs</td>\n",
              "    </tr>\n",
              "    <tr>\n",
              "      <th>4</th>\n",
              "      <td>4/25/2014</td>\n",
              "      <td>99</td>\n",
              "      <td>yes</td>\n",
              "      <td>6/6/1994</td>\n",
              "      <td>32034</td>\n",
              "      <td>NaN</td>\n",
              "      <td>NaN</td>\n",
              "      <td>NaN</td>\n",
              "    </tr>\n",
              "  </tbody>\n",
              "</table>\n",
              "</div>"
            ],
            "text/plain": [
              "  Date_of_PreShoot Session_Fee Hair  ... Sales_total Model Release          Favorite\n",
              "0         1/5/2017          99  yes  ...         600           yes              butt\n",
              "1        11/2/2017          99  yes  ...         400            no        butt, eyes\n",
              "2        6/29/2017          99  yes  ...         320            no  eyes, hair, legs\n",
              "3        1/23/2017          99   no  ...         720           yes             boobs\n",
              "4        4/25/2014          99  yes  ...         NaN           NaN               NaN\n",
              "\n",
              "[5 rows x 8 columns]"
            ]
          },
          "metadata": {
            "tags": []
          },
          "execution_count": 4
        }
      ]
    },
    {
      "cell_type": "code",
      "metadata": {
        "id": "JYgQXk2etRsj",
        "colab_type": "code",
        "colab": {
          "base_uri": "https://localhost:8080/",
          "height": 173
        },
        "outputId": "4f5797ee-049f-4dc0-fb9c-d2f27c7a8f8c"
      },
      "source": [
        "dnd_df.describe()"
      ],
      "execution_count": 5,
      "outputs": [
        {
          "output_type": "execute_result",
          "data": {
            "text/html": [
              "<div>\n",
              "<style scoped>\n",
              "    .dataframe tbody tr th:only-of-type {\n",
              "        vertical-align: middle;\n",
              "    }\n",
              "\n",
              "    .dataframe tbody tr th {\n",
              "        vertical-align: top;\n",
              "    }\n",
              "\n",
              "    .dataframe thead th {\n",
              "        text-align: right;\n",
              "    }\n",
              "</style>\n",
              "<table border=\"1\" class=\"dataframe\">\n",
              "  <thead>\n",
              "    <tr style=\"text-align: right;\">\n",
              "      <th></th>\n",
              "      <th>Date_of_PreShoot</th>\n",
              "      <th>Session_Fee</th>\n",
              "      <th>Hair</th>\n",
              "      <th>DOB</th>\n",
              "      <th>zip_code</th>\n",
              "      <th>Sales_total</th>\n",
              "      <th>Model Release</th>\n",
              "      <th>Favorite</th>\n",
              "    </tr>\n",
              "  </thead>\n",
              "  <tbody>\n",
              "    <tr>\n",
              "      <th>count</th>\n",
              "      <td>422</td>\n",
              "      <td>422</td>\n",
              "      <td>422</td>\n",
              "      <td>423</td>\n",
              "      <td>422</td>\n",
              "      <td>326</td>\n",
              "      <td>324</td>\n",
              "      <td>218</td>\n",
              "    </tr>\n",
              "    <tr>\n",
              "      <th>unique</th>\n",
              "      <td>321</td>\n",
              "      <td>10</td>\n",
              "      <td>4</td>\n",
              "      <td>413</td>\n",
              "      <td>82</td>\n",
              "      <td>69</td>\n",
              "      <td>5</td>\n",
              "      <td>65</td>\n",
              "    </tr>\n",
              "    <tr>\n",
              "      <th>top</th>\n",
              "      <td>10/14/2016</td>\n",
              "      <td>99</td>\n",
              "      <td>no</td>\n",
              "      <td>3/29/1965</td>\n",
              "      <td>32218</td>\n",
              "      <td>600</td>\n",
              "      <td>yes</td>\n",
              "      <td>butt</td>\n",
              "    </tr>\n",
              "    <tr>\n",
              "      <th>freq</th>\n",
              "      <td>4</td>\n",
              "      <td>289</td>\n",
              "      <td>302</td>\n",
              "      <td>2</td>\n",
              "      <td>27</td>\n",
              "      <td>83</td>\n",
              "      <td>211</td>\n",
              "      <td>77</td>\n",
              "    </tr>\n",
              "  </tbody>\n",
              "</table>\n",
              "</div>"
            ],
            "text/plain": [
              "       Date_of_PreShoot Session_Fee Hair  ... Sales_total Model Release Favorite\n",
              "count               422         422  422  ...         326           324      218\n",
              "unique              321          10    4  ...          69             5       65\n",
              "top          10/14/2016          99   no  ...         600           yes     butt\n",
              "freq                  4         289  302  ...          83           211       77\n",
              "\n",
              "[4 rows x 8 columns]"
            ]
          },
          "metadata": {
            "tags": []
          },
          "execution_count": 5
        }
      ]
    },
    {
      "cell_type": "code",
      "metadata": {
        "id": "lw7nzAactkB6",
        "colab_type": "code",
        "colab": {
          "base_uri": "https://localhost:8080/",
          "height": 173
        },
        "outputId": "b298ddcc-2926-4179-ea08-6d0e8a1c126c"
      },
      "source": [
        "dnd_df.describe(exclude=\"number\")"
      ],
      "execution_count": 6,
      "outputs": [
        {
          "output_type": "execute_result",
          "data": {
            "text/html": [
              "<div>\n",
              "<style scoped>\n",
              "    .dataframe tbody tr th:only-of-type {\n",
              "        vertical-align: middle;\n",
              "    }\n",
              "\n",
              "    .dataframe tbody tr th {\n",
              "        vertical-align: top;\n",
              "    }\n",
              "\n",
              "    .dataframe thead th {\n",
              "        text-align: right;\n",
              "    }\n",
              "</style>\n",
              "<table border=\"1\" class=\"dataframe\">\n",
              "  <thead>\n",
              "    <tr style=\"text-align: right;\">\n",
              "      <th></th>\n",
              "      <th>Date_of_PreShoot</th>\n",
              "      <th>Session_Fee</th>\n",
              "      <th>Hair</th>\n",
              "      <th>DOB</th>\n",
              "      <th>zip_code</th>\n",
              "      <th>Sales_total</th>\n",
              "      <th>Model Release</th>\n",
              "      <th>Favorite</th>\n",
              "    </tr>\n",
              "  </thead>\n",
              "  <tbody>\n",
              "    <tr>\n",
              "      <th>count</th>\n",
              "      <td>422</td>\n",
              "      <td>422</td>\n",
              "      <td>422</td>\n",
              "      <td>423</td>\n",
              "      <td>422</td>\n",
              "      <td>326</td>\n",
              "      <td>324</td>\n",
              "      <td>218</td>\n",
              "    </tr>\n",
              "    <tr>\n",
              "      <th>unique</th>\n",
              "      <td>321</td>\n",
              "      <td>10</td>\n",
              "      <td>4</td>\n",
              "      <td>413</td>\n",
              "      <td>82</td>\n",
              "      <td>69</td>\n",
              "      <td>5</td>\n",
              "      <td>65</td>\n",
              "    </tr>\n",
              "    <tr>\n",
              "      <th>top</th>\n",
              "      <td>10/14/2016</td>\n",
              "      <td>99</td>\n",
              "      <td>no</td>\n",
              "      <td>3/29/1965</td>\n",
              "      <td>32218</td>\n",
              "      <td>600</td>\n",
              "      <td>yes</td>\n",
              "      <td>butt</td>\n",
              "    </tr>\n",
              "    <tr>\n",
              "      <th>freq</th>\n",
              "      <td>4</td>\n",
              "      <td>289</td>\n",
              "      <td>302</td>\n",
              "      <td>2</td>\n",
              "      <td>27</td>\n",
              "      <td>83</td>\n",
              "      <td>211</td>\n",
              "      <td>77</td>\n",
              "    </tr>\n",
              "  </tbody>\n",
              "</table>\n",
              "</div>"
            ],
            "text/plain": [
              "       Date_of_PreShoot Session_Fee Hair  ... Sales_total Model Release Favorite\n",
              "count               422         422  422  ...         326           324      218\n",
              "unique              321          10    4  ...          69             5       65\n",
              "top          10/14/2016          99   no  ...         600           yes     butt\n",
              "freq                  4         289  302  ...          83           211       77\n",
              "\n",
              "[4 rows x 8 columns]"
            ]
          },
          "metadata": {
            "tags": []
          },
          "execution_count": 6
        }
      ]
    },
    {
      "cell_type": "code",
      "metadata": {
        "id": "9-zV9mNYtrhS",
        "colab_type": "code",
        "colab": {
          "base_uri": "https://localhost:8080/",
          "height": 68
        },
        "outputId": "9d7ae579-56e5-4f68-839c-6c30a5f4d5c2"
      },
      "source": [
        "dnd_df.columns"
      ],
      "execution_count": 7,
      "outputs": [
        {
          "output_type": "execute_result",
          "data": {
            "text/plain": [
              "Index(['Date_of_PreShoot', 'Session_Fee', 'Hair', 'DOB', 'zip_code',\n",
              "       'Sales_total', 'Model Release', 'Favorite'],\n",
              "      dtype='object')"
            ]
          },
          "metadata": {
            "tags": []
          },
          "execution_count": 7
        }
      ]
    },
    {
      "cell_type": "code",
      "metadata": {
        "id": "MbbVpJvGt3r_",
        "colab_type": "code",
        "colab": {
          "base_uri": "https://localhost:8080/",
          "height": 170
        },
        "outputId": "9883e8db-e6e0-416e-dd19-df5757d9d478"
      },
      "source": [
        "dnd_df.isnull().sum()"
      ],
      "execution_count": 8,
      "outputs": [
        {
          "output_type": "execute_result",
          "data": {
            "text/plain": [
              "Date_of_PreShoot      2\n",
              "Session_Fee           2\n",
              "Hair                  2\n",
              "DOB                   1\n",
              "zip_code              2\n",
              "Sales_total          98\n",
              "Model Release       100\n",
              "Favorite            206\n",
              "dtype: int64"
            ]
          },
          "metadata": {
            "tags": []
          },
          "execution_count": 8
        }
      ]
    },
    {
      "cell_type": "code",
      "metadata": {
        "id": "alxbAUeGSKFU",
        "colab_type": "code",
        "colab": {
          "base_uri": "https://localhost:8080/",
          "height": 221
        },
        "outputId": "905ae35d-2f3b-466a-fb4d-e320cc1564f6"
      },
      "source": [
        "# lets check out the Favorite feature\n",
        "dnd_df[\"Favorite\"].value_counts()"
      ],
      "execution_count": 9,
      "outputs": [
        {
          "output_type": "execute_result",
          "data": {
            "text/plain": [
              "butt                 77\n",
              "boobs                37\n",
              "legs                 12\n",
              "eyes                  9\n",
              "butt, eyes            8\n",
              "                     ..\n",
              "back, eyes            1\n",
              "butt, curves          1\n",
              "waist                 1\n",
              "abs                   1\n",
              "boobs, eyes, lips     1\n",
              "Name: Favorite, Length: 65, dtype: int64"
            ]
          },
          "metadata": {
            "tags": []
          },
          "execution_count": 9
        }
      ]
    },
    {
      "cell_type": "code",
      "metadata": {
        "id": "lWVDWEtdVpAX",
        "colab_type": "code",
        "colab": {}
      },
      "source": [
        "dnd_df.loc[:, \"Favorite\"] = dnd_df.loc[:,\"Favorite\"].replace(to_replace=np.NaN, value=\"no preference\")"
      ],
      "execution_count": 10,
      "outputs": []
    },
    {
      "cell_type": "code",
      "metadata": {
        "id": "ppg9iJlFWesE",
        "colab_type": "code",
        "colab": {
          "base_uri": "https://localhost:8080/",
          "height": 170
        },
        "outputId": "0fe0bb44-0abc-4b2a-983e-4f92f5feebd7"
      },
      "source": [
        "dnd_df.isnull().sum()"
      ],
      "execution_count": 11,
      "outputs": [
        {
          "output_type": "execute_result",
          "data": {
            "text/plain": [
              "Date_of_PreShoot      2\n",
              "Session_Fee           2\n",
              "Hair                  2\n",
              "DOB                   1\n",
              "zip_code              2\n",
              "Sales_total          98\n",
              "Model Release       100\n",
              "Favorite              0\n",
              "dtype: int64"
            ]
          },
          "metadata": {
            "tags": []
          },
          "execution_count": 11
        }
      ]
    },
    {
      "cell_type": "code",
      "metadata": {
        "id": "Nf9NUJ4JZ1lf",
        "colab_type": "code",
        "colab": {
          "base_uri": "https://localhost:8080/",
          "height": 221
        },
        "outputId": "67ccc04c-aaad-4ea6-8128-db472bacaf08"
      },
      "source": [
        "dnd_df[\"Sales_total\"].dropna()"
      ],
      "execution_count": 12,
      "outputs": [
        {
          "output_type": "execute_result",
          "data": {
            "text/plain": [
              "0       600\n",
              "1       400\n",
              "2       320\n",
              "3       720\n",
              "5      1320\n",
              "       ... \n",
              "414     160\n",
              "419     720\n",
              "421     600\n",
              "422     750\n",
              "423    1200\n",
              "Name: Sales_total, Length: 326, dtype: object"
            ]
          },
          "metadata": {
            "tags": []
          },
          "execution_count": 12
        }
      ]
    },
    {
      "cell_type": "code",
      "metadata": {
        "id": "LM8GOoPiW2x4",
        "colab_type": "code",
        "colab": {}
      },
      "source": [
        "# drop the rows where sale is Nan\n",
        "# create a condition where sales is nan \n",
        "# drop those rows\n",
        "\n",
        "# no_sales_condition = dnd_df[\"Sales_total\"][:] == np.NaN"
      ],
      "execution_count": 13,
      "outputs": []
    },
    {
      "cell_type": "code",
      "metadata": {
        "id": "CBpLnt5dhRoP",
        "colab_type": "code",
        "colab": {}
      },
      "source": [
        "dnd_sales_df =dnd_df.dropna(subset=[\"Sales_total\"])"
      ],
      "execution_count": 14,
      "outputs": []
    },
    {
      "cell_type": "code",
      "metadata": {
        "id": "RxykuyiFp7Pj",
        "colab_type": "code",
        "colab": {}
      },
      "source": [
        ""
      ],
      "execution_count": 14,
      "outputs": []
    },
    {
      "cell_type": "code",
      "metadata": {
        "id": "E6twtxhkgwHA",
        "colab_type": "code",
        "colab": {
          "base_uri": "https://localhost:8080/",
          "height": 34
        },
        "outputId": "020b4a04-e55a-4b71-c6ba-9ae98fa08987"
      },
      "source": [
        "dnd_df.shape"
      ],
      "execution_count": 15,
      "outputs": [
        {
          "output_type": "execute_result",
          "data": {
            "text/plain": [
              "(424, 8)"
            ]
          },
          "metadata": {
            "tags": []
          },
          "execution_count": 15
        }
      ]
    },
    {
      "cell_type": "code",
      "metadata": {
        "id": "FznZmhRXha37",
        "colab_type": "code",
        "colab": {
          "base_uri": "https://localhost:8080/",
          "height": 34
        },
        "outputId": "1b1ab589-eb39-4b17-e594-0664cdb66e1b"
      },
      "source": [
        "dnd_sales_df.shape"
      ],
      "execution_count": 16,
      "outputs": [
        {
          "output_type": "execute_result",
          "data": {
            "text/plain": [
              "(326, 8)"
            ]
          },
          "metadata": {
            "tags": []
          },
          "execution_count": 16
        }
      ]
    },
    {
      "cell_type": "code",
      "metadata": {
        "id": "xHzOF3aJp-uY",
        "colab_type": "code",
        "colab": {
          "base_uri": "https://localhost:8080/",
          "height": 170
        },
        "outputId": "a74d81c5-888d-4b60-d7d0-54023b47f0d1"
      },
      "source": [
        "dnd_sales_df.isnull().sum()"
      ],
      "execution_count": 17,
      "outputs": [
        {
          "output_type": "execute_result",
          "data": {
            "text/plain": [
              "Date_of_PreShoot    2\n",
              "Session_Fee         2\n",
              "Hair                2\n",
              "DOB                 1\n",
              "zip_code            0\n",
              "Sales_total         0\n",
              "Model Release       8\n",
              "Favorite            0\n",
              "dtype: int64"
            ]
          },
          "metadata": {
            "tags": []
          },
          "execution_count": 17
        }
      ]
    },
    {
      "cell_type": "code",
      "metadata": {
        "id": "GP-R0MhnqC7A",
        "colab_type": "code",
        "colab": {
          "base_uri": "https://localhost:8080/",
          "height": 272
        },
        "outputId": "4b6ba45b-e133-4351-806a-e456cf03c6c8"
      },
      "source": [
        "dnd_sales_df.info()"
      ],
      "execution_count": 18,
      "outputs": [
        {
          "output_type": "stream",
          "text": [
            "<class 'pandas.core.frame.DataFrame'>\n",
            "Int64Index: 326 entries, 0 to 423\n",
            "Data columns (total 8 columns):\n",
            " #   Column            Non-Null Count  Dtype \n",
            "---  ------            --------------  ----- \n",
            " 0   Date_of_PreShoot  324 non-null    object\n",
            " 1   Session_Fee       324 non-null    object\n",
            " 2   Hair              324 non-null    object\n",
            " 3   DOB               325 non-null    object\n",
            " 4   zip_code          326 non-null    object\n",
            " 5   Sales_total       326 non-null    object\n",
            " 6   Model Release     318 non-null    object\n",
            " 7   Favorite          326 non-null    object\n",
            "dtypes: object(8)\n",
            "memory usage: 22.9+ KB\n"
          ],
          "name": "stdout"
        }
      ]
    },
    {
      "cell_type": "code",
      "metadata": {
        "id": "AsXL4QKBtiwO",
        "colab_type": "code",
        "colab": {
          "base_uri": "https://localhost:8080/",
          "height": 359
        },
        "outputId": "36e47bb0-c8d9-4ab8-9db1-3a28e057ad8e"
      },
      "source": [
        "dnd_sales_df.head(10)"
      ],
      "execution_count": 19,
      "outputs": [
        {
          "output_type": "execute_result",
          "data": {
            "text/html": [
              "<div>\n",
              "<style scoped>\n",
              "    .dataframe tbody tr th:only-of-type {\n",
              "        vertical-align: middle;\n",
              "    }\n",
              "\n",
              "    .dataframe tbody tr th {\n",
              "        vertical-align: top;\n",
              "    }\n",
              "\n",
              "    .dataframe thead th {\n",
              "        text-align: right;\n",
              "    }\n",
              "</style>\n",
              "<table border=\"1\" class=\"dataframe\">\n",
              "  <thead>\n",
              "    <tr style=\"text-align: right;\">\n",
              "      <th></th>\n",
              "      <th>Date_of_PreShoot</th>\n",
              "      <th>Session_Fee</th>\n",
              "      <th>Hair</th>\n",
              "      <th>DOB</th>\n",
              "      <th>zip_code</th>\n",
              "      <th>Sales_total</th>\n",
              "      <th>Model Release</th>\n",
              "      <th>Favorite</th>\n",
              "    </tr>\n",
              "  </thead>\n",
              "  <tbody>\n",
              "    <tr>\n",
              "      <th>0</th>\n",
              "      <td>1/5/2017</td>\n",
              "      <td>99</td>\n",
              "      <td>yes</td>\n",
              "      <td>5/5/1976</td>\n",
              "      <td>32208</td>\n",
              "      <td>600</td>\n",
              "      <td>yes</td>\n",
              "      <td>butt</td>\n",
              "    </tr>\n",
              "    <tr>\n",
              "      <th>1</th>\n",
              "      <td>11/2/2017</td>\n",
              "      <td>99</td>\n",
              "      <td>yes</td>\n",
              "      <td>10/16/1984</td>\n",
              "      <td>32082</td>\n",
              "      <td>400</td>\n",
              "      <td>no</td>\n",
              "      <td>butt, eyes</td>\n",
              "    </tr>\n",
              "    <tr>\n",
              "      <th>2</th>\n",
              "      <td>6/29/2017</td>\n",
              "      <td>99</td>\n",
              "      <td>yes</td>\n",
              "      <td>7/22/1989</td>\n",
              "      <td>32080</td>\n",
              "      <td>320</td>\n",
              "      <td>no</td>\n",
              "      <td>eyes, hair, legs</td>\n",
              "    </tr>\n",
              "    <tr>\n",
              "      <th>3</th>\n",
              "      <td>1/23/2017</td>\n",
              "      <td>99</td>\n",
              "      <td>no</td>\n",
              "      <td>1/23/1971</td>\n",
              "      <td>32208</td>\n",
              "      <td>720</td>\n",
              "      <td>yes</td>\n",
              "      <td>boobs</td>\n",
              "    </tr>\n",
              "    <tr>\n",
              "      <th>5</th>\n",
              "      <td>9/14/2014</td>\n",
              "      <td>99</td>\n",
              "      <td>yes</td>\n",
              "      <td>11/3/1982</td>\n",
              "      <td>32257</td>\n",
              "      <td>1320</td>\n",
              "      <td>no</td>\n",
              "      <td>butt</td>\n",
              "    </tr>\n",
              "    <tr>\n",
              "      <th>6</th>\n",
              "      <td>9/5/2017</td>\n",
              "      <td>99</td>\n",
              "      <td>no</td>\n",
              "      <td>1/24/1996</td>\n",
              "      <td>32246</td>\n",
              "      <td>0</td>\n",
              "      <td>yes</td>\n",
              "      <td>eyes</td>\n",
              "    </tr>\n",
              "    <tr>\n",
              "      <th>7</th>\n",
              "      <td>8/14/2015</td>\n",
              "      <td>179</td>\n",
              "      <td>no</td>\n",
              "      <td>8/29/1977</td>\n",
              "      <td>32221</td>\n",
              "      <td>240</td>\n",
              "      <td>no</td>\n",
              "      <td>no preference</td>\n",
              "    </tr>\n",
              "    <tr>\n",
              "      <th>9</th>\n",
              "      <td>3/5/2015</td>\n",
              "      <td>99</td>\n",
              "      <td>yes</td>\n",
              "      <td>9/7/1979</td>\n",
              "      <td>32277</td>\n",
              "      <td>720</td>\n",
              "      <td>yes</td>\n",
              "      <td>boobs</td>\n",
              "    </tr>\n",
              "    <tr>\n",
              "      <th>10</th>\n",
              "      <td>1/21/2015</td>\n",
              "      <td>99</td>\n",
              "      <td>yes</td>\n",
              "      <td>8/4/1988</td>\n",
              "      <td>32258</td>\n",
              "      <td>680</td>\n",
              "      <td>yes</td>\n",
              "      <td>eyes</td>\n",
              "    </tr>\n",
              "    <tr>\n",
              "      <th>12</th>\n",
              "      <td>9/27/2014</td>\n",
              "      <td>99</td>\n",
              "      <td>no</td>\n",
              "      <td>11/10/1969</td>\n",
              "      <td>32216</td>\n",
              "      <td>600</td>\n",
              "      <td>yes</td>\n",
              "      <td>no preference</td>\n",
              "    </tr>\n",
              "  </tbody>\n",
              "</table>\n",
              "</div>"
            ],
            "text/plain": [
              "   Date_of_PreShoot Session_Fee  ... Model Release          Favorite\n",
              "0          1/5/2017          99  ...           yes              butt\n",
              "1         11/2/2017          99  ...            no        butt, eyes\n",
              "2         6/29/2017          99  ...            no  eyes, hair, legs\n",
              "3         1/23/2017          99  ...           yes             boobs\n",
              "5         9/14/2014          99  ...            no              butt\n",
              "6          9/5/2017          99  ...           yes              eyes\n",
              "7         8/14/2015         179  ...            no     no preference\n",
              "9          3/5/2015          99  ...           yes             boobs\n",
              "10        1/21/2015          99  ...           yes              eyes\n",
              "12        9/27/2014          99  ...           yes     no preference\n",
              "\n",
              "[10 rows x 8 columns]"
            ]
          },
          "metadata": {
            "tags": []
          },
          "execution_count": 19
        }
      ]
    },
    {
      "cell_type": "code",
      "metadata": {
        "id": "IgTqJkc8CPjJ",
        "colab_type": "code",
        "colab": {
          "base_uri": "https://localhost:8080/",
          "height": 34
        },
        "outputId": "7d985b6f-13b8-41f9-b518-3754f71bb1cc"
      },
      "source": [
        "dnd_sales_df[\"Sales_total\"].nunique()"
      ],
      "execution_count": 20,
      "outputs": [
        {
          "output_type": "execute_result",
          "data": {
            "text/plain": [
              "69"
            ]
          },
          "metadata": {
            "tags": []
          },
          "execution_count": 20
        }
      ]
    },
    {
      "cell_type": "code",
      "metadata": {
        "id": "-Sy_4pWvCXsw",
        "colab_type": "code",
        "colab": {}
      },
      "source": [
        ""
      ],
      "execution_count": 20,
      "outputs": []
    },
    {
      "cell_type": "code",
      "metadata": {
        "id": "5sURDSi4tk9x",
        "colab_type": "code",
        "colab": {}
      },
      "source": [
        "# try converting to str, then to int\n",
        "# test= dnd_sales_df[\"Sales_total\"].astype(str).astype(int)\n",
        "# test"
      ],
      "execution_count": 21,
      "outputs": []
    },
    {
      "cell_type": "code",
      "metadata": {
        "id": "cLlMf_0nujJj",
        "colab_type": "code",
        "colab": {}
      },
      "source": [
        "# find this 866.7...\n",
        "cond = dnd_sales_df[\"Sales_total\"] == \"866.7\""
      ],
      "execution_count": 22,
      "outputs": []
    },
    {
      "cell_type": "code",
      "metadata": {
        "id": "xf5tiO2X77ak",
        "colab_type": "code",
        "colab": {
          "base_uri": "https://localhost:8080/",
          "height": 80
        },
        "outputId": "4af35a7d-fefb-402c-df67-28d4abb42e6a"
      },
      "source": [
        "temp_df = dnd_sales_df[cond]\n",
        "temp_df"
      ],
      "execution_count": 23,
      "outputs": [
        {
          "output_type": "execute_result",
          "data": {
            "text/html": [
              "<div>\n",
              "<style scoped>\n",
              "    .dataframe tbody tr th:only-of-type {\n",
              "        vertical-align: middle;\n",
              "    }\n",
              "\n",
              "    .dataframe tbody tr th {\n",
              "        vertical-align: top;\n",
              "    }\n",
              "\n",
              "    .dataframe thead th {\n",
              "        text-align: right;\n",
              "    }\n",
              "</style>\n",
              "<table border=\"1\" class=\"dataframe\">\n",
              "  <thead>\n",
              "    <tr style=\"text-align: right;\">\n",
              "      <th></th>\n",
              "      <th>Date_of_PreShoot</th>\n",
              "      <th>Session_Fee</th>\n",
              "      <th>Hair</th>\n",
              "      <th>DOB</th>\n",
              "      <th>zip_code</th>\n",
              "      <th>Sales_total</th>\n",
              "      <th>Model Release</th>\n",
              "      <th>Favorite</th>\n",
              "    </tr>\n",
              "  </thead>\n",
              "  <tbody>\n",
              "    <tr>\n",
              "      <th>133</th>\n",
              "      <td>8/2/2013</td>\n",
              "      <td>99</td>\n",
              "      <td>no</td>\n",
              "      <td>10/5/1980</td>\n",
              "      <td>32218</td>\n",
              "      <td>866.7</td>\n",
              "      <td>yes</td>\n",
              "      <td>no preference</td>\n",
              "    </tr>\n",
              "  </tbody>\n",
              "</table>\n",
              "</div>"
            ],
            "text/plain": [
              "    Date_of_PreShoot Session_Fee Hair  ... Sales_total Model Release       Favorite\n",
              "133         8/2/2013          99   no  ...       866.7           yes  no preference\n",
              "\n",
              "[1 rows x 8 columns]"
            ]
          },
          "metadata": {
            "tags": []
          },
          "execution_count": 23
        }
      ]
    },
    {
      "cell_type": "code",
      "metadata": {
        "id": "Ho8JPn8I8BXn",
        "colab_type": "code",
        "colab": {
          "base_uri": "https://localhost:8080/",
          "height": 204
        },
        "outputId": "99b918d8-e818-4221-981c-42a7fd73c50a"
      },
      "source": [
        "dnd_sales_df.loc[133, \"Sales_total\"] = 860\n",
        "dnd_sales_df.loc[133, \"Sales_total\"] "
      ],
      "execution_count": 24,
      "outputs": [
        {
          "output_type": "stream",
          "text": [
            "/usr/local/lib/python3.6/dist-packages/pandas/core/indexing.py:671: SettingWithCopyWarning: \n",
            "A value is trying to be set on a copy of a slice from a DataFrame\n",
            "\n",
            "See the caveats in the documentation: https://pandas.pydata.org/pandas-docs/stable/user_guide/indexing.html#returning-a-view-versus-a-copy\n",
            "  self._setitem_with_indexer(indexer, value)\n",
            "/usr/local/lib/python3.6/dist-packages/ipykernel_launcher.py:1: SettingWithCopyWarning: \n",
            "A value is trying to be set on a copy of a slice from a DataFrame\n",
            "\n",
            "See the caveats in the documentation: https://pandas.pydata.org/pandas-docs/stable/user_guide/indexing.html#returning-a-view-versus-a-copy\n",
            "  \"\"\"Entry point for launching an IPython kernel.\n"
          ],
          "name": "stderr"
        },
        {
          "output_type": "execute_result",
          "data": {
            "text/plain": [
              "860"
            ]
          },
          "metadata": {
            "tags": []
          },
          "execution_count": 24
        }
      ]
    },
    {
      "cell_type": "code",
      "metadata": {
        "id": "fxl0sfMT8vkz",
        "colab_type": "code",
        "colab": {}
      },
      "source": [
        "# try again now that I got rid of decimal \n",
        "# test= dnd_sales_df[\"Sales_total\"].astype(str).astype(int)\n",
        "# test\n"
      ],
      "execution_count": 25,
      "outputs": []
    },
    {
      "cell_type": "code",
      "metadata": {
        "id": "D1sLEHoo9vuJ",
        "colab_type": "code",
        "colab": {
          "base_uri": "https://localhost:8080/",
          "height": 80
        },
        "outputId": "b6da929f-a1ff-4b61-cf26-b823e128ba1b"
      },
      "source": [
        "# so now maybe there is a space?\n",
        "cond2 = dnd_sales_df[\"Sales_total\"] == \" \"\n",
        "dnd_sales_df[cond2]"
      ],
      "execution_count": 26,
      "outputs": [
        {
          "output_type": "execute_result",
          "data": {
            "text/html": [
              "<div>\n",
              "<style scoped>\n",
              "    .dataframe tbody tr th:only-of-type {\n",
              "        vertical-align: middle;\n",
              "    }\n",
              "\n",
              "    .dataframe tbody tr th {\n",
              "        vertical-align: top;\n",
              "    }\n",
              "\n",
              "    .dataframe thead th {\n",
              "        text-align: right;\n",
              "    }\n",
              "</style>\n",
              "<table border=\"1\" class=\"dataframe\">\n",
              "  <thead>\n",
              "    <tr style=\"text-align: right;\">\n",
              "      <th></th>\n",
              "      <th>Date_of_PreShoot</th>\n",
              "      <th>Session_Fee</th>\n",
              "      <th>Hair</th>\n",
              "      <th>DOB</th>\n",
              "      <th>zip_code</th>\n",
              "      <th>Sales_total</th>\n",
              "      <th>Model Release</th>\n",
              "      <th>Favorite</th>\n",
              "    </tr>\n",
              "  </thead>\n",
              "  <tbody>\n",
              "    <tr>\n",
              "      <th>222</th>\n",
              "      <td>10/21/2014</td>\n",
              "      <td>99</td>\n",
              "      <td>yes</td>\n",
              "      <td>11/29/1969</td>\n",
              "      <td>32073</td>\n",
              "      <td></td>\n",
              "      <td></td>\n",
              "      <td>no preference</td>\n",
              "    </tr>\n",
              "  </tbody>\n",
              "</table>\n",
              "</div>"
            ],
            "text/plain": [
              "    Date_of_PreShoot Session_Fee Hair  ... Sales_total Model Release       Favorite\n",
              "222       10/21/2014          99  yes  ...                            no preference\n",
              "\n",
              "[1 rows x 8 columns]"
            ]
          },
          "metadata": {
            "tags": []
          },
          "execution_count": 26
        }
      ]
    },
    {
      "cell_type": "code",
      "metadata": {
        "id": "9ESZGywE94HB",
        "colab_type": "code",
        "colab": {}
      },
      "source": [
        "# lets drop this row...\n",
        "\n",
        "dnd_sales_df = dnd_sales_df.drop(labels=222)\n"
      ],
      "execution_count": 27,
      "outputs": []
    },
    {
      "cell_type": "code",
      "metadata": {
        "id": "Tlyx5UJRASm3",
        "colab_type": "code",
        "colab": {
          "base_uri": "https://localhost:8080/",
          "height": 103
        },
        "outputId": "72694a61-e8c4-4ad0-f4fb-eeb737e7d458"
      },
      "source": [
        "# see if 222 is there\n",
        "dnd_sales_df[cond2]"
      ],
      "execution_count": 28,
      "outputs": [
        {
          "output_type": "stream",
          "text": [
            "/usr/local/lib/python3.6/dist-packages/ipykernel_launcher.py:2: UserWarning: Boolean Series key will be reindexed to match DataFrame index.\n",
            "  \n"
          ],
          "name": "stderr"
        },
        {
          "output_type": "execute_result",
          "data": {
            "text/html": [
              "<div>\n",
              "<style scoped>\n",
              "    .dataframe tbody tr th:only-of-type {\n",
              "        vertical-align: middle;\n",
              "    }\n",
              "\n",
              "    .dataframe tbody tr th {\n",
              "        vertical-align: top;\n",
              "    }\n",
              "\n",
              "    .dataframe thead th {\n",
              "        text-align: right;\n",
              "    }\n",
              "</style>\n",
              "<table border=\"1\" class=\"dataframe\">\n",
              "  <thead>\n",
              "    <tr style=\"text-align: right;\">\n",
              "      <th></th>\n",
              "      <th>Date_of_PreShoot</th>\n",
              "      <th>Session_Fee</th>\n",
              "      <th>Hair</th>\n",
              "      <th>DOB</th>\n",
              "      <th>zip_code</th>\n",
              "      <th>Sales_total</th>\n",
              "      <th>Model Release</th>\n",
              "      <th>Favorite</th>\n",
              "    </tr>\n",
              "  </thead>\n",
              "  <tbody>\n",
              "  </tbody>\n",
              "</table>\n",
              "</div>"
            ],
            "text/plain": [
              "Empty DataFrame\n",
              "Columns: [Date_of_PreShoot, Session_Fee, Hair, DOB, zip_code, Sales_total, Model Release, Favorite]\n",
              "Index: []"
            ]
          },
          "metadata": {
            "tags": []
          },
          "execution_count": 28
        }
      ]
    },
    {
      "cell_type": "code",
      "metadata": {
        "id": "3569nW9YAnmY",
        "colab_type": "code",
        "colab": {
          "base_uri": "https://localhost:8080/",
          "height": 297
        },
        "outputId": "460fc651-65a5-4087-f22c-63d981ca28b6"
      },
      "source": [
        "#perfect so far; try to convert one more time \n",
        "dnd_sales_df[\"Sales_total\"]= dnd_sales_df[\"Sales_total\"].astype(str).astype(int)\n",
        "dnd_sales_df.describe()"
      ],
      "execution_count": 29,
      "outputs": [
        {
          "output_type": "execute_result",
          "data": {
            "text/html": [
              "<div>\n",
              "<style scoped>\n",
              "    .dataframe tbody tr th:only-of-type {\n",
              "        vertical-align: middle;\n",
              "    }\n",
              "\n",
              "    .dataframe tbody tr th {\n",
              "        vertical-align: top;\n",
              "    }\n",
              "\n",
              "    .dataframe thead th {\n",
              "        text-align: right;\n",
              "    }\n",
              "</style>\n",
              "<table border=\"1\" class=\"dataframe\">\n",
              "  <thead>\n",
              "    <tr style=\"text-align: right;\">\n",
              "      <th></th>\n",
              "      <th>Sales_total</th>\n",
              "    </tr>\n",
              "  </thead>\n",
              "  <tbody>\n",
              "    <tr>\n",
              "      <th>count</th>\n",
              "      <td>325.000000</td>\n",
              "    </tr>\n",
              "    <tr>\n",
              "      <th>mean</th>\n",
              "      <td>738.095385</td>\n",
              "    </tr>\n",
              "    <tr>\n",
              "      <th>std</th>\n",
              "      <td>475.472871</td>\n",
              "    </tr>\n",
              "    <tr>\n",
              "      <th>min</th>\n",
              "      <td>0.000000</td>\n",
              "    </tr>\n",
              "    <tr>\n",
              "      <th>25%</th>\n",
              "      <td>580.000000</td>\n",
              "    </tr>\n",
              "    <tr>\n",
              "      <th>50%</th>\n",
              "      <td>600.000000</td>\n",
              "    </tr>\n",
              "    <tr>\n",
              "      <th>75%</th>\n",
              "      <td>950.000000</td>\n",
              "    </tr>\n",
              "    <tr>\n",
              "      <th>max</th>\n",
              "      <td>3000.000000</td>\n",
              "    </tr>\n",
              "  </tbody>\n",
              "</table>\n",
              "</div>"
            ],
            "text/plain": [
              "       Sales_total\n",
              "count   325.000000\n",
              "mean    738.095385\n",
              "std     475.472871\n",
              "min       0.000000\n",
              "25%     580.000000\n",
              "50%     600.000000\n",
              "75%     950.000000\n",
              "max    3000.000000"
            ]
          },
          "metadata": {
            "tags": []
          },
          "execution_count": 29
        }
      ]
    },
    {
      "cell_type": "code",
      "metadata": {
        "id": "vxodQWi4BK6r",
        "colab_type": "code",
        "colab": {
          "base_uri": "https://localhost:8080/",
          "height": 204
        },
        "outputId": "2b1670f7-b558-4d70-9968-edcf1908df52"
      },
      "source": [
        "dnd_sales_df.head()"
      ],
      "execution_count": 30,
      "outputs": [
        {
          "output_type": "execute_result",
          "data": {
            "text/html": [
              "<div>\n",
              "<style scoped>\n",
              "    .dataframe tbody tr th:only-of-type {\n",
              "        vertical-align: middle;\n",
              "    }\n",
              "\n",
              "    .dataframe tbody tr th {\n",
              "        vertical-align: top;\n",
              "    }\n",
              "\n",
              "    .dataframe thead th {\n",
              "        text-align: right;\n",
              "    }\n",
              "</style>\n",
              "<table border=\"1\" class=\"dataframe\">\n",
              "  <thead>\n",
              "    <tr style=\"text-align: right;\">\n",
              "      <th></th>\n",
              "      <th>Date_of_PreShoot</th>\n",
              "      <th>Session_Fee</th>\n",
              "      <th>Hair</th>\n",
              "      <th>DOB</th>\n",
              "      <th>zip_code</th>\n",
              "      <th>Sales_total</th>\n",
              "      <th>Model Release</th>\n",
              "      <th>Favorite</th>\n",
              "    </tr>\n",
              "  </thead>\n",
              "  <tbody>\n",
              "    <tr>\n",
              "      <th>0</th>\n",
              "      <td>1/5/2017</td>\n",
              "      <td>99</td>\n",
              "      <td>yes</td>\n",
              "      <td>5/5/1976</td>\n",
              "      <td>32208</td>\n",
              "      <td>600</td>\n",
              "      <td>yes</td>\n",
              "      <td>butt</td>\n",
              "    </tr>\n",
              "    <tr>\n",
              "      <th>1</th>\n",
              "      <td>11/2/2017</td>\n",
              "      <td>99</td>\n",
              "      <td>yes</td>\n",
              "      <td>10/16/1984</td>\n",
              "      <td>32082</td>\n",
              "      <td>400</td>\n",
              "      <td>no</td>\n",
              "      <td>butt, eyes</td>\n",
              "    </tr>\n",
              "    <tr>\n",
              "      <th>2</th>\n",
              "      <td>6/29/2017</td>\n",
              "      <td>99</td>\n",
              "      <td>yes</td>\n",
              "      <td>7/22/1989</td>\n",
              "      <td>32080</td>\n",
              "      <td>320</td>\n",
              "      <td>no</td>\n",
              "      <td>eyes, hair, legs</td>\n",
              "    </tr>\n",
              "    <tr>\n",
              "      <th>3</th>\n",
              "      <td>1/23/2017</td>\n",
              "      <td>99</td>\n",
              "      <td>no</td>\n",
              "      <td>1/23/1971</td>\n",
              "      <td>32208</td>\n",
              "      <td>720</td>\n",
              "      <td>yes</td>\n",
              "      <td>boobs</td>\n",
              "    </tr>\n",
              "    <tr>\n",
              "      <th>5</th>\n",
              "      <td>9/14/2014</td>\n",
              "      <td>99</td>\n",
              "      <td>yes</td>\n",
              "      <td>11/3/1982</td>\n",
              "      <td>32257</td>\n",
              "      <td>1320</td>\n",
              "      <td>no</td>\n",
              "      <td>butt</td>\n",
              "    </tr>\n",
              "  </tbody>\n",
              "</table>\n",
              "</div>"
            ],
            "text/plain": [
              "  Date_of_PreShoot Session_Fee  ... Model Release          Favorite\n",
              "0         1/5/2017          99  ...           yes              butt\n",
              "1        11/2/2017          99  ...            no        butt, eyes\n",
              "2        6/29/2017          99  ...            no  eyes, hair, legs\n",
              "3        1/23/2017          99  ...           yes             boobs\n",
              "5        9/14/2014          99  ...            no              butt\n",
              "\n",
              "[5 rows x 8 columns]"
            ]
          },
          "metadata": {
            "tags": []
          },
          "execution_count": 30
        }
      ]
    },
    {
      "cell_type": "code",
      "metadata": {
        "id": "E_4GUK8SBzU2",
        "colab_type": "code",
        "colab": {}
      },
      "source": [
        ""
      ],
      "execution_count": 30,
      "outputs": []
    },
    {
      "cell_type": "code",
      "metadata": {
        "id": "gn0UPSilEYw7",
        "colab_type": "code",
        "colab": {
          "base_uri": "https://localhost:8080/",
          "height": 34
        },
        "outputId": "06b45ac6-a9e9-4232-90d0-927c743c0b29"
      },
      "source": [
        "dnd_sales_df[\"Session_Fee\"].nunique()"
      ],
      "execution_count": 31,
      "outputs": [
        {
          "output_type": "execute_result",
          "data": {
            "text/plain": [
              "8"
            ]
          },
          "metadata": {
            "tags": []
          },
          "execution_count": 31
        }
      ]
    },
    {
      "cell_type": "code",
      "metadata": {
        "id": "JtLM8GxXEfZV",
        "colab_type": "code",
        "colab": {
          "base_uri": "https://localhost:8080/",
          "height": 170
        },
        "outputId": "ebc22a56-7fab-4ae4-df8f-a40487a25dae"
      },
      "source": [
        "dnd_sales_df[\"Session_Fee\"].value_counts()"
      ],
      "execution_count": 32,
      "outputs": [
        {
          "output_type": "execute_result",
          "data": {
            "text/plain": [
              "99             230\n",
              "25              51\n",
              "179             33\n",
              "249              4\n",
              "0                2\n",
              "100              1\n",
              "amazon gift      1\n",
              "89               1\n",
              "Name: Session_Fee, dtype: int64"
            ]
          },
          "metadata": {
            "tags": []
          },
          "execution_count": 32
        }
      ]
    },
    {
      "cell_type": "code",
      "metadata": {
        "id": "h7pXanOkEnzM",
        "colab_type": "code",
        "colab": {}
      },
      "source": [
        "#ok lets change that amazon gift to 0\n",
        "cond_gift = dnd_sales_df[\"Session_Fee\"].str.strip() == \"amazon gift\""
      ],
      "execution_count": 33,
      "outputs": []
    },
    {
      "cell_type": "code",
      "metadata": {
        "id": "M9-0koJpFIoQ",
        "colab_type": "code",
        "colab": {
          "base_uri": "https://localhost:8080/",
          "height": 80
        },
        "outputId": "6c685439-14ae-4670-dd84-3b22edb1dde3"
      },
      "source": [
        "dnd_sales_df[cond_gift]"
      ],
      "execution_count": 34,
      "outputs": [
        {
          "output_type": "execute_result",
          "data": {
            "text/html": [
              "<div>\n",
              "<style scoped>\n",
              "    .dataframe tbody tr th:only-of-type {\n",
              "        vertical-align: middle;\n",
              "    }\n",
              "\n",
              "    .dataframe tbody tr th {\n",
              "        vertical-align: top;\n",
              "    }\n",
              "\n",
              "    .dataframe thead th {\n",
              "        text-align: right;\n",
              "    }\n",
              "</style>\n",
              "<table border=\"1\" class=\"dataframe\">\n",
              "  <thead>\n",
              "    <tr style=\"text-align: right;\">\n",
              "      <th></th>\n",
              "      <th>Date_of_PreShoot</th>\n",
              "      <th>Session_Fee</th>\n",
              "      <th>Hair</th>\n",
              "      <th>DOB</th>\n",
              "      <th>zip_code</th>\n",
              "      <th>Sales_total</th>\n",
              "      <th>Model Release</th>\n",
              "      <th>Favorite</th>\n",
              "    </tr>\n",
              "  </thead>\n",
              "  <tbody>\n",
              "    <tr>\n",
              "      <th>160</th>\n",
              "      <td>4/2/2014</td>\n",
              "      <td>amazon gift</td>\n",
              "      <td>yes</td>\n",
              "      <td>12/17/1980</td>\n",
              "      <td>32164</td>\n",
              "      <td>600</td>\n",
              "      <td>yes</td>\n",
              "      <td>butt</td>\n",
              "    </tr>\n",
              "  </tbody>\n",
              "</table>\n",
              "</div>"
            ],
            "text/plain": [
              "    Date_of_PreShoot  Session_Fee Hair  ... Sales_total Model Release  Favorite\n",
              "160         4/2/2014  amazon gift  yes  ...         600           yes      butt\n",
              "\n",
              "[1 rows x 8 columns]"
            ]
          },
          "metadata": {
            "tags": []
          },
          "execution_count": 34
        }
      ]
    },
    {
      "cell_type": "code",
      "metadata": {
        "id": "y3Vn-kDkHGPH",
        "colab_type": "code",
        "colab": {}
      },
      "source": [
        "dnd_sales_df.loc[160, \"Session_Fee\"] =dnd_sales_df.loc[160, \"Session_Fee\"].strip()\n"
      ],
      "execution_count": 35,
      "outputs": []
    },
    {
      "cell_type": "code",
      "metadata": {
        "id": "JQgJ3J-oFNS3",
        "colab_type": "code",
        "colab": {}
      },
      "source": [
        "# replace \"amazon gift\" with 0 \n",
        "dnd_sales_df.loc[:, \"Session_Fee\"] = dnd_sales_df.loc[:,\"Session_Fee\"].replace(to_replace=\"amazon gift\", value=\"0\")"
      ],
      "execution_count": 36,
      "outputs": []
    },
    {
      "cell_type": "code",
      "metadata": {
        "id": "m6AyDiqOGBWW",
        "colab_type": "code",
        "colab": {
          "base_uri": "https://localhost:8080/",
          "height": 80
        },
        "outputId": "427e39a3-c2ec-4068-df83-fbb5f0c496f9"
      },
      "source": [
        "# check to see if its gone\n",
        "dnd_sales_df[cond_gift]"
      ],
      "execution_count": 37,
      "outputs": [
        {
          "output_type": "execute_result",
          "data": {
            "text/html": [
              "<div>\n",
              "<style scoped>\n",
              "    .dataframe tbody tr th:only-of-type {\n",
              "        vertical-align: middle;\n",
              "    }\n",
              "\n",
              "    .dataframe tbody tr th {\n",
              "        vertical-align: top;\n",
              "    }\n",
              "\n",
              "    .dataframe thead th {\n",
              "        text-align: right;\n",
              "    }\n",
              "</style>\n",
              "<table border=\"1\" class=\"dataframe\">\n",
              "  <thead>\n",
              "    <tr style=\"text-align: right;\">\n",
              "      <th></th>\n",
              "      <th>Date_of_PreShoot</th>\n",
              "      <th>Session_Fee</th>\n",
              "      <th>Hair</th>\n",
              "      <th>DOB</th>\n",
              "      <th>zip_code</th>\n",
              "      <th>Sales_total</th>\n",
              "      <th>Model Release</th>\n",
              "      <th>Favorite</th>\n",
              "    </tr>\n",
              "  </thead>\n",
              "  <tbody>\n",
              "    <tr>\n",
              "      <th>160</th>\n",
              "      <td>4/2/2014</td>\n",
              "      <td>0</td>\n",
              "      <td>yes</td>\n",
              "      <td>12/17/1980</td>\n",
              "      <td>32164</td>\n",
              "      <td>600</td>\n",
              "      <td>yes</td>\n",
              "      <td>butt</td>\n",
              "    </tr>\n",
              "  </tbody>\n",
              "</table>\n",
              "</div>"
            ],
            "text/plain": [
              "    Date_of_PreShoot Session_Fee Hair  ... Sales_total Model Release  Favorite\n",
              "160         4/2/2014           0  yes  ...         600           yes      butt\n",
              "\n",
              "[1 rows x 8 columns]"
            ]
          },
          "metadata": {
            "tags": []
          },
          "execution_count": 37
        }
      ]
    },
    {
      "cell_type": "code",
      "metadata": {
        "id": "9TWQHdudGJmf",
        "colab_type": "code",
        "colab": {
          "base_uri": "https://localhost:8080/",
          "height": 153
        },
        "outputId": "03a5242c-8a66-448c-a694-8ac0e9b1b8dc"
      },
      "source": [
        "dnd_sales_df[\"Session_Fee\"].value_counts()"
      ],
      "execution_count": 38,
      "outputs": [
        {
          "output_type": "execute_result",
          "data": {
            "text/plain": [
              "99     230\n",
              "25      51\n",
              "179     33\n",
              "249      4\n",
              "0        3\n",
              "100      1\n",
              "89       1\n",
              "Name: Session_Fee, dtype: int64"
            ]
          },
          "metadata": {
            "tags": []
          },
          "execution_count": 38
        }
      ]
    },
    {
      "cell_type": "code",
      "metadata": {
        "id": "dLlofDwxIkY5",
        "colab_type": "code",
        "colab": {
          "base_uri": "https://localhost:8080/",
          "height": 34
        },
        "outputId": "bbd0e527-fa13-4a14-9893-aaa2af924c62"
      },
      "source": [
        "dnd_sales_df[\"Session_Fee\"].isnull().sum()\n"
      ],
      "execution_count": 39,
      "outputs": [
        {
          "output_type": "execute_result",
          "data": {
            "text/plain": [
              "2"
            ]
          },
          "metadata": {
            "tags": []
          },
          "execution_count": 39
        }
      ]
    },
    {
      "cell_type": "code",
      "metadata": {
        "id": "iWgedVkLIws3",
        "colab_type": "code",
        "colab": {
          "base_uri": "https://localhost:8080/",
          "height": 111
        },
        "outputId": "a256bec0-722c-4816-d433-87636de439e5"
      },
      "source": [
        "cond_nan = dnd_sales_df[\"Session_Fee\"].isnull() == True\n",
        "dnd_sales_df[cond_nan]"
      ],
      "execution_count": 40,
      "outputs": [
        {
          "output_type": "execute_result",
          "data": {
            "text/html": [
              "<div>\n",
              "<style scoped>\n",
              "    .dataframe tbody tr th:only-of-type {\n",
              "        vertical-align: middle;\n",
              "    }\n",
              "\n",
              "    .dataframe tbody tr th {\n",
              "        vertical-align: top;\n",
              "    }\n",
              "\n",
              "    .dataframe thead th {\n",
              "        text-align: right;\n",
              "    }\n",
              "</style>\n",
              "<table border=\"1\" class=\"dataframe\">\n",
              "  <thead>\n",
              "    <tr style=\"text-align: right;\">\n",
              "      <th></th>\n",
              "      <th>Date_of_PreShoot</th>\n",
              "      <th>Session_Fee</th>\n",
              "      <th>Hair</th>\n",
              "      <th>DOB</th>\n",
              "      <th>zip_code</th>\n",
              "      <th>Sales_total</th>\n",
              "      <th>Model Release</th>\n",
              "      <th>Favorite</th>\n",
              "    </tr>\n",
              "  </thead>\n",
              "  <tbody>\n",
              "    <tr>\n",
              "      <th>33</th>\n",
              "      <td>NaN</td>\n",
              "      <td>NaN</td>\n",
              "      <td>NaN</td>\n",
              "      <td>2/8/1983</td>\n",
              "      <td>32211</td>\n",
              "      <td>1200</td>\n",
              "      <td>yes</td>\n",
              "      <td>no preference</td>\n",
              "    </tr>\n",
              "    <tr>\n",
              "      <th>51</th>\n",
              "      <td>NaN</td>\n",
              "      <td>NaN</td>\n",
              "      <td>NaN</td>\n",
              "      <td>8/24/1979</td>\n",
              "      <td>32225</td>\n",
              "      <td>600</td>\n",
              "      <td>yes</td>\n",
              "      <td>boobs</td>\n",
              "    </tr>\n",
              "  </tbody>\n",
              "</table>\n",
              "</div>"
            ],
            "text/plain": [
              "   Date_of_PreShoot Session_Fee Hair  ... Sales_total Model Release       Favorite\n",
              "33              NaN         NaN  NaN  ...        1200           yes  no preference\n",
              "51              NaN         NaN  NaN  ...         600           yes          boobs\n",
              "\n",
              "[2 rows x 8 columns]"
            ]
          },
          "metadata": {
            "tags": []
          },
          "execution_count": 40
        }
      ]
    },
    {
      "cell_type": "code",
      "metadata": {
        "id": "JkBJVZ5uJWEy",
        "colab_type": "code",
        "colab": {
          "base_uri": "https://localhost:8080/",
          "height": 111
        },
        "outputId": "395b4152-7a61-4746-a3d5-bb5e3ef10a54"
      },
      "source": [
        "dnd_sales_df.loc[33, \"Session_Fee\"] = \"179\"\n",
        "dnd_sales_df[cond_nan]"
      ],
      "execution_count": 41,
      "outputs": [
        {
          "output_type": "execute_result",
          "data": {
            "text/html": [
              "<div>\n",
              "<style scoped>\n",
              "    .dataframe tbody tr th:only-of-type {\n",
              "        vertical-align: middle;\n",
              "    }\n",
              "\n",
              "    .dataframe tbody tr th {\n",
              "        vertical-align: top;\n",
              "    }\n",
              "\n",
              "    .dataframe thead th {\n",
              "        text-align: right;\n",
              "    }\n",
              "</style>\n",
              "<table border=\"1\" class=\"dataframe\">\n",
              "  <thead>\n",
              "    <tr style=\"text-align: right;\">\n",
              "      <th></th>\n",
              "      <th>Date_of_PreShoot</th>\n",
              "      <th>Session_Fee</th>\n",
              "      <th>Hair</th>\n",
              "      <th>DOB</th>\n",
              "      <th>zip_code</th>\n",
              "      <th>Sales_total</th>\n",
              "      <th>Model Release</th>\n",
              "      <th>Favorite</th>\n",
              "    </tr>\n",
              "  </thead>\n",
              "  <tbody>\n",
              "    <tr>\n",
              "      <th>33</th>\n",
              "      <td>NaN</td>\n",
              "      <td>179</td>\n",
              "      <td>NaN</td>\n",
              "      <td>2/8/1983</td>\n",
              "      <td>32211</td>\n",
              "      <td>1200</td>\n",
              "      <td>yes</td>\n",
              "      <td>no preference</td>\n",
              "    </tr>\n",
              "    <tr>\n",
              "      <th>51</th>\n",
              "      <td>NaN</td>\n",
              "      <td>NaN</td>\n",
              "      <td>NaN</td>\n",
              "      <td>8/24/1979</td>\n",
              "      <td>32225</td>\n",
              "      <td>600</td>\n",
              "      <td>yes</td>\n",
              "      <td>boobs</td>\n",
              "    </tr>\n",
              "  </tbody>\n",
              "</table>\n",
              "</div>"
            ],
            "text/plain": [
              "   Date_of_PreShoot Session_Fee Hair  ... Sales_total Model Release       Favorite\n",
              "33              NaN         179  NaN  ...        1200           yes  no preference\n",
              "51              NaN         NaN  NaN  ...         600           yes          boobs\n",
              "\n",
              "[2 rows x 8 columns]"
            ]
          },
          "metadata": {
            "tags": []
          },
          "execution_count": 41
        }
      ]
    },
    {
      "cell_type": "code",
      "metadata": {
        "id": "NiQuY1MvLavh",
        "colab_type": "code",
        "colab": {
          "base_uri": "https://localhost:8080/",
          "height": 111
        },
        "outputId": "9d54470b-a107-405b-eca3-c028b5991404"
      },
      "source": [
        "dnd_sales_df.loc[51, \"Session_Fee\"] = \"99\"\n",
        "dnd_sales_df[cond_nan]"
      ],
      "execution_count": 42,
      "outputs": [
        {
          "output_type": "execute_result",
          "data": {
            "text/html": [
              "<div>\n",
              "<style scoped>\n",
              "    .dataframe tbody tr th:only-of-type {\n",
              "        vertical-align: middle;\n",
              "    }\n",
              "\n",
              "    .dataframe tbody tr th {\n",
              "        vertical-align: top;\n",
              "    }\n",
              "\n",
              "    .dataframe thead th {\n",
              "        text-align: right;\n",
              "    }\n",
              "</style>\n",
              "<table border=\"1\" class=\"dataframe\">\n",
              "  <thead>\n",
              "    <tr style=\"text-align: right;\">\n",
              "      <th></th>\n",
              "      <th>Date_of_PreShoot</th>\n",
              "      <th>Session_Fee</th>\n",
              "      <th>Hair</th>\n",
              "      <th>DOB</th>\n",
              "      <th>zip_code</th>\n",
              "      <th>Sales_total</th>\n",
              "      <th>Model Release</th>\n",
              "      <th>Favorite</th>\n",
              "    </tr>\n",
              "  </thead>\n",
              "  <tbody>\n",
              "    <tr>\n",
              "      <th>33</th>\n",
              "      <td>NaN</td>\n",
              "      <td>179</td>\n",
              "      <td>NaN</td>\n",
              "      <td>2/8/1983</td>\n",
              "      <td>32211</td>\n",
              "      <td>1200</td>\n",
              "      <td>yes</td>\n",
              "      <td>no preference</td>\n",
              "    </tr>\n",
              "    <tr>\n",
              "      <th>51</th>\n",
              "      <td>NaN</td>\n",
              "      <td>99</td>\n",
              "      <td>NaN</td>\n",
              "      <td>8/24/1979</td>\n",
              "      <td>32225</td>\n",
              "      <td>600</td>\n",
              "      <td>yes</td>\n",
              "      <td>boobs</td>\n",
              "    </tr>\n",
              "  </tbody>\n",
              "</table>\n",
              "</div>"
            ],
            "text/plain": [
              "   Date_of_PreShoot Session_Fee Hair  ... Sales_total Model Release       Favorite\n",
              "33              NaN         179  NaN  ...        1200           yes  no preference\n",
              "51              NaN          99  NaN  ...         600           yes          boobs\n",
              "\n",
              "[2 rows x 8 columns]"
            ]
          },
          "metadata": {
            "tags": []
          },
          "execution_count": 42
        }
      ]
    },
    {
      "cell_type": "code",
      "metadata": {
        "id": "wDd2awgAOSum",
        "colab_type": "code",
        "colab": {}
      },
      "source": [
        ""
      ],
      "execution_count": 42,
      "outputs": []
    },
    {
      "cell_type": "code",
      "metadata": {
        "id": "6CY8AmblLlK_",
        "colab_type": "code",
        "colab": {
          "base_uri": "https://localhost:8080/",
          "height": 111
        },
        "outputId": "fb9bf7ee-22ee-4011-e7fc-d7bf1a5146a2"
      },
      "source": [
        "dnd_sales_df.loc[:, \"Hair\"] = dnd_sales_df.loc[:, \"Hair\"].replace(to_replace=np.NaN, value=\"no\")\n",
        "dnd_sales_df[cond_nan]"
      ],
      "execution_count": 43,
      "outputs": [
        {
          "output_type": "execute_result",
          "data": {
            "text/html": [
              "<div>\n",
              "<style scoped>\n",
              "    .dataframe tbody tr th:only-of-type {\n",
              "        vertical-align: middle;\n",
              "    }\n",
              "\n",
              "    .dataframe tbody tr th {\n",
              "        vertical-align: top;\n",
              "    }\n",
              "\n",
              "    .dataframe thead th {\n",
              "        text-align: right;\n",
              "    }\n",
              "</style>\n",
              "<table border=\"1\" class=\"dataframe\">\n",
              "  <thead>\n",
              "    <tr style=\"text-align: right;\">\n",
              "      <th></th>\n",
              "      <th>Date_of_PreShoot</th>\n",
              "      <th>Session_Fee</th>\n",
              "      <th>Hair</th>\n",
              "      <th>DOB</th>\n",
              "      <th>zip_code</th>\n",
              "      <th>Sales_total</th>\n",
              "      <th>Model Release</th>\n",
              "      <th>Favorite</th>\n",
              "    </tr>\n",
              "  </thead>\n",
              "  <tbody>\n",
              "    <tr>\n",
              "      <th>33</th>\n",
              "      <td>NaN</td>\n",
              "      <td>179</td>\n",
              "      <td>no</td>\n",
              "      <td>2/8/1983</td>\n",
              "      <td>32211</td>\n",
              "      <td>1200</td>\n",
              "      <td>yes</td>\n",
              "      <td>no preference</td>\n",
              "    </tr>\n",
              "    <tr>\n",
              "      <th>51</th>\n",
              "      <td>NaN</td>\n",
              "      <td>99</td>\n",
              "      <td>no</td>\n",
              "      <td>8/24/1979</td>\n",
              "      <td>32225</td>\n",
              "      <td>600</td>\n",
              "      <td>yes</td>\n",
              "      <td>boobs</td>\n",
              "    </tr>\n",
              "  </tbody>\n",
              "</table>\n",
              "</div>"
            ],
            "text/plain": [
              "   Date_of_PreShoot Session_Fee Hair  ... Sales_total Model Release       Favorite\n",
              "33              NaN         179   no  ...        1200           yes  no preference\n",
              "51              NaN          99   no  ...         600           yes          boobs\n",
              "\n",
              "[2 rows x 8 columns]"
            ]
          },
          "metadata": {
            "tags": []
          },
          "execution_count": 43
        }
      ]
    },
    {
      "cell_type": "code",
      "metadata": {
        "id": "uMjL23W7MU3s",
        "colab_type": "code",
        "colab": {
          "base_uri": "https://localhost:8080/",
          "height": 111
        },
        "outputId": "1970b0fe-2d32-47d6-a915-40820a3284ef"
      },
      "source": [
        "dnd_sales_df.loc[33, \"Date_of_PreShoot\"] = \"3/22/2017\"\n",
        "dnd_sales_df.loc[51, \"Date_of_PreShoot\"] = \"1/30/2016\"\n",
        "dnd_sales_df[cond_nan]"
      ],
      "execution_count": 44,
      "outputs": [
        {
          "output_type": "execute_result",
          "data": {
            "text/html": [
              "<div>\n",
              "<style scoped>\n",
              "    .dataframe tbody tr th:only-of-type {\n",
              "        vertical-align: middle;\n",
              "    }\n",
              "\n",
              "    .dataframe tbody tr th {\n",
              "        vertical-align: top;\n",
              "    }\n",
              "\n",
              "    .dataframe thead th {\n",
              "        text-align: right;\n",
              "    }\n",
              "</style>\n",
              "<table border=\"1\" class=\"dataframe\">\n",
              "  <thead>\n",
              "    <tr style=\"text-align: right;\">\n",
              "      <th></th>\n",
              "      <th>Date_of_PreShoot</th>\n",
              "      <th>Session_Fee</th>\n",
              "      <th>Hair</th>\n",
              "      <th>DOB</th>\n",
              "      <th>zip_code</th>\n",
              "      <th>Sales_total</th>\n",
              "      <th>Model Release</th>\n",
              "      <th>Favorite</th>\n",
              "    </tr>\n",
              "  </thead>\n",
              "  <tbody>\n",
              "    <tr>\n",
              "      <th>33</th>\n",
              "      <td>3/22/2017</td>\n",
              "      <td>179</td>\n",
              "      <td>no</td>\n",
              "      <td>2/8/1983</td>\n",
              "      <td>32211</td>\n",
              "      <td>1200</td>\n",
              "      <td>yes</td>\n",
              "      <td>no preference</td>\n",
              "    </tr>\n",
              "    <tr>\n",
              "      <th>51</th>\n",
              "      <td>1/30/2016</td>\n",
              "      <td>99</td>\n",
              "      <td>no</td>\n",
              "      <td>8/24/1979</td>\n",
              "      <td>32225</td>\n",
              "      <td>600</td>\n",
              "      <td>yes</td>\n",
              "      <td>boobs</td>\n",
              "    </tr>\n",
              "  </tbody>\n",
              "</table>\n",
              "</div>"
            ],
            "text/plain": [
              "   Date_of_PreShoot Session_Fee Hair  ... Sales_total Model Release       Favorite\n",
              "33        3/22/2017         179   no  ...        1200           yes  no preference\n",
              "51        1/30/2016          99   no  ...         600           yes          boobs\n",
              "\n",
              "[2 rows x 8 columns]"
            ]
          },
          "metadata": {
            "tags": []
          },
          "execution_count": 44
        }
      ]
    },
    {
      "cell_type": "code",
      "metadata": {
        "id": "ZXDeOYCDJE2V",
        "colab_type": "code",
        "colab": {}
      },
      "source": [
        ""
      ],
      "execution_count": 44,
      "outputs": []
    },
    {
      "cell_type": "code",
      "metadata": {
        "id": "peVHlFz8A_j9",
        "colab_type": "code",
        "colab": {
          "base_uri": "https://localhost:8080/",
          "height": 297
        },
        "outputId": "00dfe408-e0c9-48b1-f22d-f413a63dc4e4"
      },
      "source": [
        "# change Session_Fee\n",
        "dnd_sales_df[\"Session_Fee\"]= dnd_sales_df[\"Session_Fee\"].astype(str).astype(int)\n",
        "dnd_sales_df.describe()"
      ],
      "execution_count": 45,
      "outputs": [
        {
          "output_type": "execute_result",
          "data": {
            "text/html": [
              "<div>\n",
              "<style scoped>\n",
              "    .dataframe tbody tr th:only-of-type {\n",
              "        vertical-align: middle;\n",
              "    }\n",
              "\n",
              "    .dataframe tbody tr th {\n",
              "        vertical-align: top;\n",
              "    }\n",
              "\n",
              "    .dataframe thead th {\n",
              "        text-align: right;\n",
              "    }\n",
              "</style>\n",
              "<table border=\"1\" class=\"dataframe\">\n",
              "  <thead>\n",
              "    <tr style=\"text-align: right;\">\n",
              "      <th></th>\n",
              "      <th>Session_Fee</th>\n",
              "      <th>Sales_total</th>\n",
              "    </tr>\n",
              "  </thead>\n",
              "  <tbody>\n",
              "    <tr>\n",
              "      <th>count</th>\n",
              "      <td>325.000000</td>\n",
              "      <td>325.000000</td>\n",
              "    </tr>\n",
              "    <tr>\n",
              "      <th>mean</th>\n",
              "      <td>96.661538</td>\n",
              "      <td>738.095385</td>\n",
              "    </tr>\n",
              "    <tr>\n",
              "      <th>std</th>\n",
              "      <td>43.553670</td>\n",
              "      <td>475.472871</td>\n",
              "    </tr>\n",
              "    <tr>\n",
              "      <th>min</th>\n",
              "      <td>0.000000</td>\n",
              "      <td>0.000000</td>\n",
              "    </tr>\n",
              "    <tr>\n",
              "      <th>25%</th>\n",
              "      <td>99.000000</td>\n",
              "      <td>580.000000</td>\n",
              "    </tr>\n",
              "    <tr>\n",
              "      <th>50%</th>\n",
              "      <td>99.000000</td>\n",
              "      <td>600.000000</td>\n",
              "    </tr>\n",
              "    <tr>\n",
              "      <th>75%</th>\n",
              "      <td>99.000000</td>\n",
              "      <td>950.000000</td>\n",
              "    </tr>\n",
              "    <tr>\n",
              "      <th>max</th>\n",
              "      <td>249.000000</td>\n",
              "      <td>3000.000000</td>\n",
              "    </tr>\n",
              "  </tbody>\n",
              "</table>\n",
              "</div>"
            ],
            "text/plain": [
              "       Session_Fee  Sales_total\n",
              "count   325.000000   325.000000\n",
              "mean     96.661538   738.095385\n",
              "std      43.553670   475.472871\n",
              "min       0.000000     0.000000\n",
              "25%      99.000000   580.000000\n",
              "50%      99.000000   600.000000\n",
              "75%      99.000000   950.000000\n",
              "max     249.000000  3000.000000"
            ]
          },
          "metadata": {
            "tags": []
          },
          "execution_count": 45
        }
      ]
    },
    {
      "cell_type": "code",
      "metadata": {
        "id": "WSJi8UqhEUmy",
        "colab_type": "code",
        "colab": {
          "base_uri": "https://localhost:8080/",
          "height": 34
        },
        "outputId": "39664e4b-cd52-496b-9fda-4482dd2cdd47"
      },
      "source": [
        "dnd_sales_df[\"Session_Fee\"].nunique()"
      ],
      "execution_count": 46,
      "outputs": [
        {
          "output_type": "execute_result",
          "data": {
            "text/plain": [
              "7"
            ]
          },
          "metadata": {
            "tags": []
          },
          "execution_count": 46
        }
      ]
    },
    {
      "cell_type": "code",
      "metadata": {
        "id": "qZL2CGf9Aeii",
        "colab_type": "code",
        "colab": {
          "base_uri": "https://localhost:8080/",
          "height": 153
        },
        "outputId": "6dc1460f-9f1a-4f89-8c59-404c59b696d1"
      },
      "source": [
        "dnd_sales_df[\"Session_Fee\"].value_counts()"
      ],
      "execution_count": 47,
      "outputs": [
        {
          "output_type": "execute_result",
          "data": {
            "text/plain": [
              "99     231\n",
              "25      51\n",
              "179     34\n",
              "249      4\n",
              "0        3\n",
              "100      1\n",
              "89       1\n",
              "Name: Session_Fee, dtype: int64"
            ]
          },
          "metadata": {
            "tags": []
          },
          "execution_count": 47
        }
      ]
    },
    {
      "cell_type": "code",
      "metadata": {
        "id": "Aa6acLjcMx52",
        "colab_type": "code",
        "colab": {}
      },
      "source": [
        ""
      ],
      "execution_count": 47,
      "outputs": []
    },
    {
      "cell_type": "code",
      "metadata": {
        "id": "F14_V_4dPACq",
        "colab_type": "code",
        "colab": {
          "base_uri": "https://localhost:8080/",
          "height": 34
        },
        "outputId": "1c848ebd-50e0-4746-8ac4-7dfddcafb8d2"
      },
      "source": [
        "# check the preshoot column\n",
        "dnd_sales_df[\"Date_of_PreShoot\"].nunique()"
      ],
      "execution_count": 48,
      "outputs": [
        {
          "output_type": "execute_result",
          "data": {
            "text/plain": [
              "266"
            ]
          },
          "metadata": {
            "tags": []
          },
          "execution_count": 48
        }
      ]
    },
    {
      "cell_type": "code",
      "metadata": {
        "id": "ffjmuL_pPuvt",
        "colab_type": "code",
        "colab": {
          "base_uri": "https://localhost:8080/",
          "height": 34
        },
        "outputId": "c57c7f0d-c93e-4e1e-a137-d05c6fac7f85"
      },
      "source": [
        "dnd_sales_df[\"Date_of_PreShoot\"].isnull().sum()"
      ],
      "execution_count": 49,
      "outputs": [
        {
          "output_type": "execute_result",
          "data": {
            "text/plain": [
              "0"
            ]
          },
          "metadata": {
            "tags": []
          },
          "execution_count": 49
        }
      ]
    },
    {
      "cell_type": "code",
      "metadata": {
        "id": "nmFMA_u0P2Kb",
        "colab_type": "code",
        "colab": {}
      },
      "source": [
        "# I can try the conversion\n",
        "dnd_sales_df[\"Date_of_PreShoot\"]= pd.to_datetime(dnd_sales_df.loc[:, \"Date_of_PreShoot\"])"
      ],
      "execution_count": 50,
      "outputs": []
    },
    {
      "cell_type": "code",
      "metadata": {
        "id": "eQoNrOKVRSG2",
        "colab_type": "code",
        "colab": {}
      },
      "source": [
        "dnd_sales_df[\"DOB\"]= pd.to_datetime(dnd_sales_df.loc[:, \"DOB\"])"
      ],
      "execution_count": 51,
      "outputs": []
    },
    {
      "cell_type": "code",
      "metadata": {
        "id": "iPLbfwH5RM5_",
        "colab_type": "code",
        "colab": {
          "base_uri": "https://localhost:8080/",
          "height": 272
        },
        "outputId": "339161f3-0870-4bd2-d1ea-dc7710dc7d80"
      },
      "source": [
        "dnd_sales_df.info()"
      ],
      "execution_count": 52,
      "outputs": [
        {
          "output_type": "stream",
          "text": [
            "<class 'pandas.core.frame.DataFrame'>\n",
            "Int64Index: 325 entries, 0 to 423\n",
            "Data columns (total 8 columns):\n",
            " #   Column            Non-Null Count  Dtype         \n",
            "---  ------            --------------  -----         \n",
            " 0   Date_of_PreShoot  325 non-null    datetime64[ns]\n",
            " 1   Session_Fee       325 non-null    int64         \n",
            " 2   Hair              325 non-null    object        \n",
            " 3   DOB               324 non-null    datetime64[ns]\n",
            " 4   zip_code          325 non-null    object        \n",
            " 5   Sales_total       325 non-null    int64         \n",
            " 6   Model Release     317 non-null    object        \n",
            " 7   Favorite          325 non-null    object        \n",
            "dtypes: datetime64[ns](2), int64(2), object(4)\n",
            "memory usage: 32.9+ KB\n"
          ],
          "name": "stdout"
        }
      ]
    },
    {
      "cell_type": "code",
      "metadata": {
        "id": "aSg8CHtCRics",
        "colab_type": "code",
        "colab": {
          "base_uri": "https://localhost:8080/",
          "height": 204
        },
        "outputId": "ec8d5f0e-5905-4108-a8e3-63ac6f992741"
      },
      "source": [
        "dnd_sales_df.head()"
      ],
      "execution_count": 53,
      "outputs": [
        {
          "output_type": "execute_result",
          "data": {
            "text/html": [
              "<div>\n",
              "<style scoped>\n",
              "    .dataframe tbody tr th:only-of-type {\n",
              "        vertical-align: middle;\n",
              "    }\n",
              "\n",
              "    .dataframe tbody tr th {\n",
              "        vertical-align: top;\n",
              "    }\n",
              "\n",
              "    .dataframe thead th {\n",
              "        text-align: right;\n",
              "    }\n",
              "</style>\n",
              "<table border=\"1\" class=\"dataframe\">\n",
              "  <thead>\n",
              "    <tr style=\"text-align: right;\">\n",
              "      <th></th>\n",
              "      <th>Date_of_PreShoot</th>\n",
              "      <th>Session_Fee</th>\n",
              "      <th>Hair</th>\n",
              "      <th>DOB</th>\n",
              "      <th>zip_code</th>\n",
              "      <th>Sales_total</th>\n",
              "      <th>Model Release</th>\n",
              "      <th>Favorite</th>\n",
              "    </tr>\n",
              "  </thead>\n",
              "  <tbody>\n",
              "    <tr>\n",
              "      <th>0</th>\n",
              "      <td>2017-01-05</td>\n",
              "      <td>99</td>\n",
              "      <td>yes</td>\n",
              "      <td>1976-05-05</td>\n",
              "      <td>32208</td>\n",
              "      <td>600</td>\n",
              "      <td>yes</td>\n",
              "      <td>butt</td>\n",
              "    </tr>\n",
              "    <tr>\n",
              "      <th>1</th>\n",
              "      <td>2017-11-02</td>\n",
              "      <td>99</td>\n",
              "      <td>yes</td>\n",
              "      <td>1984-10-16</td>\n",
              "      <td>32082</td>\n",
              "      <td>400</td>\n",
              "      <td>no</td>\n",
              "      <td>butt, eyes</td>\n",
              "    </tr>\n",
              "    <tr>\n",
              "      <th>2</th>\n",
              "      <td>2017-06-29</td>\n",
              "      <td>99</td>\n",
              "      <td>yes</td>\n",
              "      <td>1989-07-22</td>\n",
              "      <td>32080</td>\n",
              "      <td>320</td>\n",
              "      <td>no</td>\n",
              "      <td>eyes, hair, legs</td>\n",
              "    </tr>\n",
              "    <tr>\n",
              "      <th>3</th>\n",
              "      <td>2017-01-23</td>\n",
              "      <td>99</td>\n",
              "      <td>no</td>\n",
              "      <td>1971-01-23</td>\n",
              "      <td>32208</td>\n",
              "      <td>720</td>\n",
              "      <td>yes</td>\n",
              "      <td>boobs</td>\n",
              "    </tr>\n",
              "    <tr>\n",
              "      <th>5</th>\n",
              "      <td>2014-09-14</td>\n",
              "      <td>99</td>\n",
              "      <td>yes</td>\n",
              "      <td>1982-11-03</td>\n",
              "      <td>32257</td>\n",
              "      <td>1320</td>\n",
              "      <td>no</td>\n",
              "      <td>butt</td>\n",
              "    </tr>\n",
              "  </tbody>\n",
              "</table>\n",
              "</div>"
            ],
            "text/plain": [
              "  Date_of_PreShoot  Session_Fee  ... Model Release          Favorite\n",
              "0       2017-01-05           99  ...           yes              butt\n",
              "1       2017-11-02           99  ...            no        butt, eyes\n",
              "2       2017-06-29           99  ...            no  eyes, hair, legs\n",
              "3       2017-01-23           99  ...           yes             boobs\n",
              "5       2014-09-14           99  ...            no              butt\n",
              "\n",
              "[5 rows x 8 columns]"
            ]
          },
          "metadata": {
            "tags": []
          },
          "execution_count": 53
        }
      ]
    },
    {
      "cell_type": "code",
      "metadata": {
        "id": "lwKJcb9hR-uZ",
        "colab_type": "code",
        "colab": {
          "base_uri": "https://localhost:8080/",
          "height": 221
        },
        "outputId": "63c25780-f9b3-4d88-c172-1d42a110f540"
      },
      "source": [
        "dnd_sales_df[\"zip_code\"].value_counts()"
      ],
      "execution_count": 54,
      "outputs": [
        {
          "output_type": "execute_result",
          "data": {
            "text/plain": [
              "32218    19\n",
              "32246    15\n",
              "32258    15\n",
              "32256    15\n",
              "32216    14\n",
              "         ..\n",
              "32033     1\n",
              "31169     1\n",
              "32656     1\n",
              "32227     1\n",
              "32135     1\n",
              "Name: zip_code, Length: 76, dtype: int64"
            ]
          },
          "metadata": {
            "tags": []
          },
          "execution_count": 54
        }
      ]
    },
    {
      "cell_type": "code",
      "metadata": {
        "id": "rtd6_tJNSPM2",
        "colab_type": "code",
        "colab": {
          "base_uri": "https://localhost:8080/",
          "height": 34
        },
        "outputId": "59ec0952-8c3f-4eb4-c816-0834d548af9f"
      },
      "source": [
        "dnd_sales_df[\"zip_code\"].isnull().sum()"
      ],
      "execution_count": 55,
      "outputs": [
        {
          "output_type": "execute_result",
          "data": {
            "text/plain": [
              "0"
            ]
          },
          "metadata": {
            "tags": []
          },
          "execution_count": 55
        }
      ]
    },
    {
      "cell_type": "code",
      "metadata": {
        "id": "Xsxmd9EASyFx",
        "colab_type": "code",
        "colab": {}
      },
      "source": [
        ""
      ],
      "execution_count": 55,
      "outputs": []
    },
    {
      "cell_type": "code",
      "metadata": {
        "id": "6itXMIwQQ-Vx",
        "colab_type": "code",
        "colab": {}
      },
      "source": [
        ""
      ],
      "execution_count": 55,
      "outputs": []
    },
    {
      "cell_type": "code",
      "metadata": {
        "id": "XHwYW153Ms2m",
        "colab_type": "code",
        "colab": {}
      },
      "source": [
        ""
      ],
      "execution_count": 55,
      "outputs": []
    },
    {
      "cell_type": "code",
      "metadata": {
        "id": "C7Osf18dqULv",
        "colab_type": "code",
        "colab": {}
      },
      "source": [
        "# num_cols = [dnd_sales_df.columns[0], dnd_sales_df.columns[1], dnd_sales_df.columns[5]]"
      ],
      "execution_count": 56,
      "outputs": []
    },
    {
      "cell_type": "code",
      "metadata": {
        "id": "HgwWVpFiqyLR",
        "colab_type": "code",
        "colab": {}
      },
      "source": [
        "# try to convert columns to \"category\" data type\n",
        "# dnd_sales_df[num_cols] = dnd_sales_df[num_cols].astype(\"category\")"
      ],
      "execution_count": 57,
      "outputs": []
    },
    {
      "cell_type": "code",
      "metadata": {
        "id": "ONuCv9oOsGMH",
        "colab_type": "code",
        "colab": {
          "base_uri": "https://localhost:8080/",
          "height": 170
        },
        "outputId": "cda4fc12-fcc5-488a-d425-4e0ecfa3d769"
      },
      "source": [
        "dnd_sales_df.dtypes"
      ],
      "execution_count": 58,
      "outputs": [
        {
          "output_type": "execute_result",
          "data": {
            "text/plain": [
              "Date_of_PreShoot    datetime64[ns]\n",
              "Session_Fee                  int64\n",
              "Hair                        object\n",
              "DOB                 datetime64[ns]\n",
              "zip_code                    object\n",
              "Sales_total                  int64\n",
              "Model Release               object\n",
              "Favorite                    object\n",
              "dtype: object"
            ]
          },
          "metadata": {
            "tags": []
          },
          "execution_count": 58
        }
      ]
    },
    {
      "cell_type": "code",
      "metadata": {
        "id": "OWyKNKjmsMUk",
        "colab_type": "code",
        "colab": {}
      },
      "source": [
        "# for col in num_cols:\n",
        "#   dnd_sales_df[col] = dnd_sales_df[col].cat.codes\n",
        "\n",
        "# print(dnd_sales_df.shape)\n",
        "# dnd_sales_df.head"
      ],
      "execution_count": 59,
      "outputs": []
    },
    {
      "cell_type": "code",
      "metadata": {
        "id": "bQ5nFWQ3swK_",
        "colab_type": "code",
        "colab": {
          "base_uri": "https://localhost:8080/",
          "height": 297
        },
        "outputId": "df6f2c0b-6c28-421d-cc5a-a35fb265e640"
      },
      "source": [
        "dnd_sales_df.describe()"
      ],
      "execution_count": 60,
      "outputs": [
        {
          "output_type": "execute_result",
          "data": {
            "text/html": [
              "<div>\n",
              "<style scoped>\n",
              "    .dataframe tbody tr th:only-of-type {\n",
              "        vertical-align: middle;\n",
              "    }\n",
              "\n",
              "    .dataframe tbody tr th {\n",
              "        vertical-align: top;\n",
              "    }\n",
              "\n",
              "    .dataframe thead th {\n",
              "        text-align: right;\n",
              "    }\n",
              "</style>\n",
              "<table border=\"1\" class=\"dataframe\">\n",
              "  <thead>\n",
              "    <tr style=\"text-align: right;\">\n",
              "      <th></th>\n",
              "      <th>Session_Fee</th>\n",
              "      <th>Sales_total</th>\n",
              "    </tr>\n",
              "  </thead>\n",
              "  <tbody>\n",
              "    <tr>\n",
              "      <th>count</th>\n",
              "      <td>325.000000</td>\n",
              "      <td>325.000000</td>\n",
              "    </tr>\n",
              "    <tr>\n",
              "      <th>mean</th>\n",
              "      <td>96.661538</td>\n",
              "      <td>738.095385</td>\n",
              "    </tr>\n",
              "    <tr>\n",
              "      <th>std</th>\n",
              "      <td>43.553670</td>\n",
              "      <td>475.472871</td>\n",
              "    </tr>\n",
              "    <tr>\n",
              "      <th>min</th>\n",
              "      <td>0.000000</td>\n",
              "      <td>0.000000</td>\n",
              "    </tr>\n",
              "    <tr>\n",
              "      <th>25%</th>\n",
              "      <td>99.000000</td>\n",
              "      <td>580.000000</td>\n",
              "    </tr>\n",
              "    <tr>\n",
              "      <th>50%</th>\n",
              "      <td>99.000000</td>\n",
              "      <td>600.000000</td>\n",
              "    </tr>\n",
              "    <tr>\n",
              "      <th>75%</th>\n",
              "      <td>99.000000</td>\n",
              "      <td>950.000000</td>\n",
              "    </tr>\n",
              "    <tr>\n",
              "      <th>max</th>\n",
              "      <td>249.000000</td>\n",
              "      <td>3000.000000</td>\n",
              "    </tr>\n",
              "  </tbody>\n",
              "</table>\n",
              "</div>"
            ],
            "text/plain": [
              "       Session_Fee  Sales_total\n",
              "count   325.000000   325.000000\n",
              "mean     96.661538   738.095385\n",
              "std      43.553670   475.472871\n",
              "min       0.000000     0.000000\n",
              "25%      99.000000   580.000000\n",
              "50%      99.000000   600.000000\n",
              "75%      99.000000   950.000000\n",
              "max     249.000000  3000.000000"
            ]
          },
          "metadata": {
            "tags": []
          },
          "execution_count": 60
        }
      ]
    },
    {
      "cell_type": "code",
      "metadata": {
        "id": "z5EgjfM1s5bW",
        "colab_type": "code",
        "colab": {
          "base_uri": "https://localhost:8080/",
          "height": 359
        },
        "outputId": "82311b5e-bcdd-412c-a7fe-05d668e890c5"
      },
      "source": [
        "dnd_sales_df.head(10)"
      ],
      "execution_count": 61,
      "outputs": [
        {
          "output_type": "execute_result",
          "data": {
            "text/html": [
              "<div>\n",
              "<style scoped>\n",
              "    .dataframe tbody tr th:only-of-type {\n",
              "        vertical-align: middle;\n",
              "    }\n",
              "\n",
              "    .dataframe tbody tr th {\n",
              "        vertical-align: top;\n",
              "    }\n",
              "\n",
              "    .dataframe thead th {\n",
              "        text-align: right;\n",
              "    }\n",
              "</style>\n",
              "<table border=\"1\" class=\"dataframe\">\n",
              "  <thead>\n",
              "    <tr style=\"text-align: right;\">\n",
              "      <th></th>\n",
              "      <th>Date_of_PreShoot</th>\n",
              "      <th>Session_Fee</th>\n",
              "      <th>Hair</th>\n",
              "      <th>DOB</th>\n",
              "      <th>zip_code</th>\n",
              "      <th>Sales_total</th>\n",
              "      <th>Model Release</th>\n",
              "      <th>Favorite</th>\n",
              "    </tr>\n",
              "  </thead>\n",
              "  <tbody>\n",
              "    <tr>\n",
              "      <th>0</th>\n",
              "      <td>2017-01-05</td>\n",
              "      <td>99</td>\n",
              "      <td>yes</td>\n",
              "      <td>1976-05-05</td>\n",
              "      <td>32208</td>\n",
              "      <td>600</td>\n",
              "      <td>yes</td>\n",
              "      <td>butt</td>\n",
              "    </tr>\n",
              "    <tr>\n",
              "      <th>1</th>\n",
              "      <td>2017-11-02</td>\n",
              "      <td>99</td>\n",
              "      <td>yes</td>\n",
              "      <td>1984-10-16</td>\n",
              "      <td>32082</td>\n",
              "      <td>400</td>\n",
              "      <td>no</td>\n",
              "      <td>butt, eyes</td>\n",
              "    </tr>\n",
              "    <tr>\n",
              "      <th>2</th>\n",
              "      <td>2017-06-29</td>\n",
              "      <td>99</td>\n",
              "      <td>yes</td>\n",
              "      <td>1989-07-22</td>\n",
              "      <td>32080</td>\n",
              "      <td>320</td>\n",
              "      <td>no</td>\n",
              "      <td>eyes, hair, legs</td>\n",
              "    </tr>\n",
              "    <tr>\n",
              "      <th>3</th>\n",
              "      <td>2017-01-23</td>\n",
              "      <td>99</td>\n",
              "      <td>no</td>\n",
              "      <td>1971-01-23</td>\n",
              "      <td>32208</td>\n",
              "      <td>720</td>\n",
              "      <td>yes</td>\n",
              "      <td>boobs</td>\n",
              "    </tr>\n",
              "    <tr>\n",
              "      <th>5</th>\n",
              "      <td>2014-09-14</td>\n",
              "      <td>99</td>\n",
              "      <td>yes</td>\n",
              "      <td>1982-11-03</td>\n",
              "      <td>32257</td>\n",
              "      <td>1320</td>\n",
              "      <td>no</td>\n",
              "      <td>butt</td>\n",
              "    </tr>\n",
              "    <tr>\n",
              "      <th>6</th>\n",
              "      <td>2017-09-05</td>\n",
              "      <td>99</td>\n",
              "      <td>no</td>\n",
              "      <td>1996-01-24</td>\n",
              "      <td>32246</td>\n",
              "      <td>0</td>\n",
              "      <td>yes</td>\n",
              "      <td>eyes</td>\n",
              "    </tr>\n",
              "    <tr>\n",
              "      <th>7</th>\n",
              "      <td>2015-08-14</td>\n",
              "      <td>179</td>\n",
              "      <td>no</td>\n",
              "      <td>1977-08-29</td>\n",
              "      <td>32221</td>\n",
              "      <td>240</td>\n",
              "      <td>no</td>\n",
              "      <td>no preference</td>\n",
              "    </tr>\n",
              "    <tr>\n",
              "      <th>9</th>\n",
              "      <td>2015-03-05</td>\n",
              "      <td>99</td>\n",
              "      <td>yes</td>\n",
              "      <td>1979-09-07</td>\n",
              "      <td>32277</td>\n",
              "      <td>720</td>\n",
              "      <td>yes</td>\n",
              "      <td>boobs</td>\n",
              "    </tr>\n",
              "    <tr>\n",
              "      <th>10</th>\n",
              "      <td>2015-01-21</td>\n",
              "      <td>99</td>\n",
              "      <td>yes</td>\n",
              "      <td>1988-08-04</td>\n",
              "      <td>32258</td>\n",
              "      <td>680</td>\n",
              "      <td>yes</td>\n",
              "      <td>eyes</td>\n",
              "    </tr>\n",
              "    <tr>\n",
              "      <th>12</th>\n",
              "      <td>2014-09-27</td>\n",
              "      <td>99</td>\n",
              "      <td>no</td>\n",
              "      <td>1969-11-10</td>\n",
              "      <td>32216</td>\n",
              "      <td>600</td>\n",
              "      <td>yes</td>\n",
              "      <td>no preference</td>\n",
              "    </tr>\n",
              "  </tbody>\n",
              "</table>\n",
              "</div>"
            ],
            "text/plain": [
              "   Date_of_PreShoot  Session_Fee  ... Model Release          Favorite\n",
              "0        2017-01-05           99  ...           yes              butt\n",
              "1        2017-11-02           99  ...            no        butt, eyes\n",
              "2        2017-06-29           99  ...            no  eyes, hair, legs\n",
              "3        2017-01-23           99  ...           yes             boobs\n",
              "5        2014-09-14           99  ...            no              butt\n",
              "6        2017-09-05           99  ...           yes              eyes\n",
              "7        2015-08-14          179  ...            no     no preference\n",
              "9        2015-03-05           99  ...           yes             boobs\n",
              "10       2015-01-21           99  ...           yes              eyes\n",
              "12       2014-09-27           99  ...           yes     no preference\n",
              "\n",
              "[10 rows x 8 columns]"
            ]
          },
          "metadata": {
            "tags": []
          },
          "execution_count": 61
        }
      ]
    },
    {
      "cell_type": "code",
      "metadata": {
        "id": "WIjjQ2rNh74d",
        "colab_type": "code",
        "colab": {
          "base_uri": "https://localhost:8080/",
          "height": 102
        },
        "outputId": "a067412d-2773-4bdb-db91-69d9c7a869b5"
      },
      "source": [
        "#fix the Hair column by string white space if needed\n",
        "dnd_sales_df[\"Hair\"].value_counts()\n"
      ],
      "execution_count": 62,
      "outputs": [
        {
          "output_type": "execute_result",
          "data": {
            "text/plain": [
              "no     229\n",
              "yes     94\n",
              "no       1\n",
              " no      1\n",
              "Name: Hair, dtype: int64"
            ]
          },
          "metadata": {
            "tags": []
          },
          "execution_count": 62
        }
      ]
    },
    {
      "cell_type": "code",
      "metadata": {
        "id": "xiWuWfghiTGb",
        "colab_type": "code",
        "colab": {}
      },
      "source": [
        "dnd_sales_df[\"Hair\"] = dnd_sales_df.loc[:, \"Hair\"].str.strip()"
      ],
      "execution_count": 63,
      "outputs": []
    },
    {
      "cell_type": "code",
      "metadata": {
        "id": "0ndhuo4xihNb",
        "colab_type": "code",
        "colab": {
          "base_uri": "https://localhost:8080/",
          "height": 68
        },
        "outputId": "03f35cbe-7746-49b2-9ac3-2501e3360332"
      },
      "source": [
        "# check to see if it worked\n",
        "dnd_sales_df[\"Hair\"].value_counts()"
      ],
      "execution_count": 64,
      "outputs": [
        {
          "output_type": "execute_result",
          "data": {
            "text/plain": [
              "no     231\n",
              "yes     94\n",
              "Name: Hair, dtype: int64"
            ]
          },
          "metadata": {
            "tags": []
          },
          "execution_count": 64
        }
      ]
    },
    {
      "cell_type": "code",
      "metadata": {
        "id": "94NtWgnnispx",
        "colab_type": "code",
        "colab": {}
      },
      "source": [
        ""
      ],
      "execution_count": 64,
      "outputs": []
    },
    {
      "cell_type": "code",
      "metadata": {
        "id": "Zb3AdraJtD1l",
        "colab_type": "code",
        "colab": {
          "base_uri": "https://localhost:8080/",
          "height": 265
        },
        "outputId": "880347dc-0410-4494-8032-c081b81f177d"
      },
      "source": [
        "plt.hist(dnd_sales_df[\"Sales_total\"], bins=40)\n",
        "plt.show()"
      ],
      "execution_count": 65,
      "outputs": [
        {
          "output_type": "display_data",
          "data": {
            "image/png": "[encoded data removed]",
            "text/plain": [
              "<Figure size 432x288 with 1 Axes>"
            ]
          },
          "metadata": {
            "tags": [],
            "needs_background": "light"
          }
        }
      ]
    },
    {
      "cell_type": "code",
      "metadata": {
        "id": "8cQtwDLmVCYu",
        "colab_type": "code",
        "colab": {}
      },
      "source": [
        ""
      ],
      "execution_count": 65,
      "outputs": []
    },
    {
      "cell_type": "code",
      "metadata": {
        "id": "pxYEjsPvWL2F",
        "colab_type": "code",
        "colab": {
          "base_uri": "https://localhost:8080/",
          "height": 51
        },
        "outputId": "25206a61-d4b0-4733-aa5c-68f1a515fece"
      },
      "source": [
        "# creat a condition that give zip codes that are above the mode\n",
        "dnd_sales_df[\"Sales_total\"].mode()"
      ],
      "execution_count": 66,
      "outputs": [
        {
          "output_type": "execute_result",
          "data": {
            "text/plain": [
              "0    600\n",
              "dtype: int64"
            ]
          },
          "metadata": {
            "tags": []
          },
          "execution_count": 66
        }
      ]
    },
    {
      "cell_type": "code",
      "metadata": {
        "id": "DXAWzE-urZZB",
        "colab_type": "code",
        "colab": {}
      },
      "source": [
        ""
      ],
      "execution_count": 66,
      "outputs": []
    },
    {
      "cell_type": "code",
      "metadata": {
        "id": "BQ1oN0BarsQh",
        "colab_type": "code",
        "colab": {
          "base_uri": "https://localhost:8080/",
          "height": 221
        },
        "outputId": "5f8faf12-9aba-4e8e-9eff-1cbdae49c7fc"
      },
      "source": [
        "# zip code needs to be checked I think it might have spaces and stuff.\n",
        "dnd_sales_df[\"zip_code\"].value_counts()"
      ],
      "execution_count": 67,
      "outputs": [
        {
          "output_type": "execute_result",
          "data": {
            "text/plain": [
              "32218    19\n",
              "32246    15\n",
              "32258    15\n",
              "32256    15\n",
              "32216    14\n",
              "         ..\n",
              "32033     1\n",
              "31169     1\n",
              "32656     1\n",
              "32227     1\n",
              "32135     1\n",
              "Name: zip_code, Length: 76, dtype: int64"
            ]
          },
          "metadata": {
            "tags": []
          },
          "execution_count": 67
        }
      ]
    },
    {
      "cell_type": "code",
      "metadata": {
        "id": "R-fDSNnahH9y",
        "colab_type": "code",
        "colab": {}
      },
      "source": [
        "dnd_sales_df[\"zip_code\"] = dnd_sales_df[\"zip_code\"].str.strip()"
      ],
      "execution_count": 68,
      "outputs": []
    },
    {
      "cell_type": "code",
      "metadata": {
        "id": "VFt2Kh-Przhm",
        "colab_type": "code",
        "colab": {}
      },
      "source": [
        "dnd_sales_df[\"zip_code\"] = dnd_sales_df[\"zip_code\"].astype(\"category\")"
      ],
      "execution_count": 69,
      "outputs": []
    },
    {
      "cell_type": "code",
      "metadata": {
        "id": "XOKjn-fOr7qV",
        "colab_type": "code",
        "colab": {
          "base_uri": "https://localhost:8080/",
          "height": 272
        },
        "outputId": "57792c7b-3710-4a04-bebc-e4c597961c7e"
      },
      "source": [
        "dnd_sales_df.info()"
      ],
      "execution_count": 70,
      "outputs": [
        {
          "output_type": "stream",
          "text": [
            "<class 'pandas.core.frame.DataFrame'>\n",
            "Int64Index: 325 entries, 0 to 423\n",
            "Data columns (total 8 columns):\n",
            " #   Column            Non-Null Count  Dtype         \n",
            "---  ------            --------------  -----         \n",
            " 0   Date_of_PreShoot  325 non-null    datetime64[ns]\n",
            " 1   Session_Fee       325 non-null    int64         \n",
            " 2   Hair              325 non-null    object        \n",
            " 3   DOB               324 non-null    datetime64[ns]\n",
            " 4   zip_code          325 non-null    category      \n",
            " 5   Sales_total       325 non-null    int64         \n",
            " 6   Model Release     317 non-null    object        \n",
            " 7   Favorite          325 non-null    object        \n",
            "dtypes: category(1), datetime64[ns](2), int64(2), object(3)\n",
            "memory usage: 33.7+ KB\n"
          ],
          "name": "stdout"
        }
      ]
    },
    {
      "cell_type": "code",
      "metadata": {
        "id": "MiqfgHBjiTF2",
        "colab_type": "code",
        "colab": {
          "base_uri": "https://localhost:8080/",
          "height": 918
        },
        "outputId": "c92148a2-b60b-4844-ca21-82dbe577a178"
      },
      "source": [
        "dnd_sales_df[\"Favorite\"].value_counts()\n"
      ],
      "execution_count": 71,
      "outputs": [
        {
          "output_type": "execute_result",
          "data": {
            "text/plain": [
              "no preference               158\n",
              "butt                         59\n",
              "boobs                        32\n",
              "legs                          9\n",
              "butt, eyes                    7\n",
              "eyes                          7\n",
              "boobs, legs                   5\n",
              "butt                          2\n",
              "butt, legs                    2\n",
              "boobs, eyes                   2\n",
              "thighs                        1\n",
              "back, eyes, neck              1\n",
              "boobs, curves                 1\n",
              "eyes,  legs                   1\n",
              "eyes, legs                    1\n",
              "boobs, shoulder               1\n",
              "chest, eyes, neck             1\n",
              "butt, curves, face            1\n",
              "boob, smile                   1\n",
              "boob                          1\n",
              "butt, decoletage              1\n",
              "back, butt, legs              1\n",
              "back, butt                    1\n",
              "boob, legs                    1\n",
              "legs, shoulder, smile         1\n",
              "legs, pale_skin               1\n",
              "eyes, smile                   1\n",
              "legs, feet                    1\n",
              "hips                          1\n",
              "butt, curves                  1\n",
              "waist                         1\n",
              "butt, decoletage, legs        1\n",
              "butt, back                    1\n",
              "hair                          1\n",
              "butt, hair, legs,             1\n",
              "butt, hair, legs              1\n",
              "butt , legs                   1\n",
              "butt, eyes, hair              1\n",
              "boobs, eyes, legs             1\n",
              "boobs, butt, eyes, smile      1\n",
              "smile                         1\n",
              "butt, hips, legs              1\n",
              "freckles, smile               1\n",
              "cheek_bones, eyes, lips       1\n",
              "arms, muscles                 1\n",
              "butt, legs, neck              1\n",
              "abs, butt                     1\n",
              "boobs, butt                   1\n",
              "eyes, hair, legs              1\n",
              "silouette                     1\n",
              "back, eyes                    1\n",
              "back, tattoo                  1\n",
              "Name: Favorite, dtype: int64"
            ]
          },
          "metadata": {
            "tags": []
          },
          "execution_count": 71
        }
      ]
    },
    {
      "cell_type": "code",
      "metadata": {
        "id": "2f3FdlZLiy65",
        "colab_type": "code",
        "colab": {
          "base_uri": "https://localhost:8080/",
          "height": 34
        },
        "outputId": "6a060c67-e4a3-4654-b74e-6468f116c9c7"
      },
      "source": [
        "# lets' see what happens if I strip it\n",
        "dnd_sales_df[\"Favorite\"].str.strip().nunique()"
      ],
      "execution_count": 80,
      "outputs": [
        {
          "output_type": "execute_result",
          "data": {
            "text/plain": [
              "56"
            ]
          },
          "metadata": {
            "tags": []
          },
          "execution_count": 80
        }
      ]
    },
    {
      "cell_type": "code",
      "metadata": {
        "id": "BVpGmTlwjOJV",
        "colab_type": "code",
        "colab": {
          "base_uri": "https://localhost:8080/",
          "height": 34
        },
        "outputId": "da81f07c-c74f-4a5d-f159-0a8aa6cfc3cd"
      },
      "source": [
        "dnd_sales_df.loc[:, \"Sales_total\"].sum()/6"
      ],
      "execution_count": 85,
      "outputs": [
        {
          "output_type": "execute_result",
          "data": {
            "text/plain": [
              "39980.166666666664"
            ]
          },
          "metadata": {
            "tags": []
          },
          "execution_count": 85
        }
      ]
    },
    {
      "cell_type": "code",
      "metadata": {
        "id": "vpZvct9rl-K1",
        "colab_type": "code",
        "colab": {
          "base_uri": "https://localhost:8080/",
          "height": 34
        },
        "outputId": "5c639a12-3d5c-46d8-bef3-e1207e9893ee"
      },
      "source": [
        "dnd_sales_df.loc[:, \"Sales_total\"].mean()/9"
      ],
      "execution_count": 91,
      "outputs": [
        {
          "output_type": "execute_result",
          "data": {
            "text/plain": [
              "82.0105982905983"
            ]
          },
          "metadata": {
            "tags": []
          },
          "execution_count": 91
        }
      ]
    },
    {
      "cell_type": "code",
      "metadata": {
        "id": "X-AvOEEApoIF",
        "colab_type": "code",
        "colab": {}
      },
      "source": [
        ""
      ],
      "execution_count": null,
      "outputs": []
    },
    {
      "cell_type": "code",
      "metadata": {
        "id": "EKE10-SrpiPg",
        "colab_type": "code",
        "colab": {}
      },
      "source": [
        ""
      ],
      "execution_count": null,
      "outputs": []
    },
    {
      "cell_type": "code",
      "metadata": {
        "id": "WYXSsYUtl3GP",
        "colab_type": "code",
        "colab": {}
      },
      "source": [
        ""
      ],
      "execution_count": null,
      "outputs": []
    },
    {
      "cell_type": "code",
      "metadata": {
        "id": "PJ12lFyJloxw",
        "colab_type": "code",
        "colab": {}
      },
      "source": [
        ""
      ],
      "execution_count": null,
      "outputs": []
    },
    {
      "cell_type": "code",
      "metadata": {
        "id": "3qe6i6v4jI8G",
        "colab_type": "code",
        "colab": {}
      },
      "source": [
        ""
      ],
      "execution_count": null,
      "outputs": []
    },
    {
      "cell_type": "code",
      "metadata": {
        "id": "xZ4E7hcAit4C",
        "colab_type": "code",
        "colab": {}
      },
      "source": [
        ""
      ],
      "execution_count": null,
      "outputs": []
    },
    {
      "cell_type": "code",
      "metadata": {
        "id": "ClPfljjMWetv",
        "colab_type": "code",
        "colab": {
          "base_uri": "https://localhost:8080/",
          "height": 68
        },
        "outputId": "74f3b8c8-ce52-42fa-ec36-b736ad2d2b29"
      },
      "source": [
        "hi_sales = dnd_sales_df[\"Sales_total\"] >= 1200\n",
        "hi_sales.value_counts()"
      ],
      "execution_count": 67,
      "outputs": [
        {
          "output_type": "execute_result",
          "data": {
            "text/plain": [
              "False    260\n",
              "True      65\n",
              "Name: Sales_total, dtype: int64"
            ]
          },
          "metadata": {
            "tags": []
          },
          "execution_count": 67
        }
      ]
    },
    {
      "cell_type": "code",
      "metadata": {
        "id": "lg-f5YvbW6B8",
        "colab_type": "code",
        "colab": {
          "base_uri": "https://localhost:8080/",
          "height": 34
        },
        "outputId": "dc9110c3-0c8f-451a-8415-79fa05ceb14f"
      },
      "source": [
        "# the highest sales zip codes\n",
        "\n",
        "dnd_highest_codes_df = dnd_sales_df[hi_sales]\n",
        "dnd_highest_codes_df.shape"
      ],
      "execution_count": 68,
      "outputs": [
        {
          "output_type": "execute_result",
          "data": {
            "text/plain": [
              "(65, 8)"
            ]
          },
          "metadata": {
            "tags": []
          },
          "execution_count": 68
        }
      ]
    },
    {
      "cell_type": "code",
      "metadata": {
        "id": "S5jzvX3gsXoL",
        "colab_type": "code",
        "colab": {
          "base_uri": "https://localhost:8080/",
          "height": 68
        },
        "outputId": "73e14265-f9ee-4844-b825-a3848e395ef4"
      },
      "source": [
        "low_sale_zcodes = dnd_sales_df[\"Sales_total\"] <= 500\n",
        "low_sale_zcodes.value_counts()"
      ],
      "execution_count": null,
      "outputs": [
        {
          "output_type": "execute_result",
          "data": {
            "text/plain": [
              "False    253\n",
              "True      72\n",
              "Name: Sales_total, dtype: int64"
            ]
          },
          "metadata": {
            "tags": []
          },
          "execution_count": 409
        }
      ]
    },
    {
      "cell_type": "code",
      "metadata": {
        "id": "V-TjxDtPsqmI",
        "colab_type": "code",
        "colab": {
          "base_uri": "https://localhost:8080/",
          "height": 297
        },
        "outputId": "332746b8-4545-4939-85c4-bd683a17b4c0"
      },
      "source": [
        "# The lowest sales zip codes\n",
        "dnd_lowest_codes_df = dnd_sales_df[low_sale_zcodes]\n",
        "dnd_lowest_codes_df.describe()"
      ],
      "execution_count": null,
      "outputs": [
        {
          "output_type": "execute_result",
          "data": {
            "text/html": [
              "<div>\n",
              "<style scoped>\n",
              "    .dataframe tbody tr th:only-of-type {\n",
              "        vertical-align: middle;\n",
              "    }\n",
              "\n",
              "    .dataframe tbody tr th {\n",
              "        vertical-align: top;\n",
              "    }\n",
              "\n",
              "    .dataframe thead th {\n",
              "        text-align: right;\n",
              "    }\n",
              "</style>\n",
              "<table border=\"1\" class=\"dataframe\">\n",
              "  <thead>\n",
              "    <tr style=\"text-align: right;\">\n",
              "      <th></th>\n",
              "      <th>Session_Fee</th>\n",
              "      <th>Sales_total</th>\n",
              "    </tr>\n",
              "  </thead>\n",
              "  <tbody>\n",
              "    <tr>\n",
              "      <th>count</th>\n",
              "      <td>72.000000</td>\n",
              "      <td>72.000000</td>\n",
              "    </tr>\n",
              "    <tr>\n",
              "      <th>mean</th>\n",
              "      <td>86.569444</td>\n",
              "      <td>180.541667</td>\n",
              "    </tr>\n",
              "    <tr>\n",
              "      <th>std</th>\n",
              "      <td>36.490333</td>\n",
              "      <td>142.707219</td>\n",
              "    </tr>\n",
              "    <tr>\n",
              "      <th>min</th>\n",
              "      <td>0.000000</td>\n",
              "      <td>0.000000</td>\n",
              "    </tr>\n",
              "    <tr>\n",
              "      <th>25%</th>\n",
              "      <td>99.000000</td>\n",
              "      <td>60.000000</td>\n",
              "    </tr>\n",
              "    <tr>\n",
              "      <th>50%</th>\n",
              "      <td>99.000000</td>\n",
              "      <td>160.000000</td>\n",
              "    </tr>\n",
              "    <tr>\n",
              "      <th>75%</th>\n",
              "      <td>99.000000</td>\n",
              "      <td>305.000000</td>\n",
              "    </tr>\n",
              "    <tr>\n",
              "      <th>max</th>\n",
              "      <td>179.000000</td>\n",
              "      <td>440.000000</td>\n",
              "    </tr>\n",
              "  </tbody>\n",
              "</table>\n",
              "</div>"
            ],
            "text/plain": [
              "       Session_Fee  Sales_total\n",
              "count    72.000000    72.000000\n",
              "mean     86.569444   180.541667\n",
              "std      36.490333   142.707219\n",
              "min       0.000000     0.000000\n",
              "25%      99.000000    60.000000\n",
              "50%      99.000000   160.000000\n",
              "75%      99.000000   305.000000\n",
              "max     179.000000   440.000000"
            ]
          },
          "metadata": {
            "tags": []
          },
          "execution_count": 411
        }
      ]
    },
    {
      "cell_type": "code",
      "metadata": {
        "id": "TxL0G1Q_tQbe",
        "colab_type": "code",
        "colab": {}
      },
      "source": [
        ""
      ],
      "execution_count": null,
      "outputs": []
    },
    {
      "cell_type": "code",
      "metadata": {
        "id": "mJOb--BYtMOd",
        "colab_type": "code",
        "colab": {}
      },
      "source": [
        ""
      ],
      "execution_count": null,
      "outputs": []
    },
    {
      "cell_type": "code",
      "metadata": {
        "id": "pUfYVK8QXbeX",
        "colab_type": "code",
        "colab": {
          "base_uri": "https://localhost:8080/",
          "height": 297
        },
        "outputId": "acb30e8b-da0b-48c2-cf71-42eb5bfc07d1"
      },
      "source": [
        "dnd_highest_codes_df.describe()"
      ],
      "execution_count": null,
      "outputs": [
        {
          "output_type": "execute_result",
          "data": {
            "text/html": [
              "<div>\n",
              "<style scoped>\n",
              "    .dataframe tbody tr th:only-of-type {\n",
              "        vertical-align: middle;\n",
              "    }\n",
              "\n",
              "    .dataframe tbody tr th {\n",
              "        vertical-align: top;\n",
              "    }\n",
              "\n",
              "    .dataframe thead th {\n",
              "        text-align: right;\n",
              "    }\n",
              "</style>\n",
              "<table border=\"1\" class=\"dataframe\">\n",
              "  <thead>\n",
              "    <tr style=\"text-align: right;\">\n",
              "      <th></th>\n",
              "      <th>Session_Fee</th>\n",
              "      <th>Sales_total</th>\n",
              "    </tr>\n",
              "  </thead>\n",
              "  <tbody>\n",
              "    <tr>\n",
              "      <th>count</th>\n",
              "      <td>65.000000</td>\n",
              "      <td>65.000000</td>\n",
              "    </tr>\n",
              "    <tr>\n",
              "      <th>mean</th>\n",
              "      <td>110.723077</td>\n",
              "      <td>1467.015385</td>\n",
              "    </tr>\n",
              "    <tr>\n",
              "      <th>std</th>\n",
              "      <td>45.380168</td>\n",
              "      <td>403.523369</td>\n",
              "    </tr>\n",
              "    <tr>\n",
              "      <th>min</th>\n",
              "      <td>25.000000</td>\n",
              "      <td>1200.000000</td>\n",
              "    </tr>\n",
              "    <tr>\n",
              "      <th>25%</th>\n",
              "      <td>99.000000</td>\n",
              "      <td>1200.000000</td>\n",
              "    </tr>\n",
              "    <tr>\n",
              "      <th>50%</th>\n",
              "      <td>99.000000</td>\n",
              "      <td>1320.000000</td>\n",
              "    </tr>\n",
              "    <tr>\n",
              "      <th>75%</th>\n",
              "      <td>99.000000</td>\n",
              "      <td>1550.000000</td>\n",
              "    </tr>\n",
              "    <tr>\n",
              "      <th>max</th>\n",
              "      <td>179.000000</td>\n",
              "      <td>3000.000000</td>\n",
              "    </tr>\n",
              "  </tbody>\n",
              "</table>\n",
              "</div>"
            ],
            "text/plain": [
              "       Session_Fee  Sales_total\n",
              "count    65.000000    65.000000\n",
              "mean    110.723077  1467.015385\n",
              "std      45.380168   403.523369\n",
              "min      25.000000  1200.000000\n",
              "25%      99.000000  1200.000000\n",
              "50%      99.000000  1320.000000\n",
              "75%      99.000000  1550.000000\n",
              "max     179.000000  3000.000000"
            ]
          },
          "metadata": {
            "tags": []
          },
          "execution_count": 395
        }
      ]
    },
    {
      "cell_type": "code",
      "metadata": {
        "id": "aqaGStKVXku2",
        "colab_type": "code",
        "colab": {
          "base_uri": "https://localhost:8080/",
          "height": 170
        },
        "outputId": "e3279a64-5f92-4555-fcd4-0a6c26e048b7"
      },
      "source": [
        "dnd_highest_codes_df.nunique()"
      ],
      "execution_count": null,
      "outputs": [
        {
          "output_type": "execute_result",
          "data": {
            "text/plain": [
              "Date_of_PreShoot    60\n",
              "Session_Fee          3\n",
              "Hair                 2\n",
              "DOB                 64\n",
              "zip_code            37\n",
              "Sales_total         21\n",
              "Model Release        3\n",
              "Favorite            19\n",
              "dtype: int64"
            ]
          },
          "metadata": {
            "tags": []
          },
          "execution_count": 396
        }
      ]
    },
    {
      "cell_type": "code",
      "metadata": {
        "id": "JDW5wGWTXxhE",
        "colab_type": "code",
        "colab": {
          "base_uri": "https://localhost:8080/",
          "height": 170
        },
        "outputId": "4aedd9d2-233f-4e3a-bd57-4fa08136d3fb"
      },
      "source": [
        "dnd_sales_df.nunique()"
      ],
      "execution_count": null,
      "outputs": [
        {
          "output_type": "execute_result",
          "data": {
            "text/plain": [
              "Date_of_PreShoot    266\n",
              "Session_Fee           7\n",
              "Hair                  2\n",
              "DOB                 316\n",
              "zip_code             76\n",
              "Sales_total          68\n",
              "Model Release         4\n",
              "Favorite             57\n",
              "dtype: int64"
            ]
          },
          "metadata": {
            "tags": []
          },
          "execution_count": 397
        }
      ]
    },
    {
      "cell_type": "code",
      "metadata": {
        "id": "6LUEYjYdX5G0",
        "colab_type": "code",
        "colab": {}
      },
      "source": [
        ""
      ],
      "execution_count": null,
      "outputs": []
    },
    {
      "cell_type": "code",
      "metadata": {
        "id": "a0BiaWoVW20c",
        "colab_type": "code",
        "colab": {}
      },
      "source": [
        "dnd"
      ],
      "execution_count": null,
      "outputs": []
    },
    {
      "cell_type": "code",
      "metadata": {
        "id": "B2BIFH8qUY7q",
        "colab_type": "code",
        "colab": {
          "base_uri": "https://localhost:8080/",
          "height": 265
        },
        "outputId": "8fa9e5a7-5609-4e23-d8e2-53ffe33052c6"
      },
      "source": [
        "plt.scatter(dnd_sales_df[\"Sales_total\"], dnd_sales_df[\"zip_code\"], alpha=.1)\n",
        "plt.show()\n",
        "\n",
        "# I need to find a better way to show this graph.  I like that it splits the \n",
        "# sales data geographically, but the level is granularity is too much"
      ],
      "execution_count": null,
      "outputs": [
        {
          "output_type": "display_data",
          "data": {
            "image/png": "[encoded data removed]",
            "text/plain": [
              "<Figure size 432x288 with 1 Axes>"
            ]
          },
          "metadata": {
            "tags": [],
            "needs_background": "light"
          }
        }
      ]
    },
    {
      "cell_type": "code",
      "metadata": {
        "id": "PIrVfx1HcWwY",
        "colab_type": "code",
        "colab": {
          "base_uri": "https://localhost:8080/",
          "height": 663
        },
        "outputId": "6ee5275c-6c51-4390-c5b4-2c41c39fd7da"
      },
      "source": [
        "dnd_highest_codes_df[\"zip_code\"].value_counts()"
      ],
      "execution_count": null,
      "outputs": [
        {
          "output_type": "execute_result",
          "data": {
            "text/plain": [
              "32258    8\n",
              "32224    4\n",
              "32218    4\n",
              "32225    3\n",
              "32216    3\n",
              "32211    3\n",
              "32223    2\n",
              "32246    2\n",
              "32040    2\n",
              "32097    2\n",
              "32226    2\n",
              "32257    2\n",
              "32256    2\n",
              "32244    2\n",
              "32207    2\n",
              "32405    1\n",
              "31520    1\n",
              "31558    1\n",
              "32312    1\n",
              "32277    1\n",
              "31548    1\n",
              "32063    1\n",
              "32135    1\n",
              "32137    1\n",
              "31522    1\n",
              "32003    1\n",
              "32208    1\n",
              "32095    1\n",
              "78413    1\n",
              "33605    1\n",
              "32250    1\n",
              "32073    1\n",
              "32065    1\n",
              "32217    1\n",
              "32046    1\n",
              "32259    1\n",
              "32011    1\n",
              "Name: zip_code, dtype: int64"
            ]
          },
          "metadata": {
            "tags": []
          },
          "execution_count": 399
        }
      ]
    },
    {
      "cell_type": "code",
      "metadata": {
        "id": "20YvitrEutFl",
        "colab_type": "code",
        "colab": {
          "base_uri": "https://localhost:8080/",
          "height": 68
        },
        "outputId": "9bb65297-aae0-4f80-89d1-d186e0c5345f"
      },
      "source": [
        "dnd_highest_codes_df[\"Hair\"].value_counts()"
      ],
      "execution_count": null,
      "outputs": [
        {
          "output_type": "execute_result",
          "data": {
            "text/plain": [
              "no     45\n",
              "yes    20\n",
              "Name: Hair, dtype: int64"
            ]
          },
          "metadata": {
            "tags": []
          },
          "execution_count": 415
        }
      ]
    },
    {
      "cell_type": "code",
      "metadata": {
        "id": "6BUblM1JtgW4",
        "colab_type": "code",
        "colab": {
          "base_uri": "https://localhost:8080/",
          "height": 680
        },
        "outputId": "a6d938f1-5942-4691-8e61-fb0098ea76dd"
      },
      "source": [
        "dnd_lowest_codes_df[\"zip_code\"].value_counts()"
      ],
      "execution_count": null,
      "outputs": [
        {
          "output_type": "execute_result",
          "data": {
            "text/plain": [
              "32246    7\n",
              "32218    5\n",
              "32225    4\n",
              "32226    3\n",
              "32205    3\n",
              "32256    3\n",
              "32034    3\n",
              "32257    3\n",
              "32211    2\n",
              "32073    2\n",
              "32080    2\n",
              "32250    2\n",
              "32065    2\n",
              "32068    2\n",
              "32003    2\n",
              "32086    2\n",
              "32224    2\n",
              "32258    2\n",
              "32244    2\n",
              "32277    1\n",
              "31525    1\n",
              "32207    1\n",
              "32081    1\n",
              "32082    1\n",
              "32137    1\n",
              "32219    1\n",
              "32216    1\n",
              "32206    1\n",
              "3220?    1\n",
              "32223    1\n",
              "32097    1\n",
              "32092    1\n",
              "32164    1\n",
              "32221    1\n",
              "32043    1\n",
              "32656    1\n",
              "32227    1\n",
              "32208    1\n",
              "Name: zip_code, dtype: int64"
            ]
          },
          "metadata": {
            "tags": []
          },
          "execution_count": 412
        }
      ]
    },
    {
      "cell_type": "code",
      "metadata": {
        "id": "a7MwQ5MXueMh",
        "colab_type": "code",
        "colab": {
          "base_uri": "https://localhost:8080/",
          "height": 68
        },
        "outputId": "42b5ff91-69ad-458f-8925-6e36171eafd6"
      },
      "source": [
        "dnd_lowest_codes_df[\"Hair\"].value_counts()"
      ],
      "execution_count": null,
      "outputs": [
        {
          "output_type": "execute_result",
          "data": {
            "text/plain": [
              "no     56\n",
              "yes    16\n",
              "Name: Hair, dtype: int64"
            ]
          },
          "metadata": {
            "tags": []
          },
          "execution_count": 414
        }
      ]
    },
    {
      "cell_type": "code",
      "metadata": {
        "id": "afpjiGmWup6a",
        "colab_type": "code",
        "colab": {}
      },
      "source": [
        ""
      ],
      "execution_count": null,
      "outputs": []
    },
    {
      "cell_type": "code",
      "metadata": {
        "id": "K6-CvP7duk9L",
        "colab_type": "code",
        "colab": {}
      },
      "source": [
        ""
      ],
      "execution_count": null,
      "outputs": []
    },
    {
      "cell_type": "code",
      "metadata": {
        "id": "kHacmG9aV_9M",
        "colab_type": "code",
        "colab": {
          "base_uri": "https://localhost:8080/",
          "height": 282
        },
        "outputId": "bcbcbbcc-e0b5-485e-fa23-655e94a7405f"
      },
      "source": [
        "dnd_highest_codes_df[\"zip_code\"].value_counts().plot()"
      ],
      "execution_count": null,
      "outputs": [
        {
          "output_type": "execute_result",
          "data": {
            "text/plain": [
              "<matplotlib.axes._subplots.AxesSubplot at 0x7feb129b3d68>"
            ]
          },
          "metadata": {
            "tags": []
          },
          "execution_count": 400
        },
        {
          "output_type": "display_data",
          "data": {
            "image/png": "[encoded data removed]",
            "text/plain": [
              "<Figure size 432x288 with 1 Axes>"
            ]
          },
          "metadata": {
            "tags": [],
            "needs_background": "light"
          }
        }
      ]
    },
    {
      "cell_type": "code",
      "metadata": {
        "id": "cAOQAaGrcE6u",
        "colab_type": "code",
        "colab": {
          "base_uri": "https://localhost:8080/",
          "height": 450
        },
        "outputId": "da681d6c-e669-43db-f489-bd6d44242a68"
      },
      "source": [
        "# cross tab - I will need to bin /cut the Sales sessions to do an evocative crosstab\n",
        "# but I can try it now, just to see\n",
        "# based on this I need to bin the Sales into maybe 5 categories. \n",
        "# and bin the zip codes into 2/4/8 categories\n",
        "\n",
        "cross=pd.crosstab(dnd_sales_df[\"Sales_total\"], dnd_sales_df[\"Hair\"])\n",
        "cross"
      ],
      "execution_count": null,
      "outputs": [
        {
          "output_type": "execute_result",
          "data": {
            "text/html": [
              "<div>\n",
              "<style scoped>\n",
              "    .dataframe tbody tr th:only-of-type {\n",
              "        vertical-align: middle;\n",
              "    }\n",
              "\n",
              "    .dataframe tbody tr th {\n",
              "        vertical-align: top;\n",
              "    }\n",
              "\n",
              "    .dataframe thead th {\n",
              "        text-align: right;\n",
              "    }\n",
              "</style>\n",
              "<table border=\"1\" class=\"dataframe\">\n",
              "  <thead>\n",
              "    <tr style=\"text-align: right;\">\n",
              "      <th>Hair</th>\n",
              "      <th>no</th>\n",
              "      <th>yes</th>\n",
              "    </tr>\n",
              "    <tr>\n",
              "      <th>Sales_total</th>\n",
              "      <th></th>\n",
              "      <th></th>\n",
              "    </tr>\n",
              "  </thead>\n",
              "  <tbody>\n",
              "    <tr>\n",
              "      <th>0</th>\n",
              "      <td>14</td>\n",
              "      <td>4</td>\n",
              "    </tr>\n",
              "    <tr>\n",
              "      <th>80</th>\n",
              "      <td>5</td>\n",
              "      <td>2</td>\n",
              "    </tr>\n",
              "    <tr>\n",
              "      <th>90</th>\n",
              "      <td>1</td>\n",
              "      <td>0</td>\n",
              "    </tr>\n",
              "    <tr>\n",
              "      <th>160</th>\n",
              "      <td>13</td>\n",
              "      <td>1</td>\n",
              "    </tr>\n",
              "    <tr>\n",
              "      <th>200</th>\n",
              "      <td>1</td>\n",
              "      <td>0</td>\n",
              "    </tr>\n",
              "    <tr>\n",
              "      <th>...</th>\n",
              "      <td>...</td>\n",
              "      <td>...</td>\n",
              "    </tr>\n",
              "    <tr>\n",
              "      <th>2200</th>\n",
              "      <td>1</td>\n",
              "      <td>0</td>\n",
              "    </tr>\n",
              "    <tr>\n",
              "      <th>2400</th>\n",
              "      <td>0</td>\n",
              "      <td>1</td>\n",
              "    </tr>\n",
              "    <tr>\n",
              "      <th>2520</th>\n",
              "      <td>1</td>\n",
              "      <td>1</td>\n",
              "    </tr>\n",
              "    <tr>\n",
              "      <th>2730</th>\n",
              "      <td>1</td>\n",
              "      <td>0</td>\n",
              "    </tr>\n",
              "    <tr>\n",
              "      <th>3000</th>\n",
              "      <td>0</td>\n",
              "      <td>1</td>\n",
              "    </tr>\n",
              "  </tbody>\n",
              "</table>\n",
              "<p>68 rows × 2 columns</p>\n",
              "</div>"
            ],
            "text/plain": [
              "Hair         no  yes\n",
              "Sales_total         \n",
              "0            14    4\n",
              "80            5    2\n",
              "90            1    0\n",
              "160          13    1\n",
              "200           1    0\n",
              "...          ..  ...\n",
              "2200          1    0\n",
              "2400          0    1\n",
              "2520          1    1\n",
              "2730          1    0\n",
              "3000          0    1\n",
              "\n",
              "[68 rows x 2 columns]"
            ]
          },
          "metadata": {
            "tags": []
          },
          "execution_count": 404
        }
      ]
    },
    {
      "cell_type": "code",
      "metadata": {
        "id": "17CfD3dfT-JH",
        "colab_type": "code",
        "colab": {
          "base_uri": "https://localhost:8080/",
          "height": 280
        },
        "outputId": "9cb72ce8-ce60-43e3-b694-818c1b8e8e72"
      },
      "source": [
        "cross.plot();"
      ],
      "execution_count": null,
      "outputs": [
        {
          "output_type": "display_data",
          "data": {
            "image/png": "[encoded data removed]",
            "text/plain": [
              "<Figure size 432x288 with 1 Axes>"
            ]
          },
          "metadata": {
            "tags": [],
            "needs_background": "light"
          }
        }
      ]
    },
    {
      "cell_type": "code",
      "metadata": {
        "id": "Z6YnAW6ffSsw",
        "colab_type": "code",
        "colab": {}
      },
      "source": [
        "# lets check the sales data for the hair and no hair groups\n",
        "cond_mu_only = dnd_sales_df[\"Hair\"] == \"no\"\n",
        "cond_wHair = dnd_sales_df[\"Hair\"] == \"yes\"\n",
        "\n",
        "\n",
        "dnd_makeup_only_df = dnd_sales_df[cond_mu_only]\n",
        "dnd_w_hair_df = dnd_sales_df[cond_wHair]"
      ],
      "execution_count": null,
      "outputs": []
    },
    {
      "cell_type": "code",
      "metadata": {
        "id": "Z0QYKOUvksD0",
        "colab_type": "code",
        "colab": {
          "base_uri": "https://localhost:8080/",
          "height": 297
        },
        "outputId": "a6f877b0-1f0c-4669-ce8f-7acdbf22103c"
      },
      "source": [
        "dnd_makeup_only_df.describe() # "
      ],
      "execution_count": null,
      "outputs": [
        {
          "output_type": "execute_result",
          "data": {
            "text/html": [
              "<div>\n",
              "<style scoped>\n",
              "    .dataframe tbody tr th:only-of-type {\n",
              "        vertical-align: middle;\n",
              "    }\n",
              "\n",
              "    .dataframe tbody tr th {\n",
              "        vertical-align: top;\n",
              "    }\n",
              "\n",
              "    .dataframe thead th {\n",
              "        text-align: right;\n",
              "    }\n",
              "</style>\n",
              "<table border=\"1\" class=\"dataframe\">\n",
              "  <thead>\n",
              "    <tr style=\"text-align: right;\">\n",
              "      <th></th>\n",
              "      <th>Session_Fee</th>\n",
              "      <th>Sales_total</th>\n",
              "    </tr>\n",
              "  </thead>\n",
              "  <tbody>\n",
              "    <tr>\n",
              "      <th>count</th>\n",
              "      <td>231.000000</td>\n",
              "      <td>231.000000</td>\n",
              "    </tr>\n",
              "    <tr>\n",
              "      <th>mean</th>\n",
              "      <td>92.380952</td>\n",
              "      <td>711.567100</td>\n",
              "    </tr>\n",
              "    <tr>\n",
              "      <th>std</th>\n",
              "      <td>42.195223</td>\n",
              "      <td>455.453347</td>\n",
              "    </tr>\n",
              "    <tr>\n",
              "      <th>min</th>\n",
              "      <td>0.000000</td>\n",
              "      <td>0.000000</td>\n",
              "    </tr>\n",
              "    <tr>\n",
              "      <th>25%</th>\n",
              "      <td>99.000000</td>\n",
              "      <td>515.000000</td>\n",
              "    </tr>\n",
              "    <tr>\n",
              "      <th>50%</th>\n",
              "      <td>99.000000</td>\n",
              "      <td>600.000000</td>\n",
              "    </tr>\n",
              "    <tr>\n",
              "      <th>75%</th>\n",
              "      <td>99.000000</td>\n",
              "      <td>950.000000</td>\n",
              "    </tr>\n",
              "    <tr>\n",
              "      <th>max</th>\n",
              "      <td>249.000000</td>\n",
              "      <td>2730.000000</td>\n",
              "    </tr>\n",
              "  </tbody>\n",
              "</table>\n",
              "</div>"
            ],
            "text/plain": [
              "       Session_Fee  Sales_total\n",
              "count   231.000000   231.000000\n",
              "mean     92.380952   711.567100\n",
              "std      42.195223   455.453347\n",
              "min       0.000000     0.000000\n",
              "25%      99.000000   515.000000\n",
              "50%      99.000000   600.000000\n",
              "75%      99.000000   950.000000\n",
              "max     249.000000  2730.000000"
            ]
          },
          "metadata": {
            "tags": []
          },
          "execution_count": 407
        }
      ]
    },
    {
      "cell_type": "code",
      "metadata": {
        "id": "ZcZ9yGngkwyL",
        "colab_type": "code",
        "colab": {
          "base_uri": "https://localhost:8080/",
          "height": 297
        },
        "outputId": "0a4d0fb9-a21f-4235-9bbe-d8b314a65ba7"
      },
      "source": [
        "dnd_w_hair_df.describe() # this result is very interesting.  it implies clients \n",
        "# who get hair done spend and average of $100 more!\n",
        "# plus we work one hour less! and the morale of the team improves because the \n",
        "# stylist gets paid more. "
      ],
      "execution_count": null,
      "outputs": [
        {
          "output_type": "execute_result",
          "data": {
            "text/html": [
              "<div>\n",
              "<style scoped>\n",
              "    .dataframe tbody tr th:only-of-type {\n",
              "        vertical-align: middle;\n",
              "    }\n",
              "\n",
              "    .dataframe tbody tr th {\n",
              "        vertical-align: top;\n",
              "    }\n",
              "\n",
              "    .dataframe thead th {\n",
              "        text-align: right;\n",
              "    }\n",
              "</style>\n",
              "<table border=\"1\" class=\"dataframe\">\n",
              "  <thead>\n",
              "    <tr style=\"text-align: right;\">\n",
              "      <th></th>\n",
              "      <th>Session_Fee</th>\n",
              "      <th>Sales_total</th>\n",
              "    </tr>\n",
              "  </thead>\n",
              "  <tbody>\n",
              "    <tr>\n",
              "      <th>count</th>\n",
              "      <td>94.000000</td>\n",
              "      <td>94.000000</td>\n",
              "    </tr>\n",
              "    <tr>\n",
              "      <th>mean</th>\n",
              "      <td>107.180851</td>\n",
              "      <td>803.287234</td>\n",
              "    </tr>\n",
              "    <tr>\n",
              "      <th>std</th>\n",
              "      <td>45.255300</td>\n",
              "      <td>518.220438</td>\n",
              "    </tr>\n",
              "    <tr>\n",
              "      <th>min</th>\n",
              "      <td>0.000000</td>\n",
              "      <td>0.000000</td>\n",
              "    </tr>\n",
              "    <tr>\n",
              "      <th>25%</th>\n",
              "      <td>99.000000</td>\n",
              "      <td>600.000000</td>\n",
              "    </tr>\n",
              "    <tr>\n",
              "      <th>50%</th>\n",
              "      <td>99.000000</td>\n",
              "      <td>679.500000</td>\n",
              "    </tr>\n",
              "    <tr>\n",
              "      <th>75%</th>\n",
              "      <td>99.000000</td>\n",
              "      <td>1057.500000</td>\n",
              "    </tr>\n",
              "    <tr>\n",
              "      <th>max</th>\n",
              "      <td>249.000000</td>\n",
              "      <td>3000.000000</td>\n",
              "    </tr>\n",
              "  </tbody>\n",
              "</table>\n",
              "</div>"
            ],
            "text/plain": [
              "       Session_Fee  Sales_total\n",
              "count    94.000000    94.000000\n",
              "mean    107.180851   803.287234\n",
              "std      45.255300   518.220438\n",
              "min       0.000000     0.000000\n",
              "25%      99.000000   600.000000\n",
              "50%      99.000000   679.500000\n",
              "75%      99.000000  1057.500000\n",
              "max     249.000000  3000.000000"
            ]
          },
          "metadata": {
            "tags": []
          },
          "execution_count": 408
        }
      ]
    },
    {
      "cell_type": "code",
      "metadata": {
        "id": "tJcPCKr3k1Hb",
        "colab_type": "code",
        "colab": {}
      },
      "source": [
        ""
      ],
      "execution_count": null,
      "outputs": []
    },
    {
      "cell_type": "code",
      "metadata": {
        "id": "wE-5sl9noOmT",
        "colab_type": "code",
        "colab": {}
      },
      "source": [
        ""
      ],
      "execution_count": null,
      "outputs": []
    },
    {
      "cell_type": "code",
      "metadata": {
        "id": "hdNiPHaGSzhH",
        "colab_type": "code",
        "colab": {
          "base_uri": "https://localhost:8080/",
          "height": 282
        },
        "outputId": "27f337ec-b0a0-47bf-c8ab-e96a5fb46e83"
      },
      "source": [
        "#lets graph the distribution with a histogram\n",
        "\n",
        "plt.hist(x=dnd_df[\"Favorite\"].value_counts(), bins=70)\n",
        "plt.show"
      ],
      "execution_count": null,
      "outputs": [
        {
          "output_type": "execute_result",
          "data": {
            "text/plain": [
              "<function matplotlib.pyplot.show>"
            ]
          },
          "metadata": {
            "tags": []
          },
          "execution_count": 267
        },
        {
          "output_type": "display_data",
          "data": {
            "image/png": "[encoded data removed]",
            "text/plain": [
              "<Figure size 432x288 with 1 Axes>"
            ]
          },
          "metadata": {
            "tags": [],
            "needs_background": "light"
          }
        }
      ]
    },
    {
      "cell_type": "code",
      "metadata": {
        "id": "ZJq260z6czxr",
        "colab_type": "code",
        "colab": {}
      },
      "source": [
        ""
      ],
      "execution_count": null,
      "outputs": []
    },
    {
      "cell_type": "code",
      "metadata": {
        "id": "c9AGHMGBcuqc",
        "colab_type": "code",
        "colab": {}
      },
      "source": [
        ""
      ],
      "execution_count": null,
      "outputs": []
    },
    {
      "cell_type": "code",
      "metadata": {
        "id": "SlqgEgmtU4rC",
        "colab_type": "code",
        "colab": {}
      },
      "source": [
        ""
      ],
      "execution_count": null,
      "outputs": []
    },
    {
      "cell_type": "code",
      "metadata": {
        "id": "pIYA4O3mUjpl",
        "colab_type": "code",
        "colab": {}
      },
      "source": [
        ""
      ],
      "execution_count": null,
      "outputs": []
    },
    {
      "cell_type": "code",
      "metadata": {
        "id": "RoOIVfKUUOyc",
        "colab_type": "code",
        "colab": {}
      },
      "source": [
        ""
      ],
      "execution_count": null,
      "outputs": []
    },
    {
      "cell_type": "code",
      "metadata": {
        "id": "PNOSNQS1TOck",
        "colab_type": "code",
        "colab": {}
      },
      "source": [
        ""
      ],
      "execution_count": null,
      "outputs": []
    }
  ]
}