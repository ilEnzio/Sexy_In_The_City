{
  "nbformat": 4,
  "nbformat_minor": 0,
  "metadata": {
    "colab": {
      "name": "Photography_Dataset_Submission.ipynb",
      "provenance": [],
      "collapsed_sections": [],
      "include_colab_link": true
    },
    "kernelspec": {
      "name": "python3",
      "display_name": "Python 3"
    }
  },
  "cells": [
    {
      "cell_type": "markdown",
      "metadata": {
        "id": "view-in-github",
        "colab_type": "text"
      },
      "source": [
        "<a href=\"https://colab.research.google.com/github/ilEnzio/Sexy_In_The_City/blob/master/Photography_Dataset_Submission.ipynb\" target=\"_parent\"><img src=\"https://colab.research.google.com/assets/colab-badge.svg\" alt=\"Open In Colab\"/></a>"
      ]
    },
    {
      "cell_type": "code",
      "metadata": {
        "id": "J6d2MFGvqbQT",
        "colab_type": "code",
        "colab": {}
      },
      "source": [
        "import numpy as np\n",
        "import pandas as pd\n",
        "import matplotlib.pyplot as plt"
      ],
      "execution_count": 64,
      "outputs": []
    },
    {
      "cell_type": "code",
      "metadata": {
        "id": "IvGrjFl9xS1R",
        "colab_type": "code",
        "colab": {}
      },
      "source": [
        "# parse_dates=[\"datetime\"]\n",
        "dates = [\"Date_of_PreShoot\", \"DOB\"]"
      ],
      "execution_count": 63,
      "outputs": []
    },
    {
      "cell_type": "code",
      "metadata": {
        "id": "BJoSCvk9QKd-",
        "colab_type": "code",
        "colab": {}
      },
      "source": [
        "dnd_df = pd.read_csv(\"https://raw.githubusercontent.com/ilEnzio/Sexy_In_The_City/master/DND%20data_3.csv\", parse_dates=dates)"
      ],
      "execution_count": 65,
      "outputs": []
    },
    {
      "cell_type": "code",
      "metadata": {
        "id": "NCRQR6wL2rUh",
        "colab_type": "code",
        "colab": {
          "base_uri": "https://localhost:8080/",
          "height": 269
        },
        "outputId": "04b1f3bf-3a4c-48e5-c991-170af2b629f0"
      },
      "source": [
        "dnd_df.info()"
      ],
      "execution_count": 66,
      "outputs": [
        {
          "output_type": "stream",
          "text": [
            "<class 'pandas.core.frame.DataFrame'>\n",
            "RangeIndex: 424 entries, 0 to 423\n",
            "Data columns (total 8 columns):\n",
            " #   Column            Non-Null Count  Dtype         \n",
            "---  ------            --------------  -----         \n",
            " 0   Date_of_PreShoot  422 non-null    datetime64[ns]\n",
            " 1   Session_Fee       422 non-null    object        \n",
            " 2   Hair              422 non-null    object        \n",
            " 3   DOB               424 non-null    object        \n",
            " 4   zip_code          422 non-null    object        \n",
            " 5   Sales_total       326 non-null    object        \n",
            " 6   Model Release     324 non-null    object        \n",
            " 7   Favorite          218 non-null    object        \n",
            "dtypes: datetime64[ns](1), object(7)\n",
            "memory usage: 26.6+ KB\n"
          ],
          "name": "stdout"
        }
      ]
    },
    {
      "cell_type": "code",
      "metadata": {
        "id": "J_4LAydk2tWP",
        "colab_type": "code",
        "colab": {}
      },
      "source": [
        ""
      ],
      "execution_count": 4,
      "outputs": []
    },
    {
      "cell_type": "code",
      "metadata": {
        "id": "zLtXhlRzrJQM",
        "colab_type": "code",
        "colab": {
          "base_uri": "https://localhost:8080/",
          "height": 34
        },
        "outputId": "be7015d2-22c4-41cd-86c0-a99be0a97653"
      },
      "source": [
        "\n",
        "dnd_df.shape"
      ],
      "execution_count": 67,
      "outputs": [
        {
          "output_type": "execute_result",
          "data": {
            "text/plain": [
              "(424, 8)"
            ]
          },
          "metadata": {
            "tags": []
          },
          "execution_count": 67
        }
      ]
    },
    {
      "cell_type": "code",
      "metadata": {
        "id": "uLtiHWjvsAWj",
        "colab_type": "code",
        "colab": {
          "base_uri": "https://localhost:8080/",
          "height": 195
        },
        "outputId": "9b8ccaba-5ffe-4c8d-f968-99678e0c716a"
      },
      "source": [
        "dnd_df.head()"
      ],
      "execution_count": 68,
      "outputs": [
        {
          "output_type": "execute_result",
          "data": {
            "text/html": [
              "<div>\n",
              "<style scoped>\n",
              "    .dataframe tbody tr th:only-of-type {\n",
              "        vertical-align: middle;\n",
              "    }\n",
              "\n",
              "    .dataframe tbody tr th {\n",
              "        vertical-align: top;\n",
              "    }\n",
              "\n",
              "    .dataframe thead th {\n",
              "        text-align: right;\n",
              "    }\n",
              "</style>\n",
              "<table border=\"1\" class=\"dataframe\">\n",
              "  <thead>\n",
              "    <tr style=\"text-align: right;\">\n",
              "      <th></th>\n",
              "      <th>Date_of_PreShoot</th>\n",
              "      <th>Session_Fee</th>\n",
              "      <th>Hair</th>\n",
              "      <th>DOB</th>\n",
              "      <th>zip_code</th>\n",
              "      <th>Sales_total</th>\n",
              "      <th>Model Release</th>\n",
              "      <th>Favorite</th>\n",
              "    </tr>\n",
              "  </thead>\n",
              "  <tbody>\n",
              "    <tr>\n",
              "      <th>0</th>\n",
              "      <td>2017-01-05</td>\n",
              "      <td>99</td>\n",
              "      <td>yes</td>\n",
              "      <td>5/5/1976</td>\n",
              "      <td>32208</td>\n",
              "      <td>600</td>\n",
              "      <td>yes</td>\n",
              "      <td>butt</td>\n",
              "    </tr>\n",
              "    <tr>\n",
              "      <th>1</th>\n",
              "      <td>2017-11-02</td>\n",
              "      <td>99</td>\n",
              "      <td>yes</td>\n",
              "      <td>10/16/1984</td>\n",
              "      <td>32082</td>\n",
              "      <td>400</td>\n",
              "      <td>no</td>\n",
              "      <td>butt, eyes</td>\n",
              "    </tr>\n",
              "    <tr>\n",
              "      <th>2</th>\n",
              "      <td>2017-06-29</td>\n",
              "      <td>99</td>\n",
              "      <td>yes</td>\n",
              "      <td>7/22/1989</td>\n",
              "      <td>32080</td>\n",
              "      <td>320</td>\n",
              "      <td>no</td>\n",
              "      <td>eyes, hair, legs</td>\n",
              "    </tr>\n",
              "    <tr>\n",
              "      <th>3</th>\n",
              "      <td>2017-01-23</td>\n",
              "      <td>99</td>\n",
              "      <td>no</td>\n",
              "      <td>1/23/1971</td>\n",
              "      <td>32208</td>\n",
              "      <td>720</td>\n",
              "      <td>yes</td>\n",
              "      <td>boobs</td>\n",
              "    </tr>\n",
              "    <tr>\n",
              "      <th>4</th>\n",
              "      <td>2014-04-25</td>\n",
              "      <td>99</td>\n",
              "      <td>yes</td>\n",
              "      <td>6/6/1994</td>\n",
              "      <td>32034</td>\n",
              "      <td>NaN</td>\n",
              "      <td>NaN</td>\n",
              "      <td>NaN</td>\n",
              "    </tr>\n",
              "  </tbody>\n",
              "</table>\n",
              "</div>"
            ],
            "text/plain": [
              "  Date_of_PreShoot Session_Fee Hair  ... Sales_total Model Release          Favorite\n",
              "0       2017-01-05          99  yes  ...         600           yes              butt\n",
              "1       2017-11-02          99  yes  ...         400            no        butt, eyes\n",
              "2       2017-06-29          99  yes  ...         320            no  eyes, hair, legs\n",
              "3       2017-01-23          99   no  ...         720           yes             boobs\n",
              "4       2014-04-25          99  yes  ...         NaN           NaN               NaN\n",
              "\n",
              "[5 rows x 8 columns]"
            ]
          },
          "metadata": {
            "tags": []
          },
          "execution_count": 68
        }
      ]
    },
    {
      "cell_type": "code",
      "metadata": {
        "id": "JYgQXk2etRsj",
        "colab_type": "code",
        "colab": {
          "base_uri": "https://localhost:8080/",
          "height": 225
        },
        "outputId": "edab1146-9c3e-4f91-da69-46cfb9631136"
      },
      "source": [
        "dnd_df.describe()"
      ],
      "execution_count": 69,
      "outputs": [
        {
          "output_type": "execute_result",
          "data": {
            "text/html": [
              "<div>\n",
              "<style scoped>\n",
              "    .dataframe tbody tr th:only-of-type {\n",
              "        vertical-align: middle;\n",
              "    }\n",
              "\n",
              "    .dataframe tbody tr th {\n",
              "        vertical-align: top;\n",
              "    }\n",
              "\n",
              "    .dataframe thead th {\n",
              "        text-align: right;\n",
              "    }\n",
              "</style>\n",
              "<table border=\"1\" class=\"dataframe\">\n",
              "  <thead>\n",
              "    <tr style=\"text-align: right;\">\n",
              "      <th></th>\n",
              "      <th>Date_of_PreShoot</th>\n",
              "      <th>Session_Fee</th>\n",
              "      <th>Hair</th>\n",
              "      <th>DOB</th>\n",
              "      <th>zip_code</th>\n",
              "      <th>Sales_total</th>\n",
              "      <th>Model Release</th>\n",
              "      <th>Favorite</th>\n",
              "    </tr>\n",
              "  </thead>\n",
              "  <tbody>\n",
              "    <tr>\n",
              "      <th>count</th>\n",
              "      <td>422</td>\n",
              "      <td>422</td>\n",
              "      <td>422</td>\n",
              "      <td>424</td>\n",
              "      <td>422</td>\n",
              "      <td>326</td>\n",
              "      <td>324</td>\n",
              "      <td>218</td>\n",
              "    </tr>\n",
              "    <tr>\n",
              "      <th>unique</th>\n",
              "      <td>321</td>\n",
              "      <td>10</td>\n",
              "      <td>4</td>\n",
              "      <td>413</td>\n",
              "      <td>82</td>\n",
              "      <td>69</td>\n",
              "      <td>5</td>\n",
              "      <td>65</td>\n",
              "    </tr>\n",
              "    <tr>\n",
              "      <th>top</th>\n",
              "      <td>2013-12-04 00:00:00</td>\n",
              "      <td>99</td>\n",
              "      <td>no</td>\n",
              "      <td>3/27/1986</td>\n",
              "      <td>32218</td>\n",
              "      <td>600</td>\n",
              "      <td>yes</td>\n",
              "      <td>butt</td>\n",
              "    </tr>\n",
              "    <tr>\n",
              "      <th>freq</th>\n",
              "      <td>4</td>\n",
              "      <td>289</td>\n",
              "      <td>302</td>\n",
              "      <td>2</td>\n",
              "      <td>27</td>\n",
              "      <td>83</td>\n",
              "      <td>211</td>\n",
              "      <td>77</td>\n",
              "    </tr>\n",
              "    <tr>\n",
              "      <th>first</th>\n",
              "      <td>1988-12-28 00:00:00</td>\n",
              "      <td>NaN</td>\n",
              "      <td>NaN</td>\n",
              "      <td>NaN</td>\n",
              "      <td>NaN</td>\n",
              "      <td>NaN</td>\n",
              "      <td>NaN</td>\n",
              "      <td>NaN</td>\n",
              "    </tr>\n",
              "    <tr>\n",
              "      <th>last</th>\n",
              "      <td>2020-11-13 00:00:00</td>\n",
              "      <td>NaN</td>\n",
              "      <td>NaN</td>\n",
              "      <td>NaN</td>\n",
              "      <td>NaN</td>\n",
              "      <td>NaN</td>\n",
              "      <td>NaN</td>\n",
              "      <td>NaN</td>\n",
              "    </tr>\n",
              "  </tbody>\n",
              "</table>\n",
              "</div>"
            ],
            "text/plain": [
              "           Date_of_PreShoot Session_Fee Hair  ... Sales_total Model Release Favorite\n",
              "count                   422         422  422  ...         326           324      218\n",
              "unique                  321          10    4  ...          69             5       65\n",
              "top     2013-12-04 00:00:00          99   no  ...         600           yes     butt\n",
              "freq                      4         289  302  ...          83           211       77\n",
              "first   1988-12-28 00:00:00         NaN  NaN  ...         NaN           NaN      NaN\n",
              "last    2020-11-13 00:00:00         NaN  NaN  ...         NaN           NaN      NaN\n",
              "\n",
              "[6 rows x 8 columns]"
            ]
          },
          "metadata": {
            "tags": []
          },
          "execution_count": 69
        }
      ]
    },
    {
      "cell_type": "code",
      "metadata": {
        "id": "lw7nzAactkB6",
        "colab_type": "code",
        "colab": {
          "base_uri": "https://localhost:8080/",
          "height": 225
        },
        "outputId": "55e01deb-59a3-4d05-fb4d-0f44d3b8847b"
      },
      "source": [
        "dnd_df.describe(exclude=\"number\")"
      ],
      "execution_count": 70,
      "outputs": [
        {
          "output_type": "execute_result",
          "data": {
            "text/html": [
              "<div>\n",
              "<style scoped>\n",
              "    .dataframe tbody tr th:only-of-type {\n",
              "        vertical-align: middle;\n",
              "    }\n",
              "\n",
              "    .dataframe tbody tr th {\n",
              "        vertical-align: top;\n",
              "    }\n",
              "\n",
              "    .dataframe thead th {\n",
              "        text-align: right;\n",
              "    }\n",
              "</style>\n",
              "<table border=\"1\" class=\"dataframe\">\n",
              "  <thead>\n",
              "    <tr style=\"text-align: right;\">\n",
              "      <th></th>\n",
              "      <th>Date_of_PreShoot</th>\n",
              "      <th>Session_Fee</th>\n",
              "      <th>Hair</th>\n",
              "      <th>DOB</th>\n",
              "      <th>zip_code</th>\n",
              "      <th>Sales_total</th>\n",
              "      <th>Model Release</th>\n",
              "      <th>Favorite</th>\n",
              "    </tr>\n",
              "  </thead>\n",
              "  <tbody>\n",
              "    <tr>\n",
              "      <th>count</th>\n",
              "      <td>422</td>\n",
              "      <td>422</td>\n",
              "      <td>422</td>\n",
              "      <td>424</td>\n",
              "      <td>422</td>\n",
              "      <td>326</td>\n",
              "      <td>324</td>\n",
              "      <td>218</td>\n",
              "    </tr>\n",
              "    <tr>\n",
              "      <th>unique</th>\n",
              "      <td>321</td>\n",
              "      <td>10</td>\n",
              "      <td>4</td>\n",
              "      <td>413</td>\n",
              "      <td>82</td>\n",
              "      <td>69</td>\n",
              "      <td>5</td>\n",
              "      <td>65</td>\n",
              "    </tr>\n",
              "    <tr>\n",
              "      <th>top</th>\n",
              "      <td>2013-12-04 00:00:00</td>\n",
              "      <td>99</td>\n",
              "      <td>no</td>\n",
              "      <td>3/27/1986</td>\n",
              "      <td>32218</td>\n",
              "      <td>600</td>\n",
              "      <td>yes</td>\n",
              "      <td>butt</td>\n",
              "    </tr>\n",
              "    <tr>\n",
              "      <th>freq</th>\n",
              "      <td>4</td>\n",
              "      <td>289</td>\n",
              "      <td>302</td>\n",
              "      <td>2</td>\n",
              "      <td>27</td>\n",
              "      <td>83</td>\n",
              "      <td>211</td>\n",
              "      <td>77</td>\n",
              "    </tr>\n",
              "    <tr>\n",
              "      <th>first</th>\n",
              "      <td>1988-12-28 00:00:00</td>\n",
              "      <td>NaN</td>\n",
              "      <td>NaN</td>\n",
              "      <td>NaN</td>\n",
              "      <td>NaN</td>\n",
              "      <td>NaN</td>\n",
              "      <td>NaN</td>\n",
              "      <td>NaN</td>\n",
              "    </tr>\n",
              "    <tr>\n",
              "      <th>last</th>\n",
              "      <td>2020-11-13 00:00:00</td>\n",
              "      <td>NaN</td>\n",
              "      <td>NaN</td>\n",
              "      <td>NaN</td>\n",
              "      <td>NaN</td>\n",
              "      <td>NaN</td>\n",
              "      <td>NaN</td>\n",
              "      <td>NaN</td>\n",
              "    </tr>\n",
              "  </tbody>\n",
              "</table>\n",
              "</div>"
            ],
            "text/plain": [
              "           Date_of_PreShoot Session_Fee Hair  ... Sales_total Model Release Favorite\n",
              "count                   422         422  422  ...         326           324      218\n",
              "unique                  321          10    4  ...          69             5       65\n",
              "top     2013-12-04 00:00:00          99   no  ...         600           yes     butt\n",
              "freq                      4         289  302  ...          83           211       77\n",
              "first   1988-12-28 00:00:00         NaN  NaN  ...         NaN           NaN      NaN\n",
              "last    2020-11-13 00:00:00         NaN  NaN  ...         NaN           NaN      NaN\n",
              "\n",
              "[6 rows x 8 columns]"
            ]
          },
          "metadata": {
            "tags": []
          },
          "execution_count": 70
        }
      ]
    },
    {
      "cell_type": "code",
      "metadata": {
        "id": "9-zV9mNYtrhS",
        "colab_type": "code",
        "colab": {
          "base_uri": "https://localhost:8080/",
          "height": 67
        },
        "outputId": "093b7236-66cb-4f5e-938e-e64c5f3312ba"
      },
      "source": [
        "dnd_df.columns"
      ],
      "execution_count": 71,
      "outputs": [
        {
          "output_type": "execute_result",
          "data": {
            "text/plain": [
              "Index(['Date_of_PreShoot', 'Session_Fee', 'Hair', 'DOB', 'zip_code',\n",
              "       'Sales_total', 'Model Release', 'Favorite'],\n",
              "      dtype='object')"
            ]
          },
          "metadata": {
            "tags": []
          },
          "execution_count": 71
        }
      ]
    },
    {
      "cell_type": "code",
      "metadata": {
        "id": "MbbVpJvGt3r_",
        "colab_type": "code",
        "colab": {
          "base_uri": "https://localhost:8080/",
          "height": 168
        },
        "outputId": "79b900e2-2aee-4456-fdcc-62738c10dab8"
      },
      "source": [
        "dnd_df.isnull().sum()"
      ],
      "execution_count": 72,
      "outputs": [
        {
          "output_type": "execute_result",
          "data": {
            "text/plain": [
              "Date_of_PreShoot      2\n",
              "Session_Fee           2\n",
              "Hair                  2\n",
              "DOB                   0\n",
              "zip_code              2\n",
              "Sales_total          98\n",
              "Model Release       100\n",
              "Favorite            206\n",
              "dtype: int64"
            ]
          },
          "metadata": {
            "tags": []
          },
          "execution_count": 72
        }
      ]
    },
    {
      "cell_type": "code",
      "metadata": {
        "id": "alxbAUeGSKFU",
        "colab_type": "code",
        "colab": {
          "base_uri": "https://localhost:8080/",
          "height": 218
        },
        "outputId": "ed73ceb2-60cc-4070-a508-aeefc374f80f"
      },
      "source": [
        "# lets check out the Favorite feature\n",
        "dnd_df[\"Favorite\"].value_counts()"
      ],
      "execution_count": 73,
      "outputs": [
        {
          "output_type": "execute_result",
          "data": {
            "text/plain": [
              "butt                77\n",
              "boobs               37\n",
              "legs                12\n",
              "eyes                 9\n",
              "butt, eyes           8\n",
              "                    ..\n",
              "boob                 1\n",
              "butt, eyes, legs     1\n",
              "boobs, curves        1\n",
              "back, eyes           1\n",
              "arms, muscles        1\n",
              "Name: Favorite, Length: 65, dtype: int64"
            ]
          },
          "metadata": {
            "tags": []
          },
          "execution_count": 73
        }
      ]
    },
    {
      "cell_type": "code",
      "metadata": {
        "id": "lWVDWEtdVpAX",
        "colab_type": "code",
        "colab": {}
      },
      "source": [
        "dnd_df.loc[:, \"Favorite\"] = dnd_df.loc[:,\"Favorite\"].replace(to_replace=np.NaN, value=\"no preference\")"
      ],
      "execution_count": 81,
      "outputs": []
    },
    {
      "cell_type": "code",
      "metadata": {
        "id": "yg0nphbtrY70",
        "colab_type": "code",
        "colab": {}
      },
      "source": [
        "#list to fix boob; boob, legs; boob, smile; butt , legs; eyes,  legs"
      ],
      "execution_count": 13,
      "outputs": []
    },
    {
      "cell_type": "code",
      "metadata": {
        "id": "DmvCHF1CqyoW",
        "colab_type": "code",
        "colab": {}
      },
      "source": [
        "dnd_df.loc[:, \"Favorite\"] = dnd_df.loc[:,\"Favorite\"].replace(to_replace=\"boob\", value=\"boobs\")"
      ],
      "execution_count": 82,
      "outputs": []
    },
    {
      "cell_type": "code",
      "metadata": {
        "id": "BfE7t1svrhhE",
        "colab_type": "code",
        "colab": {}
      },
      "source": [
        "dnd_df.loc[:, \"Favorite\"] = dnd_df.loc[:,\"Favorite\"].replace(to_replace=\"boob, legs\", value=\"boobs, legs\")"
      ],
      "execution_count": 83,
      "outputs": []
    },
    {
      "cell_type": "code",
      "metadata": {
        "id": "C2b4uQmuryqq",
        "colab_type": "code",
        "colab": {}
      },
      "source": [
        "dnd_df.loc[:, \"Favorite\"] = dnd_df.loc[:,\"Favorite\"].replace(to_replace=\"boob, smile\", value=\"boobs, smile\")"
      ],
      "execution_count": 84,
      "outputs": []
    },
    {
      "cell_type": "code",
      "metadata": {
        "id": "bHt1jOMir8mi",
        "colab_type": "code",
        "colab": {}
      },
      "source": [
        "dnd_df.loc[:, \"Favorite\"] = dnd_df.loc[:,\"Favorite\"].replace(to_replace=\"butt , legs\", value=\"butt, legs\")"
      ],
      "execution_count": 85,
      "outputs": []
    },
    {
      "cell_type": "code",
      "metadata": {
        "id": "D7vzmbhUsGfp",
        "colab_type": "code",
        "colab": {}
      },
      "source": [
        "dnd_df.loc[:, \"Favorite\"] = dnd_df.loc[:,\"Favorite\"].replace(to_replace=\"eyes,  legs\", value=\"eyes, legs\")"
      ],
      "execution_count": 86,
      "outputs": []
    },
    {
      "cell_type": "code",
      "metadata": {
        "id": "DnAV3BWtsQPH",
        "colab_type": "code",
        "colab": {
          "base_uri": "https://localhost:8080/",
          "height": 34
        },
        "outputId": "8f07766d-8a40-4b71-ce76-51ed221143c0"
      },
      "source": [
        "dnd_df[\"Favorite\"].nunique()"
      ],
      "execution_count": 87,
      "outputs": [
        {
          "output_type": "execute_result",
          "data": {
            "text/plain": [
              "62"
            ]
          },
          "metadata": {
            "tags": []
          },
          "execution_count": 87
        }
      ]
    },
    {
      "cell_type": "code",
      "metadata": {
        "id": "02THH1VtskTV",
        "colab_type": "code",
        "colab": {}
      },
      "source": [
        ""
      ],
      "execution_count": 19,
      "outputs": []
    },
    {
      "cell_type": "code",
      "metadata": {
        "id": "ppg9iJlFWesE",
        "colab_type": "code",
        "colab": {
          "base_uri": "https://localhost:8080/",
          "height": 168
        },
        "outputId": "f2d142f7-7f0c-444f-f30c-cdb3e9018da9"
      },
      "source": [
        "dnd_df.isnull().sum()"
      ],
      "execution_count": 88,
      "outputs": [
        {
          "output_type": "execute_result",
          "data": {
            "text/plain": [
              "Date_of_PreShoot      2\n",
              "Session_Fee           2\n",
              "Hair                  2\n",
              "DOB                   0\n",
              "zip_code              2\n",
              "Sales_total          98\n",
              "Model Release       100\n",
              "Favorite              0\n",
              "dtype: int64"
            ]
          },
          "metadata": {
            "tags": []
          },
          "execution_count": 88
        }
      ]
    },
    {
      "cell_type": "code",
      "metadata": {
        "id": "LM8GOoPiW2x4",
        "colab_type": "code",
        "colab": {}
      },
      "source": [
        "# drop the rows where sale is Nan\n",
        "# create a condition where sales is nan \n",
        "# drop those rows\n",
        "\n",
        "# no_sales_condition = dnd_df[\"Sales_total\"][:] == np.NaN"
      ],
      "execution_count": 22,
      "outputs": []
    },
    {
      "cell_type": "code",
      "metadata": {
        "id": "CBpLnt5dhRoP",
        "colab_type": "code",
        "colab": {}
      },
      "source": [
        "dnd_sales_df =dnd_df.dropna(subset=[\"Sales_total\"])"
      ],
      "execution_count": 91,
      "outputs": []
    },
    {
      "cell_type": "code",
      "metadata": {
        "id": "RxykuyiFp7Pj",
        "colab_type": "code",
        "colab": {}
      },
      "source": [
        ""
      ],
      "execution_count": 23,
      "outputs": []
    },
    {
      "cell_type": "code",
      "metadata": {
        "id": "E6twtxhkgwHA",
        "colab_type": "code",
        "colab": {
          "base_uri": "https://localhost:8080/",
          "height": 34
        },
        "outputId": "15055f0d-daba-438a-de4d-308214f82c31"
      },
      "source": [
        "dnd_df.shape"
      ],
      "execution_count": 92,
      "outputs": [
        {
          "output_type": "execute_result",
          "data": {
            "text/plain": [
              "(424, 8)"
            ]
          },
          "metadata": {
            "tags": []
          },
          "execution_count": 92
        }
      ]
    },
    {
      "cell_type": "code",
      "metadata": {
        "id": "FznZmhRXha37",
        "colab_type": "code",
        "colab": {
          "base_uri": "https://localhost:8080/",
          "height": 34
        },
        "outputId": "71b23c32-b210-4e49-909a-5a7aeb67298c"
      },
      "source": [
        "dnd_sales_df.shape"
      ],
      "execution_count": 93,
      "outputs": [
        {
          "output_type": "execute_result",
          "data": {
            "text/plain": [
              "(326, 8)"
            ]
          },
          "metadata": {
            "tags": []
          },
          "execution_count": 93
        }
      ]
    },
    {
      "cell_type": "code",
      "metadata": {
        "id": "xHzOF3aJp-uY",
        "colab_type": "code",
        "colab": {
          "base_uri": "https://localhost:8080/",
          "height": 168
        },
        "outputId": "b962d9b9-d36d-4ddc-a690-c07a296fd3d8"
      },
      "source": [
        "dnd_sales_df.isnull().sum()"
      ],
      "execution_count": 94,
      "outputs": [
        {
          "output_type": "execute_result",
          "data": {
            "text/plain": [
              "Date_of_PreShoot    2\n",
              "Session_Fee         2\n",
              "Hair                2\n",
              "DOB                 0\n",
              "zip_code            0\n",
              "Sales_total         0\n",
              "Model Release       8\n",
              "Favorite            0\n",
              "dtype: int64"
            ]
          },
          "metadata": {
            "tags": []
          },
          "execution_count": 94
        }
      ]
    },
    {
      "cell_type": "code",
      "metadata": {
        "id": "GP-R0MhnqC7A",
        "colab_type": "code",
        "colab": {
          "base_uri": "https://localhost:8080/",
          "height": 269
        },
        "outputId": "6353caad-9720-4c4a-d7e6-d82463283618"
      },
      "source": [
        "dnd_sales_df.info()"
      ],
      "execution_count": 95,
      "outputs": [
        {
          "output_type": "stream",
          "text": [
            "<class 'pandas.core.frame.DataFrame'>\n",
            "Int64Index: 326 entries, 0 to 423\n",
            "Data columns (total 8 columns):\n",
            " #   Column            Non-Null Count  Dtype         \n",
            "---  ------            --------------  -----         \n",
            " 0   Date_of_PreShoot  324 non-null    datetime64[ns]\n",
            " 1   Session_Fee       324 non-null    object        \n",
            " 2   Hair              324 non-null    object        \n",
            " 3   DOB               326 non-null    object        \n",
            " 4   zip_code          326 non-null    object        \n",
            " 5   Sales_total       326 non-null    object        \n",
            " 6   Model Release     318 non-null    object        \n",
            " 7   Favorite          326 non-null    object        \n",
            "dtypes: datetime64[ns](1), object(7)\n",
            "memory usage: 22.9+ KB\n"
          ],
          "name": "stdout"
        }
      ]
    },
    {
      "cell_type": "code",
      "metadata": {
        "id": "AsXL4QKBtiwO",
        "colab_type": "code",
        "colab": {
          "base_uri": "https://localhost:8080/",
          "height": 343
        },
        "outputId": "fe30da32-bc28-47e0-9d83-61bf977b62a2"
      },
      "source": [
        "dnd_sales_df.head(10)"
      ],
      "execution_count": 96,
      "outputs": [
        {
          "output_type": "execute_result",
          "data": {
            "text/html": [
              "<div>\n",
              "<style scoped>\n",
              "    .dataframe tbody tr th:only-of-type {\n",
              "        vertical-align: middle;\n",
              "    }\n",
              "\n",
              "    .dataframe tbody tr th {\n",
              "        vertical-align: top;\n",
              "    }\n",
              "\n",
              "    .dataframe thead th {\n",
              "        text-align: right;\n",
              "    }\n",
              "</style>\n",
              "<table border=\"1\" class=\"dataframe\">\n",
              "  <thead>\n",
              "    <tr style=\"text-align: right;\">\n",
              "      <th></th>\n",
              "      <th>Date_of_PreShoot</th>\n",
              "      <th>Session_Fee</th>\n",
              "      <th>Hair</th>\n",
              "      <th>DOB</th>\n",
              "      <th>zip_code</th>\n",
              "      <th>Sales_total</th>\n",
              "      <th>Model Release</th>\n",
              "      <th>Favorite</th>\n",
              "    </tr>\n",
              "  </thead>\n",
              "  <tbody>\n",
              "    <tr>\n",
              "      <th>0</th>\n",
              "      <td>2017-01-05</td>\n",
              "      <td>99</td>\n",
              "      <td>yes</td>\n",
              "      <td>5/5/1976</td>\n",
              "      <td>32208</td>\n",
              "      <td>600</td>\n",
              "      <td>yes</td>\n",
              "      <td>butt</td>\n",
              "    </tr>\n",
              "    <tr>\n",
              "      <th>1</th>\n",
              "      <td>2017-11-02</td>\n",
              "      <td>99</td>\n",
              "      <td>yes</td>\n",
              "      <td>10/16/1984</td>\n",
              "      <td>32082</td>\n",
              "      <td>400</td>\n",
              "      <td>no</td>\n",
              "      <td>butt, eyes</td>\n",
              "    </tr>\n",
              "    <tr>\n",
              "      <th>2</th>\n",
              "      <td>2017-06-29</td>\n",
              "      <td>99</td>\n",
              "      <td>yes</td>\n",
              "      <td>7/22/1989</td>\n",
              "      <td>32080</td>\n",
              "      <td>320</td>\n",
              "      <td>no</td>\n",
              "      <td>eyes, hair, legs</td>\n",
              "    </tr>\n",
              "    <tr>\n",
              "      <th>3</th>\n",
              "      <td>2017-01-23</td>\n",
              "      <td>99</td>\n",
              "      <td>no</td>\n",
              "      <td>1/23/1971</td>\n",
              "      <td>32208</td>\n",
              "      <td>720</td>\n",
              "      <td>yes</td>\n",
              "      <td>boobs</td>\n",
              "    </tr>\n",
              "    <tr>\n",
              "      <th>5</th>\n",
              "      <td>2014-09-14</td>\n",
              "      <td>99</td>\n",
              "      <td>yes</td>\n",
              "      <td>11/3/1982</td>\n",
              "      <td>32257</td>\n",
              "      <td>1320</td>\n",
              "      <td>no</td>\n",
              "      <td>butt</td>\n",
              "    </tr>\n",
              "    <tr>\n",
              "      <th>6</th>\n",
              "      <td>2017-09-05</td>\n",
              "      <td>99</td>\n",
              "      <td>no</td>\n",
              "      <td>1/24/1996</td>\n",
              "      <td>32246</td>\n",
              "      <td>0</td>\n",
              "      <td>yes</td>\n",
              "      <td>eyes</td>\n",
              "    </tr>\n",
              "    <tr>\n",
              "      <th>7</th>\n",
              "      <td>2015-08-14</td>\n",
              "      <td>179</td>\n",
              "      <td>no</td>\n",
              "      <td>8/29/1977</td>\n",
              "      <td>32221</td>\n",
              "      <td>240</td>\n",
              "      <td>no</td>\n",
              "      <td>no preference</td>\n",
              "    </tr>\n",
              "    <tr>\n",
              "      <th>9</th>\n",
              "      <td>2015-03-05</td>\n",
              "      <td>99</td>\n",
              "      <td>yes</td>\n",
              "      <td>9/7/1979</td>\n",
              "      <td>32277</td>\n",
              "      <td>720</td>\n",
              "      <td>yes</td>\n",
              "      <td>boobs</td>\n",
              "    </tr>\n",
              "    <tr>\n",
              "      <th>10</th>\n",
              "      <td>2015-01-21</td>\n",
              "      <td>99</td>\n",
              "      <td>yes</td>\n",
              "      <td>8/4/1988</td>\n",
              "      <td>32258</td>\n",
              "      <td>680</td>\n",
              "      <td>yes</td>\n",
              "      <td>eyes</td>\n",
              "    </tr>\n",
              "    <tr>\n",
              "      <th>12</th>\n",
              "      <td>2014-09-27</td>\n",
              "      <td>99</td>\n",
              "      <td>no</td>\n",
              "      <td>11/10/1969</td>\n",
              "      <td>32216</td>\n",
              "      <td>600</td>\n",
              "      <td>yes</td>\n",
              "      <td>no preference</td>\n",
              "    </tr>\n",
              "  </tbody>\n",
              "</table>\n",
              "</div>"
            ],
            "text/plain": [
              "   Date_of_PreShoot Session_Fee  ... Model Release          Favorite\n",
              "0        2017-01-05          99  ...           yes              butt\n",
              "1        2017-11-02          99  ...            no        butt, eyes\n",
              "2        2017-06-29          99  ...            no  eyes, hair, legs\n",
              "3        2017-01-23          99  ...           yes             boobs\n",
              "5        2014-09-14          99  ...            no              butt\n",
              "6        2017-09-05          99  ...           yes              eyes\n",
              "7        2015-08-14         179  ...            no     no preference\n",
              "9        2015-03-05          99  ...           yes             boobs\n",
              "10       2015-01-21          99  ...           yes              eyes\n",
              "12       2014-09-27          99  ...           yes     no preference\n",
              "\n",
              "[10 rows x 8 columns]"
            ]
          },
          "metadata": {
            "tags": []
          },
          "execution_count": 96
        }
      ]
    },
    {
      "cell_type": "code",
      "metadata": {
        "id": "IgTqJkc8CPjJ",
        "colab_type": "code",
        "colab": {
          "base_uri": "https://localhost:8080/",
          "height": 34
        },
        "outputId": "c10febc2-16fb-4f5d-8386-d18d05660f21"
      },
      "source": [
        "dnd_sales_df[\"Sales_total\"].nunique()"
      ],
      "execution_count": 97,
      "outputs": [
        {
          "output_type": "execute_result",
          "data": {
            "text/plain": [
              "69"
            ]
          },
          "metadata": {
            "tags": []
          },
          "execution_count": 97
        }
      ]
    },
    {
      "cell_type": "code",
      "metadata": {
        "id": "-Sy_4pWvCXsw",
        "colab_type": "code",
        "colab": {}
      },
      "source": [
        ""
      ],
      "execution_count": 29,
      "outputs": []
    },
    {
      "cell_type": "code",
      "metadata": {
        "id": "5sURDSi4tk9x",
        "colab_type": "code",
        "colab": {}
      },
      "source": [
        "# try converting to str, then to int\n",
        "# test= dnd_sales_df[\"Sales_total\"].astype(str).astype(int)\n",
        "# test"
      ],
      "execution_count": 98,
      "outputs": []
    },
    {
      "cell_type": "code",
      "metadata": {
        "id": "cLlMf_0nujJj",
        "colab_type": "code",
        "colab": {}
      },
      "source": [
        "# find this 866.7...\n",
        "cond = dnd_sales_df[\"Sales_total\"] == \"866.7\""
      ],
      "execution_count": 99,
      "outputs": []
    },
    {
      "cell_type": "code",
      "metadata": {
        "id": "xf5tiO2X77ak",
        "colab_type": "code",
        "colab": {
          "base_uri": "https://localhost:8080/",
          "height": 77
        },
        "outputId": "7b19fe79-68d3-4170-cae9-2e02ceb87c55"
      },
      "source": [
        "temp_df = dnd_sales_df[cond]\n",
        "temp_df"
      ],
      "execution_count": 101,
      "outputs": [
        {
          "output_type": "execute_result",
          "data": {
            "text/html": [
              "<div>\n",
              "<style scoped>\n",
              "    .dataframe tbody tr th:only-of-type {\n",
              "        vertical-align: middle;\n",
              "    }\n",
              "\n",
              "    .dataframe tbody tr th {\n",
              "        vertical-align: top;\n",
              "    }\n",
              "\n",
              "    .dataframe thead th {\n",
              "        text-align: right;\n",
              "    }\n",
              "</style>\n",
              "<table border=\"1\" class=\"dataframe\">\n",
              "  <thead>\n",
              "    <tr style=\"text-align: right;\">\n",
              "      <th></th>\n",
              "      <th>Date_of_PreShoot</th>\n",
              "      <th>Session_Fee</th>\n",
              "      <th>Hair</th>\n",
              "      <th>DOB</th>\n",
              "      <th>zip_code</th>\n",
              "      <th>Sales_total</th>\n",
              "      <th>Model Release</th>\n",
              "      <th>Favorite</th>\n",
              "    </tr>\n",
              "  </thead>\n",
              "  <tbody>\n",
              "    <tr>\n",
              "      <th>133</th>\n",
              "      <td>2013-08-02</td>\n",
              "      <td>99</td>\n",
              "      <td>no</td>\n",
              "      <td>10/5/1980</td>\n",
              "      <td>32218</td>\n",
              "      <td>866.7</td>\n",
              "      <td>yes</td>\n",
              "      <td>no preference</td>\n",
              "    </tr>\n",
              "  </tbody>\n",
              "</table>\n",
              "</div>"
            ],
            "text/plain": [
              "    Date_of_PreShoot Session_Fee Hair  ... Sales_total Model Release       Favorite\n",
              "133       2013-08-02          99   no  ...       866.7           yes  no preference\n",
              "\n",
              "[1 rows x 8 columns]"
            ]
          },
          "metadata": {
            "tags": []
          },
          "execution_count": 101
        }
      ]
    },
    {
      "cell_type": "code",
      "metadata": {
        "id": "Ho8JPn8I8BXn",
        "colab_type": "code",
        "colab": {
          "base_uri": "https://localhost:8080/",
          "height": 154
        },
        "outputId": "3e2d6692-1ad7-4fac-8113-5071f09f6770"
      },
      "source": [
        "dnd_sales_df.loc[133, \"Sales_total\"] = 860\n",
        "dnd_sales_df.loc[133, \"Sales_total\"] "
      ],
      "execution_count": 102,
      "outputs": [
        {
          "output_type": "stream",
          "text": [
            "/usr/local/lib/python3.6/dist-packages/pandas/core/indexing.py:966: SettingWithCopyWarning: \n",
            "A value is trying to be set on a copy of a slice from a DataFrame.\n",
            "Try using .loc[row_indexer,col_indexer] = value instead\n",
            "\n",
            "See the caveats in the documentation: https://pandas.pydata.org/pandas-docs/stable/user_guide/indexing.html#returning-a-view-versus-a-copy\n",
            "  self.obj[item] = s\n"
          ],
          "name": "stderr"
        },
        {
          "output_type": "execute_result",
          "data": {
            "text/plain": [
              "860"
            ]
          },
          "metadata": {
            "tags": []
          },
          "execution_count": 102
        }
      ]
    },
    {
      "cell_type": "code",
      "metadata": {
        "id": "fxl0sfMT8vkz",
        "colab_type": "code",
        "colab": {}
      },
      "source": [
        "# try again now that I got rid of decimal \n",
        "# test= dnd_sales_df[\"Sales_total\"].astype(str).astype(int)\n",
        "# test\n"
      ],
      "execution_count": 34,
      "outputs": []
    },
    {
      "cell_type": "code",
      "metadata": {
        "id": "D1sLEHoo9vuJ",
        "colab_type": "code",
        "colab": {
          "base_uri": "https://localhost:8080/",
          "height": 77
        },
        "outputId": "0a6c4680-9e0b-4afb-8a7a-0ab34859f62b"
      },
      "source": [
        "# so now maybe there is a space?\n",
        "cond2 = dnd_sales_df[\"Sales_total\"] == \" \"\n",
        "dnd_sales_df[cond2]"
      ],
      "execution_count": 103,
      "outputs": [
        {
          "output_type": "execute_result",
          "data": {
            "text/html": [
              "<div>\n",
              "<style scoped>\n",
              "    .dataframe tbody tr th:only-of-type {\n",
              "        vertical-align: middle;\n",
              "    }\n",
              "\n",
              "    .dataframe tbody tr th {\n",
              "        vertical-align: top;\n",
              "    }\n",
              "\n",
              "    .dataframe thead th {\n",
              "        text-align: right;\n",
              "    }\n",
              "</style>\n",
              "<table border=\"1\" class=\"dataframe\">\n",
              "  <thead>\n",
              "    <tr style=\"text-align: right;\">\n",
              "      <th></th>\n",
              "      <th>Date_of_PreShoot</th>\n",
              "      <th>Session_Fee</th>\n",
              "      <th>Hair</th>\n",
              "      <th>DOB</th>\n",
              "      <th>zip_code</th>\n",
              "      <th>Sales_total</th>\n",
              "      <th>Model Release</th>\n",
              "      <th>Favorite</th>\n",
              "    </tr>\n",
              "  </thead>\n",
              "  <tbody>\n",
              "    <tr>\n",
              "      <th>222</th>\n",
              "      <td>2014-10-21</td>\n",
              "      <td>99</td>\n",
              "      <td>yes</td>\n",
              "      <td>11/29/1969</td>\n",
              "      <td>32073</td>\n",
              "      <td></td>\n",
              "      <td></td>\n",
              "      <td>no preference</td>\n",
              "    </tr>\n",
              "  </tbody>\n",
              "</table>\n",
              "</div>"
            ],
            "text/plain": [
              "    Date_of_PreShoot Session_Fee Hair  ... Sales_total Model Release       Favorite\n",
              "222       2014-10-21          99  yes  ...                            no preference\n",
              "\n",
              "[1 rows x 8 columns]"
            ]
          },
          "metadata": {
            "tags": []
          },
          "execution_count": 103
        }
      ]
    },
    {
      "cell_type": "code",
      "metadata": {
        "id": "9ESZGywE94HB",
        "colab_type": "code",
        "colab": {}
      },
      "source": [
        "# lets drop this row...\n",
        "\n",
        "dnd_sales_df = dnd_sales_df.drop(labels=222)\n"
      ],
      "execution_count": 104,
      "outputs": []
    },
    {
      "cell_type": "code",
      "metadata": {
        "id": "Tlyx5UJRASm3",
        "colab_type": "code",
        "colab": {
          "base_uri": "https://localhost:8080/",
          "height": 101
        },
        "outputId": "cf55e025-96ac-4354-c358-096aeb95e21b"
      },
      "source": [
        "# see if 222 is there\n",
        "dnd_sales_df[cond2]"
      ],
      "execution_count": 105,
      "outputs": [
        {
          "output_type": "stream",
          "text": [
            "/usr/local/lib/python3.6/dist-packages/ipykernel_launcher.py:2: UserWarning: Boolean Series key will be reindexed to match DataFrame index.\n",
            "  \n"
          ],
          "name": "stderr"
        },
        {
          "output_type": "execute_result",
          "data": {
            "text/html": [
              "<div>\n",
              "<style scoped>\n",
              "    .dataframe tbody tr th:only-of-type {\n",
              "        vertical-align: middle;\n",
              "    }\n",
              "\n",
              "    .dataframe tbody tr th {\n",
              "        vertical-align: top;\n",
              "    }\n",
              "\n",
              "    .dataframe thead th {\n",
              "        text-align: right;\n",
              "    }\n",
              "</style>\n",
              "<table border=\"1\" class=\"dataframe\">\n",
              "  <thead>\n",
              "    <tr style=\"text-align: right;\">\n",
              "      <th></th>\n",
              "      <th>Date_of_PreShoot</th>\n",
              "      <th>Session_Fee</th>\n",
              "      <th>Hair</th>\n",
              "      <th>DOB</th>\n",
              "      <th>zip_code</th>\n",
              "      <th>Sales_total</th>\n",
              "      <th>Model Release</th>\n",
              "      <th>Favorite</th>\n",
              "    </tr>\n",
              "  </thead>\n",
              "  <tbody>\n",
              "  </tbody>\n",
              "</table>\n",
              "</div>"
            ],
            "text/plain": [
              "Empty DataFrame\n",
              "Columns: [Date_of_PreShoot, Session_Fee, Hair, DOB, zip_code, Sales_total, Model Release, Favorite]\n",
              "Index: []"
            ]
          },
          "metadata": {
            "tags": []
          },
          "execution_count": 105
        }
      ]
    },
    {
      "cell_type": "code",
      "metadata": {
        "id": "3569nW9YAnmY",
        "colab_type": "code",
        "colab": {
          "base_uri": "https://localhost:8080/",
          "height": 284
        },
        "outputId": "f7e085ef-deee-45d7-e105-c7b907c4ca40"
      },
      "source": [
        "#perfect so far; try to convert one more time \n",
        "dnd_sales_df[\"Sales_total\"]= dnd_sales_df[\"Sales_total\"].astype(str).astype(int)\n",
        "dnd_sales_df.describe()"
      ],
      "execution_count": 106,
      "outputs": [
        {
          "output_type": "execute_result",
          "data": {
            "text/html": [
              "<div>\n",
              "<style scoped>\n",
              "    .dataframe tbody tr th:only-of-type {\n",
              "        vertical-align: middle;\n",
              "    }\n",
              "\n",
              "    .dataframe tbody tr th {\n",
              "        vertical-align: top;\n",
              "    }\n",
              "\n",
              "    .dataframe thead th {\n",
              "        text-align: right;\n",
              "    }\n",
              "</style>\n",
              "<table border=\"1\" class=\"dataframe\">\n",
              "  <thead>\n",
              "    <tr style=\"text-align: right;\">\n",
              "      <th></th>\n",
              "      <th>Sales_total</th>\n",
              "    </tr>\n",
              "  </thead>\n",
              "  <tbody>\n",
              "    <tr>\n",
              "      <th>count</th>\n",
              "      <td>325.000000</td>\n",
              "    </tr>\n",
              "    <tr>\n",
              "      <th>mean</th>\n",
              "      <td>738.095385</td>\n",
              "    </tr>\n",
              "    <tr>\n",
              "      <th>std</th>\n",
              "      <td>475.472871</td>\n",
              "    </tr>\n",
              "    <tr>\n",
              "      <th>min</th>\n",
              "      <td>0.000000</td>\n",
              "    </tr>\n",
              "    <tr>\n",
              "      <th>25%</th>\n",
              "      <td>580.000000</td>\n",
              "    </tr>\n",
              "    <tr>\n",
              "      <th>50%</th>\n",
              "      <td>600.000000</td>\n",
              "    </tr>\n",
              "    <tr>\n",
              "      <th>75%</th>\n",
              "      <td>950.000000</td>\n",
              "    </tr>\n",
              "    <tr>\n",
              "      <th>max</th>\n",
              "      <td>3000.000000</td>\n",
              "    </tr>\n",
              "  </tbody>\n",
              "</table>\n",
              "</div>"
            ],
            "text/plain": [
              "       Sales_total\n",
              "count   325.000000\n",
              "mean    738.095385\n",
              "std     475.472871\n",
              "min       0.000000\n",
              "25%     580.000000\n",
              "50%     600.000000\n",
              "75%     950.000000\n",
              "max    3000.000000"
            ]
          },
          "metadata": {
            "tags": []
          },
          "execution_count": 106
        }
      ]
    },
    {
      "cell_type": "code",
      "metadata": {
        "id": "vxodQWi4BK6r",
        "colab_type": "code",
        "colab": {
          "base_uri": "https://localhost:8080/",
          "height": 195
        },
        "outputId": "6e20ed26-6a67-4b72-b766-bc836842b8eb"
      },
      "source": [
        "dnd_sales_df.head()"
      ],
      "execution_count": 107,
      "outputs": [
        {
          "output_type": "execute_result",
          "data": {
            "text/html": [
              "<div>\n",
              "<style scoped>\n",
              "    .dataframe tbody tr th:only-of-type {\n",
              "        vertical-align: middle;\n",
              "    }\n",
              "\n",
              "    .dataframe tbody tr th {\n",
              "        vertical-align: top;\n",
              "    }\n",
              "\n",
              "    .dataframe thead th {\n",
              "        text-align: right;\n",
              "    }\n",
              "</style>\n",
              "<table border=\"1\" class=\"dataframe\">\n",
              "  <thead>\n",
              "    <tr style=\"text-align: right;\">\n",
              "      <th></th>\n",
              "      <th>Date_of_PreShoot</th>\n",
              "      <th>Session_Fee</th>\n",
              "      <th>Hair</th>\n",
              "      <th>DOB</th>\n",
              "      <th>zip_code</th>\n",
              "      <th>Sales_total</th>\n",
              "      <th>Model Release</th>\n",
              "      <th>Favorite</th>\n",
              "    </tr>\n",
              "  </thead>\n",
              "  <tbody>\n",
              "    <tr>\n",
              "      <th>0</th>\n",
              "      <td>2017-01-05</td>\n",
              "      <td>99</td>\n",
              "      <td>yes</td>\n",
              "      <td>5/5/1976</td>\n",
              "      <td>32208</td>\n",
              "      <td>600</td>\n",
              "      <td>yes</td>\n",
              "      <td>butt</td>\n",
              "    </tr>\n",
              "    <tr>\n",
              "      <th>1</th>\n",
              "      <td>2017-11-02</td>\n",
              "      <td>99</td>\n",
              "      <td>yes</td>\n",
              "      <td>10/16/1984</td>\n",
              "      <td>32082</td>\n",
              "      <td>400</td>\n",
              "      <td>no</td>\n",
              "      <td>butt, eyes</td>\n",
              "    </tr>\n",
              "    <tr>\n",
              "      <th>2</th>\n",
              "      <td>2017-06-29</td>\n",
              "      <td>99</td>\n",
              "      <td>yes</td>\n",
              "      <td>7/22/1989</td>\n",
              "      <td>32080</td>\n",
              "      <td>320</td>\n",
              "      <td>no</td>\n",
              "      <td>eyes, hair, legs</td>\n",
              "    </tr>\n",
              "    <tr>\n",
              "      <th>3</th>\n",
              "      <td>2017-01-23</td>\n",
              "      <td>99</td>\n",
              "      <td>no</td>\n",
              "      <td>1/23/1971</td>\n",
              "      <td>32208</td>\n",
              "      <td>720</td>\n",
              "      <td>yes</td>\n",
              "      <td>boobs</td>\n",
              "    </tr>\n",
              "    <tr>\n",
              "      <th>5</th>\n",
              "      <td>2014-09-14</td>\n",
              "      <td>99</td>\n",
              "      <td>yes</td>\n",
              "      <td>11/3/1982</td>\n",
              "      <td>32257</td>\n",
              "      <td>1320</td>\n",
              "      <td>no</td>\n",
              "      <td>butt</td>\n",
              "    </tr>\n",
              "  </tbody>\n",
              "</table>\n",
              "</div>"
            ],
            "text/plain": [
              "  Date_of_PreShoot Session_Fee  ... Model Release          Favorite\n",
              "0       2017-01-05          99  ...           yes              butt\n",
              "1       2017-11-02          99  ...            no        butt, eyes\n",
              "2       2017-06-29          99  ...            no  eyes, hair, legs\n",
              "3       2017-01-23          99  ...           yes             boobs\n",
              "5       2014-09-14          99  ...            no              butt\n",
              "\n",
              "[5 rows x 8 columns]"
            ]
          },
          "metadata": {
            "tags": []
          },
          "execution_count": 107
        }
      ]
    },
    {
      "cell_type": "code",
      "metadata": {
        "id": "E_4GUK8SBzU2",
        "colab_type": "code",
        "colab": {}
      },
      "source": [
        ""
      ],
      "execution_count": 39,
      "outputs": []
    },
    {
      "cell_type": "code",
      "metadata": {
        "id": "gn0UPSilEYw7",
        "colab_type": "code",
        "colab": {
          "base_uri": "https://localhost:8080/",
          "height": 34
        },
        "outputId": "bcc56b5e-1a35-4ece-8384-bcf1fd2d9c55"
      },
      "source": [
        "dnd_sales_df[\"Session_Fee\"].nunique()"
      ],
      "execution_count": 108,
      "outputs": [
        {
          "output_type": "execute_result",
          "data": {
            "text/plain": [
              "8"
            ]
          },
          "metadata": {
            "tags": []
          },
          "execution_count": 108
        }
      ]
    },
    {
      "cell_type": "code",
      "metadata": {
        "id": "JtLM8GxXEfZV",
        "colab_type": "code",
        "colab": {
          "base_uri": "https://localhost:8080/",
          "height": 168
        },
        "outputId": "09b08932-9108-4ff1-9243-eb8972adcd3b"
      },
      "source": [
        "dnd_sales_df[\"Session_Fee\"].value_counts()"
      ],
      "execution_count": 109,
      "outputs": [
        {
          "output_type": "execute_result",
          "data": {
            "text/plain": [
              "99             230\n",
              "25              51\n",
              "179             33\n",
              "249              4\n",
              "0                2\n",
              "100              1\n",
              "amazon gift      1\n",
              "89               1\n",
              "Name: Session_Fee, dtype: int64"
            ]
          },
          "metadata": {
            "tags": []
          },
          "execution_count": 109
        }
      ]
    },
    {
      "cell_type": "code",
      "metadata": {
        "id": "h7pXanOkEnzM",
        "colab_type": "code",
        "colab": {}
      },
      "source": [
        "#ok lets change that amazon gift to 0\n",
        "cond_gift = dnd_sales_df[\"Session_Fee\"].str.strip() == \"amazon gift\""
      ],
      "execution_count": 110,
      "outputs": []
    },
    {
      "cell_type": "code",
      "metadata": {
        "id": "M9-0koJpFIoQ",
        "colab_type": "code",
        "colab": {
          "base_uri": "https://localhost:8080/",
          "height": 77
        },
        "outputId": "5a56af7d-c0c9-4572-a747-7df34898df61"
      },
      "source": [
        "dnd_sales_df[cond_gift]"
      ],
      "execution_count": 111,
      "outputs": [
        {
          "output_type": "execute_result",
          "data": {
            "text/html": [
              "<div>\n",
              "<style scoped>\n",
              "    .dataframe tbody tr th:only-of-type {\n",
              "        vertical-align: middle;\n",
              "    }\n",
              "\n",
              "    .dataframe tbody tr th {\n",
              "        vertical-align: top;\n",
              "    }\n",
              "\n",
              "    .dataframe thead th {\n",
              "        text-align: right;\n",
              "    }\n",
              "</style>\n",
              "<table border=\"1\" class=\"dataframe\">\n",
              "  <thead>\n",
              "    <tr style=\"text-align: right;\">\n",
              "      <th></th>\n",
              "      <th>Date_of_PreShoot</th>\n",
              "      <th>Session_Fee</th>\n",
              "      <th>Hair</th>\n",
              "      <th>DOB</th>\n",
              "      <th>zip_code</th>\n",
              "      <th>Sales_total</th>\n",
              "      <th>Model Release</th>\n",
              "      <th>Favorite</th>\n",
              "    </tr>\n",
              "  </thead>\n",
              "  <tbody>\n",
              "    <tr>\n",
              "      <th>160</th>\n",
              "      <td>2014-04-02</td>\n",
              "      <td>amazon gift</td>\n",
              "      <td>yes</td>\n",
              "      <td>12/17/1980</td>\n",
              "      <td>32164</td>\n",
              "      <td>600</td>\n",
              "      <td>yes</td>\n",
              "      <td>butt</td>\n",
              "    </tr>\n",
              "  </tbody>\n",
              "</table>\n",
              "</div>"
            ],
            "text/plain": [
              "    Date_of_PreShoot  Session_Fee Hair  ... Sales_total Model Release  Favorite\n",
              "160       2014-04-02  amazon gift  yes  ...         600           yes      butt\n",
              "\n",
              "[1 rows x 8 columns]"
            ]
          },
          "metadata": {
            "tags": []
          },
          "execution_count": 111
        }
      ]
    },
    {
      "cell_type": "code",
      "metadata": {
        "id": "y3Vn-kDkHGPH",
        "colab_type": "code",
        "colab": {}
      },
      "source": [
        "dnd_sales_df.loc[160, \"Session_Fee\"] =dnd_sales_df.loc[160, \"Session_Fee\"].strip()\n"
      ],
      "execution_count": 112,
      "outputs": []
    },
    {
      "cell_type": "code",
      "metadata": {
        "id": "JQgJ3J-oFNS3",
        "colab_type": "code",
        "colab": {}
      },
      "source": [
        "# replace \"amazon gift\" with 0 \n",
        "dnd_sales_df.loc[:, \"Session_Fee\"] = dnd_sales_df.loc[:,\"Session_Fee\"].replace(to_replace=\"amazon gift\", value=\"0\")"
      ],
      "execution_count": 113,
      "outputs": []
    },
    {
      "cell_type": "code",
      "metadata": {
        "id": "m6AyDiqOGBWW",
        "colab_type": "code",
        "colab": {
          "base_uri": "https://localhost:8080/",
          "height": 77
        },
        "outputId": "123c97f7-79b7-4c8a-a599-0e0218cda50d"
      },
      "source": [
        "# check to see if its gone\n",
        "dnd_sales_df[cond_gift]"
      ],
      "execution_count": 114,
      "outputs": [
        {
          "output_type": "execute_result",
          "data": {
            "text/html": [
              "<div>\n",
              "<style scoped>\n",
              "    .dataframe tbody tr th:only-of-type {\n",
              "        vertical-align: middle;\n",
              "    }\n",
              "\n",
              "    .dataframe tbody tr th {\n",
              "        vertical-align: top;\n",
              "    }\n",
              "\n",
              "    .dataframe thead th {\n",
              "        text-align: right;\n",
              "    }\n",
              "</style>\n",
              "<table border=\"1\" class=\"dataframe\">\n",
              "  <thead>\n",
              "    <tr style=\"text-align: right;\">\n",
              "      <th></th>\n",
              "      <th>Date_of_PreShoot</th>\n",
              "      <th>Session_Fee</th>\n",
              "      <th>Hair</th>\n",
              "      <th>DOB</th>\n",
              "      <th>zip_code</th>\n",
              "      <th>Sales_total</th>\n",
              "      <th>Model Release</th>\n",
              "      <th>Favorite</th>\n",
              "    </tr>\n",
              "  </thead>\n",
              "  <tbody>\n",
              "    <tr>\n",
              "      <th>160</th>\n",
              "      <td>2014-04-02</td>\n",
              "      <td>0</td>\n",
              "      <td>yes</td>\n",
              "      <td>12/17/1980</td>\n",
              "      <td>32164</td>\n",
              "      <td>600</td>\n",
              "      <td>yes</td>\n",
              "      <td>butt</td>\n",
              "    </tr>\n",
              "  </tbody>\n",
              "</table>\n",
              "</div>"
            ],
            "text/plain": [
              "    Date_of_PreShoot Session_Fee Hair  ... Sales_total Model Release  Favorite\n",
              "160       2014-04-02           0  yes  ...         600           yes      butt\n",
              "\n",
              "[1 rows x 8 columns]"
            ]
          },
          "metadata": {
            "tags": []
          },
          "execution_count": 114
        }
      ]
    },
    {
      "cell_type": "code",
      "metadata": {
        "id": "9TWQHdudGJmf",
        "colab_type": "code",
        "colab": {
          "base_uri": "https://localhost:8080/",
          "height": 151
        },
        "outputId": "e996d0c3-59b6-4d66-c72a-90158872f965"
      },
      "source": [
        "dnd_sales_df[\"Session_Fee\"].value_counts()"
      ],
      "execution_count": 115,
      "outputs": [
        {
          "output_type": "execute_result",
          "data": {
            "text/plain": [
              "99     230\n",
              "25      51\n",
              "179     33\n",
              "249      4\n",
              "0        3\n",
              "100      1\n",
              "89       1\n",
              "Name: Session_Fee, dtype: int64"
            ]
          },
          "metadata": {
            "tags": []
          },
          "execution_count": 115
        }
      ]
    },
    {
      "cell_type": "code",
      "metadata": {
        "id": "dLlofDwxIkY5",
        "colab_type": "code",
        "colab": {
          "base_uri": "https://localhost:8080/",
          "height": 34
        },
        "outputId": "eeebaf1f-2313-4e56-971e-353a32f0bbb1"
      },
      "source": [
        "dnd_sales_df[\"Session_Fee\"].isnull().sum()\n"
      ],
      "execution_count": 116,
      "outputs": [
        {
          "output_type": "execute_result",
          "data": {
            "text/plain": [
              "2"
            ]
          },
          "metadata": {
            "tags": []
          },
          "execution_count": 116
        }
      ]
    },
    {
      "cell_type": "code",
      "metadata": {
        "id": "iWgedVkLIws3",
        "colab_type": "code",
        "colab": {
          "base_uri": "https://localhost:8080/",
          "height": 106
        },
        "outputId": "f2bf1e75-b3e0-42e7-c97b-344a469756bf"
      },
      "source": [
        "# These were repeat clients where a second preshoot wasn't necessary \n",
        "# or a purchase of additional phots\n",
        "cond_nan = dnd_sales_df[\"Session_Fee\"].isnull() == True\n",
        "dnd_sales_df[cond_nan]"
      ],
      "execution_count": 118,
      "outputs": [
        {
          "output_type": "execute_result",
          "data": {
            "text/html": [
              "<div>\n",
              "<style scoped>\n",
              "    .dataframe tbody tr th:only-of-type {\n",
              "        vertical-align: middle;\n",
              "    }\n",
              "\n",
              "    .dataframe tbody tr th {\n",
              "        vertical-align: top;\n",
              "    }\n",
              "\n",
              "    .dataframe thead th {\n",
              "        text-align: right;\n",
              "    }\n",
              "</style>\n",
              "<table border=\"1\" class=\"dataframe\">\n",
              "  <thead>\n",
              "    <tr style=\"text-align: right;\">\n",
              "      <th></th>\n",
              "      <th>Date_of_PreShoot</th>\n",
              "      <th>Session_Fee</th>\n",
              "      <th>Hair</th>\n",
              "      <th>DOB</th>\n",
              "      <th>zip_code</th>\n",
              "      <th>Sales_total</th>\n",
              "      <th>Model Release</th>\n",
              "      <th>Favorite</th>\n",
              "    </tr>\n",
              "  </thead>\n",
              "  <tbody>\n",
              "    <tr>\n",
              "      <th>33</th>\n",
              "      <td>NaT</td>\n",
              "      <td>NaN</td>\n",
              "      <td>NaN</td>\n",
              "      <td>2/8/1983</td>\n",
              "      <td>32211</td>\n",
              "      <td>1200</td>\n",
              "      <td>yes</td>\n",
              "      <td>no preference</td>\n",
              "    </tr>\n",
              "    <tr>\n",
              "      <th>51</th>\n",
              "      <td>NaT</td>\n",
              "      <td>NaN</td>\n",
              "      <td>NaN</td>\n",
              "      <td>8/24/1979</td>\n",
              "      <td>32225</td>\n",
              "      <td>600</td>\n",
              "      <td>yes</td>\n",
              "      <td>boobs</td>\n",
              "    </tr>\n",
              "  </tbody>\n",
              "</table>\n",
              "</div>"
            ],
            "text/plain": [
              "   Date_of_PreShoot Session_Fee Hair  ... Sales_total Model Release       Favorite\n",
              "33              NaT         NaN  NaN  ...        1200           yes  no preference\n",
              "51              NaT         NaN  NaN  ...         600           yes          boobs\n",
              "\n",
              "[2 rows x 8 columns]"
            ]
          },
          "metadata": {
            "tags": []
          },
          "execution_count": 118
        }
      ]
    },
    {
      "cell_type": "code",
      "metadata": {
        "id": "JkBJVZ5uJWEy",
        "colab_type": "code",
        "colab": {
          "base_uri": "https://localhost:8080/",
          "height": 106
        },
        "outputId": "e6fd51e4-bce7-4b15-c353-a179658d635e"
      },
      "source": [
        "dnd_sales_df.loc[33, \"Session_Fee\"] = \"179\"\n",
        "dnd_sales_df[cond_nan]"
      ],
      "execution_count": 50,
      "outputs": [
        {
          "output_type": "execute_result",
          "data": {
            "text/html": [
              "<div>\n",
              "<style scoped>\n",
              "    .dataframe tbody tr th:only-of-type {\n",
              "        vertical-align: middle;\n",
              "    }\n",
              "\n",
              "    .dataframe tbody tr th {\n",
              "        vertical-align: top;\n",
              "    }\n",
              "\n",
              "    .dataframe thead th {\n",
              "        text-align: right;\n",
              "    }\n",
              "</style>\n",
              "<table border=\"1\" class=\"dataframe\">\n",
              "  <thead>\n",
              "    <tr style=\"text-align: right;\">\n",
              "      <th></th>\n",
              "      <th>Date_of_PreShoot</th>\n",
              "      <th>Session_Fee</th>\n",
              "      <th>Hair</th>\n",
              "      <th>DOB</th>\n",
              "      <th>zip_code</th>\n",
              "      <th>Sales_total</th>\n",
              "      <th>Model Release</th>\n",
              "      <th>Favorite</th>\n",
              "    </tr>\n",
              "  </thead>\n",
              "  <tbody>\n",
              "    <tr>\n",
              "      <th>33</th>\n",
              "      <td>NaT</td>\n",
              "      <td>179</td>\n",
              "      <td>NaN</td>\n",
              "      <td>2/8/1983</td>\n",
              "      <td>32211</td>\n",
              "      <td>1200</td>\n",
              "      <td>yes</td>\n",
              "      <td>no preference</td>\n",
              "    </tr>\n",
              "    <tr>\n",
              "      <th>51</th>\n",
              "      <td>NaT</td>\n",
              "      <td>NaN</td>\n",
              "      <td>NaN</td>\n",
              "      <td>8/24/1979</td>\n",
              "      <td>32225</td>\n",
              "      <td>600</td>\n",
              "      <td>yes</td>\n",
              "      <td>boobs</td>\n",
              "    </tr>\n",
              "  </tbody>\n",
              "</table>\n",
              "</div>"
            ],
            "text/plain": [
              "   Date_of_PreShoot Session_Fee Hair  ... Sales_total Model Release       Favorite\n",
              "33              NaT         179  NaN  ...        1200           yes  no preference\n",
              "51              NaT         NaN  NaN  ...         600           yes          boobs\n",
              "\n",
              "[2 rows x 8 columns]"
            ]
          },
          "metadata": {
            "tags": []
          },
          "execution_count": 50
        }
      ]
    },
    {
      "cell_type": "code",
      "metadata": {
        "id": "NiQuY1MvLavh",
        "colab_type": "code",
        "colab": {
          "base_uri": "https://localhost:8080/",
          "height": 106
        },
        "outputId": "69d61d17-acfc-4b43-ab6e-4865190029a9"
      },
      "source": [
        "dnd_sales_df.loc[51, \"Session_Fee\"] = \"99\"\n",
        "dnd_sales_df[cond_nan]"
      ],
      "execution_count": 51,
      "outputs": [
        {
          "output_type": "execute_result",
          "data": {
            "text/html": [
              "<div>\n",
              "<style scoped>\n",
              "    .dataframe tbody tr th:only-of-type {\n",
              "        vertical-align: middle;\n",
              "    }\n",
              "\n",
              "    .dataframe tbody tr th {\n",
              "        vertical-align: top;\n",
              "    }\n",
              "\n",
              "    .dataframe thead th {\n",
              "        text-align: right;\n",
              "    }\n",
              "</style>\n",
              "<table border=\"1\" class=\"dataframe\">\n",
              "  <thead>\n",
              "    <tr style=\"text-align: right;\">\n",
              "      <th></th>\n",
              "      <th>Date_of_PreShoot</th>\n",
              "      <th>Session_Fee</th>\n",
              "      <th>Hair</th>\n",
              "      <th>DOB</th>\n",
              "      <th>zip_code</th>\n",
              "      <th>Sales_total</th>\n",
              "      <th>Model Release</th>\n",
              "      <th>Favorite</th>\n",
              "    </tr>\n",
              "  </thead>\n",
              "  <tbody>\n",
              "    <tr>\n",
              "      <th>33</th>\n",
              "      <td>NaT</td>\n",
              "      <td>179</td>\n",
              "      <td>NaN</td>\n",
              "      <td>2/8/1983</td>\n",
              "      <td>32211</td>\n",
              "      <td>1200</td>\n",
              "      <td>yes</td>\n",
              "      <td>no preference</td>\n",
              "    </tr>\n",
              "    <tr>\n",
              "      <th>51</th>\n",
              "      <td>NaT</td>\n",
              "      <td>99</td>\n",
              "      <td>NaN</td>\n",
              "      <td>8/24/1979</td>\n",
              "      <td>32225</td>\n",
              "      <td>600</td>\n",
              "      <td>yes</td>\n",
              "      <td>boobs</td>\n",
              "    </tr>\n",
              "  </tbody>\n",
              "</table>\n",
              "</div>"
            ],
            "text/plain": [
              "   Date_of_PreShoot Session_Fee Hair  ... Sales_total Model Release       Favorite\n",
              "33              NaT         179  NaN  ...        1200           yes  no preference\n",
              "51              NaT          99  NaN  ...         600           yes          boobs\n",
              "\n",
              "[2 rows x 8 columns]"
            ]
          },
          "metadata": {
            "tags": []
          },
          "execution_count": 51
        }
      ]
    },
    {
      "cell_type": "code",
      "metadata": {
        "id": "wDd2awgAOSum",
        "colab_type": "code",
        "colab": {}
      },
      "source": [
        ""
      ],
      "execution_count": 51,
      "outputs": []
    },
    {
      "cell_type": "code",
      "metadata": {
        "id": "6CY8AmblLlK_",
        "colab_type": "code",
        "colab": {
          "base_uri": "https://localhost:8080/",
          "height": 106
        },
        "outputId": "b1fd7e45-c614-4a7b-9b20-c97864185e52"
      },
      "source": [
        "dnd_sales_df.loc[:, \"Hair\"] = dnd_sales_df.loc[:, \"Hair\"].replace(to_replace=np.NaN, value=\"no\")\n",
        "dnd_sales_df[cond_nan]"
      ],
      "execution_count": 52,
      "outputs": [
        {
          "output_type": "execute_result",
          "data": {
            "text/html": [
              "<div>\n",
              "<style scoped>\n",
              "    .dataframe tbody tr th:only-of-type {\n",
              "        vertical-align: middle;\n",
              "    }\n",
              "\n",
              "    .dataframe tbody tr th {\n",
              "        vertical-align: top;\n",
              "    }\n",
              "\n",
              "    .dataframe thead th {\n",
              "        text-align: right;\n",
              "    }\n",
              "</style>\n",
              "<table border=\"1\" class=\"dataframe\">\n",
              "  <thead>\n",
              "    <tr style=\"text-align: right;\">\n",
              "      <th></th>\n",
              "      <th>Date_of_PreShoot</th>\n",
              "      <th>Session_Fee</th>\n",
              "      <th>Hair</th>\n",
              "      <th>DOB</th>\n",
              "      <th>zip_code</th>\n",
              "      <th>Sales_total</th>\n",
              "      <th>Model Release</th>\n",
              "      <th>Favorite</th>\n",
              "    </tr>\n",
              "  </thead>\n",
              "  <tbody>\n",
              "    <tr>\n",
              "      <th>33</th>\n",
              "      <td>NaT</td>\n",
              "      <td>179</td>\n",
              "      <td>no</td>\n",
              "      <td>2/8/1983</td>\n",
              "      <td>32211</td>\n",
              "      <td>1200</td>\n",
              "      <td>yes</td>\n",
              "      <td>no preference</td>\n",
              "    </tr>\n",
              "    <tr>\n",
              "      <th>51</th>\n",
              "      <td>NaT</td>\n",
              "      <td>99</td>\n",
              "      <td>no</td>\n",
              "      <td>8/24/1979</td>\n",
              "      <td>32225</td>\n",
              "      <td>600</td>\n",
              "      <td>yes</td>\n",
              "      <td>boobs</td>\n",
              "    </tr>\n",
              "  </tbody>\n",
              "</table>\n",
              "</div>"
            ],
            "text/plain": [
              "   Date_of_PreShoot Session_Fee Hair  ... Sales_total Model Release       Favorite\n",
              "33              NaT         179   no  ...        1200           yes  no preference\n",
              "51              NaT          99   no  ...         600           yes          boobs\n",
              "\n",
              "[2 rows x 8 columns]"
            ]
          },
          "metadata": {
            "tags": []
          },
          "execution_count": 52
        }
      ]
    },
    {
      "cell_type": "code",
      "metadata": {
        "id": "uMjL23W7MU3s",
        "colab_type": "code",
        "colab": {
          "base_uri": "https://localhost:8080/",
          "height": 106
        },
        "outputId": "0cf3607b-2f0e-4bca-84d3-eeb952f1d06a"
      },
      "source": [
        "dnd_sales_df.loc[33, \"Date_of_PreShoot\"] = pd.to_datetime(\"3/22/2017\")\n",
        "dnd_sales_df.loc[51, \"Date_of_PreShoot\"] = pd.to_datetime(\"1/30/2016\")\n",
        "dnd_sales_df[cond_nan]"
      ],
      "execution_count": 53,
      "outputs": [
        {
          "output_type": "execute_result",
          "data": {
            "text/html": [
              "<div>\n",
              "<style scoped>\n",
              "    .dataframe tbody tr th:only-of-type {\n",
              "        vertical-align: middle;\n",
              "    }\n",
              "\n",
              "    .dataframe tbody tr th {\n",
              "        vertical-align: top;\n",
              "    }\n",
              "\n",
              "    .dataframe thead th {\n",
              "        text-align: right;\n",
              "    }\n",
              "</style>\n",
              "<table border=\"1\" class=\"dataframe\">\n",
              "  <thead>\n",
              "    <tr style=\"text-align: right;\">\n",
              "      <th></th>\n",
              "      <th>Date_of_PreShoot</th>\n",
              "      <th>Session_Fee</th>\n",
              "      <th>Hair</th>\n",
              "      <th>DOB</th>\n",
              "      <th>zip_code</th>\n",
              "      <th>Sales_total</th>\n",
              "      <th>Model Release</th>\n",
              "      <th>Favorite</th>\n",
              "    </tr>\n",
              "  </thead>\n",
              "  <tbody>\n",
              "    <tr>\n",
              "      <th>33</th>\n",
              "      <td>2017-03-22</td>\n",
              "      <td>179</td>\n",
              "      <td>no</td>\n",
              "      <td>2/8/1983</td>\n",
              "      <td>32211</td>\n",
              "      <td>1200</td>\n",
              "      <td>yes</td>\n",
              "      <td>no preference</td>\n",
              "    </tr>\n",
              "    <tr>\n",
              "      <th>51</th>\n",
              "      <td>2016-01-30</td>\n",
              "      <td>99</td>\n",
              "      <td>no</td>\n",
              "      <td>8/24/1979</td>\n",
              "      <td>32225</td>\n",
              "      <td>600</td>\n",
              "      <td>yes</td>\n",
              "      <td>boobs</td>\n",
              "    </tr>\n",
              "  </tbody>\n",
              "</table>\n",
              "</div>"
            ],
            "text/plain": [
              "   Date_of_PreShoot Session_Fee Hair  ... Sales_total Model Release       Favorite\n",
              "33       2017-03-22         179   no  ...        1200           yes  no preference\n",
              "51       2016-01-30          99   no  ...         600           yes          boobs\n",
              "\n",
              "[2 rows x 8 columns]"
            ]
          },
          "metadata": {
            "tags": []
          },
          "execution_count": 53
        }
      ]
    },
    {
      "cell_type": "code",
      "metadata": {
        "id": "ZXDeOYCDJE2V",
        "colab_type": "code",
        "colab": {
          "base_uri": "https://localhost:8080/",
          "height": 77
        },
        "outputId": "a9df8a2d-2fc8-4c1a-94ed-c6405b22b38d"
      },
      "source": [
        "cond_nan = dnd_sales_df[\"DOB\"].isnull() == True\n",
        "dnd_sales_df[cond_nan]"
      ],
      "execution_count": 54,
      "outputs": [
        {
          "output_type": "execute_result",
          "data": {
            "text/html": [
              "<div>\n",
              "<style scoped>\n",
              "    .dataframe tbody tr th:only-of-type {\n",
              "        vertical-align: middle;\n",
              "    }\n",
              "\n",
              "    .dataframe tbody tr th {\n",
              "        vertical-align: top;\n",
              "    }\n",
              "\n",
              "    .dataframe thead th {\n",
              "        text-align: right;\n",
              "    }\n",
              "</style>\n",
              "<table border=\"1\" class=\"dataframe\">\n",
              "  <thead>\n",
              "    <tr style=\"text-align: right;\">\n",
              "      <th></th>\n",
              "      <th>Date_of_PreShoot</th>\n",
              "      <th>Session_Fee</th>\n",
              "      <th>Hair</th>\n",
              "      <th>DOB</th>\n",
              "      <th>zip_code</th>\n",
              "      <th>Sales_total</th>\n",
              "      <th>Model Release</th>\n",
              "      <th>Favorite</th>\n",
              "    </tr>\n",
              "  </thead>\n",
              "  <tbody>\n",
              "    <tr>\n",
              "      <th>233</th>\n",
              "      <td>2013-03-17</td>\n",
              "      <td>99</td>\n",
              "      <td>no</td>\n",
              "      <td>NaN</td>\n",
              "      <td>32244</td>\n",
              "      <td>374</td>\n",
              "      <td>NaN</td>\n",
              "      <td>no preference</td>\n",
              "    </tr>\n",
              "  </tbody>\n",
              "</table>\n",
              "</div>"
            ],
            "text/plain": [
              "    Date_of_PreShoot Session_Fee Hair  ... Sales_total Model Release       Favorite\n",
              "233       2013-03-17          99   no  ...         374           NaN  no preference\n",
              "\n",
              "[1 rows x 8 columns]"
            ]
          },
          "metadata": {
            "tags": []
          },
          "execution_count": 54
        }
      ]
    },
    {
      "cell_type": "code",
      "metadata": {
        "id": "Phu61VhVzzKy",
        "colab_type": "code",
        "colab": {
          "base_uri": "https://localhost:8080/",
          "height": 77
        },
        "outputId": "12fd9d53-923d-4a7a-a305-25d3c5d7b9aa"
      },
      "source": [
        "dnd_sales_df.loc[233, \"DOB\"] = pd.to_datetime(\"4/15/1962\")\n",
        "dnd_sales_df[cond_nan]"
      ],
      "execution_count": 55,
      "outputs": [
        {
          "output_type": "execute_result",
          "data": {
            "text/html": [
              "<div>\n",
              "<style scoped>\n",
              "    .dataframe tbody tr th:only-of-type {\n",
              "        vertical-align: middle;\n",
              "    }\n",
              "\n",
              "    .dataframe tbody tr th {\n",
              "        vertical-align: top;\n",
              "    }\n",
              "\n",
              "    .dataframe thead th {\n",
              "        text-align: right;\n",
              "    }\n",
              "</style>\n",
              "<table border=\"1\" class=\"dataframe\">\n",
              "  <thead>\n",
              "    <tr style=\"text-align: right;\">\n",
              "      <th></th>\n",
              "      <th>Date_of_PreShoot</th>\n",
              "      <th>Session_Fee</th>\n",
              "      <th>Hair</th>\n",
              "      <th>DOB</th>\n",
              "      <th>zip_code</th>\n",
              "      <th>Sales_total</th>\n",
              "      <th>Model Release</th>\n",
              "      <th>Favorite</th>\n",
              "    </tr>\n",
              "  </thead>\n",
              "  <tbody>\n",
              "    <tr>\n",
              "      <th>233</th>\n",
              "      <td>2013-03-17</td>\n",
              "      <td>99</td>\n",
              "      <td>no</td>\n",
              "      <td>1962-04-15 00:00:00</td>\n",
              "      <td>32244</td>\n",
              "      <td>374</td>\n",
              "      <td>NaN</td>\n",
              "      <td>no preference</td>\n",
              "    </tr>\n",
              "  </tbody>\n",
              "</table>\n",
              "</div>"
            ],
            "text/plain": [
              "    Date_of_PreShoot Session_Fee Hair  ... Sales_total Model Release       Favorite\n",
              "233       2013-03-17          99   no  ...         374           NaN  no preference\n",
              "\n",
              "[1 rows x 8 columns]"
            ]
          },
          "metadata": {
            "tags": []
          },
          "execution_count": 55
        }
      ]
    },
    {
      "cell_type": "code",
      "metadata": {
        "id": "m7mC2hcs0MMV",
        "colab_type": "code",
        "colab": {
          "base_uri": "https://localhost:8080/",
          "height": 34
        },
        "outputId": "249729fb-a25f-4fb1-8c67-fccdbca78448"
      },
      "source": [
        "dnd_sales_df[\"DOB\"].isnull().sum()"
      ],
      "execution_count": 56,
      "outputs": [
        {
          "output_type": "execute_result",
          "data": {
            "text/plain": [
              "0"
            ]
          },
          "metadata": {
            "tags": []
          },
          "execution_count": 56
        }
      ]
    },
    {
      "cell_type": "code",
      "metadata": {
        "id": "5YHqR4-32cDL",
        "colab_type": "code",
        "colab": {
          "base_uri": "https://localhost:8080/",
          "height": 106
        },
        "outputId": "b71ef186-4825-48cf-cf23-550d5d00251f"
      },
      "source": [
        "dnd_sales_df.head(2)"
      ],
      "execution_count": 57,
      "outputs": [
        {
          "output_type": "execute_result",
          "data": {
            "text/html": [
              "<div>\n",
              "<style scoped>\n",
              "    .dataframe tbody tr th:only-of-type {\n",
              "        vertical-align: middle;\n",
              "    }\n",
              "\n",
              "    .dataframe tbody tr th {\n",
              "        vertical-align: top;\n",
              "    }\n",
              "\n",
              "    .dataframe thead th {\n",
              "        text-align: right;\n",
              "    }\n",
              "</style>\n",
              "<table border=\"1\" class=\"dataframe\">\n",
              "  <thead>\n",
              "    <tr style=\"text-align: right;\">\n",
              "      <th></th>\n",
              "      <th>Date_of_PreShoot</th>\n",
              "      <th>Session_Fee</th>\n",
              "      <th>Hair</th>\n",
              "      <th>DOB</th>\n",
              "      <th>zip_code</th>\n",
              "      <th>Sales_total</th>\n",
              "      <th>Model Release</th>\n",
              "      <th>Favorite</th>\n",
              "    </tr>\n",
              "  </thead>\n",
              "  <tbody>\n",
              "    <tr>\n",
              "      <th>0</th>\n",
              "      <td>2017-01-05</td>\n",
              "      <td>99</td>\n",
              "      <td>yes</td>\n",
              "      <td>5/5/1976</td>\n",
              "      <td>32208</td>\n",
              "      <td>600</td>\n",
              "      <td>yes</td>\n",
              "      <td>butt</td>\n",
              "    </tr>\n",
              "    <tr>\n",
              "      <th>1</th>\n",
              "      <td>2017-11-02</td>\n",
              "      <td>99</td>\n",
              "      <td>yes</td>\n",
              "      <td>10/16/1984</td>\n",
              "      <td>32082</td>\n",
              "      <td>400</td>\n",
              "      <td>no</td>\n",
              "      <td>butt, eyes</td>\n",
              "    </tr>\n",
              "  </tbody>\n",
              "</table>\n",
              "</div>"
            ],
            "text/plain": [
              "  Date_of_PreShoot Session_Fee Hair  ... Sales_total Model Release    Favorite\n",
              "0       2017-01-05          99  yes  ...         600           yes        butt\n",
              "1       2017-11-02          99  yes  ...         400            no  butt, eyes\n",
              "\n",
              "[2 rows x 8 columns]"
            ]
          },
          "metadata": {
            "tags": []
          },
          "execution_count": 57
        }
      ]
    },
    {
      "cell_type": "code",
      "metadata": {
        "id": "dAn2MQJC2fTi",
        "colab_type": "code",
        "colab": {
          "base_uri": "https://localhost:8080/",
          "height": 218
        },
        "outputId": "ba53bdb2-272e-4d7b-9184-f6b706b90ba6"
      },
      "source": [
        "# the DOB isn't converted\n",
        "dnd_sales_df.loc[:, \"DOB\"] = pd.to_datetime(dnd_sales_df.loc[:, \"DOB\"])\n",
        "dnd_sales_df[\"DOB\"]"
      ],
      "execution_count": 58,
      "outputs": [
        {
          "output_type": "execute_result",
          "data": {
            "text/plain": [
              "0     1976-05-05\n",
              "1     1984-10-16\n",
              "2     1989-07-22\n",
              "3     1971-01-23\n",
              "5     1982-11-03\n",
              "         ...    \n",
              "414   1984-10-24\n",
              "419   1987-03-28\n",
              "421   1989-07-10\n",
              "422   1992-08-05\n",
              "423   1994-06-26\n",
              "Name: DOB, Length: 325, dtype: datetime64[ns]"
            ]
          },
          "metadata": {
            "tags": []
          },
          "execution_count": 58
        }
      ]
    },
    {
      "cell_type": "code",
      "metadata": {
        "id": "S8sZtm99N1G8",
        "colab_type": "code",
        "colab": {
          "base_uri": "https://localhost:8080/",
          "height": 34
        },
        "outputId": "c9685bea-ae0e-469a-a89b-a0add653cbcf"
      },
      "source": [
        "dnd_sales_df.loc[77, \"Date_of_PreShoot\"] = pd.to_datetime(\"11/14/2016\")\n",
        "dnd_sales_df.loc[77, \"Date_of_PreShoot\"]"
      ],
      "execution_count": 62,
      "outputs": [
        {
          "output_type": "execute_result",
          "data": {
            "text/plain": [
              "Timestamp('2016-11-14 00:00:00')"
            ]
          },
          "metadata": {
            "tags": []
          },
          "execution_count": 62
        }
      ]
    },
    {
      "cell_type": "code",
      "metadata": {
        "id": "k5QhO2BwM8iG",
        "colab_type": "code",
        "colab": {}
      },
      "source": [
        ""
      ],
      "execution_count": null,
      "outputs": []
    },
    {
      "cell_type": "code",
      "metadata": {
        "id": "8qdK0X8L3_cM",
        "colab_type": "code",
        "colab": {}
      },
      "source": [
        "# create a new feature \"Age_at_Shoot_Date\"\n",
        "dnd_sales_df[\"Age_at_Shoot_Date\"] = [int(x.days/365) for x in (dnd_sales_df.iloc[:,0] - dnd_sales_df.iloc[:,3])]\n"
      ],
      "execution_count": null,
      "outputs": []
    },
    {
      "cell_type": "code",
      "metadata": {
        "id": "B9girNJU5D5O",
        "colab_type": "code",
        "colab": {}
      },
      "source": [
        ""
      ],
      "execution_count": null,
      "outputs": []
    },
    {
      "cell_type": "code",
      "metadata": {
        "id": "x9NaDZXF4w7Q",
        "colab_type": "code",
        "colab": {}
      },
      "source": [
        "dnd_sales_df.head(2)"
      ],
      "execution_count": null,
      "outputs": []
    },
    {
      "cell_type": "code",
      "metadata": {
        "id": "raYhcSmO44pw",
        "colab_type": "code",
        "colab": {}
      },
      "source": [
        "dnd_sales_df[\"Age_at_Shoot_Date\"].mode()"
      ],
      "execution_count": null,
      "outputs": []
    },
    {
      "cell_type": "code",
      "metadata": {
        "id": "15SZqpSi6-l9",
        "colab_type": "code",
        "colab": {}
      },
      "source": [
        "dnd_sales_df[\"Age_at_Shoot_Date\"].value_counts()"
      ],
      "execution_count": null,
      "outputs": []
    },
    {
      "cell_type": "code",
      "metadata": {
        "id": "1ckSOXss6M1k",
        "colab_type": "code",
        "colab": {}
      },
      "source": [
        "dnd_sales_df[\"Age_at_Shoot_Date\"].describe()"
      ],
      "execution_count": null,
      "outputs": []
    },
    {
      "cell_type": "code",
      "metadata": {
        "id": "FSz024kKbhzH",
        "colab_type": "code",
        "colab": {}
      },
      "source": [
        ""
      ],
      "execution_count": null,
      "outputs": []
    },
    {
      "cell_type": "code",
      "metadata": {
        "id": "US5uuAUQ7HRc",
        "colab_type": "code",
        "colab": {}
      },
      "source": [
        "# bin the age into categories\n",
        "cut_labels_10 = [\"18-25\", \"26-30\", \"31-35\", \"36-40\", \"41-45\", \"46-50\", \"51-55\",\n",
        "                \"56-60\", \"61-65\", \"66-72\"]\n",
        "cut_bins = [0, 25, 30, 35, 40, 45, 50, 55, 60, 65, 72]\n",
        "\n",
        "dnd_sales_df[\"Age_Range\"] = pd.cut(dnd_sales_df[\"Age_at_Shoot_Date\"], bins=cut_bins,\n",
        "                                   labels=cut_labels_10)"
      ],
      "execution_count": null,
      "outputs": []
    },
    {
      "cell_type": "code",
      "metadata": {
        "id": "OAmpve1N4IYz",
        "colab_type": "code",
        "colab": {}
      },
      "source": [
        "dnd_sales_df.head(2)"
      ],
      "execution_count": null,
      "outputs": []
    },
    {
      "cell_type": "code",
      "metadata": {
        "id": "sJvCqJmH0mu5",
        "colab_type": "code",
        "colab": {}
      },
      "source": [
        ""
      ],
      "execution_count": null,
      "outputs": []
    },
    {
      "cell_type": "code",
      "metadata": {
        "id": "peVHlFz8A_j9",
        "colab_type": "code",
        "colab": {}
      },
      "source": [
        "# change Session_Fee\n",
        "dnd_sales_df[\"Session_Fee\"]= dnd_sales_df[\"Session_Fee\"].astype(str).astype(int)\n",
        "dnd_sales_df.describe()"
      ],
      "execution_count": null,
      "outputs": []
    },
    {
      "cell_type": "code",
      "metadata": {
        "id": "WSJi8UqhEUmy",
        "colab_type": "code",
        "colab": {}
      },
      "source": [
        "dnd_sales_df[\"Session_Fee\"].nunique()"
      ],
      "execution_count": null,
      "outputs": []
    },
    {
      "cell_type": "code",
      "metadata": {
        "id": "qZL2CGf9Aeii",
        "colab_type": "code",
        "colab": {}
      },
      "source": [
        "dnd_sales_df[\"Session_Fee\"].value_counts()"
      ],
      "execution_count": null,
      "outputs": []
    },
    {
      "cell_type": "code",
      "metadata": {
        "id": "Aa6acLjcMx52",
        "colab_type": "code",
        "colab": {}
      },
      "source": [
        ""
      ],
      "execution_count": null,
      "outputs": []
    },
    {
      "cell_type": "code",
      "metadata": {
        "id": "F14_V_4dPACq",
        "colab_type": "code",
        "colab": {}
      },
      "source": [
        "# check the preshoot column\n",
        "dnd_sales_df[\"Date_of_PreShoot\"].nunique()"
      ],
      "execution_count": null,
      "outputs": []
    },
    {
      "cell_type": "code",
      "metadata": {
        "id": "ffjmuL_pPuvt",
        "colab_type": "code",
        "colab": {}
      },
      "source": [
        "dnd_sales_df[\"Date_of_PreShoot\"].isnull().sum()"
      ],
      "execution_count": null,
      "outputs": []
    },
    {
      "cell_type": "code",
      "metadata": {
        "id": "iPLbfwH5RM5_",
        "colab_type": "code",
        "colab": {}
      },
      "source": [
        "dnd_sales_df.info()"
      ],
      "execution_count": null,
      "outputs": []
    },
    {
      "cell_type": "code",
      "metadata": {
        "id": "aSg8CHtCRics",
        "colab_type": "code",
        "colab": {}
      },
      "source": [
        "dnd_sales_df.head()"
      ],
      "execution_count": null,
      "outputs": []
    },
    {
      "cell_type": "code",
      "metadata": {
        "id": "lwKJcb9hR-uZ",
        "colab_type": "code",
        "colab": {}
      },
      "source": [
        "dnd_sales_df[\"zip_code\"].value_counts()"
      ],
      "execution_count": null,
      "outputs": []
    },
    {
      "cell_type": "code",
      "metadata": {
        "id": "rtd6_tJNSPM2",
        "colab_type": "code",
        "colab": {}
      },
      "source": [
        "dnd_sales_df[\"zip_code\"].isnull().sum()"
      ],
      "execution_count": null,
      "outputs": []
    },
    {
      "cell_type": "code",
      "metadata": {
        "id": "Xsxmd9EASyFx",
        "colab_type": "code",
        "colab": {}
      },
      "source": [
        ""
      ],
      "execution_count": null,
      "outputs": []
    },
    {
      "cell_type": "code",
      "metadata": {
        "id": "6itXMIwQQ-Vx",
        "colab_type": "code",
        "colab": {}
      },
      "source": [
        ""
      ],
      "execution_count": null,
      "outputs": []
    },
    {
      "cell_type": "code",
      "metadata": {
        "id": "XHwYW153Ms2m",
        "colab_type": "code",
        "colab": {}
      },
      "source": [
        ""
      ],
      "execution_count": null,
      "outputs": []
    },
    {
      "cell_type": "code",
      "metadata": {
        "id": "C7Osf18dqULv",
        "colab_type": "code",
        "colab": {}
      },
      "source": [
        "# num_cols = [dnd_sales_df.columns[0], dnd_sales_df.columns[1], dnd_sales_df.columns[5]]"
      ],
      "execution_count": null,
      "outputs": []
    },
    {
      "cell_type": "code",
      "metadata": {
        "id": "HgwWVpFiqyLR",
        "colab_type": "code",
        "colab": {}
      },
      "source": [
        "# try to convert columns to \"category\" data type\n",
        "# dnd_sales_df[num_cols] = dnd_sales_df[num_cols].astype(\"category\")"
      ],
      "execution_count": null,
      "outputs": []
    },
    {
      "cell_type": "code",
      "metadata": {
        "id": "ONuCv9oOsGMH",
        "colab_type": "code",
        "colab": {}
      },
      "source": [
        "dnd_sales_df.dtypes"
      ],
      "execution_count": null,
      "outputs": []
    },
    {
      "cell_type": "code",
      "metadata": {
        "id": "OWyKNKjmsMUk",
        "colab_type": "code",
        "colab": {}
      },
      "source": [
        "# for col in num_cols:\n",
        "#   dnd_sales_df[col] = dnd_sales_df[col].cat.codes\n",
        "\n",
        "# print(dnd_sales_df.shape)\n",
        "# dnd_sales_df.head"
      ],
      "execution_count": null,
      "outputs": []
    },
    {
      "cell_type": "code",
      "metadata": {
        "id": "bQ5nFWQ3swK_",
        "colab_type": "code",
        "colab": {}
      },
      "source": [
        "dnd_sales_df.describe()"
      ],
      "execution_count": null,
      "outputs": []
    },
    {
      "cell_type": "code",
      "metadata": {
        "id": "z5EgjfM1s5bW",
        "colab_type": "code",
        "colab": {}
      },
      "source": [
        "dnd_sales_df.head(10)"
      ],
      "execution_count": null,
      "outputs": []
    },
    {
      "cell_type": "code",
      "metadata": {
        "id": "WIjjQ2rNh74d",
        "colab_type": "code",
        "colab": {}
      },
      "source": [
        "#fix the Hair column by string white space if needed\n",
        "dnd_sales_df[\"Hair\"].value_counts()\n"
      ],
      "execution_count": null,
      "outputs": []
    },
    {
      "cell_type": "code",
      "metadata": {
        "id": "xiWuWfghiTGb",
        "colab_type": "code",
        "colab": {}
      },
      "source": [
        "dnd_sales_df[\"Hair\"] = dnd_sales_df.loc[:, \"Hair\"].str.strip()"
      ],
      "execution_count": null,
      "outputs": []
    },
    {
      "cell_type": "code",
      "metadata": {
        "id": "0ndhuo4xihNb",
        "colab_type": "code",
        "colab": {}
      },
      "source": [
        "# check to see if it worked\n",
        "dnd_sales_df[\"Hair\"].value_counts()"
      ],
      "execution_count": null,
      "outputs": []
    },
    {
      "cell_type": "code",
      "metadata": {
        "id": "94NtWgnnispx",
        "colab_type": "code",
        "colab": {}
      },
      "source": [
        ""
      ],
      "execution_count": null,
      "outputs": []
    },
    {
      "cell_type": "code",
      "metadata": {
        "id": "8cQtwDLmVCYu",
        "colab_type": "code",
        "colab": {}
      },
      "source": [
        ""
      ],
      "execution_count": null,
      "outputs": []
    },
    {
      "cell_type": "code",
      "metadata": {
        "id": "pxYEjsPvWL2F",
        "colab_type": "code",
        "colab": {}
      },
      "source": [
        "# creat a condition that give zip codes that are above the mode\n",
        "dnd_sales_df[\"Sales_total\"].mode()"
      ],
      "execution_count": null,
      "outputs": []
    },
    {
      "cell_type": "code",
      "metadata": {
        "id": "DXAWzE-urZZB",
        "colab_type": "code",
        "colab": {}
      },
      "source": [
        ""
      ],
      "execution_count": null,
      "outputs": []
    },
    {
      "cell_type": "code",
      "metadata": {
        "id": "BQ1oN0BarsQh",
        "colab_type": "code",
        "colab": {}
      },
      "source": [
        "# zip code needs to be checked I think it might have spaces and stuff.\n",
        "dnd_sales_df[\"zip_code\"].value_counts()"
      ],
      "execution_count": null,
      "outputs": []
    },
    {
      "cell_type": "code",
      "metadata": {
        "id": "R-fDSNnahH9y",
        "colab_type": "code",
        "colab": {}
      },
      "source": [
        "dnd_sales_df[\"zip_code\"] = dnd_sales_df[\"zip_code\"].str.strip()"
      ],
      "execution_count": null,
      "outputs": []
    },
    {
      "cell_type": "code",
      "metadata": {
        "id": "VFt2Kh-Przhm",
        "colab_type": "code",
        "colab": {}
      },
      "source": [
        "dnd_sales_df[\"zip_code\"] = dnd_sales_df[\"zip_code\"].astype(\"category\")"
      ],
      "execution_count": null,
      "outputs": []
    },
    {
      "cell_type": "code",
      "metadata": {
        "id": "XOKjn-fOr7qV",
        "colab_type": "code",
        "colab": {}
      },
      "source": [
        "dnd_sales_df.info()"
      ],
      "execution_count": null,
      "outputs": []
    },
    {
      "cell_type": "code",
      "metadata": {
        "id": "MiqfgHBjiTF2",
        "colab_type": "code",
        "colab": {}
      },
      "source": [
        "dnd_sales_df[\"Favorite\"].value_counts()\n"
      ],
      "execution_count": null,
      "outputs": []
    },
    {
      "cell_type": "code",
      "metadata": {
        "id": "zML7Y2kRobn9",
        "colab_type": "code",
        "colab": {}
      },
      "source": [
        "dnd_sales_df[\"Favorite\"].nunique()"
      ],
      "execution_count": null,
      "outputs": []
    },
    {
      "cell_type": "code",
      "metadata": {
        "id": "2f3FdlZLiy65",
        "colab_type": "code",
        "colab": {}
      },
      "source": [
        "# lets' see what happens if I strip it\n",
        "dnd_sales_df[\"Favorite\"]=dnd_sales_df[\"Favorite\"].str.strip()\n",
        "dnd_sales_df[\"Favorite\"].value_counts().sort_index()\n"
      ],
      "execution_count": null,
      "outputs": []
    },
    {
      "cell_type": "code",
      "metadata": {
        "id": "b8g1RMMTugZm",
        "colab_type": "code",
        "colab": {
          "base_uri": "https://localhost:8080/",
          "height": 269
        },
        "outputId": "32db11f9-702e-4f76-b201-6c73ea637a11"
      },
      "source": [
        "dnd_sales_df.info()"
      ],
      "execution_count": 60,
      "outputs": [
        {
          "output_type": "stream",
          "text": [
            "<class 'pandas.core.frame.DataFrame'>\n",
            "Int64Index: 325 entries, 0 to 423\n",
            "Data columns (total 8 columns):\n",
            " #   Column            Non-Null Count  Dtype         \n",
            "---  ------            --------------  -----         \n",
            " 0   Date_of_PreShoot  325 non-null    datetime64[ns]\n",
            " 1   Session_Fee       325 non-null    object        \n",
            " 2   Hair              325 non-null    object        \n",
            " 3   DOB               325 non-null    datetime64[ns]\n",
            " 4   zip_code          325 non-null    object        \n",
            " 5   Sales_total       325 non-null    int64         \n",
            " 6   Model Release     317 non-null    object        \n",
            " 7   Favorite          325 non-null    object        \n",
            "dtypes: datetime64[ns](2), int64(1), object(5)\n",
            "memory usage: 32.9+ KB\n"
          ],
          "name": "stdout"
        }
      ]
    },
    {
      "cell_type": "code",
      "metadata": {
        "id": "HAw_iIogvbKp",
        "colab_type": "code",
        "colab": {
          "base_uri": "https://localhost:8080/",
          "height": 106
        },
        "outputId": "443b9c47-bfb2-40ad-ba07-db5a9ca7b29d"
      },
      "source": [
        "dnd_sales_df.head(2)"
      ],
      "execution_count": 61,
      "outputs": [
        {
          "output_type": "execute_result",
          "data": {
            "text/html": [
              "<div>\n",
              "<style scoped>\n",
              "    .dataframe tbody tr th:only-of-type {\n",
              "        vertical-align: middle;\n",
              "    }\n",
              "\n",
              "    .dataframe tbody tr th {\n",
              "        vertical-align: top;\n",
              "    }\n",
              "\n",
              "    .dataframe thead th {\n",
              "        text-align: right;\n",
              "    }\n",
              "</style>\n",
              "<table border=\"1\" class=\"dataframe\">\n",
              "  <thead>\n",
              "    <tr style=\"text-align: right;\">\n",
              "      <th></th>\n",
              "      <th>Date_of_PreShoot</th>\n",
              "      <th>Session_Fee</th>\n",
              "      <th>Hair</th>\n",
              "      <th>DOB</th>\n",
              "      <th>zip_code</th>\n",
              "      <th>Sales_total</th>\n",
              "      <th>Model Release</th>\n",
              "      <th>Favorite</th>\n",
              "    </tr>\n",
              "  </thead>\n",
              "  <tbody>\n",
              "    <tr>\n",
              "      <th>0</th>\n",
              "      <td>2017-01-05</td>\n",
              "      <td>99</td>\n",
              "      <td>yes</td>\n",
              "      <td>1976-05-05</td>\n",
              "      <td>32208</td>\n",
              "      <td>600</td>\n",
              "      <td>yes</td>\n",
              "      <td>butt</td>\n",
              "    </tr>\n",
              "    <tr>\n",
              "      <th>1</th>\n",
              "      <td>2017-11-02</td>\n",
              "      <td>99</td>\n",
              "      <td>yes</td>\n",
              "      <td>1984-10-16</td>\n",
              "      <td>32082</td>\n",
              "      <td>400</td>\n",
              "      <td>no</td>\n",
              "      <td>butt, eyes</td>\n",
              "    </tr>\n",
              "  </tbody>\n",
              "</table>\n",
              "</div>"
            ],
            "text/plain": [
              "  Date_of_PreShoot Session_Fee Hair  ... Sales_total Model Release    Favorite\n",
              "0       2017-01-05          99  yes  ...         600           yes        butt\n",
              "1       2017-11-02          99  yes  ...         400            no  butt, eyes\n",
              "\n",
              "[2 rows x 8 columns]"
            ]
          },
          "metadata": {
            "tags": []
          },
          "execution_count": 61
        }
      ]
    },
    {
      "cell_type": "code",
      "metadata": {
        "id": "ICgdLM2VvdvX",
        "colab_type": "code",
        "colab": {}
      },
      "source": [
        "# create a subset df - zip code, Sales_Total then melt and or pivot\n",
        "zipc_sales_df = pd.DataFrame"
      ],
      "execution_count": null,
      "outputs": []
    },
    {
      "cell_type": "code",
      "metadata": {
        "id": "zrWHs_Sn1WnD",
        "colab_type": "code",
        "colab": {}
      },
      "source": [
        ""
      ],
      "execution_count": null,
      "outputs": []
    },
    {
      "cell_type": "code",
      "metadata": {
        "id": "BVpGmTlwjOJV",
        "colab_type": "code",
        "colab": {
          "base_uri": "https://localhost:8080/",
          "height": 34
        },
        "outputId": "186f68e9-ccf9-4013-9ed5-bc8668d77bf0"
      },
      "source": [
        "dnd_sales_df.loc[:, \"Sales_total\"].sum()/6"
      ],
      "execution_count": null,
      "outputs": [
        {
          "output_type": "execute_result",
          "data": {
            "text/plain": [
              "39980.166666666664"
            ]
          },
          "metadata": {
            "tags": []
          },
          "execution_count": 1311
        }
      ]
    },
    {
      "cell_type": "code",
      "metadata": {
        "id": "vpZvct9rl-K1",
        "colab_type": "code",
        "colab": {
          "base_uri": "https://localhost:8080/",
          "height": 34
        },
        "outputId": "eaf09d8a-2acb-4b2e-bff1-fbf642f2d072"
      },
      "source": [
        "dnd_sales_df.loc[:, \"Sales_total\"].mean()/9"
      ],
      "execution_count": null,
      "outputs": [
        {
          "output_type": "execute_result",
          "data": {
            "text/plain": [
              "82.0105982905983"
            ]
          },
          "metadata": {
            "tags": []
          },
          "execution_count": 1312
        }
      ]
    },
    {
      "cell_type": "code",
      "metadata": {
        "id": "X-AvOEEApoIF",
        "colab_type": "code",
        "colab": {}
      },
      "source": [
        ""
      ],
      "execution_count": null,
      "outputs": []
    },
    {
      "cell_type": "code",
      "metadata": {
        "id": "EKE10-SrpiPg",
        "colab_type": "code",
        "colab": {}
      },
      "source": [
        ""
      ],
      "execution_count": null,
      "outputs": []
    },
    {
      "cell_type": "code",
      "metadata": {
        "id": "ClPfljjMWetv",
        "colab_type": "code",
        "colab": {
          "base_uri": "https://localhost:8080/",
          "height": 67
        },
        "outputId": "da72aa7a-460b-4450-c681-91b901476c0f"
      },
      "source": [
        "hi_sales = dnd_sales_df[\"Sales_total\"] >= 1200 \n",
        "hi_sales.value_counts()"
      ],
      "execution_count": null,
      "outputs": [
        {
          "output_type": "execute_result",
          "data": {
            "text/plain": [
              "False    260\n",
              "True      65\n",
              "Name: Sales_total, dtype: int64"
            ]
          },
          "metadata": {
            "tags": []
          },
          "execution_count": 1313
        }
      ]
    },
    {
      "cell_type": "code",
      "metadata": {
        "id": "lg-f5YvbW6B8",
        "colab_type": "code",
        "colab": {
          "base_uri": "https://localhost:8080/",
          "height": 34
        },
        "outputId": "370203ec-0ed1-4da4-f468-473a3b94c2cd"
      },
      "source": [
        "# the highest sales \n",
        "\n",
        "dnd_highest_sales_df = dnd_sales_df[hi_sales]\n",
        "dnd_highest_sales_df.shape"
      ],
      "execution_count": null,
      "outputs": [
        {
          "output_type": "execute_result",
          "data": {
            "text/plain": [
              "(65, 10)"
            ]
          },
          "metadata": {
            "tags": []
          },
          "execution_count": 1314
        }
      ]
    },
    {
      "cell_type": "code",
      "metadata": {
        "id": "0dh9HPafXubS",
        "colab_type": "code",
        "colab": {
          "base_uri": "https://localhost:8080/",
          "height": 302
        },
        "outputId": "91c68e4d-6def-4a65-88a7-12bb825e8fb5"
      },
      "source": [
        "dnd_highest_sales_df.info()"
      ],
      "execution_count": null,
      "outputs": [
        {
          "output_type": "stream",
          "text": [
            "<class 'pandas.core.frame.DataFrame'>\n",
            "Int64Index: 65 entries, 5 to 423\n",
            "Data columns (total 10 columns):\n",
            " #   Column             Non-Null Count  Dtype         \n",
            "---  ------             --------------  -----         \n",
            " 0   Date_of_PreShoot   65 non-null     datetime64[ns]\n",
            " 1   Session_Fee        65 non-null     int64         \n",
            " 2   Hair               65 non-null     object        \n",
            " 3   DOB                65 non-null     datetime64[ns]\n",
            " 4   zip_code           65 non-null     category      \n",
            " 5   Sales_total        65 non-null     int64         \n",
            " 6   Model Release      65 non-null     object        \n",
            " 7   Favorite           65 non-null     object        \n",
            " 8   Age_at_Shoot_Date  65 non-null     int64         \n",
            " 9   Age_Range          65 non-null     category      \n",
            "dtypes: category(2), datetime64[ns](2), int64(3), object(3)\n",
            "memory usage: 8.2+ KB\n"
          ],
          "name": "stdout"
        }
      ]
    },
    {
      "cell_type": "code",
      "metadata": {
        "id": "UHV7oc1RXwo3",
        "colab_type": "code",
        "colab": {}
      },
      "source": [
        ""
      ],
      "execution_count": null,
      "outputs": []
    },
    {
      "cell_type": "code",
      "metadata": {
        "id": "S5jzvX3gsXoL",
        "colab_type": "code",
        "colab": {
          "base_uri": "https://localhost:8080/",
          "height": 67
        },
        "outputId": "4fdb3d7a-04d3-4306-cdc8-4e3d846fbb88"
      },
      "source": [
        "low_sales = dnd_sales_df[\"Sales_total\"] <= 500\n",
        "low_sales.value_counts()"
      ],
      "execution_count": null,
      "outputs": [
        {
          "output_type": "execute_result",
          "data": {
            "text/plain": [
              "False    253\n",
              "True      72\n",
              "Name: Sales_total, dtype: int64"
            ]
          },
          "metadata": {
            "tags": []
          },
          "execution_count": 1316
        }
      ]
    },
    {
      "cell_type": "code",
      "metadata": {
        "id": "V-TjxDtPsqmI",
        "colab_type": "code",
        "colab": {
          "base_uri": "https://localhost:8080/",
          "height": 284
        },
        "outputId": "dd3e639d-b5d7-4e61-c42b-d568b84c8903"
      },
      "source": [
        "# The lowest sales zip codes\n",
        "dnd_lowest_sales_df = dnd_sales_df[low_sales]\n",
        "dnd_lowest_sales_df.describe()"
      ],
      "execution_count": null,
      "outputs": [
        {
          "output_type": "execute_result",
          "data": {
            "text/html": [
              "<div>\n",
              "<style scoped>\n",
              "    .dataframe tbody tr th:only-of-type {\n",
              "        vertical-align: middle;\n",
              "    }\n",
              "\n",
              "    .dataframe tbody tr th {\n",
              "        vertical-align: top;\n",
              "    }\n",
              "\n",
              "    .dataframe thead th {\n",
              "        text-align: right;\n",
              "    }\n",
              "</style>\n",
              "<table border=\"1\" class=\"dataframe\">\n",
              "  <thead>\n",
              "    <tr style=\"text-align: right;\">\n",
              "      <th></th>\n",
              "      <th>Session_Fee</th>\n",
              "      <th>Sales_total</th>\n",
              "      <th>Age_at_Shoot_Date</th>\n",
              "    </tr>\n",
              "  </thead>\n",
              "  <tbody>\n",
              "    <tr>\n",
              "      <th>count</th>\n",
              "      <td>72.000000</td>\n",
              "      <td>72.000000</td>\n",
              "      <td>72.000000</td>\n",
              "    </tr>\n",
              "    <tr>\n",
              "      <th>mean</th>\n",
              "      <td>86.569444</td>\n",
              "      <td>180.541667</td>\n",
              "      <td>34.111111</td>\n",
              "    </tr>\n",
              "    <tr>\n",
              "      <th>std</th>\n",
              "      <td>36.490333</td>\n",
              "      <td>142.707219</td>\n",
              "      <td>11.249483</td>\n",
              "    </tr>\n",
              "    <tr>\n",
              "      <th>min</th>\n",
              "      <td>0.000000</td>\n",
              "      <td>0.000000</td>\n",
              "      <td>19.000000</td>\n",
              "    </tr>\n",
              "    <tr>\n",
              "      <th>25%</th>\n",
              "      <td>99.000000</td>\n",
              "      <td>60.000000</td>\n",
              "      <td>26.000000</td>\n",
              "    </tr>\n",
              "    <tr>\n",
              "      <th>50%</th>\n",
              "      <td>99.000000</td>\n",
              "      <td>160.000000</td>\n",
              "      <td>31.500000</td>\n",
              "    </tr>\n",
              "    <tr>\n",
              "      <th>75%</th>\n",
              "      <td>99.000000</td>\n",
              "      <td>305.000000</td>\n",
              "      <td>39.000000</td>\n",
              "    </tr>\n",
              "    <tr>\n",
              "      <th>max</th>\n",
              "      <td>179.000000</td>\n",
              "      <td>440.000000</td>\n",
              "      <td>66.000000</td>\n",
              "    </tr>\n",
              "  </tbody>\n",
              "</table>\n",
              "</div>"
            ],
            "text/plain": [
              "       Session_Fee  Sales_total  Age_at_Shoot_Date\n",
              "count    72.000000    72.000000          72.000000\n",
              "mean     86.569444   180.541667          34.111111\n",
              "std      36.490333   142.707219          11.249483\n",
              "min       0.000000     0.000000          19.000000\n",
              "25%      99.000000    60.000000          26.000000\n",
              "50%      99.000000   160.000000          31.500000\n",
              "75%      99.000000   305.000000          39.000000\n",
              "max     179.000000   440.000000          66.000000"
            ]
          },
          "metadata": {
            "tags": []
          },
          "execution_count": 1317
        }
      ]
    },
    {
      "cell_type": "code",
      "metadata": {
        "id": "TxL0G1Q_tQbe",
        "colab_type": "code",
        "colab": {
          "base_uri": "https://localhost:8080/",
          "height": 806
        },
        "outputId": "64815c68-58c6-4a45-9c6b-74d3aa59ec99"
      },
      "source": [
        "dnd_sales_df[\"Age_at_Shoot_Date\"].value_counts()"
      ],
      "execution_count": null,
      "outputs": [
        {
          "output_type": "execute_result",
          "data": {
            "text/plain": [
              "25    21\n",
              "26    18\n",
              "33    17\n",
              "35    17\n",
              "27    15\n",
              "28    14\n",
              "23    14\n",
              "32    13\n",
              "38    13\n",
              "34    12\n",
              "31    12\n",
              "30    10\n",
              "36    10\n",
              "29    10\n",
              "24     9\n",
              "39     9\n",
              "41     8\n",
              "40     8\n",
              "22     7\n",
              "50     6\n",
              "21     6\n",
              "44     6\n",
              "37     6\n",
              "20     5\n",
              "42     5\n",
              "43     5\n",
              "46     5\n",
              "48     5\n",
              "52     4\n",
              "45     4\n",
              "56     4\n",
              "54     4\n",
              "58     3\n",
              "51     3\n",
              "19     2\n",
              "49     2\n",
              "53     2\n",
              "59     2\n",
              "65     2\n",
              "66     1\n",
              "47     1\n",
              "57     1\n",
              "60     1\n",
              "61     1\n",
              "63     1\n",
              "72     1\n",
              "Name: Age_at_Shoot_Date, dtype: int64"
            ]
          },
          "metadata": {
            "tags": []
          },
          "execution_count": 1318
        }
      ]
    },
    {
      "cell_type": "code",
      "metadata": {
        "id": "2vs_hhNHNotm",
        "colab_type": "code",
        "colab": {}
      },
      "source": [
        ""
      ],
      "execution_count": null,
      "outputs": []
    },
    {
      "cell_type": "code",
      "metadata": {
        "id": "Z5_8q4TDNCCT",
        "colab_type": "code",
        "colab": {}
      },
      "source": [
        ""
      ],
      "execution_count": null,
      "outputs": []
    },
    {
      "cell_type": "code",
      "metadata": {
        "id": "mJOb--BYtMOd",
        "colab_type": "code",
        "colab": {}
      },
      "source": [
        ""
      ],
      "execution_count": null,
      "outputs": []
    },
    {
      "cell_type": "code",
      "metadata": {
        "id": "pUfYVK8QXbeX",
        "colab_type": "code",
        "colab": {
          "base_uri": "https://localhost:8080/",
          "height": 284
        },
        "outputId": "1e604894-26ff-4400-9cd7-dd5a49bda9cd"
      },
      "source": [
        "# this isn't exactly what I would like it to be\n",
        "dnd_highest_sales_df.describe()"
      ],
      "execution_count": null,
      "outputs": [
        {
          "output_type": "execute_result",
          "data": {
            "text/html": [
              "<div>\n",
              "<style scoped>\n",
              "    .dataframe tbody tr th:only-of-type {\n",
              "        vertical-align: middle;\n",
              "    }\n",
              "\n",
              "    .dataframe tbody tr th {\n",
              "        vertical-align: top;\n",
              "    }\n",
              "\n",
              "    .dataframe thead th {\n",
              "        text-align: right;\n",
              "    }\n",
              "</style>\n",
              "<table border=\"1\" class=\"dataframe\">\n",
              "  <thead>\n",
              "    <tr style=\"text-align: right;\">\n",
              "      <th></th>\n",
              "      <th>Session_Fee</th>\n",
              "      <th>Sales_total</th>\n",
              "      <th>Age_at_Shoot_Date</th>\n",
              "    </tr>\n",
              "  </thead>\n",
              "  <tbody>\n",
              "    <tr>\n",
              "      <th>count</th>\n",
              "      <td>65.000000</td>\n",
              "      <td>65.000000</td>\n",
              "      <td>65.000000</td>\n",
              "    </tr>\n",
              "    <tr>\n",
              "      <th>mean</th>\n",
              "      <td>110.723077</td>\n",
              "      <td>1467.015385</td>\n",
              "      <td>36.400000</td>\n",
              "    </tr>\n",
              "    <tr>\n",
              "      <th>std</th>\n",
              "      <td>45.380168</td>\n",
              "      <td>403.523369</td>\n",
              "      <td>11.835857</td>\n",
              "    </tr>\n",
              "    <tr>\n",
              "      <th>min</th>\n",
              "      <td>25.000000</td>\n",
              "      <td>1200.000000</td>\n",
              "      <td>19.000000</td>\n",
              "    </tr>\n",
              "    <tr>\n",
              "      <th>25%</th>\n",
              "      <td>99.000000</td>\n",
              "      <td>1200.000000</td>\n",
              "      <td>27.000000</td>\n",
              "    </tr>\n",
              "    <tr>\n",
              "      <th>50%</th>\n",
              "      <td>99.000000</td>\n",
              "      <td>1320.000000</td>\n",
              "      <td>34.000000</td>\n",
              "    </tr>\n",
              "    <tr>\n",
              "      <th>75%</th>\n",
              "      <td>99.000000</td>\n",
              "      <td>1550.000000</td>\n",
              "      <td>43.000000</td>\n",
              "    </tr>\n",
              "    <tr>\n",
              "      <th>max</th>\n",
              "      <td>179.000000</td>\n",
              "      <td>3000.000000</td>\n",
              "      <td>65.000000</td>\n",
              "    </tr>\n",
              "  </tbody>\n",
              "</table>\n",
              "</div>"
            ],
            "text/plain": [
              "       Session_Fee  Sales_total  Age_at_Shoot_Date\n",
              "count    65.000000    65.000000          65.000000\n",
              "mean    110.723077  1467.015385          36.400000\n",
              "std      45.380168   403.523369          11.835857\n",
              "min      25.000000  1200.000000          19.000000\n",
              "25%      99.000000  1200.000000          27.000000\n",
              "50%      99.000000  1320.000000          34.000000\n",
              "75%      99.000000  1550.000000          43.000000\n",
              "max     179.000000  3000.000000          65.000000"
            ]
          },
          "metadata": {
            "tags": []
          },
          "execution_count": 1319
        }
      ]
    },
    {
      "cell_type": "code",
      "metadata": {
        "id": "YStWHTMwTIb1",
        "colab_type": "code",
        "colab": {
          "base_uri": "https://localhost:8080/",
          "height": 195
        },
        "outputId": "2aca49a2-a237-4501-89ae-313d57225c38"
      },
      "source": [
        "dnd_highest_sales_df.tail()"
      ],
      "execution_count": null,
      "outputs": [
        {
          "output_type": "execute_result",
          "data": {
            "text/html": [
              "<div>\n",
              "<style scoped>\n",
              "    .dataframe tbody tr th:only-of-type {\n",
              "        vertical-align: middle;\n",
              "    }\n",
              "\n",
              "    .dataframe tbody tr th {\n",
              "        vertical-align: top;\n",
              "    }\n",
              "\n",
              "    .dataframe thead th {\n",
              "        text-align: right;\n",
              "    }\n",
              "</style>\n",
              "<table border=\"1\" class=\"dataframe\">\n",
              "  <thead>\n",
              "    <tr style=\"text-align: right;\">\n",
              "      <th></th>\n",
              "      <th>Date_of_PreShoot</th>\n",
              "      <th>Session_Fee</th>\n",
              "      <th>Hair</th>\n",
              "      <th>DOB</th>\n",
              "      <th>zip_code</th>\n",
              "      <th>Sales_total</th>\n",
              "      <th>Model Release</th>\n",
              "      <th>Favorite</th>\n",
              "      <th>Age_at_Shoot_Date</th>\n",
              "      <th>Age_Range</th>\n",
              "    </tr>\n",
              "  </thead>\n",
              "  <tbody>\n",
              "    <tr>\n",
              "      <th>391</th>\n",
              "      <td>2019-09-24</td>\n",
              "      <td>25</td>\n",
              "      <td>no</td>\n",
              "      <td>1959-11-03</td>\n",
              "      <td>32097</td>\n",
              "      <td>1320</td>\n",
              "      <td>yes</td>\n",
              "      <td>boobs</td>\n",
              "      <td>59</td>\n",
              "      <td>56-60</td>\n",
              "    </tr>\n",
              "    <tr>\n",
              "      <th>394</th>\n",
              "      <td>2020-01-06</td>\n",
              "      <td>25</td>\n",
              "      <td>no</td>\n",
              "      <td>1997-10-01</td>\n",
              "      <td>32046</td>\n",
              "      <td>1320</td>\n",
              "      <td>yes</td>\n",
              "      <td>boobs</td>\n",
              "      <td>22</td>\n",
              "      <td>18-25</td>\n",
              "    </tr>\n",
              "    <tr>\n",
              "      <th>405</th>\n",
              "      <td>2020-01-31</td>\n",
              "      <td>179</td>\n",
              "      <td>yes</td>\n",
              "      <td>1960-04-24</td>\n",
              "      <td>31522</td>\n",
              "      <td>1320</td>\n",
              "      <td>yes</td>\n",
              "      <td>boobs</td>\n",
              "      <td>59</td>\n",
              "      <td>56-60</td>\n",
              "    </tr>\n",
              "    <tr>\n",
              "      <th>407</th>\n",
              "      <td>2020-01-31</td>\n",
              "      <td>25</td>\n",
              "      <td>no</td>\n",
              "      <td>1975-06-20</td>\n",
              "      <td>32258</td>\n",
              "      <td>1320</td>\n",
              "      <td>no</td>\n",
              "      <td>butt</td>\n",
              "      <td>44</td>\n",
              "      <td>41-45</td>\n",
              "    </tr>\n",
              "    <tr>\n",
              "      <th>423</th>\n",
              "      <td>2018-04-08</td>\n",
              "      <td>99</td>\n",
              "      <td>no</td>\n",
              "      <td>1994-06-26</td>\n",
              "      <td>32244</td>\n",
              "      <td>1200</td>\n",
              "      <td>yes</td>\n",
              "      <td>butt, legs</td>\n",
              "      <td>23</td>\n",
              "      <td>18-25</td>\n",
              "    </tr>\n",
              "  </tbody>\n",
              "</table>\n",
              "</div>"
            ],
            "text/plain": [
              "    Date_of_PreShoot  Session_Fee Hair  ...    Favorite Age_at_Shoot_Date  Age_Range\n",
              "391       2019-09-24           25   no  ...       boobs                59      56-60\n",
              "394       2020-01-06           25   no  ...       boobs                22      18-25\n",
              "405       2020-01-31          179  yes  ...       boobs                59      56-60\n",
              "407       2020-01-31           25   no  ...        butt                44      41-45\n",
              "423       2018-04-08           99   no  ...  butt, legs                23      18-25\n",
              "\n",
              "[5 rows x 10 columns]"
            ]
          },
          "metadata": {
            "tags": []
          },
          "execution_count": 1320
        }
      ]
    },
    {
      "cell_type": "code",
      "metadata": {
        "id": "qPz4LxOPVjQJ",
        "colab_type": "code",
        "colab": {}
      },
      "source": [
        ""
      ],
      "execution_count": null,
      "outputs": []
    },
    {
      "cell_type": "code",
      "metadata": {
        "id": "aqaGStKVXku2",
        "colab_type": "code",
        "colab": {
          "base_uri": "https://localhost:8080/",
          "height": 202
        },
        "outputId": "a8b3f3e7-299f-433d-9cb4-c2f35116bdd6"
      },
      "source": [
        "dnd_highest_sales_df.nunique()"
      ],
      "execution_count": null,
      "outputs": [
        {
          "output_type": "execute_result",
          "data": {
            "text/plain": [
              "Date_of_PreShoot     60\n",
              "Session_Fee           3\n",
              "Hair                  2\n",
              "DOB                  64\n",
              "zip_code             37\n",
              "Sales_total          21\n",
              "Model Release         3\n",
              "Favorite             17\n",
              "Age_at_Shoot_Date    34\n",
              "Age_Range             9\n",
              "dtype: int64"
            ]
          },
          "metadata": {
            "tags": []
          },
          "execution_count": 1321
        }
      ]
    },
    {
      "cell_type": "code",
      "metadata": {
        "id": "n0iKlHIlSp_S",
        "colab_type": "code",
        "colab": {
          "base_uri": "https://localhost:8080/",
          "height": 34
        },
        "outputId": "f7af6e77-0296-4658-c6f1-97019f2b73ad"
      },
      "source": [
        "#something is wrong. Why does this include zipcodes with zero count??\n",
        "print(dnd_highest_sales_df[\"zip_code\"].value_counts().sum())\n"
      ],
      "execution_count": null,
      "outputs": [
        {
          "output_type": "stream",
          "text": [
            "65\n"
          ],
          "name": "stdout"
        }
      ]
    },
    {
      "cell_type": "code",
      "metadata": {
        "id": "chl6wZyul66P",
        "colab_type": "code",
        "colab": {}
      },
      "source": [
        "import operator"
      ],
      "execution_count": null,
      "outputs": []
    },
    {
      "cell_type": "code",
      "metadata": {
        "id": "RnY7rWoqYdzo",
        "colab_type": "code",
        "colab": {}
      },
      "source": [
        "# cond_fav_butt =  [\"butt\" in x for x in dnd_sales_df[\"Favorite\"]] == True\n",
        "# dnd_sales_df.loc[:,\"Favorite\"]\n",
        "# cond_fav_butt = [operator.contains(x, \"butt\") for x in dnd_sales_df.loc[:,\"Favorite\"]] == True\n",
        "\n",
        "for x in dnd_sales_df.loc[:, \"Favorite\"]:\n",
        "  if operator.contains(x, \"butt\"):\n",
        "    print(operator.contains(x, \"butt\"))"
      ],
      "execution_count": null,
      "outputs": []
    },
    {
      "cell_type": "code",
      "metadata": {
        "id": "HzbPpgisoJXP",
        "colab_type": "code",
        "colab": {
          "base_uri": "https://localhost:8080/",
          "height": 34
        },
        "outputId": "5f1d8b7b-886a-4645-d91e-acf58f5b16aa"
      },
      "source": [
        "print(operator.contains(dnd_sales_df.loc[:,\"Favorite\"], \"butt\"))"
      ],
      "execution_count": null,
      "outputs": [
        {
          "output_type": "stream",
          "text": [
            "False\n"
          ],
          "name": "stdout"
        }
      ]
    },
    {
      "cell_type": "code",
      "metadata": {
        "id": "tn8zvZp1nfOF",
        "colab_type": "code",
        "colab": {}
      },
      "source": [
        ""
      ],
      "execution_count": null,
      "outputs": []
    },
    {
      "cell_type": "code",
      "metadata": {
        "id": "d98BxiQeW2Ps",
        "colab_type": "code",
        "colab": {
          "base_uri": "https://localhost:8080/",
          "height": 690
        },
        "outputId": "35afbff2-cff5-413d-de99-b4fca7ac98cd"
      },
      "source": [
        "dnd_sales_df[cond_fav_butt]"
      ],
      "execution_count": null,
      "outputs": [
        {
          "output_type": "error",
          "ename": "KeyError",
          "evalue": "ignored",
          "traceback": [
            "\u001b[0;31m---------------------------------------------------------------------------\u001b[0m",
            "\u001b[0;31mKeyError\u001b[0m                                  Traceback (most recent call last)",
            "\u001b[0;32m/usr/local/lib/python3.6/dist-packages/pandas/core/indexes/base.py\u001b[0m in \u001b[0;36mget_loc\u001b[0;34m(self, key, method, tolerance)\u001b[0m\n\u001b[1;32m   2645\u001b[0m             \u001b[0;32mtry\u001b[0m\u001b[0;34m:\u001b[0m\u001b[0;34m\u001b[0m\u001b[0;34m\u001b[0m\u001b[0m\n\u001b[0;32m-> 2646\u001b[0;31m                 \u001b[0;32mreturn\u001b[0m \u001b[0mself\u001b[0m\u001b[0;34m.\u001b[0m\u001b[0m_engine\u001b[0m\u001b[0;34m.\u001b[0m\u001b[0mget_loc\u001b[0m\u001b[0;34m(\u001b[0m\u001b[0mkey\u001b[0m\u001b[0;34m)\u001b[0m\u001b[0;34m\u001b[0m\u001b[0;34m\u001b[0m\u001b[0m\n\u001b[0m\u001b[1;32m   2647\u001b[0m             \u001b[0;32mexcept\u001b[0m \u001b[0mKeyError\u001b[0m\u001b[0;34m:\u001b[0m\u001b[0;34m\u001b[0m\u001b[0;34m\u001b[0m\u001b[0m\n",
            "\u001b[0;32mpandas/_libs/index.pyx\u001b[0m in \u001b[0;36mpandas._libs.index.IndexEngine.get_loc\u001b[0;34m()\u001b[0m\n",
            "\u001b[0;32mpandas/_libs/index.pyx\u001b[0m in \u001b[0;36mpandas._libs.index.IndexEngine.get_loc\u001b[0;34m()\u001b[0m\n",
            "\u001b[0;32mpandas/_libs/hashtable_class_helper.pxi\u001b[0m in \u001b[0;36mpandas._libs.hashtable.PyObjectHashTable.get_item\u001b[0;34m()\u001b[0m\n",
            "\u001b[0;32mpandas/_libs/hashtable_class_helper.pxi\u001b[0m in \u001b[0;36mpandas._libs.hashtable.PyObjectHashTable.get_item\u001b[0;34m()\u001b[0m\n",
            "\u001b[0;31mKeyError\u001b[0m: False",
            "\nDuring handling of the above exception, another exception occurred:\n",
            "\u001b[0;31mKeyError\u001b[0m                                  Traceback (most recent call last)",
            "\u001b[0;32m<ipython-input-1354-3367046e8988>\u001b[0m in \u001b[0;36m<module>\u001b[0;34m()\u001b[0m\n\u001b[0;32m----> 1\u001b[0;31m \u001b[0mdnd_sales_df\u001b[0m\u001b[0;34m[\u001b[0m\u001b[0mcond_fav_butt\u001b[0m\u001b[0;34m]\u001b[0m\u001b[0;34m\u001b[0m\u001b[0;34m\u001b[0m\u001b[0m\n\u001b[0m",
            "\u001b[0;32m/usr/local/lib/python3.6/dist-packages/pandas/core/frame.py\u001b[0m in \u001b[0;36m__getitem__\u001b[0;34m(self, key)\u001b[0m\n\u001b[1;32m   2798\u001b[0m             \u001b[0;32mif\u001b[0m \u001b[0mself\u001b[0m\u001b[0;34m.\u001b[0m\u001b[0mcolumns\u001b[0m\u001b[0;34m.\u001b[0m\u001b[0mnlevels\u001b[0m \u001b[0;34m>\u001b[0m \u001b[0;36m1\u001b[0m\u001b[0;34m:\u001b[0m\u001b[0;34m\u001b[0m\u001b[0;34m\u001b[0m\u001b[0m\n\u001b[1;32m   2799\u001b[0m                 \u001b[0;32mreturn\u001b[0m \u001b[0mself\u001b[0m\u001b[0;34m.\u001b[0m\u001b[0m_getitem_multilevel\u001b[0m\u001b[0;34m(\u001b[0m\u001b[0mkey\u001b[0m\u001b[0;34m)\u001b[0m\u001b[0;34m\u001b[0m\u001b[0;34m\u001b[0m\u001b[0m\n\u001b[0;32m-> 2800\u001b[0;31m             \u001b[0mindexer\u001b[0m \u001b[0;34m=\u001b[0m \u001b[0mself\u001b[0m\u001b[0;34m.\u001b[0m\u001b[0mcolumns\u001b[0m\u001b[0;34m.\u001b[0m\u001b[0mget_loc\u001b[0m\u001b[0;34m(\u001b[0m\u001b[0mkey\u001b[0m\u001b[0;34m)\u001b[0m\u001b[0;34m\u001b[0m\u001b[0;34m\u001b[0m\u001b[0m\n\u001b[0m\u001b[1;32m   2801\u001b[0m             \u001b[0;32mif\u001b[0m \u001b[0mis_integer\u001b[0m\u001b[0;34m(\u001b[0m\u001b[0mindexer\u001b[0m\u001b[0;34m)\u001b[0m\u001b[0;34m:\u001b[0m\u001b[0;34m\u001b[0m\u001b[0;34m\u001b[0m\u001b[0m\n\u001b[1;32m   2802\u001b[0m                 \u001b[0mindexer\u001b[0m \u001b[0;34m=\u001b[0m \u001b[0;34m[\u001b[0m\u001b[0mindexer\u001b[0m\u001b[0;34m]\u001b[0m\u001b[0;34m\u001b[0m\u001b[0;34m\u001b[0m\u001b[0m\n",
            "\u001b[0;32m/usr/local/lib/python3.6/dist-packages/pandas/core/indexes/base.py\u001b[0m in \u001b[0;36mget_loc\u001b[0;34m(self, key, method, tolerance)\u001b[0m\n\u001b[1;32m   2646\u001b[0m                 \u001b[0;32mreturn\u001b[0m \u001b[0mself\u001b[0m\u001b[0;34m.\u001b[0m\u001b[0m_engine\u001b[0m\u001b[0;34m.\u001b[0m\u001b[0mget_loc\u001b[0m\u001b[0;34m(\u001b[0m\u001b[0mkey\u001b[0m\u001b[0;34m)\u001b[0m\u001b[0;34m\u001b[0m\u001b[0;34m\u001b[0m\u001b[0m\n\u001b[1;32m   2647\u001b[0m             \u001b[0;32mexcept\u001b[0m \u001b[0mKeyError\u001b[0m\u001b[0;34m:\u001b[0m\u001b[0;34m\u001b[0m\u001b[0;34m\u001b[0m\u001b[0m\n\u001b[0;32m-> 2648\u001b[0;31m                 \u001b[0;32mreturn\u001b[0m \u001b[0mself\u001b[0m\u001b[0;34m.\u001b[0m\u001b[0m_engine\u001b[0m\u001b[0;34m.\u001b[0m\u001b[0mget_loc\u001b[0m\u001b[0;34m(\u001b[0m\u001b[0mself\u001b[0m\u001b[0;34m.\u001b[0m\u001b[0m_maybe_cast_indexer\u001b[0m\u001b[0;34m(\u001b[0m\u001b[0mkey\u001b[0m\u001b[0;34m)\u001b[0m\u001b[0;34m)\u001b[0m\u001b[0;34m\u001b[0m\u001b[0;34m\u001b[0m\u001b[0m\n\u001b[0m\u001b[1;32m   2649\u001b[0m         \u001b[0mindexer\u001b[0m \u001b[0;34m=\u001b[0m \u001b[0mself\u001b[0m\u001b[0;34m.\u001b[0m\u001b[0mget_indexer\u001b[0m\u001b[0;34m(\u001b[0m\u001b[0;34m[\u001b[0m\u001b[0mkey\u001b[0m\u001b[0;34m]\u001b[0m\u001b[0;34m,\u001b[0m \u001b[0mmethod\u001b[0m\u001b[0;34m=\u001b[0m\u001b[0mmethod\u001b[0m\u001b[0;34m,\u001b[0m \u001b[0mtolerance\u001b[0m\u001b[0;34m=\u001b[0m\u001b[0mtolerance\u001b[0m\u001b[0;34m)\u001b[0m\u001b[0;34m\u001b[0m\u001b[0;34m\u001b[0m\u001b[0m\n\u001b[1;32m   2650\u001b[0m         \u001b[0;32mif\u001b[0m \u001b[0mindexer\u001b[0m\u001b[0;34m.\u001b[0m\u001b[0mndim\u001b[0m \u001b[0;34m>\u001b[0m \u001b[0;36m1\u001b[0m \u001b[0;32mor\u001b[0m \u001b[0mindexer\u001b[0m\u001b[0;34m.\u001b[0m\u001b[0msize\u001b[0m \u001b[0;34m>\u001b[0m \u001b[0;36m1\u001b[0m\u001b[0;34m:\u001b[0m\u001b[0;34m\u001b[0m\u001b[0;34m\u001b[0m\u001b[0m\n",
            "\u001b[0;32mpandas/_libs/index.pyx\u001b[0m in \u001b[0;36mpandas._libs.index.IndexEngine.get_loc\u001b[0;34m()\u001b[0m\n",
            "\u001b[0;32mpandas/_libs/index.pyx\u001b[0m in \u001b[0;36mpandas._libs.index.IndexEngine.get_loc\u001b[0;34m()\u001b[0m\n",
            "\u001b[0;32mpandas/_libs/hashtable_class_helper.pxi\u001b[0m in \u001b[0;36mpandas._libs.hashtable.PyObjectHashTable.get_item\u001b[0;34m()\u001b[0m\n",
            "\u001b[0;32mpandas/_libs/hashtable_class_helper.pxi\u001b[0m in \u001b[0;36mpandas._libs.hashtable.PyObjectHashTable.get_item\u001b[0;34m()\u001b[0m\n",
            "\u001b[0;31mKeyError\u001b[0m: False"
          ]
        }
      ]
    },
    {
      "cell_type": "code",
      "metadata": {
        "id": "-hsXJao8mqwi",
        "colab_type": "code",
        "colab": {}
      },
      "source": [
        ""
      ],
      "execution_count": null,
      "outputs": []
    },
    {
      "cell_type": "code",
      "metadata": {
        "id": "Wf_eiuyKkzA6",
        "colab_type": "code",
        "colab": {}
      },
      "source": [
        ""
      ],
      "execution_count": null,
      "outputs": []
    },
    {
      "cell_type": "code",
      "metadata": {
        "id": "18tkxqqbWrnu",
        "colab_type": "code",
        "colab": {
          "base_uri": "https://localhost:8080/",
          "height": 118
        },
        "outputId": "e6d0671a-678e-4e49-b649-7da7313e4142"
      },
      "source": [
        "dnd_sales_df[\"Favorite\"].head()"
      ],
      "execution_count": null,
      "outputs": [
        {
          "output_type": "execute_result",
          "data": {
            "text/plain": [
              "0                butt\n",
              "1          butt, eyes\n",
              "2    eyes, hair, legs\n",
              "3               boobs\n",
              "5                butt\n",
              "Name: Favorite, dtype: object"
            ]
          },
          "metadata": {
            "tags": []
          },
          "execution_count": 1340
        }
      ]
    },
    {
      "cell_type": "code",
      "metadata": {
        "id": "ANiNBD8Wkd3e",
        "colab_type": "code",
        "colab": {}
      },
      "source": [
        ""
      ],
      "execution_count": null,
      "outputs": []
    },
    {
      "cell_type": "code",
      "metadata": {
        "id": "JDW5wGWTXxhE",
        "colab_type": "code",
        "colab": {
          "base_uri": "https://localhost:8080/",
          "height": 202
        },
        "outputId": "1eaa7df3-d98a-4768-fe28-3563f675e4ba"
      },
      "source": [
        "dnd_sales_df.nunique()"
      ],
      "execution_count": null,
      "outputs": [
        {
          "output_type": "execute_result",
          "data": {
            "text/plain": [
              "Date_of_PreShoot     266\n",
              "Session_Fee            7\n",
              "Hair                   2\n",
              "DOB                  316\n",
              "zip_code              76\n",
              "Sales_total           68\n",
              "Model Release          4\n",
              "Favorite              47\n",
              "Age_at_Shoot_Date     46\n",
              "Age_Range             10\n",
              "dtype: int64"
            ]
          },
          "metadata": {
            "tags": []
          },
          "execution_count": 1323
        }
      ]
    },
    {
      "cell_type": "code",
      "metadata": {
        "id": "DN7k3FAXiD9o",
        "colab_type": "code",
        "colab": {
          "base_uri": "https://localhost:8080/",
          "height": 106
        },
        "outputId": "df06dffe-bae6-400e-f951-ba2d49352483"
      },
      "source": [
        "dnd_sales_df.head(2)"
      ],
      "execution_count": null,
      "outputs": [
        {
          "output_type": "execute_result",
          "data": {
            "text/html": [
              "<div>\n",
              "<style scoped>\n",
              "    .dataframe tbody tr th:only-of-type {\n",
              "        vertical-align: middle;\n",
              "    }\n",
              "\n",
              "    .dataframe tbody tr th {\n",
              "        vertical-align: top;\n",
              "    }\n",
              "\n",
              "    .dataframe thead th {\n",
              "        text-align: right;\n",
              "    }\n",
              "</style>\n",
              "<table border=\"1\" class=\"dataframe\">\n",
              "  <thead>\n",
              "    <tr style=\"text-align: right;\">\n",
              "      <th></th>\n",
              "      <th>Date_of_PreShoot</th>\n",
              "      <th>Session_Fee</th>\n",
              "      <th>Hair</th>\n",
              "      <th>DOB</th>\n",
              "      <th>zip_code</th>\n",
              "      <th>Sales_total</th>\n",
              "      <th>Model Release</th>\n",
              "      <th>Favorite</th>\n",
              "      <th>Age_at_Shoot_Date</th>\n",
              "      <th>Age_Range</th>\n",
              "    </tr>\n",
              "  </thead>\n",
              "  <tbody>\n",
              "    <tr>\n",
              "      <th>0</th>\n",
              "      <td>2017-01-05</td>\n",
              "      <td>99</td>\n",
              "      <td>yes</td>\n",
              "      <td>1976-05-05</td>\n",
              "      <td>32208</td>\n",
              "      <td>600</td>\n",
              "      <td>yes</td>\n",
              "      <td>butt</td>\n",
              "      <td>40</td>\n",
              "      <td>36-40</td>\n",
              "    </tr>\n",
              "    <tr>\n",
              "      <th>1</th>\n",
              "      <td>2017-11-02</td>\n",
              "      <td>99</td>\n",
              "      <td>yes</td>\n",
              "      <td>1984-10-16</td>\n",
              "      <td>32082</td>\n",
              "      <td>400</td>\n",
              "      <td>no</td>\n",
              "      <td>butt, eyes</td>\n",
              "      <td>33</td>\n",
              "      <td>31-35</td>\n",
              "    </tr>\n",
              "  </tbody>\n",
              "</table>\n",
              "</div>"
            ],
            "text/plain": [
              "  Date_of_PreShoot  Session_Fee Hair  ...    Favorite Age_at_Shoot_Date  Age_Range\n",
              "0       2017-01-05           99  yes  ...        butt                40      36-40\n",
              "1       2017-11-02           99  yes  ...  butt, eyes                33      31-35\n",
              "\n",
              "[2 rows x 10 columns]"
            ]
          },
          "metadata": {
            "tags": []
          },
          "execution_count": 1330
        }
      ]
    },
    {
      "cell_type": "code",
      "metadata": {
        "id": "xgfHvh36iHeQ",
        "colab_type": "code",
        "colab": {}
      },
      "source": [
        ""
      ],
      "execution_count": null,
      "outputs": []
    },
    {
      "cell_type": "code",
      "metadata": {
        "id": "6LUEYjYdX5G0",
        "colab_type": "code",
        "colab": {
          "base_uri": "https://localhost:8080/",
          "height": 265
        },
        "outputId": "45816cc7-ecc8-4652-8872-bf82a2cba80d"
      },
      "source": [
        "# plot age at histogram\n",
        "\n",
        "plt.hist(dnd_sales_df[\"Age_at_Shoot_Date\"], bins=50)\n",
        "plt.show()"
      ],
      "execution_count": null,
      "outputs": [
        {
          "output_type": "display_data",
          "data": {
            "image/png": "[encoded data removed]",
            "text/plain": [
              "<Figure size 432x288 with 1 Axes>"
            ]
          },
          "metadata": {
            "tags": [],
            "needs_background": "light"
          }
        }
      ]
    },
    {
      "cell_type": "code",
      "metadata": {
        "id": "099cfB6uf7gU",
        "colab_type": "code",
        "colab": {
          "base_uri": "https://localhost:8080/",
          "height": 325
        },
        "outputId": "8cd26f11-9457-4fdf-dace-8d0ebfa472c4"
      },
      "source": [
        "# lets try bar here\n",
        "dnd_sales_df[\"Age_Range\"].value_counts(sort=False).plot.bar()\n"
      ],
      "execution_count": null,
      "outputs": [
        {
          "output_type": "execute_result",
          "data": {
            "text/plain": [
              "<matplotlib.axes._subplots.AxesSubplot at 0x7fd5b5409be0>"
            ]
          },
          "metadata": {
            "tags": []
          },
          "execution_count": 1367
        },
        {
          "output_type": "display_data",
          "data": {
            "image/png": "[encoded data removed]",
            "text/plain": [
              "<Figure size 432x288 with 1 Axes>"
            ]
          },
          "metadata": {
            "tags": []
          }
        }
      ]
    },
    {
      "cell_type": "code",
      "metadata": {
        "id": "Zb3AdraJtD1l",
        "colab_type": "code",
        "colab": {
          "base_uri": "https://localhost:8080/",
          "height": 265
        },
        "outputId": "feb57edd-4342-45e0-df40-d5feb344e60b"
      },
      "source": [
        "plt.hist(dnd_sales_df[\"Sales_total\"], bins=40)\n",
        "plt.show()"
      ],
      "execution_count": null,
      "outputs": [
        {
          "output_type": "display_data",
          "data": {
            "image/png": "[encoded data removed]",
            "text/plain": [
              "<Figure size 432x288 with 1 Axes>"
            ]
          },
          "metadata": {
            "tags": [],
            "needs_background": "light"
          }
        }
      ]
    },
    {
      "cell_type": "code",
      "metadata": {
        "id": "RHzukuLeSIyq",
        "colab_type": "code",
        "colab": {
          "base_uri": "https://localhost:8080/",
          "height": 265
        },
        "outputId": "cdf535cb-ad79-4fa8-e596-1ba1a13f2b26"
      },
      "source": [
        "plt.hist(dnd_highest_codes_df[\"Sales_total\"], bins=40)\n",
        "plt.show()"
      ],
      "execution_count": null,
      "outputs": [
        {
          "output_type": "display_data",
          "data": {
            "image/png": "[encoded data removed]",
            "text/plain": [
              "<Figure size 432x288 with 1 Axes>"
            ]
          },
          "metadata": {
            "tags": [],
            "needs_background": "light"
          }
        }
      ]
    },
    {
      "cell_type": "code",
      "metadata": {
        "id": "dFBo-L0sSeyW",
        "colab_type": "code",
        "colab": {}
      },
      "source": [
        ""
      ],
      "execution_count": null,
      "outputs": []
    },
    {
      "cell_type": "code",
      "metadata": {
        "id": "a0BiaWoVW20c",
        "colab_type": "code",
        "colab": {
          "base_uri": "https://localhost:8080/",
          "height": 265
        },
        "outputId": "4ef5176b-0ddf-4c0e-cb01-a678d606754c"
      },
      "source": [
        "# This graph improved I might be able to use\n",
        "# showing: no real correlation between age and sales total\n",
        "plt.scatter(dnd_sales_df[\"Age_at_Shoot_Date\"],dnd_sales_df[\"Sales_total\"], alpha=.1)\n",
        "plt.show()"
      ],
      "execution_count": null,
      "outputs": [
        {
          "output_type": "display_data",
          "data": {
            "image/png": "[encoded data removed]",
            "text/plain": [
              "<Figure size 432x288 with 1 Axes>"
            ]
          },
          "metadata": {
            "tags": [],
            "needs_background": "light"
          }
        }
      ]
    },
    {
      "cell_type": "code",
      "metadata": {
        "id": "Ct5FWDNden9V",
        "colab_type": "code",
        "colab": {
          "base_uri": "https://localhost:8080/",
          "height": 265
        },
        "outputId": "9e40ad9d-786e-4178-aaea-5b512b8639fd"
      },
      "source": [
        "# This graph is also a maybe, but but I could use a box plot maybe\n",
        "# showing no real correlation - sample size for the latter age group\n",
        "plt.scatter(dnd_sales_df[\"Age_Range\"],dnd_sales_df[\"Sales_total\"], alpha=.1)\n",
        "plt.show()"
      ],
      "execution_count": null,
      "outputs": [
        {
          "output_type": "display_data",
          "data": {
            "image/png": "[encoded data removed]",
            "text/plain": [
              "<Figure size 432x288 with 1 Axes>"
            ]
          },
          "metadata": {
            "tags": [],
            "needs_background": "light"
          }
        }
      ]
    },
    {
      "cell_type": "code",
      "metadata": {
        "id": "M6xf2fNtfJ2Q",
        "colab_type": "code",
        "colab": {}
      },
      "source": [
        ""
      ],
      "execution_count": null,
      "outputs": []
    },
    {
      "cell_type": "code",
      "metadata": {
        "id": "B2BIFH8qUY7q",
        "colab_type": "code",
        "colab": {
          "base_uri": "https://localhost:8080/",
          "height": 265
        },
        "outputId": "28d15f9c-e024-4028-97a4-510d6e71042e"
      },
      "source": [
        "plt.scatter(dnd_sales_df[\"zip_code\"],dnd_sales_df[\"Sales_total\"], alpha=.1)\n",
        "plt.show()\n",
        "\n",
        "# I need to find a better way to show this graph.  I like that it splits the \n",
        "# sales data geographically, but the level is granularity is too much"
      ],
      "execution_count": null,
      "outputs": [
        {
          "output_type": "display_data",
          "data": {
            "image/png": "[encoded data removed]",
            "text/plain": [
              "<Figure size 432x288 with 1 Axes>"
            ]
          },
          "metadata": {
            "tags": [],
            "needs_background": "light"
          }
        }
      ]
    },
    {
      "cell_type": "code",
      "metadata": {
        "id": "PIrVfx1HcWwY",
        "colab_type": "code",
        "colab": {
          "base_uri": "https://localhost:8080/",
          "height": 663
        },
        "outputId": "6ee5275c-6c51-4390-c5b4-2c41c39fd7da"
      },
      "source": [
        "dnd_highest_codes_df[\"zip_code\"].value_counts()"
      ],
      "execution_count": null,
      "outputs": [
        {
          "output_type": "execute_result",
          "data": {
            "text/plain": [
              "32258    8\n",
              "32224    4\n",
              "32218    4\n",
              "32225    3\n",
              "32216    3\n",
              "32211    3\n",
              "32223    2\n",
              "32246    2\n",
              "32040    2\n",
              "32097    2\n",
              "32226    2\n",
              "32257    2\n",
              "32256    2\n",
              "32244    2\n",
              "32207    2\n",
              "32405    1\n",
              "31520    1\n",
              "31558    1\n",
              "32312    1\n",
              "32277    1\n",
              "31548    1\n",
              "32063    1\n",
              "32135    1\n",
              "32137    1\n",
              "31522    1\n",
              "32003    1\n",
              "32208    1\n",
              "32095    1\n",
              "78413    1\n",
              "33605    1\n",
              "32250    1\n",
              "32073    1\n",
              "32065    1\n",
              "32217    1\n",
              "32046    1\n",
              "32259    1\n",
              "32011    1\n",
              "Name: zip_code, dtype: int64"
            ]
          },
          "metadata": {
            "tags": []
          },
          "execution_count": 399
        }
      ]
    },
    {
      "cell_type": "code",
      "metadata": {
        "id": "20YvitrEutFl",
        "colab_type": "code",
        "colab": {
          "base_uri": "https://localhost:8080/",
          "height": 68
        },
        "outputId": "9bb65297-aae0-4f80-89d1-d186e0c5345f"
      },
      "source": [
        "dnd_highest_codes_df[\"Hair\"].value_counts()"
      ],
      "execution_count": null,
      "outputs": [
        {
          "output_type": "execute_result",
          "data": {
            "text/plain": [
              "no     45\n",
              "yes    20\n",
              "Name: Hair, dtype: int64"
            ]
          },
          "metadata": {
            "tags": []
          },
          "execution_count": 415
        }
      ]
    },
    {
      "cell_type": "code",
      "metadata": {
        "id": "6BUblM1JtgW4",
        "colab_type": "code",
        "colab": {
          "base_uri": "https://localhost:8080/",
          "height": 680
        },
        "outputId": "a6d938f1-5942-4691-8e61-fb0098ea76dd"
      },
      "source": [
        "dnd_lowest_codes_df[\"zip_code\"].value_counts()"
      ],
      "execution_count": null,
      "outputs": [
        {
          "output_type": "execute_result",
          "data": {
            "text/plain": [
              "32246    7\n",
              "32218    5\n",
              "32225    4\n",
              "32226    3\n",
              "32205    3\n",
              "32256    3\n",
              "32034    3\n",
              "32257    3\n",
              "32211    2\n",
              "32073    2\n",
              "32080    2\n",
              "32250    2\n",
              "32065    2\n",
              "32068    2\n",
              "32003    2\n",
              "32086    2\n",
              "32224    2\n",
              "32258    2\n",
              "32244    2\n",
              "32277    1\n",
              "31525    1\n",
              "32207    1\n",
              "32081    1\n",
              "32082    1\n",
              "32137    1\n",
              "32219    1\n",
              "32216    1\n",
              "32206    1\n",
              "3220?    1\n",
              "32223    1\n",
              "32097    1\n",
              "32092    1\n",
              "32164    1\n",
              "32221    1\n",
              "32043    1\n",
              "32656    1\n",
              "32227    1\n",
              "32208    1\n",
              "Name: zip_code, dtype: int64"
            ]
          },
          "metadata": {
            "tags": []
          },
          "execution_count": 412
        }
      ]
    },
    {
      "cell_type": "code",
      "metadata": {
        "id": "a7MwQ5MXueMh",
        "colab_type": "code",
        "colab": {
          "base_uri": "https://localhost:8080/",
          "height": 68
        },
        "outputId": "42b5ff91-69ad-458f-8925-6e36171eafd6"
      },
      "source": [
        "dnd_lowest_codes_df[\"Hair\"].value_counts()"
      ],
      "execution_count": null,
      "outputs": [
        {
          "output_type": "execute_result",
          "data": {
            "text/plain": [
              "no     56\n",
              "yes    16\n",
              "Name: Hair, dtype: int64"
            ]
          },
          "metadata": {
            "tags": []
          },
          "execution_count": 414
        }
      ]
    },
    {
      "cell_type": "code",
      "metadata": {
        "id": "afpjiGmWup6a",
        "colab_type": "code",
        "colab": {}
      },
      "source": [
        ""
      ],
      "execution_count": null,
      "outputs": []
    },
    {
      "cell_type": "code",
      "metadata": {
        "id": "K6-CvP7duk9L",
        "colab_type": "code",
        "colab": {}
      },
      "source": [
        ""
      ],
      "execution_count": null,
      "outputs": []
    },
    {
      "cell_type": "code",
      "metadata": {
        "id": "kHacmG9aV_9M",
        "colab_type": "code",
        "colab": {
          "base_uri": "https://localhost:8080/",
          "height": 282
        },
        "outputId": "bcbcbbcc-e0b5-485e-fa23-655e94a7405f"
      },
      "source": [
        "dnd_highest_codes_df[\"zip_code\"].value_counts().plot()"
      ],
      "execution_count": null,
      "outputs": [
        {
          "output_type": "execute_result",
          "data": {
            "text/plain": [
              "<matplotlib.axes._subplots.AxesSubplot at 0x7feb129b3d68>"
            ]
          },
          "metadata": {
            "tags": []
          },
          "execution_count": 400
        },
        {
          "output_type": "display_data",
          "data": {
            "image/png": "[encoded data removed]",
            "text/plain": [
              "<Figure size 432x288 with 1 Axes>"
            ]
          },
          "metadata": {
            "tags": [],
            "needs_background": "light"
          }
        }
      ]
    },
    {
      "cell_type": "code",
      "metadata": {
        "id": "cAOQAaGrcE6u",
        "colab_type": "code",
        "colab": {
          "base_uri": "https://localhost:8080/",
          "height": 450
        },
        "outputId": "da681d6c-e669-43db-f489-bd6d44242a68"
      },
      "source": [
        "# cross tab - I will need to bin /cut the Sales sessions to do an evocative crosstab\n",
        "# but I can try it now, just to see\n",
        "# based on this I need to bin the Sales into maybe 5 categories. \n",
        "# and bin the zip codes into 2/4/8 categories\n",
        "\n",
        "cross=pd.crosstab(dnd_sales_df[\"Sales_total\"], dnd_sales_df[\"Hair\"])\n",
        "cross"
      ],
      "execution_count": null,
      "outputs": [
        {
          "output_type": "execute_result",
          "data": {
            "text/html": [
              "<div>\n",
              "<style scoped>\n",
              "    .dataframe tbody tr th:only-of-type {\n",
              "        vertical-align: middle;\n",
              "    }\n",
              "\n",
              "    .dataframe tbody tr th {\n",
              "        vertical-align: top;\n",
              "    }\n",
              "\n",
              "    .dataframe thead th {\n",
              "        text-align: right;\n",
              "    }\n",
              "</style>\n",
              "<table border=\"1\" class=\"dataframe\">\n",
              "  <thead>\n",
              "    <tr style=\"text-align: right;\">\n",
              "      <th>Hair</th>\n",
              "      <th>no</th>\n",
              "      <th>yes</th>\n",
              "    </tr>\n",
              "    <tr>\n",
              "      <th>Sales_total</th>\n",
              "      <th></th>\n",
              "      <th></th>\n",
              "    </tr>\n",
              "  </thead>\n",
              "  <tbody>\n",
              "    <tr>\n",
              "      <th>0</th>\n",
              "      <td>14</td>\n",
              "      <td>4</td>\n",
              "    </tr>\n",
              "    <tr>\n",
              "      <th>80</th>\n",
              "      <td>5</td>\n",
              "      <td>2</td>\n",
              "    </tr>\n",
              "    <tr>\n",
              "      <th>90</th>\n",
              "      <td>1</td>\n",
              "      <td>0</td>\n",
              "    </tr>\n",
              "    <tr>\n",
              "      <th>160</th>\n",
              "      <td>13</td>\n",
              "      <td>1</td>\n",
              "    </tr>\n",
              "    <tr>\n",
              "      <th>200</th>\n",
              "      <td>1</td>\n",
              "      <td>0</td>\n",
              "    </tr>\n",
              "    <tr>\n",
              "      <th>...</th>\n",
              "      <td>...</td>\n",
              "      <td>...</td>\n",
              "    </tr>\n",
              "    <tr>\n",
              "      <th>2200</th>\n",
              "      <td>1</td>\n",
              "      <td>0</td>\n",
              "    </tr>\n",
              "    <tr>\n",
              "      <th>2400</th>\n",
              "      <td>0</td>\n",
              "      <td>1</td>\n",
              "    </tr>\n",
              "    <tr>\n",
              "      <th>2520</th>\n",
              "      <td>1</td>\n",
              "      <td>1</td>\n",
              "    </tr>\n",
              "    <tr>\n",
              "      <th>2730</th>\n",
              "      <td>1</td>\n",
              "      <td>0</td>\n",
              "    </tr>\n",
              "    <tr>\n",
              "      <th>3000</th>\n",
              "      <td>0</td>\n",
              "      <td>1</td>\n",
              "    </tr>\n",
              "  </tbody>\n",
              "</table>\n",
              "<p>68 rows × 2 columns</p>\n",
              "</div>"
            ],
            "text/plain": [
              "Hair         no  yes\n",
              "Sales_total         \n",
              "0            14    4\n",
              "80            5    2\n",
              "90            1    0\n",
              "160          13    1\n",
              "200           1    0\n",
              "...          ..  ...\n",
              "2200          1    0\n",
              "2400          0    1\n",
              "2520          1    1\n",
              "2730          1    0\n",
              "3000          0    1\n",
              "\n",
              "[68 rows x 2 columns]"
            ]
          },
          "metadata": {
            "tags": []
          },
          "execution_count": 404
        }
      ]
    },
    {
      "cell_type": "code",
      "metadata": {
        "id": "17CfD3dfT-JH",
        "colab_type": "code",
        "colab": {
          "base_uri": "https://localhost:8080/",
          "height": 280
        },
        "outputId": "9cb72ce8-ce60-43e3-b694-818c1b8e8e72"
      },
      "source": [
        "cross.plot();"
      ],
      "execution_count": null,
      "outputs": [
        {
          "output_type": "display_data",
          "data": {
            "image/png": "[encoded data removed]",
            "text/plain": [
              "<Figure size 432x288 with 1 Axes>"
            ]
          },
          "metadata": {
            "tags": [],
            "needs_background": "light"
          }
        }
      ]
    },
    {
      "cell_type": "code",
      "metadata": {
        "id": "Z6YnAW6ffSsw",
        "colab_type": "code",
        "colab": {}
      },
      "source": [
        "# lets check the sales data for the hair and no hair groups\n",
        "cond_mu_only = dnd_sales_df[\"Hair\"] == \"no\"\n",
        "cond_wHair = dnd_sales_df[\"Hair\"] == \"yes\"\n",
        "\n",
        "\n",
        "dnd_makeup_only_df = dnd_sales_df[cond_mu_only]\n",
        "dnd_w_hair_df = dnd_sales_df[cond_wHair]"
      ],
      "execution_count": null,
      "outputs": []
    },
    {
      "cell_type": "code",
      "metadata": {
        "id": "Z0QYKOUvksD0",
        "colab_type": "code",
        "colab": {
          "base_uri": "https://localhost:8080/",
          "height": 297
        },
        "outputId": "a6f877b0-1f0c-4669-ce8f-7acdbf22103c"
      },
      "source": [
        "dnd_makeup_only_df.describe() # "
      ],
      "execution_count": null,
      "outputs": [
        {
          "output_type": "execute_result",
          "data": {
            "text/html": [
              "<div>\n",
              "<style scoped>\n",
              "    .dataframe tbody tr th:only-of-type {\n",
              "        vertical-align: middle;\n",
              "    }\n",
              "\n",
              "    .dataframe tbody tr th {\n",
              "        vertical-align: top;\n",
              "    }\n",
              "\n",
              "    .dataframe thead th {\n",
              "        text-align: right;\n",
              "    }\n",
              "</style>\n",
              "<table border=\"1\" class=\"dataframe\">\n",
              "  <thead>\n",
              "    <tr style=\"text-align: right;\">\n",
              "      <th></th>\n",
              "      <th>Session_Fee</th>\n",
              "      <th>Sales_total</th>\n",
              "    </tr>\n",
              "  </thead>\n",
              "  <tbody>\n",
              "    <tr>\n",
              "      <th>count</th>\n",
              "      <td>231.000000</td>\n",
              "      <td>231.000000</td>\n",
              "    </tr>\n",
              "    <tr>\n",
              "      <th>mean</th>\n",
              "      <td>92.380952</td>\n",
              "      <td>711.567100</td>\n",
              "    </tr>\n",
              "    <tr>\n",
              "      <th>std</th>\n",
              "      <td>42.195223</td>\n",
              "      <td>455.453347</td>\n",
              "    </tr>\n",
              "    <tr>\n",
              "      <th>min</th>\n",
              "      <td>0.000000</td>\n",
              "      <td>0.000000</td>\n",
              "    </tr>\n",
              "    <tr>\n",
              "      <th>25%</th>\n",
              "      <td>99.000000</td>\n",
              "      <td>515.000000</td>\n",
              "    </tr>\n",
              "    <tr>\n",
              "      <th>50%</th>\n",
              "      <td>99.000000</td>\n",
              "      <td>600.000000</td>\n",
              "    </tr>\n",
              "    <tr>\n",
              "      <th>75%</th>\n",
              "      <td>99.000000</td>\n",
              "      <td>950.000000</td>\n",
              "    </tr>\n",
              "    <tr>\n",
              "      <th>max</th>\n",
              "      <td>249.000000</td>\n",
              "      <td>2730.000000</td>\n",
              "    </tr>\n",
              "  </tbody>\n",
              "</table>\n",
              "</div>"
            ],
            "text/plain": [
              "       Session_Fee  Sales_total\n",
              "count   231.000000   231.000000\n",
              "mean     92.380952   711.567100\n",
              "std      42.195223   455.453347\n",
              "min       0.000000     0.000000\n",
              "25%      99.000000   515.000000\n",
              "50%      99.000000   600.000000\n",
              "75%      99.000000   950.000000\n",
              "max     249.000000  2730.000000"
            ]
          },
          "metadata": {
            "tags": []
          },
          "execution_count": 407
        }
      ]
    },
    {
      "cell_type": "code",
      "metadata": {
        "id": "ZcZ9yGngkwyL",
        "colab_type": "code",
        "colab": {
          "base_uri": "https://localhost:8080/",
          "height": 297
        },
        "outputId": "0a4d0fb9-a21f-4235-9bbe-d8b314a65ba7"
      },
      "source": [
        "dnd_w_hair_df.describe() # this result is very interesting.  it implies clients \n",
        "# who get hair done spend and average of $100 more!\n",
        "# plus we work one hour less! and the morale of the team improves because the \n",
        "# stylist gets paid more. \n",
        "\n",
        "# perform a t-test with these two sample / or it might be one sample tests\n",
        "# vs the popuplation.  "
      ],
      "execution_count": null,
      "outputs": [
        {
          "output_type": "execute_result",
          "data": {
            "text/html": [
              "<div>\n",
              "<style scoped>\n",
              "    .dataframe tbody tr th:only-of-type {\n",
              "        vertical-align: middle;\n",
              "    }\n",
              "\n",
              "    .dataframe tbody tr th {\n",
              "        vertical-align: top;\n",
              "    }\n",
              "\n",
              "    .dataframe thead th {\n",
              "        text-align: right;\n",
              "    }\n",
              "</style>\n",
              "<table border=\"1\" class=\"dataframe\">\n",
              "  <thead>\n",
              "    <tr style=\"text-align: right;\">\n",
              "      <th></th>\n",
              "      <th>Session_Fee</th>\n",
              "      <th>Sales_total</th>\n",
              "    </tr>\n",
              "  </thead>\n",
              "  <tbody>\n",
              "    <tr>\n",
              "      <th>count</th>\n",
              "      <td>94.000000</td>\n",
              "      <td>94.000000</td>\n",
              "    </tr>\n",
              "    <tr>\n",
              "      <th>mean</th>\n",
              "      <td>107.180851</td>\n",
              "      <td>803.287234</td>\n",
              "    </tr>\n",
              "    <tr>\n",
              "      <th>std</th>\n",
              "      <td>45.255300</td>\n",
              "      <td>518.220438</td>\n",
              "    </tr>\n",
              "    <tr>\n",
              "      <th>min</th>\n",
              "      <td>0.000000</td>\n",
              "      <td>0.000000</td>\n",
              "    </tr>\n",
              "    <tr>\n",
              "      <th>25%</th>\n",
              "      <td>99.000000</td>\n",
              "      <td>600.000000</td>\n",
              "    </tr>\n",
              "    <tr>\n",
              "      <th>50%</th>\n",
              "      <td>99.000000</td>\n",
              "      <td>679.500000</td>\n",
              "    </tr>\n",
              "    <tr>\n",
              "      <th>75%</th>\n",
              "      <td>99.000000</td>\n",
              "      <td>1057.500000</td>\n",
              "    </tr>\n",
              "    <tr>\n",
              "      <th>max</th>\n",
              "      <td>249.000000</td>\n",
              "      <td>3000.000000</td>\n",
              "    </tr>\n",
              "  </tbody>\n",
              "</table>\n",
              "</div>"
            ],
            "text/plain": [
              "       Session_Fee  Sales_total\n",
              "count    94.000000    94.000000\n",
              "mean    107.180851   803.287234\n",
              "std      45.255300   518.220438\n",
              "min       0.000000     0.000000\n",
              "25%      99.000000   600.000000\n",
              "50%      99.000000   679.500000\n",
              "75%      99.000000  1057.500000\n",
              "max     249.000000  3000.000000"
            ]
          },
          "metadata": {
            "tags": []
          },
          "execution_count": 408
        }
      ]
    },
    {
      "cell_type": "code",
      "metadata": {
        "id": "tJcPCKr3k1Hb",
        "colab_type": "code",
        "colab": {}
      },
      "source": [
        ""
      ],
      "execution_count": null,
      "outputs": []
    },
    {
      "cell_type": "code",
      "metadata": {
        "id": "wE-5sl9noOmT",
        "colab_type": "code",
        "colab": {}
      },
      "source": [
        ""
      ],
      "execution_count": null,
      "outputs": []
    },
    {
      "cell_type": "code",
      "metadata": {
        "id": "hdNiPHaGSzhH",
        "colab_type": "code",
        "colab": {
          "base_uri": "https://localhost:8080/",
          "height": 282
        },
        "outputId": "27f337ec-b0a0-47bf-c8ab-e96a5fb46e83"
      },
      "source": [
        "#lets graph the distribution with a histogram\n",
        "\n",
        "plt.hist(x=dnd_df[\"Favorite\"].value_counts(), bins=70)\n",
        "plt.show"
      ],
      "execution_count": null,
      "outputs": [
        {
          "output_type": "execute_result",
          "data": {
            "text/plain": [
              "<function matplotlib.pyplot.show>"
            ]
          },
          "metadata": {
            "tags": []
          },
          "execution_count": 267
        },
        {
          "output_type": "display_data",
          "data": {
            "image/png": "[encoded data removed]",
            "text/plain": [
              "<Figure size 432x288 with 1 Axes>"
            ]
          },
          "metadata": {
            "tags": [],
            "needs_background": "light"
          }
        }
      ]
    },
    {
      "cell_type": "code",
      "metadata": {
        "id": "ZJq260z6czxr",
        "colab_type": "code",
        "colab": {}
      },
      "source": [
        ""
      ],
      "execution_count": null,
      "outputs": []
    },
    {
      "cell_type": "code",
      "metadata": {
        "id": "c9AGHMGBcuqc",
        "colab_type": "code",
        "colab": {}
      },
      "source": [
        ""
      ],
      "execution_count": null,
      "outputs": []
    },
    {
      "cell_type": "code",
      "metadata": {
        "id": "SlqgEgmtU4rC",
        "colab_type": "code",
        "colab": {}
      },
      "source": [
        ""
      ],
      "execution_count": null,
      "outputs": []
    },
    {
      "cell_type": "code",
      "metadata": {
        "id": "pIYA4O3mUjpl",
        "colab_type": "code",
        "colab": {}
      },
      "source": [
        ""
      ],
      "execution_count": null,
      "outputs": []
    },
    {
      "cell_type": "code",
      "metadata": {
        "id": "RoOIVfKUUOyc",
        "colab_type": "code",
        "colab": {}
      },
      "source": [
        ""
      ],
      "execution_count": null,
      "outputs": []
    },
    {
      "cell_type": "code",
      "metadata": {
        "id": "PNOSNQS1TOck",
        "colab_type": "code",
        "colab": {}
      },
      "source": [
        ""
      ],
      "execution_count": null,
      "outputs": []
    }
  ]
}