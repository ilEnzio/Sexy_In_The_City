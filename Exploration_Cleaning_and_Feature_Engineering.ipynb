{
  "nbformat": 4,
  "nbformat_minor": 0,
  "metadata": {
    "colab": {
      "name": "Exploration_Cleaning_and_Feature_Engineering.ipynb",
      "provenance": [],
      "collapsed_sections": [],
      "toc_visible": true,
      "include_colab_link": true
    },
    "kernelspec": {
      "name": "python3",
      "display_name": "Python 3"
    }
  },
  "cells": [
    {
      "cell_type": "markdown",
      "metadata": {
        "id": "view-in-github",
        "colab_type": "text"
      },
      "source": [
        "<a href=\"https://colab.research.google.com/github/ilEnzio/Sexy_In_The_City/blob/master/Exploration_Cleaning_and_Feature_Engineering.ipynb\" target=\"_parent\"><img src=\"https://colab.research.google.com/assets/colab-badge.svg\" alt=\"Open In Colab\"/></a>"
      ]
    },
    {
      "cell_type": "code",
      "metadata": {
        "id": "J6d2MFGvqbQT",
        "colab_type": "code",
        "colab": {}
      },
      "source": [
        "import numpy as np\n",
        "import pandas as pd\n",
        "import matplotlib.pyplot as plt\n",
        "from scipy import stats\n",
        "from collections import namedtuple"
      ],
      "execution_count": 2,
      "outputs": []
    },
    {
      "cell_type": "code",
      "metadata": {
        "id": "IvGrjFl9xS1R",
        "colab_type": "code",
        "colab": {}
      },
      "source": [
        "# parse_dates=[\"datetime\"]\n",
        "dates = [\"Date_of_PreShoot\", \"DOB\"]"
      ],
      "execution_count": 3,
      "outputs": []
    },
    {
      "cell_type": "code",
      "metadata": {
        "id": "BJoSCvk9QKd-",
        "colab_type": "code",
        "colab": {}
      },
      "source": [
        "dnd_df = pd.read_csv(\"https://raw.githubusercontent.com/ilEnzio/Sexy_In_The_City/master/DND%20data_3.csv\", parse_dates=dates)"
      ],
      "execution_count": 4,
      "outputs": []
    },
    {
      "cell_type": "code",
      "metadata": {
        "id": "NCRQR6wL2rUh",
        "colab_type": "code",
        "colab": {
          "base_uri": "https://localhost:8080/",
          "height": 272
        },
        "outputId": "e3c5b4ba-38aa-41a0-d709-2c0c581cfb45"
      },
      "source": [
        "dnd_df.info()"
      ],
      "execution_count": 5,
      "outputs": [
        {
          "output_type": "stream",
          "text": [
            "<class 'pandas.core.frame.DataFrame'>\n",
            "RangeIndex: 424 entries, 0 to 423\n",
            "Data columns (total 8 columns):\n",
            " #   Column            Non-Null Count  Dtype         \n",
            "---  ------            --------------  -----         \n",
            " 0   Date_of_PreShoot  422 non-null    datetime64[ns]\n",
            " 1   Session_Fee       422 non-null    object        \n",
            " 2   Hair              422 non-null    object        \n",
            " 3   DOB               424 non-null    object        \n",
            " 4   zip_code          422 non-null    object        \n",
            " 5   Sales_total       326 non-null    object        \n",
            " 6   Model Release     324 non-null    object        \n",
            " 7   Favorite          218 non-null    object        \n",
            "dtypes: datetime64[ns](1), object(7)\n",
            "memory usage: 26.6+ KB\n"
          ],
          "name": "stdout"
        }
      ]
    },
    {
      "cell_type": "code",
      "metadata": {
        "id": "J_4LAydk2tWP",
        "colab_type": "code",
        "colab": {}
      },
      "source": [
        ""
      ],
      "execution_count": 5,
      "outputs": []
    },
    {
      "cell_type": "code",
      "metadata": {
        "id": "zLtXhlRzrJQM",
        "colab_type": "code",
        "colab": {
          "base_uri": "https://localhost:8080/",
          "height": 34
        },
        "outputId": "3e9163bb-7df6-4c27-d0b0-3391896fc0bc"
      },
      "source": [
        "\n",
        "dnd_df.shape"
      ],
      "execution_count": 6,
      "outputs": [
        {
          "output_type": "execute_result",
          "data": {
            "text/plain": [
              "(424, 8)"
            ]
          },
          "metadata": {
            "tags": []
          },
          "execution_count": 6
        }
      ]
    },
    {
      "cell_type": "code",
      "metadata": {
        "id": "uLtiHWjvsAWj",
        "colab_type": "code",
        "colab": {
          "base_uri": "https://localhost:8080/",
          "height": 204
        },
        "outputId": "cb4bf5b4-811e-447a-ef24-d6617774695e"
      },
      "source": [
        "dnd_df.head()"
      ],
      "execution_count": 7,
      "outputs": [
        {
          "output_type": "execute_result",
          "data": {
            "text/html": [
              "<div>\n",
              "<style scoped>\n",
              "    .dataframe tbody tr th:only-of-type {\n",
              "        vertical-align: middle;\n",
              "    }\n",
              "\n",
              "    .dataframe tbody tr th {\n",
              "        vertical-align: top;\n",
              "    }\n",
              "\n",
              "    .dataframe thead th {\n",
              "        text-align: right;\n",
              "    }\n",
              "</style>\n",
              "<table border=\"1\" class=\"dataframe\">\n",
              "  <thead>\n",
              "    <tr style=\"text-align: right;\">\n",
              "      <th></th>\n",
              "      <th>Date_of_PreShoot</th>\n",
              "      <th>Session_Fee</th>\n",
              "      <th>Hair</th>\n",
              "      <th>DOB</th>\n",
              "      <th>zip_code</th>\n",
              "      <th>Sales_total</th>\n",
              "      <th>Model Release</th>\n",
              "      <th>Favorite</th>\n",
              "    </tr>\n",
              "  </thead>\n",
              "  <tbody>\n",
              "    <tr>\n",
              "      <th>0</th>\n",
              "      <td>2017-01-05</td>\n",
              "      <td>99</td>\n",
              "      <td>yes</td>\n",
              "      <td>5/5/1976</td>\n",
              "      <td>32208</td>\n",
              "      <td>600</td>\n",
              "      <td>yes</td>\n",
              "      <td>butt</td>\n",
              "    </tr>\n",
              "    <tr>\n",
              "      <th>1</th>\n",
              "      <td>2017-11-02</td>\n",
              "      <td>99</td>\n",
              "      <td>yes</td>\n",
              "      <td>10/16/1984</td>\n",
              "      <td>32082</td>\n",
              "      <td>400</td>\n",
              "      <td>no</td>\n",
              "      <td>butt, eyes</td>\n",
              "    </tr>\n",
              "    <tr>\n",
              "      <th>2</th>\n",
              "      <td>2017-06-29</td>\n",
              "      <td>99</td>\n",
              "      <td>yes</td>\n",
              "      <td>7/22/1989</td>\n",
              "      <td>32080</td>\n",
              "      <td>320</td>\n",
              "      <td>no</td>\n",
              "      <td>eyes, hair, legs</td>\n",
              "    </tr>\n",
              "    <tr>\n",
              "      <th>3</th>\n",
              "      <td>2017-01-23</td>\n",
              "      <td>99</td>\n",
              "      <td>no</td>\n",
              "      <td>1/23/1971</td>\n",
              "      <td>32208</td>\n",
              "      <td>720</td>\n",
              "      <td>yes</td>\n",
              "      <td>boobs</td>\n",
              "    </tr>\n",
              "    <tr>\n",
              "      <th>4</th>\n",
              "      <td>2014-04-25</td>\n",
              "      <td>99</td>\n",
              "      <td>yes</td>\n",
              "      <td>6/6/1994</td>\n",
              "      <td>32034</td>\n",
              "      <td>NaN</td>\n",
              "      <td>NaN</td>\n",
              "      <td>NaN</td>\n",
              "    </tr>\n",
              "  </tbody>\n",
              "</table>\n",
              "</div>"
            ],
            "text/plain": [
              "  Date_of_PreShoot Session_Fee Hair  ... Sales_total Model Release          Favorite\n",
              "0       2017-01-05          99  yes  ...         600           yes              butt\n",
              "1       2017-11-02          99  yes  ...         400            no        butt, eyes\n",
              "2       2017-06-29          99  yes  ...         320            no  eyes, hair, legs\n",
              "3       2017-01-23          99   no  ...         720           yes             boobs\n",
              "4       2014-04-25          99  yes  ...         NaN           NaN               NaN\n",
              "\n",
              "[5 rows x 8 columns]"
            ]
          },
          "metadata": {
            "tags": []
          },
          "execution_count": 7
        }
      ]
    },
    {
      "cell_type": "code",
      "metadata": {
        "id": "JYgQXk2etRsj",
        "colab_type": "code",
        "colab": {
          "base_uri": "https://localhost:8080/",
          "height": 235
        },
        "outputId": "2e3bfb94-e29d-4d21-fc06-d6f2f1058c93"
      },
      "source": [
        "dnd_df.describe()"
      ],
      "execution_count": 8,
      "outputs": [
        {
          "output_type": "execute_result",
          "data": {
            "text/html": [
              "<div>\n",
              "<style scoped>\n",
              "    .dataframe tbody tr th:only-of-type {\n",
              "        vertical-align: middle;\n",
              "    }\n",
              "\n",
              "    .dataframe tbody tr th {\n",
              "        vertical-align: top;\n",
              "    }\n",
              "\n",
              "    .dataframe thead th {\n",
              "        text-align: right;\n",
              "    }\n",
              "</style>\n",
              "<table border=\"1\" class=\"dataframe\">\n",
              "  <thead>\n",
              "    <tr style=\"text-align: right;\">\n",
              "      <th></th>\n",
              "      <th>Date_of_PreShoot</th>\n",
              "      <th>Session_Fee</th>\n",
              "      <th>Hair</th>\n",
              "      <th>DOB</th>\n",
              "      <th>zip_code</th>\n",
              "      <th>Sales_total</th>\n",
              "      <th>Model Release</th>\n",
              "      <th>Favorite</th>\n",
              "    </tr>\n",
              "  </thead>\n",
              "  <tbody>\n",
              "    <tr>\n",
              "      <th>count</th>\n",
              "      <td>422</td>\n",
              "      <td>422</td>\n",
              "      <td>422</td>\n",
              "      <td>424</td>\n",
              "      <td>422</td>\n",
              "      <td>326</td>\n",
              "      <td>324</td>\n",
              "      <td>218</td>\n",
              "    </tr>\n",
              "    <tr>\n",
              "      <th>unique</th>\n",
              "      <td>321</td>\n",
              "      <td>10</td>\n",
              "      <td>4</td>\n",
              "      <td>413</td>\n",
              "      <td>82</td>\n",
              "      <td>69</td>\n",
              "      <td>5</td>\n",
              "      <td>65</td>\n",
              "    </tr>\n",
              "    <tr>\n",
              "      <th>top</th>\n",
              "      <td>2013-12-04 00:00:00</td>\n",
              "      <td>99</td>\n",
              "      <td>no</td>\n",
              "      <td>3/27/1986</td>\n",
              "      <td>32218</td>\n",
              "      <td>600</td>\n",
              "      <td>yes</td>\n",
              "      <td>butt</td>\n",
              "    </tr>\n",
              "    <tr>\n",
              "      <th>freq</th>\n",
              "      <td>4</td>\n",
              "      <td>289</td>\n",
              "      <td>302</td>\n",
              "      <td>2</td>\n",
              "      <td>27</td>\n",
              "      <td>83</td>\n",
              "      <td>211</td>\n",
              "      <td>77</td>\n",
              "    </tr>\n",
              "    <tr>\n",
              "      <th>first</th>\n",
              "      <td>1988-12-28 00:00:00</td>\n",
              "      <td>NaN</td>\n",
              "      <td>NaN</td>\n",
              "      <td>NaN</td>\n",
              "      <td>NaN</td>\n",
              "      <td>NaN</td>\n",
              "      <td>NaN</td>\n",
              "      <td>NaN</td>\n",
              "    </tr>\n",
              "    <tr>\n",
              "      <th>last</th>\n",
              "      <td>2020-11-13 00:00:00</td>\n",
              "      <td>NaN</td>\n",
              "      <td>NaN</td>\n",
              "      <td>NaN</td>\n",
              "      <td>NaN</td>\n",
              "      <td>NaN</td>\n",
              "      <td>NaN</td>\n",
              "      <td>NaN</td>\n",
              "    </tr>\n",
              "  </tbody>\n",
              "</table>\n",
              "</div>"
            ],
            "text/plain": [
              "           Date_of_PreShoot Session_Fee Hair  ... Sales_total Model Release Favorite\n",
              "count                   422         422  422  ...         326           324      218\n",
              "unique                  321          10    4  ...          69             5       65\n",
              "top     2013-12-04 00:00:00          99   no  ...         600           yes     butt\n",
              "freq                      4         289  302  ...          83           211       77\n",
              "first   1988-12-28 00:00:00         NaN  NaN  ...         NaN           NaN      NaN\n",
              "last    2020-11-13 00:00:00         NaN  NaN  ...         NaN           NaN      NaN\n",
              "\n",
              "[6 rows x 8 columns]"
            ]
          },
          "metadata": {
            "tags": []
          },
          "execution_count": 8
        }
      ]
    },
    {
      "cell_type": "code",
      "metadata": {
        "id": "lw7nzAactkB6",
        "colab_type": "code",
        "colab": {
          "base_uri": "https://localhost:8080/",
          "height": 235
        },
        "outputId": "b7f3250f-5002-4d0e-b15a-d15d44d591c1"
      },
      "source": [
        "dnd_df.describe(exclude=\"number\")"
      ],
      "execution_count": 9,
      "outputs": [
        {
          "output_type": "execute_result",
          "data": {
            "text/html": [
              "<div>\n",
              "<style scoped>\n",
              "    .dataframe tbody tr th:only-of-type {\n",
              "        vertical-align: middle;\n",
              "    }\n",
              "\n",
              "    .dataframe tbody tr th {\n",
              "        vertical-align: top;\n",
              "    }\n",
              "\n",
              "    .dataframe thead th {\n",
              "        text-align: right;\n",
              "    }\n",
              "</style>\n",
              "<table border=\"1\" class=\"dataframe\">\n",
              "  <thead>\n",
              "    <tr style=\"text-align: right;\">\n",
              "      <th></th>\n",
              "      <th>Date_of_PreShoot</th>\n",
              "      <th>Session_Fee</th>\n",
              "      <th>Hair</th>\n",
              "      <th>DOB</th>\n",
              "      <th>zip_code</th>\n",
              "      <th>Sales_total</th>\n",
              "      <th>Model Release</th>\n",
              "      <th>Favorite</th>\n",
              "    </tr>\n",
              "  </thead>\n",
              "  <tbody>\n",
              "    <tr>\n",
              "      <th>count</th>\n",
              "      <td>422</td>\n",
              "      <td>422</td>\n",
              "      <td>422</td>\n",
              "      <td>424</td>\n",
              "      <td>422</td>\n",
              "      <td>326</td>\n",
              "      <td>324</td>\n",
              "      <td>218</td>\n",
              "    </tr>\n",
              "    <tr>\n",
              "      <th>unique</th>\n",
              "      <td>321</td>\n",
              "      <td>10</td>\n",
              "      <td>4</td>\n",
              "      <td>413</td>\n",
              "      <td>82</td>\n",
              "      <td>69</td>\n",
              "      <td>5</td>\n",
              "      <td>65</td>\n",
              "    </tr>\n",
              "    <tr>\n",
              "      <th>top</th>\n",
              "      <td>2013-12-04 00:00:00</td>\n",
              "      <td>99</td>\n",
              "      <td>no</td>\n",
              "      <td>3/27/1986</td>\n",
              "      <td>32218</td>\n",
              "      <td>600</td>\n",
              "      <td>yes</td>\n",
              "      <td>butt</td>\n",
              "    </tr>\n",
              "    <tr>\n",
              "      <th>freq</th>\n",
              "      <td>4</td>\n",
              "      <td>289</td>\n",
              "      <td>302</td>\n",
              "      <td>2</td>\n",
              "      <td>27</td>\n",
              "      <td>83</td>\n",
              "      <td>211</td>\n",
              "      <td>77</td>\n",
              "    </tr>\n",
              "    <tr>\n",
              "      <th>first</th>\n",
              "      <td>1988-12-28 00:00:00</td>\n",
              "      <td>NaN</td>\n",
              "      <td>NaN</td>\n",
              "      <td>NaN</td>\n",
              "      <td>NaN</td>\n",
              "      <td>NaN</td>\n",
              "      <td>NaN</td>\n",
              "      <td>NaN</td>\n",
              "    </tr>\n",
              "    <tr>\n",
              "      <th>last</th>\n",
              "      <td>2020-11-13 00:00:00</td>\n",
              "      <td>NaN</td>\n",
              "      <td>NaN</td>\n",
              "      <td>NaN</td>\n",
              "      <td>NaN</td>\n",
              "      <td>NaN</td>\n",
              "      <td>NaN</td>\n",
              "      <td>NaN</td>\n",
              "    </tr>\n",
              "  </tbody>\n",
              "</table>\n",
              "</div>"
            ],
            "text/plain": [
              "           Date_of_PreShoot Session_Fee Hair  ... Sales_total Model Release Favorite\n",
              "count                   422         422  422  ...         326           324      218\n",
              "unique                  321          10    4  ...          69             5       65\n",
              "top     2013-12-04 00:00:00          99   no  ...         600           yes     butt\n",
              "freq                      4         289  302  ...          83           211       77\n",
              "first   1988-12-28 00:00:00         NaN  NaN  ...         NaN           NaN      NaN\n",
              "last    2020-11-13 00:00:00         NaN  NaN  ...         NaN           NaN      NaN\n",
              "\n",
              "[6 rows x 8 columns]"
            ]
          },
          "metadata": {
            "tags": []
          },
          "execution_count": 9
        }
      ]
    },
    {
      "cell_type": "code",
      "metadata": {
        "id": "9-zV9mNYtrhS",
        "colab_type": "code",
        "colab": {
          "base_uri": "https://localhost:8080/",
          "height": 68
        },
        "outputId": "8108c130-68ed-4ff4-94c1-0d2a07150205"
      },
      "source": [
        "dnd_df.columns"
      ],
      "execution_count": 10,
      "outputs": [
        {
          "output_type": "execute_result",
          "data": {
            "text/plain": [
              "Index(['Date_of_PreShoot', 'Session_Fee', 'Hair', 'DOB', 'zip_code',\n",
              "       'Sales_total', 'Model Release', 'Favorite'],\n",
              "      dtype='object')"
            ]
          },
          "metadata": {
            "tags": []
          },
          "execution_count": 10
        }
      ]
    },
    {
      "cell_type": "code",
      "metadata": {
        "id": "MbbVpJvGt3r_",
        "colab_type": "code",
        "colab": {
          "base_uri": "https://localhost:8080/",
          "height": 170
        },
        "outputId": "866d7378-e362-4f4b-cf19-1b1c190b7664"
      },
      "source": [
        "dnd_df.isnull().sum()"
      ],
      "execution_count": 11,
      "outputs": [
        {
          "output_type": "execute_result",
          "data": {
            "text/plain": [
              "Date_of_PreShoot      2\n",
              "Session_Fee           2\n",
              "Hair                  2\n",
              "DOB                   0\n",
              "zip_code              2\n",
              "Sales_total          98\n",
              "Model Release       100\n",
              "Favorite            206\n",
              "dtype: int64"
            ]
          },
          "metadata": {
            "tags": []
          },
          "execution_count": 11
        }
      ]
    },
    {
      "cell_type": "code",
      "metadata": {
        "id": "alxbAUeGSKFU",
        "colab_type": "code",
        "colab": {
          "base_uri": "https://localhost:8080/",
          "height": 221
        },
        "outputId": "4528418f-826c-4828-f074-ad4b90ac5ab3"
      },
      "source": [
        "# lets check out the Favorite feature\n",
        "dnd_df[\"Favorite\"].value_counts()"
      ],
      "execution_count": 12,
      "outputs": [
        {
          "output_type": "execute_result",
          "data": {
            "text/plain": [
              "butt                  77\n",
              "boobs                 37\n",
              "legs                  12\n",
              "eyes                   9\n",
              "butt, eyes             8\n",
              "                      ..\n",
              "butt, curves, face     1\n",
              "back, butt             1\n",
              "butt , legs            1\n",
              "butt, curves           1\n",
              "butt, back             1\n",
              "Name: Favorite, Length: 65, dtype: int64"
            ]
          },
          "metadata": {
            "tags": []
          },
          "execution_count": 12
        }
      ]
    },
    {
      "cell_type": "code",
      "metadata": {
        "id": "lWVDWEtdVpAX",
        "colab_type": "code",
        "colab": {}
      },
      "source": [
        "dnd_df.loc[:, \"Favorite\"] = dnd_df.loc[:,\"Favorite\"].replace(to_replace=np.NaN, value=\"no preference\")"
      ],
      "execution_count": 13,
      "outputs": []
    },
    {
      "cell_type": "code",
      "metadata": {
        "id": "yg0nphbtrY70",
        "colab_type": "code",
        "colab": {}
      },
      "source": [
        "#list to fix boob; boob, legs; boob, smile; butt , legs; eyes,  legs"
      ],
      "execution_count": 14,
      "outputs": []
    },
    {
      "cell_type": "code",
      "metadata": {
        "id": "DmvCHF1CqyoW",
        "colab_type": "code",
        "colab": {}
      },
      "source": [
        "dnd_df.loc[:, \"Favorite\"] = dnd_df.loc[:,\"Favorite\"].replace(to_replace=\"boob\", value=\"boobs\")"
      ],
      "execution_count": 15,
      "outputs": []
    },
    {
      "cell_type": "code",
      "metadata": {
        "id": "BfE7t1svrhhE",
        "colab_type": "code",
        "colab": {}
      },
      "source": [
        "dnd_df.loc[:, \"Favorite\"] = dnd_df.loc[:,\"Favorite\"].replace(to_replace=\"boob, legs\", value=\"boobs, legs\")"
      ],
      "execution_count": 16,
      "outputs": []
    },
    {
      "cell_type": "code",
      "metadata": {
        "id": "C2b4uQmuryqq",
        "colab_type": "code",
        "colab": {}
      },
      "source": [
        "dnd_df.loc[:, \"Favorite\"] = dnd_df.loc[:,\"Favorite\"].replace(to_replace=\"boob, smile\", value=\"boobs, smile\")"
      ],
      "execution_count": 17,
      "outputs": []
    },
    {
      "cell_type": "code",
      "metadata": {
        "id": "bHt1jOMir8mi",
        "colab_type": "code",
        "colab": {}
      },
      "source": [
        "dnd_df.loc[:, \"Favorite\"] = dnd_df.loc[:,\"Favorite\"].replace(to_replace=\"butt , legs\", value=\"butt, legs\")"
      ],
      "execution_count": 18,
      "outputs": []
    },
    {
      "cell_type": "code",
      "metadata": {
        "id": "D7vzmbhUsGfp",
        "colab_type": "code",
        "colab": {}
      },
      "source": [
        "dnd_df.loc[:, \"Favorite\"] = dnd_df.loc[:,\"Favorite\"].replace(to_replace=\"eyes,  legs\", value=\"eyes, legs\")"
      ],
      "execution_count": 19,
      "outputs": []
    },
    {
      "cell_type": "code",
      "metadata": {
        "id": "DnAV3BWtsQPH",
        "colab_type": "code",
        "colab": {
          "base_uri": "https://localhost:8080/",
          "height": 34
        },
        "outputId": "8a241b75-df49-446a-8e1f-264013856c40"
      },
      "source": [
        "dnd_df[\"Favorite\"].nunique()"
      ],
      "execution_count": 20,
      "outputs": [
        {
          "output_type": "execute_result",
          "data": {
            "text/plain": [
              "62"
            ]
          },
          "metadata": {
            "tags": []
          },
          "execution_count": 20
        }
      ]
    },
    {
      "cell_type": "code",
      "metadata": {
        "id": "02THH1VtskTV",
        "colab_type": "code",
        "colab": {}
      },
      "source": [
        ""
      ],
      "execution_count": 20,
      "outputs": []
    },
    {
      "cell_type": "code",
      "metadata": {
        "id": "ppg9iJlFWesE",
        "colab_type": "code",
        "colab": {
          "base_uri": "https://localhost:8080/",
          "height": 170
        },
        "outputId": "e1265738-b09c-4b22-df04-7d7acdd9f301"
      },
      "source": [
        "dnd_df.isnull().sum()"
      ],
      "execution_count": 21,
      "outputs": [
        {
          "output_type": "execute_result",
          "data": {
            "text/plain": [
              "Date_of_PreShoot      2\n",
              "Session_Fee           2\n",
              "Hair                  2\n",
              "DOB                   0\n",
              "zip_code              2\n",
              "Sales_total          98\n",
              "Model Release       100\n",
              "Favorite              0\n",
              "dtype: int64"
            ]
          },
          "metadata": {
            "tags": []
          },
          "execution_count": 21
        }
      ]
    },
    {
      "cell_type": "code",
      "metadata": {
        "id": "LM8GOoPiW2x4",
        "colab_type": "code",
        "colab": {}
      },
      "source": [
        "# drop the rows where sale is Nan\n",
        "# create a condition where sales is nan \n",
        "# drop those rows\n",
        "\n",
        "# no_sales_condition = dnd_df[\"Sales_total\"][:] == np.NaN"
      ],
      "execution_count": 22,
      "outputs": []
    },
    {
      "cell_type": "code",
      "metadata": {
        "id": "CBpLnt5dhRoP",
        "colab_type": "code",
        "colab": {}
      },
      "source": [
        "dnd_sales_df =dnd_df.dropna(subset=[\"Sales_total\"])"
      ],
      "execution_count": 23,
      "outputs": []
    },
    {
      "cell_type": "code",
      "metadata": {
        "id": "RxykuyiFp7Pj",
        "colab_type": "code",
        "colab": {}
      },
      "source": [
        ""
      ],
      "execution_count": 23,
      "outputs": []
    },
    {
      "cell_type": "code",
      "metadata": {
        "id": "E6twtxhkgwHA",
        "colab_type": "code",
        "colab": {
          "base_uri": "https://localhost:8080/",
          "height": 34
        },
        "outputId": "147a4357-816f-4bf3-8335-b8ba1ad399e8"
      },
      "source": [
        "dnd_df.shape"
      ],
      "execution_count": 24,
      "outputs": [
        {
          "output_type": "execute_result",
          "data": {
            "text/plain": [
              "(424, 8)"
            ]
          },
          "metadata": {
            "tags": []
          },
          "execution_count": 24
        }
      ]
    },
    {
      "cell_type": "code",
      "metadata": {
        "id": "FznZmhRXha37",
        "colab_type": "code",
        "colab": {
          "base_uri": "https://localhost:8080/",
          "height": 34
        },
        "outputId": "de2f50c4-5263-41bf-d5a8-250984825196"
      },
      "source": [
        "dnd_sales_df.shape"
      ],
      "execution_count": 25,
      "outputs": [
        {
          "output_type": "execute_result",
          "data": {
            "text/plain": [
              "(326, 8)"
            ]
          },
          "metadata": {
            "tags": []
          },
          "execution_count": 25
        }
      ]
    },
    {
      "cell_type": "code",
      "metadata": {
        "id": "xHzOF3aJp-uY",
        "colab_type": "code",
        "colab": {
          "base_uri": "https://localhost:8080/",
          "height": 170
        },
        "outputId": "e8cfad61-476d-4abd-b50a-c60837d270bf"
      },
      "source": [
        "dnd_sales_df.isnull().sum()"
      ],
      "execution_count": 26,
      "outputs": [
        {
          "output_type": "execute_result",
          "data": {
            "text/plain": [
              "Date_of_PreShoot    2\n",
              "Session_Fee         2\n",
              "Hair                2\n",
              "DOB                 0\n",
              "zip_code            0\n",
              "Sales_total         0\n",
              "Model Release       8\n",
              "Favorite            0\n",
              "dtype: int64"
            ]
          },
          "metadata": {
            "tags": []
          },
          "execution_count": 26
        }
      ]
    },
    {
      "cell_type": "code",
      "metadata": {
        "id": "GP-R0MhnqC7A",
        "colab_type": "code",
        "colab": {
          "base_uri": "https://localhost:8080/",
          "height": 272
        },
        "outputId": "f6512360-8dbb-4eec-f3f3-746317b97a2a"
      },
      "source": [
        "dnd_sales_df.info()"
      ],
      "execution_count": 27,
      "outputs": [
        {
          "output_type": "stream",
          "text": [
            "<class 'pandas.core.frame.DataFrame'>\n",
            "Int64Index: 326 entries, 0 to 423\n",
            "Data columns (total 8 columns):\n",
            " #   Column            Non-Null Count  Dtype         \n",
            "---  ------            --------------  -----         \n",
            " 0   Date_of_PreShoot  324 non-null    datetime64[ns]\n",
            " 1   Session_Fee       324 non-null    object        \n",
            " 2   Hair              324 non-null    object        \n",
            " 3   DOB               326 non-null    object        \n",
            " 4   zip_code          326 non-null    object        \n",
            " 5   Sales_total       326 non-null    object        \n",
            " 6   Model Release     318 non-null    object        \n",
            " 7   Favorite          326 non-null    object        \n",
            "dtypes: datetime64[ns](1), object(7)\n",
            "memory usage: 22.9+ KB\n"
          ],
          "name": "stdout"
        }
      ]
    },
    {
      "cell_type": "code",
      "metadata": {
        "id": "AsXL4QKBtiwO",
        "colab_type": "code",
        "colab": {
          "base_uri": "https://localhost:8080/",
          "height": 359
        },
        "outputId": "dfaa12ab-89f4-4716-89e6-39542e7b73dd"
      },
      "source": [
        "dnd_sales_df.head(10)"
      ],
      "execution_count": 28,
      "outputs": [
        {
          "output_type": "execute_result",
          "data": {
            "text/html": [
              "<div>\n",
              "<style scoped>\n",
              "    .dataframe tbody tr th:only-of-type {\n",
              "        vertical-align: middle;\n",
              "    }\n",
              "\n",
              "    .dataframe tbody tr th {\n",
              "        vertical-align: top;\n",
              "    }\n",
              "\n",
              "    .dataframe thead th {\n",
              "        text-align: right;\n",
              "    }\n",
              "</style>\n",
              "<table border=\"1\" class=\"dataframe\">\n",
              "  <thead>\n",
              "    <tr style=\"text-align: right;\">\n",
              "      <th></th>\n",
              "      <th>Date_of_PreShoot</th>\n",
              "      <th>Session_Fee</th>\n",
              "      <th>Hair</th>\n",
              "      <th>DOB</th>\n",
              "      <th>zip_code</th>\n",
              "      <th>Sales_total</th>\n",
              "      <th>Model Release</th>\n",
              "      <th>Favorite</th>\n",
              "    </tr>\n",
              "  </thead>\n",
              "  <tbody>\n",
              "    <tr>\n",
              "      <th>0</th>\n",
              "      <td>2017-01-05</td>\n",
              "      <td>99</td>\n",
              "      <td>yes</td>\n",
              "      <td>5/5/1976</td>\n",
              "      <td>32208</td>\n",
              "      <td>600</td>\n",
              "      <td>yes</td>\n",
              "      <td>butt</td>\n",
              "    </tr>\n",
              "    <tr>\n",
              "      <th>1</th>\n",
              "      <td>2017-11-02</td>\n",
              "      <td>99</td>\n",
              "      <td>yes</td>\n",
              "      <td>10/16/1984</td>\n",
              "      <td>32082</td>\n",
              "      <td>400</td>\n",
              "      <td>no</td>\n",
              "      <td>butt, eyes</td>\n",
              "    </tr>\n",
              "    <tr>\n",
              "      <th>2</th>\n",
              "      <td>2017-06-29</td>\n",
              "      <td>99</td>\n",
              "      <td>yes</td>\n",
              "      <td>7/22/1989</td>\n",
              "      <td>32080</td>\n",
              "      <td>320</td>\n",
              "      <td>no</td>\n",
              "      <td>eyes, hair, legs</td>\n",
              "    </tr>\n",
              "    <tr>\n",
              "      <th>3</th>\n",
              "      <td>2017-01-23</td>\n",
              "      <td>99</td>\n",
              "      <td>no</td>\n",
              "      <td>1/23/1971</td>\n",
              "      <td>32208</td>\n",
              "      <td>720</td>\n",
              "      <td>yes</td>\n",
              "      <td>boobs</td>\n",
              "    </tr>\n",
              "    <tr>\n",
              "      <th>5</th>\n",
              "      <td>2014-09-14</td>\n",
              "      <td>99</td>\n",
              "      <td>yes</td>\n",
              "      <td>11/3/1982</td>\n",
              "      <td>32257</td>\n",
              "      <td>1320</td>\n",
              "      <td>no</td>\n",
              "      <td>butt</td>\n",
              "    </tr>\n",
              "    <tr>\n",
              "      <th>6</th>\n",
              "      <td>2017-09-05</td>\n",
              "      <td>99</td>\n",
              "      <td>no</td>\n",
              "      <td>1/24/1996</td>\n",
              "      <td>32246</td>\n",
              "      <td>0</td>\n",
              "      <td>yes</td>\n",
              "      <td>eyes</td>\n",
              "    </tr>\n",
              "    <tr>\n",
              "      <th>7</th>\n",
              "      <td>2015-08-14</td>\n",
              "      <td>179</td>\n",
              "      <td>no</td>\n",
              "      <td>8/29/1977</td>\n",
              "      <td>32221</td>\n",
              "      <td>240</td>\n",
              "      <td>no</td>\n",
              "      <td>no preference</td>\n",
              "    </tr>\n",
              "    <tr>\n",
              "      <th>9</th>\n",
              "      <td>2015-03-05</td>\n",
              "      <td>99</td>\n",
              "      <td>yes</td>\n",
              "      <td>9/7/1979</td>\n",
              "      <td>32277</td>\n",
              "      <td>720</td>\n",
              "      <td>yes</td>\n",
              "      <td>boobs</td>\n",
              "    </tr>\n",
              "    <tr>\n",
              "      <th>10</th>\n",
              "      <td>2015-01-21</td>\n",
              "      <td>99</td>\n",
              "      <td>yes</td>\n",
              "      <td>8/4/1988</td>\n",
              "      <td>32258</td>\n",
              "      <td>680</td>\n",
              "      <td>yes</td>\n",
              "      <td>eyes</td>\n",
              "    </tr>\n",
              "    <tr>\n",
              "      <th>12</th>\n",
              "      <td>2014-09-27</td>\n",
              "      <td>99</td>\n",
              "      <td>no</td>\n",
              "      <td>11/10/1969</td>\n",
              "      <td>32216</td>\n",
              "      <td>600</td>\n",
              "      <td>yes</td>\n",
              "      <td>no preference</td>\n",
              "    </tr>\n",
              "  </tbody>\n",
              "</table>\n",
              "</div>"
            ],
            "text/plain": [
              "   Date_of_PreShoot Session_Fee  ... Model Release          Favorite\n",
              "0        2017-01-05          99  ...           yes              butt\n",
              "1        2017-11-02          99  ...            no        butt, eyes\n",
              "2        2017-06-29          99  ...            no  eyes, hair, legs\n",
              "3        2017-01-23          99  ...           yes             boobs\n",
              "5        2014-09-14          99  ...            no              butt\n",
              "6        2017-09-05          99  ...           yes              eyes\n",
              "7        2015-08-14         179  ...            no     no preference\n",
              "9        2015-03-05          99  ...           yes             boobs\n",
              "10       2015-01-21          99  ...           yes              eyes\n",
              "12       2014-09-27          99  ...           yes     no preference\n",
              "\n",
              "[10 rows x 8 columns]"
            ]
          },
          "metadata": {
            "tags": []
          },
          "execution_count": 28
        }
      ]
    },
    {
      "cell_type": "code",
      "metadata": {
        "id": "IgTqJkc8CPjJ",
        "colab_type": "code",
        "colab": {
          "base_uri": "https://localhost:8080/",
          "height": 34
        },
        "outputId": "e3ca5416-ffc0-4e4f-adb7-d5a364ca91cf"
      },
      "source": [
        "dnd_sales_df[\"Sales_total\"].nunique()"
      ],
      "execution_count": 29,
      "outputs": [
        {
          "output_type": "execute_result",
          "data": {
            "text/plain": [
              "69"
            ]
          },
          "metadata": {
            "tags": []
          },
          "execution_count": 29
        }
      ]
    },
    {
      "cell_type": "code",
      "metadata": {
        "id": "-Sy_4pWvCXsw",
        "colab_type": "code",
        "colab": {}
      },
      "source": [
        ""
      ],
      "execution_count": 29,
      "outputs": []
    },
    {
      "cell_type": "code",
      "metadata": {
        "id": "5sURDSi4tk9x",
        "colab_type": "code",
        "colab": {}
      },
      "source": [
        "# try converting to str, then to int\n",
        "# test= dnd_sales_df[\"Sales_total\"].astype(str).astype(int)\n",
        "# test"
      ],
      "execution_count": 30,
      "outputs": []
    },
    {
      "cell_type": "code",
      "metadata": {
        "id": "cLlMf_0nujJj",
        "colab_type": "code",
        "colab": {}
      },
      "source": [
        "# find this 866.7...\n",
        "cond = dnd_sales_df[\"Sales_total\"] == \"866.7\""
      ],
      "execution_count": 31,
      "outputs": []
    },
    {
      "cell_type": "code",
      "metadata": {
        "id": "xf5tiO2X77ak",
        "colab_type": "code",
        "colab": {
          "base_uri": "https://localhost:8080/",
          "height": 80
        },
        "outputId": "87f14b06-0008-4906-9899-018f4e3260c0"
      },
      "source": [
        "temp_df = dnd_sales_df[cond]\n",
        "temp_df"
      ],
      "execution_count": 32,
      "outputs": [
        {
          "output_type": "execute_result",
          "data": {
            "text/html": [
              "<div>\n",
              "<style scoped>\n",
              "    .dataframe tbody tr th:only-of-type {\n",
              "        vertical-align: middle;\n",
              "    }\n",
              "\n",
              "    .dataframe tbody tr th {\n",
              "        vertical-align: top;\n",
              "    }\n",
              "\n",
              "    .dataframe thead th {\n",
              "        text-align: right;\n",
              "    }\n",
              "</style>\n",
              "<table border=\"1\" class=\"dataframe\">\n",
              "  <thead>\n",
              "    <tr style=\"text-align: right;\">\n",
              "      <th></th>\n",
              "      <th>Date_of_PreShoot</th>\n",
              "      <th>Session_Fee</th>\n",
              "      <th>Hair</th>\n",
              "      <th>DOB</th>\n",
              "      <th>zip_code</th>\n",
              "      <th>Sales_total</th>\n",
              "      <th>Model Release</th>\n",
              "      <th>Favorite</th>\n",
              "    </tr>\n",
              "  </thead>\n",
              "  <tbody>\n",
              "    <tr>\n",
              "      <th>133</th>\n",
              "      <td>2013-08-02</td>\n",
              "      <td>99</td>\n",
              "      <td>no</td>\n",
              "      <td>10/5/1980</td>\n",
              "      <td>32218</td>\n",
              "      <td>866.7</td>\n",
              "      <td>yes</td>\n",
              "      <td>no preference</td>\n",
              "    </tr>\n",
              "  </tbody>\n",
              "</table>\n",
              "</div>"
            ],
            "text/plain": [
              "    Date_of_PreShoot Session_Fee Hair  ... Sales_total Model Release       Favorite\n",
              "133       2013-08-02          99   no  ...       866.7           yes  no preference\n",
              "\n",
              "[1 rows x 8 columns]"
            ]
          },
          "metadata": {
            "tags": []
          },
          "execution_count": 32
        }
      ]
    },
    {
      "cell_type": "code",
      "metadata": {
        "id": "Ho8JPn8I8BXn",
        "colab_type": "code",
        "colab": {
          "base_uri": "https://localhost:8080/",
          "height": 136
        },
        "outputId": "814365cd-9435-4cfc-c4e3-412006aa5307"
      },
      "source": [
        "dnd_sales_df.loc[133, \"Sales_total\"] = 860\n",
        "dnd_sales_df.loc[133, \"Sales_total\"] "
      ],
      "execution_count": 33,
      "outputs": [
        {
          "output_type": "stream",
          "text": [
            "/usr/local/lib/python3.6/dist-packages/pandas/core/indexing.py:966: SettingWithCopyWarning: \n",
            "A value is trying to be set on a copy of a slice from a DataFrame.\n",
            "Try using .loc[row_indexer,col_indexer] = value instead\n",
            "\n",
            "See the caveats in the documentation: https://pandas.pydata.org/pandas-docs/stable/user_guide/indexing.html#returning-a-view-versus-a-copy\n",
            "  self.obj[item] = s\n"
          ],
          "name": "stderr"
        },
        {
          "output_type": "execute_result",
          "data": {
            "text/plain": [
              "860"
            ]
          },
          "metadata": {
            "tags": []
          },
          "execution_count": 33
        }
      ]
    },
    {
      "cell_type": "code",
      "metadata": {
        "id": "fxl0sfMT8vkz",
        "colab_type": "code",
        "colab": {}
      },
      "source": [
        "# try again now that I got rid of decimal \n",
        "# test= dnd_sales_df[\"Sales_total\"].astype(str).astype(int)\n",
        "# test\n"
      ],
      "execution_count": 34,
      "outputs": []
    },
    {
      "cell_type": "code",
      "metadata": {
        "id": "D1sLEHoo9vuJ",
        "colab_type": "code",
        "colab": {
          "base_uri": "https://localhost:8080/",
          "height": 80
        },
        "outputId": "d7ddf5b5-ec83-4737-a623-6395632e463f"
      },
      "source": [
        "# so now maybe there is a space?\n",
        "cond2 = dnd_sales_df[\"Sales_total\"] == \" \"\n",
        "dnd_sales_df[cond2]"
      ],
      "execution_count": 35,
      "outputs": [
        {
          "output_type": "execute_result",
          "data": {
            "text/html": [
              "<div>\n",
              "<style scoped>\n",
              "    .dataframe tbody tr th:only-of-type {\n",
              "        vertical-align: middle;\n",
              "    }\n",
              "\n",
              "    .dataframe tbody tr th {\n",
              "        vertical-align: top;\n",
              "    }\n",
              "\n",
              "    .dataframe thead th {\n",
              "        text-align: right;\n",
              "    }\n",
              "</style>\n",
              "<table border=\"1\" class=\"dataframe\">\n",
              "  <thead>\n",
              "    <tr style=\"text-align: right;\">\n",
              "      <th></th>\n",
              "      <th>Date_of_PreShoot</th>\n",
              "      <th>Session_Fee</th>\n",
              "      <th>Hair</th>\n",
              "      <th>DOB</th>\n",
              "      <th>zip_code</th>\n",
              "      <th>Sales_total</th>\n",
              "      <th>Model Release</th>\n",
              "      <th>Favorite</th>\n",
              "    </tr>\n",
              "  </thead>\n",
              "  <tbody>\n",
              "    <tr>\n",
              "      <th>222</th>\n",
              "      <td>2014-10-21</td>\n",
              "      <td>99</td>\n",
              "      <td>yes</td>\n",
              "      <td>11/29/1969</td>\n",
              "      <td>32073</td>\n",
              "      <td></td>\n",
              "      <td></td>\n",
              "      <td>no preference</td>\n",
              "    </tr>\n",
              "  </tbody>\n",
              "</table>\n",
              "</div>"
            ],
            "text/plain": [
              "    Date_of_PreShoot Session_Fee Hair  ... Sales_total Model Release       Favorite\n",
              "222       2014-10-21          99  yes  ...                            no preference\n",
              "\n",
              "[1 rows x 8 columns]"
            ]
          },
          "metadata": {
            "tags": []
          },
          "execution_count": 35
        }
      ]
    },
    {
      "cell_type": "code",
      "metadata": {
        "id": "9ESZGywE94HB",
        "colab_type": "code",
        "colab": {}
      },
      "source": [
        "# lets drop this row...\n",
        "\n",
        "dnd_sales_df = dnd_sales_df.drop(labels=222)\n"
      ],
      "execution_count": 36,
      "outputs": []
    },
    {
      "cell_type": "code",
      "metadata": {
        "id": "Tlyx5UJRASm3",
        "colab_type": "code",
        "colab": {
          "base_uri": "https://localhost:8080/",
          "height": 83
        },
        "outputId": "d14d8075-c3ed-48d0-97a3-95826657f763"
      },
      "source": [
        "# see if 222 is there\n",
        "dnd_sales_df[cond2]"
      ],
      "execution_count": 37,
      "outputs": [
        {
          "output_type": "stream",
          "text": [
            "/usr/local/lib/python3.6/dist-packages/ipykernel_launcher.py:2: UserWarning: Boolean Series key will be reindexed to match DataFrame index.\n",
            "  \n"
          ],
          "name": "stderr"
        },
        {
          "output_type": "execute_result",
          "data": {
            "text/html": [
              "<div>\n",
              "<style scoped>\n",
              "    .dataframe tbody tr th:only-of-type {\n",
              "        vertical-align: middle;\n",
              "    }\n",
              "\n",
              "    .dataframe tbody tr th {\n",
              "        vertical-align: top;\n",
              "    }\n",
              "\n",
              "    .dataframe thead th {\n",
              "        text-align: right;\n",
              "    }\n",
              "</style>\n",
              "<table border=\"1\" class=\"dataframe\">\n",
              "  <thead>\n",
              "    <tr style=\"text-align: right;\">\n",
              "      <th></th>\n",
              "      <th>Date_of_PreShoot</th>\n",
              "      <th>Session_Fee</th>\n",
              "      <th>Hair</th>\n",
              "      <th>DOB</th>\n",
              "      <th>zip_code</th>\n",
              "      <th>Sales_total</th>\n",
              "      <th>Model Release</th>\n",
              "      <th>Favorite</th>\n",
              "    </tr>\n",
              "  </thead>\n",
              "  <tbody>\n",
              "  </tbody>\n",
              "</table>\n",
              "</div>"
            ],
            "text/plain": [
              "Empty DataFrame\n",
              "Columns: [Date_of_PreShoot, Session_Fee, Hair, DOB, zip_code, Sales_total, Model Release, Favorite]\n",
              "Index: []"
            ]
          },
          "metadata": {
            "tags": []
          },
          "execution_count": 37
        }
      ]
    },
    {
      "cell_type": "code",
      "metadata": {
        "id": "3569nW9YAnmY",
        "colab_type": "code",
        "colab": {
          "base_uri": "https://localhost:8080/",
          "height": 297
        },
        "outputId": "b78fd824-f2db-45a2-ee6b-3a4434f783a0"
      },
      "source": [
        "#perfect so far; try to convert one more time \n",
        "dnd_sales_df[\"Sales_total\"]= dnd_sales_df[\"Sales_total\"].astype(str).astype(int)\n",
        "dnd_sales_df.describe()"
      ],
      "execution_count": 38,
      "outputs": [
        {
          "output_type": "execute_result",
          "data": {
            "text/html": [
              "<div>\n",
              "<style scoped>\n",
              "    .dataframe tbody tr th:only-of-type {\n",
              "        vertical-align: middle;\n",
              "    }\n",
              "\n",
              "    .dataframe tbody tr th {\n",
              "        vertical-align: top;\n",
              "    }\n",
              "\n",
              "    .dataframe thead th {\n",
              "        text-align: right;\n",
              "    }\n",
              "</style>\n",
              "<table border=\"1\" class=\"dataframe\">\n",
              "  <thead>\n",
              "    <tr style=\"text-align: right;\">\n",
              "      <th></th>\n",
              "      <th>Sales_total</th>\n",
              "    </tr>\n",
              "  </thead>\n",
              "  <tbody>\n",
              "    <tr>\n",
              "      <th>count</th>\n",
              "      <td>325.000000</td>\n",
              "    </tr>\n",
              "    <tr>\n",
              "      <th>mean</th>\n",
              "      <td>738.095385</td>\n",
              "    </tr>\n",
              "    <tr>\n",
              "      <th>std</th>\n",
              "      <td>475.472871</td>\n",
              "    </tr>\n",
              "    <tr>\n",
              "      <th>min</th>\n",
              "      <td>0.000000</td>\n",
              "    </tr>\n",
              "    <tr>\n",
              "      <th>25%</th>\n",
              "      <td>580.000000</td>\n",
              "    </tr>\n",
              "    <tr>\n",
              "      <th>50%</th>\n",
              "      <td>600.000000</td>\n",
              "    </tr>\n",
              "    <tr>\n",
              "      <th>75%</th>\n",
              "      <td>950.000000</td>\n",
              "    </tr>\n",
              "    <tr>\n",
              "      <th>max</th>\n",
              "      <td>3000.000000</td>\n",
              "    </tr>\n",
              "  </tbody>\n",
              "</table>\n",
              "</div>"
            ],
            "text/plain": [
              "       Sales_total\n",
              "count   325.000000\n",
              "mean    738.095385\n",
              "std     475.472871\n",
              "min       0.000000\n",
              "25%     580.000000\n",
              "50%     600.000000\n",
              "75%     950.000000\n",
              "max    3000.000000"
            ]
          },
          "metadata": {
            "tags": []
          },
          "execution_count": 38
        }
      ]
    },
    {
      "cell_type": "code",
      "metadata": {
        "id": "vxodQWi4BK6r",
        "colab_type": "code",
        "colab": {
          "base_uri": "https://localhost:8080/",
          "height": 204
        },
        "outputId": "83afe5bc-0ab4-4ae2-8392-a6dcc8c685af"
      },
      "source": [
        "dnd_sales_df.head()"
      ],
      "execution_count": 39,
      "outputs": [
        {
          "output_type": "execute_result",
          "data": {
            "text/html": [
              "<div>\n",
              "<style scoped>\n",
              "    .dataframe tbody tr th:only-of-type {\n",
              "        vertical-align: middle;\n",
              "    }\n",
              "\n",
              "    .dataframe tbody tr th {\n",
              "        vertical-align: top;\n",
              "    }\n",
              "\n",
              "    .dataframe thead th {\n",
              "        text-align: right;\n",
              "    }\n",
              "</style>\n",
              "<table border=\"1\" class=\"dataframe\">\n",
              "  <thead>\n",
              "    <tr style=\"text-align: right;\">\n",
              "      <th></th>\n",
              "      <th>Date_of_PreShoot</th>\n",
              "      <th>Session_Fee</th>\n",
              "      <th>Hair</th>\n",
              "      <th>DOB</th>\n",
              "      <th>zip_code</th>\n",
              "      <th>Sales_total</th>\n",
              "      <th>Model Release</th>\n",
              "      <th>Favorite</th>\n",
              "    </tr>\n",
              "  </thead>\n",
              "  <tbody>\n",
              "    <tr>\n",
              "      <th>0</th>\n",
              "      <td>2017-01-05</td>\n",
              "      <td>99</td>\n",
              "      <td>yes</td>\n",
              "      <td>5/5/1976</td>\n",
              "      <td>32208</td>\n",
              "      <td>600</td>\n",
              "      <td>yes</td>\n",
              "      <td>butt</td>\n",
              "    </tr>\n",
              "    <tr>\n",
              "      <th>1</th>\n",
              "      <td>2017-11-02</td>\n",
              "      <td>99</td>\n",
              "      <td>yes</td>\n",
              "      <td>10/16/1984</td>\n",
              "      <td>32082</td>\n",
              "      <td>400</td>\n",
              "      <td>no</td>\n",
              "      <td>butt, eyes</td>\n",
              "    </tr>\n",
              "    <tr>\n",
              "      <th>2</th>\n",
              "      <td>2017-06-29</td>\n",
              "      <td>99</td>\n",
              "      <td>yes</td>\n",
              "      <td>7/22/1989</td>\n",
              "      <td>32080</td>\n",
              "      <td>320</td>\n",
              "      <td>no</td>\n",
              "      <td>eyes, hair, legs</td>\n",
              "    </tr>\n",
              "    <tr>\n",
              "      <th>3</th>\n",
              "      <td>2017-01-23</td>\n",
              "      <td>99</td>\n",
              "      <td>no</td>\n",
              "      <td>1/23/1971</td>\n",
              "      <td>32208</td>\n",
              "      <td>720</td>\n",
              "      <td>yes</td>\n",
              "      <td>boobs</td>\n",
              "    </tr>\n",
              "    <tr>\n",
              "      <th>5</th>\n",
              "      <td>2014-09-14</td>\n",
              "      <td>99</td>\n",
              "      <td>yes</td>\n",
              "      <td>11/3/1982</td>\n",
              "      <td>32257</td>\n",
              "      <td>1320</td>\n",
              "      <td>no</td>\n",
              "      <td>butt</td>\n",
              "    </tr>\n",
              "  </tbody>\n",
              "</table>\n",
              "</div>"
            ],
            "text/plain": [
              "  Date_of_PreShoot Session_Fee  ... Model Release          Favorite\n",
              "0       2017-01-05          99  ...           yes              butt\n",
              "1       2017-11-02          99  ...            no        butt, eyes\n",
              "2       2017-06-29          99  ...            no  eyes, hair, legs\n",
              "3       2017-01-23          99  ...           yes             boobs\n",
              "5       2014-09-14          99  ...            no              butt\n",
              "\n",
              "[5 rows x 8 columns]"
            ]
          },
          "metadata": {
            "tags": []
          },
          "execution_count": 39
        }
      ]
    },
    {
      "cell_type": "code",
      "metadata": {
        "id": "E_4GUK8SBzU2",
        "colab_type": "code",
        "colab": {}
      },
      "source": [
        ""
      ],
      "execution_count": 39,
      "outputs": []
    },
    {
      "cell_type": "code",
      "metadata": {
        "id": "gn0UPSilEYw7",
        "colab_type": "code",
        "colab": {
          "base_uri": "https://localhost:8080/",
          "height": 34
        },
        "outputId": "61951289-9ce1-42fb-87f3-ca97d277cf7e"
      },
      "source": [
        "dnd_sales_df[\"Session_Fee\"].nunique()"
      ],
      "execution_count": 40,
      "outputs": [
        {
          "output_type": "execute_result",
          "data": {
            "text/plain": [
              "8"
            ]
          },
          "metadata": {
            "tags": []
          },
          "execution_count": 40
        }
      ]
    },
    {
      "cell_type": "code",
      "metadata": {
        "id": "JtLM8GxXEfZV",
        "colab_type": "code",
        "colab": {
          "base_uri": "https://localhost:8080/",
          "height": 170
        },
        "outputId": "d67851cd-2df8-493c-9081-64d5b814582a"
      },
      "source": [
        "dnd_sales_df[\"Session_Fee\"].value_counts()"
      ],
      "execution_count": 41,
      "outputs": [
        {
          "output_type": "execute_result",
          "data": {
            "text/plain": [
              "99             230\n",
              "25              51\n",
              "179             33\n",
              "249              4\n",
              "0                2\n",
              "100              1\n",
              "89               1\n",
              "amazon gift      1\n",
              "Name: Session_Fee, dtype: int64"
            ]
          },
          "metadata": {
            "tags": []
          },
          "execution_count": 41
        }
      ]
    },
    {
      "cell_type": "code",
      "metadata": {
        "id": "h7pXanOkEnzM",
        "colab_type": "code",
        "colab": {}
      },
      "source": [
        "#ok lets change that amazon gift to 0\n",
        "cond_gift = dnd_sales_df[\"Session_Fee\"].str.strip() == \"amazon gift\""
      ],
      "execution_count": 42,
      "outputs": []
    },
    {
      "cell_type": "code",
      "metadata": {
        "id": "M9-0koJpFIoQ",
        "colab_type": "code",
        "colab": {
          "base_uri": "https://localhost:8080/",
          "height": 80
        },
        "outputId": "568d0337-8733-4afb-c8db-ca8f19eeb6a1"
      },
      "source": [
        "dnd_sales_df[cond_gift]"
      ],
      "execution_count": 43,
      "outputs": [
        {
          "output_type": "execute_result",
          "data": {
            "text/html": [
              "<div>\n",
              "<style scoped>\n",
              "    .dataframe tbody tr th:only-of-type {\n",
              "        vertical-align: middle;\n",
              "    }\n",
              "\n",
              "    .dataframe tbody tr th {\n",
              "        vertical-align: top;\n",
              "    }\n",
              "\n",
              "    .dataframe thead th {\n",
              "        text-align: right;\n",
              "    }\n",
              "</style>\n",
              "<table border=\"1\" class=\"dataframe\">\n",
              "  <thead>\n",
              "    <tr style=\"text-align: right;\">\n",
              "      <th></th>\n",
              "      <th>Date_of_PreShoot</th>\n",
              "      <th>Session_Fee</th>\n",
              "      <th>Hair</th>\n",
              "      <th>DOB</th>\n",
              "      <th>zip_code</th>\n",
              "      <th>Sales_total</th>\n",
              "      <th>Model Release</th>\n",
              "      <th>Favorite</th>\n",
              "    </tr>\n",
              "  </thead>\n",
              "  <tbody>\n",
              "    <tr>\n",
              "      <th>160</th>\n",
              "      <td>2014-04-02</td>\n",
              "      <td>amazon gift</td>\n",
              "      <td>yes</td>\n",
              "      <td>12/17/1980</td>\n",
              "      <td>32164</td>\n",
              "      <td>600</td>\n",
              "      <td>yes</td>\n",
              "      <td>butt</td>\n",
              "    </tr>\n",
              "  </tbody>\n",
              "</table>\n",
              "</div>"
            ],
            "text/plain": [
              "    Date_of_PreShoot  Session_Fee Hair  ... Sales_total Model Release  Favorite\n",
              "160       2014-04-02  amazon gift  yes  ...         600           yes      butt\n",
              "\n",
              "[1 rows x 8 columns]"
            ]
          },
          "metadata": {
            "tags": []
          },
          "execution_count": 43
        }
      ]
    },
    {
      "cell_type": "code",
      "metadata": {
        "id": "y3Vn-kDkHGPH",
        "colab_type": "code",
        "colab": {}
      },
      "source": [
        "dnd_sales_df.loc[160, \"Session_Fee\"] =dnd_sales_df.loc[160, \"Session_Fee\"].strip()\n"
      ],
      "execution_count": 44,
      "outputs": []
    },
    {
      "cell_type": "code",
      "metadata": {
        "id": "JQgJ3J-oFNS3",
        "colab_type": "code",
        "colab": {}
      },
      "source": [
        "# replace \"amazon gift\" with 0 \n",
        "dnd_sales_df.loc[:, \"Session_Fee\"] = dnd_sales_df.loc[:,\"Session_Fee\"].replace(to_replace=\"amazon gift\", value=\"0\")"
      ],
      "execution_count": 45,
      "outputs": []
    },
    {
      "cell_type": "code",
      "metadata": {
        "id": "m6AyDiqOGBWW",
        "colab_type": "code",
        "colab": {
          "base_uri": "https://localhost:8080/",
          "height": 80
        },
        "outputId": "6687d449-2844-4829-8b19-8ff7ca4ae41e"
      },
      "source": [
        "# check to see if its gone\n",
        "dnd_sales_df[cond_gift]"
      ],
      "execution_count": 46,
      "outputs": [
        {
          "output_type": "execute_result",
          "data": {
            "text/html": [
              "<div>\n",
              "<style scoped>\n",
              "    .dataframe tbody tr th:only-of-type {\n",
              "        vertical-align: middle;\n",
              "    }\n",
              "\n",
              "    .dataframe tbody tr th {\n",
              "        vertical-align: top;\n",
              "    }\n",
              "\n",
              "    .dataframe thead th {\n",
              "        text-align: right;\n",
              "    }\n",
              "</style>\n",
              "<table border=\"1\" class=\"dataframe\">\n",
              "  <thead>\n",
              "    <tr style=\"text-align: right;\">\n",
              "      <th></th>\n",
              "      <th>Date_of_PreShoot</th>\n",
              "      <th>Session_Fee</th>\n",
              "      <th>Hair</th>\n",
              "      <th>DOB</th>\n",
              "      <th>zip_code</th>\n",
              "      <th>Sales_total</th>\n",
              "      <th>Model Release</th>\n",
              "      <th>Favorite</th>\n",
              "    </tr>\n",
              "  </thead>\n",
              "  <tbody>\n",
              "    <tr>\n",
              "      <th>160</th>\n",
              "      <td>2014-04-02</td>\n",
              "      <td>0</td>\n",
              "      <td>yes</td>\n",
              "      <td>12/17/1980</td>\n",
              "      <td>32164</td>\n",
              "      <td>600</td>\n",
              "      <td>yes</td>\n",
              "      <td>butt</td>\n",
              "    </tr>\n",
              "  </tbody>\n",
              "</table>\n",
              "</div>"
            ],
            "text/plain": [
              "    Date_of_PreShoot Session_Fee Hair  ... Sales_total Model Release  Favorite\n",
              "160       2014-04-02           0  yes  ...         600           yes      butt\n",
              "\n",
              "[1 rows x 8 columns]"
            ]
          },
          "metadata": {
            "tags": []
          },
          "execution_count": 46
        }
      ]
    },
    {
      "cell_type": "code",
      "metadata": {
        "id": "9TWQHdudGJmf",
        "colab_type": "code",
        "colab": {
          "base_uri": "https://localhost:8080/",
          "height": 153
        },
        "outputId": "1ffafc04-9bf6-4b40-9e7d-e7dc28a19dba"
      },
      "source": [
        "dnd_sales_df[\"Session_Fee\"].value_counts()"
      ],
      "execution_count": 47,
      "outputs": [
        {
          "output_type": "execute_result",
          "data": {
            "text/plain": [
              "99     230\n",
              "25      51\n",
              "179     33\n",
              "249      4\n",
              "0        3\n",
              "100      1\n",
              "89       1\n",
              "Name: Session_Fee, dtype: int64"
            ]
          },
          "metadata": {
            "tags": []
          },
          "execution_count": 47
        }
      ]
    },
    {
      "cell_type": "code",
      "metadata": {
        "id": "dLlofDwxIkY5",
        "colab_type": "code",
        "colab": {
          "base_uri": "https://localhost:8080/",
          "height": 34
        },
        "outputId": "d2754e6b-33b2-4206-b8a8-55cd4caa9a13"
      },
      "source": [
        "dnd_sales_df[\"Session_Fee\"].isnull().sum()\n"
      ],
      "execution_count": 48,
      "outputs": [
        {
          "output_type": "execute_result",
          "data": {
            "text/plain": [
              "2"
            ]
          },
          "metadata": {
            "tags": []
          },
          "execution_count": 48
        }
      ]
    },
    {
      "cell_type": "code",
      "metadata": {
        "id": "iWgedVkLIws3",
        "colab_type": "code",
        "colab": {
          "base_uri": "https://localhost:8080/",
          "height": 111
        },
        "outputId": "ea15af70-4935-4786-8e55-49f07c1c9474"
      },
      "source": [
        "# These were repeat clients where a second preshoot wasn't necessary \n",
        "# or a purchase of additional photos... So i have to manually update it \n",
        "# will export a \"clean\" csv later\n",
        "cond_nan = dnd_sales_df[\"Session_Fee\"].isnull() == True\n",
        "dnd_sales_df[cond_nan]"
      ],
      "execution_count": 49,
      "outputs": [
        {
          "output_type": "execute_result",
          "data": {
            "text/html": [
              "<div>\n",
              "<style scoped>\n",
              "    .dataframe tbody tr th:only-of-type {\n",
              "        vertical-align: middle;\n",
              "    }\n",
              "\n",
              "    .dataframe tbody tr th {\n",
              "        vertical-align: top;\n",
              "    }\n",
              "\n",
              "    .dataframe thead th {\n",
              "        text-align: right;\n",
              "    }\n",
              "</style>\n",
              "<table border=\"1\" class=\"dataframe\">\n",
              "  <thead>\n",
              "    <tr style=\"text-align: right;\">\n",
              "      <th></th>\n",
              "      <th>Date_of_PreShoot</th>\n",
              "      <th>Session_Fee</th>\n",
              "      <th>Hair</th>\n",
              "      <th>DOB</th>\n",
              "      <th>zip_code</th>\n",
              "      <th>Sales_total</th>\n",
              "      <th>Model Release</th>\n",
              "      <th>Favorite</th>\n",
              "    </tr>\n",
              "  </thead>\n",
              "  <tbody>\n",
              "    <tr>\n",
              "      <th>33</th>\n",
              "      <td>NaT</td>\n",
              "      <td>NaN</td>\n",
              "      <td>NaN</td>\n",
              "      <td>2/8/1983</td>\n",
              "      <td>32211</td>\n",
              "      <td>1200</td>\n",
              "      <td>yes</td>\n",
              "      <td>no preference</td>\n",
              "    </tr>\n",
              "    <tr>\n",
              "      <th>51</th>\n",
              "      <td>NaT</td>\n",
              "      <td>NaN</td>\n",
              "      <td>NaN</td>\n",
              "      <td>8/24/1979</td>\n",
              "      <td>32225</td>\n",
              "      <td>600</td>\n",
              "      <td>yes</td>\n",
              "      <td>boobs</td>\n",
              "    </tr>\n",
              "  </tbody>\n",
              "</table>\n",
              "</div>"
            ],
            "text/plain": [
              "   Date_of_PreShoot Session_Fee Hair  ... Sales_total Model Release       Favorite\n",
              "33              NaT         NaN  NaN  ...        1200           yes  no preference\n",
              "51              NaT         NaN  NaN  ...         600           yes          boobs\n",
              "\n",
              "[2 rows x 8 columns]"
            ]
          },
          "metadata": {
            "tags": []
          },
          "execution_count": 49
        }
      ]
    },
    {
      "cell_type": "code",
      "metadata": {
        "id": "JkBJVZ5uJWEy",
        "colab_type": "code",
        "colab": {
          "base_uri": "https://localhost:8080/",
          "height": 111
        },
        "outputId": "eb3479b6-a902-41af-8239-28533e821905"
      },
      "source": [
        "dnd_sales_df.loc[33, \"Session_Fee\"] = \"179\"\n",
        "dnd_sales_df[cond_nan]"
      ],
      "execution_count": 50,
      "outputs": [
        {
          "output_type": "execute_result",
          "data": {
            "text/html": [
              "<div>\n",
              "<style scoped>\n",
              "    .dataframe tbody tr th:only-of-type {\n",
              "        vertical-align: middle;\n",
              "    }\n",
              "\n",
              "    .dataframe tbody tr th {\n",
              "        vertical-align: top;\n",
              "    }\n",
              "\n",
              "    .dataframe thead th {\n",
              "        text-align: right;\n",
              "    }\n",
              "</style>\n",
              "<table border=\"1\" class=\"dataframe\">\n",
              "  <thead>\n",
              "    <tr style=\"text-align: right;\">\n",
              "      <th></th>\n",
              "      <th>Date_of_PreShoot</th>\n",
              "      <th>Session_Fee</th>\n",
              "      <th>Hair</th>\n",
              "      <th>DOB</th>\n",
              "      <th>zip_code</th>\n",
              "      <th>Sales_total</th>\n",
              "      <th>Model Release</th>\n",
              "      <th>Favorite</th>\n",
              "    </tr>\n",
              "  </thead>\n",
              "  <tbody>\n",
              "    <tr>\n",
              "      <th>33</th>\n",
              "      <td>NaT</td>\n",
              "      <td>179</td>\n",
              "      <td>NaN</td>\n",
              "      <td>2/8/1983</td>\n",
              "      <td>32211</td>\n",
              "      <td>1200</td>\n",
              "      <td>yes</td>\n",
              "      <td>no preference</td>\n",
              "    </tr>\n",
              "    <tr>\n",
              "      <th>51</th>\n",
              "      <td>NaT</td>\n",
              "      <td>NaN</td>\n",
              "      <td>NaN</td>\n",
              "      <td>8/24/1979</td>\n",
              "      <td>32225</td>\n",
              "      <td>600</td>\n",
              "      <td>yes</td>\n",
              "      <td>boobs</td>\n",
              "    </tr>\n",
              "  </tbody>\n",
              "</table>\n",
              "</div>"
            ],
            "text/plain": [
              "   Date_of_PreShoot Session_Fee Hair  ... Sales_total Model Release       Favorite\n",
              "33              NaT         179  NaN  ...        1200           yes  no preference\n",
              "51              NaT         NaN  NaN  ...         600           yes          boobs\n",
              "\n",
              "[2 rows x 8 columns]"
            ]
          },
          "metadata": {
            "tags": []
          },
          "execution_count": 50
        }
      ]
    },
    {
      "cell_type": "code",
      "metadata": {
        "id": "NiQuY1MvLavh",
        "colab_type": "code",
        "colab": {
          "base_uri": "https://localhost:8080/",
          "height": 111
        },
        "outputId": "617807b8-cf47-4241-bb16-0c5d79dac226"
      },
      "source": [
        "dnd_sales_df.loc[51, \"Session_Fee\"] = \"99\"\n",
        "dnd_sales_df[cond_nan]"
      ],
      "execution_count": 51,
      "outputs": [
        {
          "output_type": "execute_result",
          "data": {
            "text/html": [
              "<div>\n",
              "<style scoped>\n",
              "    .dataframe tbody tr th:only-of-type {\n",
              "        vertical-align: middle;\n",
              "    }\n",
              "\n",
              "    .dataframe tbody tr th {\n",
              "        vertical-align: top;\n",
              "    }\n",
              "\n",
              "    .dataframe thead th {\n",
              "        text-align: right;\n",
              "    }\n",
              "</style>\n",
              "<table border=\"1\" class=\"dataframe\">\n",
              "  <thead>\n",
              "    <tr style=\"text-align: right;\">\n",
              "      <th></th>\n",
              "      <th>Date_of_PreShoot</th>\n",
              "      <th>Session_Fee</th>\n",
              "      <th>Hair</th>\n",
              "      <th>DOB</th>\n",
              "      <th>zip_code</th>\n",
              "      <th>Sales_total</th>\n",
              "      <th>Model Release</th>\n",
              "      <th>Favorite</th>\n",
              "    </tr>\n",
              "  </thead>\n",
              "  <tbody>\n",
              "    <tr>\n",
              "      <th>33</th>\n",
              "      <td>NaT</td>\n",
              "      <td>179</td>\n",
              "      <td>NaN</td>\n",
              "      <td>2/8/1983</td>\n",
              "      <td>32211</td>\n",
              "      <td>1200</td>\n",
              "      <td>yes</td>\n",
              "      <td>no preference</td>\n",
              "    </tr>\n",
              "    <tr>\n",
              "      <th>51</th>\n",
              "      <td>NaT</td>\n",
              "      <td>99</td>\n",
              "      <td>NaN</td>\n",
              "      <td>8/24/1979</td>\n",
              "      <td>32225</td>\n",
              "      <td>600</td>\n",
              "      <td>yes</td>\n",
              "      <td>boobs</td>\n",
              "    </tr>\n",
              "  </tbody>\n",
              "</table>\n",
              "</div>"
            ],
            "text/plain": [
              "   Date_of_PreShoot Session_Fee Hair  ... Sales_total Model Release       Favorite\n",
              "33              NaT         179  NaN  ...        1200           yes  no preference\n",
              "51              NaT          99  NaN  ...         600           yes          boobs\n",
              "\n",
              "[2 rows x 8 columns]"
            ]
          },
          "metadata": {
            "tags": []
          },
          "execution_count": 51
        }
      ]
    },
    {
      "cell_type": "code",
      "metadata": {
        "id": "wDd2awgAOSum",
        "colab_type": "code",
        "colab": {}
      },
      "source": [
        ""
      ],
      "execution_count": 51,
      "outputs": []
    },
    {
      "cell_type": "code",
      "metadata": {
        "id": "6CY8AmblLlK_",
        "colab_type": "code",
        "colab": {
          "base_uri": "https://localhost:8080/",
          "height": 111
        },
        "outputId": "583b728f-5fb9-44a7-acf3-f72f22fbb8f3"
      },
      "source": [
        "dnd_sales_df.loc[:, \"Hair\"] = dnd_sales_df.loc[:, \"Hair\"].replace(to_replace=np.NaN, value=\"no\")\n",
        "dnd_sales_df[cond_nan]"
      ],
      "execution_count": 52,
      "outputs": [
        {
          "output_type": "execute_result",
          "data": {
            "text/html": [
              "<div>\n",
              "<style scoped>\n",
              "    .dataframe tbody tr th:only-of-type {\n",
              "        vertical-align: middle;\n",
              "    }\n",
              "\n",
              "    .dataframe tbody tr th {\n",
              "        vertical-align: top;\n",
              "    }\n",
              "\n",
              "    .dataframe thead th {\n",
              "        text-align: right;\n",
              "    }\n",
              "</style>\n",
              "<table border=\"1\" class=\"dataframe\">\n",
              "  <thead>\n",
              "    <tr style=\"text-align: right;\">\n",
              "      <th></th>\n",
              "      <th>Date_of_PreShoot</th>\n",
              "      <th>Session_Fee</th>\n",
              "      <th>Hair</th>\n",
              "      <th>DOB</th>\n",
              "      <th>zip_code</th>\n",
              "      <th>Sales_total</th>\n",
              "      <th>Model Release</th>\n",
              "      <th>Favorite</th>\n",
              "    </tr>\n",
              "  </thead>\n",
              "  <tbody>\n",
              "    <tr>\n",
              "      <th>33</th>\n",
              "      <td>NaT</td>\n",
              "      <td>179</td>\n",
              "      <td>no</td>\n",
              "      <td>2/8/1983</td>\n",
              "      <td>32211</td>\n",
              "      <td>1200</td>\n",
              "      <td>yes</td>\n",
              "      <td>no preference</td>\n",
              "    </tr>\n",
              "    <tr>\n",
              "      <th>51</th>\n",
              "      <td>NaT</td>\n",
              "      <td>99</td>\n",
              "      <td>no</td>\n",
              "      <td>8/24/1979</td>\n",
              "      <td>32225</td>\n",
              "      <td>600</td>\n",
              "      <td>yes</td>\n",
              "      <td>boobs</td>\n",
              "    </tr>\n",
              "  </tbody>\n",
              "</table>\n",
              "</div>"
            ],
            "text/plain": [
              "   Date_of_PreShoot Session_Fee Hair  ... Sales_total Model Release       Favorite\n",
              "33              NaT         179   no  ...        1200           yes  no preference\n",
              "51              NaT          99   no  ...         600           yes          boobs\n",
              "\n",
              "[2 rows x 8 columns]"
            ]
          },
          "metadata": {
            "tags": []
          },
          "execution_count": 52
        }
      ]
    },
    {
      "cell_type": "code",
      "metadata": {
        "id": "uMjL23W7MU3s",
        "colab_type": "code",
        "colab": {
          "base_uri": "https://localhost:8080/",
          "height": 111
        },
        "outputId": "e55e4b51-b52c-44ae-c50f-432b2f0209e5"
      },
      "source": [
        "dnd_sales_df.loc[33, \"Date_of_PreShoot\"] = pd.to_datetime(\"3/22/2017\")\n",
        "dnd_sales_df.loc[51, \"Date_of_PreShoot\"] = pd.to_datetime(\"1/30/2016\")\n",
        "dnd_sales_df[cond_nan]"
      ],
      "execution_count": 53,
      "outputs": [
        {
          "output_type": "execute_result",
          "data": {
            "text/html": [
              "<div>\n",
              "<style scoped>\n",
              "    .dataframe tbody tr th:only-of-type {\n",
              "        vertical-align: middle;\n",
              "    }\n",
              "\n",
              "    .dataframe tbody tr th {\n",
              "        vertical-align: top;\n",
              "    }\n",
              "\n",
              "    .dataframe thead th {\n",
              "        text-align: right;\n",
              "    }\n",
              "</style>\n",
              "<table border=\"1\" class=\"dataframe\">\n",
              "  <thead>\n",
              "    <tr style=\"text-align: right;\">\n",
              "      <th></th>\n",
              "      <th>Date_of_PreShoot</th>\n",
              "      <th>Session_Fee</th>\n",
              "      <th>Hair</th>\n",
              "      <th>DOB</th>\n",
              "      <th>zip_code</th>\n",
              "      <th>Sales_total</th>\n",
              "      <th>Model Release</th>\n",
              "      <th>Favorite</th>\n",
              "    </tr>\n",
              "  </thead>\n",
              "  <tbody>\n",
              "    <tr>\n",
              "      <th>33</th>\n",
              "      <td>2017-03-22</td>\n",
              "      <td>179</td>\n",
              "      <td>no</td>\n",
              "      <td>2/8/1983</td>\n",
              "      <td>32211</td>\n",
              "      <td>1200</td>\n",
              "      <td>yes</td>\n",
              "      <td>no preference</td>\n",
              "    </tr>\n",
              "    <tr>\n",
              "      <th>51</th>\n",
              "      <td>2016-01-30</td>\n",
              "      <td>99</td>\n",
              "      <td>no</td>\n",
              "      <td>8/24/1979</td>\n",
              "      <td>32225</td>\n",
              "      <td>600</td>\n",
              "      <td>yes</td>\n",
              "      <td>boobs</td>\n",
              "    </tr>\n",
              "  </tbody>\n",
              "</table>\n",
              "</div>"
            ],
            "text/plain": [
              "   Date_of_PreShoot Session_Fee Hair  ... Sales_total Model Release       Favorite\n",
              "33       2017-03-22         179   no  ...        1200           yes  no preference\n",
              "51       2016-01-30          99   no  ...         600           yes          boobs\n",
              "\n",
              "[2 rows x 8 columns]"
            ]
          },
          "metadata": {
            "tags": []
          },
          "execution_count": 53
        }
      ]
    },
    {
      "cell_type": "code",
      "metadata": {
        "id": "ZXDeOYCDJE2V",
        "colab_type": "code",
        "colab": {
          "base_uri": "https://localhost:8080/",
          "height": 49
        },
        "outputId": "7b10345e-0ac1-4dfc-fab4-da12337a4046"
      },
      "source": [
        "cond_nan = dnd_sales_df[\"DOB\"].isnull() == True\n",
        "dnd_sales_df[cond_nan]"
      ],
      "execution_count": 54,
      "outputs": [
        {
          "output_type": "execute_result",
          "data": {
            "text/html": [
              "<div>\n",
              "<style scoped>\n",
              "    .dataframe tbody tr th:only-of-type {\n",
              "        vertical-align: middle;\n",
              "    }\n",
              "\n",
              "    .dataframe tbody tr th {\n",
              "        vertical-align: top;\n",
              "    }\n",
              "\n",
              "    .dataframe thead th {\n",
              "        text-align: right;\n",
              "    }\n",
              "</style>\n",
              "<table border=\"1\" class=\"dataframe\">\n",
              "  <thead>\n",
              "    <tr style=\"text-align: right;\">\n",
              "      <th></th>\n",
              "      <th>Date_of_PreShoot</th>\n",
              "      <th>Session_Fee</th>\n",
              "      <th>Hair</th>\n",
              "      <th>DOB</th>\n",
              "      <th>zip_code</th>\n",
              "      <th>Sales_total</th>\n",
              "      <th>Model Release</th>\n",
              "      <th>Favorite</th>\n",
              "    </tr>\n",
              "  </thead>\n",
              "  <tbody>\n",
              "  </tbody>\n",
              "</table>\n",
              "</div>"
            ],
            "text/plain": [
              "Empty DataFrame\n",
              "Columns: [Date_of_PreShoot, Session_Fee, Hair, DOB, zip_code, Sales_total, Model Release, Favorite]\n",
              "Index: []"
            ]
          },
          "metadata": {
            "tags": []
          },
          "execution_count": 54
        }
      ]
    },
    {
      "cell_type": "code",
      "metadata": {
        "id": "Phu61VhVzzKy",
        "colab_type": "code",
        "colab": {
          "base_uri": "https://localhost:8080/",
          "height": 49
        },
        "outputId": "26cf9ef8-9b7c-4be8-ac0a-5838032e53d9"
      },
      "source": [
        "dnd_sales_df.loc[233, \"DOB\"] = pd.to_datetime(\"4/15/1962\")\n",
        "dnd_sales_df[cond_nan]"
      ],
      "execution_count": 55,
      "outputs": [
        {
          "output_type": "execute_result",
          "data": {
            "text/html": [
              "<div>\n",
              "<style scoped>\n",
              "    .dataframe tbody tr th:only-of-type {\n",
              "        vertical-align: middle;\n",
              "    }\n",
              "\n",
              "    .dataframe tbody tr th {\n",
              "        vertical-align: top;\n",
              "    }\n",
              "\n",
              "    .dataframe thead th {\n",
              "        text-align: right;\n",
              "    }\n",
              "</style>\n",
              "<table border=\"1\" class=\"dataframe\">\n",
              "  <thead>\n",
              "    <tr style=\"text-align: right;\">\n",
              "      <th></th>\n",
              "      <th>Date_of_PreShoot</th>\n",
              "      <th>Session_Fee</th>\n",
              "      <th>Hair</th>\n",
              "      <th>DOB</th>\n",
              "      <th>zip_code</th>\n",
              "      <th>Sales_total</th>\n",
              "      <th>Model Release</th>\n",
              "      <th>Favorite</th>\n",
              "    </tr>\n",
              "  </thead>\n",
              "  <tbody>\n",
              "  </tbody>\n",
              "</table>\n",
              "</div>"
            ],
            "text/plain": [
              "Empty DataFrame\n",
              "Columns: [Date_of_PreShoot, Session_Fee, Hair, DOB, zip_code, Sales_total, Model Release, Favorite]\n",
              "Index: []"
            ]
          },
          "metadata": {
            "tags": []
          },
          "execution_count": 55
        }
      ]
    },
    {
      "cell_type": "code",
      "metadata": {
        "id": "m7mC2hcs0MMV",
        "colab_type": "code",
        "colab": {
          "base_uri": "https://localhost:8080/",
          "height": 34
        },
        "outputId": "10102a83-7280-4eef-c4d4-ab3c10c47e60"
      },
      "source": [
        "dnd_sales_df[\"DOB\"].isnull().sum()"
      ],
      "execution_count": 56,
      "outputs": [
        {
          "output_type": "execute_result",
          "data": {
            "text/plain": [
              "0"
            ]
          },
          "metadata": {
            "tags": []
          },
          "execution_count": 56
        }
      ]
    },
    {
      "cell_type": "code",
      "metadata": {
        "id": "5YHqR4-32cDL",
        "colab_type": "code",
        "colab": {
          "base_uri": "https://localhost:8080/",
          "height": 111
        },
        "outputId": "47dd7c4e-5f8d-48a1-e1d1-1bbd384ceba2"
      },
      "source": [
        "dnd_sales_df.head(2)"
      ],
      "execution_count": 57,
      "outputs": [
        {
          "output_type": "execute_result",
          "data": {
            "text/html": [
              "<div>\n",
              "<style scoped>\n",
              "    .dataframe tbody tr th:only-of-type {\n",
              "        vertical-align: middle;\n",
              "    }\n",
              "\n",
              "    .dataframe tbody tr th {\n",
              "        vertical-align: top;\n",
              "    }\n",
              "\n",
              "    .dataframe thead th {\n",
              "        text-align: right;\n",
              "    }\n",
              "</style>\n",
              "<table border=\"1\" class=\"dataframe\">\n",
              "  <thead>\n",
              "    <tr style=\"text-align: right;\">\n",
              "      <th></th>\n",
              "      <th>Date_of_PreShoot</th>\n",
              "      <th>Session_Fee</th>\n",
              "      <th>Hair</th>\n",
              "      <th>DOB</th>\n",
              "      <th>zip_code</th>\n",
              "      <th>Sales_total</th>\n",
              "      <th>Model Release</th>\n",
              "      <th>Favorite</th>\n",
              "    </tr>\n",
              "  </thead>\n",
              "  <tbody>\n",
              "    <tr>\n",
              "      <th>0</th>\n",
              "      <td>2017-01-05</td>\n",
              "      <td>99</td>\n",
              "      <td>yes</td>\n",
              "      <td>5/5/1976</td>\n",
              "      <td>32208</td>\n",
              "      <td>600</td>\n",
              "      <td>yes</td>\n",
              "      <td>butt</td>\n",
              "    </tr>\n",
              "    <tr>\n",
              "      <th>1</th>\n",
              "      <td>2017-11-02</td>\n",
              "      <td>99</td>\n",
              "      <td>yes</td>\n",
              "      <td>10/16/1984</td>\n",
              "      <td>32082</td>\n",
              "      <td>400</td>\n",
              "      <td>no</td>\n",
              "      <td>butt, eyes</td>\n",
              "    </tr>\n",
              "  </tbody>\n",
              "</table>\n",
              "</div>"
            ],
            "text/plain": [
              "  Date_of_PreShoot Session_Fee Hair  ... Sales_total Model Release    Favorite\n",
              "0       2017-01-05          99  yes  ...         600           yes        butt\n",
              "1       2017-11-02          99  yes  ...         400            no  butt, eyes\n",
              "\n",
              "[2 rows x 8 columns]"
            ]
          },
          "metadata": {
            "tags": []
          },
          "execution_count": 57
        }
      ]
    },
    {
      "cell_type": "code",
      "metadata": {
        "id": "dAn2MQJC2fTi",
        "colab_type": "code",
        "colab": {
          "base_uri": "https://localhost:8080/",
          "height": 221
        },
        "outputId": "bd9cabba-41ba-4eca-a565-3ff9dd1e8e7e"
      },
      "source": [
        "# the DOB isn't converted; I believe at this point its clean enough convert\n",
        "dnd_sales_df.loc[:, \"DOB\"] = pd.to_datetime(dnd_sales_df.loc[:, \"DOB\"])\n",
        "dnd_sales_df[\"DOB\"]"
      ],
      "execution_count": 58,
      "outputs": [
        {
          "output_type": "execute_result",
          "data": {
            "text/plain": [
              "0     1976-05-05\n",
              "1     1984-10-16\n",
              "2     1989-07-22\n",
              "3     1971-01-23\n",
              "5     1982-11-03\n",
              "         ...    \n",
              "414   1984-10-24\n",
              "419   1987-03-28\n",
              "421   1989-07-10\n",
              "422   1992-08-05\n",
              "423   1994-06-26\n",
              "Name: DOB, Length: 325, dtype: datetime64[ns]"
            ]
          },
          "metadata": {
            "tags": []
          },
          "execution_count": 58
        }
      ]
    },
    {
      "cell_type": "code",
      "metadata": {
        "id": "S8sZtm99N1G8",
        "colab_type": "code",
        "colab": {
          "base_uri": "https://localhost:8080/",
          "height": 34
        },
        "outputId": "2c65008d-05db-4c9d-ed8d-69d39b720f77"
      },
      "source": [
        "dnd_sales_df.loc[77, \"Date_of_PreShoot\"] = pd.to_datetime(\"11/14/2016\")\n",
        "dnd_sales_df.loc[77, \"Date_of_PreShoot\"]"
      ],
      "execution_count": 59,
      "outputs": [
        {
          "output_type": "execute_result",
          "data": {
            "text/plain": [
              "Timestamp('2016-11-14 00:00:00')"
            ]
          },
          "metadata": {
            "tags": []
          },
          "execution_count": 59
        }
      ]
    },
    {
      "cell_type": "code",
      "metadata": {
        "id": "k5QhO2BwM8iG",
        "colab_type": "code",
        "colab": {}
      },
      "source": [
        ""
      ],
      "execution_count": 59,
      "outputs": []
    },
    {
      "cell_type": "code",
      "metadata": {
        "id": "8qdK0X8L3_cM",
        "colab_type": "code",
        "colab": {}
      },
      "source": [
        "# create a new feature \"Age_at_Shoot_Date\"\n",
        "dnd_sales_df[\"Age_at_Shoot_Date\"] = [int(x.days/365) for x in (dnd_sales_df.iloc[:,0] - dnd_sales_df.iloc[:,3])]\n"
      ],
      "execution_count": 60,
      "outputs": []
    },
    {
      "cell_type": "code",
      "metadata": {
        "id": "B9girNJU5D5O",
        "colab_type": "code",
        "colab": {}
      },
      "source": [
        ""
      ],
      "execution_count": 60,
      "outputs": []
    },
    {
      "cell_type": "code",
      "metadata": {
        "id": "x9NaDZXF4w7Q",
        "colab_type": "code",
        "colab": {
          "base_uri": "https://localhost:8080/",
          "height": 111
        },
        "outputId": "362c077f-7d3a-4d4e-f2d6-ca1857c608b7"
      },
      "source": [
        "dnd_sales_df.head(2)"
      ],
      "execution_count": 61,
      "outputs": [
        {
          "output_type": "execute_result",
          "data": {
            "text/html": [
              "<div>\n",
              "<style scoped>\n",
              "    .dataframe tbody tr th:only-of-type {\n",
              "        vertical-align: middle;\n",
              "    }\n",
              "\n",
              "    .dataframe tbody tr th {\n",
              "        vertical-align: top;\n",
              "    }\n",
              "\n",
              "    .dataframe thead th {\n",
              "        text-align: right;\n",
              "    }\n",
              "</style>\n",
              "<table border=\"1\" class=\"dataframe\">\n",
              "  <thead>\n",
              "    <tr style=\"text-align: right;\">\n",
              "      <th></th>\n",
              "      <th>Date_of_PreShoot</th>\n",
              "      <th>Session_Fee</th>\n",
              "      <th>Hair</th>\n",
              "      <th>DOB</th>\n",
              "      <th>zip_code</th>\n",
              "      <th>Sales_total</th>\n",
              "      <th>Model Release</th>\n",
              "      <th>Favorite</th>\n",
              "      <th>Age_at_Shoot_Date</th>\n",
              "    </tr>\n",
              "  </thead>\n",
              "  <tbody>\n",
              "    <tr>\n",
              "      <th>0</th>\n",
              "      <td>2017-01-05</td>\n",
              "      <td>99</td>\n",
              "      <td>yes</td>\n",
              "      <td>1976-05-05</td>\n",
              "      <td>32208</td>\n",
              "      <td>600</td>\n",
              "      <td>yes</td>\n",
              "      <td>butt</td>\n",
              "      <td>40</td>\n",
              "    </tr>\n",
              "    <tr>\n",
              "      <th>1</th>\n",
              "      <td>2017-11-02</td>\n",
              "      <td>99</td>\n",
              "      <td>yes</td>\n",
              "      <td>1984-10-16</td>\n",
              "      <td>32082</td>\n",
              "      <td>400</td>\n",
              "      <td>no</td>\n",
              "      <td>butt, eyes</td>\n",
              "      <td>33</td>\n",
              "    </tr>\n",
              "  </tbody>\n",
              "</table>\n",
              "</div>"
            ],
            "text/plain": [
              "  Date_of_PreShoot Session_Fee  ...    Favorite Age_at_Shoot_Date\n",
              "0       2017-01-05          99  ...        butt                40\n",
              "1       2017-11-02          99  ...  butt, eyes                33\n",
              "\n",
              "[2 rows x 9 columns]"
            ]
          },
          "metadata": {
            "tags": []
          },
          "execution_count": 61
        }
      ]
    },
    {
      "cell_type": "code",
      "metadata": {
        "id": "raYhcSmO44pw",
        "colab_type": "code",
        "colab": {
          "base_uri": "https://localhost:8080/",
          "height": 51
        },
        "outputId": "c1362c30-66ba-4a2b-d46b-44b6dc7636bb"
      },
      "source": [
        "dnd_sales_df[\"Age_at_Shoot_Date\"].mode()"
      ],
      "execution_count": 62,
      "outputs": [
        {
          "output_type": "execute_result",
          "data": {
            "text/plain": [
              "0    25\n",
              "dtype: int64"
            ]
          },
          "metadata": {
            "tags": []
          },
          "execution_count": 62
        }
      ]
    },
    {
      "cell_type": "code",
      "metadata": {
        "id": "15SZqpSi6-l9",
        "colab_type": "code",
        "colab": {
          "base_uri": "https://localhost:8080/",
          "height": 816
        },
        "outputId": "75a8f8a0-619d-4e82-9051-f66194788c63"
      },
      "source": [
        "dnd_sales_df[\"Age_at_Shoot_Date\"].value_counts()"
      ],
      "execution_count": 63,
      "outputs": [
        {
          "output_type": "execute_result",
          "data": {
            "text/plain": [
              "25    21\n",
              "26    18\n",
              "33    17\n",
              "35    17\n",
              "27    15\n",
              "28    14\n",
              "23    14\n",
              "32    13\n",
              "38    13\n",
              "34    12\n",
              "31    12\n",
              "30    10\n",
              "36    10\n",
              "29    10\n",
              "24     9\n",
              "39     9\n",
              "41     8\n",
              "40     8\n",
              "22     7\n",
              "50     6\n",
              "21     6\n",
              "44     6\n",
              "37     6\n",
              "20     5\n",
              "42     5\n",
              "43     5\n",
              "46     5\n",
              "48     5\n",
              "52     4\n",
              "45     4\n",
              "56     4\n",
              "54     4\n",
              "58     3\n",
              "51     3\n",
              "19     2\n",
              "49     2\n",
              "53     2\n",
              "59     2\n",
              "65     2\n",
              "66     1\n",
              "47     1\n",
              "57     1\n",
              "60     1\n",
              "61     1\n",
              "63     1\n",
              "72     1\n",
              "Name: Age_at_Shoot_Date, dtype: int64"
            ]
          },
          "metadata": {
            "tags": []
          },
          "execution_count": 63
        }
      ]
    },
    {
      "cell_type": "code",
      "metadata": {
        "id": "1ckSOXss6M1k",
        "colab_type": "code",
        "colab": {
          "base_uri": "https://localhost:8080/",
          "height": 170
        },
        "outputId": "bffb517a-a93e-480e-c7bf-2fd3202cf67f"
      },
      "source": [
        "dnd_sales_df[\"Age_at_Shoot_Date\"].describe()"
      ],
      "execution_count": 64,
      "outputs": [
        {
          "output_type": "execute_result",
          "data": {
            "text/plain": [
              "count    325.000000\n",
              "mean      34.630769\n",
              "std       10.251120\n",
              "min       19.000000\n",
              "25%       26.000000\n",
              "50%       33.000000\n",
              "75%       40.000000\n",
              "max       72.000000\n",
              "Name: Age_at_Shoot_Date, dtype: float64"
            ]
          },
          "metadata": {
            "tags": []
          },
          "execution_count": 64
        }
      ]
    },
    {
      "cell_type": "code",
      "metadata": {
        "id": "FSz024kKbhzH",
        "colab_type": "code",
        "colab": {}
      },
      "source": [
        ""
      ],
      "execution_count": 64,
      "outputs": []
    },
    {
      "cell_type": "code",
      "metadata": {
        "id": "US5uuAUQ7HRc",
        "colab_type": "code",
        "colab": {}
      },
      "source": [
        "# bin the age into categories\n",
        "cut_labels_10 = [\"18-25\", \"26-30\", \"31-35\", \"36-40\", \"41-45\", \"46-50\", \"51-55\",\n",
        "                \"56-60\", \"61-65\", \"66-72\"]\n",
        "cut_bins = [0, 25, 30, 35, 40, 45, 50, 55, 60, 65, 72]\n",
        "\n",
        "dnd_sales_df[\"Age_Range\"] = pd.cut(dnd_sales_df[\"Age_at_Shoot_Date\"], bins=cut_bins,\n",
        "                                   labels=cut_labels_10)"
      ],
      "execution_count": 65,
      "outputs": []
    },
    {
      "cell_type": "code",
      "metadata": {
        "id": "OAmpve1N4IYz",
        "colab_type": "code",
        "colab": {
          "base_uri": "https://localhost:8080/",
          "height": 111
        },
        "outputId": "dca822bc-5307-44e4-e157-3fc5aea0476d"
      },
      "source": [
        "dnd_sales_df.head(2)"
      ],
      "execution_count": 66,
      "outputs": [
        {
          "output_type": "execute_result",
          "data": {
            "text/html": [
              "<div>\n",
              "<style scoped>\n",
              "    .dataframe tbody tr th:only-of-type {\n",
              "        vertical-align: middle;\n",
              "    }\n",
              "\n",
              "    .dataframe tbody tr th {\n",
              "        vertical-align: top;\n",
              "    }\n",
              "\n",
              "    .dataframe thead th {\n",
              "        text-align: right;\n",
              "    }\n",
              "</style>\n",
              "<table border=\"1\" class=\"dataframe\">\n",
              "  <thead>\n",
              "    <tr style=\"text-align: right;\">\n",
              "      <th></th>\n",
              "      <th>Date_of_PreShoot</th>\n",
              "      <th>Session_Fee</th>\n",
              "      <th>Hair</th>\n",
              "      <th>DOB</th>\n",
              "      <th>zip_code</th>\n",
              "      <th>Sales_total</th>\n",
              "      <th>Model Release</th>\n",
              "      <th>Favorite</th>\n",
              "      <th>Age_at_Shoot_Date</th>\n",
              "      <th>Age_Range</th>\n",
              "    </tr>\n",
              "  </thead>\n",
              "  <tbody>\n",
              "    <tr>\n",
              "      <th>0</th>\n",
              "      <td>2017-01-05</td>\n",
              "      <td>99</td>\n",
              "      <td>yes</td>\n",
              "      <td>1976-05-05</td>\n",
              "      <td>32208</td>\n",
              "      <td>600</td>\n",
              "      <td>yes</td>\n",
              "      <td>butt</td>\n",
              "      <td>40</td>\n",
              "      <td>36-40</td>\n",
              "    </tr>\n",
              "    <tr>\n",
              "      <th>1</th>\n",
              "      <td>2017-11-02</td>\n",
              "      <td>99</td>\n",
              "      <td>yes</td>\n",
              "      <td>1984-10-16</td>\n",
              "      <td>32082</td>\n",
              "      <td>400</td>\n",
              "      <td>no</td>\n",
              "      <td>butt, eyes</td>\n",
              "      <td>33</td>\n",
              "      <td>31-35</td>\n",
              "    </tr>\n",
              "  </tbody>\n",
              "</table>\n",
              "</div>"
            ],
            "text/plain": [
              "  Date_of_PreShoot Session_Fee Hair  ...    Favorite Age_at_Shoot_Date  Age_Range\n",
              "0       2017-01-05          99  yes  ...        butt                40      36-40\n",
              "1       2017-11-02          99  yes  ...  butt, eyes                33      31-35\n",
              "\n",
              "[2 rows x 10 columns]"
            ]
          },
          "metadata": {
            "tags": []
          },
          "execution_count": 66
        }
      ]
    },
    {
      "cell_type": "code",
      "metadata": {
        "id": "sJvCqJmH0mu5",
        "colab_type": "code",
        "colab": {
          "base_uri": "https://localhost:8080/",
          "height": 204
        },
        "outputId": "f2a20494-98bc-4925-b19a-b34effa3da26"
      },
      "source": [
        "# just to get a look at the new Age Range feature\n",
        "dnd_sales_df[\"Age_Range\"].value_counts().sort_index()"
      ],
      "execution_count": 67,
      "outputs": [
        {
          "output_type": "execute_result",
          "data": {
            "text/plain": [
              "18-25    64\n",
              "26-30    67\n",
              "31-35    71\n",
              "36-40    46\n",
              "41-45    28\n",
              "46-50    19\n",
              "51-55    13\n",
              "56-60    11\n",
              "61-65     4\n",
              "66-72     2\n",
              "Name: Age_Range, dtype: int64"
            ]
          },
          "metadata": {
            "tags": []
          },
          "execution_count": 67
        }
      ]
    },
    {
      "cell_type": "code",
      "metadata": {
        "id": "eHWVp2lqdh6I",
        "colab_type": "code",
        "colab": {}
      },
      "source": [
        ""
      ],
      "execution_count": 67,
      "outputs": []
    },
    {
      "cell_type": "code",
      "metadata": {
        "id": "6_06SfrSdIc8",
        "colab_type": "code",
        "colab": {}
      },
      "source": [
        ""
      ],
      "execution_count": 67,
      "outputs": []
    },
    {
      "cell_type": "code",
      "metadata": {
        "id": "peVHlFz8A_j9",
        "colab_type": "code",
        "colab": {
          "base_uri": "https://localhost:8080/",
          "height": 297
        },
        "outputId": "e6261066-e86f-47da-ff20-9e86d0597049"
      },
      "source": [
        "# change Session_Fee\n",
        "dnd_sales_df[\"Session_Fee\"]= dnd_sales_df[\"Session_Fee\"].astype(str).astype(int)\n",
        "dnd_sales_df.describe()"
      ],
      "execution_count": 68,
      "outputs": [
        {
          "output_type": "execute_result",
          "data": {
            "text/html": [
              "<div>\n",
              "<style scoped>\n",
              "    .dataframe tbody tr th:only-of-type {\n",
              "        vertical-align: middle;\n",
              "    }\n",
              "\n",
              "    .dataframe tbody tr th {\n",
              "        vertical-align: top;\n",
              "    }\n",
              "\n",
              "    .dataframe thead th {\n",
              "        text-align: right;\n",
              "    }\n",
              "</style>\n",
              "<table border=\"1\" class=\"dataframe\">\n",
              "  <thead>\n",
              "    <tr style=\"text-align: right;\">\n",
              "      <th></th>\n",
              "      <th>Session_Fee</th>\n",
              "      <th>Sales_total</th>\n",
              "      <th>Age_at_Shoot_Date</th>\n",
              "    </tr>\n",
              "  </thead>\n",
              "  <tbody>\n",
              "    <tr>\n",
              "      <th>count</th>\n",
              "      <td>325.000000</td>\n",
              "      <td>325.000000</td>\n",
              "      <td>325.000000</td>\n",
              "    </tr>\n",
              "    <tr>\n",
              "      <th>mean</th>\n",
              "      <td>96.661538</td>\n",
              "      <td>738.095385</td>\n",
              "      <td>34.630769</td>\n",
              "    </tr>\n",
              "    <tr>\n",
              "      <th>std</th>\n",
              "      <td>43.553670</td>\n",
              "      <td>475.472871</td>\n",
              "      <td>10.251120</td>\n",
              "    </tr>\n",
              "    <tr>\n",
              "      <th>min</th>\n",
              "      <td>0.000000</td>\n",
              "      <td>0.000000</td>\n",
              "      <td>19.000000</td>\n",
              "    </tr>\n",
              "    <tr>\n",
              "      <th>25%</th>\n",
              "      <td>99.000000</td>\n",
              "      <td>580.000000</td>\n",
              "      <td>26.000000</td>\n",
              "    </tr>\n",
              "    <tr>\n",
              "      <th>50%</th>\n",
              "      <td>99.000000</td>\n",
              "      <td>600.000000</td>\n",
              "      <td>33.000000</td>\n",
              "    </tr>\n",
              "    <tr>\n",
              "      <th>75%</th>\n",
              "      <td>99.000000</td>\n",
              "      <td>950.000000</td>\n",
              "      <td>40.000000</td>\n",
              "    </tr>\n",
              "    <tr>\n",
              "      <th>max</th>\n",
              "      <td>249.000000</td>\n",
              "      <td>3000.000000</td>\n",
              "      <td>72.000000</td>\n",
              "    </tr>\n",
              "  </tbody>\n",
              "</table>\n",
              "</div>"
            ],
            "text/plain": [
              "       Session_Fee  Sales_total  Age_at_Shoot_Date\n",
              "count   325.000000   325.000000         325.000000\n",
              "mean     96.661538   738.095385          34.630769\n",
              "std      43.553670   475.472871          10.251120\n",
              "min       0.000000     0.000000          19.000000\n",
              "25%      99.000000   580.000000          26.000000\n",
              "50%      99.000000   600.000000          33.000000\n",
              "75%      99.000000   950.000000          40.000000\n",
              "max     249.000000  3000.000000          72.000000"
            ]
          },
          "metadata": {
            "tags": []
          },
          "execution_count": 68
        }
      ]
    },
    {
      "cell_type": "code",
      "metadata": {
        "id": "WSJi8UqhEUmy",
        "colab_type": "code",
        "colab": {
          "base_uri": "https://localhost:8080/",
          "height": 34
        },
        "outputId": "56f3e87f-8543-46a3-a939-1e1019f1b0e3"
      },
      "source": [
        "dnd_sales_df[\"Session_Fee\"].nunique()"
      ],
      "execution_count": 69,
      "outputs": [
        {
          "output_type": "execute_result",
          "data": {
            "text/plain": [
              "7"
            ]
          },
          "metadata": {
            "tags": []
          },
          "execution_count": 69
        }
      ]
    },
    {
      "cell_type": "code",
      "metadata": {
        "id": "qZL2CGf9Aeii",
        "colab_type": "code",
        "colab": {
          "base_uri": "https://localhost:8080/",
          "height": 153
        },
        "outputId": "b8348728-fb16-4842-ad78-0177c28136da"
      },
      "source": [
        "dnd_sales_df[\"Session_Fee\"].value_counts()"
      ],
      "execution_count": 70,
      "outputs": [
        {
          "output_type": "execute_result",
          "data": {
            "text/plain": [
              "99     231\n",
              "25      51\n",
              "179     34\n",
              "249      4\n",
              "0        3\n",
              "100      1\n",
              "89       1\n",
              "Name: Session_Fee, dtype: int64"
            ]
          },
          "metadata": {
            "tags": []
          },
          "execution_count": 70
        }
      ]
    },
    {
      "cell_type": "code",
      "metadata": {
        "id": "Aa6acLjcMx52",
        "colab_type": "code",
        "colab": {}
      },
      "source": [
        ""
      ],
      "execution_count": 70,
      "outputs": []
    },
    {
      "cell_type": "code",
      "metadata": {
        "id": "F14_V_4dPACq",
        "colab_type": "code",
        "colab": {
          "base_uri": "https://localhost:8080/",
          "height": 34
        },
        "outputId": "3e361e79-11cc-43b4-8d15-e8345f4f121b"
      },
      "source": [
        "# check the preshoot column\n",
        "dnd_sales_df[\"Date_of_PreShoot\"].nunique()"
      ],
      "execution_count": 71,
      "outputs": [
        {
          "output_type": "execute_result",
          "data": {
            "text/plain": [
              "266"
            ]
          },
          "metadata": {
            "tags": []
          },
          "execution_count": 71
        }
      ]
    },
    {
      "cell_type": "code",
      "metadata": {
        "id": "ffjmuL_pPuvt",
        "colab_type": "code",
        "colab": {
          "base_uri": "https://localhost:8080/",
          "height": 34
        },
        "outputId": "90baef6a-6336-49eb-f77b-55176ff651e2"
      },
      "source": [
        "dnd_sales_df[\"Date_of_PreShoot\"].isnull().sum()"
      ],
      "execution_count": 72,
      "outputs": [
        {
          "output_type": "execute_result",
          "data": {
            "text/plain": [
              "0"
            ]
          },
          "metadata": {
            "tags": []
          },
          "execution_count": 72
        }
      ]
    },
    {
      "cell_type": "code",
      "metadata": {
        "id": "iPLbfwH5RM5_",
        "colab_type": "code",
        "colab": {
          "base_uri": "https://localhost:8080/",
          "height": 306
        },
        "outputId": "47e1e589-4cb7-45ba-e072-56ccebc6616e"
      },
      "source": [
        "dnd_sales_df.info()"
      ],
      "execution_count": 73,
      "outputs": [
        {
          "output_type": "stream",
          "text": [
            "<class 'pandas.core.frame.DataFrame'>\n",
            "Int64Index: 325 entries, 0 to 423\n",
            "Data columns (total 10 columns):\n",
            " #   Column             Non-Null Count  Dtype         \n",
            "---  ------             --------------  -----         \n",
            " 0   Date_of_PreShoot   325 non-null    datetime64[ns]\n",
            " 1   Session_Fee        325 non-null    int64         \n",
            " 2   Hair               325 non-null    object        \n",
            " 3   DOB                325 non-null    datetime64[ns]\n",
            " 4   zip_code           325 non-null    object        \n",
            " 5   Sales_total        325 non-null    int64         \n",
            " 6   Model Release      317 non-null    object        \n",
            " 7   Favorite           325 non-null    object        \n",
            " 8   Age_at_Shoot_Date  325 non-null    int64         \n",
            " 9   Age_Range          325 non-null    category      \n",
            "dtypes: category(1), datetime64[ns](2), int64(3), object(4)\n",
            "memory usage: 36.1+ KB\n"
          ],
          "name": "stdout"
        }
      ]
    },
    {
      "cell_type": "code",
      "metadata": {
        "id": "aSg8CHtCRics",
        "colab_type": "code",
        "colab": {
          "base_uri": "https://localhost:8080/",
          "height": 204
        },
        "outputId": "06e45ee9-4a9e-45fd-f891-8f780b50e575"
      },
      "source": [
        "dnd_sales_df.head()"
      ],
      "execution_count": 74,
      "outputs": [
        {
          "output_type": "execute_result",
          "data": {
            "text/html": [
              "<div>\n",
              "<style scoped>\n",
              "    .dataframe tbody tr th:only-of-type {\n",
              "        vertical-align: middle;\n",
              "    }\n",
              "\n",
              "    .dataframe tbody tr th {\n",
              "        vertical-align: top;\n",
              "    }\n",
              "\n",
              "    .dataframe thead th {\n",
              "        text-align: right;\n",
              "    }\n",
              "</style>\n",
              "<table border=\"1\" class=\"dataframe\">\n",
              "  <thead>\n",
              "    <tr style=\"text-align: right;\">\n",
              "      <th></th>\n",
              "      <th>Date_of_PreShoot</th>\n",
              "      <th>Session_Fee</th>\n",
              "      <th>Hair</th>\n",
              "      <th>DOB</th>\n",
              "      <th>zip_code</th>\n",
              "      <th>Sales_total</th>\n",
              "      <th>Model Release</th>\n",
              "      <th>Favorite</th>\n",
              "      <th>Age_at_Shoot_Date</th>\n",
              "      <th>Age_Range</th>\n",
              "    </tr>\n",
              "  </thead>\n",
              "  <tbody>\n",
              "    <tr>\n",
              "      <th>0</th>\n",
              "      <td>2017-01-05</td>\n",
              "      <td>99</td>\n",
              "      <td>yes</td>\n",
              "      <td>1976-05-05</td>\n",
              "      <td>32208</td>\n",
              "      <td>600</td>\n",
              "      <td>yes</td>\n",
              "      <td>butt</td>\n",
              "      <td>40</td>\n",
              "      <td>36-40</td>\n",
              "    </tr>\n",
              "    <tr>\n",
              "      <th>1</th>\n",
              "      <td>2017-11-02</td>\n",
              "      <td>99</td>\n",
              "      <td>yes</td>\n",
              "      <td>1984-10-16</td>\n",
              "      <td>32082</td>\n",
              "      <td>400</td>\n",
              "      <td>no</td>\n",
              "      <td>butt, eyes</td>\n",
              "      <td>33</td>\n",
              "      <td>31-35</td>\n",
              "    </tr>\n",
              "    <tr>\n",
              "      <th>2</th>\n",
              "      <td>2017-06-29</td>\n",
              "      <td>99</td>\n",
              "      <td>yes</td>\n",
              "      <td>1989-07-22</td>\n",
              "      <td>32080</td>\n",
              "      <td>320</td>\n",
              "      <td>no</td>\n",
              "      <td>eyes, hair, legs</td>\n",
              "      <td>27</td>\n",
              "      <td>26-30</td>\n",
              "    </tr>\n",
              "    <tr>\n",
              "      <th>3</th>\n",
              "      <td>2017-01-23</td>\n",
              "      <td>99</td>\n",
              "      <td>no</td>\n",
              "      <td>1971-01-23</td>\n",
              "      <td>32208</td>\n",
              "      <td>720</td>\n",
              "      <td>yes</td>\n",
              "      <td>boobs</td>\n",
              "      <td>46</td>\n",
              "      <td>46-50</td>\n",
              "    </tr>\n",
              "    <tr>\n",
              "      <th>5</th>\n",
              "      <td>2014-09-14</td>\n",
              "      <td>99</td>\n",
              "      <td>yes</td>\n",
              "      <td>1982-11-03</td>\n",
              "      <td>32257</td>\n",
              "      <td>1320</td>\n",
              "      <td>no</td>\n",
              "      <td>butt</td>\n",
              "      <td>31</td>\n",
              "      <td>31-35</td>\n",
              "    </tr>\n",
              "  </tbody>\n",
              "</table>\n",
              "</div>"
            ],
            "text/plain": [
              "  Date_of_PreShoot  Session_Fee  ... Age_at_Shoot_Date Age_Range\n",
              "0       2017-01-05           99  ...                40     36-40\n",
              "1       2017-11-02           99  ...                33     31-35\n",
              "2       2017-06-29           99  ...                27     26-30\n",
              "3       2017-01-23           99  ...                46     46-50\n",
              "5       2014-09-14           99  ...                31     31-35\n",
              "\n",
              "[5 rows x 10 columns]"
            ]
          },
          "metadata": {
            "tags": []
          },
          "execution_count": 74
        }
      ]
    },
    {
      "cell_type": "code",
      "metadata": {
        "id": "vEAI4y4ye-Ea",
        "colab_type": "code",
        "colab": {
          "base_uri": "https://localhost:8080/",
          "height": 204
        },
        "outputId": "ebda06cb-c218-4c36-dec8-9f35c0b637a8"
      },
      "source": [
        "# drop Model Release Feature\n",
        "dnd_sales_df = dnd_sales_df.drop(labels=\"Model Release\",axis=1)\n",
        "dnd_sales_df.head()"
      ],
      "execution_count": 75,
      "outputs": [
        {
          "output_type": "execute_result",
          "data": {
            "text/html": [
              "<div>\n",
              "<style scoped>\n",
              "    .dataframe tbody tr th:only-of-type {\n",
              "        vertical-align: middle;\n",
              "    }\n",
              "\n",
              "    .dataframe tbody tr th {\n",
              "        vertical-align: top;\n",
              "    }\n",
              "\n",
              "    .dataframe thead th {\n",
              "        text-align: right;\n",
              "    }\n",
              "</style>\n",
              "<table border=\"1\" class=\"dataframe\">\n",
              "  <thead>\n",
              "    <tr style=\"text-align: right;\">\n",
              "      <th></th>\n",
              "      <th>Date_of_PreShoot</th>\n",
              "      <th>Session_Fee</th>\n",
              "      <th>Hair</th>\n",
              "      <th>DOB</th>\n",
              "      <th>zip_code</th>\n",
              "      <th>Sales_total</th>\n",
              "      <th>Favorite</th>\n",
              "      <th>Age_at_Shoot_Date</th>\n",
              "      <th>Age_Range</th>\n",
              "    </tr>\n",
              "  </thead>\n",
              "  <tbody>\n",
              "    <tr>\n",
              "      <th>0</th>\n",
              "      <td>2017-01-05</td>\n",
              "      <td>99</td>\n",
              "      <td>yes</td>\n",
              "      <td>1976-05-05</td>\n",
              "      <td>32208</td>\n",
              "      <td>600</td>\n",
              "      <td>butt</td>\n",
              "      <td>40</td>\n",
              "      <td>36-40</td>\n",
              "    </tr>\n",
              "    <tr>\n",
              "      <th>1</th>\n",
              "      <td>2017-11-02</td>\n",
              "      <td>99</td>\n",
              "      <td>yes</td>\n",
              "      <td>1984-10-16</td>\n",
              "      <td>32082</td>\n",
              "      <td>400</td>\n",
              "      <td>butt, eyes</td>\n",
              "      <td>33</td>\n",
              "      <td>31-35</td>\n",
              "    </tr>\n",
              "    <tr>\n",
              "      <th>2</th>\n",
              "      <td>2017-06-29</td>\n",
              "      <td>99</td>\n",
              "      <td>yes</td>\n",
              "      <td>1989-07-22</td>\n",
              "      <td>32080</td>\n",
              "      <td>320</td>\n",
              "      <td>eyes, hair, legs</td>\n",
              "      <td>27</td>\n",
              "      <td>26-30</td>\n",
              "    </tr>\n",
              "    <tr>\n",
              "      <th>3</th>\n",
              "      <td>2017-01-23</td>\n",
              "      <td>99</td>\n",
              "      <td>no</td>\n",
              "      <td>1971-01-23</td>\n",
              "      <td>32208</td>\n",
              "      <td>720</td>\n",
              "      <td>boobs</td>\n",
              "      <td>46</td>\n",
              "      <td>46-50</td>\n",
              "    </tr>\n",
              "    <tr>\n",
              "      <th>5</th>\n",
              "      <td>2014-09-14</td>\n",
              "      <td>99</td>\n",
              "      <td>yes</td>\n",
              "      <td>1982-11-03</td>\n",
              "      <td>32257</td>\n",
              "      <td>1320</td>\n",
              "      <td>butt</td>\n",
              "      <td>31</td>\n",
              "      <td>31-35</td>\n",
              "    </tr>\n",
              "  </tbody>\n",
              "</table>\n",
              "</div>"
            ],
            "text/plain": [
              "  Date_of_PreShoot  Session_Fee  ... Age_at_Shoot_Date Age_Range\n",
              "0       2017-01-05           99  ...                40     36-40\n",
              "1       2017-11-02           99  ...                33     31-35\n",
              "2       2017-06-29           99  ...                27     26-30\n",
              "3       2017-01-23           99  ...                46     46-50\n",
              "5       2014-09-14           99  ...                31     31-35\n",
              "\n",
              "[5 rows x 9 columns]"
            ]
          },
          "metadata": {
            "tags": []
          },
          "execution_count": 75
        }
      ]
    },
    {
      "cell_type": "code",
      "metadata": {
        "id": "lwKJcb9hR-uZ",
        "colab_type": "code",
        "colab": {
          "base_uri": "https://localhost:8080/",
          "height": 221
        },
        "outputId": "4f54bdd7-78c6-4098-9a78-4a18e822e576"
      },
      "source": [
        "dnd_sales_df[\"zip_code\"].value_counts()"
      ],
      "execution_count": 76,
      "outputs": [
        {
          "output_type": "execute_result",
          "data": {
            "text/plain": [
              "32218    19\n",
              "32246    15\n",
              "32256    15\n",
              "32258    15\n",
              "32216    14\n",
              "         ..\n",
              "32135     1\n",
              "32038     1\n",
              "32043     1\n",
              "32004     1\n",
              "32312     1\n",
              "Name: zip_code, Length: 76, dtype: int64"
            ]
          },
          "metadata": {
            "tags": []
          },
          "execution_count": 76
        }
      ]
    },
    {
      "cell_type": "code",
      "metadata": {
        "id": "rtd6_tJNSPM2",
        "colab_type": "code",
        "colab": {
          "base_uri": "https://localhost:8080/",
          "height": 34
        },
        "outputId": "986d6082-3e4f-40c1-92a5-04f993ea9d64"
      },
      "source": [
        "dnd_sales_df[\"zip_code\"].isnull().sum()"
      ],
      "execution_count": 77,
      "outputs": [
        {
          "output_type": "execute_result",
          "data": {
            "text/plain": [
              "0"
            ]
          },
          "metadata": {
            "tags": []
          },
          "execution_count": 77
        }
      ]
    },
    {
      "cell_type": "code",
      "metadata": {
        "id": "XHwYW153Ms2m",
        "colab_type": "code",
        "colab": {}
      },
      "source": [
        ""
      ],
      "execution_count": 77,
      "outputs": []
    },
    {
      "cell_type": "code",
      "metadata": {
        "id": "C7Osf18dqULv",
        "colab_type": "code",
        "colab": {}
      },
      "source": [
        "# num_cols = [dnd_sales_df.columns[0], dnd_sales_df.columns[1], dnd_sales_df.columns[5]]"
      ],
      "execution_count": 78,
      "outputs": []
    },
    {
      "cell_type": "code",
      "metadata": {
        "id": "HgwWVpFiqyLR",
        "colab_type": "code",
        "colab": {}
      },
      "source": [
        "# try to convert columns to \"category\" data type\n",
        "# dnd_sales_df[num_cols] = dnd_sales_df[num_cols].astype(\"category\")"
      ],
      "execution_count": 79,
      "outputs": []
    },
    {
      "cell_type": "code",
      "metadata": {
        "id": "ONuCv9oOsGMH",
        "colab_type": "code",
        "colab": {
          "base_uri": "https://localhost:8080/",
          "height": 187
        },
        "outputId": "b49f43cd-1750-4029-d3f4-2f0b6a175801"
      },
      "source": [
        "dnd_sales_df.dtypes"
      ],
      "execution_count": 80,
      "outputs": [
        {
          "output_type": "execute_result",
          "data": {
            "text/plain": [
              "Date_of_PreShoot     datetime64[ns]\n",
              "Session_Fee                   int64\n",
              "Hair                         object\n",
              "DOB                  datetime64[ns]\n",
              "zip_code                     object\n",
              "Sales_total                   int64\n",
              "Favorite                     object\n",
              "Age_at_Shoot_Date             int64\n",
              "Age_Range                  category\n",
              "dtype: object"
            ]
          },
          "metadata": {
            "tags": []
          },
          "execution_count": 80
        }
      ]
    },
    {
      "cell_type": "code",
      "metadata": {
        "id": "OWyKNKjmsMUk",
        "colab_type": "code",
        "colab": {}
      },
      "source": [
        "# for col in num_cols:\n",
        "#   dnd_sales_df[col] = dnd_sales_df[col].cat.codes\n",
        "\n",
        "# print(dnd_sales_df.shape)\n",
        "# dnd_sales_df.head"
      ],
      "execution_count": 81,
      "outputs": []
    },
    {
      "cell_type": "code",
      "metadata": {
        "id": "bQ5nFWQ3swK_",
        "colab_type": "code",
        "colab": {
          "base_uri": "https://localhost:8080/",
          "height": 297
        },
        "outputId": "c70ea607-dd92-49bf-cdca-d2b3a3c7c95c"
      },
      "source": [
        "dnd_sales_df.describe()"
      ],
      "execution_count": 82,
      "outputs": [
        {
          "output_type": "execute_result",
          "data": {
            "text/html": [
              "<div>\n",
              "<style scoped>\n",
              "    .dataframe tbody tr th:only-of-type {\n",
              "        vertical-align: middle;\n",
              "    }\n",
              "\n",
              "    .dataframe tbody tr th {\n",
              "        vertical-align: top;\n",
              "    }\n",
              "\n",
              "    .dataframe thead th {\n",
              "        text-align: right;\n",
              "    }\n",
              "</style>\n",
              "<table border=\"1\" class=\"dataframe\">\n",
              "  <thead>\n",
              "    <tr style=\"text-align: right;\">\n",
              "      <th></th>\n",
              "      <th>Session_Fee</th>\n",
              "      <th>Sales_total</th>\n",
              "      <th>Age_at_Shoot_Date</th>\n",
              "    </tr>\n",
              "  </thead>\n",
              "  <tbody>\n",
              "    <tr>\n",
              "      <th>count</th>\n",
              "      <td>325.000000</td>\n",
              "      <td>325.000000</td>\n",
              "      <td>325.000000</td>\n",
              "    </tr>\n",
              "    <tr>\n",
              "      <th>mean</th>\n",
              "      <td>96.661538</td>\n",
              "      <td>738.095385</td>\n",
              "      <td>34.630769</td>\n",
              "    </tr>\n",
              "    <tr>\n",
              "      <th>std</th>\n",
              "      <td>43.553670</td>\n",
              "      <td>475.472871</td>\n",
              "      <td>10.251120</td>\n",
              "    </tr>\n",
              "    <tr>\n",
              "      <th>min</th>\n",
              "      <td>0.000000</td>\n",
              "      <td>0.000000</td>\n",
              "      <td>19.000000</td>\n",
              "    </tr>\n",
              "    <tr>\n",
              "      <th>25%</th>\n",
              "      <td>99.000000</td>\n",
              "      <td>580.000000</td>\n",
              "      <td>26.000000</td>\n",
              "    </tr>\n",
              "    <tr>\n",
              "      <th>50%</th>\n",
              "      <td>99.000000</td>\n",
              "      <td>600.000000</td>\n",
              "      <td>33.000000</td>\n",
              "    </tr>\n",
              "    <tr>\n",
              "      <th>75%</th>\n",
              "      <td>99.000000</td>\n",
              "      <td>950.000000</td>\n",
              "      <td>40.000000</td>\n",
              "    </tr>\n",
              "    <tr>\n",
              "      <th>max</th>\n",
              "      <td>249.000000</td>\n",
              "      <td>3000.000000</td>\n",
              "      <td>72.000000</td>\n",
              "    </tr>\n",
              "  </tbody>\n",
              "</table>\n",
              "</div>"
            ],
            "text/plain": [
              "       Session_Fee  Sales_total  Age_at_Shoot_Date\n",
              "count   325.000000   325.000000         325.000000\n",
              "mean     96.661538   738.095385          34.630769\n",
              "std      43.553670   475.472871          10.251120\n",
              "min       0.000000     0.000000          19.000000\n",
              "25%      99.000000   580.000000          26.000000\n",
              "50%      99.000000   600.000000          33.000000\n",
              "75%      99.000000   950.000000          40.000000\n",
              "max     249.000000  3000.000000          72.000000"
            ]
          },
          "metadata": {
            "tags": []
          },
          "execution_count": 82
        }
      ]
    },
    {
      "cell_type": "code",
      "metadata": {
        "id": "z5EgjfM1s5bW",
        "colab_type": "code",
        "colab": {
          "base_uri": "https://localhost:8080/",
          "height": 359
        },
        "outputId": "67bc6107-3efd-4b66-be66-f8907827425c"
      },
      "source": [
        "dnd_sales_df.head(10)"
      ],
      "execution_count": 83,
      "outputs": [
        {
          "output_type": "execute_result",
          "data": {
            "text/html": [
              "<div>\n",
              "<style scoped>\n",
              "    .dataframe tbody tr th:only-of-type {\n",
              "        vertical-align: middle;\n",
              "    }\n",
              "\n",
              "    .dataframe tbody tr th {\n",
              "        vertical-align: top;\n",
              "    }\n",
              "\n",
              "    .dataframe thead th {\n",
              "        text-align: right;\n",
              "    }\n",
              "</style>\n",
              "<table border=\"1\" class=\"dataframe\">\n",
              "  <thead>\n",
              "    <tr style=\"text-align: right;\">\n",
              "      <th></th>\n",
              "      <th>Date_of_PreShoot</th>\n",
              "      <th>Session_Fee</th>\n",
              "      <th>Hair</th>\n",
              "      <th>DOB</th>\n",
              "      <th>zip_code</th>\n",
              "      <th>Sales_total</th>\n",
              "      <th>Favorite</th>\n",
              "      <th>Age_at_Shoot_Date</th>\n",
              "      <th>Age_Range</th>\n",
              "    </tr>\n",
              "  </thead>\n",
              "  <tbody>\n",
              "    <tr>\n",
              "      <th>0</th>\n",
              "      <td>2017-01-05</td>\n",
              "      <td>99</td>\n",
              "      <td>yes</td>\n",
              "      <td>1976-05-05</td>\n",
              "      <td>32208</td>\n",
              "      <td>600</td>\n",
              "      <td>butt</td>\n",
              "      <td>40</td>\n",
              "      <td>36-40</td>\n",
              "    </tr>\n",
              "    <tr>\n",
              "      <th>1</th>\n",
              "      <td>2017-11-02</td>\n",
              "      <td>99</td>\n",
              "      <td>yes</td>\n",
              "      <td>1984-10-16</td>\n",
              "      <td>32082</td>\n",
              "      <td>400</td>\n",
              "      <td>butt, eyes</td>\n",
              "      <td>33</td>\n",
              "      <td>31-35</td>\n",
              "    </tr>\n",
              "    <tr>\n",
              "      <th>2</th>\n",
              "      <td>2017-06-29</td>\n",
              "      <td>99</td>\n",
              "      <td>yes</td>\n",
              "      <td>1989-07-22</td>\n",
              "      <td>32080</td>\n",
              "      <td>320</td>\n",
              "      <td>eyes, hair, legs</td>\n",
              "      <td>27</td>\n",
              "      <td>26-30</td>\n",
              "    </tr>\n",
              "    <tr>\n",
              "      <th>3</th>\n",
              "      <td>2017-01-23</td>\n",
              "      <td>99</td>\n",
              "      <td>no</td>\n",
              "      <td>1971-01-23</td>\n",
              "      <td>32208</td>\n",
              "      <td>720</td>\n",
              "      <td>boobs</td>\n",
              "      <td>46</td>\n",
              "      <td>46-50</td>\n",
              "    </tr>\n",
              "    <tr>\n",
              "      <th>5</th>\n",
              "      <td>2014-09-14</td>\n",
              "      <td>99</td>\n",
              "      <td>yes</td>\n",
              "      <td>1982-11-03</td>\n",
              "      <td>32257</td>\n",
              "      <td>1320</td>\n",
              "      <td>butt</td>\n",
              "      <td>31</td>\n",
              "      <td>31-35</td>\n",
              "    </tr>\n",
              "    <tr>\n",
              "      <th>6</th>\n",
              "      <td>2017-09-05</td>\n",
              "      <td>99</td>\n",
              "      <td>no</td>\n",
              "      <td>1996-01-24</td>\n",
              "      <td>32246</td>\n",
              "      <td>0</td>\n",
              "      <td>eyes</td>\n",
              "      <td>21</td>\n",
              "      <td>18-25</td>\n",
              "    </tr>\n",
              "    <tr>\n",
              "      <th>7</th>\n",
              "      <td>2015-08-14</td>\n",
              "      <td>179</td>\n",
              "      <td>no</td>\n",
              "      <td>1977-08-29</td>\n",
              "      <td>32221</td>\n",
              "      <td>240</td>\n",
              "      <td>no preference</td>\n",
              "      <td>37</td>\n",
              "      <td>36-40</td>\n",
              "    </tr>\n",
              "    <tr>\n",
              "      <th>9</th>\n",
              "      <td>2015-03-05</td>\n",
              "      <td>99</td>\n",
              "      <td>yes</td>\n",
              "      <td>1979-09-07</td>\n",
              "      <td>32277</td>\n",
              "      <td>720</td>\n",
              "      <td>boobs</td>\n",
              "      <td>35</td>\n",
              "      <td>31-35</td>\n",
              "    </tr>\n",
              "    <tr>\n",
              "      <th>10</th>\n",
              "      <td>2015-01-21</td>\n",
              "      <td>99</td>\n",
              "      <td>yes</td>\n",
              "      <td>1988-08-04</td>\n",
              "      <td>32258</td>\n",
              "      <td>680</td>\n",
              "      <td>eyes</td>\n",
              "      <td>26</td>\n",
              "      <td>26-30</td>\n",
              "    </tr>\n",
              "    <tr>\n",
              "      <th>12</th>\n",
              "      <td>2014-09-27</td>\n",
              "      <td>99</td>\n",
              "      <td>no</td>\n",
              "      <td>1969-11-10</td>\n",
              "      <td>32216</td>\n",
              "      <td>600</td>\n",
              "      <td>no preference</td>\n",
              "      <td>44</td>\n",
              "      <td>41-45</td>\n",
              "    </tr>\n",
              "  </tbody>\n",
              "</table>\n",
              "</div>"
            ],
            "text/plain": [
              "   Date_of_PreShoot  Session_Fee  ... Age_at_Shoot_Date Age_Range\n",
              "0        2017-01-05           99  ...                40     36-40\n",
              "1        2017-11-02           99  ...                33     31-35\n",
              "2        2017-06-29           99  ...                27     26-30\n",
              "3        2017-01-23           99  ...                46     46-50\n",
              "5        2014-09-14           99  ...                31     31-35\n",
              "6        2017-09-05           99  ...                21     18-25\n",
              "7        2015-08-14          179  ...                37     36-40\n",
              "9        2015-03-05           99  ...                35     31-35\n",
              "10       2015-01-21           99  ...                26     26-30\n",
              "12       2014-09-27           99  ...                44     41-45\n",
              "\n",
              "[10 rows x 9 columns]"
            ]
          },
          "metadata": {
            "tags": []
          },
          "execution_count": 83
        }
      ]
    },
    {
      "cell_type": "code",
      "metadata": {
        "id": "WIjjQ2rNh74d",
        "colab_type": "code",
        "colab": {
          "base_uri": "https://localhost:8080/",
          "height": 102
        },
        "outputId": "dfe51022-c588-4dd7-f672-299c3b87d69d"
      },
      "source": [
        "#fix the Hair column by string white space if needed\n",
        "dnd_sales_df[\"Hair\"].value_counts()\n"
      ],
      "execution_count": 84,
      "outputs": [
        {
          "output_type": "execute_result",
          "data": {
            "text/plain": [
              "no     229\n",
              "yes     94\n",
              "no       1\n",
              " no      1\n",
              "Name: Hair, dtype: int64"
            ]
          },
          "metadata": {
            "tags": []
          },
          "execution_count": 84
        }
      ]
    },
    {
      "cell_type": "code",
      "metadata": {
        "id": "xiWuWfghiTGb",
        "colab_type": "code",
        "colab": {}
      },
      "source": [
        "dnd_sales_df[\"Hair\"] = dnd_sales_df.loc[:, \"Hair\"].str.strip()"
      ],
      "execution_count": 85,
      "outputs": []
    },
    {
      "cell_type": "code",
      "metadata": {
        "id": "0ndhuo4xihNb",
        "colab_type": "code",
        "colab": {
          "base_uri": "https://localhost:8080/",
          "height": 68
        },
        "outputId": "903101f9-6c1d-45a5-84e9-abed2c61c0e0"
      },
      "source": [
        "# check to see if it worked\n",
        "dnd_sales_df[\"Hair\"].value_counts()"
      ],
      "execution_count": 86,
      "outputs": [
        {
          "output_type": "execute_result",
          "data": {
            "text/plain": [
              "no     231\n",
              "yes     94\n",
              "Name: Hair, dtype: int64"
            ]
          },
          "metadata": {
            "tags": []
          },
          "execution_count": 86
        }
      ]
    },
    {
      "cell_type": "code",
      "metadata": {
        "id": "94NtWgnnispx",
        "colab_type": "code",
        "colab": {
          "base_uri": "https://localhost:8080/",
          "height": 187
        },
        "outputId": "389fd386-d307-4f53-c632-945b7737614a"
      },
      "source": [
        "dnd_sales_df.dtypes"
      ],
      "execution_count": 87,
      "outputs": [
        {
          "output_type": "execute_result",
          "data": {
            "text/plain": [
              "Date_of_PreShoot     datetime64[ns]\n",
              "Session_Fee                   int64\n",
              "Hair                         object\n",
              "DOB                  datetime64[ns]\n",
              "zip_code                     object\n",
              "Sales_total                   int64\n",
              "Favorite                     object\n",
              "Age_at_Shoot_Date             int64\n",
              "Age_Range                  category\n",
              "dtype: object"
            ]
          },
          "metadata": {
            "tags": []
          },
          "execution_count": 87
        }
      ]
    },
    {
      "cell_type": "code",
      "metadata": {
        "id": "8cQtwDLmVCYu",
        "colab_type": "code",
        "colab": {}
      },
      "source": [
        "# change Hair to category\n",
        "dnd_sales_df[\"Hair\"] = dnd_sales_df[\"Hair\"].astype(\"category\")\n",
        "dnd_sales_df[\"zip_code\"] = dnd_sales_df[\"zip_code\"].astype(\"category\")"
      ],
      "execution_count": 88,
      "outputs": []
    },
    {
      "cell_type": "code",
      "metadata": {
        "id": "asJGg2PZkeAK",
        "colab_type": "code",
        "colab": {
          "base_uri": "https://localhost:8080/",
          "height": 187
        },
        "outputId": "b2f84539-e5d0-4b7d-eab1-1a9fdfb76005"
      },
      "source": [
        "dnd_sales_df.dtypes"
      ],
      "execution_count": 89,
      "outputs": [
        {
          "output_type": "execute_result",
          "data": {
            "text/plain": [
              "Date_of_PreShoot     datetime64[ns]\n",
              "Session_Fee                   int64\n",
              "Hair                       category\n",
              "DOB                  datetime64[ns]\n",
              "zip_code                   category\n",
              "Sales_total                   int64\n",
              "Favorite                     object\n",
              "Age_at_Shoot_Date             int64\n",
              "Age_Range                  category\n",
              "dtype: object"
            ]
          },
          "metadata": {
            "tags": []
          },
          "execution_count": 89
        }
      ]
    },
    {
      "cell_type": "code",
      "metadata": {
        "id": "zTKNI3m2mVuG",
        "colab_type": "code",
        "colab": {}
      },
      "source": [
        ""
      ],
      "execution_count": 89,
      "outputs": []
    },
    {
      "cell_type": "code",
      "metadata": {
        "id": "CF4-qH9Wklmr",
        "colab_type": "code",
        "colab": {}
      },
      "source": [
        ""
      ],
      "execution_count": 89,
      "outputs": []
    },
    {
      "cell_type": "code",
      "metadata": {
        "id": "pxYEjsPvWL2F",
        "colab_type": "code",
        "colab": {
          "base_uri": "https://localhost:8080/",
          "height": 51
        },
        "outputId": "43526152-f64a-4d0b-d959-c24fab30c3d5"
      },
      "source": [
        "# creat a condition that give zip codes that are above the mode\n",
        "dnd_sales_df[\"Sales_total\"].mode()"
      ],
      "execution_count": 90,
      "outputs": [
        {
          "output_type": "execute_result",
          "data": {
            "text/plain": [
              "0    600\n",
              "dtype: int64"
            ]
          },
          "metadata": {
            "tags": []
          },
          "execution_count": 90
        }
      ]
    },
    {
      "cell_type": "code",
      "metadata": {
        "id": "DXAWzE-urZZB",
        "colab_type": "code",
        "colab": {}
      },
      "source": [
        ""
      ],
      "execution_count": 90,
      "outputs": []
    },
    {
      "cell_type": "code",
      "metadata": {
        "id": "BQ1oN0BarsQh",
        "colab_type": "code",
        "colab": {
          "base_uri": "https://localhost:8080/",
          "height": 221
        },
        "outputId": "689db837-9157-423a-c2d8-11e19a3620fa"
      },
      "source": [
        "# zip code needs to be checked I think it might have spaces and stuff.\n",
        "dnd_sales_df[\"zip_code\"].value_counts()"
      ],
      "execution_count": 91,
      "outputs": [
        {
          "output_type": "execute_result",
          "data": {
            "text/plain": [
              "32218    19\n",
              "32258    15\n",
              "32256    15\n",
              "32246    15\n",
              "32216    14\n",
              "         ..\n",
              "32098     1\n",
              "32095     1\n",
              "32083     1\n",
              "32063     1\n",
              "30354     1\n",
              "Name: zip_code, Length: 76, dtype: int64"
            ]
          },
          "metadata": {
            "tags": []
          },
          "execution_count": 91
        }
      ]
    },
    {
      "cell_type": "code",
      "metadata": {
        "id": "R-fDSNnahH9y",
        "colab_type": "code",
        "colab": {}
      },
      "source": [
        "dnd_sales_df[\"zip_code\"] = dnd_sales_df[\"zip_code\"].str.strip()"
      ],
      "execution_count": 92,
      "outputs": []
    },
    {
      "cell_type": "code",
      "metadata": {
        "id": "VFt2Kh-Przhm",
        "colab_type": "code",
        "colab": {}
      },
      "source": [
        "dnd_sales_df[\"zip_code\"] = dnd_sales_df[\"zip_code\"].astype(\"category\")"
      ],
      "execution_count": 93,
      "outputs": []
    },
    {
      "cell_type": "code",
      "metadata": {
        "id": "XOKjn-fOr7qV",
        "colab_type": "code",
        "colab": {
          "base_uri": "https://localhost:8080/",
          "height": 289
        },
        "outputId": "ecd34e73-1e31-4caf-f7bd-2eac9dcc1e66"
      },
      "source": [
        "dnd_sales_df.info()"
      ],
      "execution_count": 94,
      "outputs": [
        {
          "output_type": "stream",
          "text": [
            "<class 'pandas.core.frame.DataFrame'>\n",
            "Int64Index: 325 entries, 0 to 423\n",
            "Data columns (total 9 columns):\n",
            " #   Column             Non-Null Count  Dtype         \n",
            "---  ------             --------------  -----         \n",
            " 0   Date_of_PreShoot   325 non-null    datetime64[ns]\n",
            " 1   Session_Fee        325 non-null    int64         \n",
            " 2   Hair               325 non-null    category      \n",
            " 3   DOB                325 non-null    datetime64[ns]\n",
            " 4   zip_code           325 non-null    category      \n",
            " 5   Sales_total        325 non-null    int64         \n",
            " 6   Favorite           325 non-null    object        \n",
            " 7   Age_at_Shoot_Date  325 non-null    int64         \n",
            " 8   Age_Range          325 non-null    category      \n",
            "dtypes: category(3), datetime64[ns](2), int64(3), object(1)\n",
            "memory usage: 32.3+ KB\n"
          ],
          "name": "stdout"
        }
      ]
    },
    {
      "cell_type": "code",
      "metadata": {
        "id": "MiqfgHBjiTF2",
        "colab_type": "code",
        "colab": {
          "base_uri": "https://localhost:8080/",
          "height": 850
        },
        "outputId": "f93a8c47-00a7-4ae5-a96c-8a5205e3e3f6"
      },
      "source": [
        "dnd_sales_df[\"Favorite\"].value_counts()\n"
      ],
      "execution_count": 95,
      "outputs": [
        {
          "output_type": "execute_result",
          "data": {
            "text/plain": [
              "no preference               158\n",
              "butt                         59\n",
              "boobs                        33\n",
              "legs                          9\n",
              "eyes                          7\n",
              "butt, eyes                    7\n",
              "boobs, legs                   6\n",
              "butt, legs                    3\n",
              "boobs, eyes                   2\n",
              "butt                          2\n",
              "eyes, legs                    2\n",
              "boobs, eyes, legs             1\n",
              "butt, curves, face            1\n",
              "chest, eyes, neck             1\n",
              "butt, decoletage, legs        1\n",
              "back, tattoo                  1\n",
              "legs, feet                    1\n",
              "back, eyes                    1\n",
              "butt, eyes, hair              1\n",
              "legs, pale_skin               1\n",
              "cheek_bones, eyes, lips       1\n",
              "thighs                        1\n",
              "butt, hair, legs,             1\n",
              "eyes, smile                   1\n",
              "back, butt, legs              1\n",
              "legs, shoulder, smile         1\n",
              "eyes, hair, legs              1\n",
              "back, butt                    1\n",
              "silouette                     1\n",
              "boobs, shoulder               1\n",
              "butt, curves                  1\n",
              "hair                          1\n",
              "freckles, smile               1\n",
              "hips                          1\n",
              "butt, legs, neck              1\n",
              "butt, hair, legs              1\n",
              "boobs, smile                  1\n",
              "boobs, curves                 1\n",
              "butt, decoletage              1\n",
              "boobs, butt, eyes, smile      1\n",
              "arms, muscles                 1\n",
              "back, eyes, neck              1\n",
              "abs, butt                     1\n",
              "boobs, butt                   1\n",
              "waist                         1\n",
              "smile                         1\n",
              "butt, hips, legs              1\n",
              "butt, back                    1\n",
              "Name: Favorite, dtype: int64"
            ]
          },
          "metadata": {
            "tags": []
          },
          "execution_count": 95
        }
      ]
    },
    {
      "cell_type": "code",
      "metadata": {
        "id": "zML7Y2kRobn9",
        "colab_type": "code",
        "colab": {
          "base_uri": "https://localhost:8080/",
          "height": 34
        },
        "outputId": "837fcc46-9668-46b8-955b-c9aa1a444a75"
      },
      "source": [
        "dnd_sales_df[\"Favorite\"].nunique()"
      ],
      "execution_count": 96,
      "outputs": [
        {
          "output_type": "execute_result",
          "data": {
            "text/plain": [
              "48"
            ]
          },
          "metadata": {
            "tags": []
          },
          "execution_count": 96
        }
      ]
    },
    {
      "cell_type": "code",
      "metadata": {
        "id": "2f3FdlZLiy65",
        "colab_type": "code",
        "colab": {
          "base_uri": "https://localhost:8080/",
          "height": 833
        },
        "outputId": "b0881a43-67e1-4682-e825-6a936dc636c2"
      },
      "source": [
        "# lets' see what happens if I strip it\n",
        "dnd_sales_df[\"Favorite\"]=dnd_sales_df[\"Favorite\"].str.strip()\n",
        "dnd_sales_df[\"Favorite\"].value_counts().sort_index()\n"
      ],
      "execution_count": 97,
      "outputs": [
        {
          "output_type": "execute_result",
          "data": {
            "text/plain": [
              "abs, butt                     1\n",
              "arms, muscles                 1\n",
              "back, butt                    1\n",
              "back, butt, legs              1\n",
              "back, eyes                    1\n",
              "back, eyes, neck              1\n",
              "back, tattoo                  1\n",
              "boobs                        33\n",
              "boobs, butt                   1\n",
              "boobs, butt, eyes, smile      1\n",
              "boobs, curves                 1\n",
              "boobs, eyes                   2\n",
              "boobs, eyes, legs             1\n",
              "boobs, legs                   6\n",
              "boobs, shoulder               1\n",
              "boobs, smile                  1\n",
              "butt                         61\n",
              "butt, back                    1\n",
              "butt, curves                  1\n",
              "butt, curves, face            1\n",
              "butt, decoletage              1\n",
              "butt, decoletage, legs        1\n",
              "butt, eyes                    7\n",
              "butt, eyes, hair              1\n",
              "butt, hair, legs              1\n",
              "butt, hair, legs,             1\n",
              "butt, hips, legs              1\n",
              "butt, legs                    3\n",
              "butt, legs, neck              1\n",
              "cheek_bones, eyes, lips       1\n",
              "chest, eyes, neck             1\n",
              "eyes                          7\n",
              "eyes, hair, legs              1\n",
              "eyes, legs                    2\n",
              "eyes, smile                   1\n",
              "freckles, smile               1\n",
              "hair                          1\n",
              "hips                          1\n",
              "legs                          9\n",
              "legs, feet                    1\n",
              "legs, pale_skin               1\n",
              "legs, shoulder, smile         1\n",
              "no preference               158\n",
              "silouette                     1\n",
              "smile                         1\n",
              "thighs                        1\n",
              "waist                         1\n",
              "Name: Favorite, dtype: int64"
            ]
          },
          "metadata": {
            "tags": []
          },
          "execution_count": 97
        }
      ]
    },
    {
      "cell_type": "code",
      "metadata": {
        "id": "b8g1RMMTugZm",
        "colab_type": "code",
        "colab": {
          "base_uri": "https://localhost:8080/",
          "height": 289
        },
        "outputId": "057b3ee7-2e3c-4f9b-ce96-7a336a444a84"
      },
      "source": [
        "dnd_sales_df.info()"
      ],
      "execution_count": 98,
      "outputs": [
        {
          "output_type": "stream",
          "text": [
            "<class 'pandas.core.frame.DataFrame'>\n",
            "Int64Index: 325 entries, 0 to 423\n",
            "Data columns (total 9 columns):\n",
            " #   Column             Non-Null Count  Dtype         \n",
            "---  ------             --------------  -----         \n",
            " 0   Date_of_PreShoot   325 non-null    datetime64[ns]\n",
            " 1   Session_Fee        325 non-null    int64         \n",
            " 2   Hair               325 non-null    category      \n",
            " 3   DOB                325 non-null    datetime64[ns]\n",
            " 4   zip_code           325 non-null    category      \n",
            " 5   Sales_total        325 non-null    int64         \n",
            " 6   Favorite           325 non-null    object        \n",
            " 7   Age_at_Shoot_Date  325 non-null    int64         \n",
            " 8   Age_Range          325 non-null    category      \n",
            "dtypes: category(3), datetime64[ns](2), int64(3), object(1)\n",
            "memory usage: 32.3+ KB\n"
          ],
          "name": "stdout"
        }
      ]
    },
    {
      "cell_type": "markdown",
      "metadata": {
        "id": "_H5d_EOSqU1d",
        "colab_type": "text"
      },
      "source": [
        "# **this is the point at which to export the csv** of clean data!!!"
      ]
    },
    {
      "cell_type": "code",
      "metadata": {
        "id": "qrFEpIhYrCxs",
        "colab_type": "code",
        "colab": {}
      },
      "source": [
        "# dt.to_csv('C:/Users/abc/Desktop/file_name.csv')\n",
        "dnd_sales_df.to_csv(\"DND_clean_data.csv\", na_rep='Unknown')\n",
        "# /Users/kellycho/Documents/DND data_3.csv"
      ],
      "execution_count": 99,
      "outputs": []
    },
    {
      "cell_type": "code",
      "metadata": {
        "id": "HAw_iIogvbKp",
        "colab_type": "code",
        "colab": {
          "base_uri": "https://localhost:8080/",
          "height": 111
        },
        "outputId": "d23d761d-d607-47af-f1dc-dccee36182f0"
      },
      "source": [
        "# this is the point at which to export the csv\n",
        "dnd_sales_df.head(2)"
      ],
      "execution_count": 100,
      "outputs": [
        {
          "output_type": "execute_result",
          "data": {
            "text/html": [
              "<div>\n",
              "<style scoped>\n",
              "    .dataframe tbody tr th:only-of-type {\n",
              "        vertical-align: middle;\n",
              "    }\n",
              "\n",
              "    .dataframe tbody tr th {\n",
              "        vertical-align: top;\n",
              "    }\n",
              "\n",
              "    .dataframe thead th {\n",
              "        text-align: right;\n",
              "    }\n",
              "</style>\n",
              "<table border=\"1\" class=\"dataframe\">\n",
              "  <thead>\n",
              "    <tr style=\"text-align: right;\">\n",
              "      <th></th>\n",
              "      <th>Date_of_PreShoot</th>\n",
              "      <th>Session_Fee</th>\n",
              "      <th>Hair</th>\n",
              "      <th>DOB</th>\n",
              "      <th>zip_code</th>\n",
              "      <th>Sales_total</th>\n",
              "      <th>Favorite</th>\n",
              "      <th>Age_at_Shoot_Date</th>\n",
              "      <th>Age_Range</th>\n",
              "    </tr>\n",
              "  </thead>\n",
              "  <tbody>\n",
              "    <tr>\n",
              "      <th>0</th>\n",
              "      <td>2017-01-05</td>\n",
              "      <td>99</td>\n",
              "      <td>yes</td>\n",
              "      <td>1976-05-05</td>\n",
              "      <td>32208</td>\n",
              "      <td>600</td>\n",
              "      <td>butt</td>\n",
              "      <td>40</td>\n",
              "      <td>36-40</td>\n",
              "    </tr>\n",
              "    <tr>\n",
              "      <th>1</th>\n",
              "      <td>2017-11-02</td>\n",
              "      <td>99</td>\n",
              "      <td>yes</td>\n",
              "      <td>1984-10-16</td>\n",
              "      <td>32082</td>\n",
              "      <td>400</td>\n",
              "      <td>butt, eyes</td>\n",
              "      <td>33</td>\n",
              "      <td>31-35</td>\n",
              "    </tr>\n",
              "  </tbody>\n",
              "</table>\n",
              "</div>"
            ],
            "text/plain": [
              "  Date_of_PreShoot  Session_Fee Hair  ...    Favorite Age_at_Shoot_Date  Age_Range\n",
              "0       2017-01-05           99  yes  ...        butt                40      36-40\n",
              "1       2017-11-02           99  yes  ...  butt, eyes                33      31-35\n",
              "\n",
              "[2 rows x 9 columns]"
            ]
          },
          "metadata": {
            "tags": []
          },
          "execution_count": 100
        }
      ]
    },
    {
      "cell_type": "code",
      "metadata": {
        "id": "ICgdLM2VvdvX",
        "colab_type": "code",
        "colab": {
          "base_uri": "https://localhost:8080/",
          "height": 34
        },
        "outputId": "4a85b265-2811-4a9e-bf1d-b662abb0a9c1"
      },
      "source": [
        "# create a subset df - zip code, Sales_Total then melt and or pivot\n",
        "zcode_sales_df = pd.DataFrame({\"zip_code\": dnd_sales_df[\"zip_code\"], \"sales_total\": dnd_sales_df[\"Sales_total\"]})\n",
        "zcode_sales_df.shape"
      ],
      "execution_count": 101,
      "outputs": [
        {
          "output_type": "execute_result",
          "data": {
            "text/plain": [
              "(325, 2)"
            ]
          },
          "metadata": {
            "tags": []
          },
          "execution_count": 101
        }
      ]
    },
    {
      "cell_type": "code",
      "metadata": {
        "id": "PllQ35v8sVAp",
        "colab_type": "code",
        "colab": {
          "base_uri": "https://localhost:8080/",
          "height": 204
        },
        "outputId": "bc93f247-5ba4-467f-8ce3-1d97a8a36d5f"
      },
      "source": [
        "zcode_sales_df.head()"
      ],
      "execution_count": 102,
      "outputs": [
        {
          "output_type": "execute_result",
          "data": {
            "text/html": [
              "<div>\n",
              "<style scoped>\n",
              "    .dataframe tbody tr th:only-of-type {\n",
              "        vertical-align: middle;\n",
              "    }\n",
              "\n",
              "    .dataframe tbody tr th {\n",
              "        vertical-align: top;\n",
              "    }\n",
              "\n",
              "    .dataframe thead th {\n",
              "        text-align: right;\n",
              "    }\n",
              "</style>\n",
              "<table border=\"1\" class=\"dataframe\">\n",
              "  <thead>\n",
              "    <tr style=\"text-align: right;\">\n",
              "      <th></th>\n",
              "      <th>zip_code</th>\n",
              "      <th>sales_total</th>\n",
              "    </tr>\n",
              "  </thead>\n",
              "  <tbody>\n",
              "    <tr>\n",
              "      <th>0</th>\n",
              "      <td>32208</td>\n",
              "      <td>600</td>\n",
              "    </tr>\n",
              "    <tr>\n",
              "      <th>1</th>\n",
              "      <td>32082</td>\n",
              "      <td>400</td>\n",
              "    </tr>\n",
              "    <tr>\n",
              "      <th>2</th>\n",
              "      <td>32080</td>\n",
              "      <td>320</td>\n",
              "    </tr>\n",
              "    <tr>\n",
              "      <th>3</th>\n",
              "      <td>32208</td>\n",
              "      <td>720</td>\n",
              "    </tr>\n",
              "    <tr>\n",
              "      <th>5</th>\n",
              "      <td>32257</td>\n",
              "      <td>1320</td>\n",
              "    </tr>\n",
              "  </tbody>\n",
              "</table>\n",
              "</div>"
            ],
            "text/plain": [
              "  zip_code  sales_total\n",
              "0    32208          600\n",
              "1    32082          400\n",
              "2    32080          320\n",
              "3    32208          720\n",
              "5    32257         1320"
            ]
          },
          "metadata": {
            "tags": []
          },
          "execution_count": 102
        }
      ]
    },
    {
      "cell_type": "code",
      "metadata": {
        "id": "MHcq76eWshQW",
        "colab_type": "code",
        "colab": {}
      },
      "source": [
        "# heres where I think I should melt??\n",
        "# molten_zcode_sales_df = zcode_sales_df.melt(value_vars=[\"sales_total\"])\n"
      ],
      "execution_count": 103,
      "outputs": []
    },
    {
      "cell_type": "code",
      "metadata": {
        "id": "Nr40AEXp3Qi1",
        "colab_type": "code",
        "colab": {}
      },
      "source": [
        ""
      ],
      "execution_count": 103,
      "outputs": []
    },
    {
      "cell_type": "code",
      "metadata": {
        "id": "BVpGmTlwjOJV",
        "colab_type": "code",
        "colab": {
          "base_uri": "https://localhost:8080/",
          "height": 34
        },
        "outputId": "557d626c-5be2-4c9b-9ffa-5084be363e2a"
      },
      "source": [
        "dnd_sales_df.loc[:, \"Sales_total\"].sum()/6"
      ],
      "execution_count": 104,
      "outputs": [
        {
          "output_type": "execute_result",
          "data": {
            "text/plain": [
              "39980.166666666664"
            ]
          },
          "metadata": {
            "tags": []
          },
          "execution_count": 104
        }
      ]
    },
    {
      "cell_type": "code",
      "metadata": {
        "id": "vpZvct9rl-K1",
        "colab_type": "code",
        "colab": {
          "base_uri": "https://localhost:8080/",
          "height": 34
        },
        "outputId": "0f2af208-0a3e-4650-d8ea-8304ae93d9df"
      },
      "source": [
        "dnd_sales_df.loc[:, \"Sales_total\"].mean()/9"
      ],
      "execution_count": 105,
      "outputs": [
        {
          "output_type": "execute_result",
          "data": {
            "text/plain": [
              "82.0105982905983"
            ]
          },
          "metadata": {
            "tags": []
          },
          "execution_count": 105
        }
      ]
    },
    {
      "cell_type": "code",
      "metadata": {
        "id": "X-AvOEEApoIF",
        "colab_type": "code",
        "colab": {}
      },
      "source": [
        ""
      ],
      "execution_count": 105,
      "outputs": []
    },
    {
      "cell_type": "code",
      "metadata": {
        "id": "EKE10-SrpiPg",
        "colab_type": "code",
        "colab": {}
      },
      "source": [
        ""
      ],
      "execution_count": 105,
      "outputs": []
    },
    {
      "cell_type": "code",
      "metadata": {
        "id": "ClPfljjMWetv",
        "colab_type": "code",
        "colab": {
          "base_uri": "https://localhost:8080/",
          "height": 68
        },
        "outputId": "19ebd626-0db9-4434-9880-d4ce4ea7743b"
      },
      "source": [
        "hi_sales = dnd_sales_df[\"Sales_total\"] >= 1200 \n",
        "hi_sales.value_counts()"
      ],
      "execution_count": 106,
      "outputs": [
        {
          "output_type": "execute_result",
          "data": {
            "text/plain": [
              "False    260\n",
              "True      65\n",
              "Name: Sales_total, dtype: int64"
            ]
          },
          "metadata": {
            "tags": []
          },
          "execution_count": 106
        }
      ]
    },
    {
      "cell_type": "code",
      "metadata": {
        "id": "lg-f5YvbW6B8",
        "colab_type": "code",
        "colab": {
          "base_uri": "https://localhost:8080/",
          "height": 34
        },
        "outputId": "df68e3c7-42d1-48f6-a196-273c0984e751"
      },
      "source": [
        "# the highest sales \n",
        "\n",
        "dnd_highest_sales_df = dnd_sales_df[hi_sales]\n",
        "dnd_highest_sales_df.shape"
      ],
      "execution_count": 107,
      "outputs": [
        {
          "output_type": "execute_result",
          "data": {
            "text/plain": [
              "(65, 9)"
            ]
          },
          "metadata": {
            "tags": []
          },
          "execution_count": 107
        }
      ]
    },
    {
      "cell_type": "code",
      "metadata": {
        "id": "0dh9HPafXubS",
        "colab_type": "code",
        "colab": {
          "base_uri": "https://localhost:8080/",
          "height": 289
        },
        "outputId": "e20905c2-222a-4145-922a-8bc009d2a3f8"
      },
      "source": [
        "dnd_highest_sales_df.info()"
      ],
      "execution_count": 108,
      "outputs": [
        {
          "output_type": "stream",
          "text": [
            "<class 'pandas.core.frame.DataFrame'>\n",
            "Int64Index: 65 entries, 5 to 423\n",
            "Data columns (total 9 columns):\n",
            " #   Column             Non-Null Count  Dtype         \n",
            "---  ------             --------------  -----         \n",
            " 0   Date_of_PreShoot   65 non-null     datetime64[ns]\n",
            " 1   Session_Fee        65 non-null     int64         \n",
            " 2   Hair               65 non-null     category      \n",
            " 3   DOB                65 non-null     datetime64[ns]\n",
            " 4   zip_code           65 non-null     category      \n",
            " 5   Sales_total        65 non-null     int64         \n",
            " 6   Favorite           65 non-null     object        \n",
            " 7   Age_at_Shoot_Date  65 non-null     int64         \n",
            " 8   Age_Range          65 non-null     category      \n",
            "dtypes: category(3), datetime64[ns](2), int64(3), object(1)\n",
            "memory usage: 7.3+ KB\n"
          ],
          "name": "stdout"
        }
      ]
    },
    {
      "cell_type": "code",
      "metadata": {
        "id": "UHV7oc1RXwo3",
        "colab_type": "code",
        "colab": {}
      },
      "source": [
        ""
      ],
      "execution_count": 108,
      "outputs": []
    },
    {
      "cell_type": "code",
      "metadata": {
        "id": "S5jzvX3gsXoL",
        "colab_type": "code",
        "colab": {
          "base_uri": "https://localhost:8080/",
          "height": 68
        },
        "outputId": "6331cbef-210b-4746-80d1-fb9ce5bbaf9d"
      },
      "source": [
        "low_sales = dnd_sales_df[\"Sales_total\"] <= 500\n",
        "low_sales.value_counts()"
      ],
      "execution_count": 109,
      "outputs": [
        {
          "output_type": "execute_result",
          "data": {
            "text/plain": [
              "False    253\n",
              "True      72\n",
              "Name: Sales_total, dtype: int64"
            ]
          },
          "metadata": {
            "tags": []
          },
          "execution_count": 109
        }
      ]
    },
    {
      "cell_type": "code",
      "metadata": {
        "id": "V-TjxDtPsqmI",
        "colab_type": "code",
        "colab": {
          "base_uri": "https://localhost:8080/",
          "height": 297
        },
        "outputId": "33e28307-aaf5-4d53-93e2-e8a14411da58"
      },
      "source": [
        "# The lowest sales zip codes\n",
        "dnd_lowest_sales_df = dnd_sales_df[low_sales]\n",
        "dnd_lowest_sales_df.describe()"
      ],
      "execution_count": 110,
      "outputs": [
        {
          "output_type": "execute_result",
          "data": {
            "text/html": [
              "<div>\n",
              "<style scoped>\n",
              "    .dataframe tbody tr th:only-of-type {\n",
              "        vertical-align: middle;\n",
              "    }\n",
              "\n",
              "    .dataframe tbody tr th {\n",
              "        vertical-align: top;\n",
              "    }\n",
              "\n",
              "    .dataframe thead th {\n",
              "        text-align: right;\n",
              "    }\n",
              "</style>\n",
              "<table border=\"1\" class=\"dataframe\">\n",
              "  <thead>\n",
              "    <tr style=\"text-align: right;\">\n",
              "      <th></th>\n",
              "      <th>Session_Fee</th>\n",
              "      <th>Sales_total</th>\n",
              "      <th>Age_at_Shoot_Date</th>\n",
              "    </tr>\n",
              "  </thead>\n",
              "  <tbody>\n",
              "    <tr>\n",
              "      <th>count</th>\n",
              "      <td>72.000000</td>\n",
              "      <td>72.000000</td>\n",
              "      <td>72.000000</td>\n",
              "    </tr>\n",
              "    <tr>\n",
              "      <th>mean</th>\n",
              "      <td>86.569444</td>\n",
              "      <td>180.541667</td>\n",
              "      <td>34.111111</td>\n",
              "    </tr>\n",
              "    <tr>\n",
              "      <th>std</th>\n",
              "      <td>36.490333</td>\n",
              "      <td>142.707219</td>\n",
              "      <td>11.249483</td>\n",
              "    </tr>\n",
              "    <tr>\n",
              "      <th>min</th>\n",
              "      <td>0.000000</td>\n",
              "      <td>0.000000</td>\n",
              "      <td>19.000000</td>\n",
              "    </tr>\n",
              "    <tr>\n",
              "      <th>25%</th>\n",
              "      <td>99.000000</td>\n",
              "      <td>60.000000</td>\n",
              "      <td>26.000000</td>\n",
              "    </tr>\n",
              "    <tr>\n",
              "      <th>50%</th>\n",
              "      <td>99.000000</td>\n",
              "      <td>160.000000</td>\n",
              "      <td>31.500000</td>\n",
              "    </tr>\n",
              "    <tr>\n",
              "      <th>75%</th>\n",
              "      <td>99.000000</td>\n",
              "      <td>305.000000</td>\n",
              "      <td>39.000000</td>\n",
              "    </tr>\n",
              "    <tr>\n",
              "      <th>max</th>\n",
              "      <td>179.000000</td>\n",
              "      <td>440.000000</td>\n",
              "      <td>66.000000</td>\n",
              "    </tr>\n",
              "  </tbody>\n",
              "</table>\n",
              "</div>"
            ],
            "text/plain": [
              "       Session_Fee  Sales_total  Age_at_Shoot_Date\n",
              "count    72.000000    72.000000          72.000000\n",
              "mean     86.569444   180.541667          34.111111\n",
              "std      36.490333   142.707219          11.249483\n",
              "min       0.000000     0.000000          19.000000\n",
              "25%      99.000000    60.000000          26.000000\n",
              "50%      99.000000   160.000000          31.500000\n",
              "75%      99.000000   305.000000          39.000000\n",
              "max     179.000000   440.000000          66.000000"
            ]
          },
          "metadata": {
            "tags": []
          },
          "execution_count": 110
        }
      ]
    },
    {
      "cell_type": "code",
      "metadata": {
        "id": "TxL0G1Q_tQbe",
        "colab_type": "code",
        "colab": {
          "base_uri": "https://localhost:8080/",
          "height": 816
        },
        "outputId": "d3d4f4b8-52c1-458f-91cf-21d791df8b2e"
      },
      "source": [
        "dnd_sales_df[\"Age_at_Shoot_Date\"].value_counts()"
      ],
      "execution_count": 111,
      "outputs": [
        {
          "output_type": "execute_result",
          "data": {
            "text/plain": [
              "25    21\n",
              "26    18\n",
              "33    17\n",
              "35    17\n",
              "27    15\n",
              "28    14\n",
              "23    14\n",
              "32    13\n",
              "38    13\n",
              "34    12\n",
              "31    12\n",
              "30    10\n",
              "36    10\n",
              "29    10\n",
              "24     9\n",
              "39     9\n",
              "41     8\n",
              "40     8\n",
              "22     7\n",
              "50     6\n",
              "21     6\n",
              "44     6\n",
              "37     6\n",
              "20     5\n",
              "42     5\n",
              "43     5\n",
              "46     5\n",
              "48     5\n",
              "52     4\n",
              "45     4\n",
              "56     4\n",
              "54     4\n",
              "58     3\n",
              "51     3\n",
              "19     2\n",
              "49     2\n",
              "53     2\n",
              "59     2\n",
              "65     2\n",
              "66     1\n",
              "47     1\n",
              "57     1\n",
              "60     1\n",
              "61     1\n",
              "63     1\n",
              "72     1\n",
              "Name: Age_at_Shoot_Date, dtype: int64"
            ]
          },
          "metadata": {
            "tags": []
          },
          "execution_count": 111
        }
      ]
    },
    {
      "cell_type": "code",
      "metadata": {
        "id": "2vs_hhNHNotm",
        "colab_type": "code",
        "colab": {}
      },
      "source": [
        ""
      ],
      "execution_count": 111,
      "outputs": []
    },
    {
      "cell_type": "code",
      "metadata": {
        "id": "Z5_8q4TDNCCT",
        "colab_type": "code",
        "colab": {}
      },
      "source": [
        ""
      ],
      "execution_count": 111,
      "outputs": []
    },
    {
      "cell_type": "code",
      "metadata": {
        "id": "mJOb--BYtMOd",
        "colab_type": "code",
        "colab": {}
      },
      "source": [
        ""
      ],
      "execution_count": 111,
      "outputs": []
    },
    {
      "cell_type": "code",
      "metadata": {
        "id": "pUfYVK8QXbeX",
        "colab_type": "code",
        "colab": {
          "base_uri": "https://localhost:8080/",
          "height": 297
        },
        "outputId": "28ca4b89-95d7-437f-ddb2-ee9d21ccc236"
      },
      "source": [
        "# this isn't exactly what I would like it to be\n",
        "dnd_highest_sales_df.describe()"
      ],
      "execution_count": 112,
      "outputs": [
        {
          "output_type": "execute_result",
          "data": {
            "text/html": [
              "<div>\n",
              "<style scoped>\n",
              "    .dataframe tbody tr th:only-of-type {\n",
              "        vertical-align: middle;\n",
              "    }\n",
              "\n",
              "    .dataframe tbody tr th {\n",
              "        vertical-align: top;\n",
              "    }\n",
              "\n",
              "    .dataframe thead th {\n",
              "        text-align: right;\n",
              "    }\n",
              "</style>\n",
              "<table border=\"1\" class=\"dataframe\">\n",
              "  <thead>\n",
              "    <tr style=\"text-align: right;\">\n",
              "      <th></th>\n",
              "      <th>Session_Fee</th>\n",
              "      <th>Sales_total</th>\n",
              "      <th>Age_at_Shoot_Date</th>\n",
              "    </tr>\n",
              "  </thead>\n",
              "  <tbody>\n",
              "    <tr>\n",
              "      <th>count</th>\n",
              "      <td>65.000000</td>\n",
              "      <td>65.000000</td>\n",
              "      <td>65.000000</td>\n",
              "    </tr>\n",
              "    <tr>\n",
              "      <th>mean</th>\n",
              "      <td>110.723077</td>\n",
              "      <td>1467.015385</td>\n",
              "      <td>36.400000</td>\n",
              "    </tr>\n",
              "    <tr>\n",
              "      <th>std</th>\n",
              "      <td>45.380168</td>\n",
              "      <td>403.523369</td>\n",
              "      <td>11.835857</td>\n",
              "    </tr>\n",
              "    <tr>\n",
              "      <th>min</th>\n",
              "      <td>25.000000</td>\n",
              "      <td>1200.000000</td>\n",
              "      <td>19.000000</td>\n",
              "    </tr>\n",
              "    <tr>\n",
              "      <th>25%</th>\n",
              "      <td>99.000000</td>\n",
              "      <td>1200.000000</td>\n",
              "      <td>27.000000</td>\n",
              "    </tr>\n",
              "    <tr>\n",
              "      <th>50%</th>\n",
              "      <td>99.000000</td>\n",
              "      <td>1320.000000</td>\n",
              "      <td>34.000000</td>\n",
              "    </tr>\n",
              "    <tr>\n",
              "      <th>75%</th>\n",
              "      <td>99.000000</td>\n",
              "      <td>1550.000000</td>\n",
              "      <td>43.000000</td>\n",
              "    </tr>\n",
              "    <tr>\n",
              "      <th>max</th>\n",
              "      <td>179.000000</td>\n",
              "      <td>3000.000000</td>\n",
              "      <td>65.000000</td>\n",
              "    </tr>\n",
              "  </tbody>\n",
              "</table>\n",
              "</div>"
            ],
            "text/plain": [
              "       Session_Fee  Sales_total  Age_at_Shoot_Date\n",
              "count    65.000000    65.000000          65.000000\n",
              "mean    110.723077  1467.015385          36.400000\n",
              "std      45.380168   403.523369          11.835857\n",
              "min      25.000000  1200.000000          19.000000\n",
              "25%      99.000000  1200.000000          27.000000\n",
              "50%      99.000000  1320.000000          34.000000\n",
              "75%      99.000000  1550.000000          43.000000\n",
              "max     179.000000  3000.000000          65.000000"
            ]
          },
          "metadata": {
            "tags": []
          },
          "execution_count": 112
        }
      ]
    },
    {
      "cell_type": "code",
      "metadata": {
        "id": "YStWHTMwTIb1",
        "colab_type": "code",
        "colab": {
          "base_uri": "https://localhost:8080/",
          "height": 204
        },
        "outputId": "39985231-4227-44c6-a2c0-da2bf041b9b0"
      },
      "source": [
        "dnd_highest_sales_df.tail()"
      ],
      "execution_count": 113,
      "outputs": [
        {
          "output_type": "execute_result",
          "data": {
            "text/html": [
              "<div>\n",
              "<style scoped>\n",
              "    .dataframe tbody tr th:only-of-type {\n",
              "        vertical-align: middle;\n",
              "    }\n",
              "\n",
              "    .dataframe tbody tr th {\n",
              "        vertical-align: top;\n",
              "    }\n",
              "\n",
              "    .dataframe thead th {\n",
              "        text-align: right;\n",
              "    }\n",
              "</style>\n",
              "<table border=\"1\" class=\"dataframe\">\n",
              "  <thead>\n",
              "    <tr style=\"text-align: right;\">\n",
              "      <th></th>\n",
              "      <th>Date_of_PreShoot</th>\n",
              "      <th>Session_Fee</th>\n",
              "      <th>Hair</th>\n",
              "      <th>DOB</th>\n",
              "      <th>zip_code</th>\n",
              "      <th>Sales_total</th>\n",
              "      <th>Favorite</th>\n",
              "      <th>Age_at_Shoot_Date</th>\n",
              "      <th>Age_Range</th>\n",
              "    </tr>\n",
              "  </thead>\n",
              "  <tbody>\n",
              "    <tr>\n",
              "      <th>391</th>\n",
              "      <td>2019-09-24</td>\n",
              "      <td>25</td>\n",
              "      <td>no</td>\n",
              "      <td>1959-11-03</td>\n",
              "      <td>32097</td>\n",
              "      <td>1320</td>\n",
              "      <td>boobs</td>\n",
              "      <td>59</td>\n",
              "      <td>56-60</td>\n",
              "    </tr>\n",
              "    <tr>\n",
              "      <th>394</th>\n",
              "      <td>2020-01-06</td>\n",
              "      <td>25</td>\n",
              "      <td>no</td>\n",
              "      <td>1997-10-01</td>\n",
              "      <td>32046</td>\n",
              "      <td>1320</td>\n",
              "      <td>boobs</td>\n",
              "      <td>22</td>\n",
              "      <td>18-25</td>\n",
              "    </tr>\n",
              "    <tr>\n",
              "      <th>405</th>\n",
              "      <td>2020-01-31</td>\n",
              "      <td>179</td>\n",
              "      <td>yes</td>\n",
              "      <td>1960-04-24</td>\n",
              "      <td>31522</td>\n",
              "      <td>1320</td>\n",
              "      <td>boobs</td>\n",
              "      <td>59</td>\n",
              "      <td>56-60</td>\n",
              "    </tr>\n",
              "    <tr>\n",
              "      <th>407</th>\n",
              "      <td>2020-01-31</td>\n",
              "      <td>25</td>\n",
              "      <td>no</td>\n",
              "      <td>1975-06-20</td>\n",
              "      <td>32258</td>\n",
              "      <td>1320</td>\n",
              "      <td>butt</td>\n",
              "      <td>44</td>\n",
              "      <td>41-45</td>\n",
              "    </tr>\n",
              "    <tr>\n",
              "      <th>423</th>\n",
              "      <td>2018-04-08</td>\n",
              "      <td>99</td>\n",
              "      <td>no</td>\n",
              "      <td>1994-06-26</td>\n",
              "      <td>32244</td>\n",
              "      <td>1200</td>\n",
              "      <td>butt, legs</td>\n",
              "      <td>23</td>\n",
              "      <td>18-25</td>\n",
              "    </tr>\n",
              "  </tbody>\n",
              "</table>\n",
              "</div>"
            ],
            "text/plain": [
              "    Date_of_PreShoot  Session_Fee Hair  ...    Favorite Age_at_Shoot_Date  Age_Range\n",
              "391       2019-09-24           25   no  ...       boobs                59      56-60\n",
              "394       2020-01-06           25   no  ...       boobs                22      18-25\n",
              "405       2020-01-31          179  yes  ...       boobs                59      56-60\n",
              "407       2020-01-31           25   no  ...        butt                44      41-45\n",
              "423       2018-04-08           99   no  ...  butt, legs                23      18-25\n",
              "\n",
              "[5 rows x 9 columns]"
            ]
          },
          "metadata": {
            "tags": []
          },
          "execution_count": 113
        }
      ]
    },
    {
      "cell_type": "code",
      "metadata": {
        "id": "qPz4LxOPVjQJ",
        "colab_type": "code",
        "colab": {}
      },
      "source": [
        ""
      ],
      "execution_count": 113,
      "outputs": []
    },
    {
      "cell_type": "code",
      "metadata": {
        "id": "aqaGStKVXku2",
        "colab_type": "code",
        "colab": {
          "base_uri": "https://localhost:8080/",
          "height": 187
        },
        "outputId": "556a13de-980a-4e6e-e731-bd0d65a866c9"
      },
      "source": [
        "dnd_highest_sales_df.nunique()"
      ],
      "execution_count": 114,
      "outputs": [
        {
          "output_type": "execute_result",
          "data": {
            "text/plain": [
              "Date_of_PreShoot     60\n",
              "Session_Fee           3\n",
              "Hair                  2\n",
              "DOB                  64\n",
              "zip_code             37\n",
              "Sales_total          21\n",
              "Favorite             17\n",
              "Age_at_Shoot_Date    34\n",
              "Age_Range             9\n",
              "dtype: int64"
            ]
          },
          "metadata": {
            "tags": []
          },
          "execution_count": 114
        }
      ]
    },
    {
      "cell_type": "code",
      "metadata": {
        "id": "n0iKlHIlSp_S",
        "colab_type": "code",
        "colab": {
          "base_uri": "https://localhost:8080/",
          "height": 34
        },
        "outputId": "81a99dc7-6235-4ae1-a60f-00e625d38d92"
      },
      "source": [
        "#something is wrong. Why does this include zipcodes with zero count??\n",
        "print(dnd_highest_sales_df[\"zip_code\"].value_counts().sum())\n"
      ],
      "execution_count": 115,
      "outputs": [
        {
          "output_type": "stream",
          "text": [
            "65\n"
          ],
          "name": "stdout"
        }
      ]
    },
    {
      "cell_type": "code",
      "metadata": {
        "id": "MsdWglX4sAKL",
        "colab_type": "code",
        "colab": {
          "base_uri": "https://localhost:8080/",
          "height": 221
        },
        "outputId": "f5e2d6fe-5a57-49fb-95ee-5a59338a60c2"
      },
      "source": [
        "dnd_highest_sales_df[\"zip_code\"].tail(10)"
      ],
      "execution_count": 116,
      "outputs": [
        {
          "output_type": "execute_result",
          "data": {
            "text/plain": [
              "344    32223\n",
              "348    32065\n",
              "358    32218\n",
              "364    32226\n",
              "378    32258\n",
              "391    32097\n",
              "394    32046\n",
              "405    31522\n",
              "407    32258\n",
              "423    32244\n",
              "Name: zip_code, dtype: category\n",
              "Categories (76, object): [30354, 31169, 31520, 31522, ..., 32656, 33605, 37217, 78413]"
            ]
          },
          "metadata": {
            "tags": []
          },
          "execution_count": 116
        }
      ]
    },
    {
      "cell_type": "code",
      "metadata": {
        "id": "DRLS6RKlwFnm",
        "colab_type": "code",
        "colab": {
          "base_uri": "https://localhost:8080/",
          "height": 204
        },
        "outputId": "616e1df9-3bd1-44c6-cc85-4ed69391d0b5"
      },
      "source": [
        "dnd_highest_sales_df.tail()"
      ],
      "execution_count": 117,
      "outputs": [
        {
          "output_type": "execute_result",
          "data": {
            "text/html": [
              "<div>\n",
              "<style scoped>\n",
              "    .dataframe tbody tr th:only-of-type {\n",
              "        vertical-align: middle;\n",
              "    }\n",
              "\n",
              "    .dataframe tbody tr th {\n",
              "        vertical-align: top;\n",
              "    }\n",
              "\n",
              "    .dataframe thead th {\n",
              "        text-align: right;\n",
              "    }\n",
              "</style>\n",
              "<table border=\"1\" class=\"dataframe\">\n",
              "  <thead>\n",
              "    <tr style=\"text-align: right;\">\n",
              "      <th></th>\n",
              "      <th>Date_of_PreShoot</th>\n",
              "      <th>Session_Fee</th>\n",
              "      <th>Hair</th>\n",
              "      <th>DOB</th>\n",
              "      <th>zip_code</th>\n",
              "      <th>Sales_total</th>\n",
              "      <th>Favorite</th>\n",
              "      <th>Age_at_Shoot_Date</th>\n",
              "      <th>Age_Range</th>\n",
              "    </tr>\n",
              "  </thead>\n",
              "  <tbody>\n",
              "    <tr>\n",
              "      <th>391</th>\n",
              "      <td>2019-09-24</td>\n",
              "      <td>25</td>\n",
              "      <td>no</td>\n",
              "      <td>1959-11-03</td>\n",
              "      <td>32097</td>\n",
              "      <td>1320</td>\n",
              "      <td>boobs</td>\n",
              "      <td>59</td>\n",
              "      <td>56-60</td>\n",
              "    </tr>\n",
              "    <tr>\n",
              "      <th>394</th>\n",
              "      <td>2020-01-06</td>\n",
              "      <td>25</td>\n",
              "      <td>no</td>\n",
              "      <td>1997-10-01</td>\n",
              "      <td>32046</td>\n",
              "      <td>1320</td>\n",
              "      <td>boobs</td>\n",
              "      <td>22</td>\n",
              "      <td>18-25</td>\n",
              "    </tr>\n",
              "    <tr>\n",
              "      <th>405</th>\n",
              "      <td>2020-01-31</td>\n",
              "      <td>179</td>\n",
              "      <td>yes</td>\n",
              "      <td>1960-04-24</td>\n",
              "      <td>31522</td>\n",
              "      <td>1320</td>\n",
              "      <td>boobs</td>\n",
              "      <td>59</td>\n",
              "      <td>56-60</td>\n",
              "    </tr>\n",
              "    <tr>\n",
              "      <th>407</th>\n",
              "      <td>2020-01-31</td>\n",
              "      <td>25</td>\n",
              "      <td>no</td>\n",
              "      <td>1975-06-20</td>\n",
              "      <td>32258</td>\n",
              "      <td>1320</td>\n",
              "      <td>butt</td>\n",
              "      <td>44</td>\n",
              "      <td>41-45</td>\n",
              "    </tr>\n",
              "    <tr>\n",
              "      <th>423</th>\n",
              "      <td>2018-04-08</td>\n",
              "      <td>99</td>\n",
              "      <td>no</td>\n",
              "      <td>1994-06-26</td>\n",
              "      <td>32244</td>\n",
              "      <td>1200</td>\n",
              "      <td>butt, legs</td>\n",
              "      <td>23</td>\n",
              "      <td>18-25</td>\n",
              "    </tr>\n",
              "  </tbody>\n",
              "</table>\n",
              "</div>"
            ],
            "text/plain": [
              "    Date_of_PreShoot  Session_Fee Hair  ...    Favorite Age_at_Shoot_Date  Age_Range\n",
              "391       2019-09-24           25   no  ...       boobs                59      56-60\n",
              "394       2020-01-06           25   no  ...       boobs                22      18-25\n",
              "405       2020-01-31          179  yes  ...       boobs                59      56-60\n",
              "407       2020-01-31           25   no  ...        butt                44      41-45\n",
              "423       2018-04-08           99   no  ...  butt, legs                23      18-25\n",
              "\n",
              "[5 rows x 9 columns]"
            ]
          },
          "metadata": {
            "tags": []
          },
          "execution_count": 117
        }
      ]
    },
    {
      "cell_type": "code",
      "metadata": {
        "id": "JwqzuWrVv9fP",
        "colab_type": "code",
        "colab": {}
      },
      "source": [
        ""
      ],
      "execution_count": 117,
      "outputs": []
    },
    {
      "cell_type": "code",
      "metadata": {
        "id": "E8tjBkeHr6ix",
        "colab_type": "code",
        "colab": {
          "base_uri": "https://localhost:8080/",
          "height": 221
        },
        "outputId": "4dcee7c2-ab92-4d4f-f875-62f76a17f725"
      },
      "source": [
        "dnd_highest_sales_df[\"zip_code\"].value_counts()"
      ],
      "execution_count": 118,
      "outputs": [
        {
          "output_type": "execute_result",
          "data": {
            "text/plain": [
              "32258    8\n",
              "32224    4\n",
              "32218    4\n",
              "32216    3\n",
              "32211    3\n",
              "        ..\n",
              "32092    0\n",
              "32086    0\n",
              "32084    0\n",
              "32083    0\n",
              "30354    0\n",
              "Name: zip_code, Length: 76, dtype: int64"
            ]
          },
          "metadata": {
            "tags": []
          },
          "execution_count": 118
        }
      ]
    },
    {
      "cell_type": "code",
      "metadata": {
        "id": "Gm7vdNJJvX2A",
        "colab_type": "code",
        "colab": {}
      },
      "source": [
        ""
      ],
      "execution_count": 118,
      "outputs": []
    },
    {
      "cell_type": "code",
      "metadata": {
        "id": "chl6wZyul66P",
        "colab_type": "code",
        "colab": {}
      },
      "source": [
        "import operator"
      ],
      "execution_count": 119,
      "outputs": []
    },
    {
      "cell_type": "code",
      "metadata": {
        "id": "RnY7rWoqYdzo",
        "colab_type": "code",
        "colab": {
          "base_uri": "https://localhost:8080/",
          "height": 1000
        },
        "outputId": "02884aaa-69d1-45a7-a623-3d9cb8c818e8"
      },
      "source": [
        "# cond_fav_butt =  [\"butt\" in x for x in dnd_sales_df[\"Favorite\"]] == True\n",
        "# dnd_sales_df.loc[:,\"Favorite\"]\n",
        "# cond_fav_butt = [operator.contains(x, \"butt\") for x in dnd_sales_df.loc[:,\"Favorite\"]] == True\n",
        "\n",
        "for x in dnd_sales_df.loc[:, \"Favorite\"]:\n",
        "  if operator.contains(x, \"butt\"):\n",
        "    print(operator.contains(x, \"butt\"))"
      ],
      "execution_count": 120,
      "outputs": [
        {
          "output_type": "stream",
          "text": [
            "True\n",
            "True\n",
            "True\n",
            "True\n",
            "True\n",
            "True\n",
            "True\n",
            "True\n",
            "True\n",
            "True\n",
            "True\n",
            "True\n",
            "True\n",
            "True\n",
            "True\n",
            "True\n",
            "True\n",
            "True\n",
            "True\n",
            "True\n",
            "True\n",
            "True\n",
            "True\n",
            "True\n",
            "True\n",
            "True\n",
            "True\n",
            "True\n",
            "True\n",
            "True\n",
            "True\n",
            "True\n",
            "True\n",
            "True\n",
            "True\n",
            "True\n",
            "True\n",
            "True\n",
            "True\n",
            "True\n",
            "True\n",
            "True\n",
            "True\n",
            "True\n",
            "True\n",
            "True\n",
            "True\n",
            "True\n",
            "True\n",
            "True\n",
            "True\n",
            "True\n",
            "True\n",
            "True\n",
            "True\n",
            "True\n",
            "True\n",
            "True\n",
            "True\n",
            "True\n",
            "True\n",
            "True\n",
            "True\n",
            "True\n",
            "True\n",
            "True\n",
            "True\n",
            "True\n",
            "True\n",
            "True\n",
            "True\n",
            "True\n",
            "True\n",
            "True\n",
            "True\n",
            "True\n",
            "True\n",
            "True\n",
            "True\n",
            "True\n",
            "True\n",
            "True\n",
            "True\n",
            "True\n",
            "True\n",
            "True\n"
          ],
          "name": "stdout"
        }
      ]
    },
    {
      "cell_type": "code",
      "metadata": {
        "id": "HzbPpgisoJXP",
        "colab_type": "code",
        "colab": {
          "base_uri": "https://localhost:8080/",
          "height": 34
        },
        "outputId": "ad77fd18-37e4-40b5-c68f-6562f4b110a1"
      },
      "source": [
        "print(operator.contains(dnd_sales_df.loc[:,\"Favorite\"], \"butt\"))"
      ],
      "execution_count": 121,
      "outputs": [
        {
          "output_type": "stream",
          "text": [
            "False\n"
          ],
          "name": "stdout"
        }
      ]
    },
    {
      "cell_type": "code",
      "metadata": {
        "id": "tn8zvZp1nfOF",
        "colab_type": "code",
        "colab": {
          "base_uri": "https://localhost:8080/",
          "height": 68
        },
        "outputId": "76082c4d-49af-467b-a0b7-112ca34d38d3"
      },
      "source": [
        "# Favorite no preference condition\n",
        "cond_no_preference = dnd_sales_df[\"Favorite\"] == \"no preference\"\n",
        "cond_no_preference.value_counts()"
      ],
      "execution_count": 122,
      "outputs": [
        {
          "output_type": "execute_result",
          "data": {
            "text/plain": [
              "False    167\n",
              "True     158\n",
              "Name: Favorite, dtype: int64"
            ]
          },
          "metadata": {
            "tags": []
          },
          "execution_count": 122
        }
      ]
    },
    {
      "cell_type": "code",
      "metadata": {
        "id": "7agtbomBPps1",
        "colab_type": "code",
        "colab": {}
      },
      "source": [
        ""
      ],
      "execution_count": 122,
      "outputs": []
    },
    {
      "cell_type": "code",
      "metadata": {
        "id": "d98BxiQeW2Ps",
        "colab_type": "code",
        "colab": {}
      },
      "source": [
        "# dnd_sales_df[cond_fav_butt]"
      ],
      "execution_count": 123,
      "outputs": []
    },
    {
      "cell_type": "code",
      "metadata": {
        "id": "U4aeIx7XVQ2A",
        "colab_type": "code",
        "colab": {}
      },
      "source": [
        ""
      ],
      "execution_count": 123,
      "outputs": []
    },
    {
      "cell_type": "code",
      "metadata": {
        "id": "Wf_eiuyKkzA6",
        "colab_type": "code",
        "colab": {}
      },
      "source": [
        ""
      ],
      "execution_count": 123,
      "outputs": []
    },
    {
      "cell_type": "code",
      "metadata": {
        "id": "18tkxqqbWrnu",
        "colab_type": "code",
        "colab": {
          "base_uri": "https://localhost:8080/",
          "height": 119
        },
        "outputId": "4db0b3f4-823b-46f1-c266-d561739cf8e3"
      },
      "source": [
        "dnd_sales_df[\"Favorite\"].head()"
      ],
      "execution_count": 124,
      "outputs": [
        {
          "output_type": "execute_result",
          "data": {
            "text/plain": [
              "0                butt\n",
              "1          butt, eyes\n",
              "2    eyes, hair, legs\n",
              "3               boobs\n",
              "5                butt\n",
              "Name: Favorite, dtype: object"
            ]
          },
          "metadata": {
            "tags": []
          },
          "execution_count": 124
        }
      ]
    },
    {
      "cell_type": "code",
      "metadata": {
        "id": "ANiNBD8Wkd3e",
        "colab_type": "code",
        "colab": {}
      },
      "source": [
        ""
      ],
      "execution_count": 124,
      "outputs": []
    },
    {
      "cell_type": "code",
      "metadata": {
        "id": "JDW5wGWTXxhE",
        "colab_type": "code",
        "colab": {
          "base_uri": "https://localhost:8080/",
          "height": 187
        },
        "outputId": "3a6bab1d-0259-42a1-e386-9c42b2e14a7b"
      },
      "source": [
        "dnd_sales_df.nunique()"
      ],
      "execution_count": 125,
      "outputs": [
        {
          "output_type": "execute_result",
          "data": {
            "text/plain": [
              "Date_of_PreShoot     266\n",
              "Session_Fee            7\n",
              "Hair                   2\n",
              "DOB                  316\n",
              "zip_code              76\n",
              "Sales_total           68\n",
              "Favorite              47\n",
              "Age_at_Shoot_Date     46\n",
              "Age_Range             10\n",
              "dtype: int64"
            ]
          },
          "metadata": {
            "tags": []
          },
          "execution_count": 125
        }
      ]
    },
    {
      "cell_type": "code",
      "metadata": {
        "id": "DN7k3FAXiD9o",
        "colab_type": "code",
        "colab": {
          "base_uri": "https://localhost:8080/",
          "height": 111
        },
        "outputId": "4e4f8d61-8198-47a8-c579-921629ac2b44"
      },
      "source": [
        "dnd_sales_df.head(2)"
      ],
      "execution_count": 126,
      "outputs": [
        {
          "output_type": "execute_result",
          "data": {
            "text/html": [
              "<div>\n",
              "<style scoped>\n",
              "    .dataframe tbody tr th:only-of-type {\n",
              "        vertical-align: middle;\n",
              "    }\n",
              "\n",
              "    .dataframe tbody tr th {\n",
              "        vertical-align: top;\n",
              "    }\n",
              "\n",
              "    .dataframe thead th {\n",
              "        text-align: right;\n",
              "    }\n",
              "</style>\n",
              "<table border=\"1\" class=\"dataframe\">\n",
              "  <thead>\n",
              "    <tr style=\"text-align: right;\">\n",
              "      <th></th>\n",
              "      <th>Date_of_PreShoot</th>\n",
              "      <th>Session_Fee</th>\n",
              "      <th>Hair</th>\n",
              "      <th>DOB</th>\n",
              "      <th>zip_code</th>\n",
              "      <th>Sales_total</th>\n",
              "      <th>Favorite</th>\n",
              "      <th>Age_at_Shoot_Date</th>\n",
              "      <th>Age_Range</th>\n",
              "    </tr>\n",
              "  </thead>\n",
              "  <tbody>\n",
              "    <tr>\n",
              "      <th>0</th>\n",
              "      <td>2017-01-05</td>\n",
              "      <td>99</td>\n",
              "      <td>yes</td>\n",
              "      <td>1976-05-05</td>\n",
              "      <td>32208</td>\n",
              "      <td>600</td>\n",
              "      <td>butt</td>\n",
              "      <td>40</td>\n",
              "      <td>36-40</td>\n",
              "    </tr>\n",
              "    <tr>\n",
              "      <th>1</th>\n",
              "      <td>2017-11-02</td>\n",
              "      <td>99</td>\n",
              "      <td>yes</td>\n",
              "      <td>1984-10-16</td>\n",
              "      <td>32082</td>\n",
              "      <td>400</td>\n",
              "      <td>butt, eyes</td>\n",
              "      <td>33</td>\n",
              "      <td>31-35</td>\n",
              "    </tr>\n",
              "  </tbody>\n",
              "</table>\n",
              "</div>"
            ],
            "text/plain": [
              "  Date_of_PreShoot  Session_Fee Hair  ...    Favorite Age_at_Shoot_Date  Age_Range\n",
              "0       2017-01-05           99  yes  ...        butt                40      36-40\n",
              "1       2017-11-02           99  yes  ...  butt, eyes                33      31-35\n",
              "\n",
              "[2 rows x 9 columns]"
            ]
          },
          "metadata": {
            "tags": []
          },
          "execution_count": 126
        }
      ]
    },
    {
      "cell_type": "code",
      "metadata": {
        "id": "xgfHvh36iHeQ",
        "colab_type": "code",
        "colab": {
          "base_uri": "https://localhost:8080/",
          "height": 80
        },
        "outputId": "5b57b23d-04bb-493c-f460-edec699473c8"
      },
      "source": [
        "# photographer average hourly wage according to Ziprecruiter\n",
        "photog_hourly_df = pd.DataFrame({\"Nation Wide\": [21], \"Northeast Florida\": [19],\n",
        "                                 \"Diamonds & Desire\": [80]})\n",
        "photog_hourly_df"
      ],
      "execution_count": 127,
      "outputs": [
        {
          "output_type": "execute_result",
          "data": {
            "text/html": [
              "<div>\n",
              "<style scoped>\n",
              "    .dataframe tbody tr th:only-of-type {\n",
              "        vertical-align: middle;\n",
              "    }\n",
              "\n",
              "    .dataframe tbody tr th {\n",
              "        vertical-align: top;\n",
              "    }\n",
              "\n",
              "    .dataframe thead th {\n",
              "        text-align: right;\n",
              "    }\n",
              "</style>\n",
              "<table border=\"1\" class=\"dataframe\">\n",
              "  <thead>\n",
              "    <tr style=\"text-align: right;\">\n",
              "      <th></th>\n",
              "      <th>Nation Wide</th>\n",
              "      <th>Northeast Florida</th>\n",
              "      <th>Diamonds &amp; Desire</th>\n",
              "    </tr>\n",
              "  </thead>\n",
              "  <tbody>\n",
              "    <tr>\n",
              "      <th>0</th>\n",
              "      <td>21</td>\n",
              "      <td>19</td>\n",
              "      <td>80</td>\n",
              "    </tr>\n",
              "  </tbody>\n",
              "</table>\n",
              "</div>"
            ],
            "text/plain": [
              "   Nation Wide  Northeast Florida  Diamonds & Desire\n",
              "0           21                 19                 80"
            ]
          },
          "metadata": {
            "tags": []
          },
          "execution_count": 127
        }
      ]
    },
    {
      "cell_type": "code",
      "metadata": {
        "id": "aUDHYIwFrYYv",
        "colab_type": "code",
        "colab": {}
      },
      "source": [
        "middle_color = \"#fb8b24\"\n",
        "worse_color= \"#0f4c5c\"\n",
        "dnd_color =\"#8C031C\""
      ],
      "execution_count": 128,
      "outputs": []
    },
    {
      "cell_type": "code",
      "metadata": {
        "id": "b9vmBz8rXkGF",
        "colab_type": "code",
        "colab": {
          "base_uri": "https://localhost:8080/",
          "height": 537
        },
        "outputId": "c7155c81-a128-45f6-83b6-052e684889ad"
      },
      "source": [
        "\n",
        "fig, ax = plt.subplots(figsize = (8,8))\n",
        "\n",
        "# Set bg \n",
        "\n",
        "fig.set_facecolor(\"#F0F0F0\")\n",
        "\n",
        "# set graph background \n",
        "\n",
        "ax.set_facecolor(\"#F0F0F0\")\n",
        "\n",
        "\n",
        "# set label axis\n",
        "plt.ylabel(\"$ per Hour\",fontsize=15, color= \"#454545\")\n",
        "# plt.xlabel(\"Photography Business Income\",fontsize=17, color= \"#454545\",\n",
        "#            x = .51, y=0)\n",
        "\n",
        "ax.set_xticklabels(labels=photog_hourly_df.columns, fontsize=13, color= \"#454545\")\n",
        "ax.set_yticklabels(labels=[0,10,20,30,40,50,60,70,80], fontsize=13, color= \"#454545\")\n",
        "\n",
        "# make graph \n",
        "plt.bar(x=photog_hourly_df.columns, height=photog_hourly_df.loc[0,:], width=.7,\n",
        "        color= [\"#fb8b24\", \"#0f4c5c\",\"#8C031C\"])\n",
        "\n",
        "# photog_hourly_df.plot.bar()\n",
        "\n",
        "# set title\n",
        "plt.title('Average Hourly Wage', fontsize=20, color= \"#454545\")\n",
        "\n",
        "# Subtitle\n",
        "subtitle_ = \"Photography Business\"\n",
        "ax.text(s=subtitle_ ,fontsize=17, color= \"#454545\",\n",
        "           x = .25, y=-9)\n",
        "\n",
        "#remove spines\n",
        "ax.spines['left'].set_visible(False)\n",
        "ax.spines['top'].set_visible(False)\n",
        "ax.spines['right'].set_visible(False)\n",
        "ax.spines['bottom'].set_visible(False)\n",
        "\n",
        "plt.savefig('bar_chart_average_hourly_wage_comparison.png')\n",
        "plt.show()"
      ],
      "execution_count": 192,
      "outputs": [
        {
          "output_type": "display_data",
          "data": {
            "image/png": "[encoded data removed]",
            "text/plain": [
              "<Figure size 576x576 with 1 Axes>"
            ]
          },
          "metadata": {
            "tags": []
          }
        }
      ]
    },
    {
      "cell_type": "code",
      "metadata": {
        "id": "3VOfirxRXuyW",
        "colab_type": "code",
        "colab": {}
      },
      "source": [
        ""
      ],
      "execution_count": 129,
      "outputs": []
    },
    {
      "cell_type": "code",
      "metadata": {
        "id": "6LUEYjYdX5G0",
        "colab_type": "code",
        "colab": {
          "base_uri": "https://localhost:8080/",
          "height": 265
        },
        "outputId": "892773b1-8eb2-42b8-a5b6-38f3adc81880"
      },
      "source": [
        "# plot age at histogram\n",
        "\n",
        "plt.hist(dnd_sales_df[\"Age_at_Shoot_Date\"], bins=50)\n",
        "plt.show()"
      ],
      "execution_count": 130,
      "outputs": [
        {
          "output_type": "display_data",
          "data": {
            "image/png": "[encoded data removed]",
            "text/plain": [
              "<Figure size 432x288 with 1 Axes>"
            ]
          },
          "metadata": {
            "tags": [],
            "needs_background": "light"
          }
        }
      ]
    },
    {
      "cell_type": "code",
      "metadata": {
        "id": "099cfB6uf7gU",
        "colab_type": "code",
        "colab": {
          "base_uri": "https://localhost:8080/",
          "height": 301
        },
        "outputId": "579410cf-faf7-4cfa-e34f-69757ccb8338"
      },
      "source": [
        "# lets try bar here\n",
        "dnd_sales_df[\"Age_Range\"].value_counts(sort=False).plot.bar()\n"
      ],
      "execution_count": 131,
      "outputs": [
        {
          "output_type": "execute_result",
          "data": {
            "text/plain": [
              "<matplotlib.axes._subplots.AxesSubplot at 0x7fbc10ed4eb8>"
            ]
          },
          "metadata": {
            "tags": []
          },
          "execution_count": 131
        },
        {
          "output_type": "display_data",
          "data": {
            "image/png": "[encoded data removed]",
            "text/plain": [
              "<Figure size 432x288 with 1 Axes>"
            ]
          },
          "metadata": {
            "tags": [],
            "needs_background": "light"
          }
        }
      ]
    },
    {
      "cell_type": "code",
      "metadata": {
        "id": "Zb3AdraJtD1l",
        "colab_type": "code",
        "colab": {
          "base_uri": "https://localhost:8080/",
          "height": 265
        },
        "outputId": "e9b9cc84-9ace-4767-e0b4-3dcfeae9e18e"
      },
      "source": [
        "plt.hist(dnd_sales_df[\"Sales_total\"], bins=40)\n",
        "plt.show()"
      ],
      "execution_count": 132,
      "outputs": [
        {
          "output_type": "display_data",
          "data": {
            "image/png": "[encoded data removed]",
            "text/plain": [
              "<Figure size 432x288 with 1 Axes>"
            ]
          },
          "metadata": {
            "tags": [],
            "needs_background": "light"
          }
        }
      ]
    },
    {
      "cell_type": "code",
      "metadata": {
        "id": "RHzukuLeSIyq",
        "colab_type": "code",
        "colab": {}
      },
      "source": [
        "# plt.hist(dnd_highest_codes_df[\"Sales_total\"], bins=40)\n",
        "# plt.show()"
      ],
      "execution_count": 133,
      "outputs": []
    },
    {
      "cell_type": "code",
      "metadata": {
        "id": "dFBo-L0sSeyW",
        "colab_type": "code",
        "colab": {}
      },
      "source": [
        ""
      ],
      "execution_count": 133,
      "outputs": []
    },
    {
      "cell_type": "code",
      "metadata": {
        "id": "a0BiaWoVW20c",
        "colab_type": "code",
        "colab": {
          "base_uri": "https://localhost:8080/",
          "height": 265
        },
        "outputId": "8cfa3694-021f-4971-c29f-f3b5c5b215e7"
      },
      "source": [
        "# This graph improved I might be able to use\n",
        "# showing: no real correlation between age and sales total\n",
        "plt.scatter(dnd_sales_df[\"Age_at_Shoot_Date\"],dnd_sales_df[\"Sales_total\"], alpha=.3)\n",
        "\n",
        "\n",
        "plt.show()"
      ],
      "execution_count": 134,
      "outputs": [
        {
          "output_type": "display_data",
          "data": {
            "image/png": "[encoded data removed]",
            "text/plain": [
              "<Figure size 432x288 with 1 Axes>"
            ]
          },
          "metadata": {
            "tags": [],
            "needs_background": "light"
          }
        }
      ]
    },
    {
      "cell_type": "code",
      "metadata": {
        "id": "Ct5FWDNden9V",
        "colab_type": "code",
        "colab": {
          "base_uri": "https://localhost:8080/",
          "height": 265
        },
        "outputId": "56b035d9-765c-4f6f-d827-ebb87b72dc5b"
      },
      "source": [
        "# This graph is also a maybe, but but I could use a box plot maybe\n",
        "# showing no real correlation - sample size for the latter age group\n",
        "plt.scatter(dnd_sales_df[\"Age_Range\"],dnd_sales_df[\"Sales_total\"], alpha=.1)\n",
        "plt.show()"
      ],
      "execution_count": 135,
      "outputs": [
        {
          "output_type": "display_data",
          "data": {
            "image/png": "[encoded data removed]",
            "text/plain": [
              "<Figure size 432x288 with 1 Axes>"
            ]
          },
          "metadata": {
            "tags": [],
            "needs_background": "light"
          }
        }
      ]
    },
    {
      "cell_type": "code",
      "metadata": {
        "id": "icJy3tpxPnn9",
        "colab_type": "code",
        "colab": {}
      },
      "source": [
        "# fig, ax = plt.subplots(figsize = (8,8))\n",
        "\n",
        "\n",
        "# plt.savefig('bar_chart_average_hourly_wage_comparison.png')\n",
        "\n",
        "# # set label axis\n",
        "# plt.ylabel(\"Average Hourly Wage\",fontsize=20, color= \"#454545\")\n",
        "\n",
        "# ax.set_xticklabels(labels=photog_hourly_df.columns, fontsize=13, color= \"#454545\")\n",
        "# ax.set_yticklabels(labels=[0,10,20,30,40,50,60,70,80], fontsize=11, color= \"#454545\")\n",
        "\n",
        "# # make graph \n",
        "# plt.bar(x=photog_hourly_df.columns, height=photog_hourly_df.loc[0,:], width=.7,\n",
        "#         color= [\"b\",\"y\",\"r\"])\n",
        "\n",
        "# # photog_hourly_df.plot.bar()\n",
        "\n",
        "# #remove spines\n",
        "# ax.spines['left'].set_visible(False)\n",
        "# ax.spines['top'].set_visible(False)\n",
        "# ax.spines['right'].set_visible(False)\n",
        "# ax.spines['bottom'].set_visible(False)"
      ],
      "execution_count": 136,
      "outputs": []
    },
    {
      "cell_type": "code",
      "metadata": {
        "id": "5uPz334JkkWX",
        "colab_type": "code",
        "colab": {
          "base_uri": "https://localhost:8080/",
          "height": 504
        },
        "outputId": "2811f5cf-90ae-4785-e88c-8b4f223d480b"
      },
      "source": [
        "# consistent result across Age Ranges but I need\n",
        "\n",
        "\n",
        "\n",
        "ax = dnd_sales_df.boxplot(by=\"Age_Range\", column=\"Sales_total\", figsize=(10,7),\n",
        "                          showfliers=False, patch_artist=True,\n",
        "                          boxprops=dict(facecolor=\"#b36969\", color=\"#b36969\"))\n",
        "\n",
        "# patch.set_facecolor(\"#b36969\")\n",
        "\n",
        "# Set bg \n",
        "\n",
        "fig.set_facecolor(\"#F0F0F0\")\n",
        "\n",
        "# set graph background \n",
        "\n",
        "ax.set_facecolor(\"#F0F0F0\")\n",
        "\n",
        "\n",
        "# set axis labls\n",
        "\n",
        "\n",
        "ax.set_ylabel(\"Sales Total\", fontsize=20, color= \"#454545\")\n",
        "ax.set_xlabel(\"\", fontsize=17, color= \"#454545\")\n",
        "\n",
        "\n",
        "\n",
        "age_labels = dnd_sales_df[\"Age_Range\"].value_counts(sort=False).index\n",
        "\n",
        "ax.set_xticklabels(labels= age_labels, fontsize=13, color= \"#454545\")\n",
        "\n",
        "\n",
        "# remove grid lines\n",
        "ax.grid(False)\n",
        "\n",
        "grph_title = \"Mean Sale by Client Age\"\n",
        "ax.set_title(grph_title, fontsize=19, fontweight = \"bold\", x =.45, y=1.05, \n",
        "             color=\"#474747\" )\n",
        "\n",
        "# Subtitle\n",
        "subtitle_ = 'Age at Date of Shoot'\n",
        "ax.text(s= subtitle_, fontsize = 17, x=3.5, y= -500,\n",
        "        color=\"#454545\")\n",
        "\n",
        "# #remove spines\n",
        "ax.spines['left'].set_visible(False)\n",
        "ax.spines['top'].set_visible(False)\n",
        "ax.spines['right'].set_visible(False)\n",
        "ax.spines['bottom'].set_visible(False)\n",
        "\n",
        "plt.suptitle(\"\")\n",
        "plt.savefig('boxplot_age_range_v_sales.png')\n",
        "plt.show()"
      ],
      "execution_count": 137,
      "outputs": [
        {
          "output_type": "display_data",
          "data": {
            "image/png": "[encoded data removed]",
            "text/plain": [
              "<Figure size 720x504 with 1 Axes>"
            ]
          },
          "metadata": {
            "tags": [],
            "needs_background": "light"
          }
        }
      ]
    },
    {
      "cell_type": "code",
      "metadata": {
        "id": "M6xf2fNtfJ2Q",
        "colab_type": "code",
        "colab": {}
      },
      "source": [
        "# so I could take the mean sale, with an error bar to show there isn't much\n",
        "# difference .\n",
        "\n",
        "\n",
        "\n",
        "# bring some of my old functions in.  \n"
      ],
      "execution_count": 138,
      "outputs": []
    },
    {
      "cell_type": "code",
      "metadata": {
        "id": "bEDiMctlJu6N",
        "colab_type": "code",
        "colab": {}
      },
      "source": [
        ""
      ],
      "execution_count": 138,
      "outputs": []
    },
    {
      "cell_type": "code",
      "metadata": {
        "id": "B2BIFH8qUY7q",
        "colab_type": "code",
        "colab": {
          "base_uri": "https://localhost:8080/",
          "height": 879
        },
        "outputId": "ea834e2f-ecf1-4574-ffa2-19fbcf71f5e4"
      },
      "source": [
        "\n",
        "\n",
        "fig, ax = plt.subplots(figsize = (28,14))\n",
        "\n",
        "# fig, ax = plt.subplots(figsize=(6, 3), subplot_kw=dict(aspect=\"equal\"))\n",
        "\n",
        "\n",
        "# Set bg \n",
        "\n",
        "fig.set_facecolor(\"#F0F0F0\")\n",
        "\n",
        "# set graph background \n",
        "\n",
        "ax.set_facecolor(\"#F0F0F0\")\n",
        "\n",
        "#make graph\n",
        "plt.scatter(dnd_sales_df[\"zip_code\"],dnd_sales_df[\"Sales_total\"], alpha=.4, \n",
        "            c=dnd_color, s=150)\n",
        "\n",
        "\n",
        "# label axis\n",
        "plt.ylabel(\"Sales Total\", fontsize=30, color= \"#454545\")\n",
        "\n",
        "ax.set_yticklabels(labels=[0,0, 500, 1000, 1500,2000,2500,3000], fontsize=20, color= \"#454545\")\n",
        "\n",
        "\n",
        "# rotate xticks\n",
        "plt.xticks(rotation=90)\n",
        "\n",
        "# set title\n",
        "plt.title('Sales by Zip Code', fontsize=50, color= \"#454545\")\n",
        "\n",
        "\n",
        "#remove spines\n",
        "ax.spines['left'].set_visible(False)\n",
        "ax.spines['top'].set_visible(False)\n",
        "ax.spines['right'].set_visible(False)\n",
        "ax.spines['bottom'].set_visible(False)\n",
        "\n",
        "\n",
        "\n",
        "plt.savefig(\"zip_code_vs_total_sales.png\")\n",
        "\n",
        "plt.show()\n",
        "\n",
        "# I need to find a better way to show this graph.  I like that it splits the \n",
        "# sales data geographically, but the level is granularity is too much\n",
        "# change graph of zip code so that codes are vertical\n"
      ],
      "execution_count": 139,
      "outputs": [
        {
          "output_type": "display_data",
          "data": {
            "image/png": "[encoded data removed]",
            "text/plain": [
              "<Figure size 2016x1008 with 1 Axes>"
            ]
          },
          "metadata": {
            "tags": []
          }
        }
      ]
    },
    {
      "cell_type": "code",
      "metadata": {
        "id": "PIrVfx1HcWwY",
        "colab_type": "code",
        "colab": {}
      },
      "source": [
        "# dnd_highest_codes_df[\"zip_code\"].value_counts()"
      ],
      "execution_count": 140,
      "outputs": []
    },
    {
      "cell_type": "code",
      "metadata": {
        "id": "20YvitrEutFl",
        "colab_type": "code",
        "colab": {}
      },
      "source": [
        "# dnd_highest_codes_df[\"Hair\"].value_counts()"
      ],
      "execution_count": 141,
      "outputs": []
    },
    {
      "cell_type": "code",
      "metadata": {
        "id": "6BUblM1JtgW4",
        "colab_type": "code",
        "colab": {}
      },
      "source": [
        "# dnd_lowest_codes_df[\"zip_code\"].value_counts()"
      ],
      "execution_count": 142,
      "outputs": []
    },
    {
      "cell_type": "code",
      "metadata": {
        "id": "a7MwQ5MXueMh",
        "colab_type": "code",
        "colab": {}
      },
      "source": [
        "# dnd_lowest_codes_df[\"Hair\"].value_counts()"
      ],
      "execution_count": 143,
      "outputs": []
    },
    {
      "cell_type": "code",
      "metadata": {
        "id": "afpjiGmWup6a",
        "colab_type": "code",
        "colab": {}
      },
      "source": [
        ""
      ],
      "execution_count": 143,
      "outputs": []
    },
    {
      "cell_type": "code",
      "metadata": {
        "id": "K6-CvP7duk9L",
        "colab_type": "code",
        "colab": {}
      },
      "source": [
        ""
      ],
      "execution_count": 143,
      "outputs": []
    },
    {
      "cell_type": "code",
      "metadata": {
        "id": "kHacmG9aV_9M",
        "colab_type": "code",
        "colab": {}
      },
      "source": [
        "# dnd_highest_codes_df[\"zip_code\"].value_counts().plot()"
      ],
      "execution_count": 144,
      "outputs": []
    },
    {
      "cell_type": "code",
      "metadata": {
        "id": "_1YGN1I54U60",
        "colab_type": "code",
        "colab": {}
      },
      "source": [
        ""
      ],
      "execution_count": 144,
      "outputs": []
    },
    {
      "cell_type": "code",
      "metadata": {
        "id": "cAOQAaGrcE6u",
        "colab_type": "code",
        "colab": {
          "base_uri": "https://localhost:8080/",
          "height": 450
        },
        "outputId": "17261cf2-1780-49ab-a034-331b72b57763"
      },
      "source": [
        "# cross tab - I will need to bin /cut the Sales sessions to do an evocative crosstab\n",
        "# but I can try it now, just to see\n",
        "# based on this I need to bin the Sales into maybe 5 categories. \n",
        "# and bin the zip codes into 2/4/8 categories\n",
        "\n",
        "cross=pd.crosstab(dnd_sales_df[\"Sales_total\"], dnd_sales_df[\"Hair\"])\n",
        "cross"
      ],
      "execution_count": 145,
      "outputs": [
        {
          "output_type": "execute_result",
          "data": {
            "text/html": [
              "<div>\n",
              "<style scoped>\n",
              "    .dataframe tbody tr th:only-of-type {\n",
              "        vertical-align: middle;\n",
              "    }\n",
              "\n",
              "    .dataframe tbody tr th {\n",
              "        vertical-align: top;\n",
              "    }\n",
              "\n",
              "    .dataframe thead th {\n",
              "        text-align: right;\n",
              "    }\n",
              "</style>\n",
              "<table border=\"1\" class=\"dataframe\">\n",
              "  <thead>\n",
              "    <tr style=\"text-align: right;\">\n",
              "      <th>Hair</th>\n",
              "      <th>no</th>\n",
              "      <th>yes</th>\n",
              "    </tr>\n",
              "    <tr>\n",
              "      <th>Sales_total</th>\n",
              "      <th></th>\n",
              "      <th></th>\n",
              "    </tr>\n",
              "  </thead>\n",
              "  <tbody>\n",
              "    <tr>\n",
              "      <th>0</th>\n",
              "      <td>14</td>\n",
              "      <td>4</td>\n",
              "    </tr>\n",
              "    <tr>\n",
              "      <th>80</th>\n",
              "      <td>5</td>\n",
              "      <td>2</td>\n",
              "    </tr>\n",
              "    <tr>\n",
              "      <th>90</th>\n",
              "      <td>1</td>\n",
              "      <td>0</td>\n",
              "    </tr>\n",
              "    <tr>\n",
              "      <th>160</th>\n",
              "      <td>13</td>\n",
              "      <td>1</td>\n",
              "    </tr>\n",
              "    <tr>\n",
              "      <th>200</th>\n",
              "      <td>1</td>\n",
              "      <td>0</td>\n",
              "    </tr>\n",
              "    <tr>\n",
              "      <th>...</th>\n",
              "      <td>...</td>\n",
              "      <td>...</td>\n",
              "    </tr>\n",
              "    <tr>\n",
              "      <th>2200</th>\n",
              "      <td>1</td>\n",
              "      <td>0</td>\n",
              "    </tr>\n",
              "    <tr>\n",
              "      <th>2400</th>\n",
              "      <td>0</td>\n",
              "      <td>1</td>\n",
              "    </tr>\n",
              "    <tr>\n",
              "      <th>2520</th>\n",
              "      <td>1</td>\n",
              "      <td>1</td>\n",
              "    </tr>\n",
              "    <tr>\n",
              "      <th>2730</th>\n",
              "      <td>1</td>\n",
              "      <td>0</td>\n",
              "    </tr>\n",
              "    <tr>\n",
              "      <th>3000</th>\n",
              "      <td>0</td>\n",
              "      <td>1</td>\n",
              "    </tr>\n",
              "  </tbody>\n",
              "</table>\n",
              "<p>68 rows × 2 columns</p>\n",
              "</div>"
            ],
            "text/plain": [
              "Hair         no  yes\n",
              "Sales_total         \n",
              "0            14    4\n",
              "80            5    2\n",
              "90            1    0\n",
              "160          13    1\n",
              "200           1    0\n",
              "...          ..  ...\n",
              "2200          1    0\n",
              "2400          0    1\n",
              "2520          1    1\n",
              "2730          1    0\n",
              "3000          0    1\n",
              "\n",
              "[68 rows x 2 columns]"
            ]
          },
          "metadata": {
            "tags": []
          },
          "execution_count": 145
        }
      ]
    },
    {
      "cell_type": "code",
      "metadata": {
        "id": "17CfD3dfT-JH",
        "colab_type": "code",
        "colab": {
          "base_uri": "https://localhost:8080/",
          "height": 280
        },
        "outputId": "2b5edaf3-6265-425b-e968-56885296e447"
      },
      "source": [
        "cross.plot();"
      ],
      "execution_count": 146,
      "outputs": [
        {
          "output_type": "display_data",
          "data": {
            "image/png": "[encoded data removed]",
            "text/plain": [
              "<Figure size 432x288 with 1 Axes>"
            ]
          },
          "metadata": {
            "tags": [],
            "needs_background": "light"
          }
        }
      ]
    },
    {
      "cell_type": "code",
      "metadata": {
        "id": "Z6YnAW6ffSsw",
        "colab_type": "code",
        "colab": {}
      },
      "source": [
        "# lets check the sales data for the hair and no hair groups\n",
        "cond_mu_only = dnd_sales_df[\"Hair\"] == \"no\"\n",
        "cond_wHair = dnd_sales_df[\"Hair\"] == \"yes\"\n",
        "\n",
        "\n",
        "dnd_makeup_only_df = dnd_sales_df[cond_mu_only]\n",
        "dnd_w_hair_df = dnd_sales_df[cond_wHair]"
      ],
      "execution_count": 147,
      "outputs": []
    },
    {
      "cell_type": "code",
      "metadata": {
        "id": "Z0QYKOUvksD0",
        "colab_type": "code",
        "colab": {
          "base_uri": "https://localhost:8080/",
          "height": 297
        },
        "outputId": "5abcda3e-3f58-4234-9969-04d96a1850e4"
      },
      "source": [
        "dnd_makeup_only_df.describe() # "
      ],
      "execution_count": 148,
      "outputs": [
        {
          "output_type": "execute_result",
          "data": {
            "text/html": [
              "<div>\n",
              "<style scoped>\n",
              "    .dataframe tbody tr th:only-of-type {\n",
              "        vertical-align: middle;\n",
              "    }\n",
              "\n",
              "    .dataframe tbody tr th {\n",
              "        vertical-align: top;\n",
              "    }\n",
              "\n",
              "    .dataframe thead th {\n",
              "        text-align: right;\n",
              "    }\n",
              "</style>\n",
              "<table border=\"1\" class=\"dataframe\">\n",
              "  <thead>\n",
              "    <tr style=\"text-align: right;\">\n",
              "      <th></th>\n",
              "      <th>Session_Fee</th>\n",
              "      <th>Sales_total</th>\n",
              "      <th>Age_at_Shoot_Date</th>\n",
              "    </tr>\n",
              "  </thead>\n",
              "  <tbody>\n",
              "    <tr>\n",
              "      <th>count</th>\n",
              "      <td>231.000000</td>\n",
              "      <td>231.000000</td>\n",
              "      <td>231.000000</td>\n",
              "    </tr>\n",
              "    <tr>\n",
              "      <th>mean</th>\n",
              "      <td>92.380952</td>\n",
              "      <td>711.567100</td>\n",
              "      <td>34.662338</td>\n",
              "    </tr>\n",
              "    <tr>\n",
              "      <th>std</th>\n",
              "      <td>42.195223</td>\n",
              "      <td>455.453347</td>\n",
              "      <td>10.877112</td>\n",
              "    </tr>\n",
              "    <tr>\n",
              "      <th>min</th>\n",
              "      <td>0.000000</td>\n",
              "      <td>0.000000</td>\n",
              "      <td>19.000000</td>\n",
              "    </tr>\n",
              "    <tr>\n",
              "      <th>25%</th>\n",
              "      <td>99.000000</td>\n",
              "      <td>515.000000</td>\n",
              "      <td>26.000000</td>\n",
              "    </tr>\n",
              "    <tr>\n",
              "      <th>50%</th>\n",
              "      <td>99.000000</td>\n",
              "      <td>600.000000</td>\n",
              "      <td>33.000000</td>\n",
              "    </tr>\n",
              "    <tr>\n",
              "      <th>75%</th>\n",
              "      <td>99.000000</td>\n",
              "      <td>950.000000</td>\n",
              "      <td>40.000000</td>\n",
              "    </tr>\n",
              "    <tr>\n",
              "      <th>max</th>\n",
              "      <td>249.000000</td>\n",
              "      <td>2730.000000</td>\n",
              "      <td>72.000000</td>\n",
              "    </tr>\n",
              "  </tbody>\n",
              "</table>\n",
              "</div>"
            ],
            "text/plain": [
              "       Session_Fee  Sales_total  Age_at_Shoot_Date\n",
              "count   231.000000   231.000000         231.000000\n",
              "mean     92.380952   711.567100          34.662338\n",
              "std      42.195223   455.453347          10.877112\n",
              "min       0.000000     0.000000          19.000000\n",
              "25%      99.000000   515.000000          26.000000\n",
              "50%      99.000000   600.000000          33.000000\n",
              "75%      99.000000   950.000000          40.000000\n",
              "max     249.000000  2730.000000          72.000000"
            ]
          },
          "metadata": {
            "tags": []
          },
          "execution_count": 148
        }
      ]
    },
    {
      "cell_type": "code",
      "metadata": {
        "id": "ZcZ9yGngkwyL",
        "colab_type": "code",
        "colab": {
          "base_uri": "https://localhost:8080/",
          "height": 297
        },
        "outputId": "49dd001c-e3bb-410c-c0a7-74a978afeb93"
      },
      "source": [
        "dnd_w_hair_df.describe() # this result is very interesting.  it implies clients \n",
        "# who get hair done spend and average of $100 more!\n",
        "# plus we work one hour less! and the morale of the team improves because the \n",
        "# stylist gets paid more. \n",
        "\n",
        "# perform a t-test with these two sample / or it might be one sample tests\n",
        "# vs the popuplation.  "
      ],
      "execution_count": 149,
      "outputs": [
        {
          "output_type": "execute_result",
          "data": {
            "text/html": [
              "<div>\n",
              "<style scoped>\n",
              "    .dataframe tbody tr th:only-of-type {\n",
              "        vertical-align: middle;\n",
              "    }\n",
              "\n",
              "    .dataframe tbody tr th {\n",
              "        vertical-align: top;\n",
              "    }\n",
              "\n",
              "    .dataframe thead th {\n",
              "        text-align: right;\n",
              "    }\n",
              "</style>\n",
              "<table border=\"1\" class=\"dataframe\">\n",
              "  <thead>\n",
              "    <tr style=\"text-align: right;\">\n",
              "      <th></th>\n",
              "      <th>Session_Fee</th>\n",
              "      <th>Sales_total</th>\n",
              "      <th>Age_at_Shoot_Date</th>\n",
              "    </tr>\n",
              "  </thead>\n",
              "  <tbody>\n",
              "    <tr>\n",
              "      <th>count</th>\n",
              "      <td>94.000000</td>\n",
              "      <td>94.000000</td>\n",
              "      <td>94.000000</td>\n",
              "    </tr>\n",
              "    <tr>\n",
              "      <th>mean</th>\n",
              "      <td>107.180851</td>\n",
              "      <td>803.287234</td>\n",
              "      <td>34.553191</td>\n",
              "    </tr>\n",
              "    <tr>\n",
              "      <th>std</th>\n",
              "      <td>45.255300</td>\n",
              "      <td>518.220438</td>\n",
              "      <td>8.573047</td>\n",
              "    </tr>\n",
              "    <tr>\n",
              "      <th>min</th>\n",
              "      <td>0.000000</td>\n",
              "      <td>0.000000</td>\n",
              "      <td>22.000000</td>\n",
              "    </tr>\n",
              "    <tr>\n",
              "      <th>25%</th>\n",
              "      <td>99.000000</td>\n",
              "      <td>600.000000</td>\n",
              "      <td>28.000000</td>\n",
              "    </tr>\n",
              "    <tr>\n",
              "      <th>50%</th>\n",
              "      <td>99.000000</td>\n",
              "      <td>679.500000</td>\n",
              "      <td>33.000000</td>\n",
              "    </tr>\n",
              "    <tr>\n",
              "      <th>75%</th>\n",
              "      <td>99.000000</td>\n",
              "      <td>1057.500000</td>\n",
              "      <td>39.750000</td>\n",
              "    </tr>\n",
              "    <tr>\n",
              "      <th>max</th>\n",
              "      <td>249.000000</td>\n",
              "      <td>3000.000000</td>\n",
              "      <td>59.000000</td>\n",
              "    </tr>\n",
              "  </tbody>\n",
              "</table>\n",
              "</div>"
            ],
            "text/plain": [
              "       Session_Fee  Sales_total  Age_at_Shoot_Date\n",
              "count    94.000000    94.000000          94.000000\n",
              "mean    107.180851   803.287234          34.553191\n",
              "std      45.255300   518.220438           8.573047\n",
              "min       0.000000     0.000000          22.000000\n",
              "25%      99.000000   600.000000          28.000000\n",
              "50%      99.000000   679.500000          33.000000\n",
              "75%      99.000000  1057.500000          39.750000\n",
              "max     249.000000  3000.000000          59.000000"
            ]
          },
          "metadata": {
            "tags": []
          },
          "execution_count": 149
        }
      ]
    },
    {
      "cell_type": "code",
      "metadata": {
        "id": "VeMECXclVrcR",
        "colab_type": "code",
        "colab": {
          "base_uri": "https://localhost:8080/",
          "height": 34
        },
        "outputId": "84ad9711-a54f-4c98-bae6-40ae20326ef8"
      },
      "source": [
        "dnd_sales_df[\"Hair\"].dtype"
      ],
      "execution_count": 150,
      "outputs": [
        {
          "output_type": "execute_result",
          "data": {
            "text/plain": [
              "CategoricalDtype(categories=['no', 'yes'], ordered=False)"
            ]
          },
          "metadata": {
            "tags": []
          },
          "execution_count": 150
        }
      ]
    },
    {
      "cell_type": "code",
      "metadata": {
        "id": "UdFg0RnyVxYq",
        "colab_type": "code",
        "colab": {}
      },
      "source": [
        ""
      ],
      "execution_count": 150,
      "outputs": []
    },
    {
      "cell_type": "code",
      "metadata": {
        "id": "pVnZ_mwYUYpe",
        "colab_type": "code",
        "colab": {}
      },
      "source": [
        "# pie chart of Makeup vs hair \n",
        "# turn into Df first !!!\n",
        "# Hair value df!\n",
        "dnd_hair_df = pd.DataFrame({\"Service Type\" :dnd_sales_df[\"Hair\"].value_counts()})\n",
        "\n"
      ],
      "execution_count": 151,
      "outputs": []
    },
    {
      "cell_type": "code",
      "metadata": {
        "id": "HBMrSH8zTc3G",
        "colab_type": "code",
        "colab": {
          "base_uri": "https://localhost:8080/",
          "height": 111
        },
        "outputId": "f065374e-30fe-487e-9ab5-e98f603ed0b6"
      },
      "source": [
        "dnd_hair_df = dnd_hair_df.rename(index={\"no\": \"Make-up Only\",\n",
        "                                        \"yes\": \"Hair & Make-up\"})\n",
        "dnd_hair_df"
      ],
      "execution_count": 152,
      "outputs": [
        {
          "output_type": "execute_result",
          "data": {
            "text/html": [
              "<div>\n",
              "<style scoped>\n",
              "    .dataframe tbody tr th:only-of-type {\n",
              "        vertical-align: middle;\n",
              "    }\n",
              "\n",
              "    .dataframe tbody tr th {\n",
              "        vertical-align: top;\n",
              "    }\n",
              "\n",
              "    .dataframe thead th {\n",
              "        text-align: right;\n",
              "    }\n",
              "</style>\n",
              "<table border=\"1\" class=\"dataframe\">\n",
              "  <thead>\n",
              "    <tr style=\"text-align: right;\">\n",
              "      <th></th>\n",
              "      <th>Service Type</th>\n",
              "    </tr>\n",
              "  </thead>\n",
              "  <tbody>\n",
              "    <tr>\n",
              "      <th>Make-up Only</th>\n",
              "      <td>231</td>\n",
              "    </tr>\n",
              "    <tr>\n",
              "      <th>Hair &amp; Make-up</th>\n",
              "      <td>94</td>\n",
              "    </tr>\n",
              "  </tbody>\n",
              "</table>\n",
              "</div>"
            ],
            "text/plain": [
              "                Service Type\n",
              "Make-up Only             231\n",
              "Hair & Make-up            94"
            ]
          },
          "metadata": {
            "tags": []
          },
          "execution_count": 152
        }
      ]
    },
    {
      "cell_type": "code",
      "metadata": {
        "id": "OP4T_TDCgdMZ",
        "colab_type": "code",
        "colab": {
          "base_uri": "https://localhost:8080/",
          "height": 34
        },
        "outputId": "05ae95bc-e3f8-4d76-ad3f-f049e1027732"
      },
      "source": [
        "231+94"
      ],
      "execution_count": 153,
      "outputs": [
        {
          "output_type": "execute_result",
          "data": {
            "text/plain": [
              "325"
            ]
          },
          "metadata": {
            "tags": []
          },
          "execution_count": 153
        }
      ]
    },
    {
      "cell_type": "code",
      "metadata": {
        "id": "eLAgov9aghme",
        "colab_type": "code",
        "colab": {
          "base_uri": "https://localhost:8080/",
          "height": 34
        },
        "outputId": "3b8d6765-76d1-49b7-c9da-e15d9298b011"
      },
      "source": [
        "231/325\n"
      ],
      "execution_count": 154,
      "outputs": [
        {
          "output_type": "execute_result",
          "data": {
            "text/plain": [
              "0.7107692307692308"
            ]
          },
          "metadata": {
            "tags": []
          },
          "execution_count": 154
        }
      ]
    },
    {
      "cell_type": "code",
      "metadata": {
        "id": "ETWrMkIvgkPW",
        "colab_type": "code",
        "colab": {
          "base_uri": "https://localhost:8080/",
          "height": 34
        },
        "outputId": "ac0a9136-ba58-4110-8782-3ddb04d9a39c"
      },
      "source": [
        "94/325"
      ],
      "execution_count": 155,
      "outputs": [
        {
          "output_type": "execute_result",
          "data": {
            "text/plain": [
              "0.28923076923076924"
            ]
          },
          "metadata": {
            "tags": []
          },
          "execution_count": 155
        }
      ]
    },
    {
      "cell_type": "code",
      "metadata": {
        "id": "kGCuWTeXgqC9",
        "colab_type": "code",
        "colab": {
          "base_uri": "https://localhost:8080/",
          "height": 600
        },
        "outputId": "702a05dd-eff9-4755-a1a5-7ec912af9539"
      },
      "source": [
        "fig, ax = plt.subplots(figsize = (10,10))\n",
        "\n",
        "explode = (0,.05)\n",
        "\n",
        "plt.pie(dnd_hair_df[\"Service Type\"], labels=[\"Make-up Only\", \"Hair & Make-up\"],\n",
        "        autopct='%1.1f%%', explode = explode, textprops={'size': 20 },\n",
        "        colors=[worse_color, dnd_color] )\n",
        "\n",
        "# Set bg \n",
        "\n",
        "fig.set_facecolor(\"#F0F0F0\")\n",
        "\n",
        "# set graph background \n",
        "\n",
        "ax.set_facecolor(\"#F0F0F0\")\n",
        "\n",
        "\n",
        "# set title\n",
        "plt.title('Styling Choice', fontsize=25, color= \"#454545\")\n",
        "\n",
        "ax.axis(\"equal\")\n",
        "plt.savefig(\"pie_chart_makeup_v_hair.png\")\n",
        "plt.show()"
      ],
      "execution_count": 156,
      "outputs": [
        {
          "output_type": "display_data",
          "data": {
            "image/png": "[encoded data removed]",
            "text/plain": [
              "<Figure size 720x720 with 1 Axes>"
            ]
          },
          "metadata": {
            "tags": []
          }
        }
      ]
    },
    {
      "cell_type": "code",
      "metadata": {
        "id": "rPhWr_zijo4z",
        "colab_type": "code",
        "colab": {}
      },
      "source": [
        ""
      ],
      "execution_count": 156,
      "outputs": []
    },
    {
      "cell_type": "code",
      "metadata": {
        "id": "fP6mV456WyuT",
        "colab_type": "code",
        "colab": {}
      },
      "source": [
        "\n",
        "\n",
        "# # plot the pie\n",
        "# dnd_hair_df.plot.pie(y=\"Service Type\",fontsize=15, figsize=(10,10))\n",
        "\n",
        "# plt.axes().set_ylabel('')\n",
        "# # try to rotate the label\n",
        "# plt.yticks(rotation=90)\n",
        "\n",
        "# fig, ax = plt.subplots(figsize = (10,10))\n",
        "# # set title\n",
        "# plt.title('Styling Choice', fontsize=20, color= \"#454545\")\n",
        "\n",
        "# # Subtitle\n",
        "# mu_pct = '71%'\n",
        "# hair_pct = \"29%\"\n",
        "# ax.text(s= mu_pct, fontsize = 17, x=0, y= 0,\n",
        "#         color=\"#454545\")\n",
        "# ax.text(s= hair_pct, fontsize = 17, x=0, y=0,\n",
        "#         color=\"#454545\")\n",
        "\n",
        "\n",
        "\n",
        "\n",
        "\n",
        "# plt.show()"
      ],
      "execution_count": 157,
      "outputs": []
    },
    {
      "cell_type": "code",
      "metadata": {
        "id": "aHUASSj8XQLO",
        "colab_type": "code",
        "colab": {}
      },
      "source": [
        "\n",
        "def get_confidence_interval(sample, confidence_level):\n",
        "\n",
        "  # in because we like some np functions \n",
        "  # make a np array for our sample\n",
        "  sample_np_array = np.array(sample)\n",
        "\n",
        "  # variables we need for the calculations are \n",
        "  # std_dev, sample size, t-statistic\n",
        "\n",
        "  std_dev = np.std(sample_np_array, ddof=1)\n",
        "  sample_size = sample_np_array.shape[0]\n",
        "\n",
        "  #here's the new one: from scipy stats \n",
        "  # Percent Point Function (Inverse of CDF)\n",
        "  # this value take ?? percent of data that  as a parameter\n",
        "  # does same thing as university of I. applet\n",
        "  tstat = stats.t.ppf(1 - ((1 - confidence_level) / 2), sample_size-1)\n",
        "\n",
        "  # need the sample mean as x_bar\n",
        "  x_bar = np.mean(sample_np_array)\n",
        "\n",
        "  # I need the standard error =\n",
        "  # standard deviation / squareroot of sample size\n",
        "  std_err = (std_dev/np.sqrt(sample_size))\n",
        "\n",
        "  # now I need the Margin of Error\n",
        "  # which is tstat * standard error\n",
        "  moe = tstat*std_err\n",
        "\n",
        "  # then for info purposes lets return the \n",
        "  # lower and upper bounds\n",
        "\n",
        "  lower_bound = x_bar - moe\n",
        "  upper_bound = x_bar + moe\n",
        "\n",
        "  confidence_int = namedtuple(\"confidence_interval\", [\"lower_bound\", \"xbar\",\"upper_bound\",\"moe\", ])\n",
        "\n",
        "  # return (lower_bound, x_bar, upper_bound, moe)\n",
        "  return confidence_int(lower_bound, x_bar, upper_bound, moe)"
      ],
      "execution_count": 158,
      "outputs": []
    },
    {
      "cell_type": "code",
      "metadata": {
        "id": "rctlFldFsRtV",
        "colab_type": "code",
        "colab": {}
      },
      "source": [
        "mu_sample_values = get_confidence_interval(dnd_makeup_only_df[\"Sales_total\"], .95)\n",
        "hair_sample_values = get_confidence_interval(dnd_w_hair_df[\"Sales_total\"], .95)"
      ],
      "execution_count": 159,
      "outputs": []
    },
    {
      "cell_type": "code",
      "metadata": {
        "id": "tNVDI4W15VyW",
        "colab_type": "code",
        "colab": {
          "base_uri": "https://localhost:8080/",
          "height": 111
        },
        "outputId": "ffd38c14-a4fc-4d0d-f48d-e338c85a59df"
      },
      "source": [
        "# photoshoot ev comparison table\n",
        "\n",
        "ev_comparison_df = pd.DataFrame({\"Services\": [\"Make-up ONLY\", \"Hair & Make-up\"],\"Consultation Time\": [1, 1], \"Shoot Time\" : [3,2],\n",
        "                                 \"Processing Time\": [4,3], \"Sales Time\": [1,1],\n",
        "                                 \"Mean Sale\": [\"$711\", \"$803\"], \"Hourly Wage\": [\"$79\", \"$114\"] })\n",
        "ev_comparison_df\n"
      ],
      "execution_count": 160,
      "outputs": [
        {
          "output_type": "execute_result",
          "data": {
            "text/html": [
              "<div>\n",
              "<style scoped>\n",
              "    .dataframe tbody tr th:only-of-type {\n",
              "        vertical-align: middle;\n",
              "    }\n",
              "\n",
              "    .dataframe tbody tr th {\n",
              "        vertical-align: top;\n",
              "    }\n",
              "\n",
              "    .dataframe thead th {\n",
              "        text-align: right;\n",
              "    }\n",
              "</style>\n",
              "<table border=\"1\" class=\"dataframe\">\n",
              "  <thead>\n",
              "    <tr style=\"text-align: right;\">\n",
              "      <th></th>\n",
              "      <th>Services</th>\n",
              "      <th>Consultation Time</th>\n",
              "      <th>Shoot Time</th>\n",
              "      <th>Processing Time</th>\n",
              "      <th>Sales Time</th>\n",
              "      <th>Mean Sale</th>\n",
              "      <th>Hourly Wage</th>\n",
              "    </tr>\n",
              "  </thead>\n",
              "  <tbody>\n",
              "    <tr>\n",
              "      <th>0</th>\n",
              "      <td>Make-up ONLY</td>\n",
              "      <td>1</td>\n",
              "      <td>3</td>\n",
              "      <td>4</td>\n",
              "      <td>1</td>\n",
              "      <td>$711</td>\n",
              "      <td>$79</td>\n",
              "    </tr>\n",
              "    <tr>\n",
              "      <th>1</th>\n",
              "      <td>Hair &amp; Make-up</td>\n",
              "      <td>1</td>\n",
              "      <td>2</td>\n",
              "      <td>3</td>\n",
              "      <td>1</td>\n",
              "      <td>$803</td>\n",
              "      <td>$114</td>\n",
              "    </tr>\n",
              "  </tbody>\n",
              "</table>\n",
              "</div>"
            ],
            "text/plain": [
              "         Services  Consultation Time  ...  Mean Sale  Hourly Wage\n",
              "0    Make-up ONLY                  1  ...       $711          $79\n",
              "1  Hair & Make-up                  1  ...       $803         $114\n",
              "\n",
              "[2 rows x 7 columns]"
            ]
          },
          "metadata": {
            "tags": []
          },
          "execution_count": 160
        }
      ]
    },
    {
      "cell_type": "code",
      "metadata": {
        "id": "zXFV2VjtsMAS",
        "colab_type": "code",
        "colab": {
          "base_uri": "https://localhost:8080/",
          "height": 1000
        },
        "outputId": "5bf540fa-b6c1-4c40-9280-ffc0d2ce97ef"
      },
      "source": [
        "\n",
        "# ax = plt.gca()\n",
        "# #  figsize=(10,10)\n",
        "\n",
        "# plt.figure(figsize=(10,10))\n",
        "\n",
        "fig, ax = plt.subplots(figsize = (26,19))\n",
        "\n",
        "\n",
        "\n",
        "# this graph I\"m keeping and improving\n",
        "plt.bar(0, height=mu_sample_values.xbar, yerr=mu_sample_values.moe,\n",
        "        color=worse_color)\n",
        "plt.bar(1, height=hair_sample_values.xbar, yerr=hair_sample_values.moe,\n",
        "        color=dnd_color)\n",
        "\n",
        "plt.title('Average Sales Session Mu vs Hair')\n",
        "\n",
        "# Set bg \n",
        "\n",
        "fig.set_facecolor(\"#F0F0F0\")\n",
        "\n",
        "# set graph background \n",
        "\n",
        "ax.set_facecolor(\"#F0F0F0\")\n",
        "\n",
        "# label the x and y axis\n",
        "\n",
        "\n",
        "plt.ylabel(\"Mean Sales\", fontsize=38, color= \"#454545\")\n",
        "\n",
        "# adjust  y ticks \n",
        "ax.set_yticklabels(labels=[0, 200, 400, 600,800], fontsize=28, color= \"#454545\")\n",
        "\n",
        "# get rid of x ticks/labels\n",
        "ax.axes.xaxis.set_visible(False)\n",
        "\n",
        "# table at bottom\n",
        "\n",
        "lightbl_color = \"#4780b3\"\n",
        "lighto_color = \"#ffb25e\"\n",
        "middle_color = \"#fb8b24\"\n",
        "worse_color= \"#0f4c5c\"\n",
        "dnd_color =\"#8C031C\"\n",
        "\n",
        "colors = [[\"#F0F0F0\",\"#F0F0F0\",\"#F0F0F0\",\"#F0F0F0\",\"#4f6b75\", \"#4f6b75\"],\n",
        "          [ \"#F0F0F0\",\"#F0F0F0\",\"#F0F0F0\",\"#F0F0F0\",\"#b36969\", \"#b36969\"]]\n",
        "\n",
        "cellText=[]\n",
        "for row in ev_comparison_df[\"Services\"]:\n",
        "  cellText.append(row)\n",
        "table = plt.table(cellText=ev_comparison_df.iloc[:,1:].values,\n",
        "                  rowLabels=ev_comparison_df[\"Services\"],\n",
        "                  colLabels=ev_comparison_df.columns[1:],\n",
        "                  cellColours=colors, \n",
        "                  loc='bottom')\n",
        "\n",
        "table.set_fontsize(25)\n",
        "table.scale(1,4)\n",
        "\n",
        "# add title\n",
        "ev_title = \"Expected Value: Make-up vs Hair and Make-up\"\n",
        "plt.title(ev_title, fontsize=35, color= \"#454545\", fontweight = \"bold\", x =.45, y=1.05)\n",
        "\n",
        "\n",
        "#remove spines\n",
        "ax.spines['left'].set_visible(False)\n",
        "ax.spines['top'].set_visible(False)\n",
        "ax.spines['right'].set_visible(False)\n",
        "ax.spines['bottom'].set_visible(False)\n",
        "\n",
        "\n",
        "\n",
        "plt.savefig('ev_sales_mu_v_hair.png')\n",
        "\n",
        "plt.show()"
      ],
      "execution_count": 161,
      "outputs": [
        {
          "output_type": "display_data",
          "data": {
            "image/png": "[encoded data removed]",
            "text/plain": [
              "<Figure size 1872x1368 with 1 Axes>"
            ]
          },
          "metadata": {
            "tags": []
          }
        }
      ]
    },
    {
      "cell_type": "code",
      "metadata": {
        "id": "rnNUNW35oru6",
        "colab_type": "code",
        "colab": {}
      },
      "source": [
        "# create and plot table from df\n",
        "\n",
        "\n",
        "# cellText=[]\n",
        "# for row in ev_comparison_df[\"Services\"]:\n",
        "#   cellText.append(row)\n",
        "# table = plt.table(cellText=ev_comparison_df.values,\n",
        "#                       rowLabels=ev_comparison_df[\"Services\"],\n",
        "#                       colLabels=ev_comparison_df.columns)\n",
        "\n",
        "table;"
      ],
      "execution_count": 162,
      "outputs": []
    },
    {
      "cell_type": "code",
      "metadata": {
        "id": "wE-5sl9noOmT",
        "colab_type": "code",
        "colab": {
          "base_uri": "https://localhost:8080/",
          "height": 34
        },
        "outputId": "73000f55-9397-43d9-cb1a-b1146f53d452"
      },
      "source": [
        "stats.ttest_ind(dnd_makeup_only_df[\"Sales_total\"], dnd_w_hair_df[\"Sales_total\"])"
      ],
      "execution_count": 163,
      "outputs": [
        {
          "output_type": "execute_result",
          "data": {
            "text/plain": [
              "Ttest_indResult(statistic=-1.5804058267736067, pvalue=0.11499268514229982)"
            ]
          },
          "metadata": {
            "tags": []
          },
          "execution_count": 163
        }
      ]
    },
    {
      "cell_type": "markdown",
      "metadata": {
        "id": "Z7v_4lKJ-6sf",
        "colab_type": "text"
      },
      "source": [
        "I believe I would interpret these results as:\n",
        "Assuming a 95% confidence level - Based on a tstat of -1.58 and pvalue of approximately .11499,\n",
        "I FAIL to reject the null hypothesis that clients who get make-up only spend the same amount on average as clients who get professional hair and make-up. \n"
      ]
    },
    {
      "cell_type": "code",
      "metadata": {
        "id": "5AkZA65_9TgC",
        "colab_type": "code",
        "colab": {
          "base_uri": "https://localhost:8080/",
          "height": 34
        },
        "outputId": "8a2868a5-1310-4ebf-92f9-1828b7d3d182"
      },
      "source": [
        "# try a one sample ttest\n",
        "dnd_sales_df[\"Sales_total\"].mean()"
      ],
      "execution_count": 164,
      "outputs": [
        {
          "output_type": "execute_result",
          "data": {
            "text/plain": [
              "738.0953846153847"
            ]
          },
          "metadata": {
            "tags": []
          },
          "execution_count": 164
        }
      ]
    },
    {
      "cell_type": "code",
      "metadata": {
        "id": "aLVEZJb_9hsQ",
        "colab_type": "code",
        "colab": {
          "base_uri": "https://localhost:8080/",
          "height": 34
        },
        "outputId": "df7436a6-db00-43b2-c7c3-5960e7e3a7b3"
      },
      "source": [
        "stats.ttest_1samp(dnd_w_hair_df[\"Sales_total\"], 738)"
      ],
      "execution_count": 165,
      "outputs": [
        {
          "output_type": "execute_result",
          "data": {
            "text/plain": [
              "Ttest_1sampResult(statistic=1.221455529067876, pvalue=0.22500091941150033)"
            ]
          },
          "metadata": {
            "tags": []
          },
          "execution_count": 165
        }
      ]
    },
    {
      "cell_type": "code",
      "metadata": {
        "id": "rQ9J0hRX9zW_",
        "colab_type": "code",
        "colab": {
          "base_uri": "https://localhost:8080/",
          "height": 850
        },
        "outputId": "bcdb4abc-e703-4673-cc60-9b0dd5d2def0"
      },
      "source": [
        "# bar and pie chart.  Favorites categories maybe top 10.  \n",
        "print(dnd_sales_df[\"Favorite\"].value_counts().sum())\n",
        "dnd_sales_df[\"Favorite\"].value_counts()\n"
      ],
      "execution_count": 166,
      "outputs": [
        {
          "output_type": "stream",
          "text": [
            "325\n"
          ],
          "name": "stdout"
        },
        {
          "output_type": "execute_result",
          "data": {
            "text/plain": [
              "no preference               158\n",
              "butt                         61\n",
              "boobs                        33\n",
              "legs                          9\n",
              "butt, eyes                    7\n",
              "eyes                          7\n",
              "boobs, legs                   6\n",
              "butt, legs                    3\n",
              "eyes, legs                    2\n",
              "boobs, eyes                   2\n",
              "eyes, hair, legs              1\n",
              "chest, eyes, neck             1\n",
              "butt, eyes, hair              1\n",
              "butt, decoletage, legs        1\n",
              "back, eyes                    1\n",
              "hair                          1\n",
              "legs, shoulder, smile         1\n",
              "legs, feet                    1\n",
              "cheek_bones, eyes, lips       1\n",
              "boobs, eyes, legs             1\n",
              "eyes, smile                   1\n",
              "thighs                        1\n",
              "legs, pale_skin               1\n",
              "butt, curves, face            1\n",
              "back, butt, legs              1\n",
              "butt, hips, legs              1\n",
              "silouette                     1\n",
              "boobs, curves                 1\n",
              "butt, curves                  1\n",
              "arms, muscles                 1\n",
              "boobs, smile                  1\n",
              "hips                          1\n",
              "butt, legs, neck              1\n",
              "butt, hair, legs              1\n",
              "freckles, smile               1\n",
              "back, tattoo                  1\n",
              "butt, decoletage              1\n",
              "back, butt                    1\n",
              "boobs, butt, eyes, smile      1\n",
              "butt, hair, legs,             1\n",
              "back, eyes, neck              1\n",
              "abs, butt                     1\n",
              "boobs, butt                   1\n",
              "waist                         1\n",
              "smile                         1\n",
              "boobs, shoulder               1\n",
              "butt, back                    1\n",
              "Name: Favorite, dtype: int64"
            ]
          },
          "metadata": {
            "tags": []
          },
          "execution_count": 166
        }
      ]
    },
    {
      "cell_type": "code",
      "metadata": {
        "id": "iVRozuGbQ5do",
        "colab_type": "code",
        "colab": {}
      },
      "source": [
        "# df of preference value counts  \n",
        "dnd_preference_df = pd.DataFrame({\"Preference\" :dnd_sales_df[\"Favorite\"].value_counts()})\n",
        "#top 10 preference\n"
      ],
      "execution_count": 167,
      "outputs": []
    },
    {
      "cell_type": "code",
      "metadata": {
        "id": "fN6rv3FgDu69",
        "colab_type": "code",
        "colab": {}
      },
      "source": [
        ""
      ],
      "execution_count": 167,
      "outputs": []
    },
    {
      "cell_type": "code",
      "metadata": {
        "id": "8t61hFdcZlmg",
        "colab_type": "code",
        "colab": {
          "base_uri": "https://localhost:8080/",
          "height": 622
        },
        "outputId": "cb4c3d53-4134-4ba8-d69f-55a345a7b2fd"
      },
      "source": [
        "\n",
        "fig, ax = plt.subplots(figsize = (9,9))\n",
        "\n",
        "\n",
        "# Set bg \n",
        "\n",
        "fig.set_facecolor(\"#F0F0F0\")\n",
        "\n",
        "# set graph background \n",
        "\n",
        "ax.set_facecolor(\"#F0F0F0\")\n",
        "\n",
        "# dnd_preference_df[\"Preference\"].iloc[1:11,].sort_values(ascending=False).plot.bar()\n",
        "plt.bar(x=dnd_preference_df.index.values[1:11], \n",
        "        height=dnd_preference_df[\"Preference\"].iloc[1:11,].sort_values(ascending=False),\n",
        "        width=.7, color= [dnd_color,middle_color,middle_color, middle_color,\n",
        "                          middle_color, worse_color, worse_color ,worse_color,\n",
        "                          worse_color, worse_color])\n",
        "\n",
        "# set label axis\n",
        "# plt.ylabel(\"Average Hourly Wage\",fontsize=20, color= \"#454545\")\n",
        "\n",
        "ax.set_xticklabels(labels=dnd_preference_df.index.values[1:11], fontsize=12, color= \"#454545\")\n",
        "plt.ylabel(\"Number of Requests\", fontsize=13, color= \"#454545\")\n",
        "\n",
        "# rotate x axis a bit\n",
        "plt.xticks(rotation=45)\n",
        "\n",
        "#add Title Most Requested Photo Preference \n",
        "plt.title('Most Requested Body Part', fontsize=20, color= \"#454545\")\n",
        "\n",
        "#adjust fonts\n",
        "\n",
        "#add colors \n",
        "\n",
        "# remove the spines\n",
        "ax.spines['left'].set_visible(False)\n",
        "ax.spines['top'].set_visible(False)\n",
        "ax.spines['right'].set_visible(False)\n",
        "ax.spines['bottom'].set_visible(False)\n",
        "\n",
        "plt.savefig('bar_chart_top_ten_favorites.png')\n",
        "\n",
        "#this y axis should be percentages rather can counts"
      ],
      "execution_count": 168,
      "outputs": [
        {
          "output_type": "display_data",
          "data": {
            "image/png": "[encoded data removed]",
            "text/plain": [
              "<Figure size 648x648 with 1 Axes>"
            ]
          },
          "metadata": {
            "tags": []
          }
        }
      ]
    },
    {
      "cell_type": "code",
      "metadata": {
        "id": "J60mNB0uUAms",
        "colab_type": "code",
        "colab": {}
      },
      "source": [
        ""
      ],
      "execution_count": 168,
      "outputs": []
    },
    {
      "cell_type": "code",
      "metadata": {
        "id": "mnWgpE3tSIRV",
        "colab_type": "code",
        "colab": {}
      },
      "source": [
        ""
      ],
      "execution_count": 168,
      "outputs": []
    },
    {
      "cell_type": "code",
      "metadata": {
        "id": "42d2tGl79Zw3",
        "colab_type": "code",
        "colab": {}
      },
      "source": [
        ""
      ],
      "execution_count": 168,
      "outputs": []
    },
    {
      "cell_type": "code",
      "metadata": {
        "id": "hdNiPHaGSzhH",
        "colab_type": "code",
        "colab": {
          "base_uri": "https://localhost:8080/",
          "height": 283
        },
        "outputId": "3847b1b5-8d21-4c78-dfb3-c87510c9bab5"
      },
      "source": [
        "#lets graph the distribution with a histogram\n",
        "\n",
        "plt.hist(x=dnd_df[\"Favorite\"], bins=70)\n",
        "plt.show"
      ],
      "execution_count": 169,
      "outputs": [
        {
          "output_type": "execute_result",
          "data": {
            "text/plain": [
              "<function matplotlib.pyplot.show>"
            ]
          },
          "metadata": {
            "tags": []
          },
          "execution_count": 169
        },
        {
          "output_type": "display_data",
          "data": {
            "image/png": "[encoded data removed]",
            "text/plain": [
              "<Figure size 432x288 with 1 Axes>"
            ]
          },
          "metadata": {
            "tags": [],
            "needs_background": "light"
          }
        }
      ]
    },
    {
      "cell_type": "code",
      "metadata": {
        "id": "ZJq260z6czxr",
        "colab_type": "code",
        "colab": {}
      },
      "source": [
        ""
      ],
      "execution_count": 169,
      "outputs": []
    },
    {
      "cell_type": "code",
      "metadata": {
        "id": "c9AGHMGBcuqc",
        "colab_type": "code",
        "colab": {}
      },
      "source": [
        ""
      ],
      "execution_count": 169,
      "outputs": []
    },
    {
      "cell_type": "code",
      "metadata": {
        "id": "SlqgEgmtU4rC",
        "colab_type": "code",
        "colab": {}
      },
      "source": [
        ""
      ],
      "execution_count": 169,
      "outputs": []
    },
    {
      "cell_type": "code",
      "metadata": {
        "id": "pIYA4O3mUjpl",
        "colab_type": "code",
        "colab": {}
      },
      "source": [
        ""
      ],
      "execution_count": 169,
      "outputs": []
    },
    {
      "cell_type": "code",
      "metadata": {
        "id": "RoOIVfKUUOyc",
        "colab_type": "code",
        "colab": {}
      },
      "source": [
        ""
      ],
      "execution_count": 169,
      "outputs": []
    },
    {
      "cell_type": "code",
      "metadata": {
        "id": "PNOSNQS1TOck",
        "colab_type": "code",
        "colab": {}
      },
      "source": [
        ""
      ],
      "execution_count": 169,
      "outputs": []
    },
    {
      "cell_type": "markdown",
      "metadata": {
        "id": "s6zscxAnW_Aa",
        "colab_type": "text"
      },
      "source": [
        "# **Sexy in the City**\n",
        "### Or Can data driven analysis help you stop worrying and increase your hourly wage by $35 while photographing people in undies?\n",
        "\n",
        "  With the rise of social media and cellphones it’s safe to say anyone can consider themselves to be an accomplished amateur photographer.  But while the amateur and hobbyist can point and shoot indiscriminately,  in order to earn a living creating images, the professional must be discerning about what they capture  - and thus the various genre’s of professional photography arrise.  Parsing the topic even further, if your metric is gross income, all photographic genres are not created equal.  Which brings us to the subject of our exploration - a relatively obscure but potentially lucrative niche genre of photography, called Intimate Portraiture, or more commonly known as Boudoir Photography.   If photography studios were restaurant’s, think of the boudoir photo studio as the equivalent of a restaurant that’s only open for lunch or breakfast…in bed. \n",
        "\n",
        "  For this project I was able to source data from the most successful boudoir photography studio in Northeast Florida - a little mom-and-pop shop called Diamonds and Desire Boudoir Photography.    (Link) To put the success of this two person operation in context, the nation wide average hourly wage for professional photography according to ZipRecruiter as of July 20, 2020 was \\$21\\/hour, while the average for northeast florida was \\$19\\/hour.   However D&D Photography averages $80\\/man-hour.  \n",
        "\n",
        "**Chart comparing average hourly.**\n",
        "\n",
        "Although the business had been in operation for over 10 years,  and the studio did have other sources of income(other genres of photography, studio equipment rentals, etc), the data set I was able to source amounted to gross sales totaling a little less than a quarter of a million dollars over a 6 year period.  With that said, the goal of the project was to give 3 data driven, actionable insights, based on an anatomy of the specific business model of Diamonds and Desire.   That business model anatomy was comprised of: Preshoot Consultation(Booking the client), Photoshoot (executing the service),  and Sales Sessions.\n",
        "\n",
        "### Delectable Data left on the table\n",
        "\n",
        "Let’s begin with insight relevant to the Preshoot consultation as this grants further context into the domain in general.  The data for the project was compiled from records of the consultations and records of sales.  So while it does include features like booking date, date of birth, zip code, session fee, and sales total, etc. There were other variables that were almost always revealed due to the nature of the consultation, but not recorded with the proper nuance or consistency: Occasion of shoot( anniversary, birthday, father’s day, valentine’s day, x-mas, or perhaps no occasion!). Being located in a navy town, many of the clients were in the military, or military spouses, but this was not consistently recorded.  Ethnicity and gender, were also not recorded with enough nuance to be useful. From the sales information, the sales total and product quantity/type was documented, but the type of photograph was not categorized in the sales data with enough nuance.  Were the photographs close up, wide shots, black and white, color, high key, or low key?   These are all metrics which could affect the businesses marketing decision and perhaps shooting practices. And once again this is data that was collected and available, but just not recorded suitably.  Therefore I would recommend adding these to the variables recorded going forward.  \n",
        "\n",
        "### “Hmm! I like my …” - anonymous client reaction\n",
        "\n",
        "As for insight regarding the second facet of the business, the actual photoshoot, there was a particular feature extremely relevant to service execution and general success of the business. The “Favorite” variable was defined as which body part the client was most interested in highlighting or having exceptional photographs of.  So it follows that the Favorite feature revealed what most clients expect a boudoir photographer to be good at shooting.  In contrast, while a family photographer would be expected to deliver solid group shots - relying on skill at herding and staging people, a succesful wedding photographer might develop skill at recognizing or staging beautiful moments, a headshot specialist might gather an arsenal of corny jokes.  But in boudoir photography, the data shows, that among clients that have a preference,  the expectation by an almost two to one margin is for exceptional shots of… the booty. \n",
        "\n",
        "**Chart of Favorite values counts**\n",
        "\n",
        " To thrive one must cultivate an appreciation of the booty, in all sizes and shapes - the right wardrobe and posing for the booty, the right angle and lens for the booty.  The bottom line… your corny jokes aren’t going to help, because if you’re going to meet client expectations, it’s literally your job to present the booty in it’s best light.\n",
        "\n",
        "### Too Sexy for my Zip Code?\n",
        "\n",
        "Now it’s time to get to, dare I say, the sexist feature in the data set: Sales Total.  Ideally we’d be able to gather from the data which other feature correlates most closely with a high sales total.  Although there’s a common tendency to be seduced by the notion of wealth and zip code tracking closely,  our data does not support this.  In this business domain zip code does not correlate with a higher sales. \n",
        "\n",
        "Chart of Zip code vs Sales Total\n",
        "\n",
        "Even when we examine the age of the clients and sales records there is still no obvious correlation.  All age ranges tend toward the same mean sales total.\n",
        "\n",
        "**Chart of Age Range vs Sales Total**\n",
        "\n",
        "These were disappointing results as they could have been exploited via marketing.      The quest for the elusive highly correlated feature-pair seemed lost, until we examined one innocuous variable: “Hair.”  This feature was simply a record of whether the photographer was to schedule a professional hairstylist on the day of the shoot.  (Professional make up artist services were included with every shoot.)  The distribution of make-up only clients vs those who chose to pay an additional fee for professional hair styling is illustrated below:\n",
        "\n",
        "**Pie chart Make-up only  vs Hair and Make-up**\n",
        "\n",
        "### Hair Love\n",
        "\n",
        "Surprisingly, when compare to each other the average sales total for a client who opted for a hair stylist was nearly \\$100 more than clients who only received professional makeup.  That is an 11% increase in sales at no expense to the business!  So, clients who had already spent additional money for the service went on to spend even more.  \n",
        "\n",
        "**Chart of Make-up only vs Hair and Make-up mean sales**\n",
        "\n",
        "But the most starling consequence of this discovery was yet to come.  It turns out that since professional hair service takes about 1 hour of the photoshoot time, that is time that the photographer is free to do other things, be it book clients and administrative tasks, or pursue leisure.  In addition, the amount of photos taking during the shoot are a factor of the time spent shooting.  Thus one hour less photos taken reduce the post processing workload and time.  So, where as a shoot with make-up only, may take 9 hours (1 consult, 3 hour shoot, 4 hours post, 1 hour sales) and result in an average sale of \\$711 or \\\\$79\\/hour.  A shoot with make up and professional hair styling will only take 7 hours (1 consult, 2 hour shoot, 3 hours post, 1 hours sales)  and result in an average sale of \\\\\\$803 or \\\\\\$114\\/hour!  An increase of 35  hour! \\*\n",
        "\n",
        "### Conclusion: \n",
        "\n",
        "In summary, this project shows that even a “mom-and-pop shop” small business can gain valuable insights across all aspects their business domain through data analysis.  These insights can  be specific and revelvant to a particular business model and positively effect the bottom line.\n",
        "\n",
        "\\*  A two sample TTest was conducted with the following results: Assuming a 95% confidence level - Based on a tstat of -1.58 and pvalue of approximately .11499, I FAIL to reject the null hypothesis that clients who get make-up only spend the same amount on average as clients who get professional hair and make-up.\n"
      ]
    }
  ]
}