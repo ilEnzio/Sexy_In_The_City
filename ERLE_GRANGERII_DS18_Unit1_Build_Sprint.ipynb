{
  "nbformat": 4,
  "nbformat_minor": 0,
  "metadata": {
    "colab": {
      "name": "ERLE_GRANGERII_DS18_Unit1_Build_Sprint.ipynb",
      "provenance": [],
      "authorship_tag": "ABX9TyPVmadtGUZrrtlDjM0P7Y16",
      "include_colab_link": true
    },
    "kernelspec": {
      "name": "python3",
      "display_name": "Python 3"
    }
  },
  "cells": [
    {
      "cell_type": "markdown",
      "metadata": {
        "id": "view-in-github",
        "colab_type": "text"
      },
      "source": [
        "<a href=\"https://colab.research.google.com/github/ilEnzio/Sexy_In_The_City/blob/master/ERLE_GRANGERII_DS18_Unit1_Build_Sprint.ipynb\" target=\"_parent\"><img src=\"https://colab.research.google.com/assets/colab-badge.svg\" alt=\"Open In Colab\"/></a>"
      ]
    },
    {
      "cell_type": "markdown",
      "metadata": {
        "id": "T__KH3eNT5TT",
        "colab_type": "text"
      },
      "source": [
        "All the Libraries and Modules"
      ]
    },
    {
      "cell_type": "code",
      "metadata": {
        "id": "o2d1v_f_SwMa",
        "colab_type": "code",
        "colab": {}
      },
      "source": [
        "\n",
        "import numpy as np\n",
        "import pandas as pd\n",
        "import matplotlib.pyplot as plt\n",
        "from scipy import stats\n",
        "from collections import namedtuple\n",
        "import operator"
      ],
      "execution_count": 2,
      "outputs": []
    },
    {
      "cell_type": "markdown",
      "metadata": {
        "id": "mTblZM6YUJtS",
        "colab_type": "text"
      },
      "source": [
        "The Cleaned DataSet\n",
        "(for the original data set, exploration and cleaning process, please refer to the other notebook.)"
      ]
    },
    {
      "cell_type": "code",
      "metadata": {
        "id": "xcojolzGXlYT",
        "colab_type": "code",
        "colab": {}
      },
      "source": [
        "dnd_df = pd.read_csv(\"https://raw.githubusercontent.com/ilEnzio/Sexy_In_The_City/master/DND_clean_data.csv\")"
      ],
      "execution_count": 3,
      "outputs": []
    },
    {
      "cell_type": "markdown",
      "metadata": {
        "id": "7_eAZPG5T9dy",
        "colab_type": "text"
      },
      "source": [
        "All the DataFrames and their defintions"
      ]
    },
    {
      "cell_type": "code",
      "metadata": {
        "id": "Tvdn2J-Wd3N1",
        "colab_type": "code",
        "colab": {
          "base_uri": "https://localhost:8080/",
          "height": 34
        },
        "outputId": "9e9103e7-6801-49d3-cf33-741a6b253c00"
      },
      "source": [
        "# zcode_sale_df - subset of clean dataset with only the Zip Code and Sales Total Features\n",
        "zcode_sales_df = pd.DataFrame({\"zip_code\": dnd_df[\"zip_code\"], \"sales_total\": dnd_df[\"Sales_total\"]})\n",
        "zcode_sales_df.shape"
      ],
      "execution_count": 4,
      "outputs": [
        {
          "output_type": "execute_result",
          "data": {
            "text/plain": [
              "(325, 2)"
            ]
          },
          "metadata": {
            "tags": []
          },
          "execution_count": 4
        }
      ]
    },
    {
      "cell_type": "code",
      "metadata": {
        "id": "Ae4MVtOOesJ-",
        "colab_type": "code",
        "colab": {
          "base_uri": "https://localhost:8080/",
          "height": 80
        },
        "outputId": "ae17e774-50ec-4807-8a1b-cb6b3795f8e8"
      },
      "source": [
        "# photog_hourly_df - photographer average hourly wage according to ZipRecruiter\n",
        "# and the D&D hourly wage\n",
        "photog_hourly_df = pd.DataFrame({\"Nation Wide\": [21], \"Northeast Florida\": [19],\n",
        "                                 \"Diamonds & Desire\": [80]})\n",
        "photog_hourly_df"
      ],
      "execution_count": 5,
      "outputs": [
        {
          "output_type": "execute_result",
          "data": {
            "text/html": [
              "<div>\n",
              "<style scoped>\n",
              "    .dataframe tbody tr th:only-of-type {\n",
              "        vertical-align: middle;\n",
              "    }\n",
              "\n",
              "    .dataframe tbody tr th {\n",
              "        vertical-align: top;\n",
              "    }\n",
              "\n",
              "    .dataframe thead th {\n",
              "        text-align: right;\n",
              "    }\n",
              "</style>\n",
              "<table border=\"1\" class=\"dataframe\">\n",
              "  <thead>\n",
              "    <tr style=\"text-align: right;\">\n",
              "      <th></th>\n",
              "      <th>Nation Wide</th>\n",
              "      <th>Northeast Florida</th>\n",
              "      <th>Diamonds &amp; Desire</th>\n",
              "    </tr>\n",
              "  </thead>\n",
              "  <tbody>\n",
              "    <tr>\n",
              "      <th>0</th>\n",
              "      <td>21</td>\n",
              "      <td>19</td>\n",
              "      <td>80</td>\n",
              "    </tr>\n",
              "  </tbody>\n",
              "</table>\n",
              "</div>"
            ],
            "text/plain": [
              "   Nation Wide  Northeast Florida  Diamonds & Desire\n",
              "0           21                 19                 80"
            ]
          },
          "metadata": {
            "tags": []
          },
          "execution_count": 5
        }
      ]
    },
    {
      "cell_type": "code",
      "metadata": {
        "id": "I-1Fi7dhfMzv",
        "colab_type": "code",
        "colab": {}
      },
      "source": [
        "# dnd_makeup_only_df - subset of main df which only includes those who did NOT\n",
        "# get professional Hair done. \n",
        "\n",
        "cond_mu_only = dnd_df[\"Hair\"] == \"no\"\n",
        "dnd_makeup_only_df = dnd_df[cond_mu_only]\n"
      ],
      "execution_count": 7,
      "outputs": []
    },
    {
      "cell_type": "code",
      "metadata": {
        "id": "vXZkNtBAgDAS",
        "colab_type": "code",
        "colab": {}
      },
      "source": [
        "# dnd_w_hair_df - subset of main df which only includes those who DID\n",
        "# get professional Hair done.\n",
        "\n",
        "cond_wHair = dnd_df[\"Hair\"] == \"yes\"\n",
        "dnd_w_hair_df = dnd_df[cond_wHair]\n",
        "\n"
      ],
      "execution_count": 9,
      "outputs": []
    },
    {
      "cell_type": "code",
      "metadata": {
        "id": "-OrsvYXdiWF2",
        "colab_type": "code",
        "colab": {}
      },
      "source": [
        "# dnd_styling_df - this df illustrates the value counts of make up or hair styling choice\n",
        "dnd_styling_df = pd.DataFrame({\"Service Type\" :dnd_df[\"Hair\"].value_counts()})\n",
        "dnd_styling_df = dnd_hair_df.rename(index={\"no\": \"Make-up Only\",\n",
        "                                        \"yes\": \"Hair & Make-up\"})"
      ],
      "execution_count": 11,
      "outputs": []
    },
    {
      "cell_type": "code",
      "metadata": {
        "id": "h4xTY4mjiHgq",
        "colab_type": "code",
        "colab": {}
      },
      "source": [
        "dnd_styling_df\n"
      ],
      "execution_count": null,
      "outputs": []
    },
    {
      "cell_type": "code",
      "metadata": {
        "id": "cD2KLZnUi8Jp",
        "colab_type": "code",
        "colab": {}
      },
      "source": [
        "# dnd_preference_df - illustrates the value counts of the \"Favorite\" feature \n",
        "# of the main dataset\n",
        "\n",
        "dnd_preference_df = pd.DataFrame({\"Preference\" :dnd_df[\"Favorite\"].value_counts()})"
      ],
      "execution_count": 13,
      "outputs": []
    },
    {
      "cell_type": "code",
      "metadata": {
        "id": "0e2rkIVqk7iV",
        "colab_type": "code",
        "colab": {}
      },
      "source": [
        ""
      ],
      "execution_count": null,
      "outputs": []
    },
    {
      "cell_type": "markdown",
      "metadata": {
        "id": "ITHjwg3XUc4n",
        "colab_type": "text"
      },
      "source": [
        "Variable which will be used throughout the notebook\n"
      ]
    },
    {
      "cell_type": "code",
      "metadata": {
        "id": "fLpFqqvsfKUm",
        "colab_type": "code",
        "colab": {}
      },
      "source": [
        "middle_color = \"#fb8b24\"\n",
        "worse_color= \"#0f4c5c\"\n",
        "dnd_color =\"#8C031C\""
      ],
      "execution_count": null,
      "outputs": []
    },
    {
      "cell_type": "markdown",
      "metadata": {
        "id": "aoIfsZZDjG9n",
        "colab_type": "text"
      },
      "source": [
        "Functions used throughout the notebook"
      ]
    },
    {
      "cell_type": "code",
      "metadata": {
        "id": "OIxQPnwyjGeT",
        "colab_type": "code",
        "colab": {}
      },
      "source": [
        "#  This functin will be helpful in generating an error bar graph\n",
        "#  it outputs Margin of error, Upper and Lower Bound as a Named Tuple\n",
        "\n",
        "def get_confidence_interval(sample, confidence_level):\n",
        "\n",
        "  # because we like some np functions \n",
        "  # make a np array for our sample\n",
        "  sample_np_array = np.array(sample)\n",
        "\n",
        "  # variables we need for the calculations are \n",
        "  # std_dev, sample size, t-statistic\n",
        "\n",
        "  std_dev = np.std(sample_np_array, ddof=1)\n",
        "  sample_size = sample_np_array.shape[0]\n",
        "\n",
        "  #here's the new one: from scipy stats \n",
        "  # Percent Point Function (Inverse of CDF)\n",
        "  # this value take ?? percent of data that  as a parameter\n",
        "  # does same thing as university of I. applet\n",
        "  tstat = stats.t.ppf(1 - ((1 - confidence_level) / 2), sample_size-1)\n",
        "\n",
        "  # need the sample mean as x_bar\n",
        "  x_bar = np.mean(sample_np_array)\n",
        "\n",
        "  # I need the standard error =\n",
        "  # standard deviation / squareroot of sample size\n",
        "  std_err = (std_dev/np.sqrt(sample_size))\n",
        "\n",
        "  # now I need the Margin of Error\n",
        "  # which is tstat * standard error\n",
        "  moe = tstat*std_err\n",
        "\n",
        "  # then for info purposes lets return the \n",
        "  # lower and upper bounds\n",
        "\n",
        "  lower_bound = x_bar - moe\n",
        "  upper_bound = x_bar + moe\n",
        "\n",
        "  confidence_int = namedtuple(\"confidence_interval\", [\"lower_bound\", \"xbar\",\"upper_bound\",\"moe\", ])\n",
        "\n",
        "  # return (lower_bound, x_bar, upper_bound, moe)\n",
        "  return confidence_int(lower_bound, x_bar, upper_bound, moe)"
      ],
      "execution_count": null,
      "outputs": []
    }
  ]
}